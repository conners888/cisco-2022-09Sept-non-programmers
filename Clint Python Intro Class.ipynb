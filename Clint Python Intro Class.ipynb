{
 "cells": [
  {
   "cell_type": "code",
   "execution_count": 4,
   "id": "9660c3cb",
   "metadata": {},
   "outputs": [
    {
     "name": "stdout",
     "output_type": "stream",
     "text": [
      "Clint\n",
      "30\n"
     ]
    }
   ],
   "source": [
    "print('Clint')\n",
    "\n",
    "x= 10 # assogm the number 10 to x\n",
    "y= 20 # assign the number 20 to y\n",
    "\n",
    "print(x+y) # first add x and y together, and print the resulting value \n",
    "\n",
    "\n"
   ]
  },
  {
   "cell_type": "code",
   "execution_count": 28,
   "id": "1a415b2a",
   "metadata": {},
   "outputs": [
    {
     "data": {
      "text/plain": [
       "False"
      ]
     },
     "execution_count": 28,
     "metadata": {},
     "output_type": "execute_result"
    }
   ],
   "source": [
    "x = 10\n",
    "y = 20\n",
    "\n",
    "x == y #are they the same? \n",
    "\n",
    "\n"
   ]
  },
  {
   "cell_type": "code",
   "execution_count": 15,
   "id": "b6f63c30",
   "metadata": {},
   "outputs": [
    {
     "name": "stdout",
     "output_type": "stream",
     "text": [
      "hello!\n",
      "Hello, again!\n",
      "OK, goodbye!!\n"
     ]
    }
   ],
   "source": [
    "print('hello!')        # just pressing enter goes down one line\n",
    "print('Hello, again!') #again, we'll press ENTER\n",
    "print('OK, goodbye!!') #now, I'll press Shift+Enter, To execute the cell\n",
    "\n",
    "# shift+enter == execute the cell"
   ]
  },
  {
   "cell_type": "code",
   "execution_count": 16,
   "id": "63b0dc58",
   "metadata": {},
   "outputs": [
    {
     "data": {
      "text/plain": [
       "10"
      ]
     },
     "execution_count": 16,
     "metadata": {},
     "output_type": "execute_result"
    }
   ],
   "source": [
    "x"
   ]
  },
  {
   "cell_type": "code",
   "execution_count": 17,
   "id": "0418c877",
   "metadata": {},
   "outputs": [
    {
     "data": {
      "text/plain": [
       "20"
      ]
     },
     "execution_count": 17,
     "metadata": {},
     "output_type": "execute_result"
    }
   ],
   "source": [
    "y"
   ]
  },
  {
   "cell_type": "code",
   "execution_count": 29,
   "id": "16a9b255",
   "metadata": {},
   "outputs": [],
   "source": [
    "name = 'Clint' # assignment\n",
    "name = 'Clint' # here, we ask a question: does the name variable contain the same value as the string 'Clint'?"
   ]
  },
  {
   "cell_type": "code",
   "execution_count": 30,
   "id": "0c27232c",
   "metadata": {},
   "outputs": [
    {
     "data": {
      "text/plain": [
       "str"
      ]
     },
     "execution_count": 30,
     "metadata": {},
     "output_type": "execute_result"
    }
   ],
   "source": [
    "name = 'Clint' #'Clint'\n",
    "type(name) # this asks: what kind of value do I have in the \"name\" variable?this asks: what kind of value is the text string 'name'?"
   ]
  },
  {
   "cell_type": "code",
   "execution_count": 31,
   "id": "a0afecdd",
   "metadata": {},
   "outputs": [
    {
     "data": {
      "text/plain": [
       "str"
      ]
     },
     "execution_count": 31,
     "metadata": {},
     "output_type": "execute_result"
    }
   ],
   "source": [
    "name = 'Clint'\n",
    "type(name)   # this asks: what kind of value do I have in the \"name\" variable?"
   ]
  },
  {
   "cell_type": "code",
   "execution_count": 25,
   "id": "135dea99",
   "metadata": {
    "scrolled": true
   },
   "outputs": [
    {
     "data": {
      "text/plain": [
       "int"
      ]
     },
     "execution_count": 25,
     "metadata": {},
     "output_type": "execute_result"
    }
   ],
   "source": [
    "name = 5\n",
    "\n",
    "type(name) #no quotes, so we're asking: what is the type of value in the \"name\" variable?"
   ]
  },
  {
   "cell_type": "code",
   "execution_count": 26,
   "id": "0c1d40d9",
   "metadata": {},
   "outputs": [
    {
     "data": {
      "text/plain": [
       "str"
      ]
     },
     "execution_count": 26,
     "metadata": {},
     "output_type": "execute_result"
    }
   ],
   "source": [
    "type('name')  # quotes, so we have a string, so..."
   ]
  },
  {
   "cell_type": "code",
   "execution_count": 27,
   "id": "0aae0515",
   "metadata": {},
   "outputs": [
    {
     "name": "stdout",
     "output_type": "stream",
     "text": [
      "Enter your name:Clint\n",
      "Hello, Clint!\n"
     ]
    }
   ],
   "source": [
    "name = input('Enter your name:')\n",
    "\n",
    "if name == 'Robert':       # colon at the end of the line...\n",
    "    print('Hi, boss!')     # ... indentation at the start of a block -- these go together\n",
    "    print('So good to see you again!')\n",
    "else:\n",
    "    print('Hello, ' + name + '!')"
   ]
  },
  {
   "cell_type": "code",
   "execution_count": 32,
   "id": "e1964798",
   "metadata": {},
   "outputs": [
    {
     "ename": "IndentationError",
     "evalue": "expected an indented block after 'if' statement on line 1 (4178352048.py, line 2)",
     "output_type": "error",
     "traceback": [
      "\u001b[0;36m  Cell \u001b[0;32mIn [32], line 2\u001b[0;36m\u001b[0m\n\u001b[0;31m    print('Hello')\u001b[0m\n\u001b[0m    ^\u001b[0m\n\u001b[0;31mIndentationError\u001b[0m\u001b[0;31m:\u001b[0m expected an indented block after 'if' statement on line 1\n"
     ]
    }
   ],
   "source": [
    "if True:\n",
    "print('Hello')  "
   ]
  },
  {
   "cell_type": "code",
   "execution_count": 34,
   "id": "20be0cbf",
   "metadata": {},
   "outputs": [
    {
     "data": {
      "text/plain": [
       "int"
      ]
     },
     "execution_count": 34,
     "metadata": {},
     "output_type": "execute_result"
    }
   ],
   "source": [
    "x = 10 # no decimal point, so this is an integer -- a whole number\n",
    "type(x)"
   ]
  },
  {
   "cell_type": "code",
   "execution_count": 35,
   "id": "83c163f5",
   "metadata": {},
   "outputs": [],
   "source": [
    "y = 3"
   ]
  },
  {
   "cell_type": "code",
   "execution_count": 36,
   "id": "466f8297",
   "metadata": {},
   "outputs": [
    {
     "data": {
      "text/plain": [
       "13"
      ]
     },
     "execution_count": 36,
     "metadata": {},
     "output_type": "execute_result"
    }
   ],
   "source": [
    "x + y\n"
   ]
  },
  {
   "cell_type": "code",
   "execution_count": 37,
   "id": "f88065d3",
   "metadata": {},
   "outputs": [
    {
     "data": {
      "text/plain": [
       "30"
      ]
     },
     "execution_count": 37,
     "metadata": {},
     "output_type": "execute_result"
    }
   ],
   "source": [
    "x * y"
   ]
  },
  {
   "cell_type": "code",
   "execution_count": 38,
   "id": "c31c8545",
   "metadata": {},
   "outputs": [
    {
     "data": {
      "text/plain": [
       "3.3333333333333335"
      ]
     },
     "execution_count": 38,
     "metadata": {},
     "output_type": "execute_result"
    }
   ],
   "source": [
    "x / y # / always retunrs a floating-point number, even if the resuly would be an integer"
   ]
  },
  {
   "cell_type": "code",
   "execution_count": 39,
   "id": "4c6cce8a",
   "metadata": {},
   "outputs": [
    {
     "data": {
      "text/plain": [
       "1.0"
      ]
     },
     "execution_count": 39,
     "metadata": {},
     "output_type": "execute_result"
    }
   ],
   "source": [
    "x / x"
   ]
  },
  {
   "cell_type": "code",
   "execution_count": 40,
   "id": "aea8ec93",
   "metadata": {},
   "outputs": [
    {
     "data": {
      "text/plain": [
       "3"
      ]
     },
     "execution_count": 40,
     "metadata": {},
     "output_type": "execute_result"
    }
   ],
   "source": [
    "x // y # this always retunrs an ineger -- it's known as \"floordiv\"\n"
   ]
  },
  {
   "cell_type": "code",
   "execution_count": 41,
   "id": "4d1bf6af",
   "metadata": {},
   "outputs": [
    {
     "data": {
      "text/plain": [
       "1000"
      ]
     },
     "execution_count": 41,
     "metadata": {},
     "output_type": "execute_result"
    }
   ],
   "source": [
    "x ** y # this means: x to the y power"
   ]
  },
  {
   "cell_type": "code",
   "execution_count": 42,
   "id": "78becf13",
   "metadata": {},
   "outputs": [
    {
     "data": {
      "text/plain": [
       "1"
      ]
     },
     "execution_count": 42,
     "metadata": {},
     "output_type": "execute_result"
    }
   ],
   "source": [
    "x % y "
   ]
  },
  {
   "cell_type": "code",
   "execution_count": 43,
   "id": "1a90dd6a",
   "metadata": {},
   "outputs": [
    {
     "data": {
      "text/plain": [
       "30"
      ]
     },
     "execution_count": 43,
     "metadata": {},
     "output_type": "execute_result"
    }
   ],
   "source": [
    "answer = x * y\n",
    "answer"
   ]
  },
  {
   "cell_type": "code",
   "execution_count": 44,
   "id": "9fafc340",
   "metadata": {},
   "outputs": [
    {
     "data": {
      "text/plain": [
       "11"
      ]
     },
     "execution_count": 44,
     "metadata": {},
     "output_type": "execute_result"
    }
   ],
   "source": [
    "# What happens here?\n",
    "\n",
    "x = 10\n",
    "x = x + 1 # this makes no *mathmatical* sense, but = in python isn't mathmatical equality\n",
    "\n",
    "x"
   ]
  },
  {
   "cell_type": "code",
   "execution_count": 45,
   "id": "33a7e533",
   "metadata": {},
   "outputs": [
    {
     "data": {
      "text/plain": [
       "12"
      ]
     },
     "execution_count": 45,
     "metadata": {},
     "output_type": "execute_result"
    }
   ],
   "source": [
    "# it's so common to say x = x + 1 that theres a shorcut\n",
    "\n",
    "x += 1 #same as x= x + x, known as \"incrementing\"\n",
    "x"
   ]
  },
  {
   "cell_type": "code",
   "execution_count": 49,
   "id": "577e86b1",
   "metadata": {},
   "outputs": [
    {
     "data": {
      "text/plain": [
       "1500"
      ]
     },
     "execution_count": 49,
     "metadata": {},
     "output_type": "execute_result"
    }
   ],
   "source": [
    "#we can also say\n",
    "\n",
    "x *= 5 #same as x = x * 5\n",
    "x"
   ]
  },
  {
   "cell_type": "code",
   "execution_count": 50,
   "id": "fcad8ebd",
   "metadata": {},
   "outputs": [],
   "source": [
    "x -= 1   # this is known as \"decrementing\""
   ]
  },
  {
   "cell_type": "code",
   "execution_count": 51,
   "id": "43d0ba2b",
   "metadata": {},
   "outputs": [],
   "source": [
    "# what's the max size of an integer in Python?\n",
    "\n",
    "# the max size is... determined by the size of your memory. Python will happily consume\n",
    "# all of your RAM to create ever-larger integers."
   ]
  },
  {
   "cell_type": "code",
   "execution_count": 52,
   "id": "b2025fa2",
   "metadata": {},
   "outputs": [
    {
     "ename": "TypeError",
     "evalue": "unsupported operand type(s) for +: 'int' and 'str'",
     "output_type": "error",
     "traceback": [
      "\u001b[0;31m---------------------------------------------------------------------------\u001b[0m",
      "\u001b[0;31mTypeError\u001b[0m                                 Traceback (most recent call last)",
      "Cell \u001b[0;32mIn [52], line 6\u001b[0m\n\u001b[1;32m      3\u001b[0m x \u001b[38;5;241m=\u001b[39m \u001b[38;5;241m10\u001b[39m   \u001b[38;5;66;03m# this is the integer 10\u001b[39;00m\n\u001b[1;32m      4\u001b[0m y \u001b[38;5;241m=\u001b[39m \u001b[38;5;124m'\u001b[39m\u001b[38;5;124m20\u001b[39m\u001b[38;5;124m'\u001b[39m \u001b[38;5;66;03m# this is the string 20\u001b[39;00m\n\u001b[0;32m----> 6\u001b[0m \u001b[43mx\u001b[49m\u001b[43m \u001b[49m\u001b[38;5;241;43m+\u001b[39;49m\u001b[43m \u001b[49m\u001b[43my\u001b[49m\n",
      "\u001b[0;31mTypeError\u001b[0m: unsupported operand type(s) for +: 'int' and 'str'"
     ]
    }
   ],
   "source": [
    "# remember this problem?\n",
    "\n",
    "x = 10   # this is the integer 10\n",
    "y = '20' # this is the string 20\n",
    "\n",
    "x + y"
   ]
  },
  {
   "cell_type": "code",
   "execution_count": 53,
   "id": "d84ed1dd",
   "metadata": {},
   "outputs": [
    {
     "data": {
      "text/plain": [
       "20"
      ]
     },
     "execution_count": 53,
     "metadata": {},
     "output_type": "execute_result"
    }
   ],
   "source": [
    "# to get an integer based on a string, we use \"int\" as a function\n",
    "\n",
    "int(y)   # this returns a new integer based on the string value of y -- it doesn't change y!"
   ]
  },
  {
   "cell_type": "code",
   "execution_count": 54,
   "id": "6a4c6dc0",
   "metadata": {},
   "outputs": [
    {
     "data": {
      "text/plain": [
       "'20'"
      ]
     },
     "execution_count": 54,
     "metadata": {},
     "output_type": "execute_result"
    }
   ],
   "source": [
    "y   # this is still the string '20'"
   ]
  },
  {
   "cell_type": "code",
   "execution_count": 61,
   "id": "82514ec9",
   "metadata": {},
   "outputs": [
    {
     "data": {
      "text/plain": [
       "30"
      ]
     },
     "execution_count": 61,
     "metadata": {},
     "output_type": "execute_result"
    }
   ],
   "source": [
    "x + int(y)  # now we have integer + integer, which is totally OK"
   ]
  },
  {
   "cell_type": "code",
   "execution_count": 62,
   "id": "c2eacdef",
   "metadata": {},
   "outputs": [
    {
     "name": "stdout",
     "output_type": "stream",
     "text": [
      "Enter your favorite number: 72\n",
      "You have terrible taste in numbers.\n"
     ]
    }
   ],
   "source": [
    "n = input('Enter your favorite number: ')\n",
    "\n",
    "# input always, always, ALWAYS returns a string\n",
    "\n",
    "if n == 72:  # here, we're comparing the integer 72 with the *STRING* we got from the user!\n",
    "    print('That is my favorite, also!')\n",
    "else:\n",
    "    print('You have terrible taste in numbers.')"
   ]
  },
  {
   "cell_type": "code",
   "execution_count": 63,
   "id": "57458eee",
   "metadata": {},
   "outputs": [
    {
     "data": {
      "text/plain": [
       "False"
      ]
     },
     "execution_count": 63,
     "metadata": {},
     "output_type": "execute_result"
    }
   ],
   "source": [
    "72 == '72'   # this is the comparison we just ran!"
   ]
  },
  {
   "cell_type": "code",
   "execution_count": 64,
   "id": "e94d30a8",
   "metadata": {},
   "outputs": [
    {
     "name": "stdout",
     "output_type": "stream",
     "text": [
      "Enter your favorite number: 72\n",
      "That is my favorite, also!\n"
     ]
    }
   ],
   "source": [
    "# I can fix this by taking the user's input and turning it into an integer\n",
    "\n",
    "n = input('Enter your favorite number: ')\n",
    "n = int(n)   # get a new integer based on n, and assign it back to the variable n\n",
    "\n",
    "if n == 72: \n",
    "    print('That is my favorite, also!')\n",
    "else:\n",
    "    print('You have terrible taste in numbers.')"
   ]
  },
  {
   "cell_type": "code",
   "execution_count": 65,
   "id": "4798786e",
   "metadata": {},
   "outputs": [
    {
     "data": {
      "text/plain": [
       "1234"
      ]
     },
     "execution_count": 65,
     "metadata": {},
     "output_type": "execute_result"
    }
   ],
   "source": [
    "int('1234')\n"
   ]
  },
  {
   "cell_type": "code",
   "execution_count": 66,
   "id": "537b5c57",
   "metadata": {},
   "outputs": [
    {
     "ename": "ValueError",
     "evalue": "invalid literal for int() with base 10: 'abcd'",
     "output_type": "error",
     "traceback": [
      "\u001b[0;31m---------------------------------------------------------------------------\u001b[0m",
      "\u001b[0;31mValueError\u001b[0m                                Traceback (most recent call last)",
      "Cell \u001b[0;32mIn [66], line 1\u001b[0m\n\u001b[0;32m----> 1\u001b[0m \u001b[38;5;28;43mint\u001b[39;49m\u001b[43m(\u001b[49m\u001b[38;5;124;43m'\u001b[39;49m\u001b[38;5;124;43mabcd\u001b[39;49m\u001b[38;5;124;43m'\u001b[39;49m\u001b[43m)\u001b[49m\n",
      "\u001b[0;31mValueError\u001b[0m: invalid literal for int() with base 10: 'abcd'"
     ]
    }
   ],
   "source": [
    "int('abcd')"
   ]
  },
  {
   "cell_type": "code",
   "execution_count": 67,
   "id": "94261a78",
   "metadata": {},
   "outputs": [
    {
     "data": {
      "text/plain": [
       "False"
      ]
     },
     "execution_count": 67,
     "metadata": {},
     "output_type": "execute_result"
    }
   ],
   "source": [
    "x = 'taxi'\n",
    "y = 'cab'\n",
    "\n",
    "x < y   # does taxi come before cab?"
   ]
  },
  {
   "cell_type": "code",
   "execution_count": 68,
   "id": "347773bd",
   "metadata": {},
   "outputs": [
    {
     "data": {
      "text/plain": [
       "True"
      ]
     },
     "execution_count": 68,
     "metadata": {},
     "output_type": "execute_result"
    }
   ],
   "source": [
    "y < x   # does cab come before taxi?"
   ]
  },
  {
   "cell_type": "code",
   "execution_count": 69,
   "id": "67c54388",
   "metadata": {},
   "outputs": [
    {
     "data": {
      "text/plain": [
       "True"
      ]
     },
     "execution_count": 69,
     "metadata": {},
     "output_type": "execute_result"
    }
   ],
   "source": [
    "x = 'Taxi'  # notice: capital T\n",
    "y = 'cab'\n",
    "\n",
    "x < y   # all capital letters come before all lowercase letters"
   ]
  },
  {
   "cell_type": "code",
   "execution_count": 70,
   "id": "1d7456ea",
   "metadata": {},
   "outputs": [
    {
     "name": "stdout",
     "output_type": "stream",
     "text": [
      "hello\n"
     ]
    }
   ],
   "source": [
    "print('hello')    # Python finds the function called \"print\" and executes it, with \"hello\" as an argument"
   ]
  },
  {
   "cell_type": "code",
   "execution_count": 71,
   "id": "bf684438",
   "metadata": {},
   "outputs": [],
   "source": [
    "# what if I have the crazy idea of assigning to print, as if it were a variable?\n",
    "print='hello'"
   ]
  },
  {
   "cell_type": "code",
   "execution_count": 72,
   "id": "5781c3db",
   "metadata": {},
   "outputs": [
    {
     "ename": "TypeError",
     "evalue": "'str' object is not callable",
     "output_type": "error",
     "traceback": [
      "\u001b[0;31m---------------------------------------------------------------------------\u001b[0m",
      "\u001b[0;31mTypeError\u001b[0m                                 Traceback (most recent call last)",
      "Cell \u001b[0;32mIn [72], line 1\u001b[0m\n\u001b[0;32m----> 1\u001b[0m \u001b[38;5;28;43mprint\u001b[39;49m\u001b[43m(\u001b[49m\u001b[38;5;124;43m'\u001b[39;49m\u001b[38;5;124;43mhello\u001b[39;49m\u001b[38;5;124;43m'\u001b[39;49m\u001b[43m)\u001b[49m\n",
      "\u001b[0;31mTypeError\u001b[0m: 'str' object is not callable"
     ]
    }
   ],
   "source": [
    "print('hello')    # we have redefined print to be a string, not a function"
   ]
  },
  {
   "cell_type": "code",
   "execution_count": 73,
   "id": "0ac97d7b",
   "metadata": {},
   "outputs": [
    {
     "ename": "TypeError",
     "evalue": "'str' object is not callable",
     "output_type": "error",
     "traceback": [
      "\u001b[0;31m---------------------------------------------------------------------------\u001b[0m",
      "\u001b[0;31mTypeError\u001b[0m                                 Traceback (most recent call last)",
      "Cell \u001b[0;32mIn [73], line 1\u001b[0m\n\u001b[0;32m----> 1\u001b[0m \u001b[38;5;28;43mprint\u001b[39;49m\u001b[43m \u001b[49m\u001b[43m(\u001b[49m\u001b[38;5;124;43m'\u001b[39;49m\u001b[38;5;124;43mI am free!\u001b[39;49m\u001b[38;5;124;43m'\u001b[39;49m\u001b[43m)\u001b[49m\n",
      "\u001b[0;31mTypeError\u001b[0m: 'str' object is not callable"
     ]
    }
   ],
   "source": [
    "print ('I am free!')"
   ]
  },
  {
   "cell_type": "code",
   "execution_count": 74,
   "id": "497e830c",
   "metadata": {},
   "outputs": [],
   "source": [
    "# to fix this problem, you can use the \"del\" command, which removes a user-defined\n",
    "# variable, especially when you have overwritten a builtin\n",
    "\n",
    "del(print)"
   ]
  },
  {
   "cell_type": "code",
   "execution_count": 75,
   "id": "5b969b15",
   "metadata": {},
   "outputs": [
    {
     "name": "stdout",
     "output_type": "stream",
     "text": [
      "I am free!\n"
     ]
    }
   ],
   "source": [
    "print('I am free!')"
   ]
  },
  {
   "cell_type": "code",
   "execution_count": 77,
   "id": "29d80105",
   "metadata": {},
   "outputs": [
    {
     "data": {
      "text/plain": [
       "'3.10.4 (main, Jun 29 2022, 12:14:53) [GCC 11.2.0]'"
      ]
     },
     "execution_count": 77,
     "metadata": {},
     "output_type": "execute_result"
    }
   ],
   "source": [
    "import sys\n",
    "sys.version"
   ]
  },
  {
   "cell_type": "code",
   "execution_count": 82,
   "id": "8272f88f",
   "metadata": {},
   "outputs": [
    {
     "ename": "SyntaxError",
     "evalue": "expected ':' (2130232676.py, line 5)",
     "output_type": "error",
     "traceback": [
      "\u001b[0;36m  Cell \u001b[0;32mIn [82], line 5\u001b[0;36m\u001b[0m\n\u001b[0;31m    else #no colon\u001b[0m\n\u001b[0m         ^\u001b[0m\n\u001b[0;31mSyntaxError\u001b[0m\u001b[0;31m:\u001b[0m expected ':'\n"
     ]
    }
   ],
   "source": [
    "x = 10\n",
    "\n",
    "if x == 9:\n",
    "    print('whatever')\n",
    "else #no colon\n",
    "        print('This will not print')"
   ]
  },
  {
   "cell_type": "code",
   "execution_count": 80,
   "id": "2b307e7f",
   "metadata": {},
   "outputs": [
    {
     "name": "stdout",
     "output_type": "stream",
     "text": [
      "This will not print\n"
     ]
    }
   ],
   "source": [
    "x = 10\n",
    "\n",
    "if (    x \n",
    "    \n",
    "    \n",
    "    == \n",
    "    \n",
    "    \n",
    "    9\n",
    "    \n",
    "   ):\n",
    "    print('Whatever')\n",
    "else:\n",
    "    print('This will not print')"
   ]
  },
  {
   "cell_type": "markdown",
   "id": "97b75174",
   "metadata": {},
   "source": [
    "#writing Markdown in a cell "
   ]
  },
  {
   "cell_type": "markdown",
   "id": "e27ca429",
   "metadata": {},
   "source": [
    "# Exercise: Guessing game\n",
    "1. Get a random number between 0-100. (I'll show you how in a moment.)  Assign that number to the variable `number`.\n",
    "2. Print the number, so that debugging is easier.\n",
    "3. Ask the user to guess the number.  Based on the user's input, we should print:\n",
    "    - You got it!\n",
    "    - Too high!\n",
    "    - Too low!\n",
    "4. The user only gets one shot at guessing.    \n",
    "How do we generate a random number? We're going to use the `random` module, which has this functionality built in:\n",
    "```python\n",
    "import random                    # load this library of functionality\n",
    "number = random.randint(0, 100)  # run the randint function in the random module\n",
    "```"
   ]
  },
  {
   "cell_type": "markdown",
   "id": "b37e1201",
   "metadata": {},
   "source": [
    "hey \n"
   ]
  },
  {
   "cell_type": "code",
   "execution_count": 90,
   "id": "da8c2c87",
   "metadata": {},
   "outputs": [],
   "source": [
    "import random                  # load this libray of functionality \n",
    "number = random.randint(0,100) # run the randint function in the random module"
   ]
  },
  {
   "cell_type": "code",
   "execution_count": 100,
   "id": "6ab16f69",
   "metadata": {},
   "outputs": [
    {
     "name": "stdout",
     "output_type": "stream",
     "text": [
      "97\n",
      "Guess: 97\n",
      "You got it!\n"
     ]
    }
   ],
   "source": [
    "import random\n",
    "number = random.randint(0, 100)\n",
    "\n",
    "print(number)\n",
    "\n",
    "guess = input('Guess: ') #guess is a string\n",
    "guess = int(guess)       # get a new int based on guess, and assign back to guess\n",
    "\n",
    "if guess == number:\n",
    "    print('You got it!')\n",
    "elif guess < number:\n",
    "    print('Too low!')\n",
    "else:\n",
    "    print('Too high!')\n",
    "    "
   ]
  },
  {
   "cell_type": "code",
   "execution_count": 98,
   "id": "5301c174",
   "metadata": {},
   "outputs": [
    {
     "name": "stdout",
     "output_type": "stream",
     "text": [
      "63\n",
      "Guess: 14\n",
      "Too low!\n"
     ]
    }
   ],
   "source": [
    "import random\n",
    "number = random.randint(0, 100)\n",
    "\n",
    "print(number)\n",
    "\n",
    "guess = input('Guess: ')  # guess is a string\n",
    "guess = int(guess)        # get a new int based on guess, and assign back to guess\n",
    "\n",
    "if guess == number:\n",
    "    print('You got it!')\n",
    "elif guess < number:\n",
    "    print('Too low!')\n",
    "else:\n",
    "    print('Too high!')"
   ]
  },
  {
   "cell_type": "markdown",
   "id": "8482b5be",
   "metadata": {},
   "source": [
    "Floats\n",
    "\n",
    "\"Float\" is the fancy way of saying \"a number with a decimal point, and possibly some digits after that decimal point.\" If you want to use fractional numbers in Python, then floats are almost certainly necessary.\n",
    "\n",
    "Because floating-point operations are much slower than integer operations, chips were (are?) measured for speed in the number of floating-point operations they could do per second, known as Gigaflops -- billions of floating-point operations per second.\n",
    "\n"
   ]
  },
  {
   "cell_type": "code",
   "execution_count": 101,
   "id": "b71dc23b",
   "metadata": {},
   "outputs": [
    {
     "data": {
      "text/plain": [
       "float"
      ]
     },
     "execution_count": 101,
     "metadata": {},
     "output_type": "execute_result"
    }
   ],
   "source": [
    "n = 10.5\n",
    "type(n)"
   ]
  },
  {
   "cell_type": "code",
   "execution_count": 102,
   "id": "70fd1bc4",
   "metadata": {},
   "outputs": [],
   "source": [
    "# what operations can I use with float?\n",
    "# all of the same ones as we used with int!\n",
    "\n",
    "# but... we'll always get floats back"
   ]
  },
  {
   "cell_type": "code",
   "execution_count": 103,
   "id": "1c81fee7",
   "metadata": {},
   "outputs": [
    {
     "data": {
      "text/plain": [
       "13.0"
      ]
     },
     "execution_count": 103,
     "metadata": {},
     "output_type": "execute_result"
    }
   ],
   "source": [
    "x = 10.0\n",
    "y = 3.0\n",
    "\n",
    "x + y"
   ]
  },
  {
   "cell_type": "code",
   "execution_count": 104,
   "id": "7ad0d6e2",
   "metadata": {},
   "outputs": [
    {
     "data": {
      "text/plain": [
       "7.0"
      ]
     },
     "execution_count": 104,
     "metadata": {},
     "output_type": "execute_result"
    }
   ],
   "source": [
    "x - y"
   ]
  },
  {
   "cell_type": "code",
   "execution_count": 105,
   "id": "71e2fefc",
   "metadata": {},
   "outputs": [
    {
     "data": {
      "text/plain": [
       "3.0"
      ]
     },
     "execution_count": 105,
     "metadata": {},
     "output_type": "execute_result"
    }
   ],
   "source": [
    "x // y    # we get a float back, not an int!"
   ]
  },
  {
   "cell_type": "code",
   "execution_count": 106,
   "id": "092fb6c6",
   "metadata": {},
   "outputs": [
    {
     "data": {
      "text/plain": [
       "0.30000000000000004"
      ]
     },
     "execution_count": 106,
     "metadata": {},
     "output_type": "execute_result"
    }
   ],
   "source": [
    "0.1 + 0.2"
   ]
  },
  {
   "cell_type": "code",
   "execution_count": 107,
   "id": "d6f081d5",
   "metadata": {},
   "outputs": [],
   "source": [
    "# convert to/from floats\n",
    "# just as we can get an int based on something else, by invoking int()\n",
    "# we can get a float based on something else, by invoking float()"
   ]
  },
  {
   "cell_type": "code",
   "execution_count": 108,
   "id": "01ef08db",
   "metadata": {},
   "outputs": [
    {
     "data": {
      "text/plain": [
       "5.0"
      ]
     },
     "execution_count": 108,
     "metadata": {},
     "output_type": "execute_result"
    }
   ],
   "source": [
    "float('5')   # get a float from this string '5'"
   ]
  },
  {
   "cell_type": "code",
   "execution_count": 109,
   "id": "04545011",
   "metadata": {},
   "outputs": [
    {
     "data": {
      "text/plain": [
       "5"
      ]
     },
     "execution_count": 109,
     "metadata": {},
     "output_type": "execute_result"
    }
   ],
   "source": [
    "int('5')   # get an int from this string '5'"
   ]
  },
  {
   "cell_type": "code",
   "execution_count": 110,
   "id": "57b2eea5",
   "metadata": {},
   "outputs": [
    {
     "data": {
      "text/plain": [
       "5.0"
      ]
     },
     "execution_count": 110,
     "metadata": {},
     "output_type": "execute_result"
    }
   ],
   "source": [
    "float(5)  # get a float from this int 5"
   ]
  },
  {
   "cell_type": "code",
   "execution_count": 111,
   "id": "fcf4bfd2",
   "metadata": {},
   "outputs": [
    {
     "data": {
      "text/plain": [
       "5"
      ]
     },
     "execution_count": 111,
     "metadata": {},
     "output_type": "execute_result"
    }
   ],
   "source": [
    "int(5.0)   # get an int from this float 5 "
   ]
  },
  {
   "cell_type": "code",
   "execution_count": 112,
   "id": "abc472b3",
   "metadata": {},
   "outputs": [],
   "source": [
    "# if you use both an int and a float in the same operation, you get back a float"
   ]
  },
  {
   "cell_type": "code",
   "execution_count": 113,
   "id": "554b9802",
   "metadata": {},
   "outputs": [],
   "source": [
    "# you can also compare ints and floats with == , < , and > "
   ]
  },
  {
   "cell_type": "code",
   "execution_count": 114,
   "id": "d6a7c0d7",
   "metadata": {},
   "outputs": [
    {
     "data": {
      "text/plain": [
       "True"
      ]
     },
     "execution_count": 114,
     "metadata": {},
     "output_type": "execute_result"
    }
   ],
   "source": [
    "5.3 < 8"
   ]
  },
  {
   "cell_type": "markdown",
   "id": "f485bd90",
   "metadata": {},
   "source": [
    "#Strings\n",
    "\n",
    "We can create strings ('str') most easily, and commonly, with quotes. You can use either '' or \"\" -- there is no differnece at all. if your string contains ', then you probably wanna use \"\" on the outside, and vice versa.\n",
    "\n",
    "Strings can be of any leangth whatsoever. They are used for all text, no matter how big or small."
   ]
  },
  {
   "cell_type": "code",
   "execution_count": 115,
   "id": "9d015e84",
   "metadata": {},
   "outputs": [
    {
     "data": {
      "text/plain": [
       "str"
      ]
     },
     "execution_count": 115,
     "metadata": {},
     "output_type": "execute_result"
    }
   ],
   "source": [
    "s = 'abcdefghijklmnopqrstuvwxyz'\n",
    "type(s)"
   ]
  },
  {
   "cell_type": "code",
   "execution_count": 116,
   "id": "729045d4",
   "metadata": {},
   "outputs": [
    {
     "data": {
      "text/plain": [
       "26"
      ]
     },
     "execution_count": 116,
     "metadata": {},
     "output_type": "execute_result"
    }
   ],
   "source": [
    "# how many characters are there in s?\n",
    "\n",
    "len(s)   # the \"len\" function returns an integer, the length of the data we give it"
   ]
  },
  {
   "cell_type": "code",
   "execution_count": 117,
   "id": "a46d2386",
   "metadata": {},
   "outputs": [
    {
     "ename": "SyntaxError",
     "evalue": "invalid syntax (979328839.py, line 1)",
     "output_type": "error",
     "traceback": [
      "\u001b[0;36m  Cell \u001b[0;32mIn [117], line 1\u001b[0;36m\u001b[0m\n\u001b[0;31m    s = 'He's very nice'   # the use of ' in the string confuses Python\u001b[0m\n\u001b[0m            ^\u001b[0m\n\u001b[0;31mSyntaxError\u001b[0m\u001b[0;31m:\u001b[0m invalid syntax\n"
     ]
    }
   ],
   "source": [
    "s = 'He's very nice'   # the use of ' in the string confuses Python"
   ]
  },
  {
   "cell_type": "code",
   "execution_count": 118,
   "id": "49a1586d",
   "metadata": {},
   "outputs": [],
   "source": [
    "# we can escape a quote with \\ before the quote\n",
    "s = 'He\\'s very nice' "
   ]
  },
  {
   "cell_type": "code",
   "execution_count": 119,
   "id": "0c54a021",
   "metadata": {},
   "outputs": [
    {
     "name": "stdout",
     "output_type": "stream",
     "text": [
      "He's very nice\n"
     ]
    }
   ],
   "source": [
    "print(s)"
   ]
  },
  {
   "cell_type": "code",
   "execution_count": 120,
   "id": "7356654d",
   "metadata": {},
   "outputs": [
    {
     "data": {
      "text/plain": [
       "\"He's very nice\""
      ]
     },
     "execution_count": 120,
     "metadata": {},
     "output_type": "execute_result"
    }
   ],
   "source": [
    "# let's see how Python displays our string\n",
    "s"
   ]
  },
  {
   "cell_type": "code",
   "execution_count": 121,
   "id": "c78d2ecb",
   "metadata": {},
   "outputs": [
    {
     "ename": "SyntaxError",
     "evalue": "invalid syntax (2775699465.py, line 3)",
     "output_type": "error",
     "traceback": [
      "\u001b[0;36m  Cell \u001b[0;32mIn [121], line 3\u001b[0;36m\u001b[0m\n\u001b[0;31m    s = \"She says, \"Hello\"\"\u001b[0m\n\u001b[0m                    ^\u001b[0m\n\u001b[0;31mSyntaxError\u001b[0m\u001b[0;31m:\u001b[0m invalid syntax\n"
     ]
    }
   ],
   "source": [
    "# the same thing happens with \"\"\n",
    "\n",
    "s = \"She says, \"Hello\"\""
   ]
  },
  {
   "cell_type": "code",
   "execution_count": 122,
   "id": "37e97948",
   "metadata": {},
   "outputs": [
    {
     "data": {
      "text/plain": [
       "'She says, \"Hello\"'"
      ]
     },
     "execution_count": 122,
     "metadata": {},
     "output_type": "execute_result"
    }
   ],
   "source": [
    "s = \"She says, \\\"Hello\\\"\"\n",
    "s"
   ]
  },
  {
   "cell_type": "code",
   "execution_count": 123,
   "id": "84116b15",
   "metadata": {},
   "outputs": [],
   "source": [
    "s = 'He says, \"She\\'s very nice\"'"
   ]
  },
  {
   "cell_type": "code",
   "execution_count": 124,
   "id": "2eb2019c",
   "metadata": {},
   "outputs": [
    {
     "data": {
      "text/plain": [
       "'He says, \"She\\'s very nice\"'"
      ]
     },
     "execution_count": 124,
     "metadata": {},
     "output_type": "execute_result"
    }
   ],
   "source": [
    "s"
   ]
  },
  {
   "cell_type": "code",
   "execution_count": 125,
   "id": "54a10e00",
   "metadata": {},
   "outputs": [
    {
     "ename": "SyntaxError",
     "evalue": "unterminated string literal (detected at line 4) (3038885453.py, line 4)",
     "output_type": "error",
     "traceback": [
      "\u001b[0;36m  Cell \u001b[0;32mIn [125], line 4\u001b[0;36m\u001b[0m\n\u001b[0;31m    s = 'abcde\u001b[0m\n\u001b[0m        ^\u001b[0m\n\u001b[0;31mSyntaxError\u001b[0m\u001b[0;31m:\u001b[0m unterminated string literal (detected at line 4)\n"
     ]
    }
   ],
   "source": [
    "# other special characters\n",
    "\n",
    "# what if I want my string to contain two lines of text?\n",
    "s = 'abcde\n",
    "fghij'"
   ]
  },
  {
   "cell_type": "code",
   "execution_count": 126,
   "id": "7ceab3f9",
   "metadata": {},
   "outputs": [
    {
     "data": {
      "text/plain": [
       "11"
      ]
     },
     "execution_count": 126,
     "metadata": {},
     "output_type": "execute_result"
    }
   ],
   "source": [
    "# if I want a newline character - -meaning, to go down when we print the string, -- we can use the\n",
    "# special character \\n.  We write it with one character, but it really consumes one space in the string,\n",
    "# and it goes down when printed.\n",
    "\n",
    "s = 'abcde\\nfghij'\n",
    "len(s)"
   ]
  },
  {
   "cell_type": "code",
   "execution_count": 127,
   "id": "57fc0356",
   "metadata": {},
   "outputs": [
    {
     "data": {
      "text/plain": [
       "'abcde\\nfghij'"
      ]
     },
     "execution_count": 127,
     "metadata": {},
     "output_type": "execute_result"
    }
   ],
   "source": [
    "s"
   ]
  },
  {
   "cell_type": "code",
   "execution_count": 128,
   "id": "6ab13a80",
   "metadata": {},
   "outputs": [
    {
     "name": "stdout",
     "output_type": "stream",
     "text": [
      "abcde\n",
      "fghij\n"
     ]
    }
   ],
   "source": [
    "print(s)   # now the \\n will actually descend one line"
   ]
  },
  {
   "cell_type": "markdown",
   "id": "3e9231e2",
   "metadata": {},
   "source": [
    "Some special characters\n",
    "\n",
    "    \\n -- newline\n",
    "    \\r -- carriage return\n",
    "    \\t - tab\n",
    "\n",
    "There are many others, also...\n"
   ]
  },
  {
   "cell_type": "code",
   "execution_count": 129,
   "id": "3a22ff15",
   "metadata": {},
   "outputs": [
    {
     "name": "stdout",
     "output_type": "stream",
     "text": [
      "c:\u0007bcd\\efgh\\ijkl\n"
     ]
    }
   ],
   "source": [
    "path = 'c:\\abcd\\efgh\\ijkl'  # it turns out that \\a is also special... it's the alarm bell (ASCII 7)\n",
    "\n",
    "print(path)"
   ]
  },
  {
   "cell_type": "code",
   "execution_count": 130,
   "id": "7aaff6d5",
   "metadata": {},
   "outputs": [
    {
     "name": "stdout",
     "output_type": "stream",
     "text": [
      "c:\\abcd\\efgh\\ijkl\n"
     ]
    }
   ],
   "source": [
    "# maybe I should be safe, and use \\\\ to escape the backslash, and make it a non-special character\n",
    "\n",
    "path = 'c:\\\\abcd\\\\efgh\\\\ijkl' \n",
    "\n",
    "print(path)"
   ]
  },
  {
   "cell_type": "code",
   "execution_count": 133,
   "id": "a4d04f4d",
   "metadata": {},
   "outputs": [
    {
     "name": "stdout",
     "output_type": "stream",
     "text": [
      "c:\\abcd\\efgh\\ijkl\n"
     ]
    }
   ],
   "source": [
    "# but there's an easier way - raw strings\n",
    "#if you put r before the opening quote in a string, all of the back slashes are automatically doubled\n",
    "# thus, all of your special, escaped charecters become normal.\n",
    "\n",
    "path = r'c:\\abcd\\efgh\\ijkl'   # raw string!\n",
    "\n",
    "print(path)"
   ]
  },
  {
   "cell_type": "code",
   "execution_count": 134,
   "id": "53215bc6",
   "metadata": {},
   "outputs": [
    {
     "name": "stdout",
     "output_type": "stream",
     "text": [
      "In Python, we can use \\n for newline and \\t for tab\n"
     ]
    }
   ],
   "source": [
    "print(r'In Python, we can use \\n for newline and \\t for tab')"
   ]
  },
  {
   "cell_type": "code",
   "execution_count": 135,
   "id": "82b8ba05",
   "metadata": {},
   "outputs": [
    {
     "ename": "TypeError",
     "evalue": "can only concatenate str (not \"int\") to str",
     "output_type": "error",
     "traceback": [
      "\u001b[0;31m---------------------------------------------------------------------------\u001b[0m",
      "\u001b[0;31mTypeError\u001b[0m                                 Traceback (most recent call last)",
      "Cell \u001b[0;32mIn [135], line 4\u001b[0m\n\u001b[1;32m      1\u001b[0m x \u001b[38;5;241m=\u001b[39m \u001b[38;5;241m10\u001b[39m\n\u001b[1;32m      2\u001b[0m y \u001b[38;5;241m=\u001b[39m \u001b[38;5;241m20\u001b[39m\n\u001b[0;32m----> 4\u001b[0m \u001b[38;5;28mprint\u001b[39m(\u001b[38;5;124;43m'\u001b[39;49m\u001b[38;5;124;43mIn my program, x is \u001b[39;49m\u001b[38;5;124;43m'\u001b[39;49m\u001b[43m \u001b[49m\u001b[38;5;241;43m+\u001b[39;49m\u001b[43m \u001b[49m\u001b[43mx\u001b[49m \u001b[38;5;241m+\u001b[39m \u001b[38;5;124m'\u001b[39m\u001b[38;5;124m and y is \u001b[39m\u001b[38;5;124m'\u001b[39m \u001b[38;5;241m+\u001b[39m y \u001b[38;5;241m+\u001b[39m \u001b[38;5;124m'\u001b[39m\u001b[38;5;124m.\u001b[39m\u001b[38;5;124m'\u001b[39m)\n",
      "\u001b[0;31mTypeError\u001b[0m: can only concatenate str (not \"int\") to str"
     ]
    }
   ],
   "source": [
    "x = 10\n",
    "y = 20\n",
    "\n",
    "print('In my program, x is ' + x + ' and y is ' + y + '.')"
   ]
  },
  {
   "cell_type": "code",
   "execution_count": 139,
   "id": "91964513",
   "metadata": {},
   "outputs": [
    {
     "name": "stdout",
     "output_type": "stream",
     "text": [
      "In my program, x is 10 and y is + 20.\n"
     ]
    }
   ],
   "source": [
    "# solution 2: f-strings (format strings, or I like to say \"fancy strings\")\n",
    "\n",
    "# (1) put an f before the opening quote\n",
    "# (2) it's a string, like any other\n",
    "# (3) if you have {} in the string, then they can contain any Python expression -- variable, function call,\n",
    "#  a method call, an operator.\n",
    "# (4) anything in the {} is automatically tunred into a string\n",
    "\n",
    "print(f'In my program, x is {x} and y is + {y}.')"
   ]
  },
  {
   "cell_type": "code",
   "execution_count": 140,
   "id": "a014fd41",
   "metadata": {},
   "outputs": [
    {
     "name": "stdout",
     "output_type": "stream",
     "text": [
      "10 + 20 = 30\n"
     ]
    }
   ],
   "source": [
    "print(f'{x} + {y} = {x+y}')"
   ]
  },
  {
   "cell_type": "code",
   "execution_count": 141,
   "id": "e6d74cd0",
   "metadata": {},
   "outputs": [],
   "source": [
    "# what if I'm still stuck on having strings that contain newlines?\n",
    "# I can use a triple-quoted string!  That means: ''' ''' or \"\"\" \"\"\" -- it's more usual to use \"\"\" \"\"\"\n",
    "\n",
    "s = \"\"\"abcdefg\n",
    "hij\n",
    "klmnop\n",
    "qrst\"\"\""
   ]
  },
  {
   "cell_type": "code",
   "execution_count": 142,
   "id": "bda6ffa9",
   "metadata": {},
   "outputs": [
    {
     "name": "stdout",
     "output_type": "stream",
     "text": [
      "abcdefg\n",
      "hij\n",
      "klmnop\n",
      "qrst\n"
     ]
    }
   ],
   "source": [
    "print(s)"
   ]
  },
  {
   "cell_type": "code",
   "execution_count": 143,
   "id": "376ced4f",
   "metadata": {},
   "outputs": [
    {
     "data": {
      "text/plain": [
       "'abcdefg\\nhij\\nklmnop\\nqrst'"
      ]
     },
     "execution_count": 143,
     "metadata": {},
     "output_type": "execute_result"
    }
   ],
   "source": [
    "s"
   ]
  },
  {
   "cell_type": "code",
   "execution_count": null,
   "id": "7e27b433",
   "metadata": {},
   "outputs": [],
   "source": []
  }
 ],
 "metadata": {
  "kernelspec": {
   "display_name": "Python 3 (ipykernel)",
   "language": "python",
   "name": "python3"
  },
  "language_info": {
   "codemirror_mode": {
    "name": "ipython",
    "version": 3
   },
   "file_extension": ".py",
   "mimetype": "text/x-python",
   "name": "python",
   "nbconvert_exporter": "python",
   "pygments_lexer": "ipython3",
   "version": "3.10.4"
  }
 },
 "nbformat": 4,
 "nbformat_minor": 5
}
