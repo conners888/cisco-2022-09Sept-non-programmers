{
 "cells": [
  {
   "cell_type": "code",
   "execution_count": null,
   "id": "9660c3cb",
   "metadata": {},
   "outputs": [],
   "source": [
    "print('Clint')\n",
    "\n",
    "x= 10 # assogm the number 10 to x\n",
    "y= 20 # assign the number 20 to y\n",
    "\n",
    "print(x+y) # first add x and y together, and print the resulting value \n",
    "\n",
    "\n"
   ]
  },
  {
   "cell_type": "code",
   "execution_count": null,
   "id": "37bd48de",
   "metadata": {},
   "outputs": [],
   "source": [
    "# in assignment, the right side runs first\n",
    "# it will run \"input\", asking the user for their name\n",
    "# whatever \"input\" returns is assigned to the name variable\n",
    "\n",
    "name=input('Enter your name: ')\n",
    "print('Hello, '+name+'!')\n",
    "Enter your name: anonymous\n",
    "Hello, anonymous!\n",
    "print('Hello,'+name+'!')\n",
    "Hello,anonymous!"
   ]
  },
  {
   "cell_type": "code",
   "execution_count": null,
   "id": "1a415b2a",
   "metadata": {},
   "outputs": [],
   "source": [
    "x = 10\n",
    "y = 10\n",
    "\n",
    "x == y #are they the same? \n",
    "\n",
    "\n"
   ]
  },
  {
   "cell_type": "code",
   "execution_count": null,
   "id": "b6f63c30",
   "metadata": {},
   "outputs": [],
   "source": []
  }
 ],
 "metadata": {
  "kernelspec": {
   "display_name": "Python 3 (ipykernel)",
   "language": "python",
   "name": "python3"
  },
  "language_info": {
   "codemirror_mode": {
    "name": "ipython",
    "version": 3
   },
   "file_extension": ".py",
   "mimetype": "text/x-python",
   "name": "python",
   "nbconvert_exporter": "python",
   "pygments_lexer": "ipython3",
   "version": "3.10.4"
  }
 },
 "nbformat": 4,
 "nbformat_minor": 5
}
