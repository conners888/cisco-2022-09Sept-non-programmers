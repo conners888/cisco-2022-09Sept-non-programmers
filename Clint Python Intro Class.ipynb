{
 "cells": [
  {
   "cell_type": "code",
   "execution_count": 4,
   "id": "9660c3cb",
   "metadata": {},
   "outputs": [
    {
     "name": "stdout",
     "output_type": "stream",
     "text": [
      "Clint\n",
      "30\n"
     ]
    }
   ],
   "source": [
    "print('Clint')\n",
    "\n",
    "x= 10 # assogm the number 10 to x\n",
    "y= 20 # assign the number 20 to y\n",
    "\n",
    "print(x+y) # first add x and y together, and print the resulting value \n",
    "\n",
    "\n"
   ]
  },
  {
   "cell_type": "code",
   "execution_count": 28,
   "id": "1a415b2a",
   "metadata": {},
   "outputs": [
    {
     "data": {
      "text/plain": [
       "False"
      ]
     },
     "execution_count": 28,
     "metadata": {},
     "output_type": "execute_result"
    }
   ],
   "source": [
    "x = 10\n",
    "y = 20\n",
    "\n",
    "x == y #are they the same? \n",
    "\n",
    "\n"
   ]
  },
  {
   "cell_type": "code",
   "execution_count": 15,
   "id": "b6f63c30",
   "metadata": {},
   "outputs": [
    {
     "name": "stdout",
     "output_type": "stream",
     "text": [
      "hello!\n",
      "Hello, again!\n",
      "OK, goodbye!!\n"
     ]
    }
   ],
   "source": [
    "print('hello!')        # just pressing enter goes down one line\n",
    "print('Hello, again!') #again, we'll press ENTER\n",
    "print('OK, goodbye!!') #now, I'll press Shift+Enter, To execute the cell\n",
    "\n",
    "# shift+enter == execute the cell"
   ]
  },
  {
   "cell_type": "code",
   "execution_count": 16,
   "id": "c9c8cd5a",
   "metadata": {},
   "outputs": [
    {
     "data": {
      "text/plain": [
       "10"
      ]
     },
     "execution_count": 16,
     "metadata": {},
     "output_type": "execute_result"
    }
   ],
   "source": [
    "x"
   ]
  },
  {
   "cell_type": "code",
   "execution_count": 17,
   "id": "cb6bec3e",
   "metadata": {},
   "outputs": [
    {
     "data": {
      "text/plain": [
       "20"
      ]
     },
     "execution_count": 17,
     "metadata": {},
     "output_type": "execute_result"
    }
   ],
   "source": [
    "y"
   ]
  },
  {
   "cell_type": "code",
   "execution_count": 29,
   "id": "2ae85044",
   "metadata": {},
   "outputs": [],
   "source": [
    "name = 'Clint' # assignment\n",
    "name = 'Clint' # here, we ask a question: does the name variable contain the same value as the string 'Clint'?"
   ]
  },
  {
   "cell_type": "code",
   "execution_count": 30,
   "id": "9b684174",
   "metadata": {},
   "outputs": [
    {
     "data": {
      "text/plain": [
       "str"
      ]
     },
     "execution_count": 30,
     "metadata": {},
     "output_type": "execute_result"
    }
   ],
   "source": [
    "name = 'Clint' #'Clint'\n",
    "type(name) # this asks: what kind of value do I have in the \"name\" variable?this asks: what kind of value is the text string 'name'?"
   ]
  },
  {
   "cell_type": "code",
   "execution_count": 31,
   "id": "62c1426f",
   "metadata": {},
   "outputs": [
    {
     "data": {
      "text/plain": [
       "str"
      ]
     },
     "execution_count": 31,
     "metadata": {},
     "output_type": "execute_result"
    }
   ],
   "source": [
    "name = 'Clint'\n",
    "type(name)   # this asks: what kind of value do I have in the \"name\" variable?"
   ]
  },
  {
   "cell_type": "code",
   "execution_count": 25,
   "id": "32e9fdd1",
   "metadata": {
    "scrolled": true
   },
   "outputs": [
    {
     "data": {
      "text/plain": [
       "int"
      ]
     },
     "execution_count": 25,
     "metadata": {},
     "output_type": "execute_result"
    }
   ],
   "source": [
    "name = 5\n",
    "\n",
    "type(name) #no quotes, so we're asking: what is the type of value in the \"name\" variable?"
   ]
  },
  {
   "cell_type": "code",
   "execution_count": 26,
   "id": "c087de90",
   "metadata": {},
   "outputs": [
    {
     "data": {
      "text/plain": [
       "str"
      ]
     },
     "execution_count": 26,
     "metadata": {},
     "output_type": "execute_result"
    }
   ],
   "source": [
    "type('name')  # quotes, so we have a string, so..."
   ]
  },
  {
   "cell_type": "code",
   "execution_count": 27,
   "id": "b7680186",
   "metadata": {},
   "outputs": [
    {
     "name": "stdout",
     "output_type": "stream",
     "text": [
      "Enter your name:Clint\n",
      "Hello, Clint!\n"
     ]
    }
   ],
   "source": [
    "name = input('Enter your name:')\n",
    "\n",
    "if name == 'Robert':       # colon at the end of the line...\n",
    "    print('Hi, boss!')     # ... indentation at the start of a block -- these go together\n",
    "    print('So good to see you again!')\n",
    "else:\n",
    "    print('Hello, ' + name + '!')"
   ]
  },
  {
   "cell_type": "code",
   "execution_count": 32,
   "id": "272f59bd",
   "metadata": {},
   "outputs": [
    {
     "ename": "IndentationError",
     "evalue": "expected an indented block after 'if' statement on line 1 (4178352048.py, line 2)",
     "output_type": "error",
     "traceback": [
      "\u001b[0;36m  Cell \u001b[0;32mIn [32], line 2\u001b[0;36m\u001b[0m\n\u001b[0;31m    print('Hello')\u001b[0m\n\u001b[0m    ^\u001b[0m\n\u001b[0;31mIndentationError\u001b[0m\u001b[0;31m:\u001b[0m expected an indented block after 'if' statement on line 1\n"
     ]
    }
   ],
   "source": [
    "if True:\n",
    "print('Hello')  "
   ]
  },
  {
   "cell_type": "code",
   "execution_count": 34,
   "id": "5ec68473",
   "metadata": {},
   "outputs": [
    {
     "data": {
      "text/plain": [
       "int"
      ]
     },
     "execution_count": 34,
     "metadata": {},
     "output_type": "execute_result"
    }
   ],
   "source": [
    "x = 10 # no decimal point, so this is an integer -- a whole number\n",
    "type(x)"
   ]
  },
  {
   "cell_type": "code",
   "execution_count": 35,
   "id": "d9305eff",
   "metadata": {},
   "outputs": [],
   "source": [
    "y = 3"
   ]
  },
  {
   "cell_type": "code",
   "execution_count": 36,
   "id": "555b15a8",
   "metadata": {},
   "outputs": [
    {
     "data": {
      "text/plain": [
       "13"
      ]
     },
     "execution_count": 36,
     "metadata": {},
     "output_type": "execute_result"
    }
   ],
   "source": [
    "x + y\n"
   ]
  },
  {
   "cell_type": "code",
   "execution_count": 37,
   "id": "c84783ad",
   "metadata": {},
   "outputs": [
    {
     "data": {
      "text/plain": [
       "30"
      ]
     },
     "execution_count": 37,
     "metadata": {},
     "output_type": "execute_result"
    }
   ],
   "source": [
    "x * y"
   ]
  },
  {
   "cell_type": "code",
   "execution_count": 38,
   "id": "6073ad67",
   "metadata": {},
   "outputs": [
    {
     "data": {
      "text/plain": [
       "3.3333333333333335"
      ]
     },
     "execution_count": 38,
     "metadata": {},
     "output_type": "execute_result"
    }
   ],
   "source": [
    "x / y # / always retunrs a floating-point number, even if the resuly would be an integer"
   ]
  },
  {
   "cell_type": "code",
   "execution_count": 39,
   "id": "8188b958",
   "metadata": {},
   "outputs": [
    {
     "data": {
      "text/plain": [
       "1.0"
      ]
     },
     "execution_count": 39,
     "metadata": {},
     "output_type": "execute_result"
    }
   ],
   "source": [
    "x / x"
   ]
  },
  {
   "cell_type": "code",
   "execution_count": 40,
   "id": "8e7736c5",
   "metadata": {},
   "outputs": [
    {
     "data": {
      "text/plain": [
       "3"
      ]
     },
     "execution_count": 40,
     "metadata": {},
     "output_type": "execute_result"
    }
   ],
   "source": [
    "x // y # this always retunrs an ineger -- it's known as \"floordiv\"\n"
   ]
  },
  {
   "cell_type": "code",
   "execution_count": 41,
   "id": "9cb7a62c",
   "metadata": {},
   "outputs": [
    {
     "data": {
      "text/plain": [
       "1000"
      ]
     },
     "execution_count": 41,
     "metadata": {},
     "output_type": "execute_result"
    }
   ],
   "source": [
    "x ** y # this means: x to the y power"
   ]
  },
  {
   "cell_type": "code",
   "execution_count": 42,
   "id": "482cfe59",
   "metadata": {},
   "outputs": [
    {
     "data": {
      "text/plain": [
       "1"
      ]
     },
     "execution_count": 42,
     "metadata": {},
     "output_type": "execute_result"
    }
   ],
   "source": [
    "x % y "
   ]
  },
  {
   "cell_type": "code",
   "execution_count": 43,
   "id": "1346df0c",
   "metadata": {},
   "outputs": [
    {
     "data": {
      "text/plain": [
       "30"
      ]
     },
     "execution_count": 43,
     "metadata": {},
     "output_type": "execute_result"
    }
   ],
   "source": [
    "answer = x * y\n",
    "answer"
   ]
  },
  {
   "cell_type": "code",
   "execution_count": 44,
   "id": "1f0b4555",
   "metadata": {},
   "outputs": [
    {
     "data": {
      "text/plain": [
       "11"
      ]
     },
     "execution_count": 44,
     "metadata": {},
     "output_type": "execute_result"
    }
   ],
   "source": [
    "# What happens here?\n",
    "\n",
    "x = 10\n",
    "x = x + 1 # this makes no *mathmatical* sense, but = in python isn't mathmatical equality\n",
    "\n",
    "x"
   ]
  },
  {
   "cell_type": "code",
   "execution_count": 45,
   "id": "e556a7c5",
   "metadata": {},
   "outputs": [
    {
     "data": {
      "text/plain": [
       "12"
      ]
     },
     "execution_count": 45,
     "metadata": {},
     "output_type": "execute_result"
    }
   ],
   "source": [
    "# it's so common to say x = x + 1 that theres a shorcut\n",
    "\n",
    "x += 1 #same as x= x + x, known as \"incrementing\"\n",
    "x"
   ]
  },
  {
   "cell_type": "code",
   "execution_count": 49,
   "id": "0c4cdcbf",
   "metadata": {},
   "outputs": [
    {
     "data": {
      "text/plain": [
       "1500"
      ]
     },
     "execution_count": 49,
     "metadata": {},
     "output_type": "execute_result"
    }
   ],
   "source": [
    "#we can also say\n",
    "\n",
    "x *= 5 #same as x = x * 5\n",
    "x"
   ]
  },
  {
   "cell_type": "code",
   "execution_count": 50,
   "id": "d391cdee",
   "metadata": {},
   "outputs": [],
   "source": [
    "x -= 1   # this is known as \"decrementing\""
   ]
  },
  {
   "cell_type": "code",
   "execution_count": 51,
   "id": "4f3c4c17",
   "metadata": {},
   "outputs": [],
   "source": [
    "# what's the max size of an integer in Python?\n",
    "\n",
    "# the max size is... determined by the size of your memory. Python will happily consume\n",
    "# all of your RAM to create ever-larger integers."
   ]
  },
  {
   "cell_type": "code",
   "execution_count": 52,
   "id": "33c1450d",
   "metadata": {},
   "outputs": [
    {
     "ename": "TypeError",
     "evalue": "unsupported operand type(s) for +: 'int' and 'str'",
     "output_type": "error",
     "traceback": [
      "\u001b[0;31m---------------------------------------------------------------------------\u001b[0m",
      "\u001b[0;31mTypeError\u001b[0m                                 Traceback (most recent call last)",
      "Cell \u001b[0;32mIn [52], line 6\u001b[0m\n\u001b[1;32m      3\u001b[0m x \u001b[38;5;241m=\u001b[39m \u001b[38;5;241m10\u001b[39m   \u001b[38;5;66;03m# this is the integer 10\u001b[39;00m\n\u001b[1;32m      4\u001b[0m y \u001b[38;5;241m=\u001b[39m \u001b[38;5;124m'\u001b[39m\u001b[38;5;124m20\u001b[39m\u001b[38;5;124m'\u001b[39m \u001b[38;5;66;03m# this is the string 20\u001b[39;00m\n\u001b[0;32m----> 6\u001b[0m \u001b[43mx\u001b[49m\u001b[43m \u001b[49m\u001b[38;5;241;43m+\u001b[39;49m\u001b[43m \u001b[49m\u001b[43my\u001b[49m\n",
      "\u001b[0;31mTypeError\u001b[0m: unsupported operand type(s) for +: 'int' and 'str'"
     ]
    }
   ],
   "source": [
    "# remember this problem?\n",
    "\n",
    "x = 10   # this is the integer 10\n",
    "y = '20' # this is the string 20\n",
    "\n",
    "x + y"
   ]
  },
  {
   "cell_type": "code",
   "execution_count": 53,
   "id": "60ff0808",
   "metadata": {},
   "outputs": [
    {
     "data": {
      "text/plain": [
       "20"
      ]
     },
     "execution_count": 53,
     "metadata": {},
     "output_type": "execute_result"
    }
   ],
   "source": [
    "# to get an integer based on a string, we use \"int\" as a function\n",
    "\n",
    "int(y)   # this returns a new integer based on the string value of y -- it doesn't change y!"
   ]
  },
  {
   "cell_type": "code",
   "execution_count": 54,
   "id": "592c4814",
   "metadata": {},
   "outputs": [
    {
     "data": {
      "text/plain": [
       "'20'"
      ]
     },
     "execution_count": 54,
     "metadata": {},
     "output_type": "execute_result"
    }
   ],
   "source": [
    "y   # this is still the string '20'"
   ]
  },
  {
   "cell_type": "code",
   "execution_count": 61,
   "id": "41f3c3f7",
   "metadata": {},
   "outputs": [
    {
     "data": {
      "text/plain": [
       "30"
      ]
     },
     "execution_count": 61,
     "metadata": {},
     "output_type": "execute_result"
    }
   ],
   "source": [
    "x + int(y)  # now we have integer + integer, which is totally OK"
   ]
  },
  {
   "cell_type": "code",
   "execution_count": 62,
   "id": "d64724c2",
   "metadata": {},
   "outputs": [
    {
     "name": "stdout",
     "output_type": "stream",
     "text": [
      "Enter your favorite number: 72\n",
      "You have terrible taste in numbers.\n"
     ]
    }
   ],
   "source": [
    "n = input('Enter your favorite number: ')\n",
    "\n",
    "# input always, always, ALWAYS returns a string\n",
    "\n",
    "if n == 72:  # here, we're comparing the integer 72 with the *STRING* we got from the user!\n",
    "    print('That is my favorite, also!')\n",
    "else:\n",
    "    print('You have terrible taste in numbers.')"
   ]
  },
  {
   "cell_type": "code",
   "execution_count": 63,
   "id": "c7c2d081",
   "metadata": {},
   "outputs": [
    {
     "data": {
      "text/plain": [
       "False"
      ]
     },
     "execution_count": 63,
     "metadata": {},
     "output_type": "execute_result"
    }
   ],
   "source": [
    "72 == '72'   # this is the comparison we just ran!"
   ]
  },
  {
   "cell_type": "code",
   "execution_count": 64,
   "id": "57b3fbd8",
   "metadata": {},
   "outputs": [
    {
     "name": "stdout",
     "output_type": "stream",
     "text": [
      "Enter your favorite number: 72\n",
      "That is my favorite, also!\n"
     ]
    }
   ],
   "source": [
    "# I can fix this by taking the user's input and turning it into an integer\n",
    "\n",
    "n = input('Enter your favorite number: ')\n",
    "n = int(n)   # get a new integer based on n, and assign it back to the variable n\n",
    "\n",
    "if n == 72: \n",
    "    print('That is my favorite, also!')\n",
    "else:\n",
    "    print('You have terrible taste in numbers.')"
   ]
  },
  {
   "cell_type": "code",
   "execution_count": 65,
   "id": "be3c333b",
   "metadata": {},
   "outputs": [
    {
     "data": {
      "text/plain": [
       "1234"
      ]
     },
     "execution_count": 65,
     "metadata": {},
     "output_type": "execute_result"
    }
   ],
   "source": [
    "int('1234')\n"
   ]
  },
  {
   "cell_type": "code",
   "execution_count": 66,
   "id": "0f9ba92d",
   "metadata": {},
   "outputs": [
    {
     "ename": "ValueError",
     "evalue": "invalid literal for int() with base 10: 'abcd'",
     "output_type": "error",
     "traceback": [
      "\u001b[0;31m---------------------------------------------------------------------------\u001b[0m",
      "\u001b[0;31mValueError\u001b[0m                                Traceback (most recent call last)",
      "Cell \u001b[0;32mIn [66], line 1\u001b[0m\n\u001b[0;32m----> 1\u001b[0m \u001b[38;5;28;43mint\u001b[39;49m\u001b[43m(\u001b[49m\u001b[38;5;124;43m'\u001b[39;49m\u001b[38;5;124;43mabcd\u001b[39;49m\u001b[38;5;124;43m'\u001b[39;49m\u001b[43m)\u001b[49m\n",
      "\u001b[0;31mValueError\u001b[0m: invalid literal for int() with base 10: 'abcd'"
     ]
    }
   ],
   "source": [
    "int('abcd')"
   ]
  },
  {
   "cell_type": "code",
   "execution_count": 67,
   "id": "fced25d8",
   "metadata": {},
   "outputs": [
    {
     "data": {
      "text/plain": [
       "False"
      ]
     },
     "execution_count": 67,
     "metadata": {},
     "output_type": "execute_result"
    }
   ],
   "source": [
    "x = 'taxi'\n",
    "y = 'cab'\n",
    "\n",
    "x < y   # does taxi come before cab?"
   ]
  },
  {
   "cell_type": "code",
   "execution_count": 68,
   "id": "51863e5f",
   "metadata": {},
   "outputs": [
    {
     "data": {
      "text/plain": [
       "True"
      ]
     },
     "execution_count": 68,
     "metadata": {},
     "output_type": "execute_result"
    }
   ],
   "source": [
    "y < x   # does cab come before taxi?"
   ]
  },
  {
   "cell_type": "code",
   "execution_count": 69,
   "id": "6b7d0d76",
   "metadata": {},
   "outputs": [
    {
     "data": {
      "text/plain": [
       "True"
      ]
     },
     "execution_count": 69,
     "metadata": {},
     "output_type": "execute_result"
    }
   ],
   "source": [
    "x = 'Taxi'  # notice: capital T\n",
    "y = 'cab'\n",
    "\n",
    "x < y   # all capital letters come before all lowercase letters"
   ]
  },
  {
   "cell_type": "code",
   "execution_count": 70,
   "id": "726609b7",
   "metadata": {},
   "outputs": [
    {
     "name": "stdout",
     "output_type": "stream",
     "text": [
      "hello\n"
     ]
    }
   ],
   "source": [
    "print('hello')    # Python finds the function called \"print\" and executes it, with \"hello\" as an argument"
   ]
  },
  {
   "cell_type": "code",
   "execution_count": 71,
   "id": "73d7f187",
   "metadata": {},
   "outputs": [],
   "source": [
    "# what if I have the crazy idea of assigning to print, as if it were a variable?\n",
    "print='hello'"
   ]
  },
  {
   "cell_type": "code",
   "execution_count": 72,
   "id": "bb7aeff3",
   "metadata": {},
   "outputs": [
    {
     "ename": "TypeError",
     "evalue": "'str' object is not callable",
     "output_type": "error",
     "traceback": [
      "\u001b[0;31m---------------------------------------------------------------------------\u001b[0m",
      "\u001b[0;31mTypeError\u001b[0m                                 Traceback (most recent call last)",
      "Cell \u001b[0;32mIn [72], line 1\u001b[0m\n\u001b[0;32m----> 1\u001b[0m \u001b[38;5;28;43mprint\u001b[39;49m\u001b[43m(\u001b[49m\u001b[38;5;124;43m'\u001b[39;49m\u001b[38;5;124;43mhello\u001b[39;49m\u001b[38;5;124;43m'\u001b[39;49m\u001b[43m)\u001b[49m\n",
      "\u001b[0;31mTypeError\u001b[0m: 'str' object is not callable"
     ]
    }
   ],
   "source": [
    "print('hello')    # we have redefined print to be a string, not a function"
   ]
  },
  {
   "cell_type": "code",
   "execution_count": 73,
   "id": "c87f81fa",
   "metadata": {},
   "outputs": [
    {
     "ename": "TypeError",
     "evalue": "'str' object is not callable",
     "output_type": "error",
     "traceback": [
      "\u001b[0;31m---------------------------------------------------------------------------\u001b[0m",
      "\u001b[0;31mTypeError\u001b[0m                                 Traceback (most recent call last)",
      "Cell \u001b[0;32mIn [73], line 1\u001b[0m\n\u001b[0;32m----> 1\u001b[0m \u001b[38;5;28;43mprint\u001b[39;49m\u001b[43m \u001b[49m\u001b[43m(\u001b[49m\u001b[38;5;124;43m'\u001b[39;49m\u001b[38;5;124;43mI am free!\u001b[39;49m\u001b[38;5;124;43m'\u001b[39;49m\u001b[43m)\u001b[49m\n",
      "\u001b[0;31mTypeError\u001b[0m: 'str' object is not callable"
     ]
    }
   ],
   "source": [
    "print ('I am free!')"
   ]
  },
  {
   "cell_type": "code",
   "execution_count": 74,
   "id": "7b5d5954",
   "metadata": {},
   "outputs": [],
   "source": [
    "# to fix this problem, you can use the \"del\" command, which removes a user-defined\n",
    "# variable, especially when you have overwritten a builtin\n",
    "\n",
    "del(print)"
   ]
  },
  {
   "cell_type": "code",
   "execution_count": 75,
   "id": "0d20be2b",
   "metadata": {},
   "outputs": [
    {
     "name": "stdout",
     "output_type": "stream",
     "text": [
      "I am free!\n"
     ]
    }
   ],
   "source": [
    "print('I am free!')"
   ]
  },
  {
   "cell_type": "code",
   "execution_count": 77,
   "id": "f969c691",
   "metadata": {},
   "outputs": [
    {
     "data": {
      "text/plain": [
       "'3.10.4 (main, Jun 29 2022, 12:14:53) [GCC 11.2.0]'"
      ]
     },
     "execution_count": 77,
     "metadata": {},
     "output_type": "execute_result"
    }
   ],
   "source": [
    "import sys\n",
    "sys.version"
   ]
  },
  {
   "cell_type": "code",
   "execution_count": 82,
   "id": "03e7de44",
   "metadata": {},
   "outputs": [
    {
     "ename": "SyntaxError",
     "evalue": "expected ':' (2130232676.py, line 5)",
     "output_type": "error",
     "traceback": [
      "\u001b[0;36m  Cell \u001b[0;32mIn [82], line 5\u001b[0;36m\u001b[0m\n\u001b[0;31m    else #no colon\u001b[0m\n\u001b[0m         ^\u001b[0m\n\u001b[0;31mSyntaxError\u001b[0m\u001b[0;31m:\u001b[0m expected ':'\n"
     ]
    }
   ],
   "source": [
    "x = 10\n",
    "\n",
    "if x == 9:\n",
    "    print('whatever')\n",
    "else #no colon\n",
    "        print('This will not print')"
   ]
  },
  {
   "cell_type": "code",
   "execution_count": 80,
   "id": "5e837b40",
   "metadata": {},
   "outputs": [
    {
     "name": "stdout",
     "output_type": "stream",
     "text": [
      "This will not print\n"
     ]
    }
   ],
   "source": [
    "x = 10\n",
    "\n",
    "if (    x \n",
    "    \n",
    "    \n",
    "    == \n",
    "    \n",
    "    \n",
    "    9\n",
    "    \n",
    "   ):\n",
    "    print('Whatever')\n",
    "else:\n",
    "    print('This will not print')"
   ]
  },
  {
   "cell_type": "markdown",
   "id": "a5dc2eb8",
   "metadata": {},
   "source": [
    "#writing Markdown in a cell "
   ]
  },
  {
   "cell_type": "markdown",
   "id": "9de2b737",
   "metadata": {},
   "source": [
    "# Exercise: Guessing game\n",
    "1. Get a random number between 0-100. (I'll show you how in a moment.)  Assign that number to the variable `number`.\n",
    "2. Print the number, so that debugging is easier.\n",
    "3. Ask the user to guess the number.  Based on the user's input, we should print:\n",
    "    - You got it!\n",
    "    - Too high!\n",
    "    - Too low!\n",
    "4. The user only gets one shot at guessing.    \n",
    "How do we generate a random number? We're going to use the `random` module, which has this functionality built in:\n",
    "```python\n",
    "import random                    # load this library of functionality\n",
    "number = random.randint(0, 100)  # run the randint function in the random module\n",
    "```"
   ]
  },
  {
   "cell_type": "markdown",
   "id": "784ef6e7",
   "metadata": {},
   "source": [
    "hey \n"
   ]
  },
  {
   "cell_type": "code",
   "execution_count": 90,
   "id": "88e7442c",
   "metadata": {},
   "outputs": [],
   "source": [
    "import random                  # load this libray of functionality \n",
    "number = random.randint(0,100) # run the randint function in the random module"
   ]
  },
  {
   "cell_type": "code",
   "execution_count": null,
   "id": "4487feaa",
   "metadata": {},
   "outputs": [],
   "source": []
  }
 ],
 "metadata": {
  "kernelspec": {
   "display_name": "Python 3 (ipykernel)",
   "language": "python",
   "name": "python3"
  },
  "language_info": {
   "codemirror_mode": {
    "name": "ipython",
    "version": 3
   },
   "file_extension": ".py",
   "mimetype": "text/x-python",
   "name": "python",
   "nbconvert_exporter": "python",
   "pygments_lexer": "ipython3",
   "version": "3.10.4"
  }
 },
 "nbformat": 4,
 "nbformat_minor": 5
}
