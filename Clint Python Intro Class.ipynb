{
 "cells": [
  {
   "cell_type": "code",
   "execution_count": 1,
   "id": "75245fe1",
   "metadata": {},
   "outputs": [
    {
     "name": "stdout",
     "output_type": "stream",
     "text": [
      "Clint\n",
      "30\n"
     ]
    }
   ],
   "source": [
    "print('Clint')\n",
    "\n",
    "x= 10 # assogm the number 10 to x\n",
    "y= 20 # assign the number 20 to y\n",
    "\n",
    "print(x+y) # first add x and y together, and print the resulting value \n",
    "\n"
   ]
  },
  {
   "cell_type": "code",
   "execution_count": null,
   "id": "b69622be",
   "metadata": {},
   "outputs": [],
   "source": [
    "# assign the user's input in the \"\"\n",
    "name = input ('Enter your name: ')\n",
    "print('hello, ' + name + '!')\n"
   ]
  },
  {
   "cell_type": "code",
   "execution_count": null,
   "id": "acab8f68",
   "metadata": {},
   "outputs": [],
   "source": []
  },
  {
   "cell_type": "code",
   "execution_count": null,
   "id": "30cd39c0",
   "metadata": {},
   "outputs": [],
   "source": []
  },
  {
   "cell_type": "code",
   "execution_count": null,
   "id": "0fc994d6",
   "metadata": {},
   "outputs": [],
   "source": []
  },
  {
   "cell_type": "code",
   "execution_count": null,
   "id": "9031a728",
   "metadata": {},
   "outputs": [],
   "source": []
  }
 ],
 "metadata": {
  "kernelspec": {
   "display_name": "Python 3 (ipykernel)",
   "language": "python",
   "name": "python3"
  },
  "language_info": {
   "codemirror_mode": {
    "name": "ipython",
    "version": 3
   },
   "file_extension": ".py",
   "mimetype": "text/x-python",
   "name": "python",
   "nbconvert_exporter": "python",
   "pygments_lexer": "ipython3",
   "version": "3.10.4"
  }
 },
 "nbformat": 4,
 "nbformat_minor": 5
}
