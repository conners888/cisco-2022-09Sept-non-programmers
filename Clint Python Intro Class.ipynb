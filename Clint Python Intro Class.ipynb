{
 "cells": [
  {
   "cell_type": "code",
   "execution_count": 4,
   "id": "9660c3cb",
   "metadata": {},
   "outputs": [
    {
     "name": "stdout",
     "output_type": "stream",
     "text": [
      "Clint\n",
      "30\n"
     ]
    }
   ],
   "source": [
    "print('Clint')\n",
    "\n",
    "x= 10 # assogm the number 10 to x\n",
    "y= 20 # assign the number 20 to y\n",
    "\n",
    "print(x+y) # first add x and y together, and print the resulting value \n",
    "\n",
    "\n"
   ]
  },
  {
   "cell_type": "code",
   "execution_count": 6,
   "id": "37bd48de",
   "metadata": {},
   "outputs": [
    {
     "ename": "SyntaxError",
     "evalue": "invalid syntax (295781713.py, line 7)",
     "output_type": "error",
     "traceback": [
      "\u001b[0;36m  Cell \u001b[0;32mIn [6], line 7\u001b[0;36m\u001b[0m\n\u001b[0;31m    Enter your name: anonymous\u001b[0m\n\u001b[0m          ^\u001b[0m\n\u001b[0;31mSyntaxError\u001b[0m\u001b[0;31m:\u001b[0m invalid syntax\n"
     ]
    }
   ],
   "source": [
    "# in assignment, the right side runs first\n",
    "# it will run \"input\", asking the user for their name\n",
    "# whatever \"input\" returns is assigned to the name variable\n",
    "\n",
    "name=input('Enter your name: ')\n",
    "print('Hello, '+name+'!')\n",
    "Enter your name: anonymous\n",
    "Hello, anonymous!\n",
    "print('Hello,'+name+'!')\n",
    "Hello,anonymous!\n"
   ]
  },
  {
   "cell_type": "code",
   "execution_count": 14,
   "id": "1a415b2a",
   "metadata": {},
   "outputs": [
    {
     "data": {
      "text/plain": [
       "False"
      ]
     },
     "execution_count": 14,
     "metadata": {},
     "output_type": "execute_result"
    }
   ],
   "source": [
    "x = 10\n",
    "y = 20\n",
    "\n",
    "x == y #are they the same? \n",
    "\n",
    "\n"
   ]
  },
  {
   "cell_type": "code",
   "execution_count": 15,
   "id": "b6f63c30",
   "metadata": {},
   "outputs": [
    {
     "name": "stdout",
     "output_type": "stream",
     "text": [
      "hello!\n",
      "Hello, again!\n",
      "OK, goodbye!!\n"
     ]
    }
   ],
   "source": [
    "print('hello!')        # just pressing enter goes down one line\n",
    "print('Hello, again!') #again, we'll press ENTER\n",
    "print('OK, goodbye!!') #now, I'll press Shift+Enter, To execute the cell\n",
    "\n",
    "# shift+enter == execute the cell"
   ]
  },
  {
   "cell_type": "code",
   "execution_count": 16,
   "id": "5dc3834f",
   "metadata": {},
   "outputs": [
    {
     "data": {
      "text/plain": [
       "10"
      ]
     },
     "execution_count": 16,
     "metadata": {},
     "output_type": "execute_result"
    }
   ],
   "source": [
    "x"
   ]
  },
  {
   "cell_type": "code",
   "execution_count": 17,
   "id": "8ece35c3",
   "metadata": {},
   "outputs": [
    {
     "data": {
      "text/plain": [
       "20"
      ]
     },
     "execution_count": 17,
     "metadata": {},
     "output_type": "execute_result"
    }
   ],
   "source": [
    "y"
   ]
  },
  {
   "cell_type": "code",
   "execution_count": 19,
   "id": "7d97d003",
   "metadata": {},
   "outputs": [],
   "source": [
    "name = 'Clint' # assignment\n",
    "name = 'Clint' # here, we ask a question: does the name variable contain the same value as the string 'Clint'?"
   ]
  },
  {
   "cell_type": "code",
   "execution_count": 20,
   "id": "9dba93b5",
   "metadata": {},
   "outputs": [
    {
     "ename": "SyntaxError",
     "evalue": "invalid syntax (3443702815.py, line 1)",
     "output_type": "error",
     "traceback": [
      "\u001b[0;36m  Cell \u001b[0;32mIn [20], line 1\u001b[0;36m\u001b[0m\n\u001b[0;31m    Comparison operators\u001b[0m\n\u001b[0m               ^\u001b[0m\n\u001b[0;31mSyntaxError\u001b[0m\u001b[0;31m:\u001b[0m invalid syntax\n"
     ]
    }
   ],
   "source": [
    "Comparison operators\n",
    "\n",
    "Python has a lot of comparison operators. All of these return True or False, after comparing two values:\n",
    "\n",
    "    == -- equality\n",
    "    != -- inequality\n",
    "    < -- less than\n",
    "    > -- greater than\n",
    "    <= -- less than or equal\n",
    "    >= -- greater than or equal\n",
    "\n",
    "These operators work on numbers and also on text!\n",
    "\n",
    "If we say x < y, and both x and y are text strings, this will tell us whether x comes before y alphabetically.\n",
    "Making decisions with comparisons\n",
    "\n",
    "If we want to have our code make a decision, doing one thing if a variable has a certain value, and another thing if it has another value, we can do that with if\n",
    "\n"
   ]
  },
  {
   "cell_type": "code",
   "execution_count": 21,
   "id": "b31a3577",
   "metadata": {},
   "outputs": [
    {
     "name": "stdout",
     "output_type": "stream",
     "text": [
      "Enter your name: Clint\n",
      "Hello, Clint!\n"
     ]
    }
   ],
   "source": [
    "name = input('Enter your name: ')    # we get input from the user, as a text string, and assign to the name variable\n",
    "\n",
    "# for conditions:\n",
    "# - if at the start of a line\n",
    "# - a value that can be either True or False\n",
    "# - at the end of the line, :\n",
    "# - any number of lines, indented, doing anything we want -- this is the \"block\" from Python's perspective\n",
    "\n",
    "# if looks to its right, and asks: Is that value True?\n",
    "# - if so, then its block executes\n",
    "# - if not, then the \"else\" block executes, assuming that it exists (the else is optional)\n",
    "\n",
    "if name == 'Reuven':  # does name contain the same value as the string 'Reuven'?\n",
    "    print('Hi, boss!')\n",
    "    print('So good to see you again!')\n",
    "else:\n",
    "    print('Hello, ' + name + '!')"
   ]
  },
  {
   "cell_type": "code",
   "execution_count": 22,
   "id": "30d71b04",
   "metadata": {},
   "outputs": [
    {
     "ename": "SyntaxError",
     "evalue": "unterminated string literal (detected at line 5) (1107956881.py, line 5)",
     "output_type": "error",
     "traceback": [
      "\u001b[0;36m  Cell \u001b[0;32mIn [22], line 5\u001b[0;36m\u001b[0m\n\u001b[0;31m    If you're counting spaces for indentation, you really should get a better Python editor.\u001b[0m\n\u001b[0m          ^\u001b[0m\n\u001b[0;31mSyntaxError\u001b[0m\u001b[0;31m:\u001b[0m unterminated string literal (detected at line 5)\n"
     ]
    }
   ],
   "source": [
    "Python uses indentation\n",
    "\n",
    "Each block (i.e., any section of code that comes after a :) must be indented. The indentation is not optional. It can be as big or as little as you want, but must be consistent. (Most people use 4 spaces per indent level.)\n",
    "\n",
    "If you're counting spaces for indentation, you really should get a better Python editor.\n",
    "\n",
    "Each block can contain as many (or as few) lines as you want. When the indentation returns to the former level, then the block is over.\n"
   ]
  },
  {
   "cell_type": "code",
   "execution_count": null,
   "id": "e5c33d49",
   "metadata": {},
   "outputs": [],
   "source": [
    "name = 'Clint'\n",
    "type(name) "
   ]
  }
 ],
 "metadata": {
  "kernelspec": {
   "display_name": "Python 3 (ipykernel)",
   "language": "python",
   "name": "python3"
  },
  "language_info": {
   "codemirror_mode": {
    "name": "ipython",
    "version": 3
   },
   "file_extension": ".py",
   "mimetype": "text/x-python",
   "name": "python",
   "nbconvert_exporter": "python",
   "pygments_lexer": "ipython3",
   "version": "3.10.4"
  }
 },
 "nbformat": 4,
 "nbformat_minor": 5
}
