{
 "cells": [
  {
   "cell_type": "code",
   "execution_count": 4,
   "id": "9660c3cb",
   "metadata": {},
   "outputs": [
    {
     "name": "stdout",
     "output_type": "stream",
     "text": [
      "Clint\n",
      "30\n"
     ]
    }
   ],
   "source": [
    "print('Clint')\n",
    "\n",
    "x= 10 # assogm the number 10 to x\n",
    "y= 20 # assign the number 20 to y\n",
    "\n",
    "print(x+y) # first add x and y together, and print the resulting value \n",
    "\n",
    "\n"
   ]
  },
  {
   "cell_type": "code",
   "execution_count": 28,
   "id": "1a415b2a",
   "metadata": {},
   "outputs": [
    {
     "data": {
      "text/plain": [
       "False"
      ]
     },
     "execution_count": 28,
     "metadata": {},
     "output_type": "execute_result"
    }
   ],
   "source": [
    "x = 10\n",
    "y = 20\n",
    "\n",
    "x == y #are they the same? \n",
    "\n",
    "\n"
   ]
  },
  {
   "cell_type": "code",
   "execution_count": 15,
   "id": "b6f63c30",
   "metadata": {},
   "outputs": [
    {
     "name": "stdout",
     "output_type": "stream",
     "text": [
      "hello!\n",
      "Hello, again!\n",
      "OK, goodbye!!\n"
     ]
    }
   ],
   "source": [
    "print('hello!')        # just pressing enter goes down one line\n",
    "print('Hello, again!') #again, we'll press ENTER\n",
    "print('OK, goodbye!!') #now, I'll press Shift+Enter, To execute the cell\n",
    "\n",
    "# shift+enter == execute the cell"
   ]
  },
  {
   "cell_type": "code",
   "execution_count": 16,
   "id": "f0b4db9b",
   "metadata": {},
   "outputs": [
    {
     "data": {
      "text/plain": [
       "10"
      ]
     },
     "execution_count": 16,
     "metadata": {},
     "output_type": "execute_result"
    }
   ],
   "source": [
    "x"
   ]
  },
  {
   "cell_type": "code",
   "execution_count": 17,
   "id": "b9b558e3",
   "metadata": {},
   "outputs": [
    {
     "data": {
      "text/plain": [
       "20"
      ]
     },
     "execution_count": 17,
     "metadata": {},
     "output_type": "execute_result"
    }
   ],
   "source": [
    "y"
   ]
  },
  {
   "cell_type": "code",
   "execution_count": 29,
   "id": "015686bf",
   "metadata": {},
   "outputs": [],
   "source": [
    "name = 'Clint' # assignment\n",
    "name = 'Clint' # here, we ask a question: does the name variable contain the same value as the string 'Clint'?"
   ]
  },
  {
   "cell_type": "code",
   "execution_count": 30,
   "id": "d292d923",
   "metadata": {},
   "outputs": [
    {
     "data": {
      "text/plain": [
       "str"
      ]
     },
     "execution_count": 30,
     "metadata": {},
     "output_type": "execute_result"
    }
   ],
   "source": [
    "name = 'Clint' #'Clint'\n",
    "type(name) # this asks: what kind of value do I have in the \"name\" variable?this asks: what kind of value is the text string 'name'?"
   ]
  },
  {
   "cell_type": "code",
   "execution_count": 31,
   "id": "919d4655",
   "metadata": {},
   "outputs": [
    {
     "data": {
      "text/plain": [
       "str"
      ]
     },
     "execution_count": 31,
     "metadata": {},
     "output_type": "execute_result"
    }
   ],
   "source": [
    "name = 'Clint'\n",
    "type(name)   # this asks: what kind of value do I have in the \"name\" variable?"
   ]
  },
  {
   "cell_type": "code",
   "execution_count": 25,
   "id": "ef292bd8",
   "metadata": {
    "scrolled": true
   },
   "outputs": [
    {
     "data": {
      "text/plain": [
       "int"
      ]
     },
     "execution_count": 25,
     "metadata": {},
     "output_type": "execute_result"
    }
   ],
   "source": [
    "name = 5\n",
    "\n",
    "type(name) #no quotes, so we're asking: what is the type of value in the \"name\" variable?"
   ]
  },
  {
   "cell_type": "code",
   "execution_count": 26,
   "id": "263d41ea",
   "metadata": {},
   "outputs": [
    {
     "data": {
      "text/plain": [
       "str"
      ]
     },
     "execution_count": 26,
     "metadata": {},
     "output_type": "execute_result"
    }
   ],
   "source": [
    "type('name')  # quotes, so we have a string, so..."
   ]
  },
  {
   "cell_type": "code",
   "execution_count": 27,
   "id": "fe325eb6",
   "metadata": {},
   "outputs": [
    {
     "name": "stdout",
     "output_type": "stream",
     "text": [
      "Enter your name:Clint\n",
      "Hello, Clint!\n"
     ]
    }
   ],
   "source": [
    "name = input('Enter your name:')\n",
    "\n",
    "if name == 'Robert':       # colon at the end of the line...\n",
    "    print('Hi, boss!')     # ... indentation at the start of a block -- these go together\n",
    "    print('So good to see you again!')\n",
    "else:\n",
    "    print('Hello, ' + name + '!')"
   ]
  },
  {
   "cell_type": "code",
   "execution_count": 32,
   "id": "d517f3b2",
   "metadata": {},
   "outputs": [
    {
     "ename": "IndentationError",
     "evalue": "expected an indented block after 'if' statement on line 1 (4178352048.py, line 2)",
     "output_type": "error",
     "traceback": [
      "\u001b[0;36m  Cell \u001b[0;32mIn [32], line 2\u001b[0;36m\u001b[0m\n\u001b[0;31m    print('Hello')\u001b[0m\n\u001b[0m    ^\u001b[0m\n\u001b[0;31mIndentationError\u001b[0m\u001b[0;31m:\u001b[0m expected an indented block after 'if' statement on line 1\n"
     ]
    }
   ],
   "source": [
    "if True:\n",
    "print('Hello')  "
   ]
  },
  {
   "cell_type": "code",
   "execution_count": 34,
   "id": "3cfa8c8f",
   "metadata": {},
   "outputs": [
    {
     "data": {
      "text/plain": [
       "int"
      ]
     },
     "execution_count": 34,
     "metadata": {},
     "output_type": "execute_result"
    }
   ],
   "source": [
    "x = 10 # no decimal point, so this is an integer -- a whole number\n",
    "type(x)"
   ]
  },
  {
   "cell_type": "code",
   "execution_count": 35,
   "id": "e2d2aee5",
   "metadata": {},
   "outputs": [],
   "source": [
    "y = 3"
   ]
  },
  {
   "cell_type": "code",
   "execution_count": 36,
   "id": "ba0b59ff",
   "metadata": {},
   "outputs": [
    {
     "data": {
      "text/plain": [
       "13"
      ]
     },
     "execution_count": 36,
     "metadata": {},
     "output_type": "execute_result"
    }
   ],
   "source": [
    "x + y\n"
   ]
  },
  {
   "cell_type": "code",
   "execution_count": 37,
   "id": "60f3e2bc",
   "metadata": {},
   "outputs": [
    {
     "data": {
      "text/plain": [
       "30"
      ]
     },
     "execution_count": 37,
     "metadata": {},
     "output_type": "execute_result"
    }
   ],
   "source": [
    "x * y"
   ]
  },
  {
   "cell_type": "code",
   "execution_count": 38,
   "id": "c17f86c2",
   "metadata": {},
   "outputs": [
    {
     "data": {
      "text/plain": [
       "3.3333333333333335"
      ]
     },
     "execution_count": 38,
     "metadata": {},
     "output_type": "execute_result"
    }
   ],
   "source": [
    "x / y # / always retunrs a floating-point number, even if the resuly would be an integer"
   ]
  },
  {
   "cell_type": "code",
   "execution_count": 39,
   "id": "599fbb7a",
   "metadata": {},
   "outputs": [
    {
     "data": {
      "text/plain": [
       "1.0"
      ]
     },
     "execution_count": 39,
     "metadata": {},
     "output_type": "execute_result"
    }
   ],
   "source": [
    "x / x"
   ]
  },
  {
   "cell_type": "code",
   "execution_count": 40,
   "id": "026f07ab",
   "metadata": {},
   "outputs": [
    {
     "data": {
      "text/plain": [
       "3"
      ]
     },
     "execution_count": 40,
     "metadata": {},
     "output_type": "execute_result"
    }
   ],
   "source": [
    "x // y # this always retunrs an ineger -- it's known as \"floordiv\"\n"
   ]
  },
  {
   "cell_type": "code",
   "execution_count": 41,
   "id": "e34518d0",
   "metadata": {},
   "outputs": [
    {
     "data": {
      "text/plain": [
       "1000"
      ]
     },
     "execution_count": 41,
     "metadata": {},
     "output_type": "execute_result"
    }
   ],
   "source": [
    "x ** y # this means: x to the y power"
   ]
  },
  {
   "cell_type": "code",
   "execution_count": 42,
   "id": "43b41c9b",
   "metadata": {},
   "outputs": [
    {
     "data": {
      "text/plain": [
       "1"
      ]
     },
     "execution_count": 42,
     "metadata": {},
     "output_type": "execute_result"
    }
   ],
   "source": [
    "x % y "
   ]
  },
  {
   "cell_type": "code",
   "execution_count": 43,
   "id": "e750800f",
   "metadata": {},
   "outputs": [
    {
     "data": {
      "text/plain": [
       "30"
      ]
     },
     "execution_count": 43,
     "metadata": {},
     "output_type": "execute_result"
    }
   ],
   "source": [
    "answer = x * y\n",
    "answer"
   ]
  },
  {
   "cell_type": "code",
   "execution_count": 44,
   "id": "65d84468",
   "metadata": {},
   "outputs": [
    {
     "data": {
      "text/plain": [
       "11"
      ]
     },
     "execution_count": 44,
     "metadata": {},
     "output_type": "execute_result"
    }
   ],
   "source": [
    "# What happens here?\n",
    "\n",
    "x = 10\n",
    "x = x + 1 # this makes no *mathmatical* sense, but = in python isn't mathmatical equality\n",
    "\n",
    "x"
   ]
  },
  {
   "cell_type": "code",
   "execution_count": null,
   "id": "563cf8ad",
   "metadata": {},
   "outputs": [],
   "source": [
    "# it's so common to say x = x + 1 that theres a shorcut\n",
    "\n",
    "x += 1 #same as x= x"
   ]
  }
 ],
 "metadata": {
  "kernelspec": {
   "display_name": "Python 3 (ipykernel)",
   "language": "python",
   "name": "python3"
  },
  "language_info": {
   "codemirror_mode": {
    "name": "ipython",
    "version": 3
   },
   "file_extension": ".py",
   "mimetype": "text/x-python",
   "name": "python",
   "nbconvert_exporter": "python",
   "pygments_lexer": "ipython3",
   "version": "3.10.4"
  }
 },
 "nbformat": 4,
 "nbformat_minor": 5
}
