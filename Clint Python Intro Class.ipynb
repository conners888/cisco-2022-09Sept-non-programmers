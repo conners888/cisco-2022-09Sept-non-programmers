{
 "cells": [
  {
   "cell_type": "code",
   "execution_count": 4,
   "id": "9660c3cb",
   "metadata": {},
   "outputs": [
    {
     "name": "stdout",
     "output_type": "stream",
     "text": [
      "Clint\n",
      "30\n"
     ]
    }
   ],
   "source": [
    "print('Clint')\n",
    "\n",
    "x= 10 # assogm the number 10 to x\n",
    "y= 20 # assign the number 20 to y\n",
    "\n",
    "print(x+y) # first add x and y together, and print the resulting value \n",
    "\n",
    "\n"
   ]
  },
  {
   "cell_type": "code",
   "execution_count": 28,
   "id": "1a415b2a",
   "metadata": {},
   "outputs": [
    {
     "data": {
      "text/plain": [
       "False"
      ]
     },
     "execution_count": 28,
     "metadata": {},
     "output_type": "execute_result"
    }
   ],
   "source": [
    "x = 10\n",
    "y = 20\n",
    "\n",
    "x == y #are they the same? \n",
    "\n",
    "\n"
   ]
  },
  {
   "cell_type": "code",
   "execution_count": 15,
   "id": "b6f63c30",
   "metadata": {},
   "outputs": [
    {
     "name": "stdout",
     "output_type": "stream",
     "text": [
      "hello!\n",
      "Hello, again!\n",
      "OK, goodbye!!\n"
     ]
    }
   ],
   "source": [
    "print('hello!')        # just pressing enter goes down one line\n",
    "print('Hello, again!') #again, we'll press ENTER\n",
    "print('OK, goodbye!!') #now, I'll press Shift+Enter, To execute the cell\n",
    "\n",
    "# shift+enter == execute the cell"
   ]
  },
  {
   "cell_type": "code",
   "execution_count": 16,
   "id": "b4392267",
   "metadata": {},
   "outputs": [
    {
     "data": {
      "text/plain": [
       "10"
      ]
     },
     "execution_count": 16,
     "metadata": {},
     "output_type": "execute_result"
    }
   ],
   "source": [
    "x"
   ]
  },
  {
   "cell_type": "code",
   "execution_count": 17,
   "id": "453f9ef9",
   "metadata": {},
   "outputs": [
    {
     "data": {
      "text/plain": [
       "20"
      ]
     },
     "execution_count": 17,
     "metadata": {},
     "output_type": "execute_result"
    }
   ],
   "source": [
    "y"
   ]
  },
  {
   "cell_type": "code",
   "execution_count": 29,
   "id": "1f23f5df",
   "metadata": {},
   "outputs": [],
   "source": [
    "name = 'Clint' # assignment\n",
    "name = 'Clint' # here, we ask a question: does the name variable contain the same value as the string 'Clint'?"
   ]
  },
  {
   "cell_type": "code",
   "execution_count": 30,
   "id": "d6d73b46",
   "metadata": {},
   "outputs": [
    {
     "data": {
      "text/plain": [
       "str"
      ]
     },
     "execution_count": 30,
     "metadata": {},
     "output_type": "execute_result"
    }
   ],
   "source": [
    "name = 'Clint' #'Clint'\n",
    "type(name) # this asks: what kind of value do I have in the \"name\" variable?this asks: what kind of value is the text string 'name'?"
   ]
  },
  {
   "cell_type": "code",
   "execution_count": 31,
   "id": "d30cecb1",
   "metadata": {},
   "outputs": [
    {
     "data": {
      "text/plain": [
       "str"
      ]
     },
     "execution_count": 31,
     "metadata": {},
     "output_type": "execute_result"
    }
   ],
   "source": [
    "name = 'Clint'\n",
    "type(name)   # this asks: what kind of value do I have in the \"name\" variable?"
   ]
  },
  {
   "cell_type": "code",
   "execution_count": 25,
   "id": "8d6e230d",
   "metadata": {
    "scrolled": true
   },
   "outputs": [
    {
     "data": {
      "text/plain": [
       "int"
      ]
     },
     "execution_count": 25,
     "metadata": {},
     "output_type": "execute_result"
    }
   ],
   "source": [
    "name = 5\n",
    "\n",
    "type(name) #no quotes, so we're asking: what is the type of value in the \"name\" variable?"
   ]
  },
  {
   "cell_type": "code",
   "execution_count": 26,
   "id": "21323218",
   "metadata": {},
   "outputs": [
    {
     "data": {
      "text/plain": [
       "str"
      ]
     },
     "execution_count": 26,
     "metadata": {},
     "output_type": "execute_result"
    }
   ],
   "source": [
    "type('name')  # quotes, so we have a string, so..."
   ]
  },
  {
   "cell_type": "code",
   "execution_count": 27,
   "id": "a53c037f",
   "metadata": {},
   "outputs": [
    {
     "name": "stdout",
     "output_type": "stream",
     "text": [
      "Enter your name:Clint\n",
      "Hello, Clint!\n"
     ]
    }
   ],
   "source": [
    "name = input('Enter your name:')\n",
    "\n",
    "if name == 'Robert':       # colon at the end of the line...\n",
    "    print('Hi, boss!')     # ... indentation at the start of a block -- these go together\n",
    "    print('So good to see you again!')\n",
    "else:\n",
    "    print('Hello, ' + name + '!')"
   ]
  },
  {
   "cell_type": "code",
   "execution_count": 32,
   "id": "c1b41212",
   "metadata": {},
   "outputs": [
    {
     "ename": "IndentationError",
     "evalue": "expected an indented block after 'if' statement on line 1 (4178352048.py, line 2)",
     "output_type": "error",
     "traceback": [
      "\u001b[0;36m  Cell \u001b[0;32mIn [32], line 2\u001b[0;36m\u001b[0m\n\u001b[0;31m    print('Hello')\u001b[0m\n\u001b[0m    ^\u001b[0m\n\u001b[0;31mIndentationError\u001b[0m\u001b[0;31m:\u001b[0m expected an indented block after 'if' statement on line 1\n"
     ]
    }
   ],
   "source": [
    "if True:\n",
    "print('Hello')  "
   ]
  },
  {
   "cell_type": "code",
   "execution_count": 34,
   "id": "b3100ec1",
   "metadata": {},
   "outputs": [
    {
     "data": {
      "text/plain": [
       "int"
      ]
     },
     "execution_count": 34,
     "metadata": {},
     "output_type": "execute_result"
    }
   ],
   "source": [
    "x = 10 # no decimal point, so this is an integer -- a whole number\n",
    "type(x)"
   ]
  },
  {
   "cell_type": "code",
   "execution_count": 35,
   "id": "8cb5c1ee",
   "metadata": {},
   "outputs": [],
   "source": [
    "y = 3"
   ]
  },
  {
   "cell_type": "code",
   "execution_count": 36,
   "id": "53410cd9",
   "metadata": {},
   "outputs": [
    {
     "data": {
      "text/plain": [
       "13"
      ]
     },
     "execution_count": 36,
     "metadata": {},
     "output_type": "execute_result"
    }
   ],
   "source": [
    "x + y\n"
   ]
  },
  {
   "cell_type": "code",
   "execution_count": 37,
   "id": "f04a21f5",
   "metadata": {},
   "outputs": [
    {
     "data": {
      "text/plain": [
       "30"
      ]
     },
     "execution_count": 37,
     "metadata": {},
     "output_type": "execute_result"
    }
   ],
   "source": [
    "x * y"
   ]
  },
  {
   "cell_type": "code",
   "execution_count": 38,
   "id": "e8e75de3",
   "metadata": {},
   "outputs": [
    {
     "data": {
      "text/plain": [
       "3.3333333333333335"
      ]
     },
     "execution_count": 38,
     "metadata": {},
     "output_type": "execute_result"
    }
   ],
   "source": [
    "x / y # / always retunrs a floating-point number, even if the resuly would be an integer"
   ]
  },
  {
   "cell_type": "code",
   "execution_count": 39,
   "id": "8aa28dd0",
   "metadata": {},
   "outputs": [
    {
     "data": {
      "text/plain": [
       "1.0"
      ]
     },
     "execution_count": 39,
     "metadata": {},
     "output_type": "execute_result"
    }
   ],
   "source": [
    "x / x"
   ]
  },
  {
   "cell_type": "code",
   "execution_count": 40,
   "id": "167cd747",
   "metadata": {},
   "outputs": [
    {
     "data": {
      "text/plain": [
       "3"
      ]
     },
     "execution_count": 40,
     "metadata": {},
     "output_type": "execute_result"
    }
   ],
   "source": [
    "x // y # this always retunrs an ineger -- it's known as \"floordiv\"\n"
   ]
  },
  {
   "cell_type": "code",
   "execution_count": 41,
   "id": "904f42e6",
   "metadata": {},
   "outputs": [
    {
     "data": {
      "text/plain": [
       "1000"
      ]
     },
     "execution_count": 41,
     "metadata": {},
     "output_type": "execute_result"
    }
   ],
   "source": [
    "x ** y # this means: x to the y power"
   ]
  },
  {
   "cell_type": "code",
   "execution_count": 42,
   "id": "b82dabb0",
   "metadata": {},
   "outputs": [
    {
     "data": {
      "text/plain": [
       "1"
      ]
     },
     "execution_count": 42,
     "metadata": {},
     "output_type": "execute_result"
    }
   ],
   "source": [
    "x % y "
   ]
  },
  {
   "cell_type": "code",
   "execution_count": 43,
   "id": "1b81278d",
   "metadata": {},
   "outputs": [
    {
     "data": {
      "text/plain": [
       "30"
      ]
     },
     "execution_count": 43,
     "metadata": {},
     "output_type": "execute_result"
    }
   ],
   "source": [
    "answer = x * y\n",
    "answer"
   ]
  },
  {
   "cell_type": "code",
   "execution_count": 44,
   "id": "da1ae92d",
   "metadata": {},
   "outputs": [
    {
     "data": {
      "text/plain": [
       "11"
      ]
     },
     "execution_count": 44,
     "metadata": {},
     "output_type": "execute_result"
    }
   ],
   "source": [
    "# What happens here?\n",
    "\n",
    "x = 10\n",
    "x = x + 1 # this makes no *mathmatical* sense, but = in python isn't mathmatical equality\n",
    "\n",
    "x"
   ]
  },
  {
   "cell_type": "code",
   "execution_count": 45,
   "id": "d5d043fc",
   "metadata": {},
   "outputs": [
    {
     "data": {
      "text/plain": [
       "12"
      ]
     },
     "execution_count": 45,
     "metadata": {},
     "output_type": "execute_result"
    }
   ],
   "source": [
    "# it's so common to say x = x + 1 that theres a shorcut\n",
    "\n",
    "x += 1 #same as x= x + x, known as \"incrementing\"\n",
    "x"
   ]
  },
  {
   "cell_type": "code",
   "execution_count": 49,
   "id": "b9c3af20",
   "metadata": {},
   "outputs": [
    {
     "data": {
      "text/plain": [
       "1500"
      ]
     },
     "execution_count": 49,
     "metadata": {},
     "output_type": "execute_result"
    }
   ],
   "source": [
    "#we can also say\n",
    "\n",
    "x *= 5 #same as x = x * 5\n",
    "x"
   ]
  },
  {
   "cell_type": "code",
   "execution_count": 50,
   "id": "50934810",
   "metadata": {},
   "outputs": [],
   "source": [
    "x -= 1   # this is known as \"decrementing\""
   ]
  },
  {
   "cell_type": "code",
   "execution_count": 51,
   "id": "bc3464f9",
   "metadata": {},
   "outputs": [],
   "source": [
    "# what's the max size of an integer in Python?\n",
    "\n",
    "# the max size is... determined by the size of your memory. Python will happily consume\n",
    "# all of your RAM to create ever-larger integers."
   ]
  },
  {
   "cell_type": "code",
   "execution_count": 52,
   "id": "21c38147",
   "metadata": {},
   "outputs": [
    {
     "ename": "TypeError",
     "evalue": "unsupported operand type(s) for +: 'int' and 'str'",
     "output_type": "error",
     "traceback": [
      "\u001b[0;31m---------------------------------------------------------------------------\u001b[0m",
      "\u001b[0;31mTypeError\u001b[0m                                 Traceback (most recent call last)",
      "Cell \u001b[0;32mIn [52], line 6\u001b[0m\n\u001b[1;32m      3\u001b[0m x \u001b[38;5;241m=\u001b[39m \u001b[38;5;241m10\u001b[39m   \u001b[38;5;66;03m# this is the integer 10\u001b[39;00m\n\u001b[1;32m      4\u001b[0m y \u001b[38;5;241m=\u001b[39m \u001b[38;5;124m'\u001b[39m\u001b[38;5;124m20\u001b[39m\u001b[38;5;124m'\u001b[39m \u001b[38;5;66;03m# this is the string 20\u001b[39;00m\n\u001b[0;32m----> 6\u001b[0m \u001b[43mx\u001b[49m\u001b[43m \u001b[49m\u001b[38;5;241;43m+\u001b[39;49m\u001b[43m \u001b[49m\u001b[43my\u001b[49m\n",
      "\u001b[0;31mTypeError\u001b[0m: unsupported operand type(s) for +: 'int' and 'str'"
     ]
    }
   ],
   "source": [
    "# remember this problem?\n",
    "\n",
    "x = 10   # this is the integer 10\n",
    "y = '20' # this is the string 20\n",
    "\n",
    "x + y"
   ]
  },
  {
   "cell_type": "code",
   "execution_count": 53,
   "id": "4f3ad5fe",
   "metadata": {},
   "outputs": [
    {
     "data": {
      "text/plain": [
       "20"
      ]
     },
     "execution_count": 53,
     "metadata": {},
     "output_type": "execute_result"
    }
   ],
   "source": [
    "# to get an integer based on a string, we use \"int\" as a function\n",
    "\n",
    "int(y)   # this returns a new integer based on the string value of y -- it doesn't change y!"
   ]
  },
  {
   "cell_type": "code",
   "execution_count": 54,
   "id": "8d7f3070",
   "metadata": {},
   "outputs": [
    {
     "data": {
      "text/plain": [
       "'20'"
      ]
     },
     "execution_count": 54,
     "metadata": {},
     "output_type": "execute_result"
    }
   ],
   "source": [
    "y   # this is still the string '20'"
   ]
  },
  {
   "cell_type": "code",
   "execution_count": 61,
   "id": "7e763ee3",
   "metadata": {},
   "outputs": [
    {
     "data": {
      "text/plain": [
       "30"
      ]
     },
     "execution_count": 61,
     "metadata": {},
     "output_type": "execute_result"
    }
   ],
   "source": [
    "x + int(y)  # now we have integer + integer, which is totally OK"
   ]
  },
  {
   "cell_type": "code",
   "execution_count": 62,
   "id": "049814a9",
   "metadata": {},
   "outputs": [
    {
     "name": "stdout",
     "output_type": "stream",
     "text": [
      "Enter your favorite number: 72\n",
      "You have terrible taste in numbers.\n"
     ]
    }
   ],
   "source": [
    "n = input('Enter your favorite number: ')\n",
    "\n",
    "# input always, always, ALWAYS returns a string\n",
    "\n",
    "if n == 72:  # here, we're comparing the integer 72 with the *STRING* we got from the user!\n",
    "    print('That is my favorite, also!')\n",
    "else:\n",
    "    print('You have terrible taste in numbers.')"
   ]
  },
  {
   "cell_type": "code",
   "execution_count": 63,
   "id": "691cd882",
   "metadata": {},
   "outputs": [
    {
     "data": {
      "text/plain": [
       "False"
      ]
     },
     "execution_count": 63,
     "metadata": {},
     "output_type": "execute_result"
    }
   ],
   "source": [
    "72 == '72'   # this is the comparison we just ran!"
   ]
  },
  {
   "cell_type": "code",
   "execution_count": 64,
   "id": "a3e6d85a",
   "metadata": {},
   "outputs": [
    {
     "name": "stdout",
     "output_type": "stream",
     "text": [
      "Enter your favorite number: 72\n",
      "That is my favorite, also!\n"
     ]
    }
   ],
   "source": [
    "# I can fix this by taking the user's input and turning it into an integer\n",
    "\n",
    "n = input('Enter your favorite number: ')\n",
    "n = int(n)   # get a new integer based on n, and assign it back to the variable n\n",
    "\n",
    "if n == 72: \n",
    "    print('That is my favorite, also!')\n",
    "else:\n",
    "    print('You have terrible taste in numbers.')"
   ]
  },
  {
   "cell_type": "code",
   "execution_count": 65,
   "id": "79c05054",
   "metadata": {},
   "outputs": [
    {
     "data": {
      "text/plain": [
       "1234"
      ]
     },
     "execution_count": 65,
     "metadata": {},
     "output_type": "execute_result"
    }
   ],
   "source": [
    "int('1234')\n"
   ]
  },
  {
   "cell_type": "code",
   "execution_count": 66,
   "id": "aa085247",
   "metadata": {},
   "outputs": [
    {
     "ename": "ValueError",
     "evalue": "invalid literal for int() with base 10: 'abcd'",
     "output_type": "error",
     "traceback": [
      "\u001b[0;31m---------------------------------------------------------------------------\u001b[0m",
      "\u001b[0;31mValueError\u001b[0m                                Traceback (most recent call last)",
      "Cell \u001b[0;32mIn [66], line 1\u001b[0m\n\u001b[0;32m----> 1\u001b[0m \u001b[38;5;28;43mint\u001b[39;49m\u001b[43m(\u001b[49m\u001b[38;5;124;43m'\u001b[39;49m\u001b[38;5;124;43mabcd\u001b[39;49m\u001b[38;5;124;43m'\u001b[39;49m\u001b[43m)\u001b[49m\n",
      "\u001b[0;31mValueError\u001b[0m: invalid literal for int() with base 10: 'abcd'"
     ]
    }
   ],
   "source": [
    "int('abcd')"
   ]
  },
  {
   "cell_type": "code",
   "execution_count": 67,
   "id": "172fbc1a",
   "metadata": {},
   "outputs": [
    {
     "data": {
      "text/plain": [
       "False"
      ]
     },
     "execution_count": 67,
     "metadata": {},
     "output_type": "execute_result"
    }
   ],
   "source": [
    "x = 'taxi'\n",
    "y = 'cab'\n",
    "\n",
    "x < y   # does taxi come before cab?"
   ]
  },
  {
   "cell_type": "code",
   "execution_count": 68,
   "id": "2f8355bf",
   "metadata": {},
   "outputs": [
    {
     "data": {
      "text/plain": [
       "True"
      ]
     },
     "execution_count": 68,
     "metadata": {},
     "output_type": "execute_result"
    }
   ],
   "source": [
    "y < x   # does cab come before taxi?"
   ]
  },
  {
   "cell_type": "code",
   "execution_count": 69,
   "id": "841ead51",
   "metadata": {},
   "outputs": [
    {
     "data": {
      "text/plain": [
       "True"
      ]
     },
     "execution_count": 69,
     "metadata": {},
     "output_type": "execute_result"
    }
   ],
   "source": [
    "x = 'Taxi'  # notice: capital T\n",
    "y = 'cab'\n",
    "\n",
    "x < y   # all capital letters come before all lowercase letters"
   ]
  },
  {
   "cell_type": "code",
   "execution_count": 70,
   "id": "2a4f0c04",
   "metadata": {},
   "outputs": [
    {
     "name": "stdout",
     "output_type": "stream",
     "text": [
      "hello\n"
     ]
    }
   ],
   "source": [
    "print('hello')    # Python finds the function called \"print\" and executes it, with \"hello\" as an argument"
   ]
  },
  {
   "cell_type": "code",
   "execution_count": 71,
   "id": "da2d1c0e",
   "metadata": {},
   "outputs": [],
   "source": [
    "# what if I have the crazy idea of assigning to print, as if it were a variable?\n",
    "print='hello'"
   ]
  },
  {
   "cell_type": "code",
   "execution_count": 72,
   "id": "04ea5c3d",
   "metadata": {},
   "outputs": [
    {
     "ename": "TypeError",
     "evalue": "'str' object is not callable",
     "output_type": "error",
     "traceback": [
      "\u001b[0;31m---------------------------------------------------------------------------\u001b[0m",
      "\u001b[0;31mTypeError\u001b[0m                                 Traceback (most recent call last)",
      "Cell \u001b[0;32mIn [72], line 1\u001b[0m\n\u001b[0;32m----> 1\u001b[0m \u001b[38;5;28;43mprint\u001b[39;49m\u001b[43m(\u001b[49m\u001b[38;5;124;43m'\u001b[39;49m\u001b[38;5;124;43mhello\u001b[39;49m\u001b[38;5;124;43m'\u001b[39;49m\u001b[43m)\u001b[49m\n",
      "\u001b[0;31mTypeError\u001b[0m: 'str' object is not callable"
     ]
    }
   ],
   "source": [
    "print('hello')    # we have redefined print to be a string, not a function"
   ]
  },
  {
   "cell_type": "code",
   "execution_count": 73,
   "id": "3bf96050",
   "metadata": {},
   "outputs": [
    {
     "ename": "TypeError",
     "evalue": "'str' object is not callable",
     "output_type": "error",
     "traceback": [
      "\u001b[0;31m---------------------------------------------------------------------------\u001b[0m",
      "\u001b[0;31mTypeError\u001b[0m                                 Traceback (most recent call last)",
      "Cell \u001b[0;32mIn [73], line 1\u001b[0m\n\u001b[0;32m----> 1\u001b[0m \u001b[38;5;28;43mprint\u001b[39;49m\u001b[43m \u001b[49m\u001b[43m(\u001b[49m\u001b[38;5;124;43m'\u001b[39;49m\u001b[38;5;124;43mI am free!\u001b[39;49m\u001b[38;5;124;43m'\u001b[39;49m\u001b[43m)\u001b[49m\n",
      "\u001b[0;31mTypeError\u001b[0m: 'str' object is not callable"
     ]
    }
   ],
   "source": [
    "print ('I am free!')"
   ]
  },
  {
   "cell_type": "code",
   "execution_count": 74,
   "id": "c7337b67",
   "metadata": {},
   "outputs": [],
   "source": [
    "# to fix this problem, you can use the \"del\" command, which removes a user-defined\n",
    "# variable, especially when you have overwritten a builtin\n",
    "\n",
    "del(print)"
   ]
  },
  {
   "cell_type": "code",
   "execution_count": 75,
   "id": "e64f0608",
   "metadata": {},
   "outputs": [
    {
     "name": "stdout",
     "output_type": "stream",
     "text": [
      "I am free!\n"
     ]
    }
   ],
   "source": [
    "print('I am free!')"
   ]
  },
  {
   "cell_type": "code",
   "execution_count": 77,
   "id": "68aaff47",
   "metadata": {},
   "outputs": [
    {
     "data": {
      "text/plain": [
       "'3.10.4 (main, Jun 29 2022, 12:14:53) [GCC 11.2.0]'"
      ]
     },
     "execution_count": 77,
     "metadata": {},
     "output_type": "execute_result"
    }
   ],
   "source": [
    "import sys\n",
    "sys.version"
   ]
  },
  {
   "cell_type": "code",
   "execution_count": 82,
   "id": "bb72ac67",
   "metadata": {},
   "outputs": [
    {
     "ename": "SyntaxError",
     "evalue": "expected ':' (2130232676.py, line 5)",
     "output_type": "error",
     "traceback": [
      "\u001b[0;36m  Cell \u001b[0;32mIn [82], line 5\u001b[0;36m\u001b[0m\n\u001b[0;31m    else #no colon\u001b[0m\n\u001b[0m         ^\u001b[0m\n\u001b[0;31mSyntaxError\u001b[0m\u001b[0;31m:\u001b[0m expected ':'\n"
     ]
    }
   ],
   "source": [
    "x = 10\n",
    "\n",
    "if x == 9:\n",
    "    print('whatever')\n",
    "else #no colon\n",
    "        print('This will not print')"
   ]
  },
  {
   "cell_type": "code",
   "execution_count": 80,
   "id": "080a734c",
   "metadata": {},
   "outputs": [
    {
     "name": "stdout",
     "output_type": "stream",
     "text": [
      "This will not print\n"
     ]
    }
   ],
   "source": [
    "x = 10\n",
    "\n",
    "if (    x \n",
    "    \n",
    "    \n",
    "    == \n",
    "    \n",
    "    \n",
    "    9\n",
    "    \n",
    "   ):\n",
    "    print('Whatever')\n",
    "else:\n",
    "    print('This will not print')"
   ]
  },
  {
   "cell_type": "markdown",
   "id": "eb576ed9",
   "metadata": {},
   "source": [
    "#writing Markdown in a cell "
   ]
  },
  {
   "cell_type": "markdown",
   "id": "febdf91a",
   "metadata": {},
   "source": [
    "# Exercise: Guessing game\n",
    "1. Get a random number between 0-100. (I'll show you how in a moment.)  Assign that number to the variable `number`.\n",
    "2. Print the number, so that debugging is easier.\n",
    "3. Ask the user to guess the number.  Based on the user's input, we should print:\n",
    "    - You got it!\n",
    "    - Too high!\n",
    "    - Too low!\n",
    "4. The user only gets one shot at guessing.    \n",
    "How do we generate a random number? We're going to use the `random` module, which has this functionality built in:\n",
    "```python\n",
    "import random                    # load this library of functionality\n",
    "number = random.randint(0, 100)  # run the randint function in the random module\n",
    "```"
   ]
  },
  {
   "cell_type": "markdown",
   "id": "95e5f229",
   "metadata": {},
   "source": [
    "hey \n"
   ]
  },
  {
   "cell_type": "code",
   "execution_count": 90,
   "id": "60689ab5",
   "metadata": {},
   "outputs": [],
   "source": [
    "import random                  # load this libray of functionality \n",
    "number = random.randint(0,100) # run the randint function in the random module"
   ]
  },
  {
   "cell_type": "code",
   "execution_count": 100,
   "id": "d760921c",
   "metadata": {},
   "outputs": [
    {
     "name": "stdout",
     "output_type": "stream",
     "text": [
      "97\n",
      "Guess: 97\n",
      "You got it!\n"
     ]
    }
   ],
   "source": [
    "import random\n",
    "number = random.randint(0, 100)\n",
    "\n",
    "print(number)\n",
    "\n",
    "guess = input('Guess: ') #guess is a string\n",
    "guess = int(guess)       # get a new int based on guess, and assign back to guess\n",
    "\n",
    "if guess == number:\n",
    "    print('You got it!')\n",
    "elif guess < number:\n",
    "    print('Too low!')\n",
    "else:\n",
    "    print('Too high!')\n",
    "    "
   ]
  },
  {
   "cell_type": "code",
   "execution_count": 98,
   "id": "f64adb61",
   "metadata": {},
   "outputs": [
    {
     "name": "stdout",
     "output_type": "stream",
     "text": [
      "63\n",
      "Guess: 14\n",
      "Too low!\n"
     ]
    }
   ],
   "source": [
    "import random\n",
    "number = random.randint(0, 100)\n",
    "\n",
    "print(number)\n",
    "\n",
    "guess = input('Guess: ')  # guess is a string\n",
    "guess = int(guess)        # get a new int based on guess, and assign back to guess\n",
    "\n",
    "if guess == number:\n",
    "    print('You got it!')\n",
    "elif guess < number:\n",
    "    print('Too low!')\n",
    "else:\n",
    "    print('Too high!')"
   ]
  },
  {
   "cell_type": "markdown",
   "id": "90ef0fdb",
   "metadata": {},
   "source": [
    "Floats\n",
    "\n",
    "\"Float\" is the fancy way of saying \"a number with a decimal point, and possibly some digits after that decimal point.\" If you want to use fractional numbers in Python, then floats are almost certainly necessary.\n",
    "\n",
    "Because floating-point operations are much slower than integer operations, chips were (are?) measured for speed in the number of floating-point operations they could do per second, known as Gigaflops -- billions of floating-point operations per second.\n",
    "\n"
   ]
  },
  {
   "cell_type": "code",
   "execution_count": 101,
   "id": "3878b180",
   "metadata": {},
   "outputs": [
    {
     "data": {
      "text/plain": [
       "float"
      ]
     },
     "execution_count": 101,
     "metadata": {},
     "output_type": "execute_result"
    }
   ],
   "source": [
    "n = 10.5\n",
    "type(n)"
   ]
  },
  {
   "cell_type": "code",
   "execution_count": 102,
   "id": "0a17c8c5",
   "metadata": {},
   "outputs": [],
   "source": [
    "# what operations can I use with float?\n",
    "# all of the same ones as we used with int!\n",
    "\n",
    "# but... we'll always get floats back"
   ]
  },
  {
   "cell_type": "code",
   "execution_count": 103,
   "id": "0dba499a",
   "metadata": {},
   "outputs": [
    {
     "data": {
      "text/plain": [
       "13.0"
      ]
     },
     "execution_count": 103,
     "metadata": {},
     "output_type": "execute_result"
    }
   ],
   "source": [
    "x = 10.0\n",
    "y = 3.0\n",
    "\n",
    "x + y"
   ]
  },
  {
   "cell_type": "code",
   "execution_count": 104,
   "id": "5634550d",
   "metadata": {},
   "outputs": [
    {
     "data": {
      "text/plain": [
       "7.0"
      ]
     },
     "execution_count": 104,
     "metadata": {},
     "output_type": "execute_result"
    }
   ],
   "source": [
    "x - y"
   ]
  },
  {
   "cell_type": "code",
   "execution_count": 105,
   "id": "aad6402e",
   "metadata": {},
   "outputs": [
    {
     "data": {
      "text/plain": [
       "3.0"
      ]
     },
     "execution_count": 105,
     "metadata": {},
     "output_type": "execute_result"
    }
   ],
   "source": [
    "x // y    # we get a float back, not an int!"
   ]
  },
  {
   "cell_type": "code",
   "execution_count": 106,
   "id": "905bc73c",
   "metadata": {},
   "outputs": [
    {
     "data": {
      "text/plain": [
       "0.30000000000000004"
      ]
     },
     "execution_count": 106,
     "metadata": {},
     "output_type": "execute_result"
    }
   ],
   "source": [
    "0.1 + 0.2"
   ]
  },
  {
   "cell_type": "code",
   "execution_count": 107,
   "id": "e272b8f8",
   "metadata": {},
   "outputs": [],
   "source": [
    "# convert to/from floats\n",
    "# just as we can get an int based on something else, by invoking int()\n",
    "# we can get a float based on something else, by invoking float()"
   ]
  },
  {
   "cell_type": "code",
   "execution_count": 108,
   "id": "5bb95caf",
   "metadata": {},
   "outputs": [
    {
     "data": {
      "text/plain": [
       "5.0"
      ]
     },
     "execution_count": 108,
     "metadata": {},
     "output_type": "execute_result"
    }
   ],
   "source": [
    "float('5')   # get a float from this string '5'"
   ]
  },
  {
   "cell_type": "code",
   "execution_count": 109,
   "id": "084b12d4",
   "metadata": {},
   "outputs": [
    {
     "data": {
      "text/plain": [
       "5"
      ]
     },
     "execution_count": 109,
     "metadata": {},
     "output_type": "execute_result"
    }
   ],
   "source": [
    "int('5')   # get an int from this string '5'"
   ]
  },
  {
   "cell_type": "code",
   "execution_count": 110,
   "id": "80ff12c3",
   "metadata": {},
   "outputs": [
    {
     "data": {
      "text/plain": [
       "5.0"
      ]
     },
     "execution_count": 110,
     "metadata": {},
     "output_type": "execute_result"
    }
   ],
   "source": [
    "float(5)  # get a float from this int 5"
   ]
  },
  {
   "cell_type": "code",
   "execution_count": 111,
   "id": "9cf447e9",
   "metadata": {},
   "outputs": [
    {
     "data": {
      "text/plain": [
       "5"
      ]
     },
     "execution_count": 111,
     "metadata": {},
     "output_type": "execute_result"
    }
   ],
   "source": [
    "int(5.0)   # get an int from this float 5 "
   ]
  },
  {
   "cell_type": "code",
   "execution_count": 112,
   "id": "80f94252",
   "metadata": {},
   "outputs": [],
   "source": [
    "# if you use both an int and a float in the same operation, you get back a float"
   ]
  },
  {
   "cell_type": "code",
   "execution_count": 113,
   "id": "66c0ead0",
   "metadata": {},
   "outputs": [],
   "source": [
    "# you can also compare ints and floats with == , < , and > "
   ]
  },
  {
   "cell_type": "code",
   "execution_count": 114,
   "id": "294d8212",
   "metadata": {},
   "outputs": [
    {
     "data": {
      "text/plain": [
       "True"
      ]
     },
     "execution_count": 114,
     "metadata": {},
     "output_type": "execute_result"
    }
   ],
   "source": [
    "5.3 < 8"
   ]
  },
  {
   "cell_type": "markdown",
   "id": "0e765ef1",
   "metadata": {},
   "source": [
    "#Strings\n",
    "\n",
    "We can create strings ('str') most easily, and commonly, with quotes. You can use either '' or \"\" -- there is no differnece at all. if your string contains ', then you probably wanna use \"\" on the outside, and vice versa.\n",
    "\n",
    "Strings can be of any leangth whatsoever. They are used for all text, no matter how big or small."
   ]
  },
  {
   "cell_type": "code",
   "execution_count": 115,
   "id": "85b2ff5e",
   "metadata": {},
   "outputs": [
    {
     "data": {
      "text/plain": [
       "str"
      ]
     },
     "execution_count": 115,
     "metadata": {},
     "output_type": "execute_result"
    }
   ],
   "source": [
    "s = 'abcdefghijklmnopqrstuvwxyz'\n",
    "type(s)"
   ]
  },
  {
   "cell_type": "code",
   "execution_count": 116,
   "id": "44fa3472",
   "metadata": {},
   "outputs": [
    {
     "data": {
      "text/plain": [
       "26"
      ]
     },
     "execution_count": 116,
     "metadata": {},
     "output_type": "execute_result"
    }
   ],
   "source": [
    "# how many characters are there in s?\n",
    "\n",
    "len(s)   # the \"len\" function returns an integer, the length of the data we give it"
   ]
  },
  {
   "cell_type": "code",
   "execution_count": 117,
   "id": "8870bbb6",
   "metadata": {},
   "outputs": [
    {
     "ename": "SyntaxError",
     "evalue": "invalid syntax (979328839.py, line 1)",
     "output_type": "error",
     "traceback": [
      "\u001b[0;36m  Cell \u001b[0;32mIn [117], line 1\u001b[0;36m\u001b[0m\n\u001b[0;31m    s = 'He's very nice'   # the use of ' in the string confuses Python\u001b[0m\n\u001b[0m            ^\u001b[0m\n\u001b[0;31mSyntaxError\u001b[0m\u001b[0;31m:\u001b[0m invalid syntax\n"
     ]
    }
   ],
   "source": [
    "s = 'He's very nice'   # the use of ' in the string confuses Python"
   ]
  },
  {
   "cell_type": "code",
   "execution_count": 118,
   "id": "25b001f3",
   "metadata": {},
   "outputs": [],
   "source": [
    "# we can escape a quote with \\ before the quote\n",
    "s = 'He\\'s very nice' "
   ]
  },
  {
   "cell_type": "code",
   "execution_count": 119,
   "id": "ebd8bcd7",
   "metadata": {},
   "outputs": [
    {
     "name": "stdout",
     "output_type": "stream",
     "text": [
      "He's very nice\n"
     ]
    }
   ],
   "source": [
    "print(s)"
   ]
  },
  {
   "cell_type": "code",
   "execution_count": 120,
   "id": "0308f101",
   "metadata": {},
   "outputs": [
    {
     "data": {
      "text/plain": [
       "\"He's very nice\""
      ]
     },
     "execution_count": 120,
     "metadata": {},
     "output_type": "execute_result"
    }
   ],
   "source": [
    "# let's see how Python displays our string\n",
    "s"
   ]
  },
  {
   "cell_type": "code",
   "execution_count": 121,
   "id": "375ceb95",
   "metadata": {},
   "outputs": [
    {
     "ename": "SyntaxError",
     "evalue": "invalid syntax (2775699465.py, line 3)",
     "output_type": "error",
     "traceback": [
      "\u001b[0;36m  Cell \u001b[0;32mIn [121], line 3\u001b[0;36m\u001b[0m\n\u001b[0;31m    s = \"She says, \"Hello\"\"\u001b[0m\n\u001b[0m                    ^\u001b[0m\n\u001b[0;31mSyntaxError\u001b[0m\u001b[0;31m:\u001b[0m invalid syntax\n"
     ]
    }
   ],
   "source": [
    "# the same thing happens with \"\"\n",
    "\n",
    "s = \"She says, \"Hello\"\""
   ]
  },
  {
   "cell_type": "code",
   "execution_count": 122,
   "id": "420006d0",
   "metadata": {},
   "outputs": [
    {
     "data": {
      "text/plain": [
       "'She says, \"Hello\"'"
      ]
     },
     "execution_count": 122,
     "metadata": {},
     "output_type": "execute_result"
    }
   ],
   "source": [
    "s = \"She says, \\\"Hello\\\"\"\n",
    "s"
   ]
  },
  {
   "cell_type": "code",
   "execution_count": 123,
   "id": "5be5e581",
   "metadata": {},
   "outputs": [],
   "source": [
    "s = 'He says, \"She\\'s very nice\"'"
   ]
  },
  {
   "cell_type": "code",
   "execution_count": 124,
   "id": "72f9ffb0",
   "metadata": {},
   "outputs": [
    {
     "data": {
      "text/plain": [
       "'He says, \"She\\'s very nice\"'"
      ]
     },
     "execution_count": 124,
     "metadata": {},
     "output_type": "execute_result"
    }
   ],
   "source": [
    "s"
   ]
  },
  {
   "cell_type": "code",
   "execution_count": 125,
   "id": "f12fa29a",
   "metadata": {},
   "outputs": [
    {
     "ename": "SyntaxError",
     "evalue": "unterminated string literal (detected at line 4) (3038885453.py, line 4)",
     "output_type": "error",
     "traceback": [
      "\u001b[0;36m  Cell \u001b[0;32mIn [125], line 4\u001b[0;36m\u001b[0m\n\u001b[0;31m    s = 'abcde\u001b[0m\n\u001b[0m        ^\u001b[0m\n\u001b[0;31mSyntaxError\u001b[0m\u001b[0;31m:\u001b[0m unterminated string literal (detected at line 4)\n"
     ]
    }
   ],
   "source": [
    "# other special characters\n",
    "\n",
    "# what if I want my string to contain two lines of text?\n",
    "s = 'abcde\n",
    "fghij'"
   ]
  },
  {
   "cell_type": "code",
   "execution_count": 126,
   "id": "5c16e46a",
   "metadata": {},
   "outputs": [
    {
     "data": {
      "text/plain": [
       "11"
      ]
     },
     "execution_count": 126,
     "metadata": {},
     "output_type": "execute_result"
    }
   ],
   "source": [
    "# if I want a newline character - -meaning, to go down when we print the string, -- we can use the\n",
    "# special character \\n.  We write it with one character, but it really consumes one space in the string,\n",
    "# and it goes down when printed.\n",
    "\n",
    "s = 'abcde\\nfghij'\n",
    "len(s)"
   ]
  },
  {
   "cell_type": "code",
   "execution_count": 127,
   "id": "25453a24",
   "metadata": {},
   "outputs": [
    {
     "data": {
      "text/plain": [
       "'abcde\\nfghij'"
      ]
     },
     "execution_count": 127,
     "metadata": {},
     "output_type": "execute_result"
    }
   ],
   "source": [
    "s"
   ]
  },
  {
   "cell_type": "code",
   "execution_count": 128,
   "id": "f9352c79",
   "metadata": {},
   "outputs": [
    {
     "name": "stdout",
     "output_type": "stream",
     "text": [
      "abcde\n",
      "fghij\n"
     ]
    }
   ],
   "source": [
    "print(s)   # now the \\n will actually descend one line"
   ]
  },
  {
   "cell_type": "markdown",
   "id": "32e07188",
   "metadata": {},
   "source": [
    "Some special characters\n",
    "\n",
    "    \\n -- newline\n",
    "    \\r -- carriage return\n",
    "    \\t - tab\n",
    "\n",
    "There are many others, also...\n"
   ]
  },
  {
   "cell_type": "code",
   "execution_count": 129,
   "id": "eb799b47",
   "metadata": {},
   "outputs": [
    {
     "name": "stdout",
     "output_type": "stream",
     "text": [
      "c:\u0007bcd\\efgh\\ijkl\n"
     ]
    }
   ],
   "source": [
    "path = 'c:\\abcd\\efgh\\ijkl'  # it turns out that \\a is also special... it's the alarm bell (ASCII 7)\n",
    "\n",
    "print(path)"
   ]
  },
  {
   "cell_type": "code",
   "execution_count": 130,
   "id": "e1be9b8c",
   "metadata": {},
   "outputs": [
    {
     "name": "stdout",
     "output_type": "stream",
     "text": [
      "c:\\abcd\\efgh\\ijkl\n"
     ]
    }
   ],
   "source": [
    "# maybe I should be safe, and use \\\\ to escape the backslash, and make it a non-special character\n",
    "\n",
    "path = 'c:\\\\abcd\\\\efgh\\\\ijkl' \n",
    "\n",
    "print(path)"
   ]
  },
  {
   "cell_type": "code",
   "execution_count": 133,
   "id": "f402cc90",
   "metadata": {},
   "outputs": [
    {
     "name": "stdout",
     "output_type": "stream",
     "text": [
      "c:\\abcd\\efgh\\ijkl\n"
     ]
    }
   ],
   "source": [
    "# but there's an easier way - raw strings\n",
    "#if you put r before the opening quote in a string, all of the back slashes are automatically doubled\n",
    "# thus, all of your special, escaped charecters become normal.\n",
    "\n",
    "path = r'c:\\abcd\\efgh\\ijkl'   # raw string!\n",
    "\n",
    "print(path)"
   ]
  },
  {
   "cell_type": "code",
   "execution_count": 134,
   "id": "b2ed2d79",
   "metadata": {},
   "outputs": [
    {
     "name": "stdout",
     "output_type": "stream",
     "text": [
      "In Python, we can use \\n for newline and \\t for tab\n"
     ]
    }
   ],
   "source": [
    "print(r'In Python, we can use \\n for newline and \\t for tab')"
   ]
  },
  {
   "cell_type": "code",
   "execution_count": 135,
   "id": "436b9235",
   "metadata": {},
   "outputs": [
    {
     "ename": "TypeError",
     "evalue": "can only concatenate str (not \"int\") to str",
     "output_type": "error",
     "traceback": [
      "\u001b[0;31m---------------------------------------------------------------------------\u001b[0m",
      "\u001b[0;31mTypeError\u001b[0m                                 Traceback (most recent call last)",
      "Cell \u001b[0;32mIn [135], line 4\u001b[0m\n\u001b[1;32m      1\u001b[0m x \u001b[38;5;241m=\u001b[39m \u001b[38;5;241m10\u001b[39m\n\u001b[1;32m      2\u001b[0m y \u001b[38;5;241m=\u001b[39m \u001b[38;5;241m20\u001b[39m\n\u001b[0;32m----> 4\u001b[0m \u001b[38;5;28mprint\u001b[39m(\u001b[38;5;124;43m'\u001b[39;49m\u001b[38;5;124;43mIn my program, x is \u001b[39;49m\u001b[38;5;124;43m'\u001b[39;49m\u001b[43m \u001b[49m\u001b[38;5;241;43m+\u001b[39;49m\u001b[43m \u001b[49m\u001b[43mx\u001b[49m \u001b[38;5;241m+\u001b[39m \u001b[38;5;124m'\u001b[39m\u001b[38;5;124m and y is \u001b[39m\u001b[38;5;124m'\u001b[39m \u001b[38;5;241m+\u001b[39m y \u001b[38;5;241m+\u001b[39m \u001b[38;5;124m'\u001b[39m\u001b[38;5;124m.\u001b[39m\u001b[38;5;124m'\u001b[39m)\n",
      "\u001b[0;31mTypeError\u001b[0m: can only concatenate str (not \"int\") to str"
     ]
    }
   ],
   "source": [
    "x = 10\n",
    "y = 20\n",
    "\n",
    "print('In my program, x is ' + x + ' and y is ' + y + '.')"
   ]
  },
  {
   "cell_type": "code",
   "execution_count": 139,
   "id": "7c3e850d",
   "metadata": {},
   "outputs": [
    {
     "name": "stdout",
     "output_type": "stream",
     "text": [
      "In my program, x is 10 and y is + 20.\n"
     ]
    }
   ],
   "source": [
    "# solution 2: f-strings (format strings, or I like to say \"fancy strings\")\n",
    "\n",
    "# (1) put an f before the opening quote\n",
    "# (2) it's a string, like any other\n",
    "# (3) if you have {} in the string, then they can contain any Python expression -- variable, function call,\n",
    "#  a method call, an operator.\n",
    "# (4) anything in the {} is automatically tunred into a string\n",
    "\n",
    "print(f'In my program, x is {x} and y is + {y}.')"
   ]
  },
  {
   "cell_type": "code",
   "execution_count": 140,
   "id": "c5ede647",
   "metadata": {},
   "outputs": [
    {
     "name": "stdout",
     "output_type": "stream",
     "text": [
      "10 + 20 = 30\n"
     ]
    }
   ],
   "source": [
    "print(f'{x} + {y} = {x+y}')"
   ]
  },
  {
   "cell_type": "code",
   "execution_count": 141,
   "id": "0537f004",
   "metadata": {},
   "outputs": [],
   "source": [
    "# what if I'm still stuck on having strings that contain newlines?\n",
    "# I can use a triple-quoted string!  That means: ''' ''' or \"\"\" \"\"\" -- it's more usual to use \"\"\" \"\"\"\n",
    "\n",
    "s = \"\"\"abcdefg\n",
    "hij\n",
    "klmnop\n",
    "qrst\"\"\""
   ]
  },
  {
   "cell_type": "code",
   "execution_count": 142,
   "id": "935884f6",
   "metadata": {},
   "outputs": [
    {
     "name": "stdout",
     "output_type": "stream",
     "text": [
      "abcdefg\n",
      "hij\n",
      "klmnop\n",
      "qrst\n"
     ]
    }
   ],
   "source": [
    "print(s)"
   ]
  },
  {
   "cell_type": "code",
   "execution_count": 143,
   "id": "5e05fdf9",
   "metadata": {},
   "outputs": [
    {
     "data": {
      "text/plain": [
       "'abcdefg\\nhij\\nklmnop\\nqrst'"
      ]
     },
     "execution_count": 143,
     "metadata": {},
     "output_type": "execute_result"
    }
   ],
   "source": [
    "s"
   ]
  },
  {
   "cell_type": "code",
   "execution_count": 144,
   "id": "d65dbdee",
   "metadata": {},
   "outputs": [
    {
     "data": {
      "text/plain": [
       "'a'"
      ]
     },
     "execution_count": 144,
     "metadata": {},
     "output_type": "execute_result"
    }
   ],
   "source": [
    "# how can I retrieve the first letter (a) from s?\n",
    "\n",
    "# we're going to use square brackets, [], and we'll put the index of the character\n",
    "# we want in the square brackets.  That index will be an integer, starting with 0\n",
    "\n",
    "s[0]  # this means: retrieve a new string, based on s, with a length of 1, containing what's at index 0 of s"
   ]
  },
  {
   "cell_type": "code",
   "execution_count": 145,
   "id": "4b02af60",
   "metadata": {},
   "outputs": [
    {
     "data": {
      "text/plain": [
       "'b'"
      ]
     },
     "execution_count": 145,
     "metadata": {},
     "output_type": "execute_result"
    }
   ],
   "source": [
    "s [1]\n"
   ]
  },
  {
   "cell_type": "code",
   "execution_count": 146,
   "id": "522ae65b",
   "metadata": {},
   "outputs": [
    {
     "data": {
      "text/plain": [
       "'c'"
      ]
     },
     "execution_count": 146,
     "metadata": {},
     "output_type": "execute_result"
    }
   ],
   "source": [
    "s[2]"
   ]
  },
  {
   "cell_type": "code",
   "execution_count": 151,
   "id": "d7268e89",
   "metadata": {},
   "outputs": [
    {
     "data": {
      "text/plain": [
       "'d'"
      ]
     },
     "execution_count": 151,
     "metadata": {},
     "output_type": "execute_result"
    }
   ],
   "source": [
    "# I can use a variable instead of an integer\n",
    "i = 3\n",
    "s[i]"
   ]
  },
  {
   "cell_type": "code",
   "execution_count": 152,
   "id": "10d477d6",
   "metadata": {},
   "outputs": [
    {
     "ename": "IndexError",
     "evalue": "string index out of range",
     "output_type": "error",
     "traceback": [
      "\u001b[0;31m---------------------------------------------------------------------------\u001b[0m",
      "\u001b[0;31mIndexError\u001b[0m                                Traceback (most recent call last)",
      "Cell \u001b[0;32mIn [152], line 2\u001b[0m\n\u001b[1;32m      1\u001b[0m \u001b[38;5;66;03m# what if I try a value beyond the maximum?\u001b[39;00m\n\u001b[0;32m----> 2\u001b[0m \u001b[43ms\u001b[49m\u001b[43m[\u001b[49m\u001b[38;5;241;43m100\u001b[39;49m\u001b[43m]\u001b[49m\n",
      "\u001b[0;31mIndexError\u001b[0m: string index out of range"
     ]
    }
   ],
   "source": [
    "# what if I try a value beyond the maximum?\n",
    "s[100]"
   ]
  },
  {
   "cell_type": "code",
   "execution_count": 155,
   "id": "9d0da985",
   "metadata": {},
   "outputs": [
    {
     "ename": "IndexError",
     "evalue": "string index out of range",
     "output_type": "error",
     "traceback": [
      "\u001b[0;31m---------------------------------------------------------------------------\u001b[0m",
      "\u001b[0;31mIndexError\u001b[0m                                Traceback (most recent call last)",
      "Cell \u001b[0;32mIn [155], line 5\u001b[0m\n\u001b[1;32m      1\u001b[0m \u001b[38;5;66;03m# if there are 26 characters in s\u001b[39;00m\n\u001b[1;32m      2\u001b[0m \u001b[38;5;66;03m# then the indexes are from 0 to 25\u001b[39;00m\n\u001b[1;32m      3\u001b[0m \u001b[38;5;66;03m# so I can get the final character in a string as follows:\u001b[39;00m\n\u001b[0;32m----> 5\u001b[0m \u001b[43ms\u001b[49m\u001b[43m[\u001b[49m\u001b[38;5;241;43m25\u001b[39;49m\u001b[38;5;241;43m-\u001b[39;49m\u001b[38;5;241;43m1\u001b[39;49m\u001b[43m]\u001b[49m\n",
      "\u001b[0;31mIndexError\u001b[0m: string index out of range"
     ]
    }
   ],
   "source": [
    "# if there are 26 characters in s\n",
    "# then the indexes are from 0 to 25\n",
    "# so I can get the final character in a string as follows:\n",
    "\n",
    "s[25-1]"
   ]
  },
  {
   "cell_type": "markdown",
   "id": "b4c1be36",
   "metadata": {},
   "source": [
    "# Exercise: Retrieve a character\n",
    "1. Ask the user to enter a string, and store it in `s`.\n",
    "2. Ask the user to enter an index in that string.  Let's assume that the user will only enter digits.\n",
    "    - If the index is less than 0, give an error.\n",
    "    - If the index is greater than the maximum for `s`, give an error.\n",
    "    - Otherwise, print the index and the character.\n",
    "    \n",
    "Example:\n",
    "    Enter a string: computer\n",
    "    Enter an index: 5\n",
    "    Index 5 in computer is t\n",
    "    \n",
    "    Enter a string: computer\n",
    "    Enter an index: 500\n",
    "    500 is bigger than the maximum index!"
   ]
  },
  {
   "cell_type": "code",
   "execution_count": null,
   "id": "ca21c149",
   "metadata": {},
   "outputs": [],
   "source": []
  }
 ],
 "metadata": {
  "kernelspec": {
   "display_name": "Python 3 (ipykernel)",
   "language": "python",
   "name": "python3"
  },
  "language_info": {
   "codemirror_mode": {
    "name": "ipython",
    "version": 3
   },
   "file_extension": ".py",
   "mimetype": "text/x-python",
   "name": "python",
   "nbconvert_exporter": "python",
   "pygments_lexer": "ipython3",
   "version": "3.10.4"
  }
 },
 "nbformat": 4,
 "nbformat_minor": 5
}
