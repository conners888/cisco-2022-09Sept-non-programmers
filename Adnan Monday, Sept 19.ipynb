{
 "cells": [
  {
   "cell_type": "code",
   "execution_count": 3,
   "id": "fe7a3ef7",
   "metadata": {},
   "outputs": [
    {
     "name": "stdout",
     "output_type": "stream",
     "text": [
      "Enter your name: Adnan\n",
      "Hello, Adnan! Good morning!\n"
     ]
    }
   ],
   "source": [
    "name = input('Enter your name: ')\n",
    "print('Hello, ' + name + '!'+ ' Good morning!')"
   ]
  },
  {
   "cell_type": "code",
   "execution_count": 10,
   "id": "c232798f",
   "metadata": {},
   "outputs": [
    {
     "data": {
      "text/plain": [
       "True"
      ]
     },
     "execution_count": 10,
     "metadata": {},
     "output_type": "execute_result"
    }
   ],
   "source": [
    "x = 10\n",
    "y = 10\n",
    "\n",
    "x == y"
   ]
  },
  {
   "cell_type": "code",
   "execution_count": null,
   "id": "8bd0d830",
   "metadata": {},
   "outputs": [],
   "source": [
    "name = 'Adnan'\n",
    "name == 'Adnan'"
   ]
  },
  {
   "cell_type": "code",
   "execution_count": 16,
   "id": "35f198f5",
   "metadata": {},
   "outputs": [
    {
     "name": "stdout",
     "output_type": "stream",
     "text": [
      "Enter your name: John\n",
      "Hello,John!\n"
     ]
    }
   ],
   "source": [
    "name = input('Enter your name: ')\n",
    "\n",
    "if name == 'Adnan':\n",
    "    print('Hi Boss!')\n",
    "    print('Good to see you!')\n",
    "else:\n",
    "    print('Hello,' + name + '!')"
   ]
  },
  {
   "cell_type": "code",
   "execution_count": 17,
   "id": "64723bf0",
   "metadata": {},
   "outputs": [
    {
     "data": {
      "text/plain": [
       "str"
      ]
     },
     "execution_count": 17,
     "metadata": {},
     "output_type": "execute_result"
    }
   ],
   "source": [
    "type(name)"
   ]
  },
  {
   "cell_type": "code",
   "execution_count": 18,
   "id": "2b667681",
   "metadata": {},
   "outputs": [
    {
     "data": {
      "text/plain": [
       "int"
      ]
     },
     "execution_count": 18,
     "metadata": {},
     "output_type": "execute_result"
    }
   ],
   "source": [
    "name = 5\n",
    "type(name)"
   ]
  },
  {
   "cell_type": "code",
   "execution_count": 19,
   "id": "65e3addf",
   "metadata": {},
   "outputs": [
    {
     "data": {
      "text/plain": [
       "str"
      ]
     },
     "execution_count": 19,
     "metadata": {},
     "output_type": "execute_result"
    }
   ],
   "source": [
    "type('name')"
   ]
  },
  {
   "cell_type": "code",
   "execution_count": 4,
   "id": "4fb07645",
   "metadata": {},
   "outputs": [
    {
     "name": "stdout",
     "output_type": "stream",
     "text": [
      "friendly_traceback 0.6.0; friendly 0.6.0.\n",
      "Type 'Friendly' for basic help.\n",
      "An exception occurred before friendly-traceback was imported.\n",
      "Some information is available.\n"
     ]
    },
    {
     "data": {
      "text/html": [
       "<div id='friendly-message1'><pre style='white-space:pre;overflow-x:auto;line-height:normal'><span style=\"color: #dd0000; text-decoration-color: #dd0000; background-color: #ffffff\">NameError</span>: name 'adnan' is not defined                                \n",
       "</pre></div>"
      ],
      "text/plain": [
       "\u001b[38;2;221;0;0;48;2;255;255;255mNameError\u001b[0m: name 'adnan' is not defined                                \n"
      ]
     },
     "metadata": {},
     "output_type": "display_data"
    },
    {
     "data": {
      "text/html": [
       "\n",
       "        <button\n",
       "            id='friendly-tb-btn-show1'\n",
       "            onclick='friendly_toggle_more1()'\n",
       "            style=''>\n",
       "        More ...\n",
       "        </button>\n",
       "        <script type=\"text/Javascript\"> function friendly_toggle_more1(){\n",
       "        var btn = document.getElementById('friendly-tb-btn-show1');\n",
       "        var btn_what = document.getElementById('friendly-tb-btn-show-what1');\n",
       "        var btn_where = document.getElementById('friendly-tb-btn-show-where1');\n",
       "        var btn_why = document.getElementById('friendly-tb-btn-show-why1');\n",
       "        ;\n",
       "        var message = document.getElementById('friendly-message1');\n",
       "        var friendly_tb_content = document.getElementById('friendly-tb-friendly_tb-content1');\n",
       "        var what_content = document.getElementById('friendly-tb-what-content1');\n",
       "        var why_content = document.getElementById('friendly-tb-why-content1');\n",
       "        var where_content = document.getElementById('friendly-tb-where-content1');\n",
       "        ;\n",
       "\n",
       "        if (btn_what.style.display == 'none'){\n",
       "            message.style.display = 'none';\n",
       "            btn_what.style.display = 'block';\n",
       "            btn_why.style.display = 'block';\n",
       "            btn_where.style.display = 'block';\n",
       "            friendly_tb_content.style.display = 'block';\n",
       "            ;\n",
       "            btn.textContent = \"Show message only\";\n",
       "            ;\n",
       "        } else {\n",
       "            btn_what.style.display = 'none';\n",
       "            btn_what.textContent = 'what()';\n",
       "            btn_why.style.display = 'none';\n",
       "            btn_why.textContent = 'why()';\n",
       "            btn_where.style.display = 'none';\n",
       "            btn_where.textContent = 'where()';\n",
       "            what_content.style.display = 'none';\n",
       "            why_content.style.display = 'none';\n",
       "            where_content.style.display = 'none';\n",
       "            ;\n",
       "            friendly_tb_content.style.display = 'none';\n",
       "            message.style.display = 'block';\n",
       "            btn.textContent = \"More ...\";\n",
       "            ;\n",
       "        }\n",
       "        };\n",
       "        </script>\n",
       "        "
      ]
     },
     "metadata": {},
     "output_type": "display_data"
    },
    {
     "data": {
      "text/html": [
       "<div id='friendly-tb-friendly_tb-content1' style='display:none'><pre style='white-space:pre;overflow-x:auto;line-height:normal'><span style=\"color: #dd0000; text-decoration-color: #dd0000; background-color: #ffffff\">Traceback (most recent call last):</span><span style=\"background-color: #ffffff\">                                                                  </span>\n",
       "<span style=\"color: #101010; text-decoration-color: #101010; background-color: #ffffff\">  Code block </span><span style=\"color: #783114; text-decoration-color: #783114; background-color: #ffffff\">[</span><span style=\"color: #101010; text-decoration-color: #101010; background-color: #ffffff\">3</span><span style=\"color: #783114; text-decoration-color: #783114; background-color: #ffffff\">]</span><span style=\"color: #101010; text-decoration-color: #101010; background-color: #ffffff\">, line 1</span><span style=\"background-color: #ffffff\">                                                                            </span>\n",
       "<span style=\"color: #101010; text-decoration-color: #101010; background-color: #ffffff\">    </span><span style=\"color: #005500; text-decoration-color: #005500; background-color: #ffffff\">print</span><span style=\"color: #783114; text-decoration-color: #783114; background-color: #ffffff\">(</span><span style=\"color: #0011aa; text-decoration-color: #0011aa; background-color: #ffffff\">adnan</span><span style=\"color: #783114; text-decoration-color: #783114; background-color: #ffffff\">)</span><span style=\"background-color: #ffffff\">                                                                                    </span>\n",
       "<span style=\"color: #dd0000; text-decoration-color: #dd0000; background-color: #ffffff\">NameError</span><span style=\"color: #101010; text-decoration-color: #101010; background-color: #ffffff\">: </span><span style=\"color: #0011aa; text-decoration-color: #0011aa; background-color: #ffffff\">name 'adnan' is not defined</span><span style=\"background-color: #ffffff\">                                                              </span>\n",
       "</pre></div>"
      ],
      "text/plain": [
       "\u001b[38;2;221;0;0;48;2;255;255;255mTraceback (most recent call last):\u001b[0m\u001b[48;2;255;255;255m                                                                  \u001b[0m\n",
       "\u001b[38;2;16;16;16;48;2;255;255;255m  Code block \u001b[0m\u001b[38;2;120;49;20;48;2;255;255;255m[\u001b[0m\u001b[38;2;16;16;16;48;2;255;255;255m3\u001b[0m\u001b[38;2;120;49;20;48;2;255;255;255m]\u001b[0m\u001b[38;2;16;16;16;48;2;255;255;255m, line \u001b[0m\u001b[38;2;16;16;16;48;2;255;255;255m1\u001b[0m\u001b[48;2;255;255;255m                                                                            \u001b[0m\n",
       "\u001b[38;2;16;16;16;48;2;255;255;255m    \u001b[0m\u001b[38;2;0;85;0;48;2;255;255;255mprint\u001b[0m\u001b[38;2;120;49;20;48;2;255;255;255m(\u001b[0m\u001b[38;2;0;17;170;48;2;255;255;255madnan\u001b[0m\u001b[38;2;120;49;20;48;2;255;255;255m)\u001b[0m\u001b[48;2;255;255;255m                                                                                    \u001b[0m\n",
       "\u001b[38;2;221;0;0;48;2;255;255;255mNameError\u001b[0m\u001b[38;2;16;16;16;48;2;255;255;255m: \u001b[0m\u001b[38;2;0;17;170;48;2;255;255;255mname 'adnan' is not defined\u001b[0m\u001b[48;2;255;255;255m                                                              \u001b[0m\n"
      ]
     },
     "metadata": {},
     "output_type": "display_data"
    },
    {
     "data": {
      "text/html": [
       "<script type=\"text/Javascript\"> function toggle_what1(){\n",
       "     var content = document.getElementById('friendly-tb-what-content1');\n",
       "     var btn = document.getElementById('friendly-tb-btn-show-what1');\n",
       "        if (content.style.display === 'none') {\n",
       "            content.style.display = 'block';\n",
       "            btn.textContent = \"Hide what()\";\n",
       "        } else {\n",
       "            content.style.display = 'none';\n",
       "            btn.textContent = \"what()\";\n",
       "       }\n",
       "    }\n",
       "     </script>\n",
       "     <button\n",
       "         id='friendly-tb-btn-show-what1'\n",
       "         onclick='toggle_what1()'\n",
       "         style='display:none '>\n",
       "     what()\n",
       "     </button>\n",
       "    "
      ]
     },
     "metadata": {},
     "output_type": "display_data"
    },
    {
     "data": {
      "text/html": [
       "<div id='friendly-tb-what-content1' style='display:none'><pre style='white-space:pre;overflow-x:auto;line-height:normal'>A <span style=\"color: #dd0000; text-decoration-color: #dd0000; background-color: #ffffff\">NameError</span> exception indicates that a variable or function name is   \n",
       "not known to Python. Most often, this is because there is a spelling  \n",
       "mistake. However, sometimes it is because the name is used before     \n",
       "being defined or given a value.                                       \n",
       "</pre></div>"
      ],
      "text/plain": [
       "A \u001b[38;2;221;0;0;48;2;255;255;255mNameError\u001b[0m exception indicates that a variable or function name is   \n",
       "not known to Python. Most often, this is because there is a spelling  \n",
       "mistake. However, sometimes it is because the name is used before     \n",
       "being defined or given a value.                                       \n"
      ]
     },
     "metadata": {},
     "output_type": "display_data"
    },
    {
     "data": {
      "text/html": [
       "<script type=\"text/Javascript\"> function toggle_why1(){\n",
       "     var content = document.getElementById('friendly-tb-why-content1');\n",
       "     var btn = document.getElementById('friendly-tb-btn-show-why1');\n",
       "        if (content.style.display === 'none') {\n",
       "            content.style.display = 'block';\n",
       "            btn.textContent = \"Hide why()\";\n",
       "        } else {\n",
       "            content.style.display = 'none';\n",
       "            btn.textContent = \"why()\";\n",
       "       }\n",
       "    }\n",
       "     </script>\n",
       "     <button\n",
       "         id='friendly-tb-btn-show-why1'\n",
       "         onclick='toggle_why1()'\n",
       "         style='display:none '>\n",
       "     why()\n",
       "     </button>\n",
       "    "
      ]
     },
     "metadata": {},
     "output_type": "display_data"
    },
    {
     "data": {
      "text/html": [
       "<div id='friendly-tb-why-content1' style='display:none'><pre style='white-space:pre;overflow-x:auto;line-height:normal'>In your program, no object with the name <span style=\"color: #0011aa; text-decoration-color: #0011aa; background-color: #ffffff\">adnan</span> exists. I have no      \n",
       "additional information for you.                                       \n",
       "</pre></div>"
      ],
      "text/plain": [
       "In your program, no object with the name \u001b[38;2;0;17;170;48;2;255;255;255madnan\u001b[0m exists. I have no      \n",
       "additional information for you.                                       \n"
      ]
     },
     "metadata": {},
     "output_type": "display_data"
    },
    {
     "data": {
      "text/html": [
       "<script type=\"text/Javascript\"> function toggle_where1(){\n",
       "     var content = document.getElementById('friendly-tb-where-content1');\n",
       "     var btn = document.getElementById('friendly-tb-btn-show-where1');\n",
       "        if (content.style.display === 'none') {\n",
       "            content.style.display = 'block';\n",
       "            btn.textContent = \"Hide where()\";\n",
       "        } else {\n",
       "            content.style.display = 'none';\n",
       "            btn.textContent = \"where()\";\n",
       "       }\n",
       "    }\n",
       "     </script>\n",
       "     <button\n",
       "         id='friendly-tb-btn-show-where1'\n",
       "         onclick='toggle_where1()'\n",
       "         style='display:none '>\n",
       "     where()\n",
       "     </button>\n",
       "    "
      ]
     },
     "metadata": {},
     "output_type": "display_data"
    },
    {
     "data": {
      "text/html": [
       "<div id='friendly-tb-where-content1' style='display:none'><pre style='white-space:pre;overflow-x:auto;line-height:normal'><span style=\"color: #dd0000; text-decoration-color: #dd0000\">Exception raised on line 1 of code block </span><span style=\"color: #783114; text-decoration-color: #783114; background-color: #ffffff\">[</span><span style=\"color: #101010; text-decoration-color: #101010; background-color: #ffffff\">3</span><span style=\"color: #783114; text-decoration-color: #783114; background-color: #ffffff\">]</span><span style=\"color: #dd0000; text-decoration-color: #dd0000\">.</span>                                                       \n",
       "\n",
       "<span style=\"color: #783114; text-decoration-color: #783114; background-color: #ffffff\">     &gt; </span><span style=\"color: #101010; text-decoration-color: #101010; background-color: #ffffff\">1|</span><span style=\"color: #005500; text-decoration-color: #005500; background-color: #ffffff\"> print</span><span style=\"color: #783114; text-decoration-color: #783114; background-color: #ffffff\">(</span><span style=\"color: #ffffff; text-decoration-color: #ffffff; background-color: #cc0000\">adnan</span><span style=\"color: #783114; text-decoration-color: #783114; background-color: #ffffff\">)</span>\n",
       "</pre></div>"
      ],
      "text/plain": [
       "\u001b[38;2;221;0;0mException raised on line 1 of code block \u001b[0m\u001b[38;2;120;49;20;48;2;255;255;255m[\u001b[0m\u001b[38;2;16;16;16;48;2;255;255;255m3\u001b[0m\u001b[38;2;120;49;20;48;2;255;255;255m]\u001b[0m\u001b[38;2;221;0;0m.\u001b[0m                                                       \n",
       "\n",
       "\u001b[38;2;120;49;20;48;2;255;255;255m     > \u001b[0m\u001b[38;2;16;16;16;48;2;255;255;255m1|\u001b[0m\u001b[38;2;0;85;0;48;2;255;255;255m print\u001b[0m\u001b[38;2;120;49;20;48;2;255;255;255m(\u001b[0m\u001b[38;2;255;255;255;48;2;204;0;0madnan\u001b[0m\u001b[38;2;120;49;20;48;2;255;255;255m)\u001b[0m\n"
      ]
     },
     "metadata": {},
     "output_type": "display_data"
    }
   ],
   "source": [
    "from friendly.jupyter import Friendly"
   ]
  },
  {
   "cell_type": "code",
   "execution_count": 2,
   "id": "b3a293f0",
   "metadata": {},
   "outputs": [
    {
     "name": "stdout",
     "output_type": "stream",
     "text": [
      "Enter your name: John\n",
      "Hi!\n"
     ]
    }
   ],
   "source": [
    "name = input('Enter your name: ')\n",
    "\n",
    "if name=='Adnan':\n",
    "    print('Hi Adnan, Good morning!')\n",
    "    \n",
    "else:\n",
    "    print('Hi!')"
   ]
  },
  {
   "cell_type": "code",
   "execution_count": 5,
   "id": "591e4d57",
   "metadata": {},
   "outputs": [
    {
     "data": {
      "text/html": [
       "<div id='friendly-message2'><pre style='white-space:pre;overflow-x:auto;line-height:normal'><span style=\"color: #dd0000; text-decoration-color: #dd0000; background-color: #ffffff\">NameError</span>: name 'adnan' is not defined                                \n",
       "</pre></div>"
      ],
      "text/plain": [
       "\u001b[38;2;221;0;0;48;2;255;255;255mNameError\u001b[0m: name 'adnan' is not defined                                \n"
      ]
     },
     "metadata": {},
     "output_type": "display_data"
    },
    {
     "data": {
      "text/html": [
       "\n",
       "        <button\n",
       "            id='friendly-tb-btn-show2'\n",
       "            onclick='friendly_toggle_more2()'\n",
       "            style=''>\n",
       "        More ...\n",
       "        </button>\n",
       "        <script type=\"text/Javascript\"> function friendly_toggle_more2(){\n",
       "        var btn = document.getElementById('friendly-tb-btn-show2');\n",
       "        var btn_what = document.getElementById('friendly-tb-btn-show-what2');\n",
       "        var btn_where = document.getElementById('friendly-tb-btn-show-where2');\n",
       "        var btn_why = document.getElementById('friendly-tb-btn-show-why2');\n",
       "        ;\n",
       "        var message = document.getElementById('friendly-message2');\n",
       "        var friendly_tb_content = document.getElementById('friendly-tb-friendly_tb-content2');\n",
       "        var what_content = document.getElementById('friendly-tb-what-content2');\n",
       "        var why_content = document.getElementById('friendly-tb-why-content2');\n",
       "        var where_content = document.getElementById('friendly-tb-where-content2');\n",
       "        ;\n",
       "\n",
       "        if (btn_what.style.display == 'none'){\n",
       "            message.style.display = 'none';\n",
       "            btn_what.style.display = 'block';\n",
       "            btn_why.style.display = 'block';\n",
       "            btn_where.style.display = 'block';\n",
       "            friendly_tb_content.style.display = 'block';\n",
       "            ;\n",
       "            btn.textContent = \"Show message only\";\n",
       "            ;\n",
       "        } else {\n",
       "            btn_what.style.display = 'none';\n",
       "            btn_what.textContent = 'what()';\n",
       "            btn_why.style.display = 'none';\n",
       "            btn_why.textContent = 'why()';\n",
       "            btn_where.style.display = 'none';\n",
       "            btn_where.textContent = 'where()';\n",
       "            what_content.style.display = 'none';\n",
       "            why_content.style.display = 'none';\n",
       "            where_content.style.display = 'none';\n",
       "            ;\n",
       "            friendly_tb_content.style.display = 'none';\n",
       "            message.style.display = 'block';\n",
       "            btn.textContent = \"More ...\";\n",
       "            ;\n",
       "        }\n",
       "        };\n",
       "        </script>\n",
       "        "
      ]
     },
     "metadata": {},
     "output_type": "display_data"
    },
    {
     "data": {
      "text/html": [
       "<div id='friendly-tb-friendly_tb-content2' style='display:none'><pre style='white-space:pre;overflow-x:auto;line-height:normal'><span style=\"color: #dd0000; text-decoration-color: #dd0000; background-color: #ffffff\">Traceback (most recent call last):</span><span style=\"background-color: #ffffff\">                                                                  </span>\n",
       "<span style=\"color: #101010; text-decoration-color: #101010; background-color: #ffffff\">  File </span><span style=\"color: #005500; text-decoration-color: #005500; background-color: #ffffff\">\"[5]?\"</span><span style=\"color: #101010; text-decoration-color: #101010; background-color: #ffffff\">, line 1, in </span><span style=\"color: #0011aa; text-decoration-color: #0011aa; background-color: #ffffff\">&lt;module&gt;</span><span style=\"background-color: #ffffff\">                                                                  </span>\n",
       "<span style=\"color: #101010; text-decoration-color: #101010; background-color: #ffffff\">    </span><span style=\"color: #005500; text-decoration-color: #005500; background-color: #ffffff\">print</span><span style=\"color: #783114; text-decoration-color: #783114; background-color: #ffffff\">(</span><span style=\"color: #0011aa; text-decoration-color: #0011aa; background-color: #ffffff\">adnan</span><span style=\"color: #783114; text-decoration-color: #783114; background-color: #ffffff\">)</span><span style=\"background-color: #ffffff\">                                                                                    </span>\n",
       "<span style=\"color: #dd0000; text-decoration-color: #dd0000; background-color: #ffffff\">NameError</span><span style=\"color: #101010; text-decoration-color: #101010; background-color: #ffffff\">: </span><span style=\"color: #0011aa; text-decoration-color: #0011aa; background-color: #ffffff\">name 'adnan' is not defined</span><span style=\"background-color: #ffffff\">                                                              </span>\n",
       "</pre></div>"
      ],
      "text/plain": [
       "\u001b[38;2;221;0;0;48;2;255;255;255mTraceback (most recent call last):\u001b[0m\u001b[48;2;255;255;255m                                                                  \u001b[0m\n",
       "\u001b[38;2;16;16;16;48;2;255;255;255m  File \u001b[0m\u001b[38;2;0;85;0;48;2;255;255;255m\"[5]?\"\u001b[0m\u001b[38;2;16;16;16;48;2;255;255;255m, line \u001b[0m\u001b[38;2;16;16;16;48;2;255;255;255m1\u001b[0m\u001b[38;2;16;16;16;48;2;255;255;255m, in \u001b[0m\u001b[38;2;0;17;170;48;2;255;255;255m<module>\u001b[0m\u001b[48;2;255;255;255m                                                                  \u001b[0m\n",
       "\u001b[38;2;16;16;16;48;2;255;255;255m    \u001b[0m\u001b[38;2;0;85;0;48;2;255;255;255mprint\u001b[0m\u001b[38;2;120;49;20;48;2;255;255;255m(\u001b[0m\u001b[38;2;0;17;170;48;2;255;255;255madnan\u001b[0m\u001b[38;2;120;49;20;48;2;255;255;255m)\u001b[0m\u001b[48;2;255;255;255m                                                                                    \u001b[0m\n",
       "\u001b[38;2;221;0;0;48;2;255;255;255mNameError\u001b[0m\u001b[38;2;16;16;16;48;2;255;255;255m: \u001b[0m\u001b[38;2;0;17;170;48;2;255;255;255mname 'adnan' is not defined\u001b[0m\u001b[48;2;255;255;255m                                                              \u001b[0m\n"
      ]
     },
     "metadata": {},
     "output_type": "display_data"
    },
    {
     "data": {
      "text/html": [
       "<script type=\"text/Javascript\"> function toggle_what2(){\n",
       "     var content = document.getElementById('friendly-tb-what-content2');\n",
       "     var btn = document.getElementById('friendly-tb-btn-show-what2');\n",
       "        if (content.style.display === 'none') {\n",
       "            content.style.display = 'block';\n",
       "            btn.textContent = \"Hide what()\";\n",
       "        } else {\n",
       "            content.style.display = 'none';\n",
       "            btn.textContent = \"what()\";\n",
       "       }\n",
       "    }\n",
       "     </script>\n",
       "     <button\n",
       "         id='friendly-tb-btn-show-what2'\n",
       "         onclick='toggle_what2()'\n",
       "         style='display:none '>\n",
       "     what()\n",
       "     </button>\n",
       "    "
      ]
     },
     "metadata": {},
     "output_type": "display_data"
    },
    {
     "data": {
      "text/html": [
       "<div id='friendly-tb-what-content2' style='display:none'><pre style='white-space:pre;overflow-x:auto;line-height:normal'>A <span style=\"color: #dd0000; text-decoration-color: #dd0000; background-color: #ffffff\">NameError</span> exception indicates that a variable or function name is   \n",
       "not known to Python. Most often, this is because there is a spelling  \n",
       "mistake. However, sometimes it is because the name is used before     \n",
       "being defined or given a value.                                       \n",
       "</pre></div>"
      ],
      "text/plain": [
       "A \u001b[38;2;221;0;0;48;2;255;255;255mNameError\u001b[0m exception indicates that a variable or function name is   \n",
       "not known to Python. Most often, this is because there is a spelling  \n",
       "mistake. However, sometimes it is because the name is used before     \n",
       "being defined or given a value.                                       \n"
      ]
     },
     "metadata": {},
     "output_type": "display_data"
    },
    {
     "data": {
      "text/html": [
       "<script type=\"text/Javascript\"> function toggle_why2(){\n",
       "     var content = document.getElementById('friendly-tb-why-content2');\n",
       "     var btn = document.getElementById('friendly-tb-btn-show-why2');\n",
       "        if (content.style.display === 'none') {\n",
       "            content.style.display = 'block';\n",
       "            btn.textContent = \"Hide why()\";\n",
       "        } else {\n",
       "            content.style.display = 'none';\n",
       "            btn.textContent = \"why()\";\n",
       "       }\n",
       "    }\n",
       "     </script>\n",
       "     <button\n",
       "         id='friendly-tb-btn-show-why2'\n",
       "         onclick='toggle_why2()'\n",
       "         style='display:none '>\n",
       "     why()\n",
       "     </button>\n",
       "    "
      ]
     },
     "metadata": {},
     "output_type": "display_data"
    },
    {
     "data": {
      "text/html": [
       "<div id='friendly-tb-why-content2' style='display:none'><pre style='white-space:pre;overflow-x:auto;line-height:normal'>In your program, no object with the name <span style=\"color: #0011aa; text-decoration-color: #0011aa; background-color: #ffffff\">adnan</span> exists. I have no      \n",
       "additional information for you.                                       \n",
       "</pre></div>"
      ],
      "text/plain": [
       "In your program, no object with the name \u001b[38;2;0;17;170;48;2;255;255;255madnan\u001b[0m exists. I have no      \n",
       "additional information for you.                                       \n"
      ]
     },
     "metadata": {},
     "output_type": "display_data"
    },
    {
     "data": {
      "text/html": [
       "<script type=\"text/Javascript\"> function toggle_where2(){\n",
       "     var content = document.getElementById('friendly-tb-where-content2');\n",
       "     var btn = document.getElementById('friendly-tb-btn-show-where2');\n",
       "        if (content.style.display === 'none') {\n",
       "            content.style.display = 'block';\n",
       "            btn.textContent = \"Hide where()\";\n",
       "        } else {\n",
       "            content.style.display = 'none';\n",
       "            btn.textContent = \"where()\";\n",
       "       }\n",
       "    }\n",
       "     </script>\n",
       "     <button\n",
       "         id='friendly-tb-btn-show-where2'\n",
       "         onclick='toggle_where2()'\n",
       "         style='display:none '>\n",
       "     where()\n",
       "     </button>\n",
       "    "
      ]
     },
     "metadata": {},
     "output_type": "display_data"
    },
    {
     "data": {
      "text/html": [
       "<div id='friendly-tb-where-content2' style='display:none'><pre style='white-space:pre;overflow-x:auto;line-height:normal'><span style=\"color: #dd0000; text-decoration-color: #dd0000\">Exception raised on line 1 of code block </span><span style=\"color: #783114; text-decoration-color: #783114; background-color: #ffffff\">[</span><span style=\"color: #101010; text-decoration-color: #101010; background-color: #ffffff\">5</span><span style=\"color: #783114; text-decoration-color: #783114; background-color: #ffffff\">]</span><span style=\"color: #dd0000; text-decoration-color: #dd0000\">?.</span>                                                      \n",
       "\n",
       "<span style=\"color: #783114; text-decoration-color: #783114; background-color: #ffffff\">     &gt; </span><span style=\"color: #101010; text-decoration-color: #101010; background-color: #ffffff\">1|</span><span style=\"color: #005500; text-decoration-color: #005500; background-color: #ffffff\"> print</span><span style=\"color: #783114; text-decoration-color: #783114; background-color: #ffffff\">(</span><span style=\"color: #ffffff; text-decoration-color: #ffffff; background-color: #cc0000\">adnan</span><span style=\"color: #783114; text-decoration-color: #783114; background-color: #ffffff\">)</span>\n",
       "</pre></div>"
      ],
      "text/plain": [
       "\u001b[38;2;221;0;0mException raised on line 1 of code block \u001b[0m\u001b[38;2;120;49;20;48;2;255;255;255m[\u001b[0m\u001b[38;2;16;16;16;48;2;255;255;255m5\u001b[0m\u001b[38;2;120;49;20;48;2;255;255;255m]\u001b[0m\u001b[38;2;221;0;0m?.\u001b[0m                                                      \n",
       "\n",
       "\u001b[38;2;120;49;20;48;2;255;255;255m     > \u001b[0m\u001b[38;2;16;16;16;48;2;255;255;255m1|\u001b[0m\u001b[38;2;0;85;0;48;2;255;255;255m print\u001b[0m\u001b[38;2;120;49;20;48;2;255;255;255m(\u001b[0m\u001b[38;2;255;255;255;48;2;204;0;0madnan\u001b[0m\u001b[38;2;120;49;20;48;2;255;255;255m)\u001b[0m\n"
      ]
     },
     "metadata": {},
     "output_type": "display_data"
    }
   ],
   "source": [
    "print(adnan)"
   ]
  },
  {
   "cell_type": "code",
   "execution_count": 12,
   "id": "259e8da3",
   "metadata": {},
   "outputs": [
    {
     "name": "stdout",
     "output_type": "stream",
     "text": [
      "Enter your name: David\n",
      "Hi there!\n"
     ]
    }
   ],
   "source": [
    "name = input('Enter your name: ')\n",
    "\n",
    "if name == 'Adnan':\n",
    "    print('Hello Boss!')\n",
    "elif name == 'John':\n",
    "    print('Hi John')\n",
    "elif name == 'Kathy':\n",
    "    print('Hi Kathy')\n",
    "else:\n",
    "    print('Hi there!')\n",
    "\n"
   ]
  },
  {
   "cell_type": "code",
   "execution_count": 15,
   "id": "b2bafdfd",
   "metadata": {},
   "outputs": [
    {
     "name": "stdout",
     "output_type": "stream",
     "text": [
      "Yes, greater than 40\n"
     ]
    }
   ],
   "source": [
    "n = 42\n",
    "\n",
    "if n > 50:\n",
    "    print('Yes, greater than 50')\n",
    "elif n > 45:\n",
    "    print('Yes, greater than 45')\n",
    "elif n >40:\n",
    "    print('Yes, greater than 40')\n",
    "else:\n",
    "    print(\"I don't know\")"
   ]
  },
  {
   "cell_type": "code",
   "execution_count": 16,
   "id": "ee71e6c7",
   "metadata": {},
   "outputs": [
    {
     "data": {
      "text/html": [
       "<pre style='white-space:pre;overflow-x:auto;line-height:normal'><span style=\"font-weight: bold\">&lt;</span><span style=\"color: #0011aa; text-decoration-color: #0011aa\">class</span><span style=\"color: #000000; text-decoration-color: #000000\"> </span><span style=\"color: #8b008b; text-decoration-color: #8b008b\">'int'</span><span style=\"font-weight: bold\">&gt;</span>\n",
       "</pre>"
      ],
      "text/plain": [
       "\u001b[1m<\u001b[0m\u001b[38;2;0;17;170mclass\u001b[0m\u001b[39m \u001b[0m\u001b[38;2;139;0;139m'int'\u001b[0m\u001b[1m>\u001b[0m\n"
      ]
     },
     "metadata": {},
     "output_type": "display_data"
    }
   ],
   "source": [
    "x= 10\n",
    "type(x)"
   ]
  },
  {
   "cell_type": "code",
   "execution_count": 17,
   "id": "9b1b86f2",
   "metadata": {},
   "outputs": [
    {
     "data": {
      "text/html": [
       "<pre style='white-space:pre;overflow-x:auto;line-height:normal'><span style=\"color: #101010; text-decoration-color: #101010\">13</span>\n",
       "</pre>"
      ],
      "text/plain": [
       "\u001b[38;2;16;16;16m13\u001b[0m\n"
      ]
     },
     "metadata": {},
     "output_type": "display_data"
    }
   ],
   "source": [
    "y = 3\n",
    "x + y"
   ]
  },
  {
   "cell_type": "code",
   "execution_count": 18,
   "id": "d4c9c825",
   "metadata": {},
   "outputs": [
    {
     "data": {
      "text/html": [
       "<pre style='white-space:pre;overflow-x:auto;line-height:normal'><span style=\"color: #101010; text-decoration-color: #101010\">30</span>\n",
       "</pre>"
      ],
      "text/plain": [
       "\u001b[38;2;16;16;16m30\u001b[0m\n"
      ]
     },
     "metadata": {},
     "output_type": "display_data"
    }
   ],
   "source": [
    "x*y"
   ]
  },
  {
   "cell_type": "code",
   "execution_count": 19,
   "id": "02f82a11",
   "metadata": {},
   "outputs": [
    {
     "data": {
      "text/html": [
       "<pre style='white-space:pre;overflow-x:auto;line-height:normal'><span style=\"color: #101010; text-decoration-color: #101010\">3.3333333333333335</span>\n",
       "</pre>"
      ],
      "text/plain": [
       "\u001b[38;2;16;16;16m3.3333333333333335\u001b[0m\n"
      ]
     },
     "metadata": {},
     "output_type": "display_data"
    }
   ],
   "source": [
    "x/y"
   ]
  },
  {
   "cell_type": "code",
   "execution_count": 20,
   "id": "c0fde8ac",
   "metadata": {},
   "outputs": [
    {
     "data": {
      "text/html": [
       "<pre style='white-space:pre;overflow-x:auto;line-height:normal'><span style=\"color: #101010; text-decoration-color: #101010\">3</span>\n",
       "</pre>"
      ],
      "text/plain": [
       "\u001b[38;2;16;16;16m3\u001b[0m\n"
      ]
     },
     "metadata": {},
     "output_type": "display_data"
    }
   ],
   "source": [
    "x//y"
   ]
  },
  {
   "cell_type": "code",
   "execution_count": 21,
   "id": "58e142b5",
   "metadata": {},
   "outputs": [
    {
     "data": {
      "text/html": [
       "<pre style='white-space:pre;overflow-x:auto;line-height:normal'><span style=\"color: #101010; text-decoration-color: #101010\">1000</span>\n",
       "</pre>"
      ],
      "text/plain": [
       "\u001b[38;2;16;16;16m1000\u001b[0m\n"
      ]
     },
     "metadata": {},
     "output_type": "display_data"
    }
   ],
   "source": [
    "x**y"
   ]
  },
  {
   "cell_type": "code",
   "execution_count": 22,
   "id": "7f0c7672",
   "metadata": {},
   "outputs": [
    {
     "data": {
      "text/html": [
       "<pre style='white-space:pre;overflow-x:auto;line-height:normal'><span style=\"color: #101010; text-decoration-color: #101010\">1</span>\n",
       "</pre>"
      ],
      "text/plain": [
       "\u001b[38;2;16;16;16m1\u001b[0m\n"
      ]
     },
     "metadata": {},
     "output_type": "display_data"
    }
   ],
   "source": [
    "x%y"
   ]
  },
  {
   "cell_type": "code",
   "execution_count": 25,
   "id": "e415ab88",
   "metadata": {},
   "outputs": [
    {
     "data": {
      "text/html": [
       "<pre style='white-space:pre;overflow-x:auto;line-height:normal'><span style=\"color: #101010; text-decoration-color: #101010\">30</span>\n",
       "</pre>"
      ],
      "text/plain": [
       "\u001b[38;2;16;16;16m30\u001b[0m\n"
      ]
     },
     "metadata": {},
     "output_type": "display_data"
    }
   ],
   "source": [
    "answer = x * y\n",
    "answer"
   ]
  },
  {
   "cell_type": "code",
   "execution_count": 26,
   "id": "c963077c",
   "metadata": {},
   "outputs": [
    {
     "data": {
      "text/html": [
       "<pre style='white-space:pre;overflow-x:auto;line-height:normal'><span style=\"color: #101010; text-decoration-color: #101010\">11</span>\n",
       "</pre>"
      ],
      "text/plain": [
       "\u001b[38;2;16;16;16m11\u001b[0m\n"
      ]
     },
     "metadata": {},
     "output_type": "display_data"
    }
   ],
   "source": [
    "x = 10\n",
    "x = x + 1\n",
    "\n",
    "x"
   ]
  },
  {
   "cell_type": "code",
   "execution_count": 27,
   "id": "8d87e8a8",
   "metadata": {},
   "outputs": [
    {
     "data": {
      "text/html": [
       "<pre style='white-space:pre;overflow-x:auto;line-height:normal'><span style=\"color: #101010; text-decoration-color: #101010\">12</span>\n",
       "</pre>"
      ],
      "text/plain": [
       "\u001b[38;2;16;16;16m12\u001b[0m\n"
      ]
     },
     "metadata": {},
     "output_type": "display_data"
    }
   ],
   "source": [
    "x += 1\n",
    "x"
   ]
  },
  {
   "cell_type": "code",
   "execution_count": 29,
   "id": "9b0c61b4",
   "metadata": {},
   "outputs": [
    {
     "data": {
      "text/html": [
       "<pre style='white-space:pre;overflow-x:auto;line-height:normal'><span style=\"color: #101010; text-decoration-color: #101010\">300</span>\n",
       "</pre>"
      ],
      "text/plain": [
       "\u001b[38;2;16;16;16m300\u001b[0m\n"
      ]
     },
     "metadata": {},
     "output_type": "display_data"
    }
   ],
   "source": [
    "x *= 5\n",
    "x"
   ]
  },
  {
   "cell_type": "code",
   "execution_count": 30,
   "id": "a85a452a",
   "metadata": {},
   "outputs": [
    {
     "data": {
      "text/html": [
       "<pre style='white-space:pre;overflow-x:auto;line-height:normal'><span style=\"color: #101010; text-decoration-color: #101010\">299</span>\n",
       "</pre>"
      ],
      "text/plain": [
       "\u001b[38;2;16;16;16m299\u001b[0m\n"
      ]
     },
     "metadata": {},
     "output_type": "display_data"
    }
   ],
   "source": [
    "x -= 1\n",
    "x"
   ]
  },
  {
   "cell_type": "code",
   "execution_count": 32,
   "id": "41cbc22e",
   "metadata": {},
   "outputs": [
    {
     "data": {
      "text/html": [
       "<pre style='white-space:pre;overflow-x:auto;line-height:normal'><span style=\"color: #101010; text-decoration-color: #101010\">30</span>\n",
       "</pre>"
      ],
      "text/plain": [
       "\u001b[38;2;16;16;16m30\u001b[0m\n"
      ]
     },
     "metadata": {},
     "output_type": "display_data"
    }
   ],
   "source": [
    "x = 10\n",
    "y = '20'\n",
    "x + int(y)"
   ]
  },
  {
   "cell_type": "code",
   "execution_count": 38,
   "id": "300ee865",
   "metadata": {},
   "outputs": [
    {
     "name": "stdout",
     "output_type": "stream",
     "text": [
      "Enter your favorite number: 72\n",
      "That is my favorite, also!\n"
     ]
    }
   ],
   "source": [
    "n = input ('Enter your favorite number: ')\n",
    "n = int(n)\n",
    "    \n",
    "if n == 72:\n",
    "    print('That is my favorite, also!')\n",
    "else:\n",
    "    print('You have terrible taste in numbers')"
   ]
  },
  {
   "cell_type": "code",
   "execution_count": 39,
   "id": "f67264d9",
   "metadata": {},
   "outputs": [
    {
     "data": {
      "text/html": [
       "<pre style='white-space:pre;overflow-x:auto;line-height:normal'><span style=\"color: #101010; text-decoration-color: #101010\">1244</span>\n",
       "</pre>"
      ],
      "text/plain": [
       "\u001b[38;2;16;16;16m1244\u001b[0m\n"
      ]
     },
     "metadata": {},
     "output_type": "display_data"
    }
   ],
   "source": [
    "int('1244')"
   ]
  },
  {
   "cell_type": "code",
   "execution_count": 41,
   "id": "3cd79321",
   "metadata": {},
   "outputs": [],
   "source": [
    "import random"
   ]
  },
  {
   "cell_type": "code",
   "execution_count": 49,
   "id": "36358c58",
   "metadata": {},
   "outputs": [
    {
     "name": "stdout",
     "output_type": "stream",
     "text": [
      "39\n",
      "Guess the number: 38\n",
      "Too low!\n"
     ]
    }
   ],
   "source": [
    "number = random.randint(0,100)\n",
    "print(number)\n",
    "\n",
    "question = input('Guess the number: ')\n",
    "question = int(question)\n",
    "\n",
    "if question == number:\n",
    "    print('You got it!')\n",
    "elif question > number:\n",
    "    print('Too high!')\n",
    "else:\n",
    "    print('Too low!')\n"
   ]
  },
  {
   "cell_type": "code",
   "execution_count": 50,
   "id": "176f4d38",
   "metadata": {},
   "outputs": [
    {
     "data": {
      "text/html": [
       "<pre style='white-space:pre;overflow-x:auto;line-height:normal'><span style=\"font-weight: bold\">&lt;</span><span style=\"color: #0011aa; text-decoration-color: #0011aa\">class</span><span style=\"color: #000000; text-decoration-color: #000000\"> </span><span style=\"color: #8b008b; text-decoration-color: #8b008b\">'float'</span><span style=\"font-weight: bold\">&gt;</span>\n",
       "</pre>"
      ],
      "text/plain": [
       "\u001b[1m<\u001b[0m\u001b[38;2;0;17;170mclass\u001b[0m\u001b[39m \u001b[0m\u001b[38;2;139;0;139m'float'\u001b[0m\u001b[1m>\u001b[0m\n"
      ]
     },
     "metadata": {},
     "output_type": "display_data"
    }
   ],
   "source": [
    "n = 10.5\n",
    "type(n)"
   ]
  },
  {
   "cell_type": "code",
   "execution_count": 52,
   "id": "6cb81c99",
   "metadata": {},
   "outputs": [
    {
     "data": {
      "text/html": [
       "<pre style='white-space:pre;overflow-x:auto;line-height:normal'><span style=\"color: #101010; text-decoration-color: #101010\">5.0</span>\n",
       "</pre>"
      ],
      "text/plain": [
       "\u001b[38;2;16;16;16m5.0\u001b[0m\n"
      ]
     },
     "metadata": {},
     "output_type": "display_data"
    }
   ],
   "source": [
    "a= float(5)\n",
    "a"
   ]
  },
  {
   "cell_type": "code",
   "execution_count": 53,
   "id": "bb7f9117",
   "metadata": {},
   "outputs": [
    {
     "data": {
      "text/html": [
       "<pre style='white-space:pre;overflow-x:auto;line-height:normal'><span style=\"color: #101010; text-decoration-color: #101010\">5</span>\n",
       "</pre>"
      ],
      "text/plain": [
       "\u001b[38;2;16;16;16m5\u001b[0m\n"
      ]
     },
     "metadata": {},
     "output_type": "display_data"
    }
   ],
   "source": [
    "int(a)"
   ]
  },
  {
   "cell_type": "code",
   "execution_count": 54,
   "id": "8f23a195",
   "metadata": {},
   "outputs": [],
   "source": [
    "a = \"a quick brown fox\""
   ]
  },
  {
   "cell_type": "code",
   "execution_count": 55,
   "id": "2b307fdc",
   "metadata": {},
   "outputs": [
    {
     "data": {
      "text/html": [
       "<pre style='white-space:pre;overflow-x:auto;line-height:normal'><span style=\"color: #101010; text-decoration-color: #101010\">17</span>\n",
       "</pre>"
      ],
      "text/plain": [
       "\u001b[38;2;16;16;16m17\u001b[0m\n"
      ]
     },
     "metadata": {},
     "output_type": "display_data"
    }
   ],
   "source": [
    "len(a)"
   ]
  },
  {
   "cell_type": "code",
   "execution_count": 56,
   "id": "984b62b2",
   "metadata": {},
   "outputs": [
    {
     "data": {
      "text/html": [
       "<pre style='white-space:pre;overflow-x:auto;line-height:normal'><span style=\"color: #8b008b; text-decoration-color: #8b008b\">\"he's a nice guy\"</span>\n",
       "</pre>"
      ],
      "text/plain": [
       "\u001b[38;2;139;0;139m\"he's a nice guy\"\u001b[0m\n"
      ]
     },
     "metadata": {},
     "output_type": "display_data"
    }
   ],
   "source": [
    "s ='he\\'s a nice guy'\n",
    "s"
   ]
  },
  {
   "cell_type": "code",
   "execution_count": 60,
   "id": "cc03f9b5",
   "metadata": {},
   "outputs": [
    {
     "data": {
      "text/html": [
       "<pre style='white-space:pre;overflow-x:auto;line-height:normal'><span style=\"color: #8b008b; text-decoration-color: #8b008b\">'She says, \"Hello\"'</span>\n",
       "</pre>"
      ],
      "text/plain": [
       "\u001b[38;2;139;0;139m'She says, \"Hello\"'\u001b[0m\n"
      ]
     },
     "metadata": {},
     "output_type": "display_data"
    }
   ],
   "source": [
    "a = \"She says, \\\"Hello\\\"\"\n",
    "a"
   ]
  },
  {
   "cell_type": "code",
   "execution_count": 65,
   "id": "96827b82",
   "metadata": {},
   "outputs": [
    {
     "name": "stdout",
     "output_type": "stream",
     "text": [
      "a quick brown fox \n",
      "\tjumps over\n"
     ]
    }
   ],
   "source": [
    "a = 'a quick brown fox \\n\\tjumps over'\n",
    "print(a)"
   ]
  },
  {
   "cell_type": "code",
   "execution_count": 68,
   "id": "80ebacc3",
   "metadata": {},
   "outputs": [
    {
     "name": "stdout",
     "output_type": "stream",
     "text": [
      "c:\\\\aaa\\vvv\\bbb\n"
     ]
    }
   ],
   "source": [
    "path = r'c:\\\\aaa\\vvv\\bbb'\n",
    "print(path)"
   ]
  },
  {
   "cell_type": "code",
   "execution_count": 73,
   "id": "ddeab281",
   "metadata": {},
   "outputs": [
    {
     "name": "stdout",
     "output_type": "stream",
     "text": [
      "in my program, x is 10 and y is 20\n",
      "10 + 20 = 30\n"
     ]
    }
   ],
   "source": [
    "x = 10\n",
    "y = 20\n",
    "\n",
    "print(f'in my program, x is {x} and y is {y}')\n",
    "print(f'{x} + {y} = {x+y}')"
   ]
  },
  {
   "cell_type": "code",
   "execution_count": 76,
   "id": "9ea17bb2",
   "metadata": {},
   "outputs": [
    {
     "name": "stdout",
     "output_type": "stream",
     "text": [
      "a quick brown\n",
      "fox \n",
      "jumps over\n",
      "the lazy dog\n"
     ]
    }
   ],
   "source": [
    "a = \"\"\"a quick brown\n",
    "fox \n",
    "jumps over\n",
    "the lazy dog\"\"\"\n",
    "print(a)"
   ]
  },
  {
   "cell_type": "code",
   "execution_count": 78,
   "id": "5d772b58",
   "metadata": {},
   "outputs": [
    {
     "name": "stdout",
     "output_type": "stream",
     "text": [
      "89\n",
      "Guess a number from 0 to 100: 22\n",
      "You guessed, 22.\n",
      "Too low.\n"
     ]
    }
   ],
   "source": [
    "number = random.randint(0, 100)\n",
    "\n",
    "print (number)\n",
    "\n",
    "guess = input('Guess a number from 0 to 100: ')\n",
    "print ('You guessed, ' + guess + '.')\n",
    "guess = int(guess)\n",
    "if guess == number:\n",
    "    print('You got it!')\n",
    "elif guess < number:\n",
    "    print('Too low.')\n",
    "else:\n",
    "    print('Too high.')"
   ]
  },
  {
   "cell_type": "code",
   "execution_count": 18,
   "id": "ff6c22fc",
   "metadata": {},
   "outputs": [
    {
     "data": {
      "text/plain": [
       "'z'"
      ]
     },
     "execution_count": 18,
     "metadata": {},
     "output_type": "execute_result"
    }
   ],
   "source": [
    "m = 'abcdefghijklmnopqrstuvwxyz'\n",
    "len(m)\n",
    "m[len(m)-1]"
   ]
  },
  {
   "cell_type": "code",
   "execution_count": 24,
   "id": "9871ffaa",
   "metadata": {},
   "outputs": [
    {
     "data": {
      "text/plain": [
       "'z'"
      ]
     },
     "execution_count": 24,
     "metadata": {},
     "output_type": "execute_result"
    }
   ],
   "source": [
    "m[26-1]"
   ]
  },
  {
   "cell_type": "code",
   "execution_count": 25,
   "id": "e810337d",
   "metadata": {},
   "outputs": [
    {
     "data": {
      "text/plain": [
       "'aceg'"
      ]
     },
     "execution_count": 25,
     "metadata": {},
     "output_type": "execute_result"
    }
   ],
   "source": [
    "m[0:8:2]"
   ]
  },
  {
   "cell_type": "code",
   "execution_count": 26,
   "id": "ae2b91d5",
   "metadata": {},
   "outputs": [
    {
     "name": "stdout",
     "output_type": "stream",
     "text": [
      "Enter a string: abcdefghijklmnopqrstuvwxyz\n",
      "abcdefghijklmnopqrstuvwxyz\n",
      "Enter an index number: 26\n",
      "Error, can't be greater than length of s which is 25\n"
     ]
    }
   ],
   "source": [
    "s = input('Enter a string: ')\n",
    "print(s)\n",
    "i = input('Enter an index number: ')\n",
    "i = int(i)\n",
    "\n",
    "if i<=0:\n",
    "    print('Error, can\\'t be less than 0')\n",
    "elif i>= len(s):\n",
    "    print(f\"Error, can\\'t be greater than length of s which is {len(s)-1}\")\n",
    "else:\n",
    "    print(f\"Character at index position {i} is {s[i]}\")\n",
    "    \n",
    "#abcdefghijklmnopqrstuvwxyz\n",
    "          \n",
    "          "
   ]
  },
  {
   "cell_type": "code",
   "execution_count": 29,
   "id": "b8178eb8",
   "metadata": {},
   "outputs": [
    {
     "name": "stdout",
     "output_type": "stream",
     "text": [
      "Conditions didn't met\n"
     ]
    }
   ],
   "source": [
    "x = 21\n",
    "y = 24\n",
    "\n",
    "if x == 20 and y == 24:\n",
    "    print (\"Yes both conditions met\")\n",
    "else:\n",
    "    print(\"Conditions didn't met\")"
   ]
  },
  {
   "cell_type": "code",
   "execution_count": 33,
   "id": "b33b2e4c",
   "metadata": {},
   "outputs": [
    {
     "name": "stdout",
     "output_type": "stream",
     "text": [
      "Enter a string: abcdefghijklmnopqrstuvwxyz\n",
      "abcdefghijklmnopqrstuvwxyz\n",
      "Enter an index number: 24\n",
      "Character at index position 24 is y\n"
     ]
    }
   ],
   "source": [
    "s = input('Enter a string: ')\n",
    "print(s)\n",
    "i = input('Enter an index number: ')\n",
    "i = int(i)\n",
    "\n",
    "if i<=0 or i>=len(s):\n",
    "    print(f\"Error, can\\'t be less than 0 and can\\'t be greater than length of s which is {len(s)-1}\")\n",
    "else:\n",
    "    print(f\"Character at index position {i} is {s[i]}\")\n",
    "    \n",
    "#abcdefghijklmnopqrstuvwxyz\n",
    "          "
   ]
  },
  {
   "cell_type": "code",
   "execution_count": 37,
   "id": "976185e9",
   "metadata": {},
   "outputs": [
    {
     "data": {
      "text/plain": [
       "'abcdefghijklmnop'"
      ]
     },
     "execution_count": 37,
     "metadata": {},
     "output_type": "execute_result"
    }
   ],
   "source": [
    "b = \"abcdefghijklmnopqrstuvwxyz\"\n",
    "\n",
    "b[:len(s)-10]"
   ]
  },
  {
   "cell_type": "code",
   "execution_count": 38,
   "id": "bca7bb68",
   "metadata": {},
   "outputs": [
    {
     "data": {
      "text/plain": [
       "True"
      ]
     },
     "execution_count": 38,
     "metadata": {},
     "output_type": "execute_result"
    }
   ],
   "source": [
    "'c' in b"
   ]
  },
  {
   "cell_type": "code",
   "execution_count": 39,
   "id": "e840e758",
   "metadata": {},
   "outputs": [
    {
     "data": {
      "text/plain": [
       "False"
      ]
     },
     "execution_count": 39,
     "metadata": {},
     "output_type": "execute_result"
    }
   ],
   "source": [
    "'2' in b"
   ]
  },
  {
   "cell_type": "code",
   "execution_count": 40,
   "id": "42c0e2cb",
   "metadata": {},
   "outputs": [
    {
     "data": {
      "text/plain": [
       "'!bcdefghijklmnopqrstuvwxyz'"
      ]
     },
     "execution_count": 40,
     "metadata": {},
     "output_type": "execute_result"
    }
   ],
   "source": [
    "c = \"!\" + b[1:]\n",
    "c"
   ]
  },
  {
   "cell_type": "code",
   "execution_count": 42,
   "id": "7251d547",
   "metadata": {},
   "outputs": [
    {
     "data": {
      "text/plain": [
       "'123123!bcdefghijklmnopqrstuvwxyz'"
      ]
     },
     "execution_count": 42,
     "metadata": {},
     "output_type": "execute_result"
    }
   ],
   "source": [
    "c = \"123\" + c\n",
    "c"
   ]
  },
  {
   "cell_type": "code",
   "execution_count": null,
   "id": "1e0e64dc",
   "metadata": {},
   "outputs": [],
   "source": [
    "a = input('Enter a word: ')\n",
    "print(a)\n",
    "\n",
    "vowels = \"aeiou\"\n",
    "\n",
    "if "
   ]
  }
 ],
 "metadata": {
  "kernelspec": {
   "display_name": "Python 3 (ipykernel)",
   "language": "python",
   "name": "python3"
  },
  "language_info": {
   "codemirror_mode": {
    "name": "ipython",
    "version": 3
   },
   "file_extension": ".py",
   "mimetype": "text/x-python",
   "name": "python",
   "nbconvert_exporter": "python",
   "pygments_lexer": "ipython3",
   "version": "3.10.4"
  }
 },
 "nbformat": 4,
 "nbformat_minor": 5
}
