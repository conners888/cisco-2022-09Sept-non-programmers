{
 "cells": [
  {
   "cell_type": "code",
   "execution_count": 3,
   "id": "4d479a5b",
   "metadata": {},
   "outputs": [
    {
     "name": "stdout",
     "output_type": "stream",
     "text": [
      "Enter your name: Adnan\n",
      "Hello, Adnan! Good morning!\n"
     ]
    }
   ],
   "source": [
    "name = input('Enter your name: ')\n",
    "print('Hello, ' + name + '!'+ ' Good morning!')"
   ]
  },
  {
   "cell_type": "code",
   "execution_count": null,
   "id": "ca187af5",
   "metadata": {},
   "outputs": [],
   "source": [
    "import Friendly"
   ]
  },
  {
   "cell_type": "code",
   "execution_count": null,
   "id": "c37504f5",
   "metadata": {},
   "outputs": [],
   "source": []
  }
 ],
 "metadata": {
  "kernelspec": {
   "display_name": "Python 3 (ipykernel)",
   "language": "python",
   "name": "python3"
  },
  "language_info": {
   "codemirror_mode": {
    "name": "ipython",
    "version": 3
   },
   "file_extension": ".py",
   "mimetype": "text/x-python",
   "name": "python",
   "nbconvert_exporter": "python",
   "pygments_lexer": "ipython3",
   "version": "3.10.4"
  }
 },
 "nbformat": 4,
 "nbformat_minor": 5
}
