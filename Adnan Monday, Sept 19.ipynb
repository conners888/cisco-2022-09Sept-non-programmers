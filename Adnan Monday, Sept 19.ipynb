{
 "cells": [
  {
   "cell_type": "code",
   "execution_count": 3,
   "id": "d7d73cfc",
   "metadata": {},
   "outputs": [
    {
     "name": "stdout",
     "output_type": "stream",
     "text": [
      "Enter your name: Adnan\n",
      "Hello, Adnan! Good morning!\n"
     ]
    }
   ],
   "source": [
    "name = input('Enter your name: ')\n",
    "print('Hello, ' + name + '!'+ ' Good morning!')"
   ]
  },
  {
   "cell_type": "code",
   "execution_count": 5,
   "id": "bda749e4",
   "metadata": {},
   "outputs": [
    {
     "ename": "ModuleNotFoundError",
     "evalue": "No module named 'Friendly'",
     "output_type": "error",
     "traceback": [
      "\u001b[0;31m---------------------------------------------------------------------------\u001b[0m",
      "\u001b[0;31mModuleNotFoundError\u001b[0m                       Traceback (most recent call last)",
      "Cell \u001b[0;32mIn [5], line 1\u001b[0m\n\u001b[0;32m----> 1\u001b[0m \u001b[38;5;28;01mimport\u001b[39;00m \u001b[38;5;21;01mFriendly\u001b[39;00m\n",
      "\u001b[0;31mModuleNotFoundError\u001b[0m: No module named 'Friendly'"
     ]
    }
   ],
   "source": [
    "import Friendly"
   ]
  },
  {
   "cell_type": "code",
   "execution_count": 13,
   "id": "77b83bb6",
   "metadata": {},
   "outputs": [
    {
     "ename": "SyntaxError",
     "evalue": "invalid syntax (158353886.py, line 1)",
     "output_type": "error",
     "traceback": [
      "\u001b[0;36m  Cell \u001b[0;32mIn [13], line 1\u001b[0;36m\u001b[0m\n\u001b[0;31m    from 'https://friendly-traceback.github.io/docs/index.html' import Friendly\u001b[0m\n\u001b[0m         ^\u001b[0m\n\u001b[0;31mSyntaxError\u001b[0m\u001b[0;31m:\u001b[0m invalid syntax\n"
     ]
    }
   ],
   "source": [
    "from https://friendly-traceback.github.io/docs/index.html import Friendly"
   ]
  },
  {
   "cell_type": "code",
   "execution_count": 10,
   "id": "1425b2b0",
   "metadata": {},
   "outputs": [
    {
     "data": {
      "text/plain": [
       "True"
      ]
     },
     "execution_count": 10,
     "metadata": {},
     "output_type": "execute_result"
    }
   ],
   "source": [
    "x = 10\n",
    "y = 10\n",
    "\n",
    "x == y"
   ]
  },
  {
   "cell_type": "code",
   "execution_count": null,
   "id": "7b8a3e29",
   "metadata": {},
   "outputs": [],
   "source": [
    "name = 'Adnan'\n",
    "name == 'Adnan'"
   ]
  },
  {
   "cell_type": "code",
   "execution_count": 16,
   "id": "45163aff",
   "metadata": {},
   "outputs": [
    {
     "name": "stdout",
     "output_type": "stream",
     "text": [
      "Enter your name: John\n",
      "Hello,John!\n"
     ]
    }
   ],
   "source": [
    "name = input('Enter your name: ')\n",
    "\n",
    "if name == 'Adnan':\n",
    "    print('Hi Boss!')\n",
    "    print('Good to see you!')\n",
    "else:\n",
    "    print('Hello,' + name + '!')"
   ]
  },
  {
   "cell_type": "code",
   "execution_count": 17,
   "id": "2995f9cb",
   "metadata": {},
   "outputs": [
    {
     "data": {
      "text/plain": [
       "str"
      ]
     },
     "execution_count": 17,
     "metadata": {},
     "output_type": "execute_result"
    }
   ],
   "source": [
    "type(name)"
   ]
  },
  {
   "cell_type": "code",
   "execution_count": 18,
   "id": "a9f44886",
   "metadata": {},
   "outputs": [
    {
     "data": {
      "text/plain": [
       "int"
      ]
     },
     "execution_count": 18,
     "metadata": {},
     "output_type": "execute_result"
    }
   ],
   "source": [
    "name = 5\n",
    "type(name)"
   ]
  },
  {
   "cell_type": "code",
   "execution_count": 19,
   "id": "eea7e2f6",
   "metadata": {},
   "outputs": [
    {
     "data": {
      "text/plain": [
       "str"
      ]
     },
     "execution_count": 19,
     "metadata": {},
     "output_type": "execute_result"
    }
   ],
   "source": [
    "type('name')"
   ]
  },
  {
   "cell_type": "code",
   "execution_count": 21,
   "id": "ca999ea4",
   "metadata": {},
   "outputs": [
    {
     "data": {
      "text/html": [
       "<div id='friendly-message2'><pre style='white-space:pre;overflow-x:auto;line-height:normal'><span style=\"color: #dd0000; text-decoration-color: #dd0000; background-color: #ffffff\">SyntaxError</span>: invalid syntax                                           \n",
       "</pre></div>"
      ],
      "text/plain": [
       "\u001b[38;2;221;0;0;48;2;255;255;255mSyntaxError\u001b[0m: invalid syntax                                           \n"
      ]
     },
     "metadata": {},
     "output_type": "display_data"
    },
    {
     "data": {
      "text/html": [
       "\n",
       "        <button\n",
       "            id='friendly-tb-btn-show2'\n",
       "            onclick='friendly_toggle_more2()'\n",
       "            style=''>\n",
       "        More ...\n",
       "        </button>\n",
       "        <script type=\"text/Javascript\"> function friendly_toggle_more2(){\n",
       "        var btn = document.getElementById('friendly-tb-btn-show2');\n",
       "        var btn_what = document.getElementById('friendly-tb-btn-show-what2');\n",
       "        var btn_where = document.getElementById('friendly-tb-btn-show-where2');\n",
       "        var btn_why = document.getElementById('friendly-tb-btn-show-why2');\n",
       "        ;\n",
       "        var message = document.getElementById('friendly-message2');\n",
       "        var friendly_tb_content = document.getElementById('friendly-tb-friendly_tb-content2');\n",
       "        var what_content = document.getElementById('friendly-tb-what-content2');\n",
       "        var why_content = document.getElementById('friendly-tb-why-content2');\n",
       "        var where_content = document.getElementById('friendly-tb-where-content2');\n",
       "        ;\n",
       "\n",
       "        if (btn_what.style.display == 'none'){\n",
       "            message.style.display = 'none';\n",
       "            btn_what.style.display = 'block';\n",
       "            btn_why.style.display = 'block';\n",
       "            btn_where.style.display = 'block';\n",
       "            friendly_tb_content.style.display = 'block';\n",
       "            ;\n",
       "            btn.textContent = \"Show message only\";\n",
       "            ;\n",
       "        } else {\n",
       "            btn_what.style.display = 'none';\n",
       "            btn_what.textContent = 'what()';\n",
       "            btn_why.style.display = 'none';\n",
       "            btn_why.textContent = 'why()';\n",
       "            btn_where.style.display = 'none';\n",
       "            btn_where.textContent = 'where()';\n",
       "            what_content.style.display = 'none';\n",
       "            why_content.style.display = 'none';\n",
       "            where_content.style.display = 'none';\n",
       "            ;\n",
       "            friendly_tb_content.style.display = 'none';\n",
       "            message.style.display = 'block';\n",
       "            btn.textContent = \"More ...\";\n",
       "            ;\n",
       "        }\n",
       "        };\n",
       "        </script>\n",
       "        "
      ]
     },
     "metadata": {},
     "output_type": "display_data"
    },
    {
     "data": {
      "text/html": [
       "<div id='friendly-tb-friendly_tb-content2' style='display:none'><pre style='white-space:pre;overflow-x:auto;line-height:normal'><span style=\"color: #dd0000; text-decoration-color: #dd0000; background-color: #ffffff\">Traceback (most recent call last):</span><span style=\"background-color: #ffffff\">                                                                  </span>\n",
       "<span style=\"color: #101010; text-decoration-color: #101010; background-color: #ffffff\">  File </span><span style=\"color: #005500; text-decoration-color: #005500; background-color: #ffffff\">\"[21]?\"</span><span style=\"color: #101010; text-decoration-color: #101010; background-color: #ffffff\">, line 1</span><span style=\"background-color: #ffffff\">                                                                              </span>\n",
       "<span style=\"color: #101010; text-decoration-color: #101010; background-color: #ffffff\">    </span><span style=\"color: #005500; text-decoration-color: #005500; background-color: #ffffff\">from</span><span style=\"color: #101010; text-decoration-color: #101010; background-color: #ffffff\"> </span><span style=\"color: #0011aa; text-decoration-color: #0011aa; background-color: #ffffff\">https</span><span style=\"color: #783114; text-decoration-color: #783114; background-color: #ffffff\">://</span><span style=\"color: #0011aa; text-decoration-color: #0011aa; background-color: #ffffff\">friendly</span><span style=\"color: #783114; text-decoration-color: #783114; background-color: #ffffff\">-</span><span style=\"color: #0011aa; text-decoration-color: #0011aa; background-color: #ffffff\">traceback</span><span style=\"color: #783114; text-decoration-color: #783114; background-color: #ffffff\">.</span><span style=\"color: #0011aa; text-decoration-color: #0011aa; background-color: #ffffff\">github</span><span style=\"color: #783114; text-decoration-color: #783114; background-color: #ffffff\">.</span><span style=\"color: #0011aa; text-decoration-color: #0011aa; background-color: #ffffff\">io</span><span style=\"color: #783114; text-decoration-color: #783114; background-color: #ffffff\">/</span><span style=\"color: #0011aa; text-decoration-color: #0011aa; background-color: #ffffff\">docs</span><span style=\"color: #783114; text-decoration-color: #783114; background-color: #ffffff\">/</span><span style=\"color: #0011aa; text-decoration-color: #0011aa; background-color: #ffffff\">index</span><span style=\"color: #783114; text-decoration-color: #783114; background-color: #ffffff\">.</span><span style=\"color: #0011aa; text-decoration-color: #0011aa; background-color: #ffffff\">html</span><span style=\"color: #101010; text-decoration-color: #101010; background-color: #ffffff\"> </span><span style=\"color: #005500; text-decoration-color: #005500; background-color: #ffffff\">import</span><span style=\"color: #101010; text-decoration-color: #101010; background-color: #ffffff\"> </span><span style=\"color: #0011aa; text-decoration-color: #0011aa; background-color: #ffffff\">Friendly</span><span style=\"background-color: #ffffff\">                       </span>\n",
       "<span style=\"color: #101010; text-decoration-color: #101010; background-color: #ffffff\">              </span><span style=\"color: #783114; text-decoration-color: #783114; background-color: #ffffff\">^</span><span style=\"background-color: #ffffff\">                                                                                     </span>\n",
       "<span style=\"color: #dd0000; text-decoration-color: #dd0000; background-color: #ffffff\">SyntaxError</span><span style=\"color: #101010; text-decoration-color: #101010; background-color: #ffffff\">: </span><span style=\"color: #0011aa; text-decoration-color: #0011aa; background-color: #ffffff\">invalid syntax</span><span style=\"background-color: #ffffff\">                                                                         </span>\n",
       "\n",
       "Friendly-traceback does not know the cause of this error.                                           \n",
       "</pre></div>"
      ],
      "text/plain": [
       "\u001b[38;2;221;0;0;48;2;255;255;255mTraceback (most recent call last):\u001b[0m\u001b[48;2;255;255;255m                                                                  \u001b[0m\n",
       "\u001b[38;2;16;16;16;48;2;255;255;255m  File \u001b[0m\u001b[38;2;0;85;0;48;2;255;255;255m\"[21]?\"\u001b[0m\u001b[38;2;16;16;16;48;2;255;255;255m, line \u001b[0m\u001b[38;2;16;16;16;48;2;255;255;255m1\u001b[0m\u001b[48;2;255;255;255m                                                                              \u001b[0m\n",
       "\u001b[38;2;16;16;16;48;2;255;255;255m    \u001b[0m\u001b[38;2;0;85;0;48;2;255;255;255mfrom\u001b[0m\u001b[38;2;16;16;16;48;2;255;255;255m \u001b[0m\u001b[38;2;0;17;170;48;2;255;255;255mhttps\u001b[0m\u001b[38;2;120;49;20;48;2;255;255;255m:\u001b[0m\u001b[38;2;120;49;20;48;2;255;255;255m/\u001b[0m\u001b[38;2;120;49;20;48;2;255;255;255m/\u001b[0m\u001b[38;2;0;17;170;48;2;255;255;255mfriendly\u001b[0m\u001b[38;2;120;49;20;48;2;255;255;255m-\u001b[0m\u001b[38;2;0;17;170;48;2;255;255;255mtraceback\u001b[0m\u001b[38;2;120;49;20;48;2;255;255;255m.\u001b[0m\u001b[38;2;0;17;170;48;2;255;255;255mgithub\u001b[0m\u001b[38;2;120;49;20;48;2;255;255;255m.\u001b[0m\u001b[38;2;0;17;170;48;2;255;255;255mio\u001b[0m\u001b[38;2;120;49;20;48;2;255;255;255m/\u001b[0m\u001b[38;2;0;17;170;48;2;255;255;255mdocs\u001b[0m\u001b[38;2;120;49;20;48;2;255;255;255m/\u001b[0m\u001b[38;2;0;17;170;48;2;255;255;255mindex\u001b[0m\u001b[38;2;120;49;20;48;2;255;255;255m.\u001b[0m\u001b[38;2;0;17;170;48;2;255;255;255mhtml\u001b[0m\u001b[38;2;16;16;16;48;2;255;255;255m \u001b[0m\u001b[38;2;0;85;0;48;2;255;255;255mimport\u001b[0m\u001b[38;2;16;16;16;48;2;255;255;255m \u001b[0m\u001b[38;2;0;17;170;48;2;255;255;255mFriendly\u001b[0m\u001b[48;2;255;255;255m                       \u001b[0m\n",
       "\u001b[38;2;16;16;16;48;2;255;255;255m              \u001b[0m\u001b[38;2;120;49;20;48;2;255;255;255m^\u001b[0m\u001b[48;2;255;255;255m                                                                                     \u001b[0m\n",
       "\u001b[38;2;221;0;0;48;2;255;255;255mSyntaxError\u001b[0m\u001b[38;2;16;16;16;48;2;255;255;255m: \u001b[0m\u001b[38;2;0;17;170;48;2;255;255;255minvalid syntax\u001b[0m\u001b[48;2;255;255;255m                                                                         \u001b[0m\n",
       "\n",
       "Friendly-traceback does not know the cause of this error.                                           \n"
      ]
     },
     "metadata": {},
     "output_type": "display_data"
    },
    {
     "data": {
      "text/html": [
       "<script type=\"text/Javascript\"> function toggle_what2(){\n",
       "     var content = document.getElementById('friendly-tb-what-content2');\n",
       "     var btn = document.getElementById('friendly-tb-btn-show-what2');\n",
       "        if (content.style.display === 'none') {\n",
       "            content.style.display = 'block';\n",
       "            btn.textContent = \"Hide what()\";\n",
       "        } else {\n",
       "            content.style.display = 'none';\n",
       "            btn.textContent = \"what()\";\n",
       "       }\n",
       "    }\n",
       "     </script>\n",
       "     <button\n",
       "         id='friendly-tb-btn-show-what2'\n",
       "         onclick='toggle_what2()'\n",
       "         style='display:none '>\n",
       "     what()\n",
       "     </button>\n",
       "    "
      ]
     },
     "metadata": {},
     "output_type": "display_data"
    },
    {
     "data": {
      "text/html": [
       "<div id='friendly-tb-what-content2' style='display:none'><pre style='white-space:pre;overflow-x:auto;line-height:normal'>A <span style=\"color: #dd0000; text-decoration-color: #dd0000; background-color: #ffffff\">SyntaxError</span> occurs when Python cannot understand your code.         \n",
       "</pre></div>"
      ],
      "text/plain": [
       "A \u001b[38;2;221;0;0;48;2;255;255;255mSyntaxError\u001b[0m occurs when Python cannot understand your code.         \n"
      ]
     },
     "metadata": {},
     "output_type": "display_data"
    },
    {
     "data": {
      "text/html": [
       "<script type=\"text/Javascript\"> function toggle_why2(){\n",
       "     var content = document.getElementById('friendly-tb-why-content2');\n",
       "     var btn = document.getElementById('friendly-tb-btn-show-why2');\n",
       "        if (content.style.display === 'none') {\n",
       "            content.style.display = 'block';\n",
       "            btn.textContent = \"Hide why()\";\n",
       "        } else {\n",
       "            content.style.display = 'none';\n",
       "            btn.textContent = \"why()\";\n",
       "       }\n",
       "    }\n",
       "     </script>\n",
       "     <button\n",
       "         id='friendly-tb-btn-show-why2'\n",
       "         onclick='toggle_why2()'\n",
       "         style='display:none '>\n",
       "     why()\n",
       "     </button>\n",
       "    "
      ]
     },
     "metadata": {},
     "output_type": "display_data"
    },
    {
     "data": {
      "text/html": [
       "<div id='friendly-tb-why-content2' style='display:none'><pre style='white-space:pre;overflow-x:auto;line-height:normal'>Currently, I cannot guess the likely cause of this error. Try to      \n",
       "examine closely the line indicated as well as the line immediately    \n",
       "above to see if you can identify some misspelled word, or missing     \n",
       "symbols, like (, ), [, ], :, etc.                                     \n",
       "\n",
       "Unless your code uses type annotations, which are beyond our scope, if\n",
       "you think that this is something which should be handled by friendly, \n",
       "please report this case to                                            \n",
       "https://github.com/friendly-traceback/friendly-traceback/issues       \n",
       "</pre></div>"
      ],
      "text/plain": [
       "Currently, I cannot guess the likely cause of this error. Try to      \n",
       "examine closely the line indicated as well as the line immediately    \n",
       "above to see if you can identify some misspelled word, or missing     \n",
       "symbols, like (, ), [, ], :, etc.                                     \n",
       "\n",
       "Unless your code uses type annotations, which are beyond our scope, if\n",
       "you think that this is something which should be handled by friendly, \n",
       "please report this case to                                            \n",
       "https://github.com/friendly-traceback/friendly-traceback/issues       \n"
      ]
     },
     "metadata": {},
     "output_type": "display_data"
    },
    {
     "data": {
      "text/html": [
       "<script type=\"text/Javascript\"> function toggle_where2(){\n",
       "     var content = document.getElementById('friendly-tb-where-content2');\n",
       "     var btn = document.getElementById('friendly-tb-btn-show-where2');\n",
       "        if (content.style.display === 'none') {\n",
       "            content.style.display = 'block';\n",
       "            btn.textContent = \"Hide where()\";\n",
       "        } else {\n",
       "            content.style.display = 'none';\n",
       "            btn.textContent = \"where()\";\n",
       "       }\n",
       "    }\n",
       "     </script>\n",
       "     <button\n",
       "         id='friendly-tb-btn-show-where2'\n",
       "         onclick='toggle_where2()'\n",
       "         style='display:none '>\n",
       "     where()\n",
       "     </button>\n",
       "    "
      ]
     },
     "metadata": {},
     "output_type": "display_data"
    },
    {
     "data": {
      "text/html": [
       "<div id='friendly-tb-where-content2' style='display:none'><pre style='white-space:pre;overflow-x:auto;line-height:normal'>Python could not understand the code in the code block <span style=\"color: #783114; text-decoration-color: #783114; background-color: #ffffff\">[</span><span style=\"color: #101010; text-decoration-color: #101010; background-color: #ffffff\">21</span><span style=\"color: #783114; text-decoration-color: #783114; background-color: #ffffff\">]</span>? at the location indicated.             \n",
       "\n",
       "<span style=\"color: #808080; text-decoration-color: #808080; background-color: #ffffff\">       1|</span><span style=\"color: #005500; text-decoration-color: #005500; background-color: #ffffff\"> from</span><span style=\"color: #0011aa; text-decoration-color: #0011aa; background-color: #ffffff\"> https</span><span style=\"color: #ffffff; text-decoration-color: #ffffff; background-color: #cc0000\">:</span><span style=\"color: #783114; text-decoration-color: #783114; background-color: #ffffff\">//</span><span style=\"color: #0011aa; text-decoration-color: #0011aa; background-color: #ffffff\">friendly</span><span style=\"color: #783114; text-decoration-color: #783114; background-color: #ffffff\">-</span><span style=\"color: #0011aa; text-decoration-color: #0011aa; background-color: #ffffff\">traceback</span><span style=\"color: #783114; text-decoration-color: #783114; background-color: #ffffff\">.</span><span style=\"color: #0011aa; text-decoration-color: #0011aa; background-color: #ffffff\">github</span><span style=\"color: #783114; text-decoration-color: #783114; background-color: #ffffff\">.</span><span style=\"color: #0011aa; text-decoration-color: #0011aa; background-color: #ffffff\">io</span><span style=\"color: #783114; text-decoration-color: #783114; background-color: #ffffff\">/</span><span style=\"color: #0011aa; text-decoration-color: #0011aa; background-color: #ffffff\">docs</span><span style=\"color: #783114; text-decoration-color: #783114; background-color: #ffffff\">/</span><span style=\"color: #0011aa; text-decoration-color: #0011aa; background-color: #ffffff\">index</span><span style=\"color: #783114; text-decoration-color: #783114; background-color: #ffffff\">.</span><span style=\"color: #0011aa; text-decoration-color: #0011aa; background-color: #ffffff\">html</span><span style=\"color: #005500; text-decoration-color: #005500; background-color: #ffffff\"> import</span><span style=\"color: #0011aa; text-decoration-color: #0011aa; background-color: #ffffff\"> Friendly</span>\n",
       "</pre></div>"
      ],
      "text/plain": [
       "Python could not understand the code in the code block \u001b[38;2;120;49;20;48;2;255;255;255m[\u001b[0m\u001b[38;2;16;16;16;48;2;255;255;255m21\u001b[0m\u001b[38;2;120;49;20;48;2;255;255;255m]\u001b[0m? at the location indicated.             \n",
       "\n",
       "\u001b[38;2;128;128;128;48;2;255;255;255m       1|\u001b[0m\u001b[38;2;0;85;0;48;2;255;255;255m from\u001b[0m\u001b[38;2;0;17;170;48;2;255;255;255m https\u001b[0m\u001b[38;2;255;255;255;48;2;204;0;0m:\u001b[0m\u001b[38;2;120;49;20;48;2;255;255;255m//\u001b[0m\u001b[38;2;0;17;170;48;2;255;255;255mfriendly\u001b[0m\u001b[38;2;120;49;20;48;2;255;255;255m-\u001b[0m\u001b[38;2;0;17;170;48;2;255;255;255mtraceback\u001b[0m\u001b[38;2;120;49;20;48;2;255;255;255m.\u001b[0m\u001b[38;2;0;17;170;48;2;255;255;255mgithub\u001b[0m\u001b[38;2;120;49;20;48;2;255;255;255m.\u001b[0m\u001b[38;2;0;17;170;48;2;255;255;255mio\u001b[0m\u001b[38;2;120;49;20;48;2;255;255;255m/\u001b[0m\u001b[38;2;0;17;170;48;2;255;255;255mdocs\u001b[0m\u001b[38;2;120;49;20;48;2;255;255;255m/\u001b[0m\u001b[38;2;0;17;170;48;2;255;255;255mindex\u001b[0m\u001b[38;2;120;49;20;48;2;255;255;255m.\u001b[0m\u001b[38;2;0;17;170;48;2;255;255;255mhtml\u001b[0m\u001b[38;2;0;85;0;48;2;255;255;255m import\u001b[0m\u001b[38;2;0;17;170;48;2;255;255;255m Friendly\u001b[0m\n"
      ]
     },
     "metadata": {},
     "output_type": "display_data"
    }
   ],
   "source": [
    "from https://friendly-traceback.github.io/docs/index.html import Friendly"
   ]
  },
  {
   "cell_type": "code",
   "execution_count": null,
   "id": "a5ccb4ca",
   "metadata": {},
   "outputs": [],
   "source": [
    "from friendly.jupyter import Friendly"
   ]
  }
 ],
 "metadata": {
  "kernelspec": {
   "display_name": "Python 3 (ipykernel)",
   "language": "python",
   "name": "python3"
  },
  "language_info": {
   "codemirror_mode": {
    "name": "ipython",
    "version": 3
   },
   "file_extension": ".py",
   "mimetype": "text/x-python",
   "name": "python",
   "nbconvert_exporter": "python",
   "pygments_lexer": "ipython3",
   "version": "3.10.4"
  }
 },
 "nbformat": 4,
 "nbformat_minor": 5
}
