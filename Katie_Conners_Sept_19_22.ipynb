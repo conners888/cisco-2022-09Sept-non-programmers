{
 "cells": [
  {
   "cell_type": "code",
   "execution_count": 1,
   "id": "155a155e",
   "metadata": {},
   "outputs": [
    {
     "name": "stdout",
     "output_type": "stream",
     "text": [
      "Katie\n"
     ]
    }
   ],
   "source": [
    "print ('Katie')"
   ]
  },
  {
   "cell_type": "code",
   "execution_count": 2,
   "id": "49e2ca98",
   "metadata": {},
   "outputs": [
    {
     "name": "stdout",
     "output_type": "stream",
     "text": [
      "Katie\n"
     ]
    }
   ],
   "source": [
    "name = 'Katie'\n",
    "print (name)"
   ]
  },
  {
   "cell_type": "code",
   "execution_count": 4,
   "id": "10a9526b",
   "metadata": {},
   "outputs": [
    {
     "name": "stdout",
     "output_type": "stream",
     "text": [
      "Enter your name: Katie\n",
      "Welcome to the Phython Class name \n"
     ]
    }
   ],
   "source": [
    "name = input('Enter your name: ')\n",
    "print ('Welcome to the Phython Class name ')"
   ]
  },
  {
   "cell_type": "code",
   "execution_count": 6,
   "id": "a12c40a5",
   "metadata": {},
   "outputs": [
    {
     "ename": "SyntaxError",
     "evalue": "invalid syntax. Perhaps you forgot a comma? (3140897993.py, line 2)",
     "output_type": "error",
     "traceback": [
      "\u001b[0;36m  Cell \u001b[0;32mIn [6], line 2\u001b[0;36m\u001b[0m\n\u001b[0;31m    print ('Welcome' + name \"!\")\u001b[0m\n\u001b[0m           ^\u001b[0m\n\u001b[0;31mSyntaxError\u001b[0m\u001b[0;31m:\u001b[0m invalid syntax. Perhaps you forgot a comma?\n"
     ]
    }
   ],
   "source": [
    "name = input('Enter your name: ')\n",
    "print ('Welcome' + name \"!\")"
   ]
  },
  {
   "cell_type": "code",
   "execution_count": 7,
   "id": "e5aebeb8",
   "metadata": {},
   "outputs": [
    {
     "name": "stdout",
     "output_type": "stream",
     "text": [
      "WelcomeKatie!\n"
     ]
    }
   ],
   "source": [
    "print ('Welcome' + name + '!')"
   ]
  },
  {
   "cell_type": "code",
   "execution_count": 8,
   "id": "8794d3df",
   "metadata": {},
   "outputs": [
    {
     "name": "stdout",
     "output_type": "stream",
     "text": [
      "Welcome Katie!\n"
     ]
    }
   ],
   "source": [
    "print ('Welcome ' + name + '!')"
   ]
  },
  {
   "cell_type": "code",
   "execution_count": 9,
   "id": "06f5e314",
   "metadata": {},
   "outputs": [
    {
     "name": "stdout",
     "output_type": "stream",
     "text": [
      "friendly_traceback 0.6.0; friendly 0.6.0.\n",
      "Type 'Friendly' for basic help.\n",
      "An exception occurred before friendly-traceback was imported.\n",
      "Some information is available.\n"
     ]
    },
    {
     "data": {
      "text/html": [
       "<div id='friendly-message1'><pre style='white-space:pre;overflow-x:auto;line-height:normal'><span style=\"color: #dd0000; text-decoration-color: #dd0000; background-color: #ffffff\">SyntaxError</span>: invalid syntax. Perhaps you forgot a comma?              \n",
       "</pre></div>"
      ],
      "text/plain": [
       "\u001b[38;2;221;0;0;48;2;255;255;255mSyntaxError\u001b[0m: invalid syntax. Perhaps you forgot a comma?              \n"
      ]
     },
     "metadata": {},
     "output_type": "display_data"
    },
    {
     "data": {
      "text/html": [
       "\n",
       "        <button\n",
       "            id='friendly-tb-btn-show1'\n",
       "            onclick='friendly_toggle_more1()'\n",
       "            style=''>\n",
       "        More ...\n",
       "        </button>\n",
       "        <script type=\"text/Javascript\"> function friendly_toggle_more1(){\n",
       "        var btn = document.getElementById('friendly-tb-btn-show1');\n",
       "        var btn_what = document.getElementById('friendly-tb-btn-show-what1');\n",
       "        var btn_where = document.getElementById('friendly-tb-btn-show-where1');\n",
       "        var btn_why = document.getElementById('friendly-tb-btn-show-why1');\n",
       "        ;\n",
       "        var message = document.getElementById('friendly-message1');\n",
       "        var friendly_tb_content = document.getElementById('friendly-tb-friendly_tb-content1');\n",
       "        var what_content = document.getElementById('friendly-tb-what-content1');\n",
       "        var why_content = document.getElementById('friendly-tb-why-content1');\n",
       "        var where_content = document.getElementById('friendly-tb-where-content1');\n",
       "        ;\n",
       "\n",
       "        if (btn_what.style.display == 'none'){\n",
       "            message.style.display = 'none';\n",
       "            btn_what.style.display = 'block';\n",
       "            btn_why.style.display = 'block';\n",
       "            btn_where.style.display = 'block';\n",
       "            friendly_tb_content.style.display = 'block';\n",
       "            ;\n",
       "            btn.textContent = \"Show message only\";\n",
       "            ;\n",
       "        } else {\n",
       "            btn_what.style.display = 'none';\n",
       "            btn_what.textContent = 'what()';\n",
       "            btn_why.style.display = 'none';\n",
       "            btn_why.textContent = 'why()';\n",
       "            btn_where.style.display = 'none';\n",
       "            btn_where.textContent = 'where()';\n",
       "            what_content.style.display = 'none';\n",
       "            why_content.style.display = 'none';\n",
       "            where_content.style.display = 'none';\n",
       "            ;\n",
       "            friendly_tb_content.style.display = 'none';\n",
       "            message.style.display = 'block';\n",
       "            btn.textContent = \"More ...\";\n",
       "            ;\n",
       "        }\n",
       "        };\n",
       "        </script>\n",
       "        "
      ]
     },
     "metadata": {},
     "output_type": "display_data"
    },
    {
     "data": {
      "text/html": [
       "<div id='friendly-tb-friendly_tb-content1' style='display:none'><pre style='white-space:pre;overflow-x:auto;line-height:normal'><span style=\"color: #101010; text-decoration-color: #101010; background-color: #ffffff\">  Code block </span><span style=\"color: #783114; text-decoration-color: #783114; background-color: #ffffff\">[</span><span style=\"color: #101010; text-decoration-color: #101010; background-color: #ffffff\">6</span><span style=\"color: #783114; text-decoration-color: #783114; background-color: #ffffff\">]</span><span style=\"color: #101010; text-decoration-color: #101010; background-color: #ffffff\">, line 2</span><span style=\"background-color: #ffffff\">                                                                            </span>\n",
       "<span style=\"color: #101010; text-decoration-color: #101010; background-color: #ffffff\">    </span><span style=\"color: #005500; text-decoration-color: #005500; background-color: #ffffff\">print</span><span style=\"color: #101010; text-decoration-color: #101010; background-color: #ffffff\"> </span><span style=\"color: #783114; text-decoration-color: #783114; background-color: #ffffff\">(</span><span style=\"color: #8b008b; text-decoration-color: #8b008b; background-color: #ffffff\">'Welcome'</span><span style=\"color: #101010; text-decoration-color: #101010; background-color: #ffffff\"> </span><span style=\"color: #783114; text-decoration-color: #783114; background-color: #ffffff\">+</span><span style=\"color: #101010; text-decoration-color: #101010; background-color: #ffffff\"> </span><span style=\"color: #0011aa; text-decoration-color: #0011aa; background-color: #ffffff\">name</span><span style=\"color: #101010; text-decoration-color: #101010; background-color: #ffffff\"> </span><span style=\"color: #8b008b; text-decoration-color: #8b008b; background-color: #ffffff\">\"!\"</span><span style=\"color: #783114; text-decoration-color: #783114; background-color: #ffffff\">)</span><span style=\"background-color: #ffffff\">                                                                    </span>\n",
       "<span style=\"color: #101010; text-decoration-color: #101010; background-color: #ffffff\">           </span><span style=\"color: #783114; text-decoration-color: #783114; background-color: #ffffff\">^^^^^^^^^^^^^^^^^^^^</span><span style=\"background-color: #ffffff\">                                                                     </span>\n",
       "<span style=\"color: #dd0000; text-decoration-color: #dd0000; background-color: #ffffff\">SyntaxError</span><span style=\"color: #101010; text-decoration-color: #101010; background-color: #ffffff\">: </span><span style=\"color: #0011aa; text-decoration-color: #0011aa; background-color: #ffffff\">invalid syntax. Perhaps you forgot a comma?</span><span style=\"background-color: #ffffff\">                                            </span>\n",
       "\n",
       "Friendly-traceback does not know the cause of this error.                                           \n",
       "</pre></div>"
      ],
      "text/plain": [
       "\u001b[38;2;16;16;16;48;2;255;255;255m  Code block \u001b[0m\u001b[38;2;120;49;20;48;2;255;255;255m[\u001b[0m\u001b[38;2;16;16;16;48;2;255;255;255m6\u001b[0m\u001b[38;2;120;49;20;48;2;255;255;255m]\u001b[0m\u001b[38;2;16;16;16;48;2;255;255;255m, line \u001b[0m\u001b[38;2;16;16;16;48;2;255;255;255m2\u001b[0m\u001b[48;2;255;255;255m                                                                            \u001b[0m\n",
       "\u001b[38;2;16;16;16;48;2;255;255;255m    \u001b[0m\u001b[38;2;0;85;0;48;2;255;255;255mprint\u001b[0m\u001b[38;2;16;16;16;48;2;255;255;255m \u001b[0m\u001b[38;2;120;49;20;48;2;255;255;255m(\u001b[0m\u001b[38;2;139;0;139;48;2;255;255;255m'\u001b[0m\u001b[38;2;139;0;139;48;2;255;255;255mWelcome\u001b[0m\u001b[38;2;139;0;139;48;2;255;255;255m'\u001b[0m\u001b[38;2;16;16;16;48;2;255;255;255m \u001b[0m\u001b[38;2;120;49;20;48;2;255;255;255m+\u001b[0m\u001b[38;2;16;16;16;48;2;255;255;255m \u001b[0m\u001b[38;2;0;17;170;48;2;255;255;255mname\u001b[0m\u001b[38;2;16;16;16;48;2;255;255;255m \u001b[0m\u001b[38;2;139;0;139;48;2;255;255;255m\"\u001b[0m\u001b[38;2;139;0;139;48;2;255;255;255m!\u001b[0m\u001b[38;2;139;0;139;48;2;255;255;255m\"\u001b[0m\u001b[38;2;120;49;20;48;2;255;255;255m)\u001b[0m\u001b[48;2;255;255;255m                                                                    \u001b[0m\n",
       "\u001b[38;2;16;16;16;48;2;255;255;255m           \u001b[0m\u001b[38;2;120;49;20;48;2;255;255;255m^^^^^^^^^^^^^^^^^^^^\u001b[0m\u001b[48;2;255;255;255m                                                                     \u001b[0m\n",
       "\u001b[38;2;221;0;0;48;2;255;255;255mSyntaxError\u001b[0m\u001b[38;2;16;16;16;48;2;255;255;255m: \u001b[0m\u001b[38;2;0;17;170;48;2;255;255;255minvalid syntax. Perhaps you forgot a comma?\u001b[0m\u001b[48;2;255;255;255m                                            \u001b[0m\n",
       "\n",
       "Friendly-traceback does not know the cause of this error.                                           \n"
      ]
     },
     "metadata": {},
     "output_type": "display_data"
    },
    {
     "data": {
      "text/html": [
       "<script type=\"text/Javascript\"> function toggle_what1(){\n",
       "     var content = document.getElementById('friendly-tb-what-content1');\n",
       "     var btn = document.getElementById('friendly-tb-btn-show-what1');\n",
       "        if (content.style.display === 'none') {\n",
       "            content.style.display = 'block';\n",
       "            btn.textContent = \"Hide what()\";\n",
       "        } else {\n",
       "            content.style.display = 'none';\n",
       "            btn.textContent = \"what()\";\n",
       "       }\n",
       "    }\n",
       "     </script>\n",
       "     <button\n",
       "         id='friendly-tb-btn-show-what1'\n",
       "         onclick='toggle_what1()'\n",
       "         style='display:none '>\n",
       "     what()\n",
       "     </button>\n",
       "    "
      ]
     },
     "metadata": {},
     "output_type": "display_data"
    },
    {
     "data": {
      "text/html": [
       "<div id='friendly-tb-what-content1' style='display:none'><pre style='white-space:pre;overflow-x:auto;line-height:normal'>A <span style=\"color: #dd0000; text-decoration-color: #dd0000; background-color: #ffffff\">SyntaxError</span> occurs when Python cannot understand your code.         \n",
       "</pre></div>"
      ],
      "text/plain": [
       "A \u001b[38;2;221;0;0;48;2;255;255;255mSyntaxError\u001b[0m occurs when Python cannot understand your code.         \n"
      ]
     },
     "metadata": {},
     "output_type": "display_data"
    },
    {
     "data": {
      "text/html": [
       "<script type=\"text/Javascript\"> function toggle_why1(){\n",
       "     var content = document.getElementById('friendly-tb-why-content1');\n",
       "     var btn = document.getElementById('friendly-tb-btn-show-why1');\n",
       "        if (content.style.display === 'none') {\n",
       "            content.style.display = 'block';\n",
       "            btn.textContent = \"Hide why()\";\n",
       "        } else {\n",
       "            content.style.display = 'none';\n",
       "            btn.textContent = \"why()\";\n",
       "       }\n",
       "    }\n",
       "     </script>\n",
       "     <button\n",
       "         id='friendly-tb-btn-show-why1'\n",
       "         onclick='toggle_why1()'\n",
       "         style='display:none '>\n",
       "     why()\n",
       "     </button>\n",
       "    "
      ]
     },
     "metadata": {},
     "output_type": "display_data"
    },
    {
     "data": {
      "text/html": [
       "<div id='friendly-tb-why-content1' style='display:none'><pre style='white-space:pre;overflow-x:auto;line-height:normal'>Currently, I cannot guess the likely cause of this error. Try to      \n",
       "examine closely the line indicated as well as the line immediately    \n",
       "above to see if you can identify some misspelled word, or missing     \n",
       "symbols, like (, ), [, ], :, etc.                                     \n",
       "\n",
       "Unless your code uses type annotations, which are beyond our scope, if\n",
       "you think that this is something which should be handled by friendly, \n",
       "please report this case to                                            \n",
       "https://github.com/friendly-traceback/friendly-traceback/issues       \n",
       "</pre></div>"
      ],
      "text/plain": [
       "Currently, I cannot guess the likely cause of this error. Try to      \n",
       "examine closely the line indicated as well as the line immediately    \n",
       "above to see if you can identify some misspelled word, or missing     \n",
       "symbols, like (, ), [, ], :, etc.                                     \n",
       "\n",
       "Unless your code uses type annotations, which are beyond our scope, if\n",
       "you think that this is something which should be handled by friendly, \n",
       "please report this case to                                            \n",
       "https://github.com/friendly-traceback/friendly-traceback/issues       \n"
      ]
     },
     "metadata": {},
     "output_type": "display_data"
    },
    {
     "data": {
      "text/html": [
       "<script type=\"text/Javascript\"> function toggle_where1(){\n",
       "     var content = document.getElementById('friendly-tb-where-content1');\n",
       "     var btn = document.getElementById('friendly-tb-btn-show-where1');\n",
       "        if (content.style.display === 'none') {\n",
       "            content.style.display = 'block';\n",
       "            btn.textContent = \"Hide where()\";\n",
       "        } else {\n",
       "            content.style.display = 'none';\n",
       "            btn.textContent = \"where()\";\n",
       "       }\n",
       "    }\n",
       "     </script>\n",
       "     <button\n",
       "         id='friendly-tb-btn-show-where1'\n",
       "         onclick='toggle_where1()'\n",
       "         style='display:none '>\n",
       "     where()\n",
       "     </button>\n",
       "    "
      ]
     },
     "metadata": {},
     "output_type": "display_data"
    },
    {
     "data": {
      "text/html": [
       "<div id='friendly-tb-where-content1' style='display:none'><pre style='white-space:pre;overflow-x:auto;line-height:normal'>Python could not understand the code in the code block <span style=\"color: #783114; text-decoration-color: #783114; background-color: #ffffff\">[</span><span style=\"color: #101010; text-decoration-color: #101010; background-color: #ffffff\">6</span><span style=\"color: #783114; text-decoration-color: #783114; background-color: #ffffff\">]</span> at the location indicated.               \n",
       "\n",
       "<span style=\"color: #808080; text-decoration-color: #808080; background-color: #ffffff\">       2|</span><span style=\"color: #005500; text-decoration-color: #005500; background-color: #ffffff\"> print</span><span style=\"color: #783114; text-decoration-color: #783114; background-color: #ffffff\"> (</span><span style=\"color: #ffffff; text-decoration-color: #ffffff; background-color: #cc0000\">'Welcome' + name \"!\"</span><span style=\"color: #783114; text-decoration-color: #783114; background-color: #ffffff\">)</span>\n",
       "</pre></div>"
      ],
      "text/plain": [
       "Python could not understand the code in the code block \u001b[38;2;120;49;20;48;2;255;255;255m[\u001b[0m\u001b[38;2;16;16;16;48;2;255;255;255m6\u001b[0m\u001b[38;2;120;49;20;48;2;255;255;255m]\u001b[0m at the location indicated.               \n",
       "\n",
       "\u001b[38;2;128;128;128;48;2;255;255;255m       2|\u001b[0m\u001b[38;2;0;85;0;48;2;255;255;255m print\u001b[0m\u001b[38;2;120;49;20;48;2;255;255;255m (\u001b[0m\u001b[38;2;255;255;255;48;2;204;0;0m'Welcome'\u001b[0m\u001b[38;2;255;255;255;48;2;204;0;0m +\u001b[0m\u001b[38;2;255;255;255;48;2;204;0;0m name\u001b[0m\u001b[38;2;255;255;255;48;2;204;0;0m \"!\"\u001b[0m\u001b[38;2;120;49;20;48;2;255;255;255m)\u001b[0m\n"
      ]
     },
     "metadata": {},
     "output_type": "display_data"
    }
   ],
   "source": [
    "from friendly.jupyter import Friendly"
   ]
  },
  {
   "cell_type": "code",
   "execution_count": 10,
   "id": "bd2ef21f",
   "metadata": {},
   "outputs": [
    {
     "data": {
      "text/html": [
       "<div id='friendly-message2'><pre style='white-space:pre;overflow-x:auto;line-height:normal'><span style=\"color: #dd0000; text-decoration-color: #dd0000; background-color: #ffffff\">SyntaxError</span>: trailing comma not allowed without surrounding           \n",
       "parentheses                                                           \n",
       "</pre></div>"
      ],
      "text/plain": [
       "\u001b[38;2;221;0;0;48;2;255;255;255mSyntaxError\u001b[0m: trailing comma not allowed without surrounding           \n",
       "parentheses                                                           \n"
      ]
     },
     "metadata": {},
     "output_type": "display_data"
    },
    {
     "data": {
      "text/html": [
       "\n",
       "        <button\n",
       "            id='friendly-tb-btn-show2'\n",
       "            onclick='friendly_toggle_more2()'\n",
       "            style=''>\n",
       "        More ...\n",
       "        </button>\n",
       "        <script type=\"text/Javascript\"> function friendly_toggle_more2(){\n",
       "        var btn = document.getElementById('friendly-tb-btn-show2');\n",
       "        var btn_what = document.getElementById('friendly-tb-btn-show-what2');\n",
       "        var btn_where = document.getElementById('friendly-tb-btn-show-where2');\n",
       "        var btn_why = document.getElementById('friendly-tb-btn-show-why2');\n",
       "        ;\n",
       "        var message = document.getElementById('friendly-message2');\n",
       "        var friendly_tb_content = document.getElementById('friendly-tb-friendly_tb-content2');\n",
       "        var what_content = document.getElementById('friendly-tb-what-content2');\n",
       "        var why_content = document.getElementById('friendly-tb-why-content2');\n",
       "        var where_content = document.getElementById('friendly-tb-where-content2');\n",
       "        ;\n",
       "\n",
       "        if (btn_what.style.display == 'none'){\n",
       "            message.style.display = 'none';\n",
       "            btn_what.style.display = 'block';\n",
       "            btn_why.style.display = 'block';\n",
       "            btn_where.style.display = 'block';\n",
       "            friendly_tb_content.style.display = 'block';\n",
       "            ;\n",
       "            btn.textContent = \"Show message only\";\n",
       "            ;\n",
       "        } else {\n",
       "            btn_what.style.display = 'none';\n",
       "            btn_what.textContent = 'what()';\n",
       "            btn_why.style.display = 'none';\n",
       "            btn_why.textContent = 'why()';\n",
       "            btn_where.style.display = 'none';\n",
       "            btn_where.textContent = 'where()';\n",
       "            what_content.style.display = 'none';\n",
       "            why_content.style.display = 'none';\n",
       "            where_content.style.display = 'none';\n",
       "            ;\n",
       "            friendly_tb_content.style.display = 'none';\n",
       "            message.style.display = 'block';\n",
       "            btn.textContent = \"More ...\";\n",
       "            ;\n",
       "        }\n",
       "        };\n",
       "        </script>\n",
       "        "
      ]
     },
     "metadata": {},
     "output_type": "display_data"
    },
    {
     "data": {
      "text/html": [
       "<div id='friendly-tb-friendly_tb-content2' style='display:none'><pre style='white-space:pre;overflow-x:auto;line-height:normal'><span style=\"color: #101010; text-decoration-color: #101010; background-color: #ffffff\">  Code block </span><span style=\"color: #783114; text-decoration-color: #783114; background-color: #ffffff\">[</span><span style=\"color: #101010; text-decoration-color: #101010; background-color: #ffffff\">10</span><span style=\"color: #783114; text-decoration-color: #783114; background-color: #ffffff\">]</span><span style=\"color: #101010; text-decoration-color: #101010; background-color: #ffffff\">, line 1</span><span style=\"background-color: #ffffff\">                                                                           </span>\n",
       "<span style=\"color: #101010; text-decoration-color: #101010; background-color: #ffffff\">    </span><span style=\"color: #005500; text-decoration-color: #005500; background-color: #ffffff\">from</span><span style=\"color: #101010; text-decoration-color: #101010; background-color: #ffffff\"> </span><span style=\"color: #0011aa; text-decoration-color: #0011aa; background-color: #ffffff\">friendly.jupyter</span><span style=\"color: #101010; text-decoration-color: #101010; background-color: #ffffff\"> </span><span style=\"color: #005500; text-decoration-color: #005500; background-color: #ffffff\">import</span><span style=\"color: #101010; text-decoration-color: #101010; background-color: #ffffff\"> </span><span style=\"color: #0011aa; text-decoration-color: #0011aa; background-color: #ffffff\">Friendly</span><span style=\"color: #783114; text-decoration-color: #783114; background-color: #ffffff\">,</span><span style=\"background-color: #ffffff\">                                                          </span>\n",
       "<span style=\"color: #101010; text-decoration-color: #101010; background-color: #ffffff\">                                          </span><span style=\"color: #783114; text-decoration-color: #783114; background-color: #ffffff\">^</span><span style=\"background-color: #ffffff\">                                                         </span>\n",
       "<span style=\"color: #dd0000; text-decoration-color: #dd0000; background-color: #ffffff\">SyntaxError</span><span style=\"color: #101010; text-decoration-color: #101010; background-color: #ffffff\">: </span><span style=\"color: #0011aa; text-decoration-color: #0011aa; background-color: #ffffff\">trailing comma not allowed without surrounding parentheses</span><span style=\"background-color: #ffffff\">                             </span>\n",
       "\n",
       "Did you write a comma by mistake?                                                                   \n",
       "</pre></div>"
      ],
      "text/plain": [
       "\u001b[38;2;16;16;16;48;2;255;255;255m  Code block \u001b[0m\u001b[38;2;120;49;20;48;2;255;255;255m[\u001b[0m\u001b[38;2;16;16;16;48;2;255;255;255m10\u001b[0m\u001b[38;2;120;49;20;48;2;255;255;255m]\u001b[0m\u001b[38;2;16;16;16;48;2;255;255;255m, line \u001b[0m\u001b[38;2;16;16;16;48;2;255;255;255m1\u001b[0m\u001b[48;2;255;255;255m                                                                           \u001b[0m\n",
       "\u001b[38;2;16;16;16;48;2;255;255;255m    \u001b[0m\u001b[38;2;0;85;0;48;2;255;255;255mfrom\u001b[0m\u001b[38;2;16;16;16;48;2;255;255;255m \u001b[0m\u001b[38;2;0;17;170;48;2;255;255;255mfriendly\u001b[0m\u001b[38;2;0;17;170;48;2;255;255;255m.\u001b[0m\u001b[38;2;0;17;170;48;2;255;255;255mjupyter\u001b[0m\u001b[38;2;16;16;16;48;2;255;255;255m \u001b[0m\u001b[38;2;0;85;0;48;2;255;255;255mimport\u001b[0m\u001b[38;2;16;16;16;48;2;255;255;255m \u001b[0m\u001b[38;2;0;17;170;48;2;255;255;255mFriendly\u001b[0m\u001b[38;2;120;49;20;48;2;255;255;255m,\u001b[0m\u001b[48;2;255;255;255m                                                          \u001b[0m\n",
       "\u001b[38;2;16;16;16;48;2;255;255;255m                                          \u001b[0m\u001b[38;2;120;49;20;48;2;255;255;255m^\u001b[0m\u001b[48;2;255;255;255m                                                         \u001b[0m\n",
       "\u001b[38;2;221;0;0;48;2;255;255;255mSyntaxError\u001b[0m\u001b[38;2;16;16;16;48;2;255;255;255m: \u001b[0m\u001b[38;2;0;17;170;48;2;255;255;255mtrailing comma not allowed without surrounding parentheses\u001b[0m\u001b[48;2;255;255;255m                             \u001b[0m\n",
       "\n",
       "Did you write a comma by mistake?                                                                   \n"
      ]
     },
     "metadata": {},
     "output_type": "display_data"
    },
    {
     "data": {
      "text/html": [
       "<script type=\"text/Javascript\"> function toggle_what2(){\n",
       "     var content = document.getElementById('friendly-tb-what-content2');\n",
       "     var btn = document.getElementById('friendly-tb-btn-show-what2');\n",
       "        if (content.style.display === 'none') {\n",
       "            content.style.display = 'block';\n",
       "            btn.textContent = \"Hide what()\";\n",
       "        } else {\n",
       "            content.style.display = 'none';\n",
       "            btn.textContent = \"what()\";\n",
       "       }\n",
       "    }\n",
       "     </script>\n",
       "     <button\n",
       "         id='friendly-tb-btn-show-what2'\n",
       "         onclick='toggle_what2()'\n",
       "         style='display:none '>\n",
       "     what()\n",
       "     </button>\n",
       "    "
      ]
     },
     "metadata": {},
     "output_type": "display_data"
    },
    {
     "data": {
      "text/html": [
       "<div id='friendly-tb-what-content2' style='display:none'><pre style='white-space:pre;overflow-x:auto;line-height:normal'>A <span style=\"color: #dd0000; text-decoration-color: #dd0000; background-color: #ffffff\">SyntaxError</span> occurs when Python cannot understand your code.         \n",
       "</pre></div>"
      ],
      "text/plain": [
       "A \u001b[38;2;221;0;0;48;2;255;255;255mSyntaxError\u001b[0m occurs when Python cannot understand your code.         \n"
      ]
     },
     "metadata": {},
     "output_type": "display_data"
    },
    {
     "data": {
      "text/html": [
       "<script type=\"text/Javascript\"> function toggle_why2(){\n",
       "     var content = document.getElementById('friendly-tb-why-content2');\n",
       "     var btn = document.getElementById('friendly-tb-btn-show-why2');\n",
       "        if (content.style.display === 'none') {\n",
       "            content.style.display = 'block';\n",
       "            btn.textContent = \"Hide why()\";\n",
       "        } else {\n",
       "            content.style.display = 'none';\n",
       "            btn.textContent = \"why()\";\n",
       "       }\n",
       "    }\n",
       "     </script>\n",
       "     <button\n",
       "         id='friendly-tb-btn-show-why2'\n",
       "         onclick='toggle_why2()'\n",
       "         style='display:none '>\n",
       "     why()\n",
       "     </button>\n",
       "    "
      ]
     },
     "metadata": {},
     "output_type": "display_data"
    },
    {
     "data": {
      "text/html": [
       "<div id='friendly-tb-why-content2' style='display:none'><pre style='white-space:pre;overflow-x:auto;line-height:normal'>Python indicates that you need to surround an expression ending with a\n",
       "comma by parentheses. However, if you remove the last comma, there    \n",
       "will be no syntax error. Perhaps you meant to write                   \n",
       "\n",
       "<span style=\"color: #005500; text-decoration-color: #005500; background-color: #ffffff\">from</span><span style=\"color: #101010; text-decoration-color: #101010; background-color: #ffffff\"> </span><span style=\"color: #0011aa; text-decoration-color: #0011aa; background-color: #ffffff\">friendly.jupyter</span><span style=\"color: #101010; text-decoration-color: #101010; background-color: #ffffff\"> </span><span style=\"color: #005500; text-decoration-color: #005500; background-color: #ffffff\">import</span><span style=\"color: #101010; text-decoration-color: #101010; background-color: #ffffff\"> </span><span style=\"color: #0011aa; text-decoration-color: #0011aa; background-color: #ffffff\">Friendly</span>                                 \n",
       "</pre></div>"
      ],
      "text/plain": [
       "Python indicates that you need to surround an expression ending with a\n",
       "comma by parentheses. However, if you remove the last comma, there    \n",
       "will be no syntax error. Perhaps you meant to write                   \n",
       "\n",
       "\u001b[38;2;0;85;0;48;2;255;255;255mfrom\u001b[0m\u001b[38;2;16;16;16;48;2;255;255;255m \u001b[0m\u001b[38;2;0;17;170;48;2;255;255;255mfriendly\u001b[0m\u001b[38;2;0;17;170;48;2;255;255;255m.\u001b[0m\u001b[38;2;0;17;170;48;2;255;255;255mjupyter\u001b[0m\u001b[38;2;16;16;16;48;2;255;255;255m \u001b[0m\u001b[38;2;0;85;0;48;2;255;255;255mimport\u001b[0m\u001b[38;2;16;16;16;48;2;255;255;255m \u001b[0m\u001b[38;2;0;17;170;48;2;255;255;255mFriendly\u001b[0m                                 \n"
      ]
     },
     "metadata": {},
     "output_type": "display_data"
    },
    {
     "data": {
      "text/html": [
       "<script type=\"text/Javascript\"> function toggle_where2(){\n",
       "     var content = document.getElementById('friendly-tb-where-content2');\n",
       "     var btn = document.getElementById('friendly-tb-btn-show-where2');\n",
       "        if (content.style.display === 'none') {\n",
       "            content.style.display = 'block';\n",
       "            btn.textContent = \"Hide where()\";\n",
       "        } else {\n",
       "            content.style.display = 'none';\n",
       "            btn.textContent = \"where()\";\n",
       "       }\n",
       "    }\n",
       "     </script>\n",
       "     <button\n",
       "         id='friendly-tb-btn-show-where2'\n",
       "         onclick='toggle_where2()'\n",
       "         style='display:none '>\n",
       "     where()\n",
       "     </button>\n",
       "    "
      ]
     },
     "metadata": {},
     "output_type": "display_data"
    },
    {
     "data": {
      "text/html": [
       "<div id='friendly-tb-where-content2' style='display:none'><pre style='white-space:pre;overflow-x:auto;line-height:normal'>Python could not understand the code in the code block <span style=\"color: #783114; text-decoration-color: #783114; background-color: #ffffff\">[</span><span style=\"color: #101010; text-decoration-color: #101010; background-color: #ffffff\">10</span><span style=\"color: #783114; text-decoration-color: #783114; background-color: #ffffff\">]</span> at the location indicated.              \n",
       "\n",
       "<span style=\"color: #808080; text-decoration-color: #808080; background-color: #ffffff\">       1|</span><span style=\"color: #005500; text-decoration-color: #005500; background-color: #ffffff\"> from</span><span style=\"color: #0011aa; text-decoration-color: #0011aa; background-color: #ffffff\"> friendly</span><span style=\"color: #783114; text-decoration-color: #783114; background-color: #ffffff\">.</span><span style=\"color: #0011aa; text-decoration-color: #0011aa; background-color: #ffffff\">jupyter</span><span style=\"color: #005500; text-decoration-color: #005500; background-color: #ffffff\"> import</span><span style=\"color: #0011aa; text-decoration-color: #0011aa; background-color: #ffffff\"> Friendly</span><span style=\"color: #ffffff; text-decoration-color: #ffffff; background-color: #cc0000\">,</span>\n",
       "</pre></div>"
      ],
      "text/plain": [
       "Python could not understand the code in the code block \u001b[38;2;120;49;20;48;2;255;255;255m[\u001b[0m\u001b[38;2;16;16;16;48;2;255;255;255m10\u001b[0m\u001b[38;2;120;49;20;48;2;255;255;255m]\u001b[0m at the location indicated.              \n",
       "\n",
       "\u001b[38;2;128;128;128;48;2;255;255;255m       1|\u001b[0m\u001b[38;2;0;85;0;48;2;255;255;255m from\u001b[0m\u001b[38;2;0;17;170;48;2;255;255;255m friendly\u001b[0m\u001b[38;2;120;49;20;48;2;255;255;255m.\u001b[0m\u001b[38;2;0;17;170;48;2;255;255;255mjupyter\u001b[0m\u001b[38;2;0;85;0;48;2;255;255;255m import\u001b[0m\u001b[38;2;0;17;170;48;2;255;255;255m Friendly\u001b[0m\u001b[38;2;255;255;255;48;2;204;0;0m,\u001b[0m\n"
      ]
     },
     "metadata": {},
     "output_type": "display_data"
    }
   ],
   "source": [
    "from friendly.jupyter import Friendly,"
   ]
  },
  {
   "cell_type": "code",
   "execution_count": 11,
   "id": "d5581cfe",
   "metadata": {},
   "outputs": [],
   "source": [
    "from friendly.jupyter import Friendly"
   ]
  },
  {
   "cell_type": "code",
   "execution_count": 12,
   "id": "c8d84527",
   "metadata": {},
   "outputs": [
    {
     "name": "stdout",
     "output_type": "stream",
     "text": [
      "Enter your nameKatie\n"
     ]
    }
   ],
   "source": [
    "name = input('Enter your name')"
   ]
  },
  {
   "cell_type": "code",
   "execution_count": 15,
   "id": "ea961e55",
   "metadata": {},
   "outputs": [
    {
     "name": "stdout",
     "output_type": "stream",
     "text": [
      "Enter your name: Katie\n",
      "Hello Katie!\n"
     ]
    }
   ],
   "source": [
    "name = input('Enter your name: ')\n",
    "print ('Hello ' + name + '!')"
   ]
  },
  {
   "cell_type": "code",
   "execution_count": 17,
   "id": "6a080c00",
   "metadata": {},
   "outputs": [
    {
     "name": "stdout",
     "output_type": "stream",
     "text": [
      "Enter your name: Dana\n",
      "You need to go!\n"
     ]
    }
   ],
   "source": [
    "name = input('Enter your name: ')\n",
    "\n",
    "if name == 'Katie':\n",
    "    print('Hi Boss!')\n",
    "    print('Hope you are good!')\n",
    "    \n",
    "else:\n",
    "    print('You need to go!')\n"
   ]
  },
  {
   "cell_type": "code",
   "execution_count": 18,
   "id": "936929b6",
   "metadata": {},
   "outputs": [
    {
     "name": "stdout",
     "output_type": "stream",
     "text": [
      "Please enter your age: 50\n"
     ]
    },
    {
     "data": {
      "text/html": [
       "<div id='friendly-message3'><pre style='white-space:pre;overflow-x:auto;line-height:normal'><span style=\"color: #dd0000; text-decoration-color: #dd0000; background-color: #ffffff\">TypeError</span>: '&gt;=' not supported between instances of 'str' and 'int'    \n",
       "</pre></div>"
      ],
      "text/plain": [
       "\u001b[38;2;221;0;0;48;2;255;255;255mTypeError\u001b[0m: '>=' not supported between instances of 'str' and 'int'    \n"
      ]
     },
     "metadata": {},
     "output_type": "display_data"
    },
    {
     "data": {
      "text/html": [
       "\n",
       "        <button\n",
       "            id='friendly-tb-btn-show3'\n",
       "            onclick='friendly_toggle_more3()'\n",
       "            style=''>\n",
       "        More ...\n",
       "        </button>\n",
       "        <script type=\"text/Javascript\"> function friendly_toggle_more3(){\n",
       "        var btn = document.getElementById('friendly-tb-btn-show3');\n",
       "        var btn_what = document.getElementById('friendly-tb-btn-show-what3');\n",
       "        var btn_where = document.getElementById('friendly-tb-btn-show-where3');\n",
       "        var btn_why = document.getElementById('friendly-tb-btn-show-why3');\n",
       "        ;\n",
       "        var message = document.getElementById('friendly-message3');\n",
       "        var friendly_tb_content = document.getElementById('friendly-tb-friendly_tb-content3');\n",
       "        var what_content = document.getElementById('friendly-tb-what-content3');\n",
       "        var why_content = document.getElementById('friendly-tb-why-content3');\n",
       "        var where_content = document.getElementById('friendly-tb-where-content3');\n",
       "        ;\n",
       "\n",
       "        if (btn_what.style.display == 'none'){\n",
       "            message.style.display = 'none';\n",
       "            btn_what.style.display = 'block';\n",
       "            btn_why.style.display = 'block';\n",
       "            btn_where.style.display = 'block';\n",
       "            friendly_tb_content.style.display = 'block';\n",
       "            ;\n",
       "            btn.textContent = \"Show message only\";\n",
       "            ;\n",
       "        } else {\n",
       "            btn_what.style.display = 'none';\n",
       "            btn_what.textContent = 'what()';\n",
       "            btn_why.style.display = 'none';\n",
       "            btn_why.textContent = 'why()';\n",
       "            btn_where.style.display = 'none';\n",
       "            btn_where.textContent = 'where()';\n",
       "            what_content.style.display = 'none';\n",
       "            why_content.style.display = 'none';\n",
       "            where_content.style.display = 'none';\n",
       "            ;\n",
       "            friendly_tb_content.style.display = 'none';\n",
       "            message.style.display = 'block';\n",
       "            btn.textContent = \"More ...\";\n",
       "            ;\n",
       "        }\n",
       "        };\n",
       "        </script>\n",
       "        "
      ]
     },
     "metadata": {},
     "output_type": "display_data"
    },
    {
     "data": {
      "text/html": [
       "<div id='friendly-tb-friendly_tb-content3' style='display:none'><pre style='white-space:pre;overflow-x:auto;line-height:normal'><span style=\"color: #dd0000; text-decoration-color: #dd0000; background-color: #ffffff\">Traceback (most recent call last):</span><span style=\"background-color: #ffffff\">                                                                  </span>\n",
       "<span style=\"color: #101010; text-decoration-color: #101010; background-color: #ffffff\">  Code block </span><span style=\"color: #783114; text-decoration-color: #783114; background-color: #ffffff\">[</span><span style=\"color: #101010; text-decoration-color: #101010; background-color: #ffffff\">18</span><span style=\"color: #783114; text-decoration-color: #783114; background-color: #ffffff\">]</span><span style=\"color: #101010; text-decoration-color: #101010; background-color: #ffffff\">, line 3</span><span style=\"background-color: #ffffff\">                                                                           </span>\n",
       "<span style=\"color: #101010; text-decoration-color: #101010; background-color: #ffffff\">    </span><span style=\"color: #005500; text-decoration-color: #005500; background-color: #ffffff\">if</span><span style=\"color: #101010; text-decoration-color: #101010; background-color: #ffffff\"> </span><span style=\"color: #0011aa; text-decoration-color: #0011aa; background-color: #ffffff\">age</span><span style=\"color: #101010; text-decoration-color: #101010; background-color: #ffffff\"> </span><span style=\"color: #783114; text-decoration-color: #783114; background-color: #ffffff\">&gt;=</span><span style=\"color: #101010; text-decoration-color: #101010; background-color: #ffffff\"> 40</span><span style=\"color: #783114; text-decoration-color: #783114; background-color: #ffffff\">:</span><span style=\"background-color: #ffffff\">                                                                                   </span>\n",
       "<span style=\"color: #dd0000; text-decoration-color: #dd0000; background-color: #ffffff\">TypeError</span><span style=\"color: #101010; text-decoration-color: #101010; background-color: #ffffff\">: </span><span style=\"color: #0011aa; text-decoration-color: #0011aa; background-color: #ffffff\">'&gt;=' not supported between instances of 'str' and 'int'</span><span style=\"background-color: #ffffff\">                                  </span>\n",
       "\n",
       "Did you forget to convert the string <span style=\"color: #0011aa; text-decoration-color: #0011aa; background-color: #ffffff\">age</span> into an integer (<span style=\"color: #005500; text-decoration-color: #005500; background-color: #ffffff\">int</span>)?                                     \n",
       "</pre></div>"
      ],
      "text/plain": [
       "\u001b[38;2;221;0;0;48;2;255;255;255mTraceback (most recent call last):\u001b[0m\u001b[48;2;255;255;255m                                                                  \u001b[0m\n",
       "\u001b[38;2;16;16;16;48;2;255;255;255m  Code block \u001b[0m\u001b[38;2;120;49;20;48;2;255;255;255m[\u001b[0m\u001b[38;2;16;16;16;48;2;255;255;255m18\u001b[0m\u001b[38;2;120;49;20;48;2;255;255;255m]\u001b[0m\u001b[38;2;16;16;16;48;2;255;255;255m, line \u001b[0m\u001b[38;2;16;16;16;48;2;255;255;255m3\u001b[0m\u001b[48;2;255;255;255m                                                                           \u001b[0m\n",
       "\u001b[38;2;16;16;16;48;2;255;255;255m    \u001b[0m\u001b[38;2;0;85;0;48;2;255;255;255mif\u001b[0m\u001b[38;2;16;16;16;48;2;255;255;255m \u001b[0m\u001b[38;2;0;17;170;48;2;255;255;255mage\u001b[0m\u001b[38;2;16;16;16;48;2;255;255;255m \u001b[0m\u001b[38;2;120;49;20;48;2;255;255;255m>\u001b[0m\u001b[38;2;120;49;20;48;2;255;255;255m=\u001b[0m\u001b[38;2;16;16;16;48;2;255;255;255m \u001b[0m\u001b[38;2;16;16;16;48;2;255;255;255m40\u001b[0m\u001b[38;2;120;49;20;48;2;255;255;255m:\u001b[0m\u001b[48;2;255;255;255m                                                                                   \u001b[0m\n",
       "\u001b[38;2;221;0;0;48;2;255;255;255mTypeError\u001b[0m\u001b[38;2;16;16;16;48;2;255;255;255m: \u001b[0m\u001b[38;2;0;17;170;48;2;255;255;255m'>=' not supported between instances of 'str' and 'int'\u001b[0m\u001b[48;2;255;255;255m                                  \u001b[0m\n",
       "\n",
       "Did you forget to convert the string \u001b[38;2;0;17;170;48;2;255;255;255mage\u001b[0m into an integer (\u001b[38;2;0;85;0;48;2;255;255;255mint\u001b[0m)?                                     \n"
      ]
     },
     "metadata": {},
     "output_type": "display_data"
    },
    {
     "data": {
      "text/html": [
       "<script type=\"text/Javascript\"> function toggle_what3(){\n",
       "     var content = document.getElementById('friendly-tb-what-content3');\n",
       "     var btn = document.getElementById('friendly-tb-btn-show-what3');\n",
       "        if (content.style.display === 'none') {\n",
       "            content.style.display = 'block';\n",
       "            btn.textContent = \"Hide what()\";\n",
       "        } else {\n",
       "            content.style.display = 'none';\n",
       "            btn.textContent = \"what()\";\n",
       "       }\n",
       "    }\n",
       "     </script>\n",
       "     <button\n",
       "         id='friendly-tb-btn-show-what3'\n",
       "         onclick='toggle_what3()'\n",
       "         style='display:none '>\n",
       "     what()\n",
       "     </button>\n",
       "    "
      ]
     },
     "metadata": {},
     "output_type": "display_data"
    },
    {
     "data": {
      "text/html": [
       "<div id='friendly-tb-what-content3' style='display:none'><pre style='white-space:pre;overflow-x:auto;line-height:normal'>A <span style=\"color: #dd0000; text-decoration-color: #dd0000; background-color: #ffffff\">TypeError</span> is usually caused by trying to combine two incompatible   \n",
       "types of objects, by calling a function with the wrong type of object,\n",
       "or by trying to do an operation not allowed on a given type of object.\n",
       "</pre></div>"
      ],
      "text/plain": [
       "A \u001b[38;2;221;0;0;48;2;255;255;255mTypeError\u001b[0m is usually caused by trying to combine two incompatible   \n",
       "types of objects, by calling a function with the wrong type of object,\n",
       "or by trying to do an operation not allowed on a given type of object.\n"
      ]
     },
     "metadata": {},
     "output_type": "display_data"
    },
    {
     "data": {
      "text/html": [
       "<script type=\"text/Javascript\"> function toggle_why3(){\n",
       "     var content = document.getElementById('friendly-tb-why-content3');\n",
       "     var btn = document.getElementById('friendly-tb-btn-show-why3');\n",
       "        if (content.style.display === 'none') {\n",
       "            content.style.display = 'block';\n",
       "            btn.textContent = \"Hide why()\";\n",
       "        } else {\n",
       "            content.style.display = 'none';\n",
       "            btn.textContent = \"why()\";\n",
       "       }\n",
       "    }\n",
       "     </script>\n",
       "     <button\n",
       "         id='friendly-tb-btn-show-why3'\n",
       "         onclick='toggle_why3()'\n",
       "         style='display:none '>\n",
       "     why()\n",
       "     </button>\n",
       "    "
      ]
     },
     "metadata": {},
     "output_type": "display_data"
    },
    {
     "data": {
      "text/html": [
       "<div id='friendly-tb-why-content3' style='display:none'><pre style='white-space:pre;overflow-x:auto;line-height:normal'>You tried to do an order comparison (&gt;=) between two incompatible     \n",
       "types of objects: a string (<span style=\"color: #005500; text-decoration-color: #005500; background-color: #ffffff\">str</span>) and an integer (<span style=\"color: #005500; text-decoration-color: #005500; background-color: #ffffff\">int</span>). Perhaps you    \n",
       "forgot to convert the string <span style=\"color: #0011aa; text-decoration-color: #0011aa; background-color: #ffffff\">age</span> into an integer (<span style=\"color: #005500; text-decoration-color: #005500; background-color: #ffffff\">int</span>).               \n",
       "</pre></div>"
      ],
      "text/plain": [
       "You tried to do an order comparison (>=) between two incompatible     \n",
       "types of objects: a string (\u001b[38;2;0;85;0;48;2;255;255;255mstr\u001b[0m) and an integer (\u001b[38;2;0;85;0;48;2;255;255;255mint\u001b[0m). Perhaps you    \n",
       "forgot to convert the string \u001b[38;2;0;17;170;48;2;255;255;255mage\u001b[0m into an integer (\u001b[38;2;0;85;0;48;2;255;255;255mint\u001b[0m).               \n"
      ]
     },
     "metadata": {},
     "output_type": "display_data"
    },
    {
     "data": {
      "text/html": [
       "<script type=\"text/Javascript\"> function toggle_where3(){\n",
       "     var content = document.getElementById('friendly-tb-where-content3');\n",
       "     var btn = document.getElementById('friendly-tb-btn-show-where3');\n",
       "        if (content.style.display === 'none') {\n",
       "            content.style.display = 'block';\n",
       "            btn.textContent = \"Hide where()\";\n",
       "        } else {\n",
       "            content.style.display = 'none';\n",
       "            btn.textContent = \"where()\";\n",
       "       }\n",
       "    }\n",
       "     </script>\n",
       "     <button\n",
       "         id='friendly-tb-btn-show-where3'\n",
       "         onclick='toggle_where3()'\n",
       "         style='display:none '>\n",
       "     where()\n",
       "     </button>\n",
       "    "
      ]
     },
     "metadata": {},
     "output_type": "display_data"
    },
    {
     "data": {
      "text/html": [
       "<div id='friendly-tb-where-content3' style='display:none'><pre style='white-space:pre;overflow-x:auto;line-height:normal'><span style=\"color: #dd0000; text-decoration-color: #dd0000\">Exception raised on line 3 of code block </span><span style=\"color: #783114; text-decoration-color: #783114; background-color: #ffffff\">[</span><span style=\"color: #101010; text-decoration-color: #101010; background-color: #ffffff\">18</span><span style=\"color: #783114; text-decoration-color: #783114; background-color: #ffffff\">]</span><span style=\"color: #dd0000; text-decoration-color: #dd0000\">.</span>                                                      \n",
       "\n",
       "<span style=\"color: #808080; text-decoration-color: #808080; background-color: #ffffff\">       1|</span><span style=\"color: #0011aa; text-decoration-color: #0011aa; background-color: #ffffff\"> age</span><span style=\"color: #783114; text-decoration-color: #783114; background-color: #ffffff\"> =</span><span style=\"color: #0011aa; text-decoration-color: #0011aa; background-color: #ffffff\"> input</span><span style=\"color: #783114; text-decoration-color: #783114; background-color: #ffffff\">(</span><span style=\"color: #8b008b; text-decoration-color: #8b008b; background-color: #ffffff\">'Please enter your age: '</span><span style=\"color: #783114; text-decoration-color: #783114; background-color: #ffffff\">)</span>\n",
       "<span style=\"color: #808080; text-decoration-color: #808080; background-color: #ffffff\">       2|</span><span style=\"color: #0011aa; text-decoration-color: #0011aa; background-color: #ffffff\"> </span>\n",
       "<span style=\"color: #783114; text-decoration-color: #783114; background-color: #ffffff\">     &gt; </span><span style=\"color: #101010; text-decoration-color: #101010; background-color: #ffffff\">3|</span><span style=\"color: #005500; text-decoration-color: #005500; background-color: #ffffff\"> if</span><span style=\"color: #783114; text-decoration-color: #783114; background-color: #ffffff\"> </span><span style=\"color: #ffffff; text-decoration-color: #ffffff; background-color: #cc0000\">age &gt;= 40</span><span style=\"color: #783114; text-decoration-color: #783114; background-color: #ffffff\">:</span>\n",
       "<span style=\"color: #808080; text-decoration-color: #808080; background-color: #ffffff\">       4|</span><span style=\"color: #0011aa; text-decoration-color: #0011aa; background-color: #ffffff\">     </span><span style=\"color: #005500; text-decoration-color: #005500; background-color: #ffffff\">print</span><span style=\"color: #783114; text-decoration-color: #783114; background-color: #ffffff\">(</span><span style=\"color: #8b008b; text-decoration-color: #8b008b; background-color: #ffffff\">'You are now over the hill!'</span><span style=\"color: #783114; text-decoration-color: #783114; background-color: #ffffff\">)</span>\n",
       "\n",
       "<span style=\"color: #101010; text-decoration-color: #101010; background-color: #ffffff\">    </span><span style=\"color: #0011aa; text-decoration-color: #0011aa; background-color: #ffffff\">age</span><span style=\"color: #783114; text-decoration-color: #783114; background-color: #ffffff\">:</span><span style=\"color: #101010; text-decoration-color: #101010; background-color: #ffffff\">  </span><span style=\"color: #8b008b; text-decoration-color: #8b008b; background-color: #ffffff\">'50'</span><span style=\"background-color: #ffffff\">                                                                                      </span>\n",
       "</pre></div>"
      ],
      "text/plain": [
       "\u001b[38;2;221;0;0mException raised on line 3 of code block \u001b[0m\u001b[38;2;120;49;20;48;2;255;255;255m[\u001b[0m\u001b[38;2;16;16;16;48;2;255;255;255m18\u001b[0m\u001b[38;2;120;49;20;48;2;255;255;255m]\u001b[0m\u001b[38;2;221;0;0m.\u001b[0m                                                      \n",
       "\n",
       "\u001b[38;2;128;128;128;48;2;255;255;255m       1|\u001b[0m\u001b[38;2;0;17;170;48;2;255;255;255m \u001b[0m\u001b[38;2;0;17;170;48;2;255;255;255mage\u001b[0m\u001b[38;2;120;49;20;48;2;255;255;255m =\u001b[0m\u001b[38;2;0;17;170;48;2;255;255;255m input\u001b[0m\u001b[38;2;120;49;20;48;2;255;255;255m(\u001b[0m\u001b[38;2;139;0;139;48;2;255;255;255m'Please enter your age: '\u001b[0m\u001b[38;2;120;49;20;48;2;255;255;255m)\u001b[0m\n",
       "\u001b[38;2;128;128;128;48;2;255;255;255m       2|\u001b[0m\u001b[38;2;0;17;170;48;2;255;255;255m \u001b[0m\n",
       "\u001b[38;2;120;49;20;48;2;255;255;255m     > \u001b[0m\u001b[38;2;16;16;16;48;2;255;255;255m3|\u001b[0m\u001b[38;2;0;85;0;48;2;255;255;255m if\u001b[0m\u001b[38;2;120;49;20;48;2;255;255;255m \u001b[0m\u001b[38;2;255;255;255;48;2;204;0;0mage\u001b[0m\u001b[38;2;255;255;255;48;2;204;0;0m >=\u001b[0m\u001b[38;2;255;255;255;48;2;204;0;0m 40\u001b[0m\u001b[38;2;120;49;20;48;2;255;255;255m:\u001b[0m\n",
       "\u001b[38;2;128;128;128;48;2;255;255;255m       4|\u001b[0m\u001b[38;2;0;17;170;48;2;255;255;255m     \u001b[0m\u001b[38;2;0;85;0;48;2;255;255;255mprint\u001b[0m\u001b[38;2;120;49;20;48;2;255;255;255m(\u001b[0m\u001b[38;2;139;0;139;48;2;255;255;255m'You are now over the hill!'\u001b[0m\u001b[38;2;120;49;20;48;2;255;255;255m)\u001b[0m\n",
       "\n",
       "\u001b[38;2;16;16;16;48;2;255;255;255m    \u001b[0m\u001b[38;2;0;17;170;48;2;255;255;255mage\u001b[0m\u001b[38;2;120;49;20;48;2;255;255;255m:\u001b[0m\u001b[38;2;16;16;16;48;2;255;255;255m  \u001b[0m\u001b[38;2;139;0;139;48;2;255;255;255m'\u001b[0m\u001b[38;2;139;0;139;48;2;255;255;255m50\u001b[0m\u001b[38;2;139;0;139;48;2;255;255;255m'\u001b[0m\u001b[48;2;255;255;255m                                                                                      \u001b[0m\n"
      ]
     },
     "metadata": {},
     "output_type": "display_data"
    }
   ],
   "source": [
    "\n",
    "age = input('Please enter your age: ')\n",
    "\n",
    "if age >= 40:\n",
    "    print('You are now over the hill!')"
   ]
  },
  {
   "cell_type": "code",
   "execution_count": 20,
   "id": "b639e3dd",
   "metadata": {},
   "outputs": [
    {
     "name": "stdout",
     "output_type": "stream",
     "text": [
      "Enter your name please!Katie\n",
      "Nice to see you!\n"
     ]
    }
   ],
   "source": [
    "name = input('Enter your name please!')\n",
    "if name == 'Katie':\n",
    "    print('Nice to see you!')\n",
    "    \n",
    "else:\n",
    "    print('Nice to meet you!')"
   ]
  },
  {
   "cell_type": "code",
   "execution_count": null,
   "id": "e88d3563",
   "metadata": {},
   "outputs": [],
   "source": [
    "import r"
   ]
  },
  {
   "cell_type": "code",
   "execution_count": null,
   "id": "d5ac7515",
   "metadata": {},
   "outputs": [],
   "source": []
  }
 ],
 "metadata": {
  "kernelspec": {
   "display_name": "Python 3 (ipykernel)",
   "language": "python",
   "name": "python3"
  },
  "language_info": {
   "codemirror_mode": {
    "name": "ipython",
    "version": 3
   },
   "file_extension": ".py",
   "mimetype": "text/x-python",
   "name": "python",
   "nbconvert_exporter": "python",
   "pygments_lexer": "ipython3",
   "version": "3.10.4"
  }
 },
 "nbformat": 4,
 "nbformat_minor": 5
}
