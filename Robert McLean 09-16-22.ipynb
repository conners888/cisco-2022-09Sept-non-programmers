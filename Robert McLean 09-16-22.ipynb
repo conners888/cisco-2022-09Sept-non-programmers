{
 "cells": [
  {
   "cell_type": "code",
   "execution_count": null,
   "id": "ed81a5f6",
   "metadata": {},
   "outputs": [],
   "source": [
    "Robert McLean 09/16/22\n",
    "\n"
   ]
  },
  {
   "cell_type": "code",
   "execution_count": 2,
   "id": "5a0e451a",
   "metadata": {},
   "outputs": [
    {
     "name": "stdout",
     "output_type": "stream",
     "text": [
      "Robert\n"
     ]
    }
   ],
   "source": [
    "print(\"Robert\")"
   ]
  },
  {
   "cell_type": "code",
   "execution_count": 13,
   "id": "6991ffc7",
   "metadata": {},
   "outputs": [
    {
     "name": "stdout",
     "output_type": "stream",
     "text": [
      "What is your name?: Robert\n",
      "Hello,Robert Good Morning\n"
     ]
    }
   ],
   "source": [
    "name = input('What is your name?: ')\n",
    "print ('Hello,' + name + ' Good Morning')\n"
   ]
  },
  {
   "cell_type": "code",
   "execution_count": 14,
   "id": "15142d2e",
   "metadata": {},
   "outputs": [
    {
     "name": "stdout",
     "output_type": "stream",
     "text": [
      "friendly_traceback 0.6.0; friendly 0.6.0.\n",
      "Type 'Friendly' for basic help.\n",
      "An exception occurred before friendly-traceback was imported.\n",
      "Some information is available.\n"
     ]
    },
    {
     "data": {
      "text/html": [
       "<div id='friendly-message1'><pre style='white-space:pre;overflow-x:auto;line-height:normal'><span style=\"color: #dd0000; text-decoration-color: #dd0000; background-color: #ffffff\">SyntaxError</span>: unterminated string literal (detected at line 2)         \n",
       "</pre></div>"
      ],
      "text/plain": [
       "\u001b[38;2;221;0;0;48;2;255;255;255mSyntaxError\u001b[0m: unterminated string literal (detected at line 2)         \n"
      ]
     },
     "metadata": {},
     "output_type": "display_data"
    },
    {
     "data": {
      "text/html": [
       "\n",
       "        <button\n",
       "            id='friendly-tb-btn-show1'\n",
       "            onclick='friendly_toggle_more1()'\n",
       "            style=''>\n",
       "        More ...\n",
       "        </button>\n",
       "        <script type=\"text/Javascript\"> function friendly_toggle_more1(){\n",
       "        var btn = document.getElementById('friendly-tb-btn-show1');\n",
       "        var btn_what = document.getElementById('friendly-tb-btn-show-what1');\n",
       "        var btn_where = document.getElementById('friendly-tb-btn-show-where1');\n",
       "        var btn_why = document.getElementById('friendly-tb-btn-show-why1');\n",
       "        ;\n",
       "        var message = document.getElementById('friendly-message1');\n",
       "        var friendly_tb_content = document.getElementById('friendly-tb-friendly_tb-content1');\n",
       "        var what_content = document.getElementById('friendly-tb-what-content1');\n",
       "        var why_content = document.getElementById('friendly-tb-why-content1');\n",
       "        var where_content = document.getElementById('friendly-tb-where-content1');\n",
       "        ;\n",
       "\n",
       "        if (btn_what.style.display == 'none'){\n",
       "            message.style.display = 'none';\n",
       "            btn_what.style.display = 'block';\n",
       "            btn_why.style.display = 'block';\n",
       "            btn_where.style.display = 'block';\n",
       "            friendly_tb_content.style.display = 'block';\n",
       "            ;\n",
       "            btn.textContent = \"Show message only\";\n",
       "            ;\n",
       "        } else {\n",
       "            btn_what.style.display = 'none';\n",
       "            btn_what.textContent = 'what()';\n",
       "            btn_why.style.display = 'none';\n",
       "            btn_why.textContent = 'why()';\n",
       "            btn_where.style.display = 'none';\n",
       "            btn_where.textContent = 'where()';\n",
       "            what_content.style.display = 'none';\n",
       "            why_content.style.display = 'none';\n",
       "            where_content.style.display = 'none';\n",
       "            ;\n",
       "            friendly_tb_content.style.display = 'none';\n",
       "            message.style.display = 'block';\n",
       "            btn.textContent = \"More ...\";\n",
       "            ;\n",
       "        }\n",
       "        };\n",
       "        </script>\n",
       "        "
      ]
     },
     "metadata": {},
     "output_type": "display_data"
    },
    {
     "data": {
      "text/html": [
       "<div id='friendly-tb-friendly_tb-content1' style='display:none'><pre style='white-space:pre;overflow-x:auto;line-height:normal'><span style=\"color: #dd0000; text-decoration-color: #dd0000; background-color: #ffffff\">Traceback (most recent call last):</span><span style=\"background-color: #ffffff\">                                                                  </span>\n",
       "<span style=\"color: #101010; text-decoration-color: #101010; background-color: #ffffff\">  File </span><span style=\"color: #005500; text-decoration-color: #005500; background-color: #ffffff\">\"[11]?\"</span><span style=\"color: #101010; text-decoration-color: #101010; background-color: #ffffff\">, line 2</span><span style=\"background-color: #ffffff\">                                                                              </span>\n",
       "<span style=\"color: #101010; text-decoration-color: #101010; background-color: #ffffff\">    </span><span style=\"color: #005500; text-decoration-color: #005500; background-color: #ffffff\">print</span><span style=\"color: #101010; text-decoration-color: #101010; background-color: #ffffff\"> </span><span style=\"color: #783114; text-decoration-color: #783114; background-color: #ffffff\">(</span><span style=\"color: #8b008b; text-decoration-color: #8b008b; background-color: #ffffff\">'Hello,'</span><span style=\"color: #101010; text-decoration-color: #101010; background-color: #ffffff\"> </span><span style=\"color: #783114; text-decoration-color: #783114; background-color: #ffffff\">+</span><span style=\"color: #101010; text-decoration-color: #101010; background-color: #ffffff\"> </span><span style=\"color: #0011aa; text-decoration-color: #0011aa; background-color: #ffffff\">name</span><span style=\"color: #101010; text-decoration-color: #101010; background-color: #ffffff\"> </span><span style=\"color: #783114; text-decoration-color: #783114; background-color: #ffffff\">+</span><span style=\"color: #101010; text-decoration-color: #101010; background-color: #ffffff\"> </span><span style=\"color: #8b008b; text-decoration-color: #8b008b; background-color: #ffffff\">'Good morning!'')</span><span style=\"background-color: #ffffff\">                                                      </span>\n",
       "<span style=\"color: #101010; text-decoration-color: #101010; background-color: #ffffff\">                                            </span><span style=\"color: #783114; text-decoration-color: #783114; background-color: #ffffff\">^</span><span style=\"background-color: #ffffff\">                                                       </span>\n",
       "<span style=\"color: #dd0000; text-decoration-color: #dd0000; background-color: #ffffff\">SyntaxError</span><span style=\"color: #101010; text-decoration-color: #101010; background-color: #ffffff\">: </span><span style=\"color: #0011aa; text-decoration-color: #0011aa; background-color: #ffffff\">unterminated string literal (detected at line 2)</span><span style=\"background-color: #ffffff\">                                       </span>\n",
       "\n",
       "Perhaps you forgot to escape a quote character.                                                     \n",
       "</pre></div>"
      ],
      "text/plain": [
       "\u001b[38;2;221;0;0;48;2;255;255;255mTraceback (most recent call last):\u001b[0m\u001b[48;2;255;255;255m                                                                  \u001b[0m\n",
       "\u001b[38;2;16;16;16;48;2;255;255;255m  File \u001b[0m\u001b[38;2;0;85;0;48;2;255;255;255m\"[11]?\"\u001b[0m\u001b[38;2;16;16;16;48;2;255;255;255m, line \u001b[0m\u001b[38;2;16;16;16;48;2;255;255;255m2\u001b[0m\u001b[48;2;255;255;255m                                                                              \u001b[0m\n",
       "\u001b[38;2;16;16;16;48;2;255;255;255m    \u001b[0m\u001b[38;2;0;85;0;48;2;255;255;255mprint\u001b[0m\u001b[38;2;16;16;16;48;2;255;255;255m \u001b[0m\u001b[38;2;120;49;20;48;2;255;255;255m(\u001b[0m\u001b[38;2;139;0;139;48;2;255;255;255m'\u001b[0m\u001b[38;2;139;0;139;48;2;255;255;255mHello,\u001b[0m\u001b[38;2;139;0;139;48;2;255;255;255m'\u001b[0m\u001b[38;2;16;16;16;48;2;255;255;255m \u001b[0m\u001b[38;2;120;49;20;48;2;255;255;255m+\u001b[0m\u001b[38;2;16;16;16;48;2;255;255;255m \u001b[0m\u001b[38;2;0;17;170;48;2;255;255;255mname\u001b[0m\u001b[38;2;16;16;16;48;2;255;255;255m \u001b[0m\u001b[38;2;120;49;20;48;2;255;255;255m+\u001b[0m\u001b[38;2;16;16;16;48;2;255;255;255m \u001b[0m\u001b[38;2;139;0;139;48;2;255;255;255m'\u001b[0m\u001b[38;2;139;0;139;48;2;255;255;255mGood morning!\u001b[0m\u001b[38;2;139;0;139;48;2;255;255;255m'\u001b[0m\u001b[38;2;139;0;139;48;2;255;255;255m'\u001b[0m\u001b[38;2;139;0;139;48;2;255;255;255m)\u001b[0m\u001b[48;2;255;255;255m                                                      \u001b[0m\n",
       "\u001b[38;2;16;16;16;48;2;255;255;255m                                            \u001b[0m\u001b[38;2;120;49;20;48;2;255;255;255m^\u001b[0m\u001b[48;2;255;255;255m                                                       \u001b[0m\n",
       "\u001b[38;2;221;0;0;48;2;255;255;255mSyntaxError\u001b[0m\u001b[38;2;16;16;16;48;2;255;255;255m: \u001b[0m\u001b[38;2;0;17;170;48;2;255;255;255munterminated string literal (detected at line 2)\u001b[0m\u001b[48;2;255;255;255m                                       \u001b[0m\n",
       "\n",
       "Perhaps you forgot to escape a quote character.                                                     \n"
      ]
     },
     "metadata": {},
     "output_type": "display_data"
    },
    {
     "data": {
      "text/html": [
       "<script type=\"text/Javascript\"> function toggle_what1(){\n",
       "     var content = document.getElementById('friendly-tb-what-content1');\n",
       "     var btn = document.getElementById('friendly-tb-btn-show-what1');\n",
       "        if (content.style.display === 'none') {\n",
       "            content.style.display = 'block';\n",
       "            btn.textContent = \"Hide what()\";\n",
       "        } else {\n",
       "            content.style.display = 'none';\n",
       "            btn.textContent = \"what()\";\n",
       "       }\n",
       "    }\n",
       "     </script>\n",
       "     <button\n",
       "         id='friendly-tb-btn-show-what1'\n",
       "         onclick='toggle_what1()'\n",
       "         style='display:none '>\n",
       "     what()\n",
       "     </button>\n",
       "    "
      ]
     },
     "metadata": {},
     "output_type": "display_data"
    },
    {
     "data": {
      "text/html": [
       "<div id='friendly-tb-what-content1' style='display:none'><pre style='white-space:pre;overflow-x:auto;line-height:normal'>A <span style=\"color: #dd0000; text-decoration-color: #dd0000; background-color: #ffffff\">SyntaxError</span> occurs when Python cannot understand your code.         \n",
       "</pre></div>"
      ],
      "text/plain": [
       "A \u001b[38;2;221;0;0;48;2;255;255;255mSyntaxError\u001b[0m occurs when Python cannot understand your code.         \n"
      ]
     },
     "metadata": {},
     "output_type": "display_data"
    },
    {
     "data": {
      "text/html": [
       "<script type=\"text/Javascript\"> function toggle_why1(){\n",
       "     var content = document.getElementById('friendly-tb-why-content1');\n",
       "     var btn = document.getElementById('friendly-tb-btn-show-why1');\n",
       "        if (content.style.display === 'none') {\n",
       "            content.style.display = 'block';\n",
       "            btn.textContent = \"Hide why()\";\n",
       "        } else {\n",
       "            content.style.display = 'none';\n",
       "            btn.textContent = \"why()\";\n",
       "       }\n",
       "    }\n",
       "     </script>\n",
       "     <button\n",
       "         id='friendly-tb-btn-show-why1'\n",
       "         onclick='toggle_why1()'\n",
       "         style='display:none '>\n",
       "     why()\n",
       "     </button>\n",
       "    "
      ]
     },
     "metadata": {},
     "output_type": "display_data"
    },
    {
     "data": {
      "text/html": [
       "<div id='friendly-tb-why-content1' style='display:none'><pre style='white-space:pre;overflow-x:auto;line-height:normal'>I suspect that you were trying to use a quote character inside a      \n",
       "string that was enclosed in quotes of the same kind. Perhaps you      \n",
       "should have escaped the inner quote character:                        \n",
       "\n",
       "<span style=\"color: #005500; text-decoration-color: #005500; background-color: #ffffff\">print</span><span style=\"color: #783114; text-decoration-color: #783114; background-color: #ffffff\"> (</span><span style=\"color: #8b008b; text-decoration-color: #8b008b; background-color: #ffffff\">'Hello,'</span><span style=\"color: #783114; text-decoration-color: #783114; background-color: #ffffff\"> +</span><span style=\"color: #0011aa; text-decoration-color: #0011aa; background-color: #ffffff\"> name</span><span style=\"color: #783114; text-decoration-color: #783114; background-color: #ffffff\"> +</span><span style=\"color: #808080; text-decoration-color: #808080; background-color: #ffffff\"> </span><span style=\"color: #8b008b; text-decoration-color: #8b008b; background-color: #ffffff\">'Good morning!</span><span style=\"color: #ffffff; text-decoration-color: #ffffff; background-color: #cc0000\">\\'</span><span style=\"color: #8b008b; text-decoration-color: #8b008b; background-color: #ffffff\">'</span><span style=\"color: #783114; text-decoration-color: #783114; background-color: #ffffff\">)</span>\n",
       "</pre></div>"
      ],
      "text/plain": [
       "I suspect that you were trying to use a quote character inside a      \n",
       "string that was enclosed in quotes of the same kind. Perhaps you      \n",
       "should have escaped the inner quote character:                        \n",
       "\n",
       "\u001b[38;2;0;85;0;48;2;255;255;255mprint\u001b[0m\u001b[38;2;120;49;20;48;2;255;255;255m (\u001b[0m\u001b[38;2;139;0;139;48;2;255;255;255m'Hello,'\u001b[0m\u001b[38;2;120;49;20;48;2;255;255;255m +\u001b[0m\u001b[38;2;0;17;170;48;2;255;255;255m name\u001b[0m\u001b[38;2;120;49;20;48;2;255;255;255m +\u001b[0m\u001b[38;2;128;128;128;48;2;255;255;255m \u001b[0m\u001b[38;2;139;0;139;48;2;255;255;255m'Good morning!\u001b[0m\u001b[38;2;255;255;255;48;2;204;0;0m\\'\u001b[0m\u001b[38;2;139;0;139;48;2;255;255;255m'\u001b[0m\u001b[38;2;120;49;20;48;2;255;255;255m)\u001b[0m\n"
      ]
     },
     "metadata": {},
     "output_type": "display_data"
    },
    {
     "data": {
      "text/html": [
       "<script type=\"text/Javascript\"> function toggle_where1(){\n",
       "     var content = document.getElementById('friendly-tb-where-content1');\n",
       "     var btn = document.getElementById('friendly-tb-btn-show-where1');\n",
       "        if (content.style.display === 'none') {\n",
       "            content.style.display = 'block';\n",
       "            btn.textContent = \"Hide where()\";\n",
       "        } else {\n",
       "            content.style.display = 'none';\n",
       "            btn.textContent = \"where()\";\n",
       "       }\n",
       "    }\n",
       "     </script>\n",
       "     <button\n",
       "         id='friendly-tb-btn-show-where1'\n",
       "         onclick='toggle_where1()'\n",
       "         style='display:none '>\n",
       "     where()\n",
       "     </button>\n",
       "    "
      ]
     },
     "metadata": {},
     "output_type": "display_data"
    },
    {
     "data": {
      "text/html": [
       "<div id='friendly-tb-where-content1' style='display:none'><pre style='white-space:pre;overflow-x:auto;line-height:normal'>Python could not understand the code in the code block <span style=\"color: #783114; text-decoration-color: #783114; background-color: #ffffff\">[</span><span style=\"color: #101010; text-decoration-color: #101010; background-color: #ffffff\">11</span><span style=\"color: #783114; text-decoration-color: #783114; background-color: #ffffff\">]</span>? at the location indicated.             \n",
       "\n",
       "<span style=\"color: #808080; text-decoration-color: #808080; background-color: #ffffff\">       2|</span><span style=\"color: #005500; text-decoration-color: #005500; background-color: #ffffff\"> print</span><span style=\"color: #783114; text-decoration-color: #783114; background-color: #ffffff\"> (</span><span style=\"color: #8b008b; text-decoration-color: #8b008b; background-color: #ffffff\">'Hello,'</span><span style=\"color: #783114; text-decoration-color: #783114; background-color: #ffffff\"> +</span><span style=\"color: #0011aa; text-decoration-color: #0011aa; background-color: #ffffff\"> name</span><span style=\"color: #783114; text-decoration-color: #783114; background-color: #ffffff\"> +</span><span style=\"color: #8b008b; text-decoration-color: #8b008b; background-color: #ffffff\"> 'Good morning!'</span><span style=\"color: #ffffff; text-decoration-color: #ffffff; background-color: #cc0000\">'</span><span style=\"color: #783114; text-decoration-color: #783114; background-color: #ffffff\">)</span>\n",
       "</pre></div>"
      ],
      "text/plain": [
       "Python could not understand the code in the code block \u001b[38;2;120;49;20;48;2;255;255;255m[\u001b[0m\u001b[38;2;16;16;16;48;2;255;255;255m11\u001b[0m\u001b[38;2;120;49;20;48;2;255;255;255m]\u001b[0m? at the location indicated.             \n",
       "\n",
       "\u001b[38;2;128;128;128;48;2;255;255;255m       2|\u001b[0m\u001b[38;2;0;85;0;48;2;255;255;255m print\u001b[0m\u001b[38;2;120;49;20;48;2;255;255;255m (\u001b[0m\u001b[38;2;139;0;139;48;2;255;255;255m'Hello,'\u001b[0m\u001b[38;2;120;49;20;48;2;255;255;255m +\u001b[0m\u001b[38;2;0;17;170;48;2;255;255;255m name\u001b[0m\u001b[38;2;120;49;20;48;2;255;255;255m +\u001b[0m\u001b[38;2;139;0;139;48;2;255;255;255m 'Good morning!'\u001b[0m\u001b[38;2;255;255;255;48;2;204;0;0m'\u001b[0m\u001b[38;2;120;49;20;48;2;255;255;255m)\u001b[0m\n"
      ]
     },
     "metadata": {},
     "output_type": "display_data"
    }
   ],
   "source": [
    "from friendly.jupyter import Friendly"
   ]
  },
  {
   "cell_type": "code",
   "execution_count": 16,
   "id": "195292d2",
   "metadata": {},
   "outputs": [
    {
     "data": {
      "text/html": [
       "<div id='friendly-message2'><pre style='white-space:pre;overflow-x:auto;line-height:normal'><span style=\"color: #dd0000; text-decoration-color: #dd0000; background-color: #ffffff\">SyntaxError</span>: unterminated string literal (detected at line 2)         \n",
       "</pre></div>"
      ],
      "text/plain": [
       "\u001b[38;2;221;0;0;48;2;255;255;255mSyntaxError\u001b[0m: unterminated string literal (detected at line 2)         \n"
      ]
     },
     "metadata": {},
     "output_type": "display_data"
    },
    {
     "data": {
      "text/html": [
       "\n",
       "        <button\n",
       "            id='friendly-tb-btn-show2'\n",
       "            onclick='friendly_toggle_more2()'\n",
       "            style=''>\n",
       "        More ...\n",
       "        </button>\n",
       "        <script type=\"text/Javascript\"> function friendly_toggle_more2(){\n",
       "        var btn = document.getElementById('friendly-tb-btn-show2');\n",
       "        var btn_what = document.getElementById('friendly-tb-btn-show-what2');\n",
       "        var btn_where = document.getElementById('friendly-tb-btn-show-where2');\n",
       "        var btn_why = document.getElementById('friendly-tb-btn-show-why2');\n",
       "        ;\n",
       "        var message = document.getElementById('friendly-message2');\n",
       "        var friendly_tb_content = document.getElementById('friendly-tb-friendly_tb-content2');\n",
       "        var what_content = document.getElementById('friendly-tb-what-content2');\n",
       "        var why_content = document.getElementById('friendly-tb-why-content2');\n",
       "        var where_content = document.getElementById('friendly-tb-where-content2');\n",
       "        ;\n",
       "\n",
       "        if (btn_what.style.display == 'none'){\n",
       "            message.style.display = 'none';\n",
       "            btn_what.style.display = 'block';\n",
       "            btn_why.style.display = 'block';\n",
       "            btn_where.style.display = 'block';\n",
       "            friendly_tb_content.style.display = 'block';\n",
       "            ;\n",
       "            btn.textContent = \"Show message only\";\n",
       "            ;\n",
       "        } else {\n",
       "            btn_what.style.display = 'none';\n",
       "            btn_what.textContent = 'what()';\n",
       "            btn_why.style.display = 'none';\n",
       "            btn_why.textContent = 'why()';\n",
       "            btn_where.style.display = 'none';\n",
       "            btn_where.textContent = 'where()';\n",
       "            what_content.style.display = 'none';\n",
       "            why_content.style.display = 'none';\n",
       "            where_content.style.display = 'none';\n",
       "            ;\n",
       "            friendly_tb_content.style.display = 'none';\n",
       "            message.style.display = 'block';\n",
       "            btn.textContent = \"More ...\";\n",
       "            ;\n",
       "        }\n",
       "        };\n",
       "        </script>\n",
       "        "
      ]
     },
     "metadata": {},
     "output_type": "display_data"
    },
    {
     "data": {
      "text/html": [
       "<div id='friendly-tb-friendly_tb-content2' style='display:none'><pre style='white-space:pre;overflow-x:auto;line-height:normal'><span style=\"color: #101010; text-decoration-color: #101010; background-color: #ffffff\">  Code block </span><span style=\"color: #783114; text-decoration-color: #783114; background-color: #ffffff\">[</span><span style=\"color: #101010; text-decoration-color: #101010; background-color: #ffffff\">16</span><span style=\"color: #783114; text-decoration-color: #783114; background-color: #ffffff\">]</span><span style=\"color: #101010; text-decoration-color: #101010; background-color: #ffffff\">, line 2</span><span style=\"background-color: #ffffff\">                                                                           </span>\n",
       "<span style=\"color: #101010; text-decoration-color: #101010; background-color: #ffffff\">    </span><span style=\"color: #005500; text-decoration-color: #005500; background-color: #ffffff\">print</span><span style=\"color: #101010; text-decoration-color: #101010; background-color: #ffffff\"> </span><span style=\"color: #783114; text-decoration-color: #783114; background-color: #ffffff\">(</span><span style=\"color: #8b008b; text-decoration-color: #8b008b; background-color: #ffffff\">'Hello,'</span><span style=\"color: #101010; text-decoration-color: #101010; background-color: #ffffff\"> </span><span style=\"color: #783114; text-decoration-color: #783114; background-color: #ffffff\">+</span><span style=\"color: #101010; text-decoration-color: #101010; background-color: #ffffff\"> </span><span style=\"color: #0011aa; text-decoration-color: #0011aa; background-color: #ffffff\">name</span><span style=\"color: #101010; text-decoration-color: #101010; background-color: #ffffff\"> </span><span style=\"color: #783114; text-decoration-color: #783114; background-color: #ffffff\">+</span><span style=\"color: #101010; text-decoration-color: #101010; background-color: #ffffff\"> </span><span style=\"color: #8b008b; text-decoration-color: #8b008b; background-color: #ffffff\">' Good Morning)</span><span style=\"background-color: #ffffff\">                                                        </span>\n",
       "<span style=\"color: #101010; text-decoration-color: #101010; background-color: #ffffff\">                             </span><span style=\"color: #783114; text-decoration-color: #783114; background-color: #ffffff\">^</span><span style=\"background-color: #ffffff\">                                                                      </span>\n",
       "<span style=\"color: #dd0000; text-decoration-color: #dd0000; background-color: #ffffff\">SyntaxError</span><span style=\"color: #101010; text-decoration-color: #101010; background-color: #ffffff\">: </span><span style=\"color: #0011aa; text-decoration-color: #0011aa; background-color: #ffffff\">unterminated string literal (detected at line 2)</span><span style=\"background-color: #ffffff\">                                       </span>\n",
       "\n",
       "Did you forget a closing quote?                                                                     \n",
       "</pre></div>"
      ],
      "text/plain": [
       "\u001b[38;2;16;16;16;48;2;255;255;255m  Code block \u001b[0m\u001b[38;2;120;49;20;48;2;255;255;255m[\u001b[0m\u001b[38;2;16;16;16;48;2;255;255;255m16\u001b[0m\u001b[38;2;120;49;20;48;2;255;255;255m]\u001b[0m\u001b[38;2;16;16;16;48;2;255;255;255m, line \u001b[0m\u001b[38;2;16;16;16;48;2;255;255;255m2\u001b[0m\u001b[48;2;255;255;255m                                                                           \u001b[0m\n",
       "\u001b[38;2;16;16;16;48;2;255;255;255m    \u001b[0m\u001b[38;2;0;85;0;48;2;255;255;255mprint\u001b[0m\u001b[38;2;16;16;16;48;2;255;255;255m \u001b[0m\u001b[38;2;120;49;20;48;2;255;255;255m(\u001b[0m\u001b[38;2;139;0;139;48;2;255;255;255m'\u001b[0m\u001b[38;2;139;0;139;48;2;255;255;255mHello,\u001b[0m\u001b[38;2;139;0;139;48;2;255;255;255m'\u001b[0m\u001b[38;2;16;16;16;48;2;255;255;255m \u001b[0m\u001b[38;2;120;49;20;48;2;255;255;255m+\u001b[0m\u001b[38;2;16;16;16;48;2;255;255;255m \u001b[0m\u001b[38;2;0;17;170;48;2;255;255;255mname\u001b[0m\u001b[38;2;16;16;16;48;2;255;255;255m \u001b[0m\u001b[38;2;120;49;20;48;2;255;255;255m+\u001b[0m\u001b[38;2;16;16;16;48;2;255;255;255m \u001b[0m\u001b[38;2;139;0;139;48;2;255;255;255m'\u001b[0m\u001b[38;2;139;0;139;48;2;255;255;255m Good Morning)\u001b[0m\u001b[48;2;255;255;255m                                                        \u001b[0m\n",
       "\u001b[38;2;16;16;16;48;2;255;255;255m                             \u001b[0m\u001b[38;2;120;49;20;48;2;255;255;255m^\u001b[0m\u001b[48;2;255;255;255m                                                                      \u001b[0m\n",
       "\u001b[38;2;221;0;0;48;2;255;255;255mSyntaxError\u001b[0m\u001b[38;2;16;16;16;48;2;255;255;255m: \u001b[0m\u001b[38;2;0;17;170;48;2;255;255;255munterminated string literal (detected at line 2)\u001b[0m\u001b[48;2;255;255;255m                                       \u001b[0m\n",
       "\n",
       "Did you forget a closing quote?                                                                     \n"
      ]
     },
     "metadata": {},
     "output_type": "display_data"
    },
    {
     "data": {
      "text/html": [
       "<script type=\"text/Javascript\"> function toggle_what2(){\n",
       "     var content = document.getElementById('friendly-tb-what-content2');\n",
       "     var btn = document.getElementById('friendly-tb-btn-show-what2');\n",
       "        if (content.style.display === 'none') {\n",
       "            content.style.display = 'block';\n",
       "            btn.textContent = \"Hide what()\";\n",
       "        } else {\n",
       "            content.style.display = 'none';\n",
       "            btn.textContent = \"what()\";\n",
       "       }\n",
       "    }\n",
       "     </script>\n",
       "     <button\n",
       "         id='friendly-tb-btn-show-what2'\n",
       "         onclick='toggle_what2()'\n",
       "         style='display:none '>\n",
       "     what()\n",
       "     </button>\n",
       "    "
      ]
     },
     "metadata": {},
     "output_type": "display_data"
    },
    {
     "data": {
      "text/html": [
       "<div id='friendly-tb-what-content2' style='display:none'><pre style='white-space:pre;overflow-x:auto;line-height:normal'>A <span style=\"color: #dd0000; text-decoration-color: #dd0000; background-color: #ffffff\">SyntaxError</span> occurs when Python cannot understand your code.         \n",
       "</pre></div>"
      ],
      "text/plain": [
       "A \u001b[38;2;221;0;0;48;2;255;255;255mSyntaxError\u001b[0m occurs when Python cannot understand your code.         \n"
      ]
     },
     "metadata": {},
     "output_type": "display_data"
    },
    {
     "data": {
      "text/html": [
       "<script type=\"text/Javascript\"> function toggle_why2(){\n",
       "     var content = document.getElementById('friendly-tb-why-content2');\n",
       "     var btn = document.getElementById('friendly-tb-btn-show-why2');\n",
       "        if (content.style.display === 'none') {\n",
       "            content.style.display = 'block';\n",
       "            btn.textContent = \"Hide why()\";\n",
       "        } else {\n",
       "            content.style.display = 'none';\n",
       "            btn.textContent = \"why()\";\n",
       "       }\n",
       "    }\n",
       "     </script>\n",
       "     <button\n",
       "         id='friendly-tb-btn-show-why2'\n",
       "         onclick='toggle_why2()'\n",
       "         style='display:none '>\n",
       "     why()\n",
       "     </button>\n",
       "    "
      ]
     },
     "metadata": {},
     "output_type": "display_data"
    },
    {
     "data": {
      "text/html": [
       "<div id='friendly-tb-why-content2' style='display:none'><pre style='white-space:pre;overflow-x:auto;line-height:normal'>You started writing a string with a single or double quote but never  \n",
       "ended the string with another quote on that line.                     \n",
       "</pre></div>"
      ],
      "text/plain": [
       "You started writing a string with a single or double quote but never  \n",
       "ended the string with another quote on that line.                     \n"
      ]
     },
     "metadata": {},
     "output_type": "display_data"
    },
    {
     "data": {
      "text/html": [
       "<script type=\"text/Javascript\"> function toggle_where2(){\n",
       "     var content = document.getElementById('friendly-tb-where-content2');\n",
       "     var btn = document.getElementById('friendly-tb-btn-show-where2');\n",
       "        if (content.style.display === 'none') {\n",
       "            content.style.display = 'block';\n",
       "            btn.textContent = \"Hide where()\";\n",
       "        } else {\n",
       "            content.style.display = 'none';\n",
       "            btn.textContent = \"where()\";\n",
       "       }\n",
       "    }\n",
       "     </script>\n",
       "     <button\n",
       "         id='friendly-tb-btn-show-where2'\n",
       "         onclick='toggle_where2()'\n",
       "         style='display:none '>\n",
       "     where()\n",
       "     </button>\n",
       "    "
      ]
     },
     "metadata": {},
     "output_type": "display_data"
    },
    {
     "data": {
      "text/html": [
       "<div id='friendly-tb-where-content2' style='display:none'><pre style='white-space:pre;overflow-x:auto;line-height:normal'>Python could not understand the code in the code block <span style=\"color: #783114; text-decoration-color: #783114; background-color: #ffffff\">[</span><span style=\"color: #101010; text-decoration-color: #101010; background-color: #ffffff\">16</span><span style=\"color: #783114; text-decoration-color: #783114; background-color: #ffffff\">]</span> at the location indicated.              \n",
       "\n",
       "<span style=\"color: #808080; text-decoration-color: #808080; background-color: #ffffff\">       2|</span><span style=\"color: #005500; text-decoration-color: #005500; background-color: #ffffff\"> print</span><span style=\"color: #783114; text-decoration-color: #783114; background-color: #ffffff\"> (</span><span style=\"color: #8b008b; text-decoration-color: #8b008b; background-color: #ffffff\">'Hello,'</span><span style=\"color: #783114; text-decoration-color: #783114; background-color: #ffffff\"> +</span><span style=\"color: #0011aa; text-decoration-color: #0011aa; background-color: #ffffff\"> name</span><span style=\"color: #783114; text-decoration-color: #783114; background-color: #ffffff\"> +</span><span style=\"color: #808080; text-decoration-color: #808080; background-color: #ffffff\"> </span><span style=\"color: #ffffff; text-decoration-color: #ffffff; background-color: #cc0000\">'</span><span style=\"color: #0011aa; text-decoration-color: #0011aa; background-color: #ffffff\"> Good Morning</span><span style=\"color: #783114; text-decoration-color: #783114; background-color: #ffffff\">)</span>\n",
       "</pre></div>"
      ],
      "text/plain": [
       "Python could not understand the code in the code block \u001b[38;2;120;49;20;48;2;255;255;255m[\u001b[0m\u001b[38;2;16;16;16;48;2;255;255;255m16\u001b[0m\u001b[38;2;120;49;20;48;2;255;255;255m]\u001b[0m at the location indicated.              \n",
       "\n",
       "\u001b[38;2;128;128;128;48;2;255;255;255m       2|\u001b[0m\u001b[38;2;0;85;0;48;2;255;255;255m print\u001b[0m\u001b[38;2;120;49;20;48;2;255;255;255m (\u001b[0m\u001b[38;2;139;0;139;48;2;255;255;255m'Hello,'\u001b[0m\u001b[38;2;120;49;20;48;2;255;255;255m +\u001b[0m\u001b[38;2;0;17;170;48;2;255;255;255m name\u001b[0m\u001b[38;2;120;49;20;48;2;255;255;255m +\u001b[0m\u001b[38;2;128;128;128;48;2;255;255;255m \u001b[0m\u001b[38;2;255;255;255;48;2;204;0;0m'\u001b[0m\u001b[38;2;0;17;170;48;2;255;255;255m Good\u001b[0m\u001b[38;2;0;17;170;48;2;255;255;255m Morning\u001b[0m\u001b[38;2;120;49;20;48;2;255;255;255m)\u001b[0m\n"
      ]
     },
     "metadata": {},
     "output_type": "display_data"
    }
   ],
   "source": [
    "name = input('What is your name?: ')\n",
    "print ('Hello,' + name + ' Good Morning)"
   ]
  },
  {
   "cell_type": "code",
   "execution_count": 17,
   "id": "fd5278eb",
   "metadata": {},
   "outputs": [
    {
     "data": {
      "text/html": [
       "<pre style='white-space:pre;overflow-x:auto;line-height:normal'><span style=\"color: #266290; text-decoration-color: #266290\">True</span>\n",
       "</pre>"
      ],
      "text/plain": [
       "\u001b[38;2;38;98;144mTrue\u001b[0m\n"
      ]
     },
     "metadata": {},
     "output_type": "display_data"
    }
   ],
   "source": [
    "y = 20\n",
    "x = 20\n",
    "x == y"
   ]
  },
  {
   "cell_type": "code",
   "execution_count": 18,
   "id": "c192130f",
   "metadata": {},
   "outputs": [
    {
     "data": {
      "text/html": [
       "<pre style='white-space:pre;overflow-x:auto;line-height:normal'><span style=\"color: #266290; text-decoration-color: #266290\">False</span>\n",
       "</pre>"
      ],
      "text/plain": [
       "\u001b[38;2;38;98;144mFalse\u001b[0m\n"
      ]
     },
     "metadata": {},
     "output_type": "display_data"
    }
   ],
   "source": [
    "y = 4\n",
    "y = 5\n",
    "x == y"
   ]
  },
  {
   "cell_type": "code",
   "execution_count": 21,
   "id": "be1dbfa9",
   "metadata": {},
   "outputs": [
    {
     "data": {
      "text/html": [
       "<pre style='white-space:pre;overflow-x:auto;line-height:normal'><span style=\"color: #266290; text-decoration-color: #266290\">True</span>\n",
       "</pre>"
      ],
      "text/plain": [
       "\u001b[38;2;38;98;144mTrue\u001b[0m\n"
      ]
     },
     "metadata": {},
     "output_type": "display_data"
    }
   ],
   "source": [
    "name = 'Robert'\n",
    "name == 'Robert'\n"
   ]
  },
  {
   "cell_type": "code",
   "execution_count": 29,
   "id": "38c8c57e",
   "metadata": {},
   "outputs": [
    {
     "name": "stdout",
     "output_type": "stream",
     "text": [
      "Enter your name:Robert\n",
      "Hi, boss!\n",
      "So good to see you again!\n"
     ]
    }
   ],
   "source": [
    "name = input('Enter your name:')\n",
    "if name == 'Robert':\n",
    "    print('Hi, boss!')\n",
    "    print('So good to see you again!')\n",
    "else:\n",
    "    print('Hello, ' + name + '!')\n",
    "    "
   ]
  },
  {
   "cell_type": "code",
   "execution_count": 28,
   "id": "15b791bd",
   "metadata": {},
   "outputs": [
    {
     "name": "stdout",
     "output_type": "stream",
     "text": [
      "Enter your name:Reuven\n",
      "Hello, Reuven!\n"
     ]
    }
   ],
   "source": [
    "name = input('Enter your name:')\n",
    "if name == 'Robert':\n",
    "    print('Hi, boss!')\n",
    "    print('So good to see you again!')\n",
    "else:\n",
    "    print('Hello, ' + name + '!')"
   ]
  },
  {
   "cell_type": "code",
   "execution_count": 33,
   "id": "b0537615",
   "metadata": {
    "scrolled": true
   },
   "outputs": [
    {
     "name": "stdout",
     "output_type": "stream",
     "text": [
      "Enter your name:Reuven\n",
      "Hi imposter, go away + name + !!\n"
     ]
    }
   ],
   "source": [
    "name = input('Enter your name:')\n",
    "if name == 'Robert':\n",
    "    print ('Hi Robert!')\n",
    "    print ('So good to see you today!')\n",
    "else:\n",
    "    print('Hi imposter, go away + name + !!')"
   ]
  },
  {
   "cell_type": "code",
   "execution_count": 45,
   "id": "6aa62e9e",
   "metadata": {},
   "outputs": [
    {
     "data": {
      "text/html": [
       "<div id='friendly-message21'><pre style='white-space:pre;overflow-x:auto;line-height:normal'><span style=\"color: #dd0000; text-decoration-color: #dd0000; background-color: #ffffff\">SyntaxError</span>: invalid syntax                                           \n",
       "</pre></div>"
      ],
      "text/plain": [
       "\u001b[38;2;221;0;0;48;2;255;255;255mSyntaxError\u001b[0m: invalid syntax                                           \n"
      ]
     },
     "metadata": {},
     "output_type": "display_data"
    },
    {
     "data": {
      "text/html": [
       "\n",
       "        <button\n",
       "            id='friendly-tb-btn-show21'\n",
       "            onclick='friendly_toggle_more21()'\n",
       "            style=''>\n",
       "        More ...\n",
       "        </button>\n",
       "        <script type=\"text/Javascript\"> function friendly_toggle_more21(){\n",
       "        var btn = document.getElementById('friendly-tb-btn-show21');\n",
       "        var btn_what = document.getElementById('friendly-tb-btn-show-what21');\n",
       "        var btn_where = document.getElementById('friendly-tb-btn-show-where21');\n",
       "        var btn_why = document.getElementById('friendly-tb-btn-show-why21');\n",
       "        ;\n",
       "        var message = document.getElementById('friendly-message21');\n",
       "        var friendly_tb_content = document.getElementById('friendly-tb-friendly_tb-content21');\n",
       "        var what_content = document.getElementById('friendly-tb-what-content21');\n",
       "        var why_content = document.getElementById('friendly-tb-why-content21');\n",
       "        var where_content = document.getElementById('friendly-tb-where-content21');\n",
       "        ;\n",
       "\n",
       "        if (btn_what.style.display == 'none'){\n",
       "            message.style.display = 'none';\n",
       "            btn_what.style.display = 'block';\n",
       "            btn_why.style.display = 'block';\n",
       "            btn_where.style.display = 'block';\n",
       "            friendly_tb_content.style.display = 'block';\n",
       "            ;\n",
       "            btn.textContent = \"Show message only\";\n",
       "            ;\n",
       "        } else {\n",
       "            btn_what.style.display = 'none';\n",
       "            btn_what.textContent = 'what()';\n",
       "            btn_why.style.display = 'none';\n",
       "            btn_why.textContent = 'why()';\n",
       "            btn_where.style.display = 'none';\n",
       "            btn_where.textContent = 'where()';\n",
       "            what_content.style.display = 'none';\n",
       "            why_content.style.display = 'none';\n",
       "            where_content.style.display = 'none';\n",
       "            ;\n",
       "            friendly_tb_content.style.display = 'none';\n",
       "            message.style.display = 'block';\n",
       "            btn.textContent = \"More ...\";\n",
       "            ;\n",
       "        }\n",
       "        };\n",
       "        </script>\n",
       "        "
      ]
     },
     "metadata": {},
     "output_type": "display_data"
    },
    {
     "data": {
      "text/html": [
       "<div id='friendly-tb-friendly_tb-content21' style='display:none'><pre style='white-space:pre;overflow-x:auto;line-height:normal'><span style=\"color: #101010; text-decoration-color: #101010; background-color: #ffffff\">  Code block </span><span style=\"color: #783114; text-decoration-color: #783114; background-color: #ffffff\">[</span><span style=\"color: #101010; text-decoration-color: #101010; background-color: #ffffff\">45</span><span style=\"color: #783114; text-decoration-color: #783114; background-color: #ffffff\">]</span><span style=\"color: #101010; text-decoration-color: #101010; background-color: #ffffff\">, line 8</span><span style=\"background-color: #ffffff\">                                                                           </span>\n",
       "<span style=\"color: #101010; text-decoration-color: #101010; background-color: #ffffff\">    </span><span style=\"color: #783114; text-decoration-color: #783114; background-color: #ffffff\">&gt;</span><span style=\"color: #101010; text-decoration-color: #101010; background-color: #ffffff\"> </span><span style=\"color: #783114; text-decoration-color: #783114; background-color: #ffffff\">(</span><span style=\"color: #0011aa; text-decoration-color: #0011aa; background-color: #ffffff\">number</span><span style=\"color: #783114; text-decoration-color: #783114; background-color: #ffffff\">)</span><span style=\"background-color: #ffffff\">                                                                                      </span>\n",
       "<span style=\"color: #101010; text-decoration-color: #101010; background-color: #ffffff\">    </span><span style=\"color: #783114; text-decoration-color: #783114; background-color: #ffffff\">^</span><span style=\"background-color: #ffffff\">                                                                                               </span>\n",
       "<span style=\"color: #dd0000; text-decoration-color: #dd0000; background-color: #ffffff\">SyntaxError</span><span style=\"color: #101010; text-decoration-color: #101010; background-color: #ffffff\">: </span><span style=\"color: #0011aa; text-decoration-color: #0011aa; background-color: #ffffff\">invalid syntax</span><span style=\"background-color: #ffffff\">                                                                         </span>\n",
       "\n",
       "Did you write <span style=\"color: #783114; text-decoration-color: #783114; background-color: #ffffff\">&gt;</span> by mistake?                                                                         \n",
       "</pre></div>"
      ],
      "text/plain": [
       "\u001b[38;2;16;16;16;48;2;255;255;255m  Code block \u001b[0m\u001b[38;2;120;49;20;48;2;255;255;255m[\u001b[0m\u001b[38;2;16;16;16;48;2;255;255;255m45\u001b[0m\u001b[38;2;120;49;20;48;2;255;255;255m]\u001b[0m\u001b[38;2;16;16;16;48;2;255;255;255m, line \u001b[0m\u001b[38;2;16;16;16;48;2;255;255;255m8\u001b[0m\u001b[48;2;255;255;255m                                                                           \u001b[0m\n",
       "\u001b[38;2;16;16;16;48;2;255;255;255m    \u001b[0m\u001b[38;2;120;49;20;48;2;255;255;255m>\u001b[0m\u001b[38;2;16;16;16;48;2;255;255;255m \u001b[0m\u001b[38;2;120;49;20;48;2;255;255;255m(\u001b[0m\u001b[38;2;0;17;170;48;2;255;255;255mnumber\u001b[0m\u001b[38;2;120;49;20;48;2;255;255;255m)\u001b[0m\u001b[48;2;255;255;255m                                                                                      \u001b[0m\n",
       "\u001b[38;2;16;16;16;48;2;255;255;255m    \u001b[0m\u001b[38;2;120;49;20;48;2;255;255;255m^\u001b[0m\u001b[48;2;255;255;255m                                                                                               \u001b[0m\n",
       "\u001b[38;2;221;0;0;48;2;255;255;255mSyntaxError\u001b[0m\u001b[38;2;16;16;16;48;2;255;255;255m: \u001b[0m\u001b[38;2;0;17;170;48;2;255;255;255minvalid syntax\u001b[0m\u001b[48;2;255;255;255m                                                                         \u001b[0m\n",
       "\n",
       "Did you write \u001b[38;2;120;49;20;48;2;255;255;255m>\u001b[0m by mistake?                                                                         \n"
      ]
     },
     "metadata": {},
     "output_type": "display_data"
    },
    {
     "data": {
      "text/html": [
       "<script type=\"text/Javascript\"> function toggle_what21(){\n",
       "     var content = document.getElementById('friendly-tb-what-content21');\n",
       "     var btn = document.getElementById('friendly-tb-btn-show-what21');\n",
       "        if (content.style.display === 'none') {\n",
       "            content.style.display = 'block';\n",
       "            btn.textContent = \"Hide what()\";\n",
       "        } else {\n",
       "            content.style.display = 'none';\n",
       "            btn.textContent = \"what()\";\n",
       "       }\n",
       "    }\n",
       "     </script>\n",
       "     <button\n",
       "         id='friendly-tb-btn-show-what21'\n",
       "         onclick='toggle_what21()'\n",
       "         style='display:none '>\n",
       "     what()\n",
       "     </button>\n",
       "    "
      ]
     },
     "metadata": {},
     "output_type": "display_data"
    },
    {
     "data": {
      "text/html": [
       "<div id='friendly-tb-what-content21' style='display:none'><pre style='white-space:pre;overflow-x:auto;line-height:normal'>A <span style=\"color: #dd0000; text-decoration-color: #dd0000; background-color: #ffffff\">SyntaxError</span> occurs when Python cannot understand your code.         \n",
       "</pre></div>"
      ],
      "text/plain": [
       "A \u001b[38;2;221;0;0;48;2;255;255;255mSyntaxError\u001b[0m occurs when Python cannot understand your code.         \n"
      ]
     },
     "metadata": {},
     "output_type": "display_data"
    },
    {
     "data": {
      "text/html": [
       "<script type=\"text/Javascript\"> function toggle_why21(){\n",
       "     var content = document.getElementById('friendly-tb-why-content21');\n",
       "     var btn = document.getElementById('friendly-tb-btn-show-why21');\n",
       "        if (content.style.display === 'none') {\n",
       "            content.style.display = 'block';\n",
       "            btn.textContent = \"Hide why()\";\n",
       "        } else {\n",
       "            content.style.display = 'none';\n",
       "            btn.textContent = \"why()\";\n",
       "       }\n",
       "    }\n",
       "     </script>\n",
       "     <button\n",
       "         id='friendly-tb-btn-show-why21'\n",
       "         onclick='toggle_why21()'\n",
       "         style='display:none '>\n",
       "     why()\n",
       "     </button>\n",
       "    "
      ]
     },
     "metadata": {},
     "output_type": "display_data"
    },
    {
     "data": {
      "text/html": [
       "<div id='friendly-tb-why-content21' style='display:none'><pre style='white-space:pre;overflow-x:auto;line-height:normal'>I am guessing that you wrote <span style=\"color: #783114; text-decoration-color: #783114; background-color: #ffffff\">&gt;</span> by mistake. Removing it and writing    \n",
       "<span style=\"color: #783114; text-decoration-color: #783114; background-color: #ffffff\">(</span><span style=\"color: #0011aa; text-decoration-color: #0011aa; background-color: #ffffff\">number</span><span style=\"color: #783114; text-decoration-color: #783114; background-color: #ffffff\">)</span> seems to fix the error.                                      \n",
       "</pre></div>"
      ],
      "text/plain": [
       "I am guessing that you wrote \u001b[38;2;120;49;20;48;2;255;255;255m>\u001b[0m by mistake. Removing it and writing    \n",
       "\u001b[38;2;120;49;20;48;2;255;255;255m(\u001b[0m\u001b[38;2;0;17;170;48;2;255;255;255mnumber\u001b[0m\u001b[38;2;120;49;20;48;2;255;255;255m)\u001b[0m seems to fix the error.                                      \n"
      ]
     },
     "metadata": {},
     "output_type": "display_data"
    },
    {
     "data": {
      "text/html": [
       "<script type=\"text/Javascript\"> function toggle_where21(){\n",
       "     var content = document.getElementById('friendly-tb-where-content21');\n",
       "     var btn = document.getElementById('friendly-tb-btn-show-where21');\n",
       "        if (content.style.display === 'none') {\n",
       "            content.style.display = 'block';\n",
       "            btn.textContent = \"Hide where()\";\n",
       "        } else {\n",
       "            content.style.display = 'none';\n",
       "            btn.textContent = \"where()\";\n",
       "       }\n",
       "    }\n",
       "     </script>\n",
       "     <button\n",
       "         id='friendly-tb-btn-show-where21'\n",
       "         onclick='toggle_where21()'\n",
       "         style='display:none '>\n",
       "     where()\n",
       "     </button>\n",
       "    "
      ]
     },
     "metadata": {},
     "output_type": "display_data"
    },
    {
     "data": {
      "text/html": [
       "<div id='friendly-tb-where-content21' style='display:none'><pre style='white-space:pre;overflow-x:auto;line-height:normal'>Python could not understand the code in the code block <span style=\"color: #783114; text-decoration-color: #783114; background-color: #ffffff\">[</span><span style=\"color: #101010; text-decoration-color: #101010; background-color: #ffffff\">45</span><span style=\"color: #783114; text-decoration-color: #783114; background-color: #ffffff\">]</span> at the location indicated.              \n",
       "\n",
       "<span style=\"color: #808080; text-decoration-color: #808080; background-color: #ffffff\">       8|     </span><span style=\"color: #ffffff; text-decoration-color: #ffffff; background-color: #cc0000\">&gt;</span><span style=\"color: #783114; text-decoration-color: #783114; background-color: #ffffff\"> (</span><span style=\"color: #0011aa; text-decoration-color: #0011aa; background-color: #ffffff\">number</span><span style=\"color: #783114; text-decoration-color: #783114; background-color: #ffffff\">)</span>\n",
       "</pre></div>"
      ],
      "text/plain": [
       "Python could not understand the code in the code block \u001b[38;2;120;49;20;48;2;255;255;255m[\u001b[0m\u001b[38;2;16;16;16;48;2;255;255;255m45\u001b[0m\u001b[38;2;120;49;20;48;2;255;255;255m]\u001b[0m at the location indicated.              \n",
       "\n",
       "\u001b[38;2;128;128;128;48;2;255;255;255m       8|     \u001b[0m\u001b[38;2;255;255;255;48;2;204;0;0m>\u001b[0m\u001b[38;2;120;49;20;48;2;255;255;255m (\u001b[0m\u001b[38;2;0;17;170;48;2;255;255;255mnumber\u001b[0m\u001b[38;2;120;49;20;48;2;255;255;255m)\u001b[0m\n"
      ]
     },
     "metadata": {},
     "output_type": "display_data"
    }
   ],
   "source": [
    "import random\n",
    "number = random.randint(0, 100)\n",
    "print (number)\n",
    "number = ('What is your guess?:')\n",
    "if ('What is your guess?:') == (number):\n",
    "    print ('Congratuations!!')\n",
    "else:\n",
    "    > (number)\n",
    "    print ('Sorry too low')\n",
    "    < \n",
    "    print ('Sorry too high')\n"
   ]
  },
  {
   "cell_type": "code",
   "execution_count": 46,
   "id": "3cec0c8b",
   "metadata": {},
   "outputs": [
    {
     "name": "stdout",
     "output_type": "stream",
     "text": [
      "81\n"
     ]
    },
    {
     "data": {
      "text/html": [
       "<div id='friendly-message22'><pre style='white-space:pre;overflow-x:auto;line-height:normal'><span style=\"color: #dd0000; text-decoration-color: #dd0000; background-color: #ffffff\">TypeError</span>: 'str' object is not callable                               \n",
       "</pre></div>"
      ],
      "text/plain": [
       "\u001b[38;2;221;0;0;48;2;255;255;255mTypeError\u001b[0m: 'str' object is not callable                               \n"
      ]
     },
     "metadata": {},
     "output_type": "display_data"
    },
    {
     "data": {
      "text/html": [
       "\n",
       "        <button\n",
       "            id='friendly-tb-btn-show22'\n",
       "            onclick='friendly_toggle_more22()'\n",
       "            style=''>\n",
       "        More ...\n",
       "        </button>\n",
       "        <script type=\"text/Javascript\"> function friendly_toggle_more22(){\n",
       "        var btn = document.getElementById('friendly-tb-btn-show22');\n",
       "        var btn_what = document.getElementById('friendly-tb-btn-show-what22');\n",
       "        var btn_where = document.getElementById('friendly-tb-btn-show-where22');\n",
       "        var btn_why = document.getElementById('friendly-tb-btn-show-why22');\n",
       "        ;\n",
       "        var message = document.getElementById('friendly-message22');\n",
       "        var friendly_tb_content = document.getElementById('friendly-tb-friendly_tb-content22');\n",
       "        var what_content = document.getElementById('friendly-tb-what-content22');\n",
       "        var why_content = document.getElementById('friendly-tb-why-content22');\n",
       "        var where_content = document.getElementById('friendly-tb-where-content22');\n",
       "        ;\n",
       "\n",
       "        if (btn_what.style.display == 'none'){\n",
       "            message.style.display = 'none';\n",
       "            btn_what.style.display = 'block';\n",
       "            btn_why.style.display = 'block';\n",
       "            btn_where.style.display = 'block';\n",
       "            friendly_tb_content.style.display = 'block';\n",
       "            ;\n",
       "            btn.textContent = \"Show message only\";\n",
       "            ;\n",
       "        } else {\n",
       "            btn_what.style.display = 'none';\n",
       "            btn_what.textContent = 'what()';\n",
       "            btn_why.style.display = 'none';\n",
       "            btn_why.textContent = 'why()';\n",
       "            btn_where.style.display = 'none';\n",
       "            btn_where.textContent = 'where()';\n",
       "            what_content.style.display = 'none';\n",
       "            why_content.style.display = 'none';\n",
       "            where_content.style.display = 'none';\n",
       "            ;\n",
       "            friendly_tb_content.style.display = 'none';\n",
       "            message.style.display = 'block';\n",
       "            btn.textContent = \"More ...\";\n",
       "            ;\n",
       "        }\n",
       "        };\n",
       "        </script>\n",
       "        "
      ]
     },
     "metadata": {},
     "output_type": "display_data"
    },
    {
     "data": {
      "text/html": [
       "<div id='friendly-tb-friendly_tb-content22' style='display:none'><pre style='white-space:pre;overflow-x:auto;line-height:normal'><span style=\"color: #dd0000; text-decoration-color: #dd0000; background-color: #ffffff\">Traceback (most recent call last):</span><span style=\"background-color: #ffffff\">                                                                  </span>\n",
       "<span style=\"color: #101010; text-decoration-color: #101010; background-color: #ffffff\">  Code block </span><span style=\"color: #783114; text-decoration-color: #783114; background-color: #ffffff\">[</span><span style=\"color: #101010; text-decoration-color: #101010; background-color: #ffffff\">46</span><span style=\"color: #783114; text-decoration-color: #783114; background-color: #ffffff\">]</span><span style=\"color: #101010; text-decoration-color: #101010; background-color: #ffffff\">, line 6</span><span style=\"background-color: #ffffff\">                                                                           </span>\n",
       "<span style=\"color: #101010; text-decoration-color: #101010; background-color: #ffffff\">    </span><span style=\"color: #0011aa; text-decoration-color: #0011aa; background-color: #ffffff\">guess</span><span style=\"color: #101010; text-decoration-color: #101010; background-color: #ffffff\"> </span><span style=\"color: #783114; text-decoration-color: #783114; background-color: #ffffff\">=</span><span style=\"color: #101010; text-decoration-color: #101010; background-color: #ffffff\"> </span><span style=\"color: #005500; text-decoration-color: #005500; background-color: #ffffff\">input</span><span style=\"color: #783114; text-decoration-color: #783114; background-color: #ffffff\">(</span><span style=\"color: #8b008b; text-decoration-color: #8b008b; background-color: #ffffff\">'Guess: '</span><span style=\"color: #783114; text-decoration-color: #783114; background-color: #ffffff\">)</span><span style=\"background-color: #ffffff\">                                                                        </span>\n",
       "<span style=\"color: #dd0000; text-decoration-color: #dd0000; background-color: #ffffff\">TypeError</span><span style=\"color: #101010; text-decoration-color: #101010; background-color: #ffffff\">: </span><span style=\"color: #0011aa; text-decoration-color: #0011aa; background-color: #ffffff\">'str' object is not callable</span><span style=\"background-color: #ffffff\">                                                             </span>\n",
       "\n",
       "<span style=\"color: #cc4400; text-decoration-color: #cc4400\">Warning: you have redefined the python builtin </span><span style=\"color: #005500; text-decoration-color: #005500; background-color: #ffffff\">input</span><span style=\"color: #cc4400; text-decoration-color: #cc4400\">.</span>                                               \n",
       "</pre></div>"
      ],
      "text/plain": [
       "\u001b[38;2;221;0;0;48;2;255;255;255mTraceback (most recent call last):\u001b[0m\u001b[48;2;255;255;255m                                                                  \u001b[0m\n",
       "\u001b[38;2;16;16;16;48;2;255;255;255m  Code block \u001b[0m\u001b[38;2;120;49;20;48;2;255;255;255m[\u001b[0m\u001b[38;2;16;16;16;48;2;255;255;255m46\u001b[0m\u001b[38;2;120;49;20;48;2;255;255;255m]\u001b[0m\u001b[38;2;16;16;16;48;2;255;255;255m, line \u001b[0m\u001b[38;2;16;16;16;48;2;255;255;255m6\u001b[0m\u001b[48;2;255;255;255m                                                                           \u001b[0m\n",
       "\u001b[38;2;16;16;16;48;2;255;255;255m    \u001b[0m\u001b[38;2;0;17;170;48;2;255;255;255mguess\u001b[0m\u001b[38;2;16;16;16;48;2;255;255;255m \u001b[0m\u001b[38;2;120;49;20;48;2;255;255;255m=\u001b[0m\u001b[38;2;16;16;16;48;2;255;255;255m \u001b[0m\u001b[38;2;0;85;0;48;2;255;255;255minput\u001b[0m\u001b[38;2;120;49;20;48;2;255;255;255m(\u001b[0m\u001b[38;2;139;0;139;48;2;255;255;255m'\u001b[0m\u001b[38;2;139;0;139;48;2;255;255;255mGuess: \u001b[0m\u001b[38;2;139;0;139;48;2;255;255;255m'\u001b[0m\u001b[38;2;120;49;20;48;2;255;255;255m)\u001b[0m\u001b[48;2;255;255;255m                                                                        \u001b[0m\n",
       "\u001b[38;2;221;0;0;48;2;255;255;255mTypeError\u001b[0m\u001b[38;2;16;16;16;48;2;255;255;255m: \u001b[0m\u001b[38;2;0;17;170;48;2;255;255;255m'str' object is not callable\u001b[0m\u001b[48;2;255;255;255m                                                             \u001b[0m\n",
       "\n",
       "\u001b[38;2;204;68;0mWarning: you have redefined the python builtin \u001b[0m\u001b[38;2;0;85;0;48;2;255;255;255minput\u001b[0m\u001b[38;2;204;68;0m.\u001b[0m                                               \n"
      ]
     },
     "metadata": {},
     "output_type": "display_data"
    },
    {
     "data": {
      "text/html": [
       "<script type=\"text/Javascript\"> function toggle_what22(){\n",
       "     var content = document.getElementById('friendly-tb-what-content22');\n",
       "     var btn = document.getElementById('friendly-tb-btn-show-what22');\n",
       "        if (content.style.display === 'none') {\n",
       "            content.style.display = 'block';\n",
       "            btn.textContent = \"Hide what()\";\n",
       "        } else {\n",
       "            content.style.display = 'none';\n",
       "            btn.textContent = \"what()\";\n",
       "       }\n",
       "    }\n",
       "     </script>\n",
       "     <button\n",
       "         id='friendly-tb-btn-show-what22'\n",
       "         onclick='toggle_what22()'\n",
       "         style='display:none '>\n",
       "     what()\n",
       "     </button>\n",
       "    "
      ]
     },
     "metadata": {},
     "output_type": "display_data"
    },
    {
     "data": {
      "text/html": [
       "<div id='friendly-tb-what-content22' style='display:none'><pre style='white-space:pre;overflow-x:auto;line-height:normal'>A <span style=\"color: #dd0000; text-decoration-color: #dd0000; background-color: #ffffff\">TypeError</span> is usually caused by trying to combine two incompatible   \n",
       "types of objects, by calling a function with the wrong type of object,\n",
       "or by trying to do an operation not allowed on a given type of object.\n",
       "</pre></div>"
      ],
      "text/plain": [
       "A \u001b[38;2;221;0;0;48;2;255;255;255mTypeError\u001b[0m is usually caused by trying to combine two incompatible   \n",
       "types of objects, by calling a function with the wrong type of object,\n",
       "or by trying to do an operation not allowed on a given type of object.\n"
      ]
     },
     "metadata": {},
     "output_type": "display_data"
    },
    {
     "data": {
      "text/html": [
       "<script type=\"text/Javascript\"> function toggle_why22(){\n",
       "     var content = document.getElementById('friendly-tb-why-content22');\n",
       "     var btn = document.getElementById('friendly-tb-btn-show-why22');\n",
       "        if (content.style.display === 'none') {\n",
       "            content.style.display = 'block';\n",
       "            btn.textContent = \"Hide why()\";\n",
       "        } else {\n",
       "            content.style.display = 'none';\n",
       "            btn.textContent = \"why()\";\n",
       "       }\n",
       "    }\n",
       "     </script>\n",
       "     <button\n",
       "         id='friendly-tb-btn-show-why22'\n",
       "         onclick='toggle_why22()'\n",
       "         style='display:none '>\n",
       "     why()\n",
       "     </button>\n",
       "    "
      ]
     },
     "metadata": {},
     "output_type": "display_data"
    },
    {
     "data": {
      "text/html": [
       "<div id='friendly-tb-why-content22' style='display:none'><pre style='white-space:pre;overflow-x:auto;line-height:normal'><span style=\"color: #cc4400; text-decoration-color: #cc4400\">Warning: you have redefined the python builtin </span><span style=\"color: #005500; text-decoration-color: #005500; background-color: #ffffff\">input</span><span style=\"color: #cc4400; text-decoration-color: #cc4400\">.</span>                 \n",
       "\n",
       "Because of the surrounding parenthesis, <span style=\"color: #783114; text-decoration-color: #783114; background-color: #ffffff\">(</span><span style=\"color: #8b008b; text-decoration-color: #8b008b; background-color: #ffffff\">'Guess: '</span><span style=\"color: #783114; text-decoration-color: #783114; background-color: #ffffff\">)</span> is interpreted by \n",
       "Python as indicating a function call for <span style=\"color: #005500; text-decoration-color: #005500; background-color: #ffffff\">input</span>, which is an object of \n",
       "type <span style=\"color: #005500; text-decoration-color: #005500; background-color: #ffffff\">str</span> which cannot be called.                                      \n",
       "</pre></div>"
      ],
      "text/plain": [
       "\u001b[38;2;204;68;0mWarning: you have redefined the python builtin \u001b[0m\u001b[38;2;0;85;0;48;2;255;255;255minput\u001b[0m\u001b[38;2;204;68;0m.\u001b[0m                 \n",
       "\n",
       "Because of the surrounding parenthesis, \u001b[38;2;120;49;20;48;2;255;255;255m(\u001b[0m\u001b[38;2;139;0;139;48;2;255;255;255m'\u001b[0m\u001b[38;2;139;0;139;48;2;255;255;255mGuess: \u001b[0m\u001b[38;2;139;0;139;48;2;255;255;255m'\u001b[0m\u001b[38;2;120;49;20;48;2;255;255;255m)\u001b[0m is interpreted by \n",
       "Python as indicating a function call for \u001b[38;2;0;85;0;48;2;255;255;255minput\u001b[0m, which is an object of \n",
       "type \u001b[38;2;0;85;0;48;2;255;255;255mstr\u001b[0m which cannot be called.                                      \n"
      ]
     },
     "metadata": {},
     "output_type": "display_data"
    },
    {
     "data": {
      "text/html": [
       "<script type=\"text/Javascript\"> function toggle_where22(){\n",
       "     var content = document.getElementById('friendly-tb-where-content22');\n",
       "     var btn = document.getElementById('friendly-tb-btn-show-where22');\n",
       "        if (content.style.display === 'none') {\n",
       "            content.style.display = 'block';\n",
       "            btn.textContent = \"Hide where()\";\n",
       "        } else {\n",
       "            content.style.display = 'none';\n",
       "            btn.textContent = \"where()\";\n",
       "       }\n",
       "    }\n",
       "     </script>\n",
       "     <button\n",
       "         id='friendly-tb-btn-show-where22'\n",
       "         onclick='toggle_where22()'\n",
       "         style='display:none '>\n",
       "     where()\n",
       "     </button>\n",
       "    "
      ]
     },
     "metadata": {},
     "output_type": "display_data"
    },
    {
     "data": {
      "text/html": [
       "<div id='friendly-tb-where-content22' style='display:none'><pre style='white-space:pre;overflow-x:auto;line-height:normal'><span style=\"color: #dd0000; text-decoration-color: #dd0000\">Exception raised on line 6 of code block </span><span style=\"color: #783114; text-decoration-color: #783114; background-color: #ffffff\">[</span><span style=\"color: #101010; text-decoration-color: #101010; background-color: #ffffff\">46</span><span style=\"color: #783114; text-decoration-color: #783114; background-color: #ffffff\">]</span><span style=\"color: #dd0000; text-decoration-color: #dd0000\">.</span>                                                      \n",
       "\n",
       "<span style=\"color: #808080; text-decoration-color: #808080; background-color: #ffffff\">       1|</span><span style=\"color: #0011aa; text-decoration-color: #0011aa; background-color: #ffffff\"> </span><span style=\"color: #005500; text-decoration-color: #005500; background-color: #ffffff\">import</span><span style=\"color: #0011aa; text-decoration-color: #0011aa; background-color: #ffffff\"> random</span>\n",
       "<span style=\"color: #808080; text-decoration-color: #808080; background-color: #ffffff\">       2|</span><span style=\"color: #0011aa; text-decoration-color: #0011aa; background-color: #ffffff\"> number</span><span style=\"color: #783114; text-decoration-color: #783114; background-color: #ffffff\"> =</span><span style=\"color: #0011aa; text-decoration-color: #0011aa; background-color: #ffffff\"> random</span><span style=\"color: #783114; text-decoration-color: #783114; background-color: #ffffff\">.</span><span style=\"color: #0011aa; text-decoration-color: #0011aa; background-color: #ffffff\">randint</span><span style=\"color: #783114; text-decoration-color: #783114; background-color: #ffffff\">(</span><span style=\"color: #101010; text-decoration-color: #101010; background-color: #ffffff\">0</span><span style=\"color: #783114; text-decoration-color: #783114; background-color: #ffffff\">,</span><span style=\"color: #101010; text-decoration-color: #101010; background-color: #ffffff\"> 100</span><span style=\"color: #783114; text-decoration-color: #783114; background-color: #ffffff\">)</span>\n",
       "<span style=\"color: #808080; text-decoration-color: #808080; background-color: #ffffff\">       3|</span><span style=\"color: #0011aa; text-decoration-color: #0011aa; background-color: #ffffff\"> </span>\n",
       "<span style=\"color: #808080; text-decoration-color: #808080; background-color: #ffffff\">       4|</span><span style=\"color: #0011aa; text-decoration-color: #0011aa; background-color: #ffffff\"> </span><span style=\"color: #005500; text-decoration-color: #005500; background-color: #ffffff\">print</span><span style=\"color: #783114; text-decoration-color: #783114; background-color: #ffffff\">(</span><span style=\"color: #0011aa; text-decoration-color: #0011aa; background-color: #ffffff\">number</span><span style=\"color: #783114; text-decoration-color: #783114; background-color: #ffffff\">)</span>\n",
       "<span style=\"color: #808080; text-decoration-color: #808080; background-color: #ffffff\">       5|</span><span style=\"color: #0011aa; text-decoration-color: #0011aa; background-color: #ffffff\"> </span>\n",
       "<span style=\"color: #783114; text-decoration-color: #783114; background-color: #ffffff\">     &gt; </span><span style=\"color: #101010; text-decoration-color: #101010; background-color: #ffffff\">6|</span><span style=\"color: #0011aa; text-decoration-color: #0011aa; background-color: #ffffff\"> guess</span><span style=\"color: #783114; text-decoration-color: #783114; background-color: #ffffff\"> = </span><span style=\"color: #ffffff; text-decoration-color: #ffffff; background-color: #cc0000\">input('Guess: ')</span>\n",
       "<span style=\"color: #808080; text-decoration-color: #808080; background-color: #ffffff\">       7|</span><span style=\"color: #0011aa; text-decoration-color: #0011aa; background-color: #ffffff\"> </span>\n",
       "<span style=\"color: #808080; text-decoration-color: #808080; background-color: #ffffff\">       8|</span><span style=\"color: #0011aa; text-decoration-color: #0011aa; background-color: #ffffff\"> </span><span style=\"color: #005500; text-decoration-color: #005500; background-color: #ffffff\">if</span><span style=\"color: #0011aa; text-decoration-color: #0011aa; background-color: #ffffff\"> guess</span><span style=\"color: #783114; text-decoration-color: #783114; background-color: #ffffff\"> ==</span><span style=\"color: #0011aa; text-decoration-color: #0011aa; background-color: #ffffff\"> number</span><span style=\"color: #783114; text-decoration-color: #783114; background-color: #ffffff\">:</span>\n",
       "\n",
       "<span style=\"color: #101010; text-decoration-color: #101010; background-color: #ffffff\">    </span><span style=\"color: #005500; text-decoration-color: #005500; background-color: #ffffff\">input</span><span style=\"color: #783114; text-decoration-color: #783114; background-color: #ffffff\">:</span><span style=\"color: #101010; text-decoration-color: #101010; background-color: #ffffff\">  </span><span style=\"color: #8b008b; text-decoration-color: #8b008b; background-color: #ffffff\">'What is your guess?:'</span><span style=\"background-color: #ffffff\">                                                                  </span>\n",
       "</pre></div>"
      ],
      "text/plain": [
       "\u001b[38;2;221;0;0mException raised on line 6 of code block \u001b[0m\u001b[38;2;120;49;20;48;2;255;255;255m[\u001b[0m\u001b[38;2;16;16;16;48;2;255;255;255m46\u001b[0m\u001b[38;2;120;49;20;48;2;255;255;255m]\u001b[0m\u001b[38;2;221;0;0m.\u001b[0m                                                      \n",
       "\n",
       "\u001b[38;2;128;128;128;48;2;255;255;255m       1|\u001b[0m\u001b[38;2;0;17;170;48;2;255;255;255m \u001b[0m\u001b[38;2;0;85;0;48;2;255;255;255mimport\u001b[0m\u001b[38;2;0;17;170;48;2;255;255;255m random\u001b[0m\n",
       "\u001b[38;2;128;128;128;48;2;255;255;255m       2|\u001b[0m\u001b[38;2;0;17;170;48;2;255;255;255m \u001b[0m\u001b[38;2;0;17;170;48;2;255;255;255mnumber\u001b[0m\u001b[38;2;120;49;20;48;2;255;255;255m =\u001b[0m\u001b[38;2;0;17;170;48;2;255;255;255m random\u001b[0m\u001b[38;2;120;49;20;48;2;255;255;255m.\u001b[0m\u001b[38;2;0;17;170;48;2;255;255;255mrandint\u001b[0m\u001b[38;2;120;49;20;48;2;255;255;255m(\u001b[0m\u001b[38;2;16;16;16;48;2;255;255;255m0\u001b[0m\u001b[38;2;120;49;20;48;2;255;255;255m,\u001b[0m\u001b[38;2;16;16;16;48;2;255;255;255m 100\u001b[0m\u001b[38;2;120;49;20;48;2;255;255;255m)\u001b[0m\n",
       "\u001b[38;2;128;128;128;48;2;255;255;255m       3|\u001b[0m\u001b[38;2;0;17;170;48;2;255;255;255m \u001b[0m\n",
       "\u001b[38;2;128;128;128;48;2;255;255;255m       4|\u001b[0m\u001b[38;2;0;17;170;48;2;255;255;255m \u001b[0m\u001b[38;2;0;85;0;48;2;255;255;255mprint\u001b[0m\u001b[38;2;120;49;20;48;2;255;255;255m(\u001b[0m\u001b[38;2;0;17;170;48;2;255;255;255mnumber\u001b[0m\u001b[38;2;120;49;20;48;2;255;255;255m)\u001b[0m\n",
       "\u001b[38;2;128;128;128;48;2;255;255;255m       5|\u001b[0m\u001b[38;2;0;17;170;48;2;255;255;255m \u001b[0m\n",
       "\u001b[38;2;120;49;20;48;2;255;255;255m     > \u001b[0m\u001b[38;2;16;16;16;48;2;255;255;255m6|\u001b[0m\u001b[38;2;0;17;170;48;2;255;255;255m guess\u001b[0m\u001b[38;2;120;49;20;48;2;255;255;255m =\u001b[0m\u001b[38;2;120;49;20;48;2;255;255;255m \u001b[0m\u001b[38;2;255;255;255;48;2;204;0;0minput\u001b[0m\u001b[38;2;255;255;255;48;2;204;0;0m(\u001b[0m\u001b[38;2;255;255;255;48;2;204;0;0m'Guess: '\u001b[0m\u001b[38;2;255;255;255;48;2;204;0;0m)\u001b[0m\n",
       "\u001b[38;2;128;128;128;48;2;255;255;255m       7|\u001b[0m\u001b[38;2;0;17;170;48;2;255;255;255m \u001b[0m\n",
       "\u001b[38;2;128;128;128;48;2;255;255;255m       8|\u001b[0m\u001b[38;2;0;17;170;48;2;255;255;255m \u001b[0m\u001b[38;2;0;85;0;48;2;255;255;255mif\u001b[0m\u001b[38;2;0;17;170;48;2;255;255;255m guess\u001b[0m\u001b[38;2;120;49;20;48;2;255;255;255m ==\u001b[0m\u001b[38;2;0;17;170;48;2;255;255;255m number\u001b[0m\u001b[38;2;120;49;20;48;2;255;255;255m:\u001b[0m\n",
       "\n",
       "\u001b[38;2;16;16;16;48;2;255;255;255m    \u001b[0m\u001b[38;2;0;85;0;48;2;255;255;255minput\u001b[0m\u001b[38;2;120;49;20;48;2;255;255;255m:\u001b[0m\u001b[38;2;16;16;16;48;2;255;255;255m  \u001b[0m\u001b[38;2;139;0;139;48;2;255;255;255m'\u001b[0m\u001b[38;2;139;0;139;48;2;255;255;255mWhat is your guess?:\u001b[0m\u001b[38;2;139;0;139;48;2;255;255;255m'\u001b[0m\u001b[48;2;255;255;255m                                                                  \u001b[0m\n"
      ]
     },
     "metadata": {},
     "output_type": "display_data"
    }
   ],
   "source": [
    "import random\n",
    "number = random.randint(0, 100)\n",
    "\n",
    "print(number)\n",
    "\n",
    "guess = input('Guess: ')\n",
    "guess = \n",
    "\n",
    "if guess == number:\n",
    "    print('You got it!')\n",
    "elif guess < number:\n",
    "    print('Too low!')\n",
    "else:\n",
    "    print('Too high!')"
   ]
  },
  {
   "cell_type": "code",
   "execution_count": 47,
   "id": "b7550a9e",
   "metadata": {},
   "outputs": [
    {
     "name": "stdout",
     "output_type": "stream",
     "text": [
      "91\n"
     ]
    }
   ],
   "source": [
    "import random\n",
    "number = random.randint(0, 100)\n",
    "print (number)\n",
    "input ('What is your favorite number?:')\n"
   ]
  },
  {
   "cell_type": "code",
   "execution_count": 49,
   "id": "a163d81f",
   "metadata": {},
   "outputs": [
    {
     "name": "stdout",
     "output_type": "stream",
     "text": [
      "abcd\n",
      "efgh\n",
      "ijkl\n",
      "\n"
     ]
    }
   ],
   "source": [
    "s= \"\"\"abcd\n",
    "efgh\n",
    "ijkl\n",
    "\"\"\"\n",
    "print (s)\n"
   ]
  },
  {
   "cell_type": "code",
   "execution_count": 56,
   "id": "21a47ace",
   "metadata": {},
   "outputs": [
    {
     "data": {
      "text/html": [
       "<pre style='white-space:pre;overflow-x:auto;line-height:normal'><span style=\"color: #8b008b; text-decoration-color: #8b008b\">'q'</span>\n",
       "</pre>"
      ],
      "text/plain": [
       "\u001b[38;2;139;0;139m'q'\u001b[0m\n"
      ]
     },
     "metadata": {},
     "output_type": "display_data"
    }
   ],
   "source": [
    "s = 'abcdefghijklmnopqrstuvwxyz'\n",
    "s[-10]"
   ]
  },
  {
   "cell_type": "code",
   "execution_count": null,
   "id": "bc889a23",
   "metadata": {},
   "outputs": [],
   "source": []
  }
 ],
 "metadata": {
  "kernelspec": {
   "display_name": "Python 3 (ipykernel)",
   "language": "python",
   "name": "python3"
  },
  "language_info": {
   "codemirror_mode": {
    "name": "ipython",
    "version": 3
   },
   "file_extension": ".py",
   "mimetype": "text/x-python",
   "name": "python",
   "nbconvert_exporter": "python",
   "pygments_lexer": "ipython3",
   "version": "3.10.4"
  }
 },
 "nbformat": 4,
 "nbformat_minor": 5
}
