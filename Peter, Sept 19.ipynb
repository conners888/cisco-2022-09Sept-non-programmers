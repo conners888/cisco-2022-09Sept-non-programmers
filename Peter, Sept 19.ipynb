{
 "cells": [
  {
   "cell_type": "markdown",
   "id": "eb63ab66",
   "metadata": {},
   "source": [
    "# Peter - Monday, Sept 19"
   ]
  },
  {
   "cell_type": "code",
   "execution_count": 1,
   "id": "d26b713d",
   "metadata": {},
   "outputs": [
    {
     "name": "stdout",
     "output_type": "stream",
     "text": [
      "Peter\n"
     ]
    }
   ],
   "source": [
    "print ('Peter')"
   ]
  },
  {
   "cell_type": "code",
   "execution_count": 2,
   "id": "694d4fba",
   "metadata": {},
   "outputs": [
    {
     "ename": "SyntaxError",
     "evalue": "Missing parentheses in call to 'print'. Did you mean print(...)? (2617255687.py, line 3)",
     "output_type": "error",
     "traceback": [
      "\u001b[0;36m  Cell \u001b[0;32mIn [2], line 3\u001b[0;36m\u001b[0m\n\u001b[0;31m    print x+y\u001b[0m\n\u001b[0m    ^\u001b[0m\n\u001b[0;31mSyntaxError\u001b[0m\u001b[0;31m:\u001b[0m Missing parentheses in call to 'print'. Did you mean print(...)?\n"
     ]
    }
   ],
   "source": [
    "x='abcd'\n",
    "y=10\n",
    "print x+y"
   ]
  },
  {
   "cell_type": "code",
   "execution_count": 11,
   "id": "117f3b29",
   "metadata": {},
   "outputs": [
    {
     "name": "stdout",
     "output_type": "stream",
     "text": [
      "Enter the namePeter\n"
     ]
    }
   ],
   "source": [
    "name = input('Enter the name')\n",
    "print = ('How are you, ' + name)"
   ]
  },
  {
   "cell_type": "code",
   "execution_count": null,
   "id": "92969183",
   "metadata": {},
   "outputs": [],
   "source": []
  }
 ],
 "metadata": {
  "kernelspec": {
   "display_name": "Python 3 (ipykernel)",
   "language": "python",
   "name": "python3"
  },
  "language_info": {
   "codemirror_mode": {
    "name": "ipython",
    "version": 3
   },
   "file_extension": ".py",
   "mimetype": "text/x-python",
   "name": "python",
   "nbconvert_exporter": "python",
   "pygments_lexer": "ipython3",
   "version": "3.10.4"
  }
 },
 "nbformat": 4,
 "nbformat_minor": 5
}
