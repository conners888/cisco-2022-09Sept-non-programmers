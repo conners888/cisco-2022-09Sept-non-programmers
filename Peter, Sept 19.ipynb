{
 "cells": [
  {
   "cell_type": "markdown",
   "id": "42240681",
   "metadata": {},
   "source": [
    "# Peter - Monday, Sept 19"
   ]
  },
  {
   "cell_type": "code",
   "execution_count": 1,
   "id": "838a79c5",
   "metadata": {},
   "outputs": [
    {
     "name": "stdout",
     "output_type": "stream",
     "text": [
      "Peter\n"
     ]
    }
   ],
   "source": [
    "print ('Peter')"
   ]
  },
  {
   "cell_type": "code",
   "execution_count": 2,
   "id": "0d0ce615",
   "metadata": {},
   "outputs": [
    {
     "ename": "SyntaxError",
     "evalue": "Missing parentheses in call to 'print'. Did you mean print(...)? (2617255687.py, line 3)",
     "output_type": "error",
     "traceback": [
      "\u001b[0;36m  Cell \u001b[0;32mIn [2], line 3\u001b[0;36m\u001b[0m\n\u001b[0;31m    print x+y\u001b[0m\n\u001b[0m    ^\u001b[0m\n\u001b[0;31mSyntaxError\u001b[0m\u001b[0;31m:\u001b[0m Missing parentheses in call to 'print'. Did you mean print(...)?\n"
     ]
    }
   ],
   "source": [
    "x='abcd'\n",
    "y=10\n",
    "print x+y"
   ]
  },
  {
   "cell_type": "code",
   "execution_count": null,
   "id": "f6a1b56f",
   "metadata": {},
   "outputs": [],
   "source": [
    "name = input('Enter the name')\n",
    "print('How are you, ' + name + '!')"
   ]
  },
  {
   "cell_type": "code",
   "execution_count": 13,
   "id": "2062bf4b",
   "metadata": {},
   "outputs": [
    {
     "data": {
      "text/plain": [
       "True"
      ]
     },
     "execution_count": 13,
     "metadata": {},
     "output_type": "execute_result"
    }
   ],
   "source": [
    "x=10\n",
    "y=10\n",
    "x==y"
   ]
  },
  {
   "cell_type": "code",
   "execution_count": 14,
   "id": "fca16cd4",
   "metadata": {},
   "outputs": [
    {
     "data": {
      "text/plain": [
       "False"
      ]
     },
     "execution_count": 14,
     "metadata": {},
     "output_type": "execute_result"
    }
   ],
   "source": [
    "x=10\n",
    "y=20\n",
    "x==y"
   ]
  },
  {
   "cell_type": "markdown",
   "id": "189b4953",
   "metadata": {},
   "source": [
    "# comparicon op.\n",
    "x=10\n",
    "y=10\n",
    "x<=y"
   ]
  },
  {
   "cell_type": "code",
   "execution_count": 17,
   "id": "5f54cbc9",
   "metadata": {},
   "outputs": [
    {
     "ename": "SyntaxError",
     "evalue": "expected ':' (2038108734.py, line 2)",
     "output_type": "error",
     "traceback": [
      "\u001b[0;36m  Cell \u001b[0;32mIn [17], line 2\u001b[0;36m\u001b[0m\n\u001b[0;31m    if name =='peter'\u001b[0m\n\u001b[0m                     ^\u001b[0m\n\u001b[0;31mSyntaxError\u001b[0m\u001b[0;31m:\u001b[0m expected ':'\n"
     ]
    }
   ],
   "source": [
    "name = input('eneter name')\n",
    "if name =='peter'\n",
    "    print (high boss)"
   ]
  },
  {
   "cell_type": "code",
   "execution_count": null,
   "id": "71e164d4",
   "metadata": {},
   "outputs": [],
   "source": []
  }
 ],
 "metadata": {
  "kernelspec": {
   "display_name": "Python 3 (ipykernel)",
   "language": "python",
   "name": "python3"
  },
  "language_info": {
   "codemirror_mode": {
    "name": "ipython",
    "version": 3
   },
   "file_extension": ".py",
   "mimetype": "text/x-python",
   "name": "python",
   "nbconvert_exporter": "python",
   "pygments_lexer": "ipython3",
   "version": "3.10.4"
  }
 },
 "nbformat": 4,
 "nbformat_minor": 5
}
