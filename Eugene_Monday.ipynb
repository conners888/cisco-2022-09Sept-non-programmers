{
 "cells": [
  {
   "cell_type": "code",
   "execution_count": 1,
   "id": "28fe7dc9",
   "metadata": {},
   "outputs": [
    {
     "name": "stdout",
     "output_type": "stream",
     "text": [
      "Good morning Eugene\n"
     ]
    }
   ],
   "source": [
    "print('Good morning Eugene')"
   ]
  },
  {
   "cell_type": "code",
   "execution_count": 2,
   "id": "10f4b9a8",
   "metadata": {},
   "outputs": [
    {
     "name": "stdout",
     "output_type": "stream",
     "text": [
      "Eugene\n"
     ]
    }
   ],
   "source": [
    "name = 'Eugene'\n",
    "print(name)"
   ]
  },
  {
   "cell_type": "code",
   "execution_count": 3,
   "id": "47f0ba3a",
   "metadata": {},
   "outputs": [
    {
     "data": {
      "text/plain": [
       "str"
      ]
     },
     "execution_count": 3,
     "metadata": {},
     "output_type": "execute_result"
    }
   ],
   "source": [
    "type(name)"
   ]
  },
  {
   "cell_type": "code",
   "execution_count": 6,
   "id": "cae3d074",
   "metadata": {},
   "outputs": [
    {
     "name": "stdout",
     "output_type": "stream",
     "text": [
      "Enter your name: anonymous\n",
      "Hello, anonymous !\n"
     ]
    }
   ],
   "source": [
    "name = input('Enter your name: ')\n",
    "print (f'Hello, {name} !')"
   ]
  },
  {
   "cell_type": "code",
   "execution_count": 7,
   "id": "b10cdb83",
   "metadata": {},
   "outputs": [
    {
     "name": "stdout",
     "output_type": "stream",
     "text": [
      "friendly_traceback 0.6.0; friendly 0.6.0.\n",
      "Type 'Friendly' for basic help.\n"
     ]
    }
   ],
   "source": [
    "from friendly.jupyter import Friendly"
   ]
  },
  {
   "cell_type": "code",
   "execution_count": null,
   "id": "22300265",
   "metadata": {},
   "outputs": [],
   "source": [
    "name = input ('Give me your name: ')\n",
    "if name == 'Eugene':\n",
    "    print(f'Good mornorning, {name} !')"
   ]
  }
 ],
 "metadata": {
  "kernelspec": {
   "display_name": "Python 3 (ipykernel)",
   "language": "python",
   "name": "python3"
  },
  "language_info": {
   "codemirror_mode": {
    "name": "ipython",
    "version": 3
   },
   "file_extension": ".py",
   "mimetype": "text/x-python",
   "name": "python",
   "nbconvert_exporter": "python",
   "pygments_lexer": "ipython3",
   "version": "3.10.4"
  }
 },
 "nbformat": 4,
 "nbformat_minor": 5
}
