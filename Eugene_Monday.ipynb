{
 "cells": [
  {
   "cell_type": "code",
   "execution_count": 1,
   "id": "ee558c75",
   "metadata": {},
   "outputs": [
    {
     "name": "stdout",
     "output_type": "stream",
     "text": [
      "Good morning Eugene\n"
     ]
    }
   ],
   "source": [
    "print('Good morning Eugene')"
   ]
  },
  {
   "cell_type": "code",
   "execution_count": 2,
   "id": "83c49b5e",
   "metadata": {},
   "outputs": [
    {
     "name": "stdout",
     "output_type": "stream",
     "text": [
      "Eugene\n"
     ]
    }
   ],
   "source": [
    "name = 'Eugene'\n",
    "print(name)"
   ]
  },
  {
   "cell_type": "code",
   "execution_count": 3,
   "id": "baae7d27",
   "metadata": {},
   "outputs": [
    {
     "data": {
      "text/plain": [
       "str"
      ]
     },
     "execution_count": 3,
     "metadata": {},
     "output_type": "execute_result"
    }
   ],
   "source": [
    "type(name)"
   ]
  },
  {
   "cell_type": "code",
   "execution_count": 6,
   "id": "a138e83a",
   "metadata": {},
   "outputs": [
    {
     "name": "stdout",
     "output_type": "stream",
     "text": [
      "Enter your name: anonymous\n",
      "Hello, anonymous !\n"
     ]
    }
   ],
   "source": [
    "name = input('Enter your name: ')\n",
    "print (f'Hello, {name} !')"
   ]
  },
  {
   "cell_type": "code",
   "execution_count": 7,
   "id": "d6c29e31",
   "metadata": {},
   "outputs": [
    {
     "name": "stdout",
     "output_type": "stream",
     "text": [
      "friendly_traceback 0.6.0; friendly 0.6.0.\n",
      "Type 'Friendly' for basic help.\n"
     ]
    }
   ],
   "source": [
    "from friendly.jupyter import Friendly"
   ]
  },
  {
   "cell_type": "code",
   "execution_count": 9,
   "id": "5d540598",
   "metadata": {},
   "outputs": [
    {
     "name": "stdout",
     "output_type": "stream",
     "text": [
      "Give me your name: Ashley\n",
      "Ashley, hi there !\n"
     ]
    }
   ],
   "source": [
    "name = input ('Give me your name: ')\n",
    "if name == 'Eugene':\n",
    "    print(f'Good mornorning, {name} !')\n",
    "else:\n",
    "    print (f'{name}, hi there !')"
   ]
  },
  {
   "cell_type": "code",
   "execution_count": 10,
   "id": "13060776",
   "metadata": {},
   "outputs": [],
   "source": [
    "import random"
   ]
  },
  {
   "cell_type": "code",
   "execution_count": 15,
   "id": "a81f4836",
   "metadata": {},
   "outputs": [
    {
     "name": "stdout",
     "output_type": "stream",
     "text": [
      "give me your number: 5\n",
      "Too low !\n"
     ]
    }
   ],
   "source": [
    "number = random.randint(0, 100)\n",
    "num = input ('give me your number: ')\n",
    "if int(num) > number:\n",
    "    print('Too high !')\n",
    "elif int(num) < number:\n",
    "    print('Too low !')\n",
    "else: \n",
    "    print('You got it !')\n",
    "\n"
   ]
  },
  {
   "cell_type": "code",
   "execution_count": 22,
   "id": "e9ca8b48",
   "metadata": {},
   "outputs": [
    {
     "name": "stdout",
     "output_type": "stream",
     "text": [
      "Enter a string: computer\n",
      "Enter an index in the string: 5\n",
      "it's \"t\" character under index 5\n"
     ]
    }
   ],
   "source": [
    "st = input('Enter a string: ')\n",
    "ind = input('Enter an index in the string: ')\n",
    "if int(ind) < 0:\n",
    "    print(f'ERROR: indext {ind} is lower than 0')\n",
    "elif int(ind) >= len(st):\n",
    "    print(f'ERROR: indext {ind} is higher than the length of the string')\n",
    "else:\n",
    "    print (f'it\\'s \"{st[int(ind)]}\" character under index {ind}')\n",
    "                       "
   ]
  },
  {
   "cell_type": "code",
   "execution_count": null,
   "id": "10bfe006",
   "metadata": {},
   "outputs": [],
   "source": [
    "wo = input('Enter your word h')"
   ]
  }
 ],
 "metadata": {
  "kernelspec": {
   "display_name": "Python 3 (ipykernel)",
   "language": "python",
   "name": "python3"
  },
  "language_info": {
   "codemirror_mode": {
    "name": "ipython",
    "version": 3
   },
   "file_extension": ".py",
   "mimetype": "text/x-python",
   "name": "python",
   "nbconvert_exporter": "python",
   "pygments_lexer": "ipython3",
   "version": "3.10.4"
  }
 },
 "nbformat": 4,
 "nbformat_minor": 5
}
