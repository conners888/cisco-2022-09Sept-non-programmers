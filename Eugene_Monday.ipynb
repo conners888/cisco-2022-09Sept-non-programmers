{
 "cells": [
  {
   "cell_type": "code",
   "execution_count": 1,
   "id": "459f10d4",
   "metadata": {},
   "outputs": [
    {
     "name": "stdout",
     "output_type": "stream",
     "text": [
      "Good morning Eugene\n"
     ]
    }
   ],
   "source": [
    "print('Good morning Eugene')"
   ]
  },
  {
   "cell_type": "code",
   "execution_count": 2,
   "id": "9e388f13",
   "metadata": {},
   "outputs": [
    {
     "name": "stdout",
     "output_type": "stream",
     "text": [
      "Eugene\n"
     ]
    }
   ],
   "source": [
    "name = 'Eugene'\n",
    "print(name)"
   ]
  },
  {
   "cell_type": "code",
   "execution_count": 3,
   "id": "236a4193",
   "metadata": {},
   "outputs": [
    {
     "data": {
      "text/plain": [
       "str"
      ]
     },
     "execution_count": 3,
     "metadata": {},
     "output_type": "execute_result"
    }
   ],
   "source": [
    "type(name)"
   ]
  },
  {
   "cell_type": "code",
   "execution_count": 6,
   "id": "1fdfb71a",
   "metadata": {},
   "outputs": [
    {
     "name": "stdout",
     "output_type": "stream",
     "text": [
      "Enter your name: anonymous\n",
      "Hello, anonymous !\n"
     ]
    }
   ],
   "source": [
    "name = input('Enter your name: ')\n",
    "print (f'Hello, {name} !')"
   ]
  },
  {
   "cell_type": "code",
   "execution_count": 7,
   "id": "8f88db70",
   "metadata": {},
   "outputs": [
    {
     "name": "stdout",
     "output_type": "stream",
     "text": [
      "friendly_traceback 0.6.0; friendly 0.6.0.\n",
      "Type 'Friendly' for basic help.\n"
     ]
    }
   ],
   "source": [
    "from friendly.jupyter import Friendly"
   ]
  },
  {
   "cell_type": "code",
   "execution_count": 9,
   "id": "4f073a7f",
   "metadata": {},
   "outputs": [
    {
     "name": "stdout",
     "output_type": "stream",
     "text": [
      "Give me your name: Ashley\n",
      "Ashley, hi there !\n"
     ]
    }
   ],
   "source": [
    "name = input ('Give me your name: ')\n",
    "if name == 'Eugene':\n",
    "    print(f'Good mornorning, {name} !')\n",
    "else:\n",
    "    print (f'{name}, hi there !')"
   ]
  },
  {
   "cell_type": "code",
   "execution_count": 10,
   "id": "403ef20e",
   "metadata": {},
   "outputs": [],
   "source": [
    "import random"
   ]
  },
  {
   "cell_type": "code",
   "execution_count": 11,
   "id": "e8155f12",
   "metadata": {},
   "outputs": [
    {
     "name": "stdout",
     "output_type": "stream",
     "text": [
      "16\n"
     ]
    }
   ],
   "source": [
    "number = random.randint(0, 100)\n",
    "num = input ('give me your number: ')\n",
    "if int(num) > number:\n",
    "    print('Too high ')\n"
   ]
  },
  {
   "cell_type": "code",
   "execution_count": null,
   "id": "af90196b",
   "metadata": {},
   "outputs": [],
   "source": []
  }
 ],
 "metadata": {
  "kernelspec": {
   "display_name": "Python 3 (ipykernel)",
   "language": "python",
   "name": "python3"
  },
  "language_info": {
   "codemirror_mode": {
    "name": "ipython",
    "version": 3
   },
   "file_extension": ".py",
   "mimetype": "text/x-python",
   "name": "python",
   "nbconvert_exporter": "python",
   "pygments_lexer": "ipython3",
   "version": "3.10.4"
  }
 },
 "nbformat": 4,
 "nbformat_minor": 5
}
