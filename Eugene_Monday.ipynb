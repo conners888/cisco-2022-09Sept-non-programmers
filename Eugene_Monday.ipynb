{
 "cells": [
  {
   "cell_type": "code",
   "execution_count": 1,
   "id": "0ebfd7ad",
   "metadata": {},
   "outputs": [
    {
     "name": "stdout",
     "output_type": "stream",
     "text": [
      "Good morning Eugene\n"
     ]
    }
   ],
   "source": [
    "print('Good morning Eugene')"
   ]
  },
  {
   "cell_type": "code",
   "execution_count": 2,
   "id": "a61c1a5a",
   "metadata": {},
   "outputs": [
    {
     "name": "stdout",
     "output_type": "stream",
     "text": [
      "Eugene\n"
     ]
    }
   ],
   "source": [
    "name = 'Eugene'\n",
    "print(name)"
   ]
  },
  {
   "cell_type": "code",
   "execution_count": 3,
   "id": "effc9bbd",
   "metadata": {},
   "outputs": [
    {
     "data": {
      "text/plain": [
       "str"
      ]
     },
     "execution_count": 3,
     "metadata": {},
     "output_type": "execute_result"
    }
   ],
   "source": [
    "type(name)"
   ]
  },
  {
   "cell_type": "code",
   "execution_count": 6,
   "id": "4f03a98e",
   "metadata": {},
   "outputs": [
    {
     "name": "stdout",
     "output_type": "stream",
     "text": [
      "Enter your name: anonymous\n",
      "Hello, anonymous !\n"
     ]
    }
   ],
   "source": [
    "name = input('Enter your name: ')\n",
    "print (f'Hello, {name} !')"
   ]
  },
  {
   "cell_type": "code",
   "execution_count": 7,
   "id": "c6a274e1",
   "metadata": {},
   "outputs": [
    {
     "name": "stdout",
     "output_type": "stream",
     "text": [
      "friendly_traceback 0.6.0; friendly 0.6.0.\n",
      "Type 'Friendly' for basic help.\n"
     ]
    }
   ],
   "source": [
    "from friendly.jupyter import Friendly"
   ]
  },
  {
   "cell_type": "code",
   "execution_count": 9,
   "id": "0d3f1de8",
   "metadata": {},
   "outputs": [
    {
     "name": "stdout",
     "output_type": "stream",
     "text": [
      "Give me your name: Ashley\n",
      "Ashley, hi there !\n"
     ]
    }
   ],
   "source": [
    "name = input ('Give me your name: ')\n",
    "if name == 'Eugene':\n",
    "    print(f'Good mornorning, {name} !')\n",
    "else:\n",
    "    print (f'{name}, hi there !')"
   ]
  },
  {
   "cell_type": "code",
   "execution_count": 10,
   "id": "f7ea07c2",
   "metadata": {},
   "outputs": [],
   "source": [
    "import random"
   ]
  },
  {
   "cell_type": "code",
   "execution_count": 15,
   "id": "f7403823",
   "metadata": {},
   "outputs": [
    {
     "name": "stdout",
     "output_type": "stream",
     "text": [
      "give me your number: 5\n",
      "Too low !\n"
     ]
    }
   ],
   "source": [
    "number = random.randint(0, 100)\n",
    "num = input ('give me your number: ')\n",
    "if int(num) > number:\n",
    "    print('Too high !')\n",
    "elif int(num) < number:\n",
    "    print('Too low !')\n",
    "else: \n",
    "    print('You got it !')\n",
    "\n"
   ]
  },
  {
   "cell_type": "code",
   "execution_count": 22,
   "id": "94db9a43",
   "metadata": {},
   "outputs": [
    {
     "name": "stdout",
     "output_type": "stream",
     "text": [
      "Enter a string: computer\n",
      "Enter an index in the string: 5\n",
      "it's \"t\" character under index 5\n"
     ]
    }
   ],
   "source": [
    "st = input('Enter a string: ')\n",
    "ind = input('Enter an index in the string: ')\n",
    "if int(ind) < 0:\n",
    "    print(f'ERROR: indext {ind} is lower than 0')\n",
    "elif int(ind) >= len(st):\n",
    "    print(f'ERROR: indext {ind} is higher than the length of the string')\n",
    "else:\n",
    "    print (f'it\\'s \"{st[int(ind)]}\" character under index {ind}')\n",
    "                       "
   ]
  },
  {
   "cell_type": "code",
   "execution_count": 31,
   "id": "f2291607",
   "metadata": {},
   "outputs": [
    {
     "name": "stdout",
     "output_type": "stream",
     "text": [
      "omputercay\n",
      "elephantway\n",
      "apayapay\n",
      "octopusway\n"
     ]
    }
   ],
   "source": [
    "def transl(wo):\n",
    "    if wo[0] in 'aeiou':\n",
    "        return wo + 'way'\n",
    "    else:\n",
    "        return wo[1:] + wo[0] + 'ay'\n",
    "\n",
    "print(transl('computer'))    \n",
    "print(transl('elephant'))    \n",
    "print(transl('papaya'))    \n",
    "print(transl('octopus'))\n"
   ]
  },
  {
   "cell_type": "code",
   "execution_count": null,
   "id": "a6f0369e",
   "metadata": {},
   "outputs": [],
   "source": []
  }
 ],
 "metadata": {
  "kernelspec": {
   "display_name": "Python 3 (ipykernel)",
   "language": "python",
   "name": "python3"
  },
  "language_info": {
   "codemirror_mode": {
    "name": "ipython",
    "version": 3
   },
   "file_extension": ".py",
   "mimetype": "text/x-python",
   "name": "python",
   "nbconvert_exporter": "python",
   "pygments_lexer": "ipython3",
   "version": "3.10.4"
  }
 },
 "nbformat": 4,
 "nbformat_minor": 5
}
