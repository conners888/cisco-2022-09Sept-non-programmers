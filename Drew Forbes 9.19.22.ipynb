{
 "cells": [
  {
   "cell_type": "code",
   "execution_count": 2,
   "id": "6bae1a64",
   "metadata": {},
   "outputs": [
    {
     "name": "stdout",
     "output_type": "stream",
     "text": [
      "Drew\n"
     ]
    }
   ],
   "source": [
    "print('Drew')"
   ]
  },
  {
   "cell_type": "code",
   "execution_count": 4,
   "id": "dc7e25f8",
   "metadata": {},
   "outputs": [
    {
     "name": "stdout",
     "output_type": "stream",
     "text": [
      "abcdefgh\n"
     ]
    }
   ],
   "source": [
    "x = 'abcd'\n",
    "y = 'efgh'\n",
    "print(x+y)"
   ]
  },
  {
   "cell_type": "code",
   "execution_count": 7,
   "id": "1baeb22c",
   "metadata": {},
   "outputs": [
    {
     "data": {
      "text/plain": [
       "str"
      ]
     },
     "execution_count": 7,
     "metadata": {},
     "output_type": "execute_result"
    }
   ],
   "source": [
    "type('Drew')"
   ]
  },
  {
   "cell_type": "code",
   "execution_count": 8,
   "id": "991db0d9",
   "metadata": {},
   "outputs": [
    {
     "data": {
      "text/plain": [
       "str"
      ]
     },
     "execution_count": 8,
     "metadata": {},
     "output_type": "execute_result"
    }
   ],
   "source": [
    "type('x')"
   ]
  },
  {
   "cell_type": "code",
   "execution_count": 10,
   "id": "082b073b",
   "metadata": {},
   "outputs": [
    {
     "name": "stdout",
     "output_type": "stream",
     "text": [
      "123efgh\n"
     ]
    }
   ],
   "source": [
    "x = '123'\n",
    "Y = '555'\n",
    "print(x+y)"
   ]
  },
  {
   "cell_type": "code",
   "execution_count": 11,
   "id": "c323ff91",
   "metadata": {},
   "outputs": [
    {
     "name": "stdout",
     "output_type": "stream",
     "text": [
      "Enter your name:Drew\n"
     ]
    }
   ],
   "source": [
    "name = input('Enter your name:')"
   ]
  },
  {
   "cell_type": "code",
   "execution_count": 12,
   "id": "e9dff639",
   "metadata": {},
   "outputs": [
    {
     "name": "stdout",
     "output_type": "stream",
     "text": [
      "Hello,Drew!\n"
     ]
    }
   ],
   "source": [
    "print('Hello,'+ name + '!')"
   ]
  },
  {
   "cell_type": "code",
   "execution_count": 16,
   "id": "ce40566c",
   "metadata": {},
   "outputs": [
    {
     "name": "stdout",
     "output_type": "stream",
     "text": [
      "Enter your name:12345\n"
     ]
    }
   ],
   "source": [
    "name = input ('Enter your name:')"
   ]
  },
  {
   "cell_type": "code",
   "execution_count": 17,
   "id": "8a00e039",
   "metadata": {},
   "outputs": [
    {
     "name": "stdout",
     "output_type": "stream",
     "text": [
      "Hello,12345!\n"
     ]
    }
   ],
   "source": [
    "print('Hello,' + name + '!')"
   ]
  },
  {
   "cell_type": "code",
   "execution_count": 18,
   "id": "db7bb0a8",
   "metadata": {},
   "outputs": [
    {
     "data": {
      "text/plain": [
       "str"
      ]
     },
     "execution_count": 18,
     "metadata": {},
     "output_type": "execute_result"
    }
   ],
   "source": [
    "type(name)"
   ]
  },
  {
   "cell_type": "code",
   "execution_count": 21,
   "id": "250ea695",
   "metadata": {},
   "outputs": [],
   "source": [
    "x = 10\n",
    "y = 20"
   ]
  },
  {
   "cell_type": "code",
   "execution_count": 22,
   "id": "441cf856",
   "metadata": {},
   "outputs": [
    {
     "data": {
      "text/plain": [
       "False"
      ]
     },
     "execution_count": 22,
     "metadata": {},
     "output_type": "execute_result"
    }
   ],
   "source": [
    "x == y"
   ]
  },
  {
   "cell_type": "code",
   "execution_count": 23,
   "id": "305c9172",
   "metadata": {},
   "outputs": [
    {
     "data": {
      "text/plain": [
       "10"
      ]
     },
     "execution_count": 23,
     "metadata": {},
     "output_type": "execute_result"
    }
   ],
   "source": [
    "x"
   ]
  },
  {
   "cell_type": "code",
   "execution_count": 24,
   "id": "f619fa22",
   "metadata": {},
   "outputs": [
    {
     "data": {
      "text/plain": [
       "20"
      ]
     },
     "execution_count": 24,
     "metadata": {},
     "output_type": "execute_result"
    }
   ],
   "source": [
    "y"
   ]
  },
  {
   "cell_type": "code",
   "execution_count": 25,
   "id": "fb7df5ab",
   "metadata": {},
   "outputs": [
    {
     "data": {
      "text/plain": [
       "'12345'"
      ]
     },
     "execution_count": 25,
     "metadata": {},
     "output_type": "execute_result"
    }
   ],
   "source": [
    "name"
   ]
  },
  {
   "cell_type": "code",
   "execution_count": null,
   "id": "c2135bc4",
   "metadata": {},
   "outputs": [],
   "source": [
    "name = input ('enter your name:')"
   ]
  },
  {
   "cell_type": "code",
   "execution_count": null,
   "id": "4d20003d",
   "metadata": {},
   "outputs": [],
   "source": [
    "name = input ('enter your name:')\n",
    "    print('Hi, boss!')"
   ]
  },
  {
   "cell_type": "code",
   "execution_count": null,
   "id": "8b3f6578",
   "metadata": {},
   "outputs": [],
   "source": [
    "if name == 'drew'\n",
    "    print('hi, Boss!')"
   ]
  },
  {
   "cell_type": "code",
   "execution_count": null,
   "id": "c3b7a1b6",
   "metadata": {},
   "outputs": [],
   "source": [
    "name = ('drew')"
   ]
  },
  {
   "cell_type": "code",
   "execution_count": 27,
   "id": "82e9ccdc",
   "metadata": {},
   "outputs": [
    {
     "name": "stdout",
     "output_type": "stream",
     "text": [
      "Enter your name:Drew\n",
      "Hi, boss!\n",
      "So good to see you again!\n"
     ]
    }
   ],
   "source": [
    "name = input('Enter your name:')\n",
    "\n",
    "if name == 'Drew':\n",
    "    print('Hi, boss!')\n",
    "    print('So good to see you again!')\n",
    "else:\n",
    "    print('Hello,'+'')"
   ]
  },
  {
   "cell_type": "code",
   "execution_count": 44,
   "id": "84cde77d",
   "metadata": {},
   "outputs": [
    {
     "ename": "SyntaxError",
     "evalue": "expected ':' (1261569222.py, line 5)",
     "output_type": "error",
     "traceback": [
      "\u001b[0;36m  Cell \u001b[0;32mIn [44], line 5\u001b[0;36m\u001b[0m\n\u001b[0;31m    else\u001b[0m\n\u001b[0m        ^\u001b[0m\n\u001b[0;31mSyntaxError\u001b[0m\u001b[0;31m:\u001b[0m expected ':'\n"
     ]
    }
   ],
   "source": [
    "name = input('Enter your name:')\n",
    "\n",
    "if name == 'Drew':\n",
    "    print('Hi, Drew')\n",
    "else\n",
    "    print('Wrong!')"
   ]
  },
  {
   "cell_type": "code",
   "execution_count": null,
   "id": "ef2074e5",
   "metadata": {},
   "outputs": [],
   "source": []
  }
 ],
 "metadata": {
  "kernelspec": {
   "display_name": "Python 3 (ipykernel)",
   "language": "python",
   "name": "python3"
  },
  "language_info": {
   "codemirror_mode": {
    "name": "ipython",
    "version": 3
   },
   "file_extension": ".py",
   "mimetype": "text/x-python",
   "name": "python",
   "nbconvert_exporter": "python",
   "pygments_lexer": "ipython3",
   "version": "3.10.4"
  }
 },
 "nbformat": 4,
 "nbformat_minor": 5
}
