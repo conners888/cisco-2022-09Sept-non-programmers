{
 "cells": [
  {
   "cell_type": "code",
   "execution_count": 2,
   "id": "ff6d3500",
   "metadata": {},
   "outputs": [
    {
     "name": "stdout",
     "output_type": "stream",
     "text": [
      "Drew\n"
     ]
    }
   ],
   "source": [
    "print('Drew')"
   ]
  },
  {
   "cell_type": "code",
   "execution_count": 4,
   "id": "dfc8da7a",
   "metadata": {},
   "outputs": [
    {
     "name": "stdout",
     "output_type": "stream",
     "text": [
      "abcdefgh\n"
     ]
    }
   ],
   "source": [
    "x = 'abcd'\n",
    "y = 'efgh'\n",
    "print(x+y)"
   ]
  },
  {
   "cell_type": "code",
   "execution_count": 7,
   "id": "b8f0bbbe",
   "metadata": {},
   "outputs": [
    {
     "data": {
      "text/plain": [
       "str"
      ]
     },
     "execution_count": 7,
     "metadata": {},
     "output_type": "execute_result"
    }
   ],
   "source": [
    "type('Drew')"
   ]
  },
  {
   "cell_type": "code",
   "execution_count": 8,
   "id": "020cf9b5",
   "metadata": {},
   "outputs": [
    {
     "data": {
      "text/plain": [
       "str"
      ]
     },
     "execution_count": 8,
     "metadata": {},
     "output_type": "execute_result"
    }
   ],
   "source": [
    "type('x')"
   ]
  },
  {
   "cell_type": "code",
   "execution_count": 10,
   "id": "0e76aadf",
   "metadata": {},
   "outputs": [
    {
     "name": "stdout",
     "output_type": "stream",
     "text": [
      "123efgh\n"
     ]
    }
   ],
   "source": [
    "x = '123'\n",
    "Y = '555'\n",
    "print(x+y)"
   ]
  },
  {
   "cell_type": "code",
   "execution_count": 11,
   "id": "d0529a8f",
   "metadata": {},
   "outputs": [
    {
     "name": "stdout",
     "output_type": "stream",
     "text": [
      "Enter your name:Drew\n"
     ]
    }
   ],
   "source": [
    "name = input('Enter your name:')"
   ]
  },
  {
   "cell_type": "code",
   "execution_count": 12,
   "id": "85d3a5b6",
   "metadata": {},
   "outputs": [
    {
     "name": "stdout",
     "output_type": "stream",
     "text": [
      "Hello,Drew!\n"
     ]
    }
   ],
   "source": [
    "print('Hello,'+ name + '!')"
   ]
  },
  {
   "cell_type": "code",
   "execution_count": 16,
   "id": "be753d6b",
   "metadata": {},
   "outputs": [
    {
     "name": "stdout",
     "output_type": "stream",
     "text": [
      "Enter your name:12345\n"
     ]
    }
   ],
   "source": [
    "name = input ('Enter your name:')"
   ]
  },
  {
   "cell_type": "code",
   "execution_count": 17,
   "id": "c7ffacfd",
   "metadata": {},
   "outputs": [
    {
     "name": "stdout",
     "output_type": "stream",
     "text": [
      "Hello,12345!\n"
     ]
    }
   ],
   "source": [
    "print('Hello,' + name + '!')"
   ]
  },
  {
   "cell_type": "code",
   "execution_count": 18,
   "id": "6d22ccbc",
   "metadata": {},
   "outputs": [
    {
     "data": {
      "text/plain": [
       "str"
      ]
     },
     "execution_count": 18,
     "metadata": {},
     "output_type": "execute_result"
    }
   ],
   "source": [
    "type(name)"
   ]
  },
  {
   "cell_type": "code",
   "execution_count": 21,
   "id": "d971060a",
   "metadata": {},
   "outputs": [],
   "source": [
    "x = 10\n",
    "y = 20"
   ]
  },
  {
   "cell_type": "code",
   "execution_count": 22,
   "id": "73cfc961",
   "metadata": {},
   "outputs": [
    {
     "data": {
      "text/plain": [
       "False"
      ]
     },
     "execution_count": 22,
     "metadata": {},
     "output_type": "execute_result"
    }
   ],
   "source": [
    "x == y"
   ]
  },
  {
   "cell_type": "code",
   "execution_count": 23,
   "id": "d250f362",
   "metadata": {},
   "outputs": [
    {
     "data": {
      "text/plain": [
       "10"
      ]
     },
     "execution_count": 23,
     "metadata": {},
     "output_type": "execute_result"
    }
   ],
   "source": [
    "x"
   ]
  },
  {
   "cell_type": "code",
   "execution_count": 24,
   "id": "76af1d72",
   "metadata": {},
   "outputs": [
    {
     "data": {
      "text/plain": [
       "20"
      ]
     },
     "execution_count": 24,
     "metadata": {},
     "output_type": "execute_result"
    }
   ],
   "source": [
    "y"
   ]
  },
  {
   "cell_type": "code",
   "execution_count": 25,
   "id": "57ae22b6",
   "metadata": {},
   "outputs": [
    {
     "data": {
      "text/plain": [
       "'12345'"
      ]
     },
     "execution_count": 25,
     "metadata": {},
     "output_type": "execute_result"
    }
   ],
   "source": [
    "name"
   ]
  },
  {
   "cell_type": "code",
   "execution_count": null,
   "id": "585607cd",
   "metadata": {},
   "outputs": [],
   "source": [
    "name = input ('enter your name:')"
   ]
  },
  {
   "cell_type": "code",
   "execution_count": null,
   "id": "08d9ad88",
   "metadata": {},
   "outputs": [],
   "source": [
    "name = input ('enter your name:')\n",
    "    print('Hi, boss!')"
   ]
  },
  {
   "cell_type": "code",
   "execution_count": null,
   "id": "202cd04c",
   "metadata": {},
   "outputs": [],
   "source": [
    "if name == 'drew'\n",
    "    print('hi, Boss!')"
   ]
  },
  {
   "cell_type": "code",
   "execution_count": null,
   "id": "c569d0bd",
   "metadata": {},
   "outputs": [],
   "source": [
    "name = ('drew')"
   ]
  },
  {
   "cell_type": "code",
   "execution_count": 27,
   "id": "0d78c1cb",
   "metadata": {},
   "outputs": [
    {
     "name": "stdout",
     "output_type": "stream",
     "text": [
      "Enter your name:Drew\n",
      "Hi, boss!\n",
      "So good to see you again!\n"
     ]
    }
   ],
   "source": [
    "name = input('Enter your name:')\n",
    "\n",
    "if name == 'Drew':\n",
    "    print('Hi, boss!')\n",
    "    print('So good to see you again!')\n",
    "else:\n",
    "    print('Hello,'+'')"
   ]
  },
  {
   "cell_type": "code",
   "execution_count": 57,
   "id": "211e9422",
   "metadata": {},
   "outputs": [
    {
     "name": "stdout",
     "output_type": "stream",
     "text": [
      "Enter your name:Sam\n",
      "Wrong\n"
     ]
    }
   ],
   "source": [
    "name = input('Enter your name:')\n",
    "\n",
    "if name == 'Drew':\n",
    "    print('Hi, Drew')\n",
    "else: \n",
    "    print('Wrong')\n",
    "          "
   ]
  },
  {
   "cell_type": "code",
   "execution_count": 1,
   "id": "890687c9",
   "metadata": {},
   "outputs": [
    {
     "name": "stdout",
     "output_type": "stream",
     "text": [
      "friendly_traceback 0.6.0; friendly 0.6.0.\n",
      "Type 'Friendly' for basic help.\n"
     ]
    }
   ],
   "source": [
    "from friendly.jupyter import Friendly"
   ]
  },
  {
   "cell_type": "code",
   "execution_count": 2,
   "id": "030dbccc",
   "metadata": {},
   "outputs": [
    {
     "name": "stdout",
     "output_type": "stream",
     "text": [
      "68\n",
      "Guess: 50\n",
      "Too low!\n"
     ]
    }
   ],
   "source": [
    "import random\n",
    "number = random.randint(0, 100)\n",
    "\n",
    "print(number)\n",
    "\n",
    "guess = input('Guess: ')  # guess is a string\n",
    "guess = int(guess)        # get a new int based on guess, and assign back to guess\n",
    "\n",
    "if guess == number:\n",
    "    print('You got it!')\n",
    "elif guess < number:\n",
    "    print('Too low!')\n",
    "else:\n",
    "    print('Too high!')"
   ]
  },
  {
   "cell_type": "code",
   "execution_count": 5,
   "id": "041a9a1d",
   "metadata": {},
   "outputs": [
    {
     "data": {
      "text/html": [
       "<pre style='white-space:pre;overflow-x:auto;line-height:normal'><span style=\"font-weight: bold\">&lt;</span><span style=\"color: #0011aa; text-decoration-color: #0011aa\">class</span><span style=\"color: #000000; text-decoration-color: #000000\"> </span><span style=\"color: #8b008b; text-decoration-color: #8b008b\">'float'</span><span style=\"font-weight: bold\">&gt;</span>\n",
       "</pre>"
      ],
      "text/plain": [
       "\u001b[1m<\u001b[0m\u001b[38;2;0;17;170mclass\u001b[0m\u001b[39m \u001b[0m\u001b[38;2;139;0;139m'float'\u001b[0m\u001b[1m>\u001b[0m\n"
      ]
     },
     "metadata": {},
     "output_type": "display_data"
    }
   ],
   "source": [
    "n = 10.5\n",
    "type(n)"
   ]
  },
  {
   "cell_type": "code",
   "execution_count": 6,
   "id": "84107bd7",
   "metadata": {},
   "outputs": [
    {
     "data": {
      "text/html": [
       "<pre style='white-space:pre;overflow-x:auto;line-height:normal'><span style=\"color: #101010; text-decoration-color: #101010\">13.0</span>\n",
       "</pre>"
      ],
      "text/plain": [
       "\u001b[38;2;16;16;16m13.0\u001b[0m\n"
      ]
     },
     "metadata": {},
     "output_type": "display_data"
    }
   ],
   "source": [
    "x = 10.0\n",
    "y = 3.0\n",
    "\n",
    "x + y"
   ]
  },
  {
   "cell_type": "code",
   "execution_count": 7,
   "id": "a89b8415",
   "metadata": {},
   "outputs": [
    {
     "data": {
      "text/html": [
       "<pre style='white-space:pre;overflow-x:auto;line-height:normal'><span style=\"color: #101010; text-decoration-color: #101010\">3.0</span>\n",
       "</pre>"
      ],
      "text/plain": [
       "\u001b[38;2;16;16;16m3.0\u001b[0m\n"
      ]
     },
     "metadata": {},
     "output_type": "display_data"
    }
   ],
   "source": [
    "x//y"
   ]
  },
  {
   "cell_type": "code",
   "execution_count": 9,
   "id": "7e6ee20c",
   "metadata": {},
   "outputs": [
    {
     "data": {
      "text/html": [
       "<pre style='white-space:pre;overflow-x:auto;line-height:normal'><span style=\"color: #101010; text-decoration-color: #101010\">0.30000000000000004</span>\n",
       "</pre>"
      ],
      "text/plain": [
       "\u001b[38;2;16;16;16m0.30000000000000004\u001b[0m\n"
      ]
     },
     "metadata": {},
     "output_type": "display_data"
    }
   ],
   "source": [
    "0.1+0.2"
   ]
  },
  {
   "cell_type": "code",
   "execution_count": 11,
   "id": "24c17ae2",
   "metadata": {},
   "outputs": [],
   "source": [
    "#Strings\n",
    "\n",
    "We can create strings ('str') most easily, and commonly w"
   ]
  },
  {
   "cell_type": "code",
   "execution_count": null,
   "id": "ab3f06a8",
   "metadata": {},
   "outputs": [],
   "source": []
  }
 ],
 "metadata": {
  "kernelspec": {
   "display_name": "Python 3 (ipykernel)",
   "language": "python",
   "name": "python3"
  },
  "language_info": {
   "codemirror_mode": {
    "name": "ipython",
    "version": 3
   },
   "file_extension": ".py",
   "mimetype": "text/x-python",
   "name": "python",
   "nbconvert_exporter": "python",
   "pygments_lexer": "ipython3",
   "version": "3.10.4"
  }
 },
 "nbformat": 4,
 "nbformat_minor": 5
}
