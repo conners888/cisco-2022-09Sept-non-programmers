{
 "cells": [
  {
   "cell_type": "code",
   "execution_count": 2,
   "id": "269cf8b6",
   "metadata": {},
   "outputs": [
    {
     "name": "stdout",
     "output_type": "stream",
     "text": [
      "Drew\n"
     ]
    }
   ],
   "source": [
    "print('Drew')"
   ]
  },
  {
   "cell_type": "code",
   "execution_count": 4,
   "id": "8108357a",
   "metadata": {},
   "outputs": [
    {
     "name": "stdout",
     "output_type": "stream",
     "text": [
      "abcdefgh\n"
     ]
    }
   ],
   "source": [
    "x = 'abcd'\n",
    "y = 'efgh'\n",
    "print(x+y)"
   ]
  },
  {
   "cell_type": "code",
   "execution_count": 7,
   "id": "cfb3c42f",
   "metadata": {},
   "outputs": [
    {
     "data": {
      "text/plain": [
       "str"
      ]
     },
     "execution_count": 7,
     "metadata": {},
     "output_type": "execute_result"
    }
   ],
   "source": [
    "type('Drew')"
   ]
  },
  {
   "cell_type": "code",
   "execution_count": 8,
   "id": "c9b31601",
   "metadata": {},
   "outputs": [
    {
     "data": {
      "text/plain": [
       "str"
      ]
     },
     "execution_count": 8,
     "metadata": {},
     "output_type": "execute_result"
    }
   ],
   "source": [
    "type('x')"
   ]
  },
  {
   "cell_type": "code",
   "execution_count": 10,
   "id": "5303513a",
   "metadata": {},
   "outputs": [
    {
     "name": "stdout",
     "output_type": "stream",
     "text": [
      "123efgh\n"
     ]
    }
   ],
   "source": [
    "x = '123'\n",
    "Y = '555'\n",
    "print(x+y)"
   ]
  },
  {
   "cell_type": "code",
   "execution_count": 11,
   "id": "c5604db4",
   "metadata": {},
   "outputs": [
    {
     "name": "stdout",
     "output_type": "stream",
     "text": [
      "Enter your name:Drew\n"
     ]
    }
   ],
   "source": [
    "name = input('Enter your name:')"
   ]
  },
  {
   "cell_type": "code",
   "execution_count": 12,
   "id": "54b18cf3",
   "metadata": {},
   "outputs": [
    {
     "name": "stdout",
     "output_type": "stream",
     "text": [
      "Hello,Drew!\n"
     ]
    }
   ],
   "source": [
    "print('Hello,'+ name + '!')"
   ]
  },
  {
   "cell_type": "code",
   "execution_count": 16,
   "id": "de86f0b3",
   "metadata": {},
   "outputs": [
    {
     "name": "stdout",
     "output_type": "stream",
     "text": [
      "Enter your name:12345\n"
     ]
    }
   ],
   "source": [
    "name = input ('Enter your name:')"
   ]
  },
  {
   "cell_type": "code",
   "execution_count": 17,
   "id": "156bd9de",
   "metadata": {},
   "outputs": [
    {
     "name": "stdout",
     "output_type": "stream",
     "text": [
      "Hello,12345!\n"
     ]
    }
   ],
   "source": [
    "print('Hello,' + name + '!')"
   ]
  },
  {
   "cell_type": "code",
   "execution_count": 18,
   "id": "32fb67a5",
   "metadata": {},
   "outputs": [
    {
     "data": {
      "text/plain": [
       "str"
      ]
     },
     "execution_count": 18,
     "metadata": {},
     "output_type": "execute_result"
    }
   ],
   "source": [
    "type(name)"
   ]
  },
  {
   "cell_type": "code",
   "execution_count": 21,
   "id": "2e10b3b9",
   "metadata": {},
   "outputs": [],
   "source": [
    "x = 10\n",
    "y = 20"
   ]
  },
  {
   "cell_type": "code",
   "execution_count": 22,
   "id": "dff30b95",
   "metadata": {},
   "outputs": [
    {
     "data": {
      "text/plain": [
       "False"
      ]
     },
     "execution_count": 22,
     "metadata": {},
     "output_type": "execute_result"
    }
   ],
   "source": [
    "x == y"
   ]
  },
  {
   "cell_type": "code",
   "execution_count": 23,
   "id": "56f4d6d3",
   "metadata": {},
   "outputs": [
    {
     "data": {
      "text/plain": [
       "10"
      ]
     },
     "execution_count": 23,
     "metadata": {},
     "output_type": "execute_result"
    }
   ],
   "source": [
    "x"
   ]
  },
  {
   "cell_type": "code",
   "execution_count": 24,
   "id": "56ec0355",
   "metadata": {},
   "outputs": [
    {
     "data": {
      "text/plain": [
       "20"
      ]
     },
     "execution_count": 24,
     "metadata": {},
     "output_type": "execute_result"
    }
   ],
   "source": [
    "y"
   ]
  },
  {
   "cell_type": "code",
   "execution_count": 25,
   "id": "da935ac1",
   "metadata": {},
   "outputs": [
    {
     "data": {
      "text/plain": [
       "'12345'"
      ]
     },
     "execution_count": 25,
     "metadata": {},
     "output_type": "execute_result"
    }
   ],
   "source": [
    "name"
   ]
  },
  {
   "cell_type": "code",
   "execution_count": null,
   "id": "f600934a",
   "metadata": {},
   "outputs": [],
   "source": [
    "name = input ('enter your name:')"
   ]
  },
  {
   "cell_type": "code",
   "execution_count": null,
   "id": "9529188b",
   "metadata": {},
   "outputs": [],
   "source": [
    "name = input ('enter your name:')\n",
    "    print('Hi, boss!')"
   ]
  },
  {
   "cell_type": "code",
   "execution_count": null,
   "id": "0d45cbe3",
   "metadata": {},
   "outputs": [],
   "source": [
    "if name == 'drew'\n",
    "    print('hi, Boss!')"
   ]
  },
  {
   "cell_type": "code",
   "execution_count": null,
   "id": "3fcb988f",
   "metadata": {},
   "outputs": [],
   "source": [
    "name = ('drew')"
   ]
  },
  {
   "cell_type": "code",
   "execution_count": 27,
   "id": "306ec2c5",
   "metadata": {},
   "outputs": [
    {
     "name": "stdout",
     "output_type": "stream",
     "text": [
      "Enter your name:Drew\n",
      "Hi, boss!\n",
      "So good to see you again!\n"
     ]
    }
   ],
   "source": [
    "name = input('Enter your name:')\n",
    "\n",
    "if name == 'Drew':\n",
    "    print('Hi, boss!')\n",
    "    print('So good to see you again!')\n",
    "else:\n",
    "    print('Hello,'+'')"
   ]
  },
  {
   "cell_type": "code",
   "execution_count": null,
   "id": "0a38ea31",
   "metadata": {},
   "outputs": [],
   "source": []
  }
 ],
 "metadata": {
  "kernelspec": {
   "display_name": "Python 3 (ipykernel)",
   "language": "python",
   "name": "python3"
  },
  "language_info": {
   "codemirror_mode": {
    "name": "ipython",
    "version": 3
   },
   "file_extension": ".py",
   "mimetype": "text/x-python",
   "name": "python",
   "nbconvert_exporter": "python",
   "pygments_lexer": "ipython3",
   "version": "3.10.4"
  }
 },
 "nbformat": 4,
 "nbformat_minor": 5
}
