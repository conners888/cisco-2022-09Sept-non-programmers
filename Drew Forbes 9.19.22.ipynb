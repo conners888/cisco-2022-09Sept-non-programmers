{
 "cells": [
  {
   "cell_type": "code",
   "execution_count": 2,
   "id": "ff6d3500",
   "metadata": {},
   "outputs": [
    {
     "name": "stdout",
     "output_type": "stream",
     "text": [
      "Drew\n"
     ]
    }
   ],
   "source": [
    "print('Drew')"
   ]
  },
  {
   "cell_type": "code",
   "execution_count": 4,
   "id": "dfc8da7a",
   "metadata": {},
   "outputs": [
    {
     "name": "stdout",
     "output_type": "stream",
     "text": [
      "abcdefgh\n"
     ]
    }
   ],
   "source": [
    "x = 'abcd'\n",
    "y = 'efgh'\n",
    "print(x+y)"
   ]
  },
  {
   "cell_type": "code",
   "execution_count": 7,
   "id": "b8f0bbbe",
   "metadata": {},
   "outputs": [
    {
     "data": {
      "text/plain": [
       "str"
      ]
     },
     "execution_count": 7,
     "metadata": {},
     "output_type": "execute_result"
    }
   ],
   "source": [
    "type('Drew')"
   ]
  },
  {
   "cell_type": "code",
   "execution_count": 8,
   "id": "020cf9b5",
   "metadata": {},
   "outputs": [
    {
     "data": {
      "text/plain": [
       "str"
      ]
     },
     "execution_count": 8,
     "metadata": {},
     "output_type": "execute_result"
    }
   ],
   "source": [
    "type('x')"
   ]
  },
  {
   "cell_type": "code",
   "execution_count": 10,
   "id": "0e76aadf",
   "metadata": {},
   "outputs": [
    {
     "name": "stdout",
     "output_type": "stream",
     "text": [
      "123efgh\n"
     ]
    }
   ],
   "source": [
    "x = '123'\n",
    "Y = '555'\n",
    "print(x+y)"
   ]
  },
  {
   "cell_type": "code",
   "execution_count": 11,
   "id": "d0529a8f",
   "metadata": {},
   "outputs": [
    {
     "name": "stdout",
     "output_type": "stream",
     "text": [
      "Enter your name:Drew\n"
     ]
    }
   ],
   "source": [
    "name = input('Enter your name:')"
   ]
  },
  {
   "cell_type": "code",
   "execution_count": 12,
   "id": "85d3a5b6",
   "metadata": {},
   "outputs": [
    {
     "name": "stdout",
     "output_type": "stream",
     "text": [
      "Hello,Drew!\n"
     ]
    }
   ],
   "source": [
    "print('Hello,'+ name + '!')"
   ]
  },
  {
   "cell_type": "code",
   "execution_count": 16,
   "id": "be753d6b",
   "metadata": {},
   "outputs": [
    {
     "name": "stdout",
     "output_type": "stream",
     "text": [
      "Enter your name:12345\n"
     ]
    }
   ],
   "source": [
    "name = input ('Enter your name:')"
   ]
  },
  {
   "cell_type": "code",
   "execution_count": 17,
   "id": "c7ffacfd",
   "metadata": {},
   "outputs": [
    {
     "name": "stdout",
     "output_type": "stream",
     "text": [
      "Hello,12345!\n"
     ]
    }
   ],
   "source": [
    "print('Hello,' + name + '!')"
   ]
  },
  {
   "cell_type": "code",
   "execution_count": 18,
   "id": "6d22ccbc",
   "metadata": {},
   "outputs": [
    {
     "data": {
      "text/plain": [
       "str"
      ]
     },
     "execution_count": 18,
     "metadata": {},
     "output_type": "execute_result"
    }
   ],
   "source": [
    "type(name)"
   ]
  },
  {
   "cell_type": "code",
   "execution_count": 21,
   "id": "d971060a",
   "metadata": {},
   "outputs": [],
   "source": [
    "x = 10\n",
    "y = 20"
   ]
  },
  {
   "cell_type": "code",
   "execution_count": 22,
   "id": "73cfc961",
   "metadata": {},
   "outputs": [
    {
     "data": {
      "text/plain": [
       "False"
      ]
     },
     "execution_count": 22,
     "metadata": {},
     "output_type": "execute_result"
    }
   ],
   "source": [
    "x == y"
   ]
  },
  {
   "cell_type": "code",
   "execution_count": 23,
   "id": "d250f362",
   "metadata": {},
   "outputs": [
    {
     "data": {
      "text/plain": [
       "10"
      ]
     },
     "execution_count": 23,
     "metadata": {},
     "output_type": "execute_result"
    }
   ],
   "source": [
    "x"
   ]
  },
  {
   "cell_type": "code",
   "execution_count": 24,
   "id": "76af1d72",
   "metadata": {},
   "outputs": [
    {
     "data": {
      "text/plain": [
       "20"
      ]
     },
     "execution_count": 24,
     "metadata": {},
     "output_type": "execute_result"
    }
   ],
   "source": [
    "y"
   ]
  },
  {
   "cell_type": "code",
   "execution_count": 25,
   "id": "57ae22b6",
   "metadata": {},
   "outputs": [
    {
     "data": {
      "text/plain": [
       "'12345'"
      ]
     },
     "execution_count": 25,
     "metadata": {},
     "output_type": "execute_result"
    }
   ],
   "source": [
    "name"
   ]
  },
  {
   "cell_type": "code",
   "execution_count": null,
   "id": "585607cd",
   "metadata": {},
   "outputs": [],
   "source": [
    "name = input ('enter your name:')"
   ]
  },
  {
   "cell_type": "code",
   "execution_count": null,
   "id": "08d9ad88",
   "metadata": {},
   "outputs": [],
   "source": [
    "name = input ('enter your name:')\n",
    "    print('Hi, boss!')"
   ]
  },
  {
   "cell_type": "code",
   "execution_count": null,
   "id": "202cd04c",
   "metadata": {},
   "outputs": [],
   "source": [
    "if name == 'drew'\n",
    "    print('hi, Boss!')"
   ]
  },
  {
   "cell_type": "code",
   "execution_count": null,
   "id": "c569d0bd",
   "metadata": {},
   "outputs": [],
   "source": [
    "name = ('drew')"
   ]
  },
  {
   "cell_type": "code",
   "execution_count": 27,
   "id": "0d78c1cb",
   "metadata": {},
   "outputs": [
    {
     "name": "stdout",
     "output_type": "stream",
     "text": [
      "Enter your name:Drew\n",
      "Hi, boss!\n",
      "So good to see you again!\n"
     ]
    }
   ],
   "source": [
    "name = input('Enter your name:')\n",
    "\n",
    "if name == 'Drew':\n",
    "    print('Hi, boss!')\n",
    "    print('So good to see you again!')\n",
    "else:\n",
    "    print('Hello,'+'')"
   ]
  },
  {
   "cell_type": "code",
   "execution_count": 57,
   "id": "211e9422",
   "metadata": {},
   "outputs": [
    {
     "name": "stdout",
     "output_type": "stream",
     "text": [
      "Enter your name:Sam\n",
      "Wrong\n"
     ]
    }
   ],
   "source": [
    "name = input('Enter your name:')\n",
    "\n",
    "if name == 'Drew':\n",
    "    print('Hi, Drew')\n",
    "else: \n",
    "    print('Wrong')\n",
    "          "
   ]
  },
  {
   "cell_type": "code",
   "execution_count": 1,
   "id": "890687c9",
   "metadata": {},
   "outputs": [
    {
     "name": "stdout",
     "output_type": "stream",
     "text": [
      "friendly_traceback 0.6.0; friendly 0.6.0.\n",
      "Type 'Friendly' for basic help.\n"
     ]
    }
   ],
   "source": [
    "from friendly.jupyter import Friendly"
   ]
  },
  {
   "cell_type": "code",
   "execution_count": 2,
   "id": "86a50dff",
   "metadata": {},
   "outputs": [
    {
     "name": "stdout",
     "output_type": "stream",
     "text": [
      "68\n",
      "Guess: 50\n",
      "Too low!\n"
     ]
    }
   ],
   "source": [
    "import random\n",
    "number = random.randint(0, 100)\n",
    "\n",
    "print(number)\n",
    "\n",
    "guess = input('Guess: ')  # guess is a string\n",
    "guess = int(guess)        # get a new int based on guess, and assign back to guess\n",
    "\n",
    "if guess == number:\n",
    "    print('You got it!')\n",
    "elif guess < number:\n",
    "    print('Too low!')\n",
    "else:\n",
    "    print('Too high!')"
   ]
  },
  {
   "cell_type": "code",
   "execution_count": 5,
   "id": "7a371457",
   "metadata": {},
   "outputs": [
    {
     "data": {
      "text/html": [
       "<pre style='white-space:pre;overflow-x:auto;line-height:normal'><span style=\"font-weight: bold\">&lt;</span><span style=\"color: #0011aa; text-decoration-color: #0011aa\">class</span><span style=\"color: #000000; text-decoration-color: #000000\"> </span><span style=\"color: #8b008b; text-decoration-color: #8b008b\">'float'</span><span style=\"font-weight: bold\">&gt;</span>\n",
       "</pre>"
      ],
      "text/plain": [
       "\u001b[1m<\u001b[0m\u001b[38;2;0;17;170mclass\u001b[0m\u001b[39m \u001b[0m\u001b[38;2;139;0;139m'float'\u001b[0m\u001b[1m>\u001b[0m\n"
      ]
     },
     "metadata": {},
     "output_type": "display_data"
    }
   ],
   "source": [
    "n = 10.5\n",
    "type(n)"
   ]
  },
  {
   "cell_type": "code",
   "execution_count": 6,
   "id": "4b8e9bc5",
   "metadata": {},
   "outputs": [
    {
     "data": {
      "text/html": [
       "<pre style='white-space:pre;overflow-x:auto;line-height:normal'><span style=\"color: #101010; text-decoration-color: #101010\">13.0</span>\n",
       "</pre>"
      ],
      "text/plain": [
       "\u001b[38;2;16;16;16m13.0\u001b[0m\n"
      ]
     },
     "metadata": {},
     "output_type": "display_data"
    }
   ],
   "source": [
    "x = 10.0\n",
    "y = 3.0\n",
    "\n",
    "x + y"
   ]
  },
  {
   "cell_type": "code",
   "execution_count": 7,
   "id": "56332754",
   "metadata": {},
   "outputs": [
    {
     "data": {
      "text/html": [
       "<pre style='white-space:pre;overflow-x:auto;line-height:normal'><span style=\"color: #101010; text-decoration-color: #101010\">3.0</span>\n",
       "</pre>"
      ],
      "text/plain": [
       "\u001b[38;2;16;16;16m3.0\u001b[0m\n"
      ]
     },
     "metadata": {},
     "output_type": "display_data"
    }
   ],
   "source": [
    "x//y"
   ]
  },
  {
   "cell_type": "code",
   "execution_count": 9,
   "id": "c3a1bf3c",
   "metadata": {},
   "outputs": [
    {
     "data": {
      "text/html": [
       "<pre style='white-space:pre;overflow-x:auto;line-height:normal'><span style=\"color: #101010; text-decoration-color: #101010\">0.30000000000000004</span>\n",
       "</pre>"
      ],
      "text/plain": [
       "\u001b[38;2;16;16;16m0.30000000000000004\u001b[0m\n"
      ]
     },
     "metadata": {},
     "output_type": "display_data"
    }
   ],
   "source": [
    "0.1+0.2"
   ]
  },
  {
   "cell_type": "code",
   "execution_count": 13,
   "id": "aaf9e26f",
   "metadata": {},
   "outputs": [],
   "source": [
    "#Strings\n",
    "\n",
    "#We can create strings ('str') most easily, and commonly with quotes. You can use \"\" or ''\n",
    "\n",
    "#strings can be any length."
   ]
  },
  {
   "cell_type": "code",
   "execution_count": 15,
   "id": "b2a082e5",
   "metadata": {},
   "outputs": [
    {
     "data": {
      "text/html": [
       "<pre style='white-space:pre;overflow-x:auto;line-height:normal'><span style=\"font-weight: bold\">&lt;</span><span style=\"color: #0011aa; text-decoration-color: #0011aa\">class</span><span style=\"color: #000000; text-decoration-color: #000000\"> </span><span style=\"color: #8b008b; text-decoration-color: #8b008b\">'str'</span><span style=\"font-weight: bold\">&gt;</span>\n",
       "</pre>"
      ],
      "text/plain": [
       "\u001b[1m<\u001b[0m\u001b[38;2;0;17;170mclass\u001b[0m\u001b[39m \u001b[0m\u001b[38;2;139;0;139m'str'\u001b[0m\u001b[1m>\u001b[0m\n"
      ]
     },
     "metadata": {},
     "output_type": "display_data"
    }
   ],
   "source": [
    "s = \"jfeijiglsjifqnvuanugkleisoicn\"\n",
    "type(s)"
   ]
  },
  {
   "cell_type": "code",
   "execution_count": 16,
   "id": "6012dd1e",
   "metadata": {},
   "outputs": [
    {
     "data": {
      "text/html": [
       "<pre style='white-space:pre;overflow-x:auto;line-height:normal'><span style=\"color: #101010; text-decoration-color: #101010\">29</span>\n",
       "</pre>"
      ],
      "text/plain": [
       "\u001b[38;2;16;16;16m29\u001b[0m\n"
      ]
     },
     "metadata": {},
     "output_type": "display_data"
    }
   ],
   "source": [
    "len(s)"
   ]
  },
  {
   "cell_type": "code",
   "execution_count": 17,
   "id": "1d01084a",
   "metadata": {},
   "outputs": [],
   "source": [
    "s = \"doviehs\\fos\""
   ]
  },
  {
   "cell_type": "code",
   "execution_count": 19,
   "id": "5c29599d",
   "metadata": {},
   "outputs": [
    {
     "name": "stdout",
     "output_type": "stream",
     "text": [
      "doviehs\f",
      "os\n"
     ]
    }
   ],
   "source": [
    "print(s)"
   ]
  },
  {
   "cell_type": "code",
   "execution_count": 20,
   "id": "2e621230",
   "metadata": {},
   "outputs": [],
   "source": [
    "s = \"\\a\""
   ]
  },
  {
   "cell_type": "code",
   "execution_count": 22,
   "id": "dc8aa836",
   "metadata": {},
   "outputs": [
    {
     "name": "stdout",
     "output_type": "stream",
     "text": [
      "\u0007\n"
     ]
    }
   ],
   "source": [
    "print(s)"
   ]
  },
  {
   "cell_type": "code",
   "execution_count": 24,
   "id": "d59d37d2",
   "metadata": {},
   "outputs": [
    {
     "name": "stdout",
     "output_type": "stream",
     "text": [
      "in my program, x is 10.0and y is3.0.\n"
     ]
    }
   ],
   "source": [
    "print('in my program, x is ' + str(x) + 'and y is' + str(y) + \".\")"
   ]
  },
  {
   "cell_type": "code",
   "execution_count": 26,
   "id": "955b6d7a",
   "metadata": {},
   "outputs": [],
   "source": [
    "s = 'abcdefg'"
   ]
  },
  {
   "cell_type": "code",
   "execution_count": 27,
   "id": "8d2cac3a",
   "metadata": {},
   "outputs": [
    {
     "data": {
      "text/html": [
       "<pre style='white-space:pre;overflow-x:auto;line-height:normal'><span style=\"color: #8b008b; text-decoration-color: #8b008b\">'e'</span>\n",
       "</pre>"
      ],
      "text/plain": [
       "\u001b[38;2;139;0;139m'e'\u001b[0m\n"
      ]
     },
     "metadata": {},
     "output_type": "display_data"
    }
   ],
   "source": [
    "s[4]"
   ]
  },
  {
   "cell_type": "code",
   "execution_count": null,
   "id": "aad8995c",
   "metadata": {},
   "outputs": [],
   "source": [
    "s = 'abcdefghijklmnopqrstuvwxyz'\n",
    "s[len(s)-1]"
   ]
  },
  {
   "cell_type": "code",
   "execution_count": 3,
   "id": "bc982b07",
   "metadata": {},
   "outputs": [
    {
     "ename": "SyntaxError",
     "evalue": "unmatched ')' (4114856969.py, line 4)",
     "output_type": "error",
     "traceback": [
      "\u001b[0;36m  Cell \u001b[0;32mIn [3], line 4\u001b[0;36m\u001b[0m\n\u001b[0;31m    if input(len(s))>'260')\u001b[0m\n\u001b[0m                          ^\u001b[0m\n\u001b[0;31mSyntaxError\u001b[0m\u001b[0;31m:\u001b[0m unmatched ')'\n"
     ]
    }
   ],
   "source": [
    "s = 'abcdefghijklmnopqrstuvwxyz'\n",
    "len(s)\n",
    "string = input('Enter a string')\n",
    "if input(len(s))>'260')\n",
    "print(Too high)\n",
    "    \n",
    "elif input(len)"
   ]
  },
  {
   "cell_type": "code",
   "execution_count": 7,
   "id": "60b641b4",
   "metadata": {},
   "outputs": [],
   "source": [
    "#ask the user to enter a string\n",
    "    #input function\n",
    "    #store the results in \"s\"\n",
    "#Ask the user to enter an index\n",
    "#use the 'input'function\n",
    "#don't forget to use 'int' to an integer back\n",
    "#3. check the users index\n",
    "  #  - if it's >= ' len(s)'\"off by one error\"\n",
    "#4. Otherwise, use an f-string to print\n",
    " #   - the index\n",
    " #   - the character we found\n",
    " #   - the full string"
   ]
  },
  {
   "cell_type": "code",
   "execution_count": 13,
   "id": "e0ee9579",
   "metadata": {},
   "outputs": [
    {
     "name": "stdout",
     "output_type": "stream",
     "text": [
      "enter a string:Computer\n",
      "enter an index:25\n",
      "Too high: Maximum index is 7\n"
     ]
    }
   ],
   "source": [
    "s = input('enter a string:')\n",
    "i = input('enter an index:')\n",
    "i = int(i)\n",
    "\n",
    "if i < 0:\n",
    "    print('Too low: Must be at least 0')\n",
    "elif i >=len(s):\n",
    "    print(f'Too high: Maximum index is {len(s)-1}')\n",
    "else:\n",
    "    print(f'Index{i} in {s} is {s[i]}')"
   ]
  },
  {
   "cell_type": "code",
   "execution_count": 14,
   "id": "ac336e29",
   "metadata": {},
   "outputs": [],
   "source": [
    "s = 'abcdefghijklmnopqrstuvwxyz'"
   ]
  },
  {
   "cell_type": "code",
   "execution_count": 15,
   "id": "86650542",
   "metadata": {},
   "outputs": [
    {
     "name": "stdout",
     "output_type": "stream",
     "text": [
      "abcdefghijklmnopqrstuvwxyz\n"
     ]
    }
   ],
   "source": [
    "print(s)"
   ]
  },
  {
   "cell_type": "code",
   "execution_count": 16,
   "id": "ee4d9714",
   "metadata": {},
   "outputs": [
    {
     "data": {
      "text/plain": [
       "'klmnopqrst'"
      ]
     },
     "execution_count": 16,
     "metadata": {},
     "output_type": "execute_result"
    }
   ],
   "source": [
    "s[10:20]"
   ]
  },
  {
   "cell_type": "code",
   "execution_count": 17,
   "id": "9efdd37a",
   "metadata": {},
   "outputs": [],
   "source": [
    "# Exercise: Pig Latin Translator"
   ]
  },
  {
   "cell_type": "code",
   "execution_count": 22,
   "id": "af647498",
   "metadata": {},
   "outputs": [
    {
     "name": "stdout",
     "output_type": "stream",
     "text": [
      "Enter a word to translateOwl\n",
      "Enter index1\n",
      "wway\n"
     ]
    }
   ],
   "source": [
    "w = input('Enter a word to translate')\n",
    "i = input('Enter index')\n",
    "i = int(0)\n",
    "\n",
    "if ('i' == \"a\",\"e,\",\"\\i\",\"o\",\"u\"):\n",
    "    print(\"w\"+\"way\")"
   ]
  },
  {
   "cell_type": "code",
   "execution_count": null,
   "id": "22770a8f",
   "metadata": {},
   "outputs": [],
   "source": []
  }
 ],
 "metadata": {
  "kernelspec": {
   "display_name": "Python 3 (ipykernel)",
   "language": "python",
   "name": "python3"
  },
  "language_info": {
   "codemirror_mode": {
    "name": "ipython",
    "version": 3
   },
   "file_extension": ".py",
   "mimetype": "text/x-python",
   "name": "python",
   "nbconvert_exporter": "python",
   "pygments_lexer": "ipython3",
   "version": "3.10.4"
  }
 },
 "nbformat": 4,
 "nbformat_minor": 5
}
