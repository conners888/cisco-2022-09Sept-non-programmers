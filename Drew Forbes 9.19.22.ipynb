{
 "cells": [
  {
   "cell_type": "code",
   "execution_count": 2,
   "id": "f8118fc1",
   "metadata": {},
   "outputs": [
    {
     "name": "stdout",
     "output_type": "stream",
     "text": [
      "Drew\n"
     ]
    }
   ],
   "source": [
    "print('Drew')"
   ]
  },
  {
   "cell_type": "code",
   "execution_count": 4,
   "id": "cb7467d4",
   "metadata": {},
   "outputs": [
    {
     "name": "stdout",
     "output_type": "stream",
     "text": [
      "abcdefgh\n"
     ]
    }
   ],
   "source": [
    "x = 'abcd'\n",
    "y = 'efgh'\n",
    "print(x+y)"
   ]
  },
  {
   "cell_type": "code",
   "execution_count": 7,
   "id": "4e3ba557",
   "metadata": {},
   "outputs": [
    {
     "data": {
      "text/plain": [
       "str"
      ]
     },
     "execution_count": 7,
     "metadata": {},
     "output_type": "execute_result"
    }
   ],
   "source": [
    "type('Drew')"
   ]
  },
  {
   "cell_type": "code",
   "execution_count": 8,
   "id": "9832eef4",
   "metadata": {},
   "outputs": [
    {
     "data": {
      "text/plain": [
       "str"
      ]
     },
     "execution_count": 8,
     "metadata": {},
     "output_type": "execute_result"
    }
   ],
   "source": [
    "type('x')"
   ]
  },
  {
   "cell_type": "code",
   "execution_count": 10,
   "id": "6288d921",
   "metadata": {},
   "outputs": [
    {
     "name": "stdout",
     "output_type": "stream",
     "text": [
      "123efgh\n"
     ]
    }
   ],
   "source": [
    "x = '123'\n",
    "Y = '555'\n",
    "print(x+y)"
   ]
  },
  {
   "cell_type": "code",
   "execution_count": 11,
   "id": "184c375c",
   "metadata": {},
   "outputs": [
    {
     "name": "stdout",
     "output_type": "stream",
     "text": [
      "Enter your name:Drew\n"
     ]
    }
   ],
   "source": [
    "name = input('Enter your name:')"
   ]
  },
  {
   "cell_type": "code",
   "execution_count": 12,
   "id": "9b55411b",
   "metadata": {},
   "outputs": [
    {
     "name": "stdout",
     "output_type": "stream",
     "text": [
      "Hello,Drew!\n"
     ]
    }
   ],
   "source": [
    "print('Hello,'+ name + '!')"
   ]
  },
  {
   "cell_type": "code",
   "execution_count": 16,
   "id": "13036894",
   "metadata": {},
   "outputs": [
    {
     "name": "stdout",
     "output_type": "stream",
     "text": [
      "Enter your name:12345\n"
     ]
    }
   ],
   "source": [
    "name = input ('Enter your name:')"
   ]
  },
  {
   "cell_type": "code",
   "execution_count": 17,
   "id": "73d7165b",
   "metadata": {},
   "outputs": [
    {
     "name": "stdout",
     "output_type": "stream",
     "text": [
      "Hello,12345!\n"
     ]
    }
   ],
   "source": [
    "print('Hello,' + name + '!')"
   ]
  },
  {
   "cell_type": "code",
   "execution_count": 18,
   "id": "57b5e00e",
   "metadata": {},
   "outputs": [
    {
     "data": {
      "text/plain": [
       "str"
      ]
     },
     "execution_count": 18,
     "metadata": {},
     "output_type": "execute_result"
    }
   ],
   "source": [
    "type(name)"
   ]
  },
  {
   "cell_type": "code",
   "execution_count": 20,
   "id": "302bac5e",
   "metadata": {},
   "outputs": [
    {
     "ename": "SyntaxError",
     "evalue": "invalid syntax (3309527061.py, line 1)",
     "output_type": "error",
     "traceback": [
      "\u001b[0;36m  Cell \u001b[0;32mIn [20], line 1\u001b[0;36m\u001b[0m\n\u001b[0;31m    friendly.jupiter import\u001b[0m\n\u001b[0m                     ^\u001b[0m\n\u001b[0;31mSyntaxError\u001b[0m\u001b[0;31m:\u001b[0m invalid syntax\n"
     ]
    }
   ],
   "source": [
    "friendly.jupiter import"
   ]
  },
  {
   "cell_type": "code",
   "execution_count": null,
   "id": "1d20932b",
   "metadata": {},
   "outputs": [],
   "source": []
  }
 ],
 "metadata": {
  "kernelspec": {
   "display_name": "Python 3 (ipykernel)",
   "language": "python",
   "name": "python3"
  },
  "language_info": {
   "codemirror_mode": {
    "name": "ipython",
    "version": 3
   },
   "file_extension": ".py",
   "mimetype": "text/x-python",
   "name": "python",
   "nbconvert_exporter": "python",
   "pygments_lexer": "ipython3",
   "version": "3.10.4"
  }
 },
 "nbformat": 4,
 "nbformat_minor": 5
}
