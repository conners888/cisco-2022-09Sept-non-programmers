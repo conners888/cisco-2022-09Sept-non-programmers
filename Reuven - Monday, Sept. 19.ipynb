{
 "cells": [
  {
   "cell_type": "markdown",
   "id": "5707209e",
   "metadata": {},
   "source": [
    "# Agenda\n",
    "\n",
    "1. Fundamentals (Today, first 1/2)\n",
    "    - What is a programming language?\n",
    "    - What is Python?\n",
    "    - Jupyter\n",
    "    - Values\n",
    "    - Variables and assignment\n",
    "    - Comparisons\n",
    "    - `if` and conditions\n",
    "2. Numbers (Monday)\n",
    "3. Text (\"strings\") (Monday + Tuesday)\n",
    "4. Looping (`for` and `while`) (Tuesday)\n",
    "5. Lists (and a little bit about tuples) (Tuesday)\n",
    "6. Turning strings into lists, and back (Tuesday)\n",
    "7. Dictionaries (Wednesday)\n",
    "8. Files (reading from them, and writing to them) (Wednesday)\n",
    "9. Installing Python on your own computer (end of Wednesday)\n",
    "10. Functions (Thursday)\n",
    "11. Modules (Thursday) -- ending with a demo of API retrieval using JSON into Python data structures"
   ]
  },
  {
   "cell_type": "markdown",
   "id": "25ae70e7",
   "metadata": {},
   "source": [
    "# What's the deal with Python?\n",
    "\n",
    "Python is a high-level programming language -- meaning that it is *not* similar to how the hardware works or thinks.  \n",
    "\n",
    "Python has been around for more than 30 years.  It took a *very* long time to become popular.  Today, it's one of the top, most popular programming languages.  It has a large role in:\n",
    "\n",
    "- University education\n",
    "- Data science\n",
    "- Machine learning\n",
    "- Test automation\n",
    "- System administration \n",
    "- Devops\n",
    "- Web applications\n",
    "\n",
    "Right now, Python is *not* strong in mobile apps, or in GUI/graphical apps.\n",
    "\n",
    "Python is an open-source language.  Meaning:\n",
    "\n",
    "- The people who use it determine what new features/changes will be there.\n",
    "- New releases come out about once per year, typically in October.\n",
    "- It has a large community, coordinated by the Python Software Foundation\n",
    "\n",
    "## What happened, that made Python so popular?\n",
    "\n",
    "Python is consistent.  Once you learn something in the language, you can apply it forever.\n",
    "\n"
   ]
  },
  {
   "cell_type": "markdown",
   "id": "f0a5defa",
   "metadata": {},
   "source": [
    "# Jupyter has two modes\n",
    "\n",
    "- Edit mode: The outline is green. Anything I type goes into the cell. The cell might contain Markdown (documentation) or Python code. To enter edit mode, I click in the cell or press ENTER.\n",
    "- Command mode: The outline is blue. Anything I type is sent as a command to Jupyter. To enter command mode, I click to the left of the cell or press ESC.\n",
    "    - `c` -- copy the current cell\n",
    "    - `x` -- cut the current cell\n",
    "    - `v` -- paste the latest copy/cut\n",
    "    - `a` -- new cell *above* the current one\n",
    "    - `b` -- new cell *below* the current one\n",
    "    - `h` -- help -- show me all of the commands that I can use.\n",
    "    - `m` -- turn the current cell into Markdown documentation\n",
    "    - `y` -- turn the current cell into Python code\n",
    "    - `SHIFT+ENTER` -- executes the current cell / turns it into documentation"
   ]
  },
  {
   "cell_type": "code",
   "execution_count": 1,
   "id": "1b960ab4",
   "metadata": {},
   "outputs": [
    {
     "name": "stdout",
     "output_type": "stream",
     "text": [
      "Hello!\n",
      "Hello, again!\n",
      "OK, goodbye\n"
     ]
    }
   ],
   "source": [
    "print('Hello!')          # just pressing enter goes down one line\n",
    "print('Hello, again!')   # again, we'll press ENTER\n",
    "print('OK, goodbye')     # now, I'll press shift+Enter, to execute the cell"
   ]
  },
  {
   "cell_type": "markdown",
   "id": "d0e0836d",
   "metadata": {},
   "source": [
    "In Python, `print` is a function (i.e., a verb) that displays something on the screen.  Whatever you want displayed should be inside of the parentheses. Typically (but not always) we want to display text, which must be in quotes. It doesn't matter if you use `''` or `\"\"`, but you must be consistent and it's more common to use single quotes in Python."
   ]
  }
 ],
 "metadata": {
  "kernelspec": {
   "display_name": "Python 3 (ipykernel)",
   "language": "python",
   "name": "python3"
  },
  "language_info": {
   "codemirror_mode": {
    "name": "ipython",
    "version": 3
   },
   "file_extension": ".py",
   "mimetype": "text/x-python",
   "name": "python",
   "nbconvert_exporter": "python",
   "pygments_lexer": "ipython3",
   "version": "3.10.4"
  }
 },
 "nbformat": 4,
 "nbformat_minor": 5
}
