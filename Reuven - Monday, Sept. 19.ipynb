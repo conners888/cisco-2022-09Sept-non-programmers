{
 "cells": [
  {
   "cell_type": "markdown",
   "id": "86bfbabb",
   "metadata": {},
   "source": [
    "# Agenda\n",
    "\n",
    "1. Fundamentals (Today, first 1/2)\n",
    "    - What is a programming language?\n",
    "    - What is Python?\n",
    "    - Jupyter\n",
    "    - Values\n",
    "    - Variables and assignment\n",
    "    - Comparisons\n",
    "    - `if` and conditions\n",
    "2. Numbers (Monday)\n",
    "3. Text (\"strings\") (Monday + Tuesday)\n",
    "4. Looping (`for` and `while`) (Tuesday)\n",
    "5. Lists (and a little bit about tuples) (Tuesday)\n",
    "6. Turning strings into lists, and back (Tuesday)\n",
    "7. Dictionaries (Wednesday)\n",
    "8. Files (reading from them, and writing to them) (Wednesday)\n",
    "9. Installing Python on your own computer (end of Wednesday)\n",
    "10. Functions (Thursday)\n",
    "11. Modules (Thursday) -- ending with a demo of API retrieval using JSON into Python data structures"
   ]
  },
  {
   "cell_type": "markdown",
   "id": "dabbcfaa",
   "metadata": {},
   "source": [
    "# What's the deal with Python?\n",
    "\n",
    "Python is a high-level programming language -- meaning that it is *not* similar to how the hardware works or thinks.  \n",
    "\n",
    "Python has been around for more than 30 years.  It took a *very* long time to become popular.  Today, it's one of the top, most popular programming languages.  It has a large role in:\n",
    "\n",
    "- University education\n",
    "- Data science\n",
    "- Machine learning\n",
    "- Test automation\n",
    "- System administration \n",
    "- Devops\n",
    "- Web applications\n",
    "\n",
    "Right now, Python is *not* strong in mobile apps, or in GUI/graphical apps.\n",
    "\n",
    "Python is an open-source language.  Meaning:\n",
    "\n",
    "- The people who use it determine what new features/changes will be there.\n",
    "- New releases come out about once per year, typically in October.\n",
    "- It has a large community, coordinated by the Python Software Foundation\n",
    "\n",
    "## What happened, that made Python so popular?\n",
    "\n",
    "Python is consistent.  Once you learn something in the language, you can apply it forever.\n",
    "\n"
   ]
  },
  {
   "cell_type": "markdown",
   "id": "6cf94ccb",
   "metadata": {},
   "source": [
    "# Jupyter has two modes\n",
    "\n",
    "- Edit mode: The outline is green. Anything I type goes into the cell. The cell might contain Markdown (documentation) or Python code. To enter edit mode, I click in the cell or press ENTER.\n",
    "- Command mode: The outline is blue. Anything I type is sent as a command to Jupyter. To enter command mode, I click to the left of the cell or press ESC.\n",
    "    - `c` -- copy the current cell\n",
    "    - `x` -- cut the current cell\n",
    "    - `v` -- paste the latest copy/cut\n",
    "    - `a` -- new cell *above* the current one\n",
    "    - `b` -- new cell *below* the current one\n",
    "    - `h` -- help -- show me all of the commands that I can use.\n",
    "    - `m` -- turn the current cell into Markdown documentation\n",
    "    - `y` -- turn the current cell into Python code\n",
    "    - `SHIFT+ENTER` -- executes the current cell / turns it into documentation"
   ]
  },
  {
   "cell_type": "code",
   "execution_count": 2,
   "id": "3023fa7c",
   "metadata": {},
   "outputs": [
    {
     "name": "stdout",
     "output_type": "stream",
     "text": [
      "Hello!\n",
      "Hello, again!\n",
      "OK, goodbye!!\n"
     ]
    }
   ],
   "source": [
    "print('Hello!')          # just pressing enter goes down one line\n",
    "print('Hello, again!')   # again, we'll press ENTER\n",
    "print('OK, goodbye!!')   # now, I'll press shift+Enter, to execute the cell\n",
    "\n",
    "# shift+enter == execute the cell"
   ]
  },
  {
   "cell_type": "markdown",
   "id": "46dd1a10",
   "metadata": {},
   "source": [
    "In Python, `print` is a function (i.e., a verb) that displays something on the screen.  Whatever you want displayed should be inside of the parentheses. Typically (but not always) we want to display text, which must be in quotes. It doesn't matter if you use `''` or `\"\"`, but you must be consistent and it's more common to use single quotes in Python.\n",
    "\n",
    "If you want to keep comments in your code, you can do that with `#` -- through the end of the line, it's a comment."
   ]
  },
  {
   "cell_type": "markdown",
   "id": "5011e075",
   "metadata": {},
   "source": [
    "# Exercise: Start a new notebook and print\n",
    "\n",
    "1. Connect to the notebook server, which is at http://python.lerner.co.il:8888 (not https!)\n",
    "2. Select New -> Python from that initial page.\n",
    "3. Click on the title to change the notebook name to be your name (or some subset) + the date.\n",
    "4. Inside of a cell, use Python code to print your name. (That'll be `print`, parentheses, quotes, your name in the quotes.)"
   ]
  },
  {
   "cell_type": "code",
   "execution_count": 3,
   "id": "35613c51",
   "metadata": {},
   "outputs": [
    {
     "name": "stdout",
     "output_type": "stream",
     "text": [
      "Drew\n"
     ]
    }
   ],
   "source": [
    "print('Drew')   # this is a comment"
   ]
  },
  {
   "cell_type": "code",
   "execution_count": 4,
   "id": "734a2e24",
   "metadata": {},
   "outputs": [
    {
     "name": "stdout",
     "output_type": "stream",
     "text": [
      "Reuven\n"
     ]
    }
   ],
   "source": [
    "print('Reuven')"
   ]
  },
  {
   "cell_type": "code",
   "execution_count": 5,
   "id": "eb30d765",
   "metadata": {},
   "outputs": [],
   "source": [
    "# we can take values, and assign them to *variables*\n",
    "# when we use a variable in a Python expression, Python looks at the value the variable represents, not the variable\n",
    "\n",
    "# this is variable assignment: I'm taking a value, and assigning it to a variable called name\n",
    "\n",
    "# Notice a few things here:\n",
    "# - the variable name can contain letters, numbers, and _.  It must start with a letter or _, and usually letters\n",
    "# - we traditionally use only lowercase\n",
    "# - the value on the right is assigned to the variable on the left\n",
    "# - if the variable didn't already exist, now it does! If it did previously exist, now it has a new value.\n",
    "# - the assignment operator, =, is *NOT* the same as the mathematical = sign.\n",
    "\n",
    "name = 'Reuven'    "
   ]
  },
  {
   "cell_type": "code",
   "execution_count": 6,
   "id": "60e8176b",
   "metadata": {},
   "outputs": [
    {
     "name": "stdout",
     "output_type": "stream",
     "text": [
      "Reuven\n"
     ]
    }
   ],
   "source": [
    "print(name)"
   ]
  },
  {
   "cell_type": "code",
   "execution_count": 7,
   "id": "d7610013",
   "metadata": {},
   "outputs": [
    {
     "data": {
      "text/plain": [
       "str"
      ]
     },
     "execution_count": 7,
     "metadata": {},
     "output_type": "execute_result"
    }
   ],
   "source": [
    "type(name)   # what kind of value is the name variable containing?"
   ]
  },
  {
   "cell_type": "code",
   "execution_count": 8,
   "id": "96461d6a",
   "metadata": {},
   "outputs": [
    {
     "name": "stdout",
     "output_type": "stream",
     "text": [
      "30\n"
     ]
    }
   ],
   "source": [
    "x = 10     # assign the number 10 to x\n",
    "y = 20     # assign the number 20 to y\n",
    "\n",
    "print(x + y)   # first add x and y together, and then print the result"
   ]
  },
  {
   "cell_type": "code",
   "execution_count": 10,
   "id": "bfa81466",
   "metadata": {},
   "outputs": [
    {
     "name": "stdout",
     "output_type": "stream",
     "text": [
      "abcdefgh\n"
     ]
    }
   ],
   "source": [
    "x = 'abcd'  # assign the text string 'abcd' to x\n",
    "y = 'efgh'  # assign the text string 'efgh' to y\n",
    "\n",
    "print(x + y)  # add x and y together, and print the resulting value"
   ]
  },
  {
   "cell_type": "markdown",
   "id": "b9a9a300",
   "metadata": {},
   "source": [
    "# Typing in Python\n",
    "\n",
    "We say that Python is \"dynamically typed,\" but also \"strongly typed.\"\n",
    "\n",
    "- Dynamically typed: Variables don't have types, but values do. The variable `x` could contain an `int`, a `str`, and then a `list`, all in the same program. That is not an error.  This is considered a feature by many programmers.\n",
    "- Strongly typed: There is a big difference between (for example) `int` and `str` as two types of values. Before you try to invoke a function, or an operation (e.g., `+`) on two different types, make sure that it's allowed.  Python is not going to automatically convert your values to a different type."
   ]
  },
  {
   "cell_type": "code",
   "execution_count": 11,
   "id": "9313bab2",
   "metadata": {},
   "outputs": [
    {
     "ename": "TypeError",
     "evalue": "unsupported operand type(s) for +: 'int' and 'str'",
     "output_type": "error",
     "traceback": [
      "\u001b[0;31m---------------------------------------------------------------------------\u001b[0m",
      "\u001b[0;31mTypeError\u001b[0m                                 Traceback (most recent call last)",
      "Cell \u001b[0;32mIn [11], line 4\u001b[0m\n\u001b[1;32m      1\u001b[0m x \u001b[38;5;241m=\u001b[39m \u001b[38;5;241m10\u001b[39m\n\u001b[1;32m      2\u001b[0m y \u001b[38;5;241m=\u001b[39m \u001b[38;5;124m'\u001b[39m\u001b[38;5;124m20\u001b[39m\u001b[38;5;124m'\u001b[39m   \u001b[38;5;66;03m# this is not a number -- this has quotes, and is thus a text string!\u001b[39;00m\n\u001b[0;32m----> 4\u001b[0m \u001b[43mx\u001b[49m\u001b[43m \u001b[49m\u001b[38;5;241;43m+\u001b[39;49m\u001b[43m \u001b[49m\u001b[43my\u001b[49m\n",
      "\u001b[0;31mTypeError\u001b[0m: unsupported operand type(s) for +: 'int' and 'str'"
     ]
    }
   ],
   "source": [
    "x = 10\n",
    "y = '20'   # this is not a number -- this has quotes, and is thus a text string!\n",
    "\n",
    "x + y"
   ]
  },
  {
   "cell_type": "code",
   "execution_count": 12,
   "id": "126a37c0",
   "metadata": {},
   "outputs": [
    {
     "name": "stdout",
     "output_type": "stream",
     "text": [
      "Hello, Reuven!\n"
     ]
    }
   ],
   "source": [
    "name = 'Reuven'\n",
    "\n",
    "print('Hello, ' + name + '!')  # we know that we can use + to combine strings together"
   ]
  },
  {
   "cell_type": "markdown",
   "id": "c878812f",
   "metadata": {},
   "source": [
    "# What if I want to get input from the user?\n",
    "\n",
    "To do that, we need to use the `input` function.  It waits, asking the user to enter something. Whatever the user gives us is turned into a text string, and returned by the function -- typically then assigned to a variable."
   ]
  },
  {
   "cell_type": "code",
   "execution_count": 13,
   "id": "0d4edc8a",
   "metadata": {},
   "outputs": [
    {
     "name": "stdout",
     "output_type": "stream",
     "text": [
      "Enter your name: anonymous\n",
      "Hello, anonymous!\n"
     ]
    }
   ],
   "source": [
    "# in assignment, the right side runs first\n",
    "# it will run \"input\", asking the user for their name\n",
    "# whatever \"input\" returns is assigned to the name variable\n",
    "\n",
    "name = input('Enter your name: ')\n",
    "print('Hello, ' + name + '!')"
   ]
  },
  {
   "cell_type": "code",
   "execution_count": 14,
   "id": "09caef98",
   "metadata": {},
   "outputs": [
    {
     "name": "stdout",
     "output_type": "stream",
     "text": [
      "Hello,anonymous!\n"
     ]
    }
   ],
   "source": [
    "print('Hello,' + name + '!')"
   ]
  },
  {
   "cell_type": "markdown",
   "id": "8950db36",
   "metadata": {},
   "source": [
    "# Exercise: Print a nice greeting to the user\n",
    "\n",
    "1. Get the user's name via the `input` function, and assign it to the variable `name`.\n",
    "2. Print a nice greeting to the user, using their name."
   ]
  },
  {
   "cell_type": "code",
   "execution_count": null,
   "id": "2d30daba",
   "metadata": {},
   "outputs": [],
   "source": [
    "# assign the user's input in the \"name\" variable\n",
    "\n",
    "name = input('Enter your name: ')\n",
    "\n",
    "print('Hello, ' + name + '!')"
   ]
  },
  {
   "cell_type": "code",
   "execution_count": null,
   "id": "0d7ef8fd",
   "metadata": {},
   "outputs": [],
   "source": []
  }
 ],
 "metadata": {
  "kernelspec": {
   "display_name": "Python 3 (ipykernel)",
   "language": "python",
   "name": "python3"
  },
  "language_info": {
   "codemirror_mode": {
    "name": "ipython",
    "version": 3
   },
   "file_extension": ".py",
   "mimetype": "text/x-python",
   "name": "python",
   "nbconvert_exporter": "python",
   "pygments_lexer": "ipython3",
   "version": "3.10.4"
  }
 },
 "nbformat": 4,
 "nbformat_minor": 5
}
