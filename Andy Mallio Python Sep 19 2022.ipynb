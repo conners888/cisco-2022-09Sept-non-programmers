{
 "cells": [
  {
   "cell_type": "code",
   "execution_count": 1,
   "id": "fcbb398d",
   "metadata": {
    "scrolled": true
   },
   "outputs": [
    {
     "name": "stdout",
     "output_type": "stream",
     "text": [
      "Andy Mallio\n",
      "September 19, 2022\n"
     ]
    }
   ],
   "source": [
    "print ('Andy Mallio')        #Printing my name\n",
    "print ('September 19, 2022') #Printing the date"
   ]
  },
  {
   "cell_type": "code",
   "execution_count": 1,
   "id": "9879ffbf",
   "metadata": {},
   "outputs": [
    {
     "name": "stdout",
     "output_type": "stream",
     "text": [
      "friendly_traceback 0.6.0; friendly 0.6.0.\n",
      "Type 'Friendly' for basic help.\n"
     ]
    }
   ],
   "source": [
    "from friendly.jupyter import Friendly"
   ]
  },
  {
   "cell_type": "code",
   "execution_count": 18,
   "id": "c6990a13",
   "metadata": {},
   "outputs": [
    {
     "name": "stdout",
     "output_type": "stream",
     "text": [
      "What is your name? Vernon\n",
      "Hello, Vernon. Glad you are here.\n"
     ]
    }
   ],
   "source": [
    "name = input ('What is your name? ')                  #ask for the user's name.\n",
    "print('Hello, ' + name + '. ' + 'Glad you are here.') #respond to the user with their name."
   ]
  },
  {
   "cell_type": "code",
   "execution_count": 16,
   "id": "20b855ae",
   "metadata": {},
   "outputs": [
    {
     "name": "stdout",
     "output_type": "stream",
     "text": [
      "What is your name? Andy\n",
      "Hi Boss!\n",
      "So good to see you again.\n"
     ]
    }
   ],
   "source": [
    "name = input ('What is your name? ')                  #ask for the user's name.\n",
    "if name == 'Andy':\n",
    "    print ('Hi Boss!')\n",
    "    print ('So good to see you again.')\n",
    "else:\n",
    "    print ('Hello, ' + name + '!')"
   ]
  },
  {
   "cell_type": "code",
   "execution_count": 17,
   "id": "c252e316",
   "metadata": {},
   "outputs": [
    {
     "name": "stdout",
     "output_type": "stream",
     "text": [
      "Yes, greater than 30\n"
     ]
    }
   ],
   "source": [
    "n = 50\n",
    "if n > 30:\n",
    "    print ('Yes, greater than 30')\n",
    "elif n > 40:\n",
    "    print ('Yes, greater than 40')\n",
    "elif n > 45:\n",
    "    print ('Yes, greater than 45')\n",
    "else:\n",
    "    print (\"I don't know.\")\n",
    "    "
   ]
  },
  {
   "cell_type": "code",
   "execution_count": 19,
   "id": "5b8110c8",
   "metadata": {},
   "outputs": [],
   "source": [
    "import random #load this library of functionality\n",
    "number = random.randint(0, 100)"
   ]
  },
  {
   "cell_type": "code",
   "execution_count": 20,
   "id": "9321ac66",
   "metadata": {},
   "outputs": [
    {
     "data": {
      "text/html": [
       "<pre style='white-space:pre;overflow-x:auto;line-height:normal'><span style=\"color: #101010; text-decoration-color: #101010\">48</span>\n",
       "</pre>"
      ],
      "text/plain": [
       "\u001b[38;2;16;16;16m48\u001b[0m\n"
      ]
     },
     "metadata": {},
     "output_type": "display_data"
    }
   ],
   "source": [
    "number"
   ]
  },
  {
   "cell_type": "code",
   "execution_count": 1,
   "id": "e7807cc4",
   "metadata": {},
   "outputs": [
    {
     "name": "stdout",
     "output_type": "stream",
     "text": [
      "friendly_traceback 0.6.0; friendly 0.6.0.\n",
      "Type 'Friendly' for basic help.\n"
     ]
    }
   ],
   "source": [
    "from friendly.jupyter import Friendly"
   ]
  },
  {
   "cell_type": "code",
   "execution_count": 9,
   "id": "a4fda5f1",
   "metadata": {},
   "outputs": [
    {
     "name": "stdout",
     "output_type": "stream",
     "text": [
      "12\n",
      "Guess a number from 0 to 100 4\n",
      "You guessed, 4.\n",
      "Too low.\n"
     ]
    }
   ],
   "source": [
    "import random #load this library of functionality\n",
    "number = random.randint(0, 100)\n",
    "print (number)\n",
    "guess = input('Guess a number from 0 to 100 ')\n",
    "print ('You guessed, ' + guess + '.')\n",
    "guess = int(guess)\n",
    "if guess == number:\n",
    "    print('You got it!')\n",
    "elif guess < number:\n",
    "    print('Too low.')\n",
    "else:\n",
    "    print('Too high.')"
   ]
  },
  {
   "cell_type": "code",
   "execution_count": 6,
   "id": "575edfa9",
   "metadata": {},
   "outputs": [
    {
     "data": {
      "text/html": [
       "<pre style='white-space:pre;overflow-x:auto;line-height:normal'><span style=\"color: #266290; text-decoration-color: #266290\">True</span>\n",
       "</pre>"
      ],
      "text/plain": [
       "\u001b[38;2;38;98;144mTrue\u001b[0m\n"
      ]
     },
     "metadata": {},
     "output_type": "display_data"
    }
   ],
   "source": [
    "x = 'banana'\n",
    "y = 'apple'\n",
    "y < x"
   ]
  },
  {
   "cell_type": "code",
   "execution_count": 2,
   "id": "52292e65",
   "metadata": {},
   "outputs": [
    {
     "name": "stdout",
     "output_type": "stream",
     "text": [
      "Please enter the name of the town you live in: Westford\n"
     ]
    },
    {
     "data": {
      "text/html": [
       "<div id='friendly-message1'><pre style='white-space:pre;overflow-x:auto;line-height:normal'><span style=\"color: #dd0000; text-decoration-color: #dd0000; background-color: #ffffff\">ValueError</span>: invalid literal for int() with base 10: 'Westford'        \n",
       "</pre></div>"
      ],
      "text/plain": [
       "\u001b[38;2;221;0;0;48;2;255;255;255mValueError\u001b[0m: invalid literal for int() with base 10: 'Westford'        \n"
      ]
     },
     "metadata": {},
     "output_type": "display_data"
    },
    {
     "data": {
      "text/html": [
       "\n",
       "        <button\n",
       "            id='friendly-tb-btn-show1'\n",
       "            onclick='friendly_toggle_more1()'\n",
       "            style=''>\n",
       "        More ...\n",
       "        </button>\n",
       "        <script type=\"text/Javascript\"> function friendly_toggle_more1(){\n",
       "        var btn = document.getElementById('friendly-tb-btn-show1');\n",
       "        var btn_what = document.getElementById('friendly-tb-btn-show-what1');\n",
       "        var btn_where = document.getElementById('friendly-tb-btn-show-where1');\n",
       "        var btn_why = document.getElementById('friendly-tb-btn-show-why1');\n",
       "        ;\n",
       "        var message = document.getElementById('friendly-message1');\n",
       "        var friendly_tb_content = document.getElementById('friendly-tb-friendly_tb-content1');\n",
       "        var what_content = document.getElementById('friendly-tb-what-content1');\n",
       "        var why_content = document.getElementById('friendly-tb-why-content1');\n",
       "        var where_content = document.getElementById('friendly-tb-where-content1');\n",
       "        ;\n",
       "\n",
       "        if (btn_what.style.display == 'none'){\n",
       "            message.style.display = 'none';\n",
       "            btn_what.style.display = 'block';\n",
       "            btn_why.style.display = 'block';\n",
       "            btn_where.style.display = 'block';\n",
       "            friendly_tb_content.style.display = 'block';\n",
       "            ;\n",
       "            btn.textContent = \"Show message only\";\n",
       "            ;\n",
       "        } else {\n",
       "            btn_what.style.display = 'none';\n",
       "            btn_what.textContent = 'what()';\n",
       "            btn_why.style.display = 'none';\n",
       "            btn_why.textContent = 'why()';\n",
       "            btn_where.style.display = 'none';\n",
       "            btn_where.textContent = 'where()';\n",
       "            what_content.style.display = 'none';\n",
       "            why_content.style.display = 'none';\n",
       "            where_content.style.display = 'none';\n",
       "            ;\n",
       "            friendly_tb_content.style.display = 'none';\n",
       "            message.style.display = 'block';\n",
       "            btn.textContent = \"More ...\";\n",
       "            ;\n",
       "        }\n",
       "        };\n",
       "        </script>\n",
       "        "
      ]
     },
     "metadata": {},
     "output_type": "display_data"
    },
    {
     "data": {
      "text/html": [
       "<div id='friendly-tb-friendly_tb-content1' style='display:none'><pre style='white-space:pre;overflow-x:auto;line-height:normal'><span style=\"color: #dd0000; text-decoration-color: #dd0000; background-color: #ffffff\">Traceback (most recent call last):</span><span style=\"background-color: #ffffff\">                                                                  </span>\n",
       "<span style=\"color: #101010; text-decoration-color: #101010; background-color: #ffffff\">  Code block </span><span style=\"color: #783114; text-decoration-color: #783114; background-color: #ffffff\">[</span><span style=\"color: #101010; text-decoration-color: #101010; background-color: #ffffff\">2</span><span style=\"color: #783114; text-decoration-color: #783114; background-color: #ffffff\">]</span><span style=\"color: #101010; text-decoration-color: #101010; background-color: #ffffff\">, line 4</span><span style=\"background-color: #ffffff\">                                                                            </span>\n",
       "<span style=\"color: #101010; text-decoration-color: #101010; background-color: #ffffff\">    </span><span style=\"color: #0011aa; text-decoration-color: #0011aa; background-color: #ffffff\">s</span><span style=\"color: #101010; text-decoration-color: #101010; background-color: #ffffff\"> </span><span style=\"color: #783114; text-decoration-color: #783114; background-color: #ffffff\">=</span><span style=\"color: #101010; text-decoration-color: #101010; background-color: #ffffff\"> </span><span style=\"color: #005500; text-decoration-color: #005500; background-color: #ffffff\">int</span><span style=\"color: #783114; text-decoration-color: #783114; background-color: #ffffff\">(</span><span style=\"color: #0011aa; text-decoration-color: #0011aa; background-color: #ffffff\">s</span><span style=\"color: #783114; text-decoration-color: #783114; background-color: #ffffff\">)</span><span style=\"background-color: #ffffff\">                                                                                      </span>\n",
       "<span style=\"color: #dd0000; text-decoration-color: #dd0000; background-color: #ffffff\">ValueError</span><span style=\"color: #101010; text-decoration-color: #101010; background-color: #ffffff\">: </span><span style=\"color: #0011aa; text-decoration-color: #0011aa; background-color: #ffffff\">invalid literal for int() with base 10: 'Westford'</span><span style=\"background-color: #ffffff\">                                      </span>\n",
       "</pre></div>"
      ],
      "text/plain": [
       "\u001b[38;2;221;0;0;48;2;255;255;255mTraceback (most recent call last):\u001b[0m\u001b[48;2;255;255;255m                                                                  \u001b[0m\n",
       "\u001b[38;2;16;16;16;48;2;255;255;255m  Code block \u001b[0m\u001b[38;2;120;49;20;48;2;255;255;255m[\u001b[0m\u001b[38;2;16;16;16;48;2;255;255;255m2\u001b[0m\u001b[38;2;120;49;20;48;2;255;255;255m]\u001b[0m\u001b[38;2;16;16;16;48;2;255;255;255m, line \u001b[0m\u001b[38;2;16;16;16;48;2;255;255;255m4\u001b[0m\u001b[48;2;255;255;255m                                                                            \u001b[0m\n",
       "\u001b[38;2;16;16;16;48;2;255;255;255m    \u001b[0m\u001b[38;2;0;17;170;48;2;255;255;255ms\u001b[0m\u001b[38;2;16;16;16;48;2;255;255;255m \u001b[0m\u001b[38;2;120;49;20;48;2;255;255;255m=\u001b[0m\u001b[38;2;16;16;16;48;2;255;255;255m \u001b[0m\u001b[38;2;0;85;0;48;2;255;255;255mint\u001b[0m\u001b[38;2;120;49;20;48;2;255;255;255m(\u001b[0m\u001b[38;2;0;17;170;48;2;255;255;255ms\u001b[0m\u001b[38;2;120;49;20;48;2;255;255;255m)\u001b[0m\u001b[48;2;255;255;255m                                                                                      \u001b[0m\n",
       "\u001b[38;2;221;0;0;48;2;255;255;255mValueError\u001b[0m\u001b[38;2;16;16;16;48;2;255;255;255m: \u001b[0m\u001b[38;2;0;17;170;48;2;255;255;255minvalid literal for int() with base 10: 'Westford'\u001b[0m\u001b[48;2;255;255;255m                                      \u001b[0m\n"
      ]
     },
     "metadata": {},
     "output_type": "display_data"
    },
    {
     "data": {
      "text/html": [
       "<script type=\"text/Javascript\"> function toggle_what1(){\n",
       "     var content = document.getElementById('friendly-tb-what-content1');\n",
       "     var btn = document.getElementById('friendly-tb-btn-show-what1');\n",
       "        if (content.style.display === 'none') {\n",
       "            content.style.display = 'block';\n",
       "            btn.textContent = \"Hide what()\";\n",
       "        } else {\n",
       "            content.style.display = 'none';\n",
       "            btn.textContent = \"what()\";\n",
       "       }\n",
       "    }\n",
       "     </script>\n",
       "     <button\n",
       "         id='friendly-tb-btn-show-what1'\n",
       "         onclick='toggle_what1()'\n",
       "         style='display:none '>\n",
       "     what()\n",
       "     </button>\n",
       "    "
      ]
     },
     "metadata": {},
     "output_type": "display_data"
    },
    {
     "data": {
      "text/html": [
       "<div id='friendly-tb-what-content1' style='display:none'><pre style='white-space:pre;overflow-x:auto;line-height:normal'>A <span style=\"color: #dd0000; text-decoration-color: #dd0000; background-color: #ffffff\">ValueError</span> indicates that a function or an operation received an    \n",
       "argument of the right type, but an inappropriate value.               \n",
       "</pre></div>"
      ],
      "text/plain": [
       "A \u001b[38;2;221;0;0;48;2;255;255;255mValueError\u001b[0m indicates that a function or an operation received an    \n",
       "argument of the right type, but an inappropriate value.               \n"
      ]
     },
     "metadata": {},
     "output_type": "display_data"
    },
    {
     "data": {
      "text/html": [
       "<script type=\"text/Javascript\"> function toggle_why1(){\n",
       "     var content = document.getElementById('friendly-tb-why-content1');\n",
       "     var btn = document.getElementById('friendly-tb-btn-show-why1');\n",
       "        if (content.style.display === 'none') {\n",
       "            content.style.display = 'block';\n",
       "            btn.textContent = \"Hide why()\";\n",
       "        } else {\n",
       "            content.style.display = 'none';\n",
       "            btn.textContent = \"why()\";\n",
       "       }\n",
       "    }\n",
       "     </script>\n",
       "     <button\n",
       "         id='friendly-tb-btn-show-why1'\n",
       "         onclick='toggle_why1()'\n",
       "         style='display:none '>\n",
       "     why()\n",
       "     </button>\n",
       "    "
      ]
     },
     "metadata": {},
     "output_type": "display_data"
    },
    {
     "data": {
      "text/html": [
       "<div id='friendly-tb-why-content1' style='display:none'><pre style='white-space:pre;overflow-x:auto;line-height:normal'><span style=\"color: #8b008b; text-decoration-color: #8b008b; background-color: #ffffff\">'Westford'</span> is an invalid argument for <span style=\"color: #005500; text-decoration-color: #005500; background-color: #ffffff\">int</span><span style=\"color: #783114; text-decoration-color: #783114; background-color: #ffffff\">()</span> in base <span style=\"color: #101010; text-decoration-color: #101010; background-color: #ffffff\">10</span>. In base <span style=\"color: #101010; text-decoration-color: #101010; background-color: #ffffff\">10</span>,   \n",
       "<span style=\"color: #005500; text-decoration-color: #005500; background-color: #ffffff\">int</span><span style=\"color: #783114; text-decoration-color: #783114; background-color: #ffffff\">()</span> is most often use to convert a string containing the digits <span style=\"color: #101010; text-decoration-color: #101010; background-color: #ffffff\">0</span> to\n",
       "<span style=\"color: #101010; text-decoration-color: #101010; background-color: #ffffff\">9</span> into an integer. The following characters are not allowed: <span style=\"color: #0011aa; text-decoration-color: #0011aa; background-color: #ffffff\">W</span><span style=\"color: #783114; text-decoration-color: #783114; background-color: #ffffff\">,</span><span style=\"color: #101010; text-decoration-color: #101010; background-color: #ffffff\"> </span><span style=\"color: #0011aa; text-decoration-color: #0011aa; background-color: #ffffff\">e</span><span style=\"color: #783114; text-decoration-color: #783114; background-color: #ffffff\">,</span><span style=\"color: #101010; text-decoration-color: #101010; background-color: #ffffff\"> </span><span style=\"color: #0011aa; text-decoration-color: #0011aa; background-color: #ffffff\">s</span><span style=\"color: #783114; text-decoration-color: #783114; background-color: #ffffff\">,</span><span style=\"color: #101010; text-decoration-color: #101010; background-color: #ffffff\"> </span>\n",
       "<span style=\"color: #0011aa; text-decoration-color: #0011aa; background-color: #ffffff\">t</span><span style=\"color: #783114; text-decoration-color: #783114; background-color: #ffffff\">,</span><span style=\"color: #101010; text-decoration-color: #101010; background-color: #ffffff\"> </span><span style=\"color: #0011aa; text-decoration-color: #0011aa; background-color: #ffffff\">f</span><span style=\"color: #783114; text-decoration-color: #783114; background-color: #ffffff\">,</span><span style=\"color: #101010; text-decoration-color: #101010; background-color: #ffffff\"> </span><span style=\"color: #0011aa; text-decoration-color: #0011aa; background-color: #ffffff\">o</span><span style=\"color: #783114; text-decoration-color: #783114; background-color: #ffffff\">,</span><span style=\"color: #101010; text-decoration-color: #101010; background-color: #ffffff\"> </span><span style=\"color: #0011aa; text-decoration-color: #0011aa; background-color: #ffffff\">r</span><span style=\"color: #783114; text-decoration-color: #783114; background-color: #ffffff\">,</span><span style=\"color: #101010; text-decoration-color: #101010; background-color: #ffffff\"> </span><span style=\"color: #0011aa; text-decoration-color: #0011aa; background-color: #ffffff\">d</span>.                                                        \n",
       "</pre></div>"
      ],
      "text/plain": [
       "\u001b[38;2;139;0;139;48;2;255;255;255m'\u001b[0m\u001b[38;2;139;0;139;48;2;255;255;255mWestford\u001b[0m\u001b[38;2;139;0;139;48;2;255;255;255m'\u001b[0m is an invalid argument for \u001b[38;2;0;85;0;48;2;255;255;255mint\u001b[0m\u001b[38;2;120;49;20;48;2;255;255;255m(\u001b[0m\u001b[38;2;120;49;20;48;2;255;255;255m)\u001b[0m in base \u001b[38;2;16;16;16;48;2;255;255;255m10\u001b[0m. In base \u001b[38;2;16;16;16;48;2;255;255;255m10\u001b[0m,   \n",
       "\u001b[38;2;0;85;0;48;2;255;255;255mint\u001b[0m\u001b[38;2;120;49;20;48;2;255;255;255m(\u001b[0m\u001b[38;2;120;49;20;48;2;255;255;255m)\u001b[0m is most often use to convert a string containing the digits \u001b[38;2;16;16;16;48;2;255;255;255m0\u001b[0m to\n",
       "\u001b[38;2;16;16;16;48;2;255;255;255m9\u001b[0m into an integer. The following characters are not allowed: \u001b[38;2;0;17;170;48;2;255;255;255mW\u001b[0m\u001b[38;2;120;49;20;48;2;255;255;255m,\u001b[0m\u001b[38;2;16;16;16;48;2;255;255;255m \u001b[0m\u001b[38;2;0;17;170;48;2;255;255;255me\u001b[0m\u001b[38;2;120;49;20;48;2;255;255;255m,\u001b[0m\u001b[38;2;16;16;16;48;2;255;255;255m \u001b[0m\u001b[38;2;0;17;170;48;2;255;255;255ms\u001b[0m\u001b[38;2;120;49;20;48;2;255;255;255m,\u001b[0m\u001b[38;2;16;16;16;48;2;255;255;255m \u001b[0m\n",
       "\u001b[38;2;0;17;170;48;2;255;255;255mt\u001b[0m\u001b[38;2;120;49;20;48;2;255;255;255m,\u001b[0m\u001b[38;2;16;16;16;48;2;255;255;255m \u001b[0m\u001b[38;2;0;17;170;48;2;255;255;255mf\u001b[0m\u001b[38;2;120;49;20;48;2;255;255;255m,\u001b[0m\u001b[38;2;16;16;16;48;2;255;255;255m \u001b[0m\u001b[38;2;0;17;170;48;2;255;255;255mo\u001b[0m\u001b[38;2;120;49;20;48;2;255;255;255m,\u001b[0m\u001b[38;2;16;16;16;48;2;255;255;255m \u001b[0m\u001b[38;2;0;17;170;48;2;255;255;255mr\u001b[0m\u001b[38;2;120;49;20;48;2;255;255;255m,\u001b[0m\u001b[38;2;16;16;16;48;2;255;255;255m \u001b[0m\u001b[38;2;0;17;170;48;2;255;255;255md\u001b[0m.                                                        \n"
      ]
     },
     "metadata": {},
     "output_type": "display_data"
    },
    {
     "data": {
      "text/html": [
       "<script type=\"text/Javascript\"> function toggle_where1(){\n",
       "     var content = document.getElementById('friendly-tb-where-content1');\n",
       "     var btn = document.getElementById('friendly-tb-btn-show-where1');\n",
       "        if (content.style.display === 'none') {\n",
       "            content.style.display = 'block';\n",
       "            btn.textContent = \"Hide where()\";\n",
       "        } else {\n",
       "            content.style.display = 'none';\n",
       "            btn.textContent = \"where()\";\n",
       "       }\n",
       "    }\n",
       "     </script>\n",
       "     <button\n",
       "         id='friendly-tb-btn-show-where1'\n",
       "         onclick='toggle_where1()'\n",
       "         style='display:none '>\n",
       "     where()\n",
       "     </button>\n",
       "    "
      ]
     },
     "metadata": {},
     "output_type": "display_data"
    },
    {
     "data": {
      "text/html": [
       "<div id='friendly-tb-where-content1' style='display:none'><pre style='white-space:pre;overflow-x:auto;line-height:normal'><span style=\"color: #dd0000; text-decoration-color: #dd0000\">Exception raised on line 4 of code block </span><span style=\"color: #783114; text-decoration-color: #783114; background-color: #ffffff\">[</span><span style=\"color: #101010; text-decoration-color: #101010; background-color: #ffffff\">2</span><span style=\"color: #783114; text-decoration-color: #783114; background-color: #ffffff\">]</span><span style=\"color: #dd0000; text-decoration-color: #dd0000\">.</span>                                                       \n",
       "\n",
       "<span style=\"color: #808080; text-decoration-color: #808080; background-color: #ffffff\">       1| # DO THIS EXERCISE AGAIN</span>\n",
       "<span style=\"color: #808080; text-decoration-color: #808080; background-color: #ffffff\">       2|</span><span style=\"color: #0011aa; text-decoration-color: #0011aa; background-color: #ffffff\"> </span>\n",
       "<span style=\"color: #808080; text-decoration-color: #808080; background-color: #ffffff\">       3|</span><span style=\"color: #0011aa; text-decoration-color: #0011aa; background-color: #ffffff\"> s</span><span style=\"color: #783114; text-decoration-color: #783114; background-color: #ffffff\"> =</span><span style=\"color: #0011aa; text-decoration-color: #0011aa; background-color: #ffffff\"> input</span><span style=\"color: #783114; text-decoration-color: #783114; background-color: #ffffff\">(</span><span style=\"color: #8b008b; text-decoration-color: #8b008b; background-color: #ffffff\">'Please enter the name of the town you live in: '</span><span style=\"color: #783114; text-decoration-color: #783114; background-color: #ffffff\">)</span>\n",
       "<span style=\"color: #783114; text-decoration-color: #783114; background-color: #ffffff\">     &gt; </span><span style=\"color: #101010; text-decoration-color: #101010; background-color: #ffffff\">4|</span><span style=\"color: #0011aa; text-decoration-color: #0011aa; background-color: #ffffff\"> s</span><span style=\"color: #783114; text-decoration-color: #783114; background-color: #ffffff\"> = </span><span style=\"color: #ffffff; text-decoration-color: #ffffff; background-color: #cc0000\">int(s)</span>\n",
       "<span style=\"color: #808080; text-decoration-color: #808080; background-color: #ffffff\">       5|</span><span style=\"color: #0011aa; text-decoration-color: #0011aa; background-color: #ffffff\"> </span><span style=\"color: #005500; text-decoration-color: #005500; background-color: #ffffff\">print</span><span style=\"color: #783114; text-decoration-color: #783114; background-color: #ffffff\"> (</span><span style=\"color: #8b008b; text-decoration-color: #8b008b; background-color: #ffffff\">'There are'</span><span style=\"color: #783114; text-decoration-color: #783114; background-color: #ffffff\"> +</span><span style=\"color: #0011aa; text-decoration-color: #0011aa; background-color: #ffffff\"> s</span><span style=\"color: #783114; text-decoration-color: #783114; background-color: #ffffff\"> +</span><span style=\"color: #8b008b; text-decoration-color: #8b008b; background-color: #ffffff\"> 'letters in your town\\'s name.'</span><span style=\"color: #783114; text-decoration-color: #783114; background-color: #ffffff\">)</span>\n",
       "\n",
       "<span style=\"color: #101010; text-decoration-color: #101010; background-color: #ffffff\">    </span><span style=\"color: #0011aa; text-decoration-color: #0011aa; background-color: #ffffff\">s</span><span style=\"color: #783114; text-decoration-color: #783114; background-color: #ffffff\">:</span><span style=\"color: #101010; text-decoration-color: #101010; background-color: #ffffff\">  </span><span style=\"color: #8b008b; text-decoration-color: #8b008b; background-color: #ffffff\">'Westford'</span><span style=\"background-color: #ffffff\">                                                                                  </span>\n",
       "<span style=\"color: #101010; text-decoration-color: #101010; background-color: #ffffff\">    </span><span style=\"color: #005500; text-decoration-color: #005500; background-color: #ffffff\">int</span><span style=\"color: #783114; text-decoration-color: #783114; background-color: #ffffff\">:</span><span style=\"color: #101010; text-decoration-color: #101010; background-color: #ffffff\">  </span><span style=\"color: #783114; text-decoration-color: #783114; background-color: #ffffff\">&lt;</span><span style=\"color: #005500; text-decoration-color: #005500; background-color: #ffffff\">class</span><span style=\"color: #101010; text-decoration-color: #101010; background-color: #ffffff\"> </span><span style=\"color: #0011aa; text-decoration-color: #0011aa; background-color: #ffffff\">int</span><span style=\"color: #783114; text-decoration-color: #783114; background-color: #ffffff\">&gt;</span><span style=\"background-color: #ffffff\">                                                                               </span>\n",
       "</pre></div>"
      ],
      "text/plain": [
       "\u001b[38;2;221;0;0mException raised on line 4 of code block \u001b[0m\u001b[38;2;120;49;20;48;2;255;255;255m[\u001b[0m\u001b[38;2;16;16;16;48;2;255;255;255m2\u001b[0m\u001b[38;2;120;49;20;48;2;255;255;255m]\u001b[0m\u001b[38;2;221;0;0m.\u001b[0m                                                       \n",
       "\n",
       "\u001b[38;2;128;128;128;48;2;255;255;255m       1|\u001b[0m\u001b[38;2;128;128;128;48;2;255;255;255m # DO THIS EXERCISE AGAIN\u001b[0m\n",
       "\u001b[38;2;128;128;128;48;2;255;255;255m       2|\u001b[0m\u001b[38;2;0;17;170;48;2;255;255;255m \u001b[0m\n",
       "\u001b[38;2;128;128;128;48;2;255;255;255m       3|\u001b[0m\u001b[38;2;0;17;170;48;2;255;255;255m \u001b[0m\u001b[38;2;0;17;170;48;2;255;255;255ms\u001b[0m\u001b[38;2;120;49;20;48;2;255;255;255m =\u001b[0m\u001b[38;2;0;17;170;48;2;255;255;255m input\u001b[0m\u001b[38;2;120;49;20;48;2;255;255;255m(\u001b[0m\u001b[38;2;139;0;139;48;2;255;255;255m'Please enter the name of the town you live in: '\u001b[0m\u001b[38;2;120;49;20;48;2;255;255;255m)\u001b[0m\n",
       "\u001b[38;2;120;49;20;48;2;255;255;255m     > \u001b[0m\u001b[38;2;16;16;16;48;2;255;255;255m4|\u001b[0m\u001b[38;2;0;17;170;48;2;255;255;255m s\u001b[0m\u001b[38;2;120;49;20;48;2;255;255;255m =\u001b[0m\u001b[38;2;120;49;20;48;2;255;255;255m \u001b[0m\u001b[38;2;255;255;255;48;2;204;0;0mint\u001b[0m\u001b[38;2;255;255;255;48;2;204;0;0m(\u001b[0m\u001b[38;2;255;255;255;48;2;204;0;0ms\u001b[0m\u001b[38;2;255;255;255;48;2;204;0;0m)\u001b[0m\n",
       "\u001b[38;2;128;128;128;48;2;255;255;255m       5|\u001b[0m\u001b[38;2;0;17;170;48;2;255;255;255m \u001b[0m\u001b[38;2;0;85;0;48;2;255;255;255mprint\u001b[0m\u001b[38;2;120;49;20;48;2;255;255;255m (\u001b[0m\u001b[38;2;139;0;139;48;2;255;255;255m'There are'\u001b[0m\u001b[38;2;120;49;20;48;2;255;255;255m +\u001b[0m\u001b[38;2;0;17;170;48;2;255;255;255m s\u001b[0m\u001b[38;2;120;49;20;48;2;255;255;255m +\u001b[0m\u001b[38;2;139;0;139;48;2;255;255;255m 'letters in your town\\'s name.'\u001b[0m\u001b[38;2;120;49;20;48;2;255;255;255m)\u001b[0m\n",
       "\n",
       "\u001b[38;2;16;16;16;48;2;255;255;255m    \u001b[0m\u001b[38;2;0;17;170;48;2;255;255;255ms\u001b[0m\u001b[38;2;120;49;20;48;2;255;255;255m:\u001b[0m\u001b[38;2;16;16;16;48;2;255;255;255m  \u001b[0m\u001b[38;2;139;0;139;48;2;255;255;255m'\u001b[0m\u001b[38;2;139;0;139;48;2;255;255;255mWestford\u001b[0m\u001b[38;2;139;0;139;48;2;255;255;255m'\u001b[0m\u001b[48;2;255;255;255m                                                                                  \u001b[0m\n",
       "\u001b[38;2;16;16;16;48;2;255;255;255m    \u001b[0m\u001b[38;2;0;85;0;48;2;255;255;255mint\u001b[0m\u001b[38;2;120;49;20;48;2;255;255;255m:\u001b[0m\u001b[38;2;16;16;16;48;2;255;255;255m  \u001b[0m\u001b[38;2;120;49;20;48;2;255;255;255m<\u001b[0m\u001b[38;2;0;85;0;48;2;255;255;255mclass\u001b[0m\u001b[38;2;16;16;16;48;2;255;255;255m \u001b[0m\u001b[38;2;0;17;170;48;2;255;255;255mint\u001b[0m\u001b[38;2;120;49;20;48;2;255;255;255m>\u001b[0m\u001b[48;2;255;255;255m                                                                               \u001b[0m\n"
      ]
     },
     "metadata": {},
     "output_type": "display_data"
    }
   ],
   "source": [
    "# DO THIS EXERCISE AGAIN\n",
    "\n",
    "s = input('Please enter the name of the town you live in: ')\n",
    "s = int(s)\n",
    "print ('There are' + s + 'letters in your town\\'s name.')\n",
    "i = input('Please enter an index: ')\n",
    "i = int(i)\n",
    "if index < 0:\n",
    "    print ('You cannot enter a number less than or equal to zero.')\n",
    "elif index < slen:\n",
    "    print ('lower than length of your string')\n",
    "elif index > slen:\n",
    "    print ('greater than the length of your string')\n",
    "else:\n",
    "    print: s[slen]"
   ]
  },
  {
   "cell_type": "code",
   "execution_count": 44,
   "id": "7222ec4f",
   "metadata": {},
   "outputs": [
    {
     "name": "stdout",
     "output_type": "stream",
     "text": [
      "Enter a word and I will translate it into Pig Latin: computer\n",
      "omputercay\n"
     ]
    }
   ],
   "source": [
    "#Pig Latin Exercise\n",
    "word = input ('Enter a word and I will translate it into Pig Latin: ')\n",
    "if (word[0] == 'a' or \n",
    "    word[0] == 'e' or\n",
    "    word[0] == 'i' or \n",
    "    word[0] == 'o' or\n",
    "    word[0] == 'u'):\n",
    "    print (word + 'way')\n",
    "else:\n",
    "    print (word[1:] + (word[0]) + 'ay')"
   ]
  },
  {
   "cell_type": "code",
   "execution_count": 47,
   "id": "73346a8a",
   "metadata": {},
   "outputs": [
    {
     "name": "stdout",
     "output_type": "stream",
     "text": [
      "Enter a word and I will translate it into Pig Latin: France\n",
      "ranceFay\n"
     ]
    }
   ],
   "source": [
    "#Pig Latin Exercise using \"in\"  <--DO THIS AFTER CLASS\n",
    "word = input ('Enter a word and I will translate it into Pig Latin: ')\n",
    "if word[0] in 'aeiouAEIOU':\n",
    "    print (word + 'way')\n",
    "else:\n",
    "    print (word[1:] + (word[0]) + 'ay')"
   ]
  },
  {
   "cell_type": "code",
   "execution_count": null,
   "id": "6ca5a4a2",
   "metadata": {},
   "outputs": [],
   "source": []
  }
 ],
 "metadata": {
  "kernelspec": {
   "display_name": "Python 3 (ipykernel)",
   "language": "python",
   "name": "python3"
  },
  "language_info": {
   "codemirror_mode": {
    "name": "ipython",
    "version": 3
   },
   "file_extension": ".py",
   "mimetype": "text/x-python",
   "name": "python",
   "nbconvert_exporter": "python",
   "pygments_lexer": "ipython3",
   "version": "3.10.4"
  }
 },
 "nbformat": 4,
 "nbformat_minor": 5
}
