{
 "cells": [
  {
   "cell_type": "code",
   "execution_count": 1,
   "id": "3a71e29d",
   "metadata": {
    "scrolled": true
   },
   "outputs": [
    {
     "name": "stdout",
     "output_type": "stream",
     "text": [
      "Andy Mallio\n",
      "September 19, 2022\n"
     ]
    }
   ],
   "source": [
    "print ('Andy Mallio')        #Printing my name\n",
    "print ('September 19, 2022') #Printing the date"
   ]
  },
  {
   "cell_type": "code",
   "execution_count": null,
   "id": "f5368c28",
   "metadata": {},
   "outputs": [],
   "source": [
    "from friendly.jupyter import Friendly"
   ]
  },
  {
   "cell_type": "code",
   "execution_count": 6,
   "id": "a60cde84",
   "metadata": {},
   "outputs": [
    {
     "name": "stdout",
     "output_type": "stream",
     "text": [
      "What is your name? Andy\n",
      "Hello, Andy. Glad you are here.\n"
     ]
    }
   ],
   "source": [
    "name = input ('What is your name? ')                  #ask for the user's name.\n",
    "print('Hello, ' + name + '. ' + 'Glad you are here.') #respond to the user with their name."
   ]
  },
  {
   "cell_type": "code",
   "execution_count": null,
   "id": "a9f470d4",
   "metadata": {},
   "outputs": [],
   "source": []
  }
 ],
 "metadata": {
  "kernelspec": {
   "display_name": "Python 3 (ipykernel)",
   "language": "python",
   "name": "python3"
  },
  "language_info": {
   "codemirror_mode": {
    "name": "ipython",
    "version": 3
   },
   "file_extension": ".py",
   "mimetype": "text/x-python",
   "name": "python",
   "nbconvert_exporter": "python",
   "pygments_lexer": "ipython3",
   "version": "3.10.4"
  }
 },
 "nbformat": 4,
 "nbformat_minor": 5
}
