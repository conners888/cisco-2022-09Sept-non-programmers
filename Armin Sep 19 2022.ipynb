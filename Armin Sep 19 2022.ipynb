{
 "cells": [
  {
   "cell_type": "code",
   "execution_count": 1,
   "id": "ca5f8d9f",
   "metadata": {},
   "outputs": [
    {
     "name": "stdout",
     "output_type": "stream",
     "text": [
      "Armin\n"
     ]
    }
   ],
   "source": [
    "print (\"Armin\")"
   ]
  },
  {
   "cell_type": "code",
   "execution_count": 2,
   "id": "b5475e1b",
   "metadata": {},
   "outputs": [
    {
     "name": "stdout",
     "output_type": "stream",
     "text": [
      "hello\n"
     ]
    }
   ],
   "source": [
    "print (\"hello\")"
   ]
  },
  {
   "cell_type": "code",
   "execution_count": 3,
   "id": "2f17abd2",
   "metadata": {},
   "outputs": [
    {
     "name": "stdout",
     "output_type": "stream",
     "text": [
      "enter your name: Armin\n",
      "Armin\n"
     ]
    }
   ],
   "source": [
    "name = input ('enter your name: ')\n",
    "print (name)"
   ]
  },
  {
   "cell_type": "code",
   "execution_count": 4,
   "id": "778353c6",
   "metadata": {},
   "outputs": [
    {
     "name": "stdout",
     "output_type": "stream",
     "text": [
      "12345\n"
     ]
    }
   ],
   "source": [
    "name = 12345\n",
    "print (name)"
   ]
  },
  {
   "cell_type": "code",
   "execution_count": 5,
   "id": "aebed799",
   "metadata": {},
   "outputs": [
    {
     "name": "stdout",
     "output_type": "stream",
     "text": [
      "hello + name\n"
     ]
    }
   ],
   "source": [
    "print ('hello', '+ name')"
   ]
  },
  {
   "cell_type": "code",
   "execution_count": 6,
   "id": "927b4acb",
   "metadata": {},
   "outputs": [
    {
     "ename": "TypeError",
     "evalue": "bad operand type for unary +: 'str'",
     "output_type": "error",
     "traceback": [
      "\u001b[0;31m---------------------------------------------------------------------------\u001b[0m",
      "\u001b[0;31mTypeError\u001b[0m                                 Traceback (most recent call last)",
      "Cell \u001b[0;32mIn [6], line 1\u001b[0m\n\u001b[0;32m----> 1\u001b[0m \u001b[38;5;28mprint\u001b[39m (\u001b[38;5;124m'\u001b[39m\u001b[38;5;124mhello\u001b[39m\u001b[38;5;124m'\u001b[39m, \u001b[38;5;241;43m+\u001b[39;49m\u001b[43m \u001b[49m\u001b[38;5;124;43m'\u001b[39;49m\u001b[38;5;124;43mname\u001b[39;49m\u001b[38;5;124;43m'\u001b[39;49m)\n",
      "\u001b[0;31mTypeError\u001b[0m: bad operand type for unary +: 'str'"
     ]
    }
   ],
   "source": [
    "print ('hello', + 'name')"
   ]
  },
  {
   "cell_type": "code",
   "execution_count": 7,
   "id": "2f0fa8c0",
   "metadata": {},
   "outputs": [
    {
     "name": "stdout",
     "output_type": "stream",
     "text": [
      "hello 12345\n"
     ]
    }
   ],
   "source": [
    "print ('hello', + name)"
   ]
  },
  {
   "cell_type": "code",
   "execution_count": 8,
   "id": "b214f001",
   "metadata": {},
   "outputs": [
    {
     "data": {
      "text/plain": [
       "int"
      ]
     },
     "execution_count": 8,
     "metadata": {},
     "output_type": "execute_result"
    }
   ],
   "source": [
    "type(name)"
   ]
  },
  {
   "cell_type": "code",
   "execution_count": 9,
   "id": "1e8439c0",
   "metadata": {},
   "outputs": [
    {
     "name": "stdout",
     "output_type": "stream",
     "text": [
      "12345\n"
     ]
    }
   ],
   "source": [
    "name = \"12345\"\n",
    "print (name)"
   ]
  },
  {
   "cell_type": "code",
   "execution_count": 10,
   "id": "20694dbe",
   "metadata": {},
   "outputs": [
    {
     "ename": "TypeError",
     "evalue": "bad operand type for unary +: 'str'",
     "output_type": "error",
     "traceback": [
      "\u001b[0;31m---------------------------------------------------------------------------\u001b[0m",
      "\u001b[0;31mTypeError\u001b[0m                                 Traceback (most recent call last)",
      "Cell \u001b[0;32mIn [10], line 1\u001b[0m\n\u001b[0;32m----> 1\u001b[0m \u001b[38;5;28mprint\u001b[39m (\u001b[38;5;124m'\u001b[39m\u001b[38;5;124mhello\u001b[39m\u001b[38;5;124m'\u001b[39m, \u001b[38;5;241;43m+\u001b[39;49m\u001b[43m \u001b[49m\u001b[38;5;124;43m'\u001b[39;49m\u001b[38;5;124;43mname\u001b[39;49m\u001b[38;5;124;43m'\u001b[39;49m)\n",
      "\u001b[0;31mTypeError\u001b[0m: bad operand type for unary +: 'str'"
     ]
    }
   ],
   "source": [
    "print ('hello', + 'name')"
   ]
  },
  {
   "cell_type": "code",
   "execution_count": 11,
   "id": "6999b3f3",
   "metadata": {},
   "outputs": [
    {
     "ename": "TypeError",
     "evalue": "bad operand type for unary +: 'str'",
     "output_type": "error",
     "traceback": [
      "\u001b[0;31m---------------------------------------------------------------------------\u001b[0m",
      "\u001b[0;31mTypeError\u001b[0m                                 Traceback (most recent call last)",
      "Cell \u001b[0;32mIn [11], line 1\u001b[0m\n\u001b[0;32m----> 1\u001b[0m \u001b[38;5;28mprint\u001b[39m (\u001b[38;5;124m'\u001b[39m\u001b[38;5;124mhello\u001b[39m\u001b[38;5;124m'\u001b[39m, \u001b[38;5;241;43m+\u001b[39;49m\u001b[43m \u001b[49m\u001b[43mname\u001b[49m)\n",
      "\u001b[0;31mTypeError\u001b[0m: bad operand type for unary +: 'str'"
     ]
    }
   ],
   "source": [
    "print ('hello', + name)"
   ]
  },
  {
   "cell_type": "code",
   "execution_count": 12,
   "id": "a65d1960",
   "metadata": {},
   "outputs": [
    {
     "ename": "TypeError",
     "evalue": "bad operand type for unary +: 'str'",
     "output_type": "error",
     "traceback": [
      "\u001b[0;31m---------------------------------------------------------------------------\u001b[0m",
      "\u001b[0;31mTypeError\u001b[0m                                 Traceback (most recent call last)",
      "Cell \u001b[0;32mIn [12], line 1\u001b[0m\n\u001b[0;32m----> 1\u001b[0m \u001b[38;5;28mprint\u001b[39m (\u001b[38;5;124m\"\u001b[39m\u001b[38;5;124mhello\u001b[39m\u001b[38;5;124m\"\u001b[39m, \u001b[38;5;241;43m+\u001b[39;49m\u001b[43m \u001b[49m\u001b[38;5;124;43m\"\u001b[39;49m\u001b[38;5;124;43mname\u001b[39;49m\u001b[38;5;124;43m\"\u001b[39;49m)\n",
      "\u001b[0;31mTypeError\u001b[0m: bad operand type for unary +: 'str'"
     ]
    }
   ],
   "source": [
    "print (\"hello\", + \"name\")"
   ]
  },
  {
   "cell_type": "code",
   "execution_count": 13,
   "id": "ddef7346",
   "metadata": {},
   "outputs": [
    {
     "data": {
      "text/plain": [
       "str"
      ]
     },
     "execution_count": 13,
     "metadata": {},
     "output_type": "execute_result"
    }
   ],
   "source": [
    "type(name)"
   ]
  },
  {
   "cell_type": "code",
   "execution_count": 14,
   "id": "414bd575",
   "metadata": {},
   "outputs": [
    {
     "name": "stdout",
     "output_type": "stream",
     "text": [
      "hello12345\n"
     ]
    }
   ],
   "source": [
    "print (\"hello\" + name)"
   ]
  },
  {
   "cell_type": "code",
   "execution_count": 15,
   "id": "2a6ae767",
   "metadata": {},
   "outputs": [
    {
     "ename": "SyntaxError",
     "evalue": "expected ':' (3234405337.py, line 2)",
     "output_type": "error",
     "traceback": [
      "\u001b[0;36m  Cell \u001b[0;32mIn [15], line 2\u001b[0;36m\u001b[0m\n\u001b[0;31m    if(name == 'Armin')\u001b[0m\n\u001b[0m                       ^\u001b[0m\n\u001b[0;31mSyntaxError\u001b[0m\u001b[0;31m:\u001b[0m expected ':'\n"
     ]
    }
   ],
   "source": [
    "name = input('enter your name:')\n",
    "if(name == 'Armin')\n",
    "    print('hi' + name!)\n",
    "else\n",
    "    print('welcome' + name)"
   ]
  },
  {
   "cell_type": "code",
   "execution_count": 16,
   "id": "c5ad7bcd",
   "metadata": {},
   "outputs": [
    {
     "ename": "SyntaxError",
     "evalue": "expected ':' (1855179474.py, line 2)",
     "output_type": "error",
     "traceback": [
      "\u001b[0;36m  Cell \u001b[0;32mIn [16], line 2\u001b[0;36m\u001b[0m\n\u001b[0;31m    if(name == Armin)\u001b[0m\n\u001b[0m                     ^\u001b[0m\n\u001b[0;31mSyntaxError\u001b[0m\u001b[0;31m:\u001b[0m expected ':'\n"
     ]
    }
   ],
   "source": [
    "name = input('enter your name:')\n",
    "if(name == Armin)\n",
    "    print('hi' + name!)\n",
    "else\n",
    "    print('welcome' + name)"
   ]
  },
  {
   "cell_type": "code",
   "execution_count": 17,
   "id": "026594f1",
   "metadata": {},
   "outputs": [
    {
     "ename": "SyntaxError",
     "evalue": "invalid syntax (2768588014.py, line 2)",
     "output_type": "error",
     "traceback": [
      "\u001b[0;36m  Cell \u001b[0;32mIn [17], line 2\u001b[0;36m\u001b[0m\n\u001b[0;31m    print('hi' + name!)\u001b[0m\n\u001b[0m                     ^\u001b[0m\n\u001b[0;31mSyntaxError\u001b[0m\u001b[0;31m:\u001b[0m invalid syntax\n"
     ]
    }
   ],
   "source": [
    "if(name == Armin):\n",
    "    print('hi' + name!)\n",
    "else\n",
    "    print('welcome' + name)if(name == Armin)\n",
    "    print('hi' + name!)\n",
    "else\n",
    "    print('welcome' + name)"
   ]
  },
  {
   "cell_type": "code",
   "execution_count": 18,
   "id": "067a33ed",
   "metadata": {},
   "outputs": [
    {
     "ename": "SyntaxError",
     "evalue": "expected ':' (2136598577.py, line 3)",
     "output_type": "error",
     "traceback": [
      "\u001b[0;36m  Cell \u001b[0;32mIn [18], line 3\u001b[0;36m\u001b[0m\n\u001b[0;31m    else\u001b[0m\n\u001b[0m        ^\u001b[0m\n\u001b[0;31mSyntaxError\u001b[0m\u001b[0;31m:\u001b[0m expected ':'\n"
     ]
    }
   ],
   "source": [
    "if(name == Armin):\n",
    "    print('hi' + name + '!')\n",
    "else\n",
    "    print('welcome' + name)"
   ]
  },
  {
   "cell_type": "code",
   "execution_count": 19,
   "id": "eb16925e",
   "metadata": {},
   "outputs": [
    {
     "ename": "NameError",
     "evalue": "name 'Armin' is not defined",
     "output_type": "error",
     "traceback": [
      "\u001b[0;31m---------------------------------------------------------------------------\u001b[0m",
      "\u001b[0;31mNameError\u001b[0m                                 Traceback (most recent call last)",
      "Cell \u001b[0;32mIn [19], line 1\u001b[0m\n\u001b[0;32m----> 1\u001b[0m \u001b[38;5;28;01mif\u001b[39;00m(name \u001b[38;5;241m==\u001b[39m \u001b[43mArmin\u001b[49m):\n\u001b[1;32m      2\u001b[0m     \u001b[38;5;28mprint\u001b[39m(\u001b[38;5;124m'\u001b[39m\u001b[38;5;124mhi\u001b[39m\u001b[38;5;124m'\u001b[39m \u001b[38;5;241m+\u001b[39m name \u001b[38;5;241m+\u001b[39m \u001b[38;5;124m'\u001b[39m\u001b[38;5;124m!\u001b[39m\u001b[38;5;124m'\u001b[39m)\n\u001b[1;32m      3\u001b[0m \u001b[38;5;28;01melse\u001b[39;00m:\n",
      "\u001b[0;31mNameError\u001b[0m: name 'Armin' is not defined"
     ]
    }
   ],
   "source": [
    "if(name == Armin):\n",
    "    print('hi' + name + '!')\n",
    "else:\n",
    "    print('welcome' + name)"
   ]
  },
  {
   "cell_type": "code",
   "execution_count": 20,
   "id": "02c5a55b",
   "metadata": {},
   "outputs": [
    {
     "name": "stdout",
     "output_type": "stream",
     "text": [
      "enter your name:Tracy\n"
     ]
    },
    {
     "ename": "NameError",
     "evalue": "name 'Armin' is not defined",
     "output_type": "error",
     "traceback": [
      "\u001b[0;31m---------------------------------------------------------------------------\u001b[0m",
      "\u001b[0;31mNameError\u001b[0m                                 Traceback (most recent call last)",
      "Cell \u001b[0;32mIn [20], line 2\u001b[0m\n\u001b[1;32m      1\u001b[0m name \u001b[38;5;241m=\u001b[39m \u001b[38;5;28minput\u001b[39m(\u001b[38;5;124m'\u001b[39m\u001b[38;5;124menter your name:\u001b[39m\u001b[38;5;124m'\u001b[39m)\n\u001b[0;32m----> 2\u001b[0m \u001b[38;5;28;01mif\u001b[39;00m(name \u001b[38;5;241m==\u001b[39m \u001b[43mArmin\u001b[49m):\n\u001b[1;32m      3\u001b[0m     \u001b[38;5;28mprint\u001b[39m(\u001b[38;5;124m'\u001b[39m\u001b[38;5;124mhi\u001b[39m\u001b[38;5;124m'\u001b[39m \u001b[38;5;241m+\u001b[39m name \u001b[38;5;241m+\u001b[39m \u001b[38;5;124m'\u001b[39m\u001b[38;5;124m!\u001b[39m\u001b[38;5;124m'\u001b[39m)\n\u001b[1;32m      4\u001b[0m \u001b[38;5;28;01melse\u001b[39;00m:\n",
      "\u001b[0;31mNameError\u001b[0m: name 'Armin' is not defined"
     ]
    }
   ],
   "source": [
    "name = input('enter your name:')\n",
    "if(name == Armin):\n",
    "    print('hi' + name + '!')\n",
    "else:\n",
    "    print('welcome' + name)"
   ]
  },
  {
   "cell_type": "code",
   "execution_count": 21,
   "id": "08c5965a",
   "metadata": {},
   "outputs": [
    {
     "name": "stdout",
     "output_type": "stream",
     "text": [
      "enter your name:Tracy\n",
      "welcomeTracy\n"
     ]
    }
   ],
   "source": [
    "name = input('enter your name:')\n",
    "if(name == 'Armin'):\n",
    "    print('hi' + name + '!')\n",
    "else:\n",
    "    print('welcome' + name)"
   ]
  },
  {
   "cell_type": "code",
   "execution_count": 22,
   "id": "8b443ecd",
   "metadata": {},
   "outputs": [
    {
     "name": "stdout",
     "output_type": "stream",
     "text": [
      "enter your name:Tracy\n",
      "welcome Tracy!\n"
     ]
    }
   ],
   "source": [
    "name = input('enter your name:')\n",
    "if(name == 'Armin'):\n",
    "    print('hi' + name + '!')\n",
    "else:\n",
    "    print('welcome ' + name + '!')"
   ]
  },
  {
   "cell_type": "code",
   "execution_count": 23,
   "id": "17858fb4",
   "metadata": {},
   "outputs": [
    {
     "name": "stdout",
     "output_type": "stream",
     "text": [
      "enter your name:Armin\n",
      "hiArmin!\n"
     ]
    }
   ],
   "source": [
    "name = input('enter your name:')\n",
    "if(name == 'Armin'):\n",
    "    print('hi' + name + '!')\n",
    "else:\n",
    "    print('welcome ' + name + '!')"
   ]
  },
  {
   "cell_type": "code",
   "execution_count": 24,
   "id": "331c7fd2",
   "metadata": {},
   "outputs": [
    {
     "name": "stdout",
     "output_type": "stream",
     "text": [
      "enter your name:Armin\n",
      "hi Armin!\n"
     ]
    }
   ],
   "source": [
    "name = input('enter your name:')\n",
    "if(name == 'Armin'):\n",
    "    print('hi ' + name + '!')\n",
    "else:\n",
    "    print('welcome ' + name + '!')"
   ]
  },
  {
   "cell_type": "code",
   "execution_count": 25,
   "id": "de44d832",
   "metadata": {},
   "outputs": [
    {
     "name": "stdout",
     "output_type": "stream",
     "text": [
      "friendly_traceback 0.6.0; friendly 0.6.0.\n",
      "Type 'Friendly' for basic help.\n",
      "An exception occurred before friendly-traceback was imported.\n",
      "Some information is available.\n"
     ]
    },
    {
     "data": {
      "text/html": [
       "<div id='friendly-message1'><pre style='white-space:pre;overflow-x:auto;line-height:normal'><span style=\"color: #dd0000; text-decoration-color: #dd0000; background-color: #ffffff\">NameError</span>: name 'Armin' is not defined                                \n",
       "</pre></div>"
      ],
      "text/plain": [
       "\u001b[38;2;221;0;0;48;2;255;255;255mNameError\u001b[0m: name 'Armin' is not defined                                \n"
      ]
     },
     "metadata": {},
     "output_type": "display_data"
    },
    {
     "data": {
      "text/html": [
       "\n",
       "        <button\n",
       "            id='friendly-tb-btn-show1'\n",
       "            onclick='friendly_toggle_more1()'\n",
       "            style=''>\n",
       "        More ...\n",
       "        </button>\n",
       "        <script type=\"text/Javascript\"> function friendly_toggle_more1(){\n",
       "        var btn = document.getElementById('friendly-tb-btn-show1');\n",
       "        var btn_what = document.getElementById('friendly-tb-btn-show-what1');\n",
       "        var btn_where = document.getElementById('friendly-tb-btn-show-where1');\n",
       "        var btn_why = document.getElementById('friendly-tb-btn-show-why1');\n",
       "        ;\n",
       "        var message = document.getElementById('friendly-message1');\n",
       "        var friendly_tb_content = document.getElementById('friendly-tb-friendly_tb-content1');\n",
       "        var what_content = document.getElementById('friendly-tb-what-content1');\n",
       "        var why_content = document.getElementById('friendly-tb-why-content1');\n",
       "        var where_content = document.getElementById('friendly-tb-where-content1');\n",
       "        ;\n",
       "\n",
       "        if (btn_what.style.display == 'none'){\n",
       "            message.style.display = 'none';\n",
       "            btn_what.style.display = 'block';\n",
       "            btn_why.style.display = 'block';\n",
       "            btn_where.style.display = 'block';\n",
       "            friendly_tb_content.style.display = 'block';\n",
       "            ;\n",
       "            btn.textContent = \"Show message only\";\n",
       "            ;\n",
       "        } else {\n",
       "            btn_what.style.display = 'none';\n",
       "            btn_what.textContent = 'what()';\n",
       "            btn_why.style.display = 'none';\n",
       "            btn_why.textContent = 'why()';\n",
       "            btn_where.style.display = 'none';\n",
       "            btn_where.textContent = 'where()';\n",
       "            what_content.style.display = 'none';\n",
       "            why_content.style.display = 'none';\n",
       "            where_content.style.display = 'none';\n",
       "            ;\n",
       "            friendly_tb_content.style.display = 'none';\n",
       "            message.style.display = 'block';\n",
       "            btn.textContent = \"More ...\";\n",
       "            ;\n",
       "        }\n",
       "        };\n",
       "        </script>\n",
       "        "
      ]
     },
     "metadata": {},
     "output_type": "display_data"
    },
    {
     "data": {
      "text/html": [
       "<div id='friendly-tb-friendly_tb-content1' style='display:none'><pre style='white-space:pre;overflow-x:auto;line-height:normal'><span style=\"color: #dd0000; text-decoration-color: #dd0000; background-color: #ffffff\">Traceback (most recent call last):</span><span style=\"background-color: #ffffff\">                                                                  </span>\n",
       "<span style=\"color: #101010; text-decoration-color: #101010; background-color: #ffffff\">  Code block </span><span style=\"color: #783114; text-decoration-color: #783114; background-color: #ffffff\">[</span><span style=\"color: #101010; text-decoration-color: #101010; background-color: #ffffff\">20</span><span style=\"color: #783114; text-decoration-color: #783114; background-color: #ffffff\">]</span><span style=\"color: #101010; text-decoration-color: #101010; background-color: #ffffff\">, line 2</span><span style=\"background-color: #ffffff\">                                                                           </span>\n",
       "<span style=\"color: #101010; text-decoration-color: #101010; background-color: #ffffff\">    </span><span style=\"color: #005500; text-decoration-color: #005500; background-color: #ffffff\">if</span><span style=\"color: #783114; text-decoration-color: #783114; background-color: #ffffff\">(</span><span style=\"color: #0011aa; text-decoration-color: #0011aa; background-color: #ffffff\">name</span><span style=\"color: #101010; text-decoration-color: #101010; background-color: #ffffff\"> </span><span style=\"color: #783114; text-decoration-color: #783114; background-color: #ffffff\">==</span><span style=\"color: #101010; text-decoration-color: #101010; background-color: #ffffff\"> </span><span style=\"color: #0011aa; text-decoration-color: #0011aa; background-color: #ffffff\">Armin</span><span style=\"color: #783114; text-decoration-color: #783114; background-color: #ffffff\">):</span><span style=\"background-color: #ffffff\">                                                                              </span>\n",
       "<span style=\"color: #dd0000; text-decoration-color: #dd0000; background-color: #ffffff\">NameError</span><span style=\"color: #101010; text-decoration-color: #101010; background-color: #ffffff\">: </span><span style=\"color: #0011aa; text-decoration-color: #0011aa; background-color: #ffffff\">name 'Armin' is not defined</span><span style=\"background-color: #ffffff\">                                                              </span>\n",
       "</pre></div>"
      ],
      "text/plain": [
       "\u001b[38;2;221;0;0;48;2;255;255;255mTraceback (most recent call last):\u001b[0m\u001b[48;2;255;255;255m                                                                  \u001b[0m\n",
       "\u001b[38;2;16;16;16;48;2;255;255;255m  Code block \u001b[0m\u001b[38;2;120;49;20;48;2;255;255;255m[\u001b[0m\u001b[38;2;16;16;16;48;2;255;255;255m20\u001b[0m\u001b[38;2;120;49;20;48;2;255;255;255m]\u001b[0m\u001b[38;2;16;16;16;48;2;255;255;255m, line \u001b[0m\u001b[38;2;16;16;16;48;2;255;255;255m2\u001b[0m\u001b[48;2;255;255;255m                                                                           \u001b[0m\n",
       "\u001b[38;2;16;16;16;48;2;255;255;255m    \u001b[0m\u001b[38;2;0;85;0;48;2;255;255;255mif\u001b[0m\u001b[38;2;120;49;20;48;2;255;255;255m(\u001b[0m\u001b[38;2;0;17;170;48;2;255;255;255mname\u001b[0m\u001b[38;2;16;16;16;48;2;255;255;255m \u001b[0m\u001b[38;2;120;49;20;48;2;255;255;255m==\u001b[0m\u001b[38;2;16;16;16;48;2;255;255;255m \u001b[0m\u001b[38;2;0;17;170;48;2;255;255;255mArmin\u001b[0m\u001b[38;2;120;49;20;48;2;255;255;255m)\u001b[0m\u001b[38;2;120;49;20;48;2;255;255;255m:\u001b[0m\u001b[48;2;255;255;255m                                                                              \u001b[0m\n",
       "\u001b[38;2;221;0;0;48;2;255;255;255mNameError\u001b[0m\u001b[38;2;16;16;16;48;2;255;255;255m: \u001b[0m\u001b[38;2;0;17;170;48;2;255;255;255mname 'Armin' is not defined\u001b[0m\u001b[48;2;255;255;255m                                                              \u001b[0m\n"
      ]
     },
     "metadata": {},
     "output_type": "display_data"
    },
    {
     "data": {
      "text/html": [
       "<script type=\"text/Javascript\"> function toggle_what1(){\n",
       "     var content = document.getElementById('friendly-tb-what-content1');\n",
       "     var btn = document.getElementById('friendly-tb-btn-show-what1');\n",
       "        if (content.style.display === 'none') {\n",
       "            content.style.display = 'block';\n",
       "            btn.textContent = \"Hide what()\";\n",
       "        } else {\n",
       "            content.style.display = 'none';\n",
       "            btn.textContent = \"what()\";\n",
       "       }\n",
       "    }\n",
       "     </script>\n",
       "     <button\n",
       "         id='friendly-tb-btn-show-what1'\n",
       "         onclick='toggle_what1()'\n",
       "         style='display:none '>\n",
       "     what()\n",
       "     </button>\n",
       "    "
      ]
     },
     "metadata": {},
     "output_type": "display_data"
    },
    {
     "data": {
      "text/html": [
       "<div id='friendly-tb-what-content1' style='display:none'><pre style='white-space:pre;overflow-x:auto;line-height:normal'>A <span style=\"color: #dd0000; text-decoration-color: #dd0000; background-color: #ffffff\">NameError</span> exception indicates that a variable or function name is   \n",
       "not known to Python. Most often, this is because there is a spelling  \n",
       "mistake. However, sometimes it is because the name is used before     \n",
       "being defined or given a value.                                       \n",
       "</pre></div>"
      ],
      "text/plain": [
       "A \u001b[38;2;221;0;0;48;2;255;255;255mNameError\u001b[0m exception indicates that a variable or function name is   \n",
       "not known to Python. Most often, this is because there is a spelling  \n",
       "mistake. However, sometimes it is because the name is used before     \n",
       "being defined or given a value.                                       \n"
      ]
     },
     "metadata": {},
     "output_type": "display_data"
    },
    {
     "data": {
      "text/html": [
       "<script type=\"text/Javascript\"> function toggle_why1(){\n",
       "     var content = document.getElementById('friendly-tb-why-content1');\n",
       "     var btn = document.getElementById('friendly-tb-btn-show-why1');\n",
       "        if (content.style.display === 'none') {\n",
       "            content.style.display = 'block';\n",
       "            btn.textContent = \"Hide why()\";\n",
       "        } else {\n",
       "            content.style.display = 'none';\n",
       "            btn.textContent = \"why()\";\n",
       "       }\n",
       "    }\n",
       "     </script>\n",
       "     <button\n",
       "         id='friendly-tb-btn-show-why1'\n",
       "         onclick='toggle_why1()'\n",
       "         style='display:none '>\n",
       "     why()\n",
       "     </button>\n",
       "    "
      ]
     },
     "metadata": {},
     "output_type": "display_data"
    },
    {
     "data": {
      "text/html": [
       "<div id='friendly-tb-why-content1' style='display:none'><pre style='white-space:pre;overflow-x:auto;line-height:normal'>In your program, no object with the name <span style=\"color: #0011aa; text-decoration-color: #0011aa; background-color: #ffffff\">Armin</span> exists. I have no      \n",
       "additional information for you.                                       \n",
       "</pre></div>"
      ],
      "text/plain": [
       "In your program, no object with the name \u001b[38;2;0;17;170;48;2;255;255;255mArmin\u001b[0m exists. I have no      \n",
       "additional information for you.                                       \n"
      ]
     },
     "metadata": {},
     "output_type": "display_data"
    },
    {
     "data": {
      "text/html": [
       "<script type=\"text/Javascript\"> function toggle_where1(){\n",
       "     var content = document.getElementById('friendly-tb-where-content1');\n",
       "     var btn = document.getElementById('friendly-tb-btn-show-where1');\n",
       "        if (content.style.display === 'none') {\n",
       "            content.style.display = 'block';\n",
       "            btn.textContent = \"Hide where()\";\n",
       "        } else {\n",
       "            content.style.display = 'none';\n",
       "            btn.textContent = \"where()\";\n",
       "       }\n",
       "    }\n",
       "     </script>\n",
       "     <button\n",
       "         id='friendly-tb-btn-show-where1'\n",
       "         onclick='toggle_where1()'\n",
       "         style='display:none '>\n",
       "     where()\n",
       "     </button>\n",
       "    "
      ]
     },
     "metadata": {},
     "output_type": "display_data"
    },
    {
     "data": {
      "text/html": [
       "<div id='friendly-tb-where-content1' style='display:none'><pre style='white-space:pre;overflow-x:auto;line-height:normal'><span style=\"color: #dd0000; text-decoration-color: #dd0000\">Exception raised on line 2 of code block </span><span style=\"color: #783114; text-decoration-color: #783114; background-color: #ffffff\">[</span><span style=\"color: #101010; text-decoration-color: #101010; background-color: #ffffff\">20</span><span style=\"color: #783114; text-decoration-color: #783114; background-color: #ffffff\">]</span><span style=\"color: #dd0000; text-decoration-color: #dd0000\">.</span>                                                      \n",
       "\n",
       "<span style=\"color: #808080; text-decoration-color: #808080; background-color: #ffffff\">       1|</span><span style=\"color: #0011aa; text-decoration-color: #0011aa; background-color: #ffffff\"> name</span><span style=\"color: #783114; text-decoration-color: #783114; background-color: #ffffff\"> =</span><span style=\"color: #0011aa; text-decoration-color: #0011aa; background-color: #ffffff\"> input</span><span style=\"color: #783114; text-decoration-color: #783114; background-color: #ffffff\">(</span><span style=\"color: #8b008b; text-decoration-color: #8b008b; background-color: #ffffff\">'enter your name:'</span><span style=\"color: #783114; text-decoration-color: #783114; background-color: #ffffff\">)</span>\n",
       "<span style=\"color: #783114; text-decoration-color: #783114; background-color: #ffffff\">     &gt; </span><span style=\"color: #101010; text-decoration-color: #101010; background-color: #ffffff\">2|</span><span style=\"color: #005500; text-decoration-color: #005500; background-color: #ffffff\"> if</span><span style=\"color: #783114; text-decoration-color: #783114; background-color: #ffffff\">(</span><span style=\"color: #0011aa; text-decoration-color: #0011aa; background-color: #ffffff\">name</span><span style=\"color: #783114; text-decoration-color: #783114; background-color: #ffffff\"> == </span><span style=\"color: #ffffff; text-decoration-color: #ffffff; background-color: #cc0000\">Armin</span><span style=\"color: #783114; text-decoration-color: #783114; background-color: #ffffff\">):</span>\n",
       "<span style=\"color: #808080; text-decoration-color: #808080; background-color: #ffffff\">       3|</span><span style=\"color: #0011aa; text-decoration-color: #0011aa; background-color: #ffffff\">     </span><span style=\"color: #005500; text-decoration-color: #005500; background-color: #ffffff\">print</span><span style=\"color: #783114; text-decoration-color: #783114; background-color: #ffffff\">(</span><span style=\"color: #8b008b; text-decoration-color: #8b008b; background-color: #ffffff\">'hi'</span><span style=\"color: #783114; text-decoration-color: #783114; background-color: #ffffff\"> +</span><span style=\"color: #0011aa; text-decoration-color: #0011aa; background-color: #ffffff\"> name</span><span style=\"color: #783114; text-decoration-color: #783114; background-color: #ffffff\"> +</span><span style=\"color: #8b008b; text-decoration-color: #8b008b; background-color: #ffffff\"> '!'</span><span style=\"color: #783114; text-decoration-color: #783114; background-color: #ffffff\">)</span>\n",
       "</pre></div>"
      ],
      "text/plain": [
       "\u001b[38;2;221;0;0mException raised on line 2 of code block \u001b[0m\u001b[38;2;120;49;20;48;2;255;255;255m[\u001b[0m\u001b[38;2;16;16;16;48;2;255;255;255m20\u001b[0m\u001b[38;2;120;49;20;48;2;255;255;255m]\u001b[0m\u001b[38;2;221;0;0m.\u001b[0m                                                      \n",
       "\n",
       "\u001b[38;2;128;128;128;48;2;255;255;255m       1|\u001b[0m\u001b[38;2;0;17;170;48;2;255;255;255m \u001b[0m\u001b[38;2;0;17;170;48;2;255;255;255mname\u001b[0m\u001b[38;2;120;49;20;48;2;255;255;255m =\u001b[0m\u001b[38;2;0;17;170;48;2;255;255;255m input\u001b[0m\u001b[38;2;120;49;20;48;2;255;255;255m(\u001b[0m\u001b[38;2;139;0;139;48;2;255;255;255m'enter your name:'\u001b[0m\u001b[38;2;120;49;20;48;2;255;255;255m)\u001b[0m\n",
       "\u001b[38;2;120;49;20;48;2;255;255;255m     > \u001b[0m\u001b[38;2;16;16;16;48;2;255;255;255m2|\u001b[0m\u001b[38;2;0;85;0;48;2;255;255;255m if\u001b[0m\u001b[38;2;120;49;20;48;2;255;255;255m(\u001b[0m\u001b[38;2;0;17;170;48;2;255;255;255mname\u001b[0m\u001b[38;2;120;49;20;48;2;255;255;255m ==\u001b[0m\u001b[38;2;120;49;20;48;2;255;255;255m \u001b[0m\u001b[38;2;255;255;255;48;2;204;0;0mArmin\u001b[0m\u001b[38;2;120;49;20;48;2;255;255;255m)\u001b[0m\u001b[38;2;120;49;20;48;2;255;255;255m:\u001b[0m\n",
       "\u001b[38;2;128;128;128;48;2;255;255;255m       3|\u001b[0m\u001b[38;2;0;17;170;48;2;255;255;255m     \u001b[0m\u001b[38;2;0;85;0;48;2;255;255;255mprint\u001b[0m\u001b[38;2;120;49;20;48;2;255;255;255m(\u001b[0m\u001b[38;2;139;0;139;48;2;255;255;255m'hi'\u001b[0m\u001b[38;2;120;49;20;48;2;255;255;255m +\u001b[0m\u001b[38;2;0;17;170;48;2;255;255;255m name\u001b[0m\u001b[38;2;120;49;20;48;2;255;255;255m +\u001b[0m\u001b[38;2;139;0;139;48;2;255;255;255m '!'\u001b[0m\u001b[38;2;120;49;20;48;2;255;255;255m)\u001b[0m\n"
      ]
     },
     "metadata": {},
     "output_type": "display_data"
    }
   ],
   "source": [
    "from friendly.jupyter import Friendly"
   ]
  },
  {
   "cell_type": "code",
   "execution_count": 26,
   "id": "2c927c2c",
   "metadata": {},
   "outputs": [],
   "source": [
    "import random"
   ]
  },
  {
   "cell_type": "code",
   "execution_count": 27,
   "id": "3a2a8cee",
   "metadata": {},
   "outputs": [],
   "source": [
    "number = random.randint(0, 100)"
   ]
  },
  {
   "cell_type": "code",
   "execution_count": null,
   "id": "18808716",
   "metadata": {},
   "outputs": [],
   "source": [
    "value = input('guess the number: ')\n",
    "if "
   ]
  }
 ],
 "metadata": {
  "kernelspec": {
   "display_name": "Python 3 (ipykernel)",
   "language": "python",
   "name": "python3"
  },
  "language_info": {
   "codemirror_mode": {
    "name": "ipython",
    "version": 3
   },
   "file_extension": ".py",
   "mimetype": "text/x-python",
   "name": "python",
   "nbconvert_exporter": "python",
   "pygments_lexer": "ipython3",
   "version": "3.10.4"
  }
 },
 "nbformat": 4,
 "nbformat_minor": 5
}
