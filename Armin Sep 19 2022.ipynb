{
 "cells": [
  {
   "cell_type": "code",
   "execution_count": 1,
   "id": "67b1fac0",
   "metadata": {},
   "outputs": [
    {
     "name": "stdout",
     "output_type": "stream",
     "text": [
      "Armin\n"
     ]
    }
   ],
   "source": [
    "print (\"Armin\")"
   ]
  },
  {
   "cell_type": "code",
   "execution_count": 2,
   "id": "d7b6ecb4",
   "metadata": {},
   "outputs": [
    {
     "name": "stdout",
     "output_type": "stream",
     "text": [
      "hello\n"
     ]
    }
   ],
   "source": [
    "print (\"hello\")"
   ]
  },
  {
   "cell_type": "code",
   "execution_count": 3,
   "id": "4c99dbf0",
   "metadata": {},
   "outputs": [
    {
     "name": "stdout",
     "output_type": "stream",
     "text": [
      "enter your name: Armin\n",
      "Armin\n"
     ]
    }
   ],
   "source": [
    "name = input ('enter your name: ')\n",
    "print (name)"
   ]
  },
  {
   "cell_type": "code",
   "execution_count": 4,
   "id": "78e7092f",
   "metadata": {},
   "outputs": [
    {
     "name": "stdout",
     "output_type": "stream",
     "text": [
      "12345\n"
     ]
    }
   ],
   "source": [
    "name = 12345\n",
    "print (name)"
   ]
  },
  {
   "cell_type": "code",
   "execution_count": 5,
   "id": "05410f0c",
   "metadata": {},
   "outputs": [
    {
     "name": "stdout",
     "output_type": "stream",
     "text": [
      "hello + name\n"
     ]
    }
   ],
   "source": [
    "print ('hello', '+ name')"
   ]
  },
  {
   "cell_type": "code",
   "execution_count": 6,
   "id": "52e1eaf4",
   "metadata": {},
   "outputs": [
    {
     "ename": "TypeError",
     "evalue": "bad operand type for unary +: 'str'",
     "output_type": "error",
     "traceback": [
      "\u001b[0;31m---------------------------------------------------------------------------\u001b[0m",
      "\u001b[0;31mTypeError\u001b[0m                                 Traceback (most recent call last)",
      "Cell \u001b[0;32mIn [6], line 1\u001b[0m\n\u001b[0;32m----> 1\u001b[0m \u001b[38;5;28mprint\u001b[39m (\u001b[38;5;124m'\u001b[39m\u001b[38;5;124mhello\u001b[39m\u001b[38;5;124m'\u001b[39m, \u001b[38;5;241;43m+\u001b[39;49m\u001b[43m \u001b[49m\u001b[38;5;124;43m'\u001b[39;49m\u001b[38;5;124;43mname\u001b[39;49m\u001b[38;5;124;43m'\u001b[39;49m)\n",
      "\u001b[0;31mTypeError\u001b[0m: bad operand type for unary +: 'str'"
     ]
    }
   ],
   "source": [
    "print ('hello', + 'name')"
   ]
  },
  {
   "cell_type": "code",
   "execution_count": 7,
   "id": "afeafe3d",
   "metadata": {},
   "outputs": [
    {
     "name": "stdout",
     "output_type": "stream",
     "text": [
      "hello 12345\n"
     ]
    }
   ],
   "source": [
    "print ('hello', + name)"
   ]
  },
  {
   "cell_type": "code",
   "execution_count": 8,
   "id": "5f05f72f",
   "metadata": {},
   "outputs": [
    {
     "data": {
      "text/plain": [
       "int"
      ]
     },
     "execution_count": 8,
     "metadata": {},
     "output_type": "execute_result"
    }
   ],
   "source": [
    "type(name)"
   ]
  },
  {
   "cell_type": "code",
   "execution_count": 9,
   "id": "33d5d789",
   "metadata": {},
   "outputs": [
    {
     "name": "stdout",
     "output_type": "stream",
     "text": [
      "12345\n"
     ]
    }
   ],
   "source": [
    "name = \"12345\"\n",
    "print (name)"
   ]
  },
  {
   "cell_type": "code",
   "execution_count": 10,
   "id": "820e5aae",
   "metadata": {},
   "outputs": [
    {
     "ename": "TypeError",
     "evalue": "bad operand type for unary +: 'str'",
     "output_type": "error",
     "traceback": [
      "\u001b[0;31m---------------------------------------------------------------------------\u001b[0m",
      "\u001b[0;31mTypeError\u001b[0m                                 Traceback (most recent call last)",
      "Cell \u001b[0;32mIn [10], line 1\u001b[0m\n\u001b[0;32m----> 1\u001b[0m \u001b[38;5;28mprint\u001b[39m (\u001b[38;5;124m'\u001b[39m\u001b[38;5;124mhello\u001b[39m\u001b[38;5;124m'\u001b[39m, \u001b[38;5;241;43m+\u001b[39;49m\u001b[43m \u001b[49m\u001b[38;5;124;43m'\u001b[39;49m\u001b[38;5;124;43mname\u001b[39;49m\u001b[38;5;124;43m'\u001b[39;49m)\n",
      "\u001b[0;31mTypeError\u001b[0m: bad operand type for unary +: 'str'"
     ]
    }
   ],
   "source": [
    "print ('hello', + 'name')"
   ]
  },
  {
   "cell_type": "code",
   "execution_count": 11,
   "id": "1511cb4d",
   "metadata": {},
   "outputs": [
    {
     "ename": "TypeError",
     "evalue": "bad operand type for unary +: 'str'",
     "output_type": "error",
     "traceback": [
      "\u001b[0;31m---------------------------------------------------------------------------\u001b[0m",
      "\u001b[0;31mTypeError\u001b[0m                                 Traceback (most recent call last)",
      "Cell \u001b[0;32mIn [11], line 1\u001b[0m\n\u001b[0;32m----> 1\u001b[0m \u001b[38;5;28mprint\u001b[39m (\u001b[38;5;124m'\u001b[39m\u001b[38;5;124mhello\u001b[39m\u001b[38;5;124m'\u001b[39m, \u001b[38;5;241;43m+\u001b[39;49m\u001b[43m \u001b[49m\u001b[43mname\u001b[49m)\n",
      "\u001b[0;31mTypeError\u001b[0m: bad operand type for unary +: 'str'"
     ]
    }
   ],
   "source": [
    "print ('hello', + name)"
   ]
  },
  {
   "cell_type": "code",
   "execution_count": 12,
   "id": "bacc359d",
   "metadata": {},
   "outputs": [
    {
     "ename": "TypeError",
     "evalue": "bad operand type for unary +: 'str'",
     "output_type": "error",
     "traceback": [
      "\u001b[0;31m---------------------------------------------------------------------------\u001b[0m",
      "\u001b[0;31mTypeError\u001b[0m                                 Traceback (most recent call last)",
      "Cell \u001b[0;32mIn [12], line 1\u001b[0m\n\u001b[0;32m----> 1\u001b[0m \u001b[38;5;28mprint\u001b[39m (\u001b[38;5;124m\"\u001b[39m\u001b[38;5;124mhello\u001b[39m\u001b[38;5;124m\"\u001b[39m, \u001b[38;5;241;43m+\u001b[39;49m\u001b[43m \u001b[49m\u001b[38;5;124;43m\"\u001b[39;49m\u001b[38;5;124;43mname\u001b[39;49m\u001b[38;5;124;43m\"\u001b[39;49m)\n",
      "\u001b[0;31mTypeError\u001b[0m: bad operand type for unary +: 'str'"
     ]
    }
   ],
   "source": [
    "print (\"hello\", + \"name\")"
   ]
  },
  {
   "cell_type": "code",
   "execution_count": 13,
   "id": "a1934142",
   "metadata": {},
   "outputs": [
    {
     "data": {
      "text/plain": [
       "str"
      ]
     },
     "execution_count": 13,
     "metadata": {},
     "output_type": "execute_result"
    }
   ],
   "source": [
    "type(name)"
   ]
  },
  {
   "cell_type": "code",
   "execution_count": 14,
   "id": "26b4f7c7",
   "metadata": {},
   "outputs": [
    {
     "name": "stdout",
     "output_type": "stream",
     "text": [
      "hello12345\n"
     ]
    }
   ],
   "source": [
    "print (\"hello\" + name)"
   ]
  },
  {
   "cell_type": "code",
   "execution_count": 15,
   "id": "c5303a7d",
   "metadata": {},
   "outputs": [
    {
     "ename": "SyntaxError",
     "evalue": "expected ':' (3234405337.py, line 2)",
     "output_type": "error",
     "traceback": [
      "\u001b[0;36m  Cell \u001b[0;32mIn [15], line 2\u001b[0;36m\u001b[0m\n\u001b[0;31m    if(name == 'Armin')\u001b[0m\n\u001b[0m                       ^\u001b[0m\n\u001b[0;31mSyntaxError\u001b[0m\u001b[0;31m:\u001b[0m expected ':'\n"
     ]
    }
   ],
   "source": [
    "name = input('enter your name:')\n",
    "if(name == 'Armin')\n",
    "    print('hi' + name!)\n",
    "else\n",
    "    print('welcome' + name)"
   ]
  },
  {
   "cell_type": "code",
   "execution_count": 16,
   "id": "e71c1437",
   "metadata": {},
   "outputs": [
    {
     "ename": "SyntaxError",
     "evalue": "expected ':' (1855179474.py, line 2)",
     "output_type": "error",
     "traceback": [
      "\u001b[0;36m  Cell \u001b[0;32mIn [16], line 2\u001b[0;36m\u001b[0m\n\u001b[0;31m    if(name == Armin)\u001b[0m\n\u001b[0m                     ^\u001b[0m\n\u001b[0;31mSyntaxError\u001b[0m\u001b[0;31m:\u001b[0m expected ':'\n"
     ]
    }
   ],
   "source": [
    "name = input('enter your name:')\n",
    "if(name == Armin)\n",
    "    print('hi' + name!)\n",
    "else\n",
    "    print('welcome' + name)"
   ]
  },
  {
   "cell_type": "code",
   "execution_count": 17,
   "id": "bdc2635b",
   "metadata": {},
   "outputs": [
    {
     "ename": "SyntaxError",
     "evalue": "invalid syntax (2768588014.py, line 2)",
     "output_type": "error",
     "traceback": [
      "\u001b[0;36m  Cell \u001b[0;32mIn [17], line 2\u001b[0;36m\u001b[0m\n\u001b[0;31m    print('hi' + name!)\u001b[0m\n\u001b[0m                     ^\u001b[0m\n\u001b[0;31mSyntaxError\u001b[0m\u001b[0;31m:\u001b[0m invalid syntax\n"
     ]
    }
   ],
   "source": [
    "if(name == Armin):\n",
    "    print('hi' + name!)\n",
    "else\n",
    "    print('welcome' + name)if(name == Armin)\n",
    "    print('hi' + name!)\n",
    "else\n",
    "    print('welcome' + name)"
   ]
  },
  {
   "cell_type": "code",
   "execution_count": 18,
   "id": "9f974520",
   "metadata": {},
   "outputs": [
    {
     "ename": "SyntaxError",
     "evalue": "expected ':' (2136598577.py, line 3)",
     "output_type": "error",
     "traceback": [
      "\u001b[0;36m  Cell \u001b[0;32mIn [18], line 3\u001b[0;36m\u001b[0m\n\u001b[0;31m    else\u001b[0m\n\u001b[0m        ^\u001b[0m\n\u001b[0;31mSyntaxError\u001b[0m\u001b[0;31m:\u001b[0m expected ':'\n"
     ]
    }
   ],
   "source": [
    "if(name == Armin):\n",
    "    print('hi' + name + '!')\n",
    "else\n",
    "    print('welcome' + name)"
   ]
  },
  {
   "cell_type": "code",
   "execution_count": 19,
   "id": "34abca12",
   "metadata": {},
   "outputs": [
    {
     "ename": "NameError",
     "evalue": "name 'Armin' is not defined",
     "output_type": "error",
     "traceback": [
      "\u001b[0;31m---------------------------------------------------------------------------\u001b[0m",
      "\u001b[0;31mNameError\u001b[0m                                 Traceback (most recent call last)",
      "Cell \u001b[0;32mIn [19], line 1\u001b[0m\n\u001b[0;32m----> 1\u001b[0m \u001b[38;5;28;01mif\u001b[39;00m(name \u001b[38;5;241m==\u001b[39m \u001b[43mArmin\u001b[49m):\n\u001b[1;32m      2\u001b[0m     \u001b[38;5;28mprint\u001b[39m(\u001b[38;5;124m'\u001b[39m\u001b[38;5;124mhi\u001b[39m\u001b[38;5;124m'\u001b[39m \u001b[38;5;241m+\u001b[39m name \u001b[38;5;241m+\u001b[39m \u001b[38;5;124m'\u001b[39m\u001b[38;5;124m!\u001b[39m\u001b[38;5;124m'\u001b[39m)\n\u001b[1;32m      3\u001b[0m \u001b[38;5;28;01melse\u001b[39;00m:\n",
      "\u001b[0;31mNameError\u001b[0m: name 'Armin' is not defined"
     ]
    }
   ],
   "source": [
    "if(name == Armin):\n",
    "    print('hi' + name + '!')\n",
    "else:\n",
    "    print('welcome' + name)"
   ]
  },
  {
   "cell_type": "code",
   "execution_count": 20,
   "id": "2d5bf8f3",
   "metadata": {},
   "outputs": [
    {
     "name": "stdout",
     "output_type": "stream",
     "text": [
      "enter your name:Tracy\n"
     ]
    },
    {
     "ename": "NameError",
     "evalue": "name 'Armin' is not defined",
     "output_type": "error",
     "traceback": [
      "\u001b[0;31m---------------------------------------------------------------------------\u001b[0m",
      "\u001b[0;31mNameError\u001b[0m                                 Traceback (most recent call last)",
      "Cell \u001b[0;32mIn [20], line 2\u001b[0m\n\u001b[1;32m      1\u001b[0m name \u001b[38;5;241m=\u001b[39m \u001b[38;5;28minput\u001b[39m(\u001b[38;5;124m'\u001b[39m\u001b[38;5;124menter your name:\u001b[39m\u001b[38;5;124m'\u001b[39m)\n\u001b[0;32m----> 2\u001b[0m \u001b[38;5;28;01mif\u001b[39;00m(name \u001b[38;5;241m==\u001b[39m \u001b[43mArmin\u001b[49m):\n\u001b[1;32m      3\u001b[0m     \u001b[38;5;28mprint\u001b[39m(\u001b[38;5;124m'\u001b[39m\u001b[38;5;124mhi\u001b[39m\u001b[38;5;124m'\u001b[39m \u001b[38;5;241m+\u001b[39m name \u001b[38;5;241m+\u001b[39m \u001b[38;5;124m'\u001b[39m\u001b[38;5;124m!\u001b[39m\u001b[38;5;124m'\u001b[39m)\n\u001b[1;32m      4\u001b[0m \u001b[38;5;28;01melse\u001b[39;00m:\n",
      "\u001b[0;31mNameError\u001b[0m: name 'Armin' is not defined"
     ]
    }
   ],
   "source": [
    "name = input('enter your name:')\n",
    "if(name == Armin):\n",
    "    print('hi' + name + '!')\n",
    "else:\n",
    "    print('welcome' + name)"
   ]
  },
  {
   "cell_type": "code",
   "execution_count": 21,
   "id": "cab12ac9",
   "metadata": {},
   "outputs": [
    {
     "name": "stdout",
     "output_type": "stream",
     "text": [
      "enter your name:Tracy\n",
      "welcomeTracy\n"
     ]
    }
   ],
   "source": [
    "name = input('enter your name:')\n",
    "if(name == 'Armin'):\n",
    "    print('hi' + name + '!')\n",
    "else:\n",
    "    print('welcome' + name)"
   ]
  },
  {
   "cell_type": "code",
   "execution_count": 22,
   "id": "3adc9ad3",
   "metadata": {},
   "outputs": [
    {
     "name": "stdout",
     "output_type": "stream",
     "text": [
      "enter your name:Tracy\n",
      "welcome Tracy!\n"
     ]
    }
   ],
   "source": [
    "name = input('enter your name:')\n",
    "if(name == 'Armin'):\n",
    "    print('hi' + name + '!')\n",
    "else:\n",
    "    print('welcome ' + name + '!')"
   ]
  },
  {
   "cell_type": "code",
   "execution_count": 23,
   "id": "b52125a3",
   "metadata": {},
   "outputs": [
    {
     "name": "stdout",
     "output_type": "stream",
     "text": [
      "enter your name:Armin\n",
      "hiArmin!\n"
     ]
    }
   ],
   "source": [
    "name = input('enter your name:')\n",
    "if(name == 'Armin'):\n",
    "    print('hi' + name + '!')\n",
    "else:\n",
    "    print('welcome ' + name + '!')"
   ]
  },
  {
   "cell_type": "code",
   "execution_count": 24,
   "id": "7bd84600",
   "metadata": {},
   "outputs": [
    {
     "name": "stdout",
     "output_type": "stream",
     "text": [
      "enter your name:Armin\n",
      "hi Armin!\n"
     ]
    }
   ],
   "source": [
    "name = input('enter your name:')\n",
    "if(name == 'Armin'):\n",
    "    print('hi ' + name + '!')\n",
    "else:\n",
    "    print('welcome ' + name + '!')"
   ]
  },
  {
   "cell_type": "code",
   "execution_count": 25,
   "id": "854b56ac",
   "metadata": {},
   "outputs": [
    {
     "name": "stdout",
     "output_type": "stream",
     "text": [
      "friendly_traceback 0.6.0; friendly 0.6.0.\n",
      "Type 'Friendly' for basic help.\n",
      "An exception occurred before friendly-traceback was imported.\n",
      "Some information is available.\n"
     ]
    },
    {
     "data": {
      "text/html": [
       "<div id='friendly-message1'><pre style='white-space:pre;overflow-x:auto;line-height:normal'><span style=\"color: #dd0000; text-decoration-color: #dd0000; background-color: #ffffff\">NameError</span>: name 'Armin' is not defined                                \n",
       "</pre></div>"
      ],
      "text/plain": [
       "\u001b[38;2;221;0;0;48;2;255;255;255mNameError\u001b[0m: name 'Armin' is not defined                                \n"
      ]
     },
     "metadata": {},
     "output_type": "display_data"
    },
    {
     "data": {
      "text/html": [
       "\n",
       "        <button\n",
       "            id='friendly-tb-btn-show1'\n",
       "            onclick='friendly_toggle_more1()'\n",
       "            style=''>\n",
       "        More ...\n",
       "        </button>\n",
       "        <script type=\"text/Javascript\"> function friendly_toggle_more1(){\n",
       "        var btn = document.getElementById('friendly-tb-btn-show1');\n",
       "        var btn_what = document.getElementById('friendly-tb-btn-show-what1');\n",
       "        var btn_where = document.getElementById('friendly-tb-btn-show-where1');\n",
       "        var btn_why = document.getElementById('friendly-tb-btn-show-why1');\n",
       "        ;\n",
       "        var message = document.getElementById('friendly-message1');\n",
       "        var friendly_tb_content = document.getElementById('friendly-tb-friendly_tb-content1');\n",
       "        var what_content = document.getElementById('friendly-tb-what-content1');\n",
       "        var why_content = document.getElementById('friendly-tb-why-content1');\n",
       "        var where_content = document.getElementById('friendly-tb-where-content1');\n",
       "        ;\n",
       "\n",
       "        if (btn_what.style.display == 'none'){\n",
       "            message.style.display = 'none';\n",
       "            btn_what.style.display = 'block';\n",
       "            btn_why.style.display = 'block';\n",
       "            btn_where.style.display = 'block';\n",
       "            friendly_tb_content.style.display = 'block';\n",
       "            ;\n",
       "            btn.textContent = \"Show message only\";\n",
       "            ;\n",
       "        } else {\n",
       "            btn_what.style.display = 'none';\n",
       "            btn_what.textContent = 'what()';\n",
       "            btn_why.style.display = 'none';\n",
       "            btn_why.textContent = 'why()';\n",
       "            btn_where.style.display = 'none';\n",
       "            btn_where.textContent = 'where()';\n",
       "            what_content.style.display = 'none';\n",
       "            why_content.style.display = 'none';\n",
       "            where_content.style.display = 'none';\n",
       "            ;\n",
       "            friendly_tb_content.style.display = 'none';\n",
       "            message.style.display = 'block';\n",
       "            btn.textContent = \"More ...\";\n",
       "            ;\n",
       "        }\n",
       "        };\n",
       "        </script>\n",
       "        "
      ]
     },
     "metadata": {},
     "output_type": "display_data"
    },
    {
     "data": {
      "text/html": [
       "<div id='friendly-tb-friendly_tb-content1' style='display:none'><pre style='white-space:pre;overflow-x:auto;line-height:normal'><span style=\"color: #dd0000; text-decoration-color: #dd0000; background-color: #ffffff\">Traceback (most recent call last):</span><span style=\"background-color: #ffffff\">                                                                  </span>\n",
       "<span style=\"color: #101010; text-decoration-color: #101010; background-color: #ffffff\">  Code block </span><span style=\"color: #783114; text-decoration-color: #783114; background-color: #ffffff\">[</span><span style=\"color: #101010; text-decoration-color: #101010; background-color: #ffffff\">20</span><span style=\"color: #783114; text-decoration-color: #783114; background-color: #ffffff\">]</span><span style=\"color: #101010; text-decoration-color: #101010; background-color: #ffffff\">, line 2</span><span style=\"background-color: #ffffff\">                                                                           </span>\n",
       "<span style=\"color: #101010; text-decoration-color: #101010; background-color: #ffffff\">    </span><span style=\"color: #005500; text-decoration-color: #005500; background-color: #ffffff\">if</span><span style=\"color: #783114; text-decoration-color: #783114; background-color: #ffffff\">(</span><span style=\"color: #0011aa; text-decoration-color: #0011aa; background-color: #ffffff\">name</span><span style=\"color: #101010; text-decoration-color: #101010; background-color: #ffffff\"> </span><span style=\"color: #783114; text-decoration-color: #783114; background-color: #ffffff\">==</span><span style=\"color: #101010; text-decoration-color: #101010; background-color: #ffffff\"> </span><span style=\"color: #0011aa; text-decoration-color: #0011aa; background-color: #ffffff\">Armin</span><span style=\"color: #783114; text-decoration-color: #783114; background-color: #ffffff\">):</span><span style=\"background-color: #ffffff\">                                                                              </span>\n",
       "<span style=\"color: #dd0000; text-decoration-color: #dd0000; background-color: #ffffff\">NameError</span><span style=\"color: #101010; text-decoration-color: #101010; background-color: #ffffff\">: </span><span style=\"color: #0011aa; text-decoration-color: #0011aa; background-color: #ffffff\">name 'Armin' is not defined</span><span style=\"background-color: #ffffff\">                                                              </span>\n",
       "</pre></div>"
      ],
      "text/plain": [
       "\u001b[38;2;221;0;0;48;2;255;255;255mTraceback (most recent call last):\u001b[0m\u001b[48;2;255;255;255m                                                                  \u001b[0m\n",
       "\u001b[38;2;16;16;16;48;2;255;255;255m  Code block \u001b[0m\u001b[38;2;120;49;20;48;2;255;255;255m[\u001b[0m\u001b[38;2;16;16;16;48;2;255;255;255m20\u001b[0m\u001b[38;2;120;49;20;48;2;255;255;255m]\u001b[0m\u001b[38;2;16;16;16;48;2;255;255;255m, line \u001b[0m\u001b[38;2;16;16;16;48;2;255;255;255m2\u001b[0m\u001b[48;2;255;255;255m                                                                           \u001b[0m\n",
       "\u001b[38;2;16;16;16;48;2;255;255;255m    \u001b[0m\u001b[38;2;0;85;0;48;2;255;255;255mif\u001b[0m\u001b[38;2;120;49;20;48;2;255;255;255m(\u001b[0m\u001b[38;2;0;17;170;48;2;255;255;255mname\u001b[0m\u001b[38;2;16;16;16;48;2;255;255;255m \u001b[0m\u001b[38;2;120;49;20;48;2;255;255;255m==\u001b[0m\u001b[38;2;16;16;16;48;2;255;255;255m \u001b[0m\u001b[38;2;0;17;170;48;2;255;255;255mArmin\u001b[0m\u001b[38;2;120;49;20;48;2;255;255;255m)\u001b[0m\u001b[38;2;120;49;20;48;2;255;255;255m:\u001b[0m\u001b[48;2;255;255;255m                                                                              \u001b[0m\n",
       "\u001b[38;2;221;0;0;48;2;255;255;255mNameError\u001b[0m\u001b[38;2;16;16;16;48;2;255;255;255m: \u001b[0m\u001b[38;2;0;17;170;48;2;255;255;255mname 'Armin' is not defined\u001b[0m\u001b[48;2;255;255;255m                                                              \u001b[0m\n"
      ]
     },
     "metadata": {},
     "output_type": "display_data"
    },
    {
     "data": {
      "text/html": [
       "<script type=\"text/Javascript\"> function toggle_what1(){\n",
       "     var content = document.getElementById('friendly-tb-what-content1');\n",
       "     var btn = document.getElementById('friendly-tb-btn-show-what1');\n",
       "        if (content.style.display === 'none') {\n",
       "            content.style.display = 'block';\n",
       "            btn.textContent = \"Hide what()\";\n",
       "        } else {\n",
       "            content.style.display = 'none';\n",
       "            btn.textContent = \"what()\";\n",
       "       }\n",
       "    }\n",
       "     </script>\n",
       "     <button\n",
       "         id='friendly-tb-btn-show-what1'\n",
       "         onclick='toggle_what1()'\n",
       "         style='display:none '>\n",
       "     what()\n",
       "     </button>\n",
       "    "
      ]
     },
     "metadata": {},
     "output_type": "display_data"
    },
    {
     "data": {
      "text/html": [
       "<div id='friendly-tb-what-content1' style='display:none'><pre style='white-space:pre;overflow-x:auto;line-height:normal'>A <span style=\"color: #dd0000; text-decoration-color: #dd0000; background-color: #ffffff\">NameError</span> exception indicates that a variable or function name is   \n",
       "not known to Python. Most often, this is because there is a spelling  \n",
       "mistake. However, sometimes it is because the name is used before     \n",
       "being defined or given a value.                                       \n",
       "</pre></div>"
      ],
      "text/plain": [
       "A \u001b[38;2;221;0;0;48;2;255;255;255mNameError\u001b[0m exception indicates that a variable or function name is   \n",
       "not known to Python. Most often, this is because there is a spelling  \n",
       "mistake. However, sometimes it is because the name is used before     \n",
       "being defined or given a value.                                       \n"
      ]
     },
     "metadata": {},
     "output_type": "display_data"
    },
    {
     "data": {
      "text/html": [
       "<script type=\"text/Javascript\"> function toggle_why1(){\n",
       "     var content = document.getElementById('friendly-tb-why-content1');\n",
       "     var btn = document.getElementById('friendly-tb-btn-show-why1');\n",
       "        if (content.style.display === 'none') {\n",
       "            content.style.display = 'block';\n",
       "            btn.textContent = \"Hide why()\";\n",
       "        } else {\n",
       "            content.style.display = 'none';\n",
       "            btn.textContent = \"why()\";\n",
       "       }\n",
       "    }\n",
       "     </script>\n",
       "     <button\n",
       "         id='friendly-tb-btn-show-why1'\n",
       "         onclick='toggle_why1()'\n",
       "         style='display:none '>\n",
       "     why()\n",
       "     </button>\n",
       "    "
      ]
     },
     "metadata": {},
     "output_type": "display_data"
    },
    {
     "data": {
      "text/html": [
       "<div id='friendly-tb-why-content1' style='display:none'><pre style='white-space:pre;overflow-x:auto;line-height:normal'>In your program, no object with the name <span style=\"color: #0011aa; text-decoration-color: #0011aa; background-color: #ffffff\">Armin</span> exists. I have no      \n",
       "additional information for you.                                       \n",
       "</pre></div>"
      ],
      "text/plain": [
       "In your program, no object with the name \u001b[38;2;0;17;170;48;2;255;255;255mArmin\u001b[0m exists. I have no      \n",
       "additional information for you.                                       \n"
      ]
     },
     "metadata": {},
     "output_type": "display_data"
    },
    {
     "data": {
      "text/html": [
       "<script type=\"text/Javascript\"> function toggle_where1(){\n",
       "     var content = document.getElementById('friendly-tb-where-content1');\n",
       "     var btn = document.getElementById('friendly-tb-btn-show-where1');\n",
       "        if (content.style.display === 'none') {\n",
       "            content.style.display = 'block';\n",
       "            btn.textContent = \"Hide where()\";\n",
       "        } else {\n",
       "            content.style.display = 'none';\n",
       "            btn.textContent = \"where()\";\n",
       "       }\n",
       "    }\n",
       "     </script>\n",
       "     <button\n",
       "         id='friendly-tb-btn-show-where1'\n",
       "         onclick='toggle_where1()'\n",
       "         style='display:none '>\n",
       "     where()\n",
       "     </button>\n",
       "    "
      ]
     },
     "metadata": {},
     "output_type": "display_data"
    },
    {
     "data": {
      "text/html": [
       "<div id='friendly-tb-where-content1' style='display:none'><pre style='white-space:pre;overflow-x:auto;line-height:normal'><span style=\"color: #dd0000; text-decoration-color: #dd0000\">Exception raised on line 2 of code block </span><span style=\"color: #783114; text-decoration-color: #783114; background-color: #ffffff\">[</span><span style=\"color: #101010; text-decoration-color: #101010; background-color: #ffffff\">20</span><span style=\"color: #783114; text-decoration-color: #783114; background-color: #ffffff\">]</span><span style=\"color: #dd0000; text-decoration-color: #dd0000\">.</span>                                                      \n",
       "\n",
       "<span style=\"color: #808080; text-decoration-color: #808080; background-color: #ffffff\">       1|</span><span style=\"color: #0011aa; text-decoration-color: #0011aa; background-color: #ffffff\"> name</span><span style=\"color: #783114; text-decoration-color: #783114; background-color: #ffffff\"> =</span><span style=\"color: #0011aa; text-decoration-color: #0011aa; background-color: #ffffff\"> input</span><span style=\"color: #783114; text-decoration-color: #783114; background-color: #ffffff\">(</span><span style=\"color: #8b008b; text-decoration-color: #8b008b; background-color: #ffffff\">'enter your name:'</span><span style=\"color: #783114; text-decoration-color: #783114; background-color: #ffffff\">)</span>\n",
       "<span style=\"color: #783114; text-decoration-color: #783114; background-color: #ffffff\">     &gt; </span><span style=\"color: #101010; text-decoration-color: #101010; background-color: #ffffff\">2|</span><span style=\"color: #005500; text-decoration-color: #005500; background-color: #ffffff\"> if</span><span style=\"color: #783114; text-decoration-color: #783114; background-color: #ffffff\">(</span><span style=\"color: #0011aa; text-decoration-color: #0011aa; background-color: #ffffff\">name</span><span style=\"color: #783114; text-decoration-color: #783114; background-color: #ffffff\"> == </span><span style=\"color: #ffffff; text-decoration-color: #ffffff; background-color: #cc0000\">Armin</span><span style=\"color: #783114; text-decoration-color: #783114; background-color: #ffffff\">):</span>\n",
       "<span style=\"color: #808080; text-decoration-color: #808080; background-color: #ffffff\">       3|</span><span style=\"color: #0011aa; text-decoration-color: #0011aa; background-color: #ffffff\">     </span><span style=\"color: #005500; text-decoration-color: #005500; background-color: #ffffff\">print</span><span style=\"color: #783114; text-decoration-color: #783114; background-color: #ffffff\">(</span><span style=\"color: #8b008b; text-decoration-color: #8b008b; background-color: #ffffff\">'hi'</span><span style=\"color: #783114; text-decoration-color: #783114; background-color: #ffffff\"> +</span><span style=\"color: #0011aa; text-decoration-color: #0011aa; background-color: #ffffff\"> name</span><span style=\"color: #783114; text-decoration-color: #783114; background-color: #ffffff\"> +</span><span style=\"color: #8b008b; text-decoration-color: #8b008b; background-color: #ffffff\"> '!'</span><span style=\"color: #783114; text-decoration-color: #783114; background-color: #ffffff\">)</span>\n",
       "</pre></div>"
      ],
      "text/plain": [
       "\u001b[38;2;221;0;0mException raised on line 2 of code block \u001b[0m\u001b[38;2;120;49;20;48;2;255;255;255m[\u001b[0m\u001b[38;2;16;16;16;48;2;255;255;255m20\u001b[0m\u001b[38;2;120;49;20;48;2;255;255;255m]\u001b[0m\u001b[38;2;221;0;0m.\u001b[0m                                                      \n",
       "\n",
       "\u001b[38;2;128;128;128;48;2;255;255;255m       1|\u001b[0m\u001b[38;2;0;17;170;48;2;255;255;255m \u001b[0m\u001b[38;2;0;17;170;48;2;255;255;255mname\u001b[0m\u001b[38;2;120;49;20;48;2;255;255;255m =\u001b[0m\u001b[38;2;0;17;170;48;2;255;255;255m input\u001b[0m\u001b[38;2;120;49;20;48;2;255;255;255m(\u001b[0m\u001b[38;2;139;0;139;48;2;255;255;255m'enter your name:'\u001b[0m\u001b[38;2;120;49;20;48;2;255;255;255m)\u001b[0m\n",
       "\u001b[38;2;120;49;20;48;2;255;255;255m     > \u001b[0m\u001b[38;2;16;16;16;48;2;255;255;255m2|\u001b[0m\u001b[38;2;0;85;0;48;2;255;255;255m if\u001b[0m\u001b[38;2;120;49;20;48;2;255;255;255m(\u001b[0m\u001b[38;2;0;17;170;48;2;255;255;255mname\u001b[0m\u001b[38;2;120;49;20;48;2;255;255;255m ==\u001b[0m\u001b[38;2;120;49;20;48;2;255;255;255m \u001b[0m\u001b[38;2;255;255;255;48;2;204;0;0mArmin\u001b[0m\u001b[38;2;120;49;20;48;2;255;255;255m)\u001b[0m\u001b[38;2;120;49;20;48;2;255;255;255m:\u001b[0m\n",
       "\u001b[38;2;128;128;128;48;2;255;255;255m       3|\u001b[0m\u001b[38;2;0;17;170;48;2;255;255;255m     \u001b[0m\u001b[38;2;0;85;0;48;2;255;255;255mprint\u001b[0m\u001b[38;2;120;49;20;48;2;255;255;255m(\u001b[0m\u001b[38;2;139;0;139;48;2;255;255;255m'hi'\u001b[0m\u001b[38;2;120;49;20;48;2;255;255;255m +\u001b[0m\u001b[38;2;0;17;170;48;2;255;255;255m name\u001b[0m\u001b[38;2;120;49;20;48;2;255;255;255m +\u001b[0m\u001b[38;2;139;0;139;48;2;255;255;255m '!'\u001b[0m\u001b[38;2;120;49;20;48;2;255;255;255m)\u001b[0m\n"
      ]
     },
     "metadata": {},
     "output_type": "display_data"
    }
   ],
   "source": [
    "from friendly.jupyter import Friendly"
   ]
  },
  {
   "cell_type": "code",
   "execution_count": 26,
   "id": "645e2ace",
   "metadata": {},
   "outputs": [],
   "source": [
    "import random"
   ]
  },
  {
   "cell_type": "code",
   "execution_count": 27,
   "id": "035dbe6d",
   "metadata": {},
   "outputs": [],
   "source": [
    "number = random.randint(0, 100)"
   ]
  },
  {
   "cell_type": "code",
   "execution_count": null,
   "id": "a559be8a",
   "metadata": {},
   "outputs": [],
   "source": []
  },
  {
   "cell_type": "code",
   "execution_count": 28,
   "id": "578589d4",
   "metadata": {},
   "outputs": [
    {
     "name": "stdout",
     "output_type": "stream",
     "text": [
      "guess the number: 25\n"
     ]
    },
    {
     "data": {
      "text/html": [
       "<div id='friendly-message2'><pre style='white-space:pre;overflow-x:auto;line-height:normal'><span style=\"color: #dd0000; text-decoration-color: #dd0000; background-color: #ffffff\">TypeError</span>: '&lt;' not supported between instances of 'str' and 'int'     \n",
       "</pre></div>"
      ],
      "text/plain": [
       "\u001b[38;2;221;0;0;48;2;255;255;255mTypeError\u001b[0m: '<' not supported between instances of 'str' and 'int'     \n"
      ]
     },
     "metadata": {},
     "output_type": "display_data"
    },
    {
     "data": {
      "text/html": [
       "\n",
       "        <button\n",
       "            id='friendly-tb-btn-show2'\n",
       "            onclick='friendly_toggle_more2()'\n",
       "            style=''>\n",
       "        More ...\n",
       "        </button>\n",
       "        <script type=\"text/Javascript\"> function friendly_toggle_more2(){\n",
       "        var btn = document.getElementById('friendly-tb-btn-show2');\n",
       "        var btn_what = document.getElementById('friendly-tb-btn-show-what2');\n",
       "        var btn_where = document.getElementById('friendly-tb-btn-show-where2');\n",
       "        var btn_why = document.getElementById('friendly-tb-btn-show-why2');\n",
       "        ;\n",
       "        var message = document.getElementById('friendly-message2');\n",
       "        var friendly_tb_content = document.getElementById('friendly-tb-friendly_tb-content2');\n",
       "        var what_content = document.getElementById('friendly-tb-what-content2');\n",
       "        var why_content = document.getElementById('friendly-tb-why-content2');\n",
       "        var where_content = document.getElementById('friendly-tb-where-content2');\n",
       "        ;\n",
       "\n",
       "        if (btn_what.style.display == 'none'){\n",
       "            message.style.display = 'none';\n",
       "            btn_what.style.display = 'block';\n",
       "            btn_why.style.display = 'block';\n",
       "            btn_where.style.display = 'block';\n",
       "            friendly_tb_content.style.display = 'block';\n",
       "            ;\n",
       "            btn.textContent = \"Show message only\";\n",
       "            ;\n",
       "        } else {\n",
       "            btn_what.style.display = 'none';\n",
       "            btn_what.textContent = 'what()';\n",
       "            btn_why.style.display = 'none';\n",
       "            btn_why.textContent = 'why()';\n",
       "            btn_where.style.display = 'none';\n",
       "            btn_where.textContent = 'where()';\n",
       "            what_content.style.display = 'none';\n",
       "            why_content.style.display = 'none';\n",
       "            where_content.style.display = 'none';\n",
       "            ;\n",
       "            friendly_tb_content.style.display = 'none';\n",
       "            message.style.display = 'block';\n",
       "            btn.textContent = \"More ...\";\n",
       "            ;\n",
       "        }\n",
       "        };\n",
       "        </script>\n",
       "        "
      ]
     },
     "metadata": {},
     "output_type": "display_data"
    },
    {
     "data": {
      "text/html": [
       "<div id='friendly-tb-friendly_tb-content2' style='display:none'><pre style='white-space:pre;overflow-x:auto;line-height:normal'><span style=\"color: #dd0000; text-decoration-color: #dd0000; background-color: #ffffff\">Traceback (most recent call last):</span><span style=\"background-color: #ffffff\">                                                                  </span>\n",
       "<span style=\"color: #101010; text-decoration-color: #101010; background-color: #ffffff\">  Code block </span><span style=\"color: #783114; text-decoration-color: #783114; background-color: #ffffff\">[</span><span style=\"color: #101010; text-decoration-color: #101010; background-color: #ffffff\">28</span><span style=\"color: #783114; text-decoration-color: #783114; background-color: #ffffff\">]</span><span style=\"color: #101010; text-decoration-color: #101010; background-color: #ffffff\">, line 4</span><span style=\"background-color: #ffffff\">                                                                           </span>\n",
       "<span style=\"color: #101010; text-decoration-color: #101010; background-color: #ffffff\">    </span><span style=\"color: #005500; text-decoration-color: #005500; background-color: #ffffff\">elif</span><span style=\"color: #101010; text-decoration-color: #101010; background-color: #ffffff\"> </span><span style=\"color: #0011aa; text-decoration-color: #0011aa; background-color: #ffffff\">value</span><span style=\"color: #101010; text-decoration-color: #101010; background-color: #ffffff\"> </span><span style=\"color: #783114; text-decoration-color: #783114; background-color: #ffffff\">&lt;</span><span style=\"color: #101010; text-decoration-color: #101010; background-color: #ffffff\"> </span><span style=\"color: #0011aa; text-decoration-color: #0011aa; background-color: #ffffff\">number</span><span style=\"color: #783114; text-decoration-color: #783114; background-color: #ffffff\">:</span><span style=\"background-color: #ffffff\">                                                                            </span>\n",
       "<span style=\"color: #dd0000; text-decoration-color: #dd0000; background-color: #ffffff\">TypeError</span><span style=\"color: #101010; text-decoration-color: #101010; background-color: #ffffff\">: </span><span style=\"color: #0011aa; text-decoration-color: #0011aa; background-color: #ffffff\">'&lt;' not supported between instances of 'str' and 'int'</span><span style=\"background-color: #ffffff\">                                   </span>\n",
       "\n",
       "Did you forget to convert the string <span style=\"color: #0011aa; text-decoration-color: #0011aa; background-color: #ffffff\">value</span> into an integer (<span style=\"color: #005500; text-decoration-color: #005500; background-color: #ffffff\">int</span>)?                                   \n",
       "</pre></div>"
      ],
      "text/plain": [
       "\u001b[38;2;221;0;0;48;2;255;255;255mTraceback (most recent call last):\u001b[0m\u001b[48;2;255;255;255m                                                                  \u001b[0m\n",
       "\u001b[38;2;16;16;16;48;2;255;255;255m  Code block \u001b[0m\u001b[38;2;120;49;20;48;2;255;255;255m[\u001b[0m\u001b[38;2;16;16;16;48;2;255;255;255m28\u001b[0m\u001b[38;2;120;49;20;48;2;255;255;255m]\u001b[0m\u001b[38;2;16;16;16;48;2;255;255;255m, line \u001b[0m\u001b[38;2;16;16;16;48;2;255;255;255m4\u001b[0m\u001b[48;2;255;255;255m                                                                           \u001b[0m\n",
       "\u001b[38;2;16;16;16;48;2;255;255;255m    \u001b[0m\u001b[38;2;0;85;0;48;2;255;255;255melif\u001b[0m\u001b[38;2;16;16;16;48;2;255;255;255m \u001b[0m\u001b[38;2;0;17;170;48;2;255;255;255mvalue\u001b[0m\u001b[38;2;16;16;16;48;2;255;255;255m \u001b[0m\u001b[38;2;120;49;20;48;2;255;255;255m<\u001b[0m\u001b[38;2;16;16;16;48;2;255;255;255m \u001b[0m\u001b[38;2;0;17;170;48;2;255;255;255mnumber\u001b[0m\u001b[38;2;120;49;20;48;2;255;255;255m:\u001b[0m\u001b[48;2;255;255;255m                                                                            \u001b[0m\n",
       "\u001b[38;2;221;0;0;48;2;255;255;255mTypeError\u001b[0m\u001b[38;2;16;16;16;48;2;255;255;255m: \u001b[0m\u001b[38;2;0;17;170;48;2;255;255;255m'<' not supported between instances of 'str' and 'int'\u001b[0m\u001b[48;2;255;255;255m                                   \u001b[0m\n",
       "\n",
       "Did you forget to convert the string \u001b[38;2;0;17;170;48;2;255;255;255mvalue\u001b[0m into an integer (\u001b[38;2;0;85;0;48;2;255;255;255mint\u001b[0m)?                                   \n"
      ]
     },
     "metadata": {},
     "output_type": "display_data"
    },
    {
     "data": {
      "text/html": [
       "<script type=\"text/Javascript\"> function toggle_what2(){\n",
       "     var content = document.getElementById('friendly-tb-what-content2');\n",
       "     var btn = document.getElementById('friendly-tb-btn-show-what2');\n",
       "        if (content.style.display === 'none') {\n",
       "            content.style.display = 'block';\n",
       "            btn.textContent = \"Hide what()\";\n",
       "        } else {\n",
       "            content.style.display = 'none';\n",
       "            btn.textContent = \"what()\";\n",
       "       }\n",
       "    }\n",
       "     </script>\n",
       "     <button\n",
       "         id='friendly-tb-btn-show-what2'\n",
       "         onclick='toggle_what2()'\n",
       "         style='display:none '>\n",
       "     what()\n",
       "     </button>\n",
       "    "
      ]
     },
     "metadata": {},
     "output_type": "display_data"
    },
    {
     "data": {
      "text/html": [
       "<div id='friendly-tb-what-content2' style='display:none'><pre style='white-space:pre;overflow-x:auto;line-height:normal'>A <span style=\"color: #dd0000; text-decoration-color: #dd0000; background-color: #ffffff\">TypeError</span> is usually caused by trying to combine two incompatible   \n",
       "types of objects, by calling a function with the wrong type of object,\n",
       "or by trying to do an operation not allowed on a given type of object.\n",
       "</pre></div>"
      ],
      "text/plain": [
       "A \u001b[38;2;221;0;0;48;2;255;255;255mTypeError\u001b[0m is usually caused by trying to combine two incompatible   \n",
       "types of objects, by calling a function with the wrong type of object,\n",
       "or by trying to do an operation not allowed on a given type of object.\n"
      ]
     },
     "metadata": {},
     "output_type": "display_data"
    },
    {
     "data": {
      "text/html": [
       "<script type=\"text/Javascript\"> function toggle_why2(){\n",
       "     var content = document.getElementById('friendly-tb-why-content2');\n",
       "     var btn = document.getElementById('friendly-tb-btn-show-why2');\n",
       "        if (content.style.display === 'none') {\n",
       "            content.style.display = 'block';\n",
       "            btn.textContent = \"Hide why()\";\n",
       "        } else {\n",
       "            content.style.display = 'none';\n",
       "            btn.textContent = \"why()\";\n",
       "       }\n",
       "    }\n",
       "     </script>\n",
       "     <button\n",
       "         id='friendly-tb-btn-show-why2'\n",
       "         onclick='toggle_why2()'\n",
       "         style='display:none '>\n",
       "     why()\n",
       "     </button>\n",
       "    "
      ]
     },
     "metadata": {},
     "output_type": "display_data"
    },
    {
     "data": {
      "text/html": [
       "<div id='friendly-tb-why-content2' style='display:none'><pre style='white-space:pre;overflow-x:auto;line-height:normal'>You tried to do an order comparison (&lt;) between two incompatible types\n",
       "of objects: a string (<span style=\"color: #005500; text-decoration-color: #005500; background-color: #ffffff\">str</span>) and an integer (<span style=\"color: #005500; text-decoration-color: #005500; background-color: #ffffff\">int</span>). Perhaps you forgot to\n",
       "convert the string <span style=\"color: #0011aa; text-decoration-color: #0011aa; background-color: #ffffff\">value</span> into an integer (<span style=\"color: #005500; text-decoration-color: #005500; background-color: #ffffff\">int</span>).                       \n",
       "</pre></div>"
      ],
      "text/plain": [
       "You tried to do an order comparison (<) between two incompatible types\n",
       "of objects: a string (\u001b[38;2;0;85;0;48;2;255;255;255mstr\u001b[0m) and an integer (\u001b[38;2;0;85;0;48;2;255;255;255mint\u001b[0m). Perhaps you forgot to\n",
       "convert the string \u001b[38;2;0;17;170;48;2;255;255;255mvalue\u001b[0m into an integer (\u001b[38;2;0;85;0;48;2;255;255;255mint\u001b[0m).                       \n"
      ]
     },
     "metadata": {},
     "output_type": "display_data"
    },
    {
     "data": {
      "text/html": [
       "<script type=\"text/Javascript\"> function toggle_where2(){\n",
       "     var content = document.getElementById('friendly-tb-where-content2');\n",
       "     var btn = document.getElementById('friendly-tb-btn-show-where2');\n",
       "        if (content.style.display === 'none') {\n",
       "            content.style.display = 'block';\n",
       "            btn.textContent = \"Hide where()\";\n",
       "        } else {\n",
       "            content.style.display = 'none';\n",
       "            btn.textContent = \"where()\";\n",
       "       }\n",
       "    }\n",
       "     </script>\n",
       "     <button\n",
       "         id='friendly-tb-btn-show-where2'\n",
       "         onclick='toggle_where2()'\n",
       "         style='display:none '>\n",
       "     where()\n",
       "     </button>\n",
       "    "
      ]
     },
     "metadata": {},
     "output_type": "display_data"
    },
    {
     "data": {
      "text/html": [
       "<div id='friendly-tb-where-content2' style='display:none'><pre style='white-space:pre;overflow-x:auto;line-height:normal'><span style=\"color: #dd0000; text-decoration-color: #dd0000\">Exception raised on line 4 of code block </span><span style=\"color: #783114; text-decoration-color: #783114; background-color: #ffffff\">[</span><span style=\"color: #101010; text-decoration-color: #101010; background-color: #ffffff\">28</span><span style=\"color: #783114; text-decoration-color: #783114; background-color: #ffffff\">]</span><span style=\"color: #dd0000; text-decoration-color: #dd0000\">.</span>                                                      \n",
       "\n",
       "<span style=\"color: #808080; text-decoration-color: #808080; background-color: #ffffff\">       1|</span><span style=\"color: #0011aa; text-decoration-color: #0011aa; background-color: #ffffff\"> value</span><span style=\"color: #783114; text-decoration-color: #783114; background-color: #ffffff\"> =</span><span style=\"color: #0011aa; text-decoration-color: #0011aa; background-color: #ffffff\"> input</span><span style=\"color: #783114; text-decoration-color: #783114; background-color: #ffffff\">(</span><span style=\"color: #8b008b; text-decoration-color: #8b008b; background-color: #ffffff\">'guess the number: '</span><span style=\"color: #783114; text-decoration-color: #783114; background-color: #ffffff\">)</span>\n",
       "<span style=\"color: #808080; text-decoration-color: #808080; background-color: #ffffff\">       2|</span><span style=\"color: #0011aa; text-decoration-color: #0011aa; background-color: #ffffff\"> </span><span style=\"color: #005500; text-decoration-color: #005500; background-color: #ffffff\">if</span><span style=\"color: #0011aa; text-decoration-color: #0011aa; background-color: #ffffff\"> value</span><span style=\"color: #783114; text-decoration-color: #783114; background-color: #ffffff\"> ==</span><span style=\"color: #0011aa; text-decoration-color: #0011aa; background-color: #ffffff\"> number</span><span style=\"color: #783114; text-decoration-color: #783114; background-color: #ffffff\">:</span>\n",
       "<span style=\"color: #808080; text-decoration-color: #808080; background-color: #ffffff\">       3|</span><span style=\"color: #0011aa; text-decoration-color: #0011aa; background-color: #ffffff\">     </span><span style=\"color: #005500; text-decoration-color: #005500; background-color: #ffffff\">print</span><span style=\"color: #783114; text-decoration-color: #783114; background-color: #ffffff\">(</span><span style=\"color: #8b008b; text-decoration-color: #8b008b; background-color: #ffffff\">'you got it!'</span><span style=\"color: #783114; text-decoration-color: #783114; background-color: #ffffff\">)</span>\n",
       "<span style=\"color: #783114; text-decoration-color: #783114; background-color: #ffffff\">     &gt; </span><span style=\"color: #101010; text-decoration-color: #101010; background-color: #ffffff\">4|</span><span style=\"color: #005500; text-decoration-color: #005500; background-color: #ffffff\"> elif</span><span style=\"color: #783114; text-decoration-color: #783114; background-color: #ffffff\"> </span><span style=\"color: #ffffff; text-decoration-color: #ffffff; background-color: #cc0000\">value &lt; number</span><span style=\"color: #783114; text-decoration-color: #783114; background-color: #ffffff\">:</span>\n",
       "<span style=\"color: #808080; text-decoration-color: #808080; background-color: #ffffff\">       5|</span><span style=\"color: #0011aa; text-decoration-color: #0011aa; background-color: #ffffff\">     </span><span style=\"color: #005500; text-decoration-color: #005500; background-color: #ffffff\">print</span><span style=\"color: #783114; text-decoration-color: #783114; background-color: #ffffff\">(</span><span style=\"color: #8b008b; text-decoration-color: #8b008b; background-color: #ffffff\">'too low!'</span><span style=\"color: #783114; text-decoration-color: #783114; background-color: #ffffff\">)</span>\n",
       "\n",
       "<span style=\"color: #101010; text-decoration-color: #101010; background-color: #ffffff\">    </span><span style=\"color: #0011aa; text-decoration-color: #0011aa; background-color: #ffffff\">number</span><span style=\"color: #783114; text-decoration-color: #783114; background-color: #ffffff\">:</span><span style=\"color: #101010; text-decoration-color: #101010; background-color: #ffffff\">  95</span><span style=\"background-color: #ffffff\">                                                                                     </span>\n",
       "<span style=\"color: #101010; text-decoration-color: #101010; background-color: #ffffff\">    </span><span style=\"color: #0011aa; text-decoration-color: #0011aa; background-color: #ffffff\">value</span><span style=\"color: #783114; text-decoration-color: #783114; background-color: #ffffff\">:</span><span style=\"color: #101010; text-decoration-color: #101010; background-color: #ffffff\">  </span><span style=\"color: #8b008b; text-decoration-color: #8b008b; background-color: #ffffff\">'25'</span><span style=\"background-color: #ffffff\">                                                                                    </span>\n",
       "</pre></div>"
      ],
      "text/plain": [
       "\u001b[38;2;221;0;0mException raised on line 4 of code block \u001b[0m\u001b[38;2;120;49;20;48;2;255;255;255m[\u001b[0m\u001b[38;2;16;16;16;48;2;255;255;255m28\u001b[0m\u001b[38;2;120;49;20;48;2;255;255;255m]\u001b[0m\u001b[38;2;221;0;0m.\u001b[0m                                                      \n",
       "\n",
       "\u001b[38;2;128;128;128;48;2;255;255;255m       1|\u001b[0m\u001b[38;2;0;17;170;48;2;255;255;255m \u001b[0m\u001b[38;2;0;17;170;48;2;255;255;255mvalue\u001b[0m\u001b[38;2;120;49;20;48;2;255;255;255m =\u001b[0m\u001b[38;2;0;17;170;48;2;255;255;255m input\u001b[0m\u001b[38;2;120;49;20;48;2;255;255;255m(\u001b[0m\u001b[38;2;139;0;139;48;2;255;255;255m'guess the number: '\u001b[0m\u001b[38;2;120;49;20;48;2;255;255;255m)\u001b[0m\n",
       "\u001b[38;2;128;128;128;48;2;255;255;255m       2|\u001b[0m\u001b[38;2;0;17;170;48;2;255;255;255m \u001b[0m\u001b[38;2;0;85;0;48;2;255;255;255mif\u001b[0m\u001b[38;2;0;17;170;48;2;255;255;255m value\u001b[0m\u001b[38;2;120;49;20;48;2;255;255;255m ==\u001b[0m\u001b[38;2;0;17;170;48;2;255;255;255m number\u001b[0m\u001b[38;2;120;49;20;48;2;255;255;255m:\u001b[0m\n",
       "\u001b[38;2;128;128;128;48;2;255;255;255m       3|\u001b[0m\u001b[38;2;0;17;170;48;2;255;255;255m     \u001b[0m\u001b[38;2;0;85;0;48;2;255;255;255mprint\u001b[0m\u001b[38;2;120;49;20;48;2;255;255;255m(\u001b[0m\u001b[38;2;139;0;139;48;2;255;255;255m'you got it!'\u001b[0m\u001b[38;2;120;49;20;48;2;255;255;255m)\u001b[0m\n",
       "\u001b[38;2;120;49;20;48;2;255;255;255m     > \u001b[0m\u001b[38;2;16;16;16;48;2;255;255;255m4|\u001b[0m\u001b[38;2;0;85;0;48;2;255;255;255m elif\u001b[0m\u001b[38;2;120;49;20;48;2;255;255;255m \u001b[0m\u001b[38;2;255;255;255;48;2;204;0;0mvalue\u001b[0m\u001b[38;2;255;255;255;48;2;204;0;0m <\u001b[0m\u001b[38;2;255;255;255;48;2;204;0;0m number\u001b[0m\u001b[38;2;120;49;20;48;2;255;255;255m:\u001b[0m\n",
       "\u001b[38;2;128;128;128;48;2;255;255;255m       5|\u001b[0m\u001b[38;2;0;17;170;48;2;255;255;255m     \u001b[0m\u001b[38;2;0;85;0;48;2;255;255;255mprint\u001b[0m\u001b[38;2;120;49;20;48;2;255;255;255m(\u001b[0m\u001b[38;2;139;0;139;48;2;255;255;255m'too low!'\u001b[0m\u001b[38;2;120;49;20;48;2;255;255;255m)\u001b[0m\n",
       "\n",
       "\u001b[38;2;16;16;16;48;2;255;255;255m    \u001b[0m\u001b[38;2;0;17;170;48;2;255;255;255mnumber\u001b[0m\u001b[38;2;120;49;20;48;2;255;255;255m:\u001b[0m\u001b[38;2;16;16;16;48;2;255;255;255m  \u001b[0m\u001b[38;2;16;16;16;48;2;255;255;255m95\u001b[0m\u001b[48;2;255;255;255m                                                                                     \u001b[0m\n",
       "\u001b[38;2;16;16;16;48;2;255;255;255m    \u001b[0m\u001b[38;2;0;17;170;48;2;255;255;255mvalue\u001b[0m\u001b[38;2;120;49;20;48;2;255;255;255m:\u001b[0m\u001b[38;2;16;16;16;48;2;255;255;255m  \u001b[0m\u001b[38;2;139;0;139;48;2;255;255;255m'\u001b[0m\u001b[38;2;139;0;139;48;2;255;255;255m25\u001b[0m\u001b[38;2;139;0;139;48;2;255;255;255m'\u001b[0m\u001b[48;2;255;255;255m                                                                                    \u001b[0m\n"
      ]
     },
     "metadata": {},
     "output_type": "display_data"
    }
   ],
   "source": [
    "value = input('guess the number: ')\n",
    "if value == number:\n",
    "    print('you got it!')\n",
    "elif value < number:\n",
    "    print('too low!')\n",
    "elif value > number:\n",
    "    print('too high!')"
   ]
  },
  {
   "cell_type": "code",
   "execution_count": 29,
   "id": "0006df3d",
   "metadata": {},
   "outputs": [
    {
     "name": "stdout",
     "output_type": "stream",
     "text": [
      "guess the number: 25\n",
      "too low!\n"
     ]
    }
   ],
   "source": [
    "value = input('guess the number: ')\n",
    "if value == 'number':\n",
    "    print('you got it!')\n",
    "elif value < 'number':\n",
    "    print('too low!')\n",
    "elif value > 'number':\n",
    "    print('too high!')"
   ]
  },
  {
   "cell_type": "code",
   "execution_count": 30,
   "id": "baf3849a",
   "metadata": {},
   "outputs": [
    {
     "name": "stdout",
     "output_type": "stream",
     "text": [
      "guess the number: 70\n",
      "too low!\n"
     ]
    }
   ],
   "source": [
    "value = input('guess the number: ')\n",
    "if value == 'number':\n",
    "    print('you got it!')\n",
    "elif value < 'number':\n",
    "    print('too low!')\n",
    "elif value > 'number':\n",
    "    print('too high!')"
   ]
  },
  {
   "cell_type": "code",
   "execution_count": 31,
   "id": "dfb18cf3",
   "metadata": {},
   "outputs": [
    {
     "name": "stdout",
     "output_type": "stream",
     "text": [
      "guess the number: 90\n",
      "too low!\n"
     ]
    }
   ],
   "source": [
    "value = input('guess the number: ')\n",
    "if value == 'number':\n",
    "    print('you got it!')\n",
    "elif value < 'number':\n",
    "    print('too low!')\n",
    "elif value > 'number':\n",
    "    print('too high!')"
   ]
  },
  {
   "cell_type": "code",
   "execution_count": 32,
   "id": "7dff5bdd",
   "metadata": {},
   "outputs": [
    {
     "name": "stdout",
     "output_type": "stream",
     "text": [
      "guess the number: 99\n",
      "too low!\n"
     ]
    }
   ],
   "source": [
    "value = input('guess the number: ')\n",
    "if value == 'number':\n",
    "    print('you got it!')\n",
    "elif value < 'number':\n",
    "    print('too low!')\n",
    "elif value > 'number':\n",
    "    print('too high!')"
   ]
  },
  {
   "cell_type": "code",
   "execution_count": 33,
   "id": "cd73b5d4",
   "metadata": {},
   "outputs": [
    {
     "name": "stdout",
     "output_type": "stream",
     "text": [
      "guess the number: 100\n",
      "too low!\n"
     ]
    }
   ],
   "source": [
    "value = input('guess the number: ')\n",
    "if value == 'number':\n",
    "    print('you got it!')\n",
    "elif value < 'number':\n",
    "    print('too low!')\n",
    "elif value > 'number':\n",
    "    print('too high!')"
   ]
  },
  {
   "cell_type": "code",
   "execution_count": 34,
   "id": "c4d4801a",
   "metadata": {},
   "outputs": [
    {
     "name": "stdout",
     "output_type": "stream",
     "text": [
      "21\n"
     ]
    }
   ],
   "source": [
    "import random\n",
    "number = random.randint(0, 100)\n",
    "print(number)"
   ]
  },
  {
   "cell_type": "code",
   "execution_count": 35,
   "id": "c2f4872e",
   "metadata": {},
   "outputs": [
    {
     "name": "stdout",
     "output_type": "stream",
     "text": [
      "guess the number: 21\n",
      "too low!\n"
     ]
    }
   ],
   "source": [
    "value = input('guess the number: ')\n",
    "if value == 'number':\n",
    "    print('you got it!')\n",
    "elif value < 'number':\n",
    "    print('too low!')\n",
    "elif value > 'number':\n",
    "    print('too high!')"
   ]
  },
  {
   "cell_type": "code",
   "execution_count": 36,
   "id": "4d4d8888",
   "metadata": {},
   "outputs": [
    {
     "name": "stdout",
     "output_type": "stream",
     "text": [
      "75\n",
      "guess the number: 75\n",
      "too low!\n"
     ]
    }
   ],
   "source": [
    "import random\n",
    "number = random.randint(0, 100)\n",
    "print(number)\n",
    "value = input('guess the number: ')\n",
    "if value == 'number':\n",
    "    print('you got it!')\n",
    "elif value < 'number':\n",
    "    print('too low!')\n",
    "elif value > 'number':\n",
    "    print('too high!')"
   ]
  },
  {
   "cell_type": "code",
   "execution_count": 37,
   "id": "26099fc9",
   "metadata": {},
   "outputs": [
    {
     "name": "stdout",
     "output_type": "stream",
     "text": [
      "53\n",
      "guess the number: 53\n"
     ]
    },
    {
     "data": {
      "text/html": [
       "<div id='friendly-message3'><pre style='white-space:pre;overflow-x:auto;line-height:normal'><span style=\"color: #dd0000; text-decoration-color: #dd0000; background-color: #ffffff\">TypeError</span>: '&lt;' not supported between instances of 'str' and 'int'     \n",
       "</pre></div>"
      ],
      "text/plain": [
       "\u001b[38;2;221;0;0;48;2;255;255;255mTypeError\u001b[0m: '<' not supported between instances of 'str' and 'int'     \n"
      ]
     },
     "metadata": {},
     "output_type": "display_data"
    },
    {
     "data": {
      "text/html": [
       "\n",
       "        <button\n",
       "            id='friendly-tb-btn-show3'\n",
       "            onclick='friendly_toggle_more3()'\n",
       "            style=''>\n",
       "        More ...\n",
       "        </button>\n",
       "        <script type=\"text/Javascript\"> function friendly_toggle_more3(){\n",
       "        var btn = document.getElementById('friendly-tb-btn-show3');\n",
       "        var btn_what = document.getElementById('friendly-tb-btn-show-what3');\n",
       "        var btn_where = document.getElementById('friendly-tb-btn-show-where3');\n",
       "        var btn_why = document.getElementById('friendly-tb-btn-show-why3');\n",
       "        ;\n",
       "        var message = document.getElementById('friendly-message3');\n",
       "        var friendly_tb_content = document.getElementById('friendly-tb-friendly_tb-content3');\n",
       "        var what_content = document.getElementById('friendly-tb-what-content3');\n",
       "        var why_content = document.getElementById('friendly-tb-why-content3');\n",
       "        var where_content = document.getElementById('friendly-tb-where-content3');\n",
       "        ;\n",
       "\n",
       "        if (btn_what.style.display == 'none'){\n",
       "            message.style.display = 'none';\n",
       "            btn_what.style.display = 'block';\n",
       "            btn_why.style.display = 'block';\n",
       "            btn_where.style.display = 'block';\n",
       "            friendly_tb_content.style.display = 'block';\n",
       "            ;\n",
       "            btn.textContent = \"Show message only\";\n",
       "            ;\n",
       "        } else {\n",
       "            btn_what.style.display = 'none';\n",
       "            btn_what.textContent = 'what()';\n",
       "            btn_why.style.display = 'none';\n",
       "            btn_why.textContent = 'why()';\n",
       "            btn_where.style.display = 'none';\n",
       "            btn_where.textContent = 'where()';\n",
       "            what_content.style.display = 'none';\n",
       "            why_content.style.display = 'none';\n",
       "            where_content.style.display = 'none';\n",
       "            ;\n",
       "            friendly_tb_content.style.display = 'none';\n",
       "            message.style.display = 'block';\n",
       "            btn.textContent = \"More ...\";\n",
       "            ;\n",
       "        }\n",
       "        };\n",
       "        </script>\n",
       "        "
      ]
     },
     "metadata": {},
     "output_type": "display_data"
    },
    {
     "data": {
      "text/html": [
       "<div id='friendly-tb-friendly_tb-content3' style='display:none'><pre style='white-space:pre;overflow-x:auto;line-height:normal'><span style=\"color: #dd0000; text-decoration-color: #dd0000; background-color: #ffffff\">Traceback (most recent call last):</span><span style=\"background-color: #ffffff\">                                                                  </span>\n",
       "<span style=\"color: #101010; text-decoration-color: #101010; background-color: #ffffff\">  Code block </span><span style=\"color: #783114; text-decoration-color: #783114; background-color: #ffffff\">[</span><span style=\"color: #101010; text-decoration-color: #101010; background-color: #ffffff\">37</span><span style=\"color: #783114; text-decoration-color: #783114; background-color: #ffffff\">]</span><span style=\"color: #101010; text-decoration-color: #101010; background-color: #ffffff\">, line 7</span><span style=\"background-color: #ffffff\">                                                                           </span>\n",
       "<span style=\"color: #101010; text-decoration-color: #101010; background-color: #ffffff\">    </span><span style=\"color: #005500; text-decoration-color: #005500; background-color: #ffffff\">elif</span><span style=\"color: #101010; text-decoration-color: #101010; background-color: #ffffff\"> </span><span style=\"color: #0011aa; text-decoration-color: #0011aa; background-color: #ffffff\">value</span><span style=\"color: #101010; text-decoration-color: #101010; background-color: #ffffff\"> </span><span style=\"color: #783114; text-decoration-color: #783114; background-color: #ffffff\">&lt;</span><span style=\"color: #101010; text-decoration-color: #101010; background-color: #ffffff\"> </span><span style=\"color: #0011aa; text-decoration-color: #0011aa; background-color: #ffffff\">number</span><span style=\"color: #783114; text-decoration-color: #783114; background-color: #ffffff\">:</span><span style=\"background-color: #ffffff\">                                                                            </span>\n",
       "<span style=\"color: #dd0000; text-decoration-color: #dd0000; background-color: #ffffff\">TypeError</span><span style=\"color: #101010; text-decoration-color: #101010; background-color: #ffffff\">: </span><span style=\"color: #0011aa; text-decoration-color: #0011aa; background-color: #ffffff\">'&lt;' not supported between instances of 'str' and 'int'</span><span style=\"background-color: #ffffff\">                                   </span>\n",
       "\n",
       "Did you forget to convert the string <span style=\"color: #0011aa; text-decoration-color: #0011aa; background-color: #ffffff\">value</span> into an integer (<span style=\"color: #005500; text-decoration-color: #005500; background-color: #ffffff\">int</span>)?                                   \n",
       "</pre></div>"
      ],
      "text/plain": [
       "\u001b[38;2;221;0;0;48;2;255;255;255mTraceback (most recent call last):\u001b[0m\u001b[48;2;255;255;255m                                                                  \u001b[0m\n",
       "\u001b[38;2;16;16;16;48;2;255;255;255m  Code block \u001b[0m\u001b[38;2;120;49;20;48;2;255;255;255m[\u001b[0m\u001b[38;2;16;16;16;48;2;255;255;255m37\u001b[0m\u001b[38;2;120;49;20;48;2;255;255;255m]\u001b[0m\u001b[38;2;16;16;16;48;2;255;255;255m, line \u001b[0m\u001b[38;2;16;16;16;48;2;255;255;255m7\u001b[0m\u001b[48;2;255;255;255m                                                                           \u001b[0m\n",
       "\u001b[38;2;16;16;16;48;2;255;255;255m    \u001b[0m\u001b[38;2;0;85;0;48;2;255;255;255melif\u001b[0m\u001b[38;2;16;16;16;48;2;255;255;255m \u001b[0m\u001b[38;2;0;17;170;48;2;255;255;255mvalue\u001b[0m\u001b[38;2;16;16;16;48;2;255;255;255m \u001b[0m\u001b[38;2;120;49;20;48;2;255;255;255m<\u001b[0m\u001b[38;2;16;16;16;48;2;255;255;255m \u001b[0m\u001b[38;2;0;17;170;48;2;255;255;255mnumber\u001b[0m\u001b[38;2;120;49;20;48;2;255;255;255m:\u001b[0m\u001b[48;2;255;255;255m                                                                            \u001b[0m\n",
       "\u001b[38;2;221;0;0;48;2;255;255;255mTypeError\u001b[0m\u001b[38;2;16;16;16;48;2;255;255;255m: \u001b[0m\u001b[38;2;0;17;170;48;2;255;255;255m'<' not supported between instances of 'str' and 'int'\u001b[0m\u001b[48;2;255;255;255m                                   \u001b[0m\n",
       "\n",
       "Did you forget to convert the string \u001b[38;2;0;17;170;48;2;255;255;255mvalue\u001b[0m into an integer (\u001b[38;2;0;85;0;48;2;255;255;255mint\u001b[0m)?                                   \n"
      ]
     },
     "metadata": {},
     "output_type": "display_data"
    },
    {
     "data": {
      "text/html": [
       "<script type=\"text/Javascript\"> function toggle_what3(){\n",
       "     var content = document.getElementById('friendly-tb-what-content3');\n",
       "     var btn = document.getElementById('friendly-tb-btn-show-what3');\n",
       "        if (content.style.display === 'none') {\n",
       "            content.style.display = 'block';\n",
       "            btn.textContent = \"Hide what()\";\n",
       "        } else {\n",
       "            content.style.display = 'none';\n",
       "            btn.textContent = \"what()\";\n",
       "       }\n",
       "    }\n",
       "     </script>\n",
       "     <button\n",
       "         id='friendly-tb-btn-show-what3'\n",
       "         onclick='toggle_what3()'\n",
       "         style='display:none '>\n",
       "     what()\n",
       "     </button>\n",
       "    "
      ]
     },
     "metadata": {},
     "output_type": "display_data"
    },
    {
     "data": {
      "text/html": [
       "<div id='friendly-tb-what-content3' style='display:none'><pre style='white-space:pre;overflow-x:auto;line-height:normal'>A <span style=\"color: #dd0000; text-decoration-color: #dd0000; background-color: #ffffff\">TypeError</span> is usually caused by trying to combine two incompatible   \n",
       "types of objects, by calling a function with the wrong type of object,\n",
       "or by trying to do an operation not allowed on a given type of object.\n",
       "</pre></div>"
      ],
      "text/plain": [
       "A \u001b[38;2;221;0;0;48;2;255;255;255mTypeError\u001b[0m is usually caused by trying to combine two incompatible   \n",
       "types of objects, by calling a function with the wrong type of object,\n",
       "or by trying to do an operation not allowed on a given type of object.\n"
      ]
     },
     "metadata": {},
     "output_type": "display_data"
    },
    {
     "data": {
      "text/html": [
       "<script type=\"text/Javascript\"> function toggle_why3(){\n",
       "     var content = document.getElementById('friendly-tb-why-content3');\n",
       "     var btn = document.getElementById('friendly-tb-btn-show-why3');\n",
       "        if (content.style.display === 'none') {\n",
       "            content.style.display = 'block';\n",
       "            btn.textContent = \"Hide why()\";\n",
       "        } else {\n",
       "            content.style.display = 'none';\n",
       "            btn.textContent = \"why()\";\n",
       "       }\n",
       "    }\n",
       "     </script>\n",
       "     <button\n",
       "         id='friendly-tb-btn-show-why3'\n",
       "         onclick='toggle_why3()'\n",
       "         style='display:none '>\n",
       "     why()\n",
       "     </button>\n",
       "    "
      ]
     },
     "metadata": {},
     "output_type": "display_data"
    },
    {
     "data": {
      "text/html": [
       "<div id='friendly-tb-why-content3' style='display:none'><pre style='white-space:pre;overflow-x:auto;line-height:normal'>You tried to do an order comparison (&lt;) between two incompatible types\n",
       "of objects: a string (<span style=\"color: #005500; text-decoration-color: #005500; background-color: #ffffff\">str</span>) and an integer (<span style=\"color: #005500; text-decoration-color: #005500; background-color: #ffffff\">int</span>). Perhaps you forgot to\n",
       "convert the string <span style=\"color: #0011aa; text-decoration-color: #0011aa; background-color: #ffffff\">value</span> into an integer (<span style=\"color: #005500; text-decoration-color: #005500; background-color: #ffffff\">int</span>).                       \n",
       "</pre></div>"
      ],
      "text/plain": [
       "You tried to do an order comparison (<) between two incompatible types\n",
       "of objects: a string (\u001b[38;2;0;85;0;48;2;255;255;255mstr\u001b[0m) and an integer (\u001b[38;2;0;85;0;48;2;255;255;255mint\u001b[0m). Perhaps you forgot to\n",
       "convert the string \u001b[38;2;0;17;170;48;2;255;255;255mvalue\u001b[0m into an integer (\u001b[38;2;0;85;0;48;2;255;255;255mint\u001b[0m).                       \n"
      ]
     },
     "metadata": {},
     "output_type": "display_data"
    },
    {
     "data": {
      "text/html": [
       "<script type=\"text/Javascript\"> function toggle_where3(){\n",
       "     var content = document.getElementById('friendly-tb-where-content3');\n",
       "     var btn = document.getElementById('friendly-tb-btn-show-where3');\n",
       "        if (content.style.display === 'none') {\n",
       "            content.style.display = 'block';\n",
       "            btn.textContent = \"Hide where()\";\n",
       "        } else {\n",
       "            content.style.display = 'none';\n",
       "            btn.textContent = \"where()\";\n",
       "       }\n",
       "    }\n",
       "     </script>\n",
       "     <button\n",
       "         id='friendly-tb-btn-show-where3'\n",
       "         onclick='toggle_where3()'\n",
       "         style='display:none '>\n",
       "     where()\n",
       "     </button>\n",
       "    "
      ]
     },
     "metadata": {},
     "output_type": "display_data"
    },
    {
     "data": {
      "text/html": [
       "<div id='friendly-tb-where-content3' style='display:none'><pre style='white-space:pre;overflow-x:auto;line-height:normal'><span style=\"color: #dd0000; text-decoration-color: #dd0000\">Exception raised on line 7 of code block </span><span style=\"color: #783114; text-decoration-color: #783114; background-color: #ffffff\">[</span><span style=\"color: #101010; text-decoration-color: #101010; background-color: #ffffff\">37</span><span style=\"color: #783114; text-decoration-color: #783114; background-color: #ffffff\">]</span><span style=\"color: #dd0000; text-decoration-color: #dd0000\">.</span>                                                      \n",
       "\n",
       "<span style=\"color: #808080; text-decoration-color: #808080; background-color: #ffffff\">       4|</span><span style=\"color: #0011aa; text-decoration-color: #0011aa; background-color: #ffffff\"> value</span><span style=\"color: #783114; text-decoration-color: #783114; background-color: #ffffff\"> =</span><span style=\"color: #0011aa; text-decoration-color: #0011aa; background-color: #ffffff\"> input</span><span style=\"color: #783114; text-decoration-color: #783114; background-color: #ffffff\">(</span><span style=\"color: #8b008b; text-decoration-color: #8b008b; background-color: #ffffff\">'guess the number: '</span><span style=\"color: #783114; text-decoration-color: #783114; background-color: #ffffff\">)</span>\n",
       "<span style=\"color: #808080; text-decoration-color: #808080; background-color: #ffffff\">       5|</span><span style=\"color: #0011aa; text-decoration-color: #0011aa; background-color: #ffffff\"> </span><span style=\"color: #005500; text-decoration-color: #005500; background-color: #ffffff\">if</span><span style=\"color: #0011aa; text-decoration-color: #0011aa; background-color: #ffffff\"> value</span><span style=\"color: #783114; text-decoration-color: #783114; background-color: #ffffff\"> ==</span><span style=\"color: #0011aa; text-decoration-color: #0011aa; background-color: #ffffff\"> number</span><span style=\"color: #783114; text-decoration-color: #783114; background-color: #ffffff\">:</span>\n",
       "<span style=\"color: #808080; text-decoration-color: #808080; background-color: #ffffff\">       6|</span><span style=\"color: #0011aa; text-decoration-color: #0011aa; background-color: #ffffff\">     </span><span style=\"color: #005500; text-decoration-color: #005500; background-color: #ffffff\">print</span><span style=\"color: #783114; text-decoration-color: #783114; background-color: #ffffff\">(</span><span style=\"color: #8b008b; text-decoration-color: #8b008b; background-color: #ffffff\">'you got it!'</span><span style=\"color: #783114; text-decoration-color: #783114; background-color: #ffffff\">)</span>\n",
       "<span style=\"color: #783114; text-decoration-color: #783114; background-color: #ffffff\">     &gt; </span><span style=\"color: #101010; text-decoration-color: #101010; background-color: #ffffff\">7|</span><span style=\"color: #005500; text-decoration-color: #005500; background-color: #ffffff\"> elif</span><span style=\"color: #783114; text-decoration-color: #783114; background-color: #ffffff\"> </span><span style=\"color: #ffffff; text-decoration-color: #ffffff; background-color: #cc0000\">value &lt; number</span><span style=\"color: #783114; text-decoration-color: #783114; background-color: #ffffff\">:</span>\n",
       "<span style=\"color: #808080; text-decoration-color: #808080; background-color: #ffffff\">       8|</span><span style=\"color: #0011aa; text-decoration-color: #0011aa; background-color: #ffffff\">     </span><span style=\"color: #005500; text-decoration-color: #005500; background-color: #ffffff\">print</span><span style=\"color: #783114; text-decoration-color: #783114; background-color: #ffffff\">(</span><span style=\"color: #8b008b; text-decoration-color: #8b008b; background-color: #ffffff\">'too low!'</span><span style=\"color: #783114; text-decoration-color: #783114; background-color: #ffffff\">)</span>\n",
       "\n",
       "<span style=\"color: #101010; text-decoration-color: #101010; background-color: #ffffff\">    </span><span style=\"color: #0011aa; text-decoration-color: #0011aa; background-color: #ffffff\">number</span><span style=\"color: #783114; text-decoration-color: #783114; background-color: #ffffff\">:</span><span style=\"color: #101010; text-decoration-color: #101010; background-color: #ffffff\">  53</span><span style=\"background-color: #ffffff\">                                                                                     </span>\n",
       "<span style=\"color: #101010; text-decoration-color: #101010; background-color: #ffffff\">    </span><span style=\"color: #0011aa; text-decoration-color: #0011aa; background-color: #ffffff\">value</span><span style=\"color: #783114; text-decoration-color: #783114; background-color: #ffffff\">:</span><span style=\"color: #101010; text-decoration-color: #101010; background-color: #ffffff\">  </span><span style=\"color: #8b008b; text-decoration-color: #8b008b; background-color: #ffffff\">'53'</span><span style=\"background-color: #ffffff\">                                                                                    </span>\n",
       "</pre></div>"
      ],
      "text/plain": [
       "\u001b[38;2;221;0;0mException raised on line 7 of code block \u001b[0m\u001b[38;2;120;49;20;48;2;255;255;255m[\u001b[0m\u001b[38;2;16;16;16;48;2;255;255;255m37\u001b[0m\u001b[38;2;120;49;20;48;2;255;255;255m]\u001b[0m\u001b[38;2;221;0;0m.\u001b[0m                                                      \n",
       "\n",
       "\u001b[38;2;128;128;128;48;2;255;255;255m       4|\u001b[0m\u001b[38;2;0;17;170;48;2;255;255;255m \u001b[0m\u001b[38;2;0;17;170;48;2;255;255;255mvalue\u001b[0m\u001b[38;2;120;49;20;48;2;255;255;255m =\u001b[0m\u001b[38;2;0;17;170;48;2;255;255;255m input\u001b[0m\u001b[38;2;120;49;20;48;2;255;255;255m(\u001b[0m\u001b[38;2;139;0;139;48;2;255;255;255m'guess the number: '\u001b[0m\u001b[38;2;120;49;20;48;2;255;255;255m)\u001b[0m\n",
       "\u001b[38;2;128;128;128;48;2;255;255;255m       5|\u001b[0m\u001b[38;2;0;17;170;48;2;255;255;255m \u001b[0m\u001b[38;2;0;85;0;48;2;255;255;255mif\u001b[0m\u001b[38;2;0;17;170;48;2;255;255;255m value\u001b[0m\u001b[38;2;120;49;20;48;2;255;255;255m ==\u001b[0m\u001b[38;2;0;17;170;48;2;255;255;255m number\u001b[0m\u001b[38;2;120;49;20;48;2;255;255;255m:\u001b[0m\n",
       "\u001b[38;2;128;128;128;48;2;255;255;255m       6|\u001b[0m\u001b[38;2;0;17;170;48;2;255;255;255m     \u001b[0m\u001b[38;2;0;85;0;48;2;255;255;255mprint\u001b[0m\u001b[38;2;120;49;20;48;2;255;255;255m(\u001b[0m\u001b[38;2;139;0;139;48;2;255;255;255m'you got it!'\u001b[0m\u001b[38;2;120;49;20;48;2;255;255;255m)\u001b[0m\n",
       "\u001b[38;2;120;49;20;48;2;255;255;255m     > \u001b[0m\u001b[38;2;16;16;16;48;2;255;255;255m7|\u001b[0m\u001b[38;2;0;85;0;48;2;255;255;255m elif\u001b[0m\u001b[38;2;120;49;20;48;2;255;255;255m \u001b[0m\u001b[38;2;255;255;255;48;2;204;0;0mvalue\u001b[0m\u001b[38;2;255;255;255;48;2;204;0;0m <\u001b[0m\u001b[38;2;255;255;255;48;2;204;0;0m number\u001b[0m\u001b[38;2;120;49;20;48;2;255;255;255m:\u001b[0m\n",
       "\u001b[38;2;128;128;128;48;2;255;255;255m       8|\u001b[0m\u001b[38;2;0;17;170;48;2;255;255;255m     \u001b[0m\u001b[38;2;0;85;0;48;2;255;255;255mprint\u001b[0m\u001b[38;2;120;49;20;48;2;255;255;255m(\u001b[0m\u001b[38;2;139;0;139;48;2;255;255;255m'too low!'\u001b[0m\u001b[38;2;120;49;20;48;2;255;255;255m)\u001b[0m\n",
       "\n",
       "\u001b[38;2;16;16;16;48;2;255;255;255m    \u001b[0m\u001b[38;2;0;17;170;48;2;255;255;255mnumber\u001b[0m\u001b[38;2;120;49;20;48;2;255;255;255m:\u001b[0m\u001b[38;2;16;16;16;48;2;255;255;255m  \u001b[0m\u001b[38;2;16;16;16;48;2;255;255;255m53\u001b[0m\u001b[48;2;255;255;255m                                                                                     \u001b[0m\n",
       "\u001b[38;2;16;16;16;48;2;255;255;255m    \u001b[0m\u001b[38;2;0;17;170;48;2;255;255;255mvalue\u001b[0m\u001b[38;2;120;49;20;48;2;255;255;255m:\u001b[0m\u001b[38;2;16;16;16;48;2;255;255;255m  \u001b[0m\u001b[38;2;139;0;139;48;2;255;255;255m'\u001b[0m\u001b[38;2;139;0;139;48;2;255;255;255m53\u001b[0m\u001b[38;2;139;0;139;48;2;255;255;255m'\u001b[0m\u001b[48;2;255;255;255m                                                                                    \u001b[0m\n"
      ]
     },
     "metadata": {},
     "output_type": "display_data"
    }
   ],
   "source": [
    "import random\n",
    "number = random.randint(0, 100)\n",
    "print(number)\n",
    "value = input('guess the number: ')\n",
    "if value == number:\n",
    "    print('you got it!')\n",
    "elif value < number:\n",
    "    print('too low!')\n",
    "elif value > number:\n",
    "    print('too high!')"
   ]
  },
  {
   "cell_type": "code",
   "execution_count": 38,
   "id": "65340ff3",
   "metadata": {},
   "outputs": [
    {
     "name": "stdout",
     "output_type": "stream",
     "text": [
      "85\n",
      "guess the number: 85\n",
      "you got it!\n"
     ]
    }
   ],
   "source": [
    "import random\n",
    "number = random.randint(0, 100)\n",
    "print(number)\n",
    "value = input('guess the number: ')\n",
    "if int(value) == number:\n",
    "    print('you got it!')\n",
    "elif int(value) < number:\n",
    "    print('too low!')\n",
    "elif int(value) > number:\n",
    "    print('too high!')"
   ]
  },
  {
   "cell_type": "code",
   "execution_count": 39,
   "id": "a6152fdf",
   "metadata": {},
   "outputs": [
    {
     "name": "stdout",
     "output_type": "stream",
     "text": [
      "100\n",
      "guess the number: 90\n",
      "too low!\n"
     ]
    }
   ],
   "source": [
    "import random\n",
    "number = random.randint(0, 100)\n",
    "print(number)\n",
    "value = input('guess the number: ')\n",
    "if int(value) == number:\n",
    "    print('you got it!')\n",
    "elif int(value) < number:\n",
    "    print('too low!')\n",
    "elif int(value) > number:\n",
    "    print('too high!')"
   ]
  },
  {
   "cell_type": "code",
   "execution_count": 40,
   "id": "6eb694fe",
   "metadata": {},
   "outputs": [
    {
     "name": "stdout",
     "output_type": "stream",
     "text": [
      "61\n",
      "guess the number: 62\n",
      "too high!\n"
     ]
    }
   ],
   "source": [
    "import random\n",
    "number = random.randint(0, 100)\n",
    "print(number)\n",
    "value = input('guess the number: ')\n",
    "if int(value) == number:\n",
    "    print('you got it!')\n",
    "elif int(value) < number:\n",
    "    print('too low!')\n",
    "elif int(value) > number:\n",
    "    print('too high!')"
   ]
  },
  {
   "cell_type": "code",
   "execution_count": null,
   "id": "46670fa1",
   "metadata": {},
   "outputs": [],
   "source": [
    "s = input(\"enter a string: \")\n",
    "i = input(\"enter an index in the string: \")\n",
    "if s[int(i)] < 0:\n",
    "    print()"
   ]
  }
 ],
 "metadata": {
  "kernelspec": {
   "display_name": "Python 3 (ipykernel)",
   "language": "python",
   "name": "python3"
  },
  "language_info": {
   "codemirror_mode": {
    "name": "ipython",
    "version": 3
   },
   "file_extension": ".py",
   "mimetype": "text/x-python",
   "name": "python",
   "nbconvert_exporter": "python",
   "pygments_lexer": "ipython3",
   "version": "3.10.4"
  }
 },
 "nbformat": 4,
 "nbformat_minor": 5
}
