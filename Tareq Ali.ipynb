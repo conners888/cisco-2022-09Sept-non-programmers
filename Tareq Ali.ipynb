{
 "cells": [
  {
   "cell_type": "code",
   "execution_count": 1,
   "id": "fc0c7be4",
   "metadata": {},
   "outputs": [
    {
     "name": "stdout",
     "output_type": "stream",
     "text": [
      "Tareq Ali\n"
     ]
    }
   ],
   "source": [
    "print(\"Tareq Ali\")  "
   ]
  },
  {
   "cell_type": "code",
   "execution_count": 2,
   "id": "d38e71f3",
   "metadata": {},
   "outputs": [
    {
     "name": "stdout",
     "output_type": "stream",
     "text": [
      " What is your name Tareq\n",
      " Hello Tareq \n"
     ]
    }
   ],
   "source": [
    "name=input(\" What is your name \")\n",
    "print(\" Hello \" + name + \" \")"
   ]
  },
  {
   "cell_type": "code",
   "execution_count": 3,
   "id": "c8eb9877",
   "metadata": {},
   "outputs": [
    {
     "data": {
      "text/plain": [
       "str"
      ]
     },
     "execution_count": 3,
     "metadata": {},
     "output_type": "execute_result"
    }
   ],
   "source": [
    "type(name)"
   ]
  },
  {
   "cell_type": "code",
   "execution_count": 4,
   "id": "c4a17587",
   "metadata": {},
   "outputs": [
    {
     "name": "stdout",
     "output_type": "stream",
     "text": [
      "friendly_traceback 0.6.0; friendly 0.6.0.\n",
      "Type 'Friendly' for basic help.\n"
     ]
    }
   ],
   "source": [
    "from friendly.jupyter import Friendly"
   ]
  },
  {
   "cell_type": "code",
   "execution_count": 7,
   "id": "03e194ae",
   "metadata": {},
   "outputs": [
    {
     "name": "stdout",
     "output_type": "stream",
     "text": [
      " You name Sir: Bateek\n",
      " Hello who ever you are \n"
     ]
    }
   ],
   "source": [
    "name=input(\" You name Sir: \")\n",
    "if name==\"Tareq\":\n",
    "    print(\" Hi Admin\")\n",
    "    print(\" Good to see you \")\n",
    "else:\n",
    "        print(\" Hello who ever you are \")"
   ]
  },
  {
   "cell_type": "code",
   "execution_count": null,
   "id": "0f0672ba",
   "metadata": {},
   "outputs": [],
   "source": []
  }
 ],
 "metadata": {
  "kernelspec": {
   "display_name": "Python 3 (ipykernel)",
   "language": "python",
   "name": "python3"
  },
  "language_info": {
   "codemirror_mode": {
    "name": "ipython",
    "version": 3
   },
   "file_extension": ".py",
   "mimetype": "text/x-python",
   "name": "python",
   "nbconvert_exporter": "python",
   "pygments_lexer": "ipython3",
   "version": "3.10.4"
  }
 },
 "nbformat": 4,
 "nbformat_minor": 5
}
