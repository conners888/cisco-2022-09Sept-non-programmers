{
 "cells": [
  {
   "cell_type": "code",
   "execution_count": 1,
   "id": "e76ee864",
   "metadata": {},
   "outputs": [
    {
     "name": "stdout",
     "output_type": "stream",
     "text": [
      "Tareq Ali\n"
     ]
    }
   ],
   "source": [
    "print(\"Tareq Ali\")  "
   ]
  },
  {
   "cell_type": "code",
   "execution_count": 2,
   "id": "0165fc1c",
   "metadata": {},
   "outputs": [
    {
     "name": "stdout",
     "output_type": "stream",
     "text": [
      " What is your name Tareq\n",
      " Hello Tareq \n"
     ]
    }
   ],
   "source": [
    "name=input(\" What is your name \")\n",
    "print(\" Hello \" + name + \" \")"
   ]
  },
  {
   "cell_type": "code",
   "execution_count": 3,
   "id": "766204db",
   "metadata": {},
   "outputs": [
    {
     "data": {
      "text/plain": [
       "str"
      ]
     },
     "execution_count": 3,
     "metadata": {},
     "output_type": "execute_result"
    }
   ],
   "source": [
    "type(name)"
   ]
  },
  {
   "cell_type": "code",
   "execution_count": 4,
   "id": "f1604978",
   "metadata": {},
   "outputs": [
    {
     "name": "stdout",
     "output_type": "stream",
     "text": [
      "friendly_traceback 0.6.0; friendly 0.6.0.\n",
      "Type 'Friendly' for basic help.\n"
     ]
    }
   ],
   "source": [
    "from friendly.jupyter import Friendly"
   ]
  },
  {
   "cell_type": "code",
   "execution_count": 13,
   "id": "4fe4863f",
   "metadata": {},
   "outputs": [
    {
     "name": "stdout",
     "output_type": "stream",
     "text": [
      " Your name Sir ? shsh\n",
      " Hello who ever you are \n"
     ]
    }
   ],
   "source": [
    "name=input(\" Your name Sir ? \")\n",
    "if name==\"Tareq\":\n",
    "    print(\" Hi Admin\")\n",
    "    print(\" Good to see you! \")\n",
    "elif name==\"Sam\":\n",
    "    print(\" No that is not your name please try again\")\n",
    "else:\n",
    "        print(\" Hello who ever you are \")"
   ]
  },
  {
   "cell_type": "code",
   "execution_count": 9,
   "id": "3a695650",
   "metadata": {},
   "outputs": [
    {
     "data": {
      "text/html": [
       "<pre style='white-space:pre;overflow-x:auto;line-height:normal'><span style=\"color: #101010; text-decoration-color: #101010\">10</span>\n",
       "</pre>"
      ],
      "text/plain": [
       "\u001b[38;2;16;16;16m10\u001b[0m\n"
      ]
     },
     "metadata": {},
     "output_type": "display_data"
    }
   ],
   "source": [
    "x=10\n",
    "x"
   ]
  },
  {
   "cell_type": "code",
   "execution_count": 10,
   "id": "151839cb",
   "metadata": {},
   "outputs": [
    {
     "data": {
      "text/html": [
       "<pre style='white-space:pre;overflow-x:auto;line-height:normal'><span style=\"color: #266290; text-decoration-color: #266290\">False</span>\n",
       "</pre>"
      ],
      "text/plain": [
       "\u001b[38;2;38;98;144mFalse\u001b[0m\n"
      ]
     },
     "metadata": {},
     "output_type": "display_data"
    }
   ],
   "source": [
    "y=20\n",
    "x==y"
   ]
  },
  {
   "cell_type": "code",
   "execution_count": null,
   "id": "7baf68a5",
   "metadata": {},
   "outputs": [],
   "source": []
  }
 ],
 "metadata": {
  "kernelspec": {
   "display_name": "Python 3 (ipykernel)",
   "language": "python",
   "name": "python3"
  },
  "language_info": {
   "codemirror_mode": {
    "name": "ipython",
    "version": 3
   },
   "file_extension": ".py",
   "mimetype": "text/x-python",
   "name": "python",
   "nbconvert_exporter": "python",
   "pygments_lexer": "ipython3",
   "version": "3.10.4"
  }
 },
 "nbformat": 4,
 "nbformat_minor": 5
}
