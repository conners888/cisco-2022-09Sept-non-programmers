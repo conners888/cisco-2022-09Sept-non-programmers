{
 "cells": [
  {
   "cell_type": "markdown",
   "id": "944dbd40",
   "metadata": {},
   "source": [
    "# Peter - Monday, Sept 19"
   ]
  },
  {
   "cell_type": "code",
   "execution_count": null,
   "id": "20aa1656",
   "metadata": {},
   "outputs": [],
   "source": [
    "print ('Peter\n",
    "       ')"
   ]
  }
 ],
 "metadata": {
  "kernelspec": {
   "display_name": "Python 3 (ipykernel)",
   "language": "python",
   "name": "python3"
  },
  "language_info": {
   "codemirror_mode": {
    "name": "ipython",
    "version": 3
   },
   "file_extension": ".py",
   "mimetype": "text/x-python",
   "name": "python",
   "nbconvert_exporter": "python",
   "pygments_lexer": "ipython3",
   "version": "3.10.4"
  }
 },
 "nbformat": 4,
 "nbformat_minor": 5
}
