{
 "cells": [
  {
   "cell_type": "code",
   "execution_count": null,
   "id": "bb3b9e1a",
   "metadata": {},
   "outputs": [],
   "source": [
    "print(\"This is Katie!\")\n",
    "print('Katie')"
   ]
  },
  {
   "cell_type": "code",
   "execution_count": null,
   "id": "820abef6",
   "metadata": {},
   "outputs": [],
   "source": [
    "name=input('What is your name? ')\n",
    "print(\"Welcome to the training \"+name+\"!\")"
   ]
  },
  {
   "cell_type": "code",
   "execution_count": null,
   "id": "618e5259",
   "metadata": {},
   "outputs": [],
   "source": [
    "from friendly.jupyter import Friendly"
   ]
  },
  {
   "cell_type": "code",
   "execution_count": null,
   "id": "4c376ca7",
   "metadata": {},
   "outputs": [],
   "source": [
    "x=input('enter your name:')\n",
    "if x=='Katie':\n",
    "    print('Hello '+x+'! Hope you are learning something new today!')\n",
    "else:\n",
    "    print('who are you again?')"
   ]
  },
  {
   "cell_type": "code",
   "execution_count": null,
   "id": "cc044f26",
   "metadata": {
    "scrolled": true
   },
   "outputs": [],
   "source": [
    "import random\n",
    "number=random.randint(0,100)\n",
    "print(number)\n",
    "x=input('Guess the number: ')\n",
    "x=int(x)\n",
    "print(type(x))\n",
    "if x>number:\n",
    "    print('Too high!')\n",
    "elif x<number:\n",
    "    print('too low!')\n",
    "else:\n",
    "    print('you got it')"
   ]
  },
  {
   "cell_type": "code",
   "execution_count": null,
   "id": "264a8d80",
   "metadata": {},
   "outputs": [],
   "source": [
    "a=input('enter a number:')\n",
    "a=int(a)\n",
    "if a%2==1:\n",
    "    print('this is an odd number')\n",
    "elif a%2==0:\n",
    "    print('this is an even number')\n",
    "else:\n",
    "    print('i dont know what is the issue')"
   ]
  },
  {
   "cell_type": "code",
   "execution_count": 2,
   "id": "d3c6c22b",
   "metadata": {},
   "outputs": [
    {
     "name": "stdout",
     "output_type": "stream",
     "text": [
      "54\n",
      "Guess a number from 0 to 10054\n",
      "You guessed, 54.\n",
      "You got it!\n"
     ]
    }
   ],
   "source": [
    "import random\n",
    "number = random.randint(0, 100)\n",
    "print (number)\n",
    "guess = input('Guess a number from 0 to 100')\n",
    "print ('You guessed, ' + guess + '.')\n",
    "guess = int(guess)\n",
    "if guess == number:\n",
    "    print('You got it!')\n",
    "elif guess < number:\n",
    "    print('Too low.')\n",
    "else:\n",
    "    print('Too high.')"
   ]
  }
 ],
 "metadata": {
  "kernelspec": {
   "display_name": "Python 3 (ipykernel)",
   "language": "python",
   "name": "python3"
  },
  "language_info": {
   "codemirror_mode": {
    "name": "ipython",
    "version": 3
   },
   "file_extension": ".py",
   "mimetype": "text/x-python",
   "name": "python",
   "nbconvert_exporter": "python",
   "pygments_lexer": "ipython3",
   "version": "3.10.4"
  }
 },
 "nbformat": 4,
 "nbformat_minor": 5
}
