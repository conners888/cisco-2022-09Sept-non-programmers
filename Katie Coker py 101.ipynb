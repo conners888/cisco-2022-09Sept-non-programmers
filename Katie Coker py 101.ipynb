{
 "cells": [
  {
   "cell_type": "code",
   "execution_count": 3,
   "id": "baff3175",
   "metadata": {},
   "outputs": [
    {
     "name": "stdout",
     "output_type": "stream",
     "text": [
      "This is Katie!\n",
      "Katie\n"
     ]
    }
   ],
   "source": [
    "print(\"This is Katie!\")\n",
    "print('Katie')"
   ]
  },
  {
   "cell_type": "code",
   "execution_count": 4,
   "id": "df2f0b89",
   "metadata": {},
   "outputs": [
    {
     "name": "stdout",
     "output_type": "stream",
     "text": [
      "What is your name? Katie\n",
      "Welcome to the training Katie!\n"
     ]
    }
   ],
   "source": [
    "name=input('What is your name? ')\n",
    "print(\"Welcome to the training \"+name+\"!\")"
   ]
  },
  {
   "cell_type": "code",
   "execution_count": 5,
   "id": "1f65c299",
   "metadata": {},
   "outputs": [
    {
     "name": "stdout",
     "output_type": "stream",
     "text": [
      "friendly_traceback 0.6.0; friendly 0.6.0.\n",
      "Type 'Friendly' for basic help.\n"
     ]
    }
   ],
   "source": [
    "from friendly.jupyter import Friendly"
   ]
  },
  {
   "cell_type": "code",
   "execution_count": 9,
   "id": "110d05ce",
   "metadata": {},
   "outputs": [
    {
     "name": "stdout",
     "output_type": "stream",
     "text": [
      "enter your name:Katie\n",
      "Hello Katie! Hope you are learning something new today!\n"
     ]
    }
   ],
   "source": [
    "x=input('enter your name:')\n",
    "if x=='Katie':\n",
    "    print('Hello '+x+'! Hope you are learning something new today!')\n",
    "else:\n",
    "    print('who are you again?')"
   ]
  },
  {
   "cell_type": "code",
   "execution_count": 14,
   "id": "6b03a1fc",
   "metadata": {},
   "outputs": [
    {
     "name": "stdout",
     "output_type": "stream",
     "text": [
      "19\n"
     ]
    }
   ],
   "source": [
    "import random\n",
    "number=random.randint(0,100)\n",
    "print(number)\n",
    "x=input('Guess the number: ')"
   ]
  }
 ],
 "metadata": {
  "kernelspec": {
   "display_name": "Python 3 (ipykernel)",
   "language": "python",
   "name": "python3"
  },
  "language_info": {
   "codemirror_mode": {
    "name": "ipython",
    "version": 3
   },
   "file_extension": ".py",
   "mimetype": "text/x-python",
   "name": "python",
   "nbconvert_exporter": "python",
   "pygments_lexer": "ipython3",
   "version": "3.10.4"
  }
 },
 "nbformat": 4,
 "nbformat_minor": 5
}
