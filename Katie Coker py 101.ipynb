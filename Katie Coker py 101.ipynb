{
 "cells": [
  {
   "cell_type": "code",
   "execution_count": 3,
   "id": "3a2b36b4",
   "metadata": {},
   "outputs": [
    {
     "name": "stdout",
     "output_type": "stream",
     "text": [
      "This is Katie!\n",
      "Katie\n"
     ]
    }
   ],
   "source": [
    "print(\"This is Katie!\")\n",
    "print('Katie')"
   ]
  },
  {
   "cell_type": "code",
   "execution_count": 4,
   "id": "342beb02",
   "metadata": {},
   "outputs": [
    {
     "name": "stdout",
     "output_type": "stream",
     "text": [
      "What is your name? Katie\n",
      "Welcome to the training Katie!\n"
     ]
    }
   ],
   "source": [
    "name=input('What is your name? ')\n",
    "print(\"Welcome to the training \"+name+\"!\")"
   ]
  },
  {
   "cell_type": "code",
   "execution_count": 5,
   "id": "8880982e",
   "metadata": {},
   "outputs": [
    {
     "name": "stdout",
     "output_type": "stream",
     "text": [
      "friendly_traceback 0.6.0; friendly 0.6.0.\n",
      "Type 'Friendly' for basic help.\n"
     ]
    }
   ],
   "source": [
    "from friendly.jupyter import Friendly"
   ]
  },
  {
   "cell_type": "code",
   "execution_count": 9,
   "id": "86466729",
   "metadata": {},
   "outputs": [
    {
     "name": "stdout",
     "output_type": "stream",
     "text": [
      "enter your name:Katie\n",
      "Hello Katie! Hope you are learning something new today!\n"
     ]
    }
   ],
   "source": [
    "x=input('enter your name:')\n",
    "if x=='Katie':\n",
    "    print('Hello '+x+'! Hope you are learning something new today!')\n",
    "else:\n",
    "    print('who are you again?')"
   ]
  },
  {
   "cell_type": "code",
   "execution_count": 16,
   "id": "63915cf5",
   "metadata": {},
   "outputs": [
    {
     "name": "stdout",
     "output_type": "stream",
     "text": [
      "15\n",
      "Guess the number: 34\n"
     ]
    },
    {
     "data": {
      "text/html": [
       "<pre style='white-space:pre;overflow-x:auto;line-height:normal'><span style=\"font-weight: bold\">&lt;</span><span style=\"color: #0011aa; text-decoration-color: #0011aa\">class</span><span style=\"color: #000000; text-decoration-color: #000000\"> </span><span style=\"color: #8b008b; text-decoration-color: #8b008b\">'int'</span><span style=\"font-weight: bold\">&gt;</span>\n",
       "</pre>"
      ],
      "text/plain": [
       "\u001b[1m<\u001b[0m\u001b[38;2;0;17;170mclass\u001b[0m\u001b[39m \u001b[0m\u001b[38;2;139;0;139m'int'\u001b[0m\u001b[1m>\u001b[0m\n"
      ]
     },
     "metadata": {},
     "output_type": "display_data"
    }
   ],
   "source": [
    "import random\n",
    "number=random.randint(0,100)\n",
    "print(number)\n",
    "x=input('Guess the number: ')\n",
    "y=int(x)\n",
    "type(y)\n",
    "if "
   ]
  }
 ],
 "metadata": {
  "kernelspec": {
   "display_name": "Python 3 (ipykernel)",
   "language": "python",
   "name": "python3"
  },
  "language_info": {
   "codemirror_mode": {
    "name": "ipython",
    "version": 3
   },
   "file_extension": ".py",
   "mimetype": "text/x-python",
   "name": "python",
   "nbconvert_exporter": "python",
   "pygments_lexer": "ipython3",
   "version": "3.10.4"
  }
 },
 "nbformat": 4,
 "nbformat_minor": 5
}
