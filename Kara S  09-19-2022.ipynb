{
 "cells": [
  {
   "cell_type": "code",
   "execution_count": 1,
   "id": "595cf97a",
   "metadata": {},
   "outputs": [
    {
     "ename": "SyntaxError",
     "evalue": "Missing parentheses in call to 'print'. Did you mean print(...)? (1656198575.py, line 1)",
     "output_type": "error",
     "traceback": [
      "\u001b[0;36m  Cell \u001b[0;32mIn [1], line 1\u001b[0;36m\u001b[0m\n\u001b[0;31m    print \"Kara\"\u001b[0m\n\u001b[0m    ^\u001b[0m\n\u001b[0;31mSyntaxError\u001b[0m\u001b[0;31m:\u001b[0m Missing parentheses in call to 'print'. Did you mean print(...)?\n"
     ]
    }
   ],
   "source": [
    "print \"Kara\""
   ]
  },
  {
   "cell_type": "code",
   "execution_count": 2,
   "id": "45164600",
   "metadata": {},
   "outputs": [
    {
     "data": {
      "text/plain": [
       "'printKara'"
      ]
     },
     "execution_count": 2,
     "metadata": {},
     "output_type": "execute_result"
    }
   ],
   "source": [
    "'print' \"Kara\""
   ]
  },
  {
   "cell_type": "code",
   "execution_count": 3,
   "id": "35b61abe",
   "metadata": {},
   "outputs": [
    {
     "name": "stdout",
     "output_type": "stream",
     "text": [
      "Kara\n"
     ]
    }
   ],
   "source": [
    "print('Kara')"
   ]
  },
  {
   "cell_type": "code",
   "execution_count": 4,
   "id": "cfde48ca",
   "metadata": {},
   "outputs": [
    {
     "ename": "NameError",
     "evalue": "name 'name' is not defined",
     "output_type": "error",
     "traceback": [
      "\u001b[0;31m---------------------------------------------------------------------------\u001b[0m",
      "\u001b[0;31mNameError\u001b[0m                                 Traceback (most recent call last)",
      "Cell \u001b[0;32mIn [4], line 1\u001b[0m\n\u001b[0;32m----> 1\u001b[0m \u001b[38;5;28mprint\u001b[39m(\u001b[38;5;124m'\u001b[39m\u001b[38;5;124mPlease enter your name.\u001b[39m\u001b[38;5;124m'\u001b[39m \u001b[38;5;241m+\u001b[39m \u001b[43mname\u001b[49m \u001b[38;5;241m+\u001b[39m \u001b[38;5;124m'\u001b[39m\u001b[38;5;124m!\u001b[39m\u001b[38;5;124m'\u001b[39m)\n",
      "\u001b[0;31mNameError\u001b[0m: name 'name' is not defined"
     ]
    }
   ],
   "source": [
    "print('Please enter your name.' + name + '!')\n"
   ]
  },
  {
   "cell_type": "code",
   "execution_count": 5,
   "id": "27c02370",
   "metadata": {},
   "outputs": [
    {
     "name": "stdout",
     "output_type": "stream",
     "text": [
      "Enter your name: Kara\n",
      "Hello, Kara!\n"
     ]
    }
   ],
   "source": [
    "name = input ('Enter your name: ')\n",
    "\n",
    "print('Hello, '+ name + '!')"
   ]
  },
  {
   "cell_type": "code",
   "execution_count": null,
   "id": "d0dfa39d",
   "metadata": {},
   "outputs": [],
   "source": [
    "from friendly.jupyter import Friendly"
   ]
  },
  {
   "cell_type": "code",
   "execution_count": null,
   "id": "13bd28da",
   "metadata": {},
   "outputs": [],
   "source": [
    "#Friendly documentation\n",
    "https://friendly-traceback.github.io/docs/index.html"
   ]
  },
  {
   "cell_type": "code",
   "execution_count": 8,
   "id": "bb452ba8",
   "metadata": {},
   "outputs": [
    {
     "name": "stdout",
     "output_type": "stream",
     "text": [
      "hello\n"
     ]
    }
   ],
   "source": [
    "print('hello')"
   ]
  },
  {
   "cell_type": "markdown",
   "id": "11738a2f",
   "metadata": {},
   "source": []
  },
  {
   "cell_type": "code",
   "execution_count": 13,
   "id": "51d227d1",
   "metadata": {},
   "outputs": [
    {
     "name": "stdout",
     "output_type": "stream",
     "text": [
      "Guess a number between 0-100\n"
     ]
    }
   ],
   "source": [
    "print('Guess a number between 0-100')"
   ]
  },
  {
   "cell_type": "code",
   "execution_count": 14,
   "id": "9e780d2b",
   "metadata": {},
   "outputs": [
    {
     "name": "stdout",
     "output_type": "stream",
     "text": [
      "Number?7\n"
     ]
    },
    {
     "data": {
      "text/html": [
       "<pre style='white-space:pre;overflow-x:auto;line-height:normal'><span style=\"color: #8b008b; text-decoration-color: #8b008b\">'7'</span>\n",
       "</pre>"
      ],
      "text/plain": [
       "\u001b[38;2;139;0;139m'7'\u001b[0m\n"
      ]
     },
     "metadata": {},
     "output_type": "display_data"
    }
   ],
   "source": [
    "input(\"Number?\")"
   ]
  },
  {
   "cell_type": "code",
   "execution_count": 11,
   "id": "413ea2ae",
   "metadata": {},
   "outputs": [],
   "source": [
    "import random"
   ]
  },
  {
   "cell_type": "code",
   "execution_count": 12,
   "id": "32cc1cec",
   "metadata": {},
   "outputs": [],
   "source": [
    "number = random.randint(0,100)"
   ]
  },
  {
   "cell_type": "code",
   "execution_count": 15,
   "id": "57a97262",
   "metadata": {},
   "outputs": [
    {
     "data": {
      "text/html": [
       "<pre style='white-space:pre;overflow-x:auto;line-height:normal'><span style=\"color: #8b008b; text-decoration-color: #8b008b\">'import random'</span>\n",
       "</pre>"
      ],
      "text/plain": [
       "\u001b[38;2;139;0;139m'import random'\u001b[0m\n"
      ]
     },
     "metadata": {},
     "output_type": "display_data"
    }
   ],
   "source": [
    "'''import random'''"
   ]
  },
  {
   "cell_type": "code",
   "execution_count": 16,
   "id": "bf856006",
   "metadata": {},
   "outputs": [
    {
     "data": {
      "text/html": [
       "<pre style='white-space:pre;overflow-x:auto;line-height:normal'><span style=\"color: #8b008b; text-decoration-color: #8b008b\">'python\\nimport random   # load this library of functionality\\nnumber = random.randint</span><span style=\"color: #8b008b; text-decoration-color: #8b008b; font-weight: bold\">(</span><span style=\"color: #8b008b; text-decoration-color: #8b008b\">0,100</span><span style=\"color: #8b008b; text-decoration-color: #8b008b; font-weight: bold\">)</span><span style=\"color: #8b008b; text-decoration-color: #8b008b\"> #run the randint function in the random module'</span>\n",
       "</pre>"
      ],
      "text/plain": [
       "\u001b[38;2;139;0;139m'python\\nimport random   # load this library of functionality\\nnumber = random.randint\u001b[0m\u001b[1;38;2;139;0;139m(\u001b[0m\u001b[38;2;139;0;139m0,100\u001b[0m\u001b[1;38;2;139;0;139m)\u001b[0m\u001b[38;2;139;0;139m #run the randint function in the random module'\u001b[0m\n"
      ]
     },
     "metadata": {},
     "output_type": "display_data"
    }
   ],
   "source": [
    "'''python\n",
    "import random   # load this library of functionality\n",
    "number = random.randint(0,100) #run the randint function in the random module'''"
   ]
  },
  {
   "cell_type": "code",
   "execution_count": null,
   "id": "00947354",
   "metadata": {},
   "outputs": [
    {
     "name": "stdout",
     "output_type": "stream",
     "text": [
      "93\n"
     ]
    }
   ],
   "source": [
    "import random\n",
    "number = random.randint(0,100)\n",
    "\n",
    "print(number)\n",
    "\n",
    "guess = input('Guess: ')\n",
    "\n",
    "if guess == number:\n",
    "    print('You got it!')\n",
    "elif guess < number:\n",
    "    print('Too low!')\n",
    "else:\n",
    "    print('Too high!')"
   ]
  },
  {
   "cell_type": "code",
   "execution_count": null,
   "id": "6a092332",
   "metadata": {},
   "outputs": [],
   "source": []
  }
 ],
 "metadata": {
  "kernelspec": {
   "display_name": "Python 3 (ipykernel)",
   "language": "python",
   "name": "python3"
  },
  "language_info": {
   "codemirror_mode": {
    "name": "ipython",
    "version": 3
   },
   "file_extension": ".py",
   "mimetype": "text/x-python",
   "name": "python",
   "nbconvert_exporter": "python",
   "pygments_lexer": "ipython3",
   "version": "3.10.4"
  }
 },
 "nbformat": 4,
 "nbformat_minor": 5
}
