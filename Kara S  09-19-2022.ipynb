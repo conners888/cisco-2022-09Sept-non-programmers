{
 "cells": [
  {
   "cell_type": "code",
   "execution_count": 1,
   "id": "62665ab1",
   "metadata": {},
   "outputs": [
    {
     "ename": "SyntaxError",
     "evalue": "Missing parentheses in call to 'print'. Did you mean print(...)? (1656198575.py, line 1)",
     "output_type": "error",
     "traceback": [
      "\u001b[0;36m  Cell \u001b[0;32mIn [1], line 1\u001b[0;36m\u001b[0m\n\u001b[0;31m    print \"Kara\"\u001b[0m\n\u001b[0m    ^\u001b[0m\n\u001b[0;31mSyntaxError\u001b[0m\u001b[0;31m:\u001b[0m Missing parentheses in call to 'print'. Did you mean print(...)?\n"
     ]
    }
   ],
   "source": [
    "print \"Kara\""
   ]
  },
  {
   "cell_type": "code",
   "execution_count": 2,
   "id": "971ff999",
   "metadata": {},
   "outputs": [
    {
     "data": {
      "text/plain": [
       "'printKara'"
      ]
     },
     "execution_count": 2,
     "metadata": {},
     "output_type": "execute_result"
    }
   ],
   "source": [
    "'print' \"Kara\""
   ]
  },
  {
   "cell_type": "code",
   "execution_count": 3,
   "id": "aa9651a0",
   "metadata": {},
   "outputs": [
    {
     "name": "stdout",
     "output_type": "stream",
     "text": [
      "Kara\n"
     ]
    }
   ],
   "source": [
    "print('Kara')"
   ]
  },
  {
   "cell_type": "code",
   "execution_count": 4,
   "id": "36887c2a",
   "metadata": {},
   "outputs": [
    {
     "ename": "NameError",
     "evalue": "name 'name' is not defined",
     "output_type": "error",
     "traceback": [
      "\u001b[0;31m---------------------------------------------------------------------------\u001b[0m",
      "\u001b[0;31mNameError\u001b[0m                                 Traceback (most recent call last)",
      "Cell \u001b[0;32mIn [4], line 1\u001b[0m\n\u001b[0;32m----> 1\u001b[0m \u001b[38;5;28mprint\u001b[39m(\u001b[38;5;124m'\u001b[39m\u001b[38;5;124mPlease enter your name.\u001b[39m\u001b[38;5;124m'\u001b[39m \u001b[38;5;241m+\u001b[39m \u001b[43mname\u001b[49m \u001b[38;5;241m+\u001b[39m \u001b[38;5;124m'\u001b[39m\u001b[38;5;124m!\u001b[39m\u001b[38;5;124m'\u001b[39m)\n",
      "\u001b[0;31mNameError\u001b[0m: name 'name' is not defined"
     ]
    }
   ],
   "source": [
    "print('Please enter your name.' + name + '!')\n"
   ]
  },
  {
   "cell_type": "code",
   "execution_count": 5,
   "id": "c85aa3f0",
   "metadata": {},
   "outputs": [
    {
     "name": "stdout",
     "output_type": "stream",
     "text": [
      "Enter your name: Kara\n",
      "Hello, Kara!\n"
     ]
    }
   ],
   "source": [
    "name = input ('Enter your name: ')\n",
    "\n",
    "print('Hello, '+ name + '!')"
   ]
  },
  {
   "cell_type": "code",
   "execution_count": null,
   "id": "cc3f5dc9",
   "metadata": {},
   "outputs": [],
   "source": [
    "from friendly.jupyter import Friendly"
   ]
  },
  {
   "cell_type": "code",
   "execution_count": null,
   "id": "9afe922c",
   "metadata": {},
   "outputs": [],
   "source": [
    "#Friendly documentation\n",
    "https://friendly-traceback.github.io/docs/index.html"
   ]
  },
  {
   "cell_type": "code",
   "execution_count": 8,
   "id": "69926931",
   "metadata": {},
   "outputs": [
    {
     "name": "stdout",
     "output_type": "stream",
     "text": [
      "hello\n"
     ]
    }
   ],
   "source": [
    "print('hello')"
   ]
  },
  {
   "cell_type": "markdown",
   "id": "4e831e7d",
   "metadata": {},
   "source": []
  },
  {
   "cell_type": "code",
   "execution_count": 13,
   "id": "766cb958",
   "metadata": {},
   "outputs": [
    {
     "name": "stdout",
     "output_type": "stream",
     "text": [
      "Guess a number between 0-100\n"
     ]
    }
   ],
   "source": [
    "print('Guess a number between 0-100')"
   ]
  },
  {
   "cell_type": "code",
   "execution_count": 14,
   "id": "3b523c10",
   "metadata": {},
   "outputs": [
    {
     "name": "stdout",
     "output_type": "stream",
     "text": [
      "Number?7\n"
     ]
    },
    {
     "data": {
      "text/html": [
       "<pre style='white-space:pre;overflow-x:auto;line-height:normal'><span style=\"color: #8b008b; text-decoration-color: #8b008b\">'7'</span>\n",
       "</pre>"
      ],
      "text/plain": [
       "\u001b[38;2;139;0;139m'7'\u001b[0m\n"
      ]
     },
     "metadata": {},
     "output_type": "display_data"
    }
   ],
   "source": [
    "input(\"Number?\")"
   ]
  },
  {
   "cell_type": "code",
   "execution_count": 11,
   "id": "02c264b4",
   "metadata": {},
   "outputs": [],
   "source": [
    "import random"
   ]
  },
  {
   "cell_type": "code",
   "execution_count": 12,
   "id": "b0a57054",
   "metadata": {},
   "outputs": [],
   "source": [
    "number = random.randint(0,100)"
   ]
  },
  {
   "cell_type": "code",
   "execution_count": 15,
   "id": "a9886b5d",
   "metadata": {},
   "outputs": [
    {
     "data": {
      "text/html": [
       "<pre style='white-space:pre;overflow-x:auto;line-height:normal'><span style=\"color: #8b008b; text-decoration-color: #8b008b\">'import random'</span>\n",
       "</pre>"
      ],
      "text/plain": [
       "\u001b[38;2;139;0;139m'import random'\u001b[0m\n"
      ]
     },
     "metadata": {},
     "output_type": "display_data"
    }
   ],
   "source": [
    "'''import random'''"
   ]
  },
  {
   "cell_type": "code",
   "execution_count": null,
   "id": "1ca61996",
   "metadata": {},
   "outputs": [],
   "source": [
    "'''python\n",
    "import random   # load this library of functionality\n",
    "number = random.randint(0,1)'''"
   ]
  }
 ],
 "metadata": {
  "kernelspec": {
   "display_name": "Python 3 (ipykernel)",
   "language": "python",
   "name": "python3"
  },
  "language_info": {
   "codemirror_mode": {
    "name": "ipython",
    "version": 3
   },
   "file_extension": ".py",
   "mimetype": "text/x-python",
   "name": "python",
   "nbconvert_exporter": "python",
   "pygments_lexer": "ipython3",
   "version": "3.10.4"
  }
 },
 "nbformat": 4,
 "nbformat_minor": 5
}
