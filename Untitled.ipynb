{
 "cells": [
  {
   "cell_type": "code",
   "execution_count": null,
   "id": "8d232177",
   "metadata": {},
   "outputs": [],
   "source": [
    "Robert McLean 09/16/22\n",
    "\n"
   ]
  },
  {
   "cell_type": "code",
   "execution_count": 2,
   "id": "9e8e1e9f",
   "metadata": {},
   "outputs": [
    {
     "name": "stdout",
     "output_type": "stream",
     "text": [
      "Robert\n"
     ]
    }
   ],
   "source": [
    "print(\"Robert\")"
   ]
  },
  {
   "cell_type": "code",
   "execution_count": 13,
   "id": "61ff76b9",
   "metadata": {},
   "outputs": [
    {
     "name": "stdout",
     "output_type": "stream",
     "text": [
      "What is your name?: Robert\n",
      "Hello,Robert Good Morning\n"
     ]
    }
   ],
   "source": [
    "name = input('What is your name?: ')\n",
    "print ('Hello,' + name + ' Good Morning')\n"
   ]
  },
  {
   "cell_type": "code",
   "execution_count": 14,
   "id": "8f41abb9",
   "metadata": {},
   "outputs": [
    {
     "name": "stdout",
     "output_type": "stream",
     "text": [
      "friendly_traceback 0.6.0; friendly 0.6.0.\n",
      "Type 'Friendly' for basic help.\n",
      "An exception occurred before friendly-traceback was imported.\n",
      "Some information is available.\n"
     ]
    },
    {
     "data": {
      "text/html": [
       "<div id='friendly-message1'><pre style='white-space:pre;overflow-x:auto;line-height:normal'><span style=\"color: #dd0000; text-decoration-color: #dd0000; background-color: #ffffff\">SyntaxError</span>: unterminated string literal (detected at line 2)         \n",
       "</pre></div>"
      ],
      "text/plain": [
       "\u001b[38;2;221;0;0;48;2;255;255;255mSyntaxError\u001b[0m: unterminated string literal (detected at line 2)         \n"
      ]
     },
     "metadata": {},
     "output_type": "display_data"
    },
    {
     "data": {
      "text/html": [
       "\n",
       "        <button\n",
       "            id='friendly-tb-btn-show1'\n",
       "            onclick='friendly_toggle_more1()'\n",
       "            style=''>\n",
       "        More ...\n",
       "        </button>\n",
       "        <script type=\"text/Javascript\"> function friendly_toggle_more1(){\n",
       "        var btn = document.getElementById('friendly-tb-btn-show1');\n",
       "        var btn_what = document.getElementById('friendly-tb-btn-show-what1');\n",
       "        var btn_where = document.getElementById('friendly-tb-btn-show-where1');\n",
       "        var btn_why = document.getElementById('friendly-tb-btn-show-why1');\n",
       "        ;\n",
       "        var message = document.getElementById('friendly-message1');\n",
       "        var friendly_tb_content = document.getElementById('friendly-tb-friendly_tb-content1');\n",
       "        var what_content = document.getElementById('friendly-tb-what-content1');\n",
       "        var why_content = document.getElementById('friendly-tb-why-content1');\n",
       "        var where_content = document.getElementById('friendly-tb-where-content1');\n",
       "        ;\n",
       "\n",
       "        if (btn_what.style.display == 'none'){\n",
       "            message.style.display = 'none';\n",
       "            btn_what.style.display = 'block';\n",
       "            btn_why.style.display = 'block';\n",
       "            btn_where.style.display = 'block';\n",
       "            friendly_tb_content.style.display = 'block';\n",
       "            ;\n",
       "            btn.textContent = \"Show message only\";\n",
       "            ;\n",
       "        } else {\n",
       "            btn_what.style.display = 'none';\n",
       "            btn_what.textContent = 'what()';\n",
       "            btn_why.style.display = 'none';\n",
       "            btn_why.textContent = 'why()';\n",
       "            btn_where.style.display = 'none';\n",
       "            btn_where.textContent = 'where()';\n",
       "            what_content.style.display = 'none';\n",
       "            why_content.style.display = 'none';\n",
       "            where_content.style.display = 'none';\n",
       "            ;\n",
       "            friendly_tb_content.style.display = 'none';\n",
       "            message.style.display = 'block';\n",
       "            btn.textContent = \"More ...\";\n",
       "            ;\n",
       "        }\n",
       "        };\n",
       "        </script>\n",
       "        "
      ]
     },
     "metadata": {},
     "output_type": "display_data"
    },
    {
     "data": {
      "text/html": [
       "<div id='friendly-tb-friendly_tb-content1' style='display:none'><pre style='white-space:pre;overflow-x:auto;line-height:normal'><span style=\"color: #dd0000; text-decoration-color: #dd0000; background-color: #ffffff\">Traceback (most recent call last):</span><span style=\"background-color: #ffffff\">                                                                  </span>\n",
       "<span style=\"color: #101010; text-decoration-color: #101010; background-color: #ffffff\">  File </span><span style=\"color: #005500; text-decoration-color: #005500; background-color: #ffffff\">\"[11]?\"</span><span style=\"color: #101010; text-decoration-color: #101010; background-color: #ffffff\">, line 2</span><span style=\"background-color: #ffffff\">                                                                              </span>\n",
       "<span style=\"color: #101010; text-decoration-color: #101010; background-color: #ffffff\">    </span><span style=\"color: #005500; text-decoration-color: #005500; background-color: #ffffff\">print</span><span style=\"color: #101010; text-decoration-color: #101010; background-color: #ffffff\"> </span><span style=\"color: #783114; text-decoration-color: #783114; background-color: #ffffff\">(</span><span style=\"color: #8b008b; text-decoration-color: #8b008b; background-color: #ffffff\">'Hello,'</span><span style=\"color: #101010; text-decoration-color: #101010; background-color: #ffffff\"> </span><span style=\"color: #783114; text-decoration-color: #783114; background-color: #ffffff\">+</span><span style=\"color: #101010; text-decoration-color: #101010; background-color: #ffffff\"> </span><span style=\"color: #0011aa; text-decoration-color: #0011aa; background-color: #ffffff\">name</span><span style=\"color: #101010; text-decoration-color: #101010; background-color: #ffffff\"> </span><span style=\"color: #783114; text-decoration-color: #783114; background-color: #ffffff\">+</span><span style=\"color: #101010; text-decoration-color: #101010; background-color: #ffffff\"> </span><span style=\"color: #8b008b; text-decoration-color: #8b008b; background-color: #ffffff\">'Good morning!'')</span><span style=\"background-color: #ffffff\">                                                      </span>\n",
       "<span style=\"color: #101010; text-decoration-color: #101010; background-color: #ffffff\">                                            </span><span style=\"color: #783114; text-decoration-color: #783114; background-color: #ffffff\">^</span><span style=\"background-color: #ffffff\">                                                       </span>\n",
       "<span style=\"color: #dd0000; text-decoration-color: #dd0000; background-color: #ffffff\">SyntaxError</span><span style=\"color: #101010; text-decoration-color: #101010; background-color: #ffffff\">: </span><span style=\"color: #0011aa; text-decoration-color: #0011aa; background-color: #ffffff\">unterminated string literal (detected at line 2)</span><span style=\"background-color: #ffffff\">                                       </span>\n",
       "\n",
       "Perhaps you forgot to escape a quote character.                                                     \n",
       "</pre></div>"
      ],
      "text/plain": [
       "\u001b[38;2;221;0;0;48;2;255;255;255mTraceback (most recent call last):\u001b[0m\u001b[48;2;255;255;255m                                                                  \u001b[0m\n",
       "\u001b[38;2;16;16;16;48;2;255;255;255m  File \u001b[0m\u001b[38;2;0;85;0;48;2;255;255;255m\"[11]?\"\u001b[0m\u001b[38;2;16;16;16;48;2;255;255;255m, line \u001b[0m\u001b[38;2;16;16;16;48;2;255;255;255m2\u001b[0m\u001b[48;2;255;255;255m                                                                              \u001b[0m\n",
       "\u001b[38;2;16;16;16;48;2;255;255;255m    \u001b[0m\u001b[38;2;0;85;0;48;2;255;255;255mprint\u001b[0m\u001b[38;2;16;16;16;48;2;255;255;255m \u001b[0m\u001b[38;2;120;49;20;48;2;255;255;255m(\u001b[0m\u001b[38;2;139;0;139;48;2;255;255;255m'\u001b[0m\u001b[38;2;139;0;139;48;2;255;255;255mHello,\u001b[0m\u001b[38;2;139;0;139;48;2;255;255;255m'\u001b[0m\u001b[38;2;16;16;16;48;2;255;255;255m \u001b[0m\u001b[38;2;120;49;20;48;2;255;255;255m+\u001b[0m\u001b[38;2;16;16;16;48;2;255;255;255m \u001b[0m\u001b[38;2;0;17;170;48;2;255;255;255mname\u001b[0m\u001b[38;2;16;16;16;48;2;255;255;255m \u001b[0m\u001b[38;2;120;49;20;48;2;255;255;255m+\u001b[0m\u001b[38;2;16;16;16;48;2;255;255;255m \u001b[0m\u001b[38;2;139;0;139;48;2;255;255;255m'\u001b[0m\u001b[38;2;139;0;139;48;2;255;255;255mGood morning!\u001b[0m\u001b[38;2;139;0;139;48;2;255;255;255m'\u001b[0m\u001b[38;2;139;0;139;48;2;255;255;255m'\u001b[0m\u001b[38;2;139;0;139;48;2;255;255;255m)\u001b[0m\u001b[48;2;255;255;255m                                                      \u001b[0m\n",
       "\u001b[38;2;16;16;16;48;2;255;255;255m                                            \u001b[0m\u001b[38;2;120;49;20;48;2;255;255;255m^\u001b[0m\u001b[48;2;255;255;255m                                                       \u001b[0m\n",
       "\u001b[38;2;221;0;0;48;2;255;255;255mSyntaxError\u001b[0m\u001b[38;2;16;16;16;48;2;255;255;255m: \u001b[0m\u001b[38;2;0;17;170;48;2;255;255;255munterminated string literal (detected at line 2)\u001b[0m\u001b[48;2;255;255;255m                                       \u001b[0m\n",
       "\n",
       "Perhaps you forgot to escape a quote character.                                                     \n"
      ]
     },
     "metadata": {},
     "output_type": "display_data"
    },
    {
     "data": {
      "text/html": [
       "<script type=\"text/Javascript\"> function toggle_what1(){\n",
       "     var content = document.getElementById('friendly-tb-what-content1');\n",
       "     var btn = document.getElementById('friendly-tb-btn-show-what1');\n",
       "        if (content.style.display === 'none') {\n",
       "            content.style.display = 'block';\n",
       "            btn.textContent = \"Hide what()\";\n",
       "        } else {\n",
       "            content.style.display = 'none';\n",
       "            btn.textContent = \"what()\";\n",
       "       }\n",
       "    }\n",
       "     </script>\n",
       "     <button\n",
       "         id='friendly-tb-btn-show-what1'\n",
       "         onclick='toggle_what1()'\n",
       "         style='display:none '>\n",
       "     what()\n",
       "     </button>\n",
       "    "
      ]
     },
     "metadata": {},
     "output_type": "display_data"
    },
    {
     "data": {
      "text/html": [
       "<div id='friendly-tb-what-content1' style='display:none'><pre style='white-space:pre;overflow-x:auto;line-height:normal'>A <span style=\"color: #dd0000; text-decoration-color: #dd0000; background-color: #ffffff\">SyntaxError</span> occurs when Python cannot understand your code.         \n",
       "</pre></div>"
      ],
      "text/plain": [
       "A \u001b[38;2;221;0;0;48;2;255;255;255mSyntaxError\u001b[0m occurs when Python cannot understand your code.         \n"
      ]
     },
     "metadata": {},
     "output_type": "display_data"
    },
    {
     "data": {
      "text/html": [
       "<script type=\"text/Javascript\"> function toggle_why1(){\n",
       "     var content = document.getElementById('friendly-tb-why-content1');\n",
       "     var btn = document.getElementById('friendly-tb-btn-show-why1');\n",
       "        if (content.style.display === 'none') {\n",
       "            content.style.display = 'block';\n",
       "            btn.textContent = \"Hide why()\";\n",
       "        } else {\n",
       "            content.style.display = 'none';\n",
       "            btn.textContent = \"why()\";\n",
       "       }\n",
       "    }\n",
       "     </script>\n",
       "     <button\n",
       "         id='friendly-tb-btn-show-why1'\n",
       "         onclick='toggle_why1()'\n",
       "         style='display:none '>\n",
       "     why()\n",
       "     </button>\n",
       "    "
      ]
     },
     "metadata": {},
     "output_type": "display_data"
    },
    {
     "data": {
      "text/html": [
       "<div id='friendly-tb-why-content1' style='display:none'><pre style='white-space:pre;overflow-x:auto;line-height:normal'>I suspect that you were trying to use a quote character inside a      \n",
       "string that was enclosed in quotes of the same kind. Perhaps you      \n",
       "should have escaped the inner quote character:                        \n",
       "\n",
       "<span style=\"color: #005500; text-decoration-color: #005500; background-color: #ffffff\">print</span><span style=\"color: #783114; text-decoration-color: #783114; background-color: #ffffff\"> (</span><span style=\"color: #8b008b; text-decoration-color: #8b008b; background-color: #ffffff\">'Hello,'</span><span style=\"color: #783114; text-decoration-color: #783114; background-color: #ffffff\"> +</span><span style=\"color: #0011aa; text-decoration-color: #0011aa; background-color: #ffffff\"> name</span><span style=\"color: #783114; text-decoration-color: #783114; background-color: #ffffff\"> +</span><span style=\"color: #808080; text-decoration-color: #808080; background-color: #ffffff\"> </span><span style=\"color: #8b008b; text-decoration-color: #8b008b; background-color: #ffffff\">'Good morning!</span><span style=\"color: #ffffff; text-decoration-color: #ffffff; background-color: #cc0000\">\\'</span><span style=\"color: #8b008b; text-decoration-color: #8b008b; background-color: #ffffff\">'</span><span style=\"color: #783114; text-decoration-color: #783114; background-color: #ffffff\">)</span>\n",
       "</pre></div>"
      ],
      "text/plain": [
       "I suspect that you were trying to use a quote character inside a      \n",
       "string that was enclosed in quotes of the same kind. Perhaps you      \n",
       "should have escaped the inner quote character:                        \n",
       "\n",
       "\u001b[38;2;0;85;0;48;2;255;255;255mprint\u001b[0m\u001b[38;2;120;49;20;48;2;255;255;255m (\u001b[0m\u001b[38;2;139;0;139;48;2;255;255;255m'Hello,'\u001b[0m\u001b[38;2;120;49;20;48;2;255;255;255m +\u001b[0m\u001b[38;2;0;17;170;48;2;255;255;255m name\u001b[0m\u001b[38;2;120;49;20;48;2;255;255;255m +\u001b[0m\u001b[38;2;128;128;128;48;2;255;255;255m \u001b[0m\u001b[38;2;139;0;139;48;2;255;255;255m'Good morning!\u001b[0m\u001b[38;2;255;255;255;48;2;204;0;0m\\'\u001b[0m\u001b[38;2;139;0;139;48;2;255;255;255m'\u001b[0m\u001b[38;2;120;49;20;48;2;255;255;255m)\u001b[0m\n"
      ]
     },
     "metadata": {},
     "output_type": "display_data"
    },
    {
     "data": {
      "text/html": [
       "<script type=\"text/Javascript\"> function toggle_where1(){\n",
       "     var content = document.getElementById('friendly-tb-where-content1');\n",
       "     var btn = document.getElementById('friendly-tb-btn-show-where1');\n",
       "        if (content.style.display === 'none') {\n",
       "            content.style.display = 'block';\n",
       "            btn.textContent = \"Hide where()\";\n",
       "        } else {\n",
       "            content.style.display = 'none';\n",
       "            btn.textContent = \"where()\";\n",
       "       }\n",
       "    }\n",
       "     </script>\n",
       "     <button\n",
       "         id='friendly-tb-btn-show-where1'\n",
       "         onclick='toggle_where1()'\n",
       "         style='display:none '>\n",
       "     where()\n",
       "     </button>\n",
       "    "
      ]
     },
     "metadata": {},
     "output_type": "display_data"
    },
    {
     "data": {
      "text/html": [
       "<div id='friendly-tb-where-content1' style='display:none'><pre style='white-space:pre;overflow-x:auto;line-height:normal'>Python could not understand the code in the code block <span style=\"color: #783114; text-decoration-color: #783114; background-color: #ffffff\">[</span><span style=\"color: #101010; text-decoration-color: #101010; background-color: #ffffff\">11</span><span style=\"color: #783114; text-decoration-color: #783114; background-color: #ffffff\">]</span>? at the location indicated.             \n",
       "\n",
       "<span style=\"color: #808080; text-decoration-color: #808080; background-color: #ffffff\">       2|</span><span style=\"color: #005500; text-decoration-color: #005500; background-color: #ffffff\"> print</span><span style=\"color: #783114; text-decoration-color: #783114; background-color: #ffffff\"> (</span><span style=\"color: #8b008b; text-decoration-color: #8b008b; background-color: #ffffff\">'Hello,'</span><span style=\"color: #783114; text-decoration-color: #783114; background-color: #ffffff\"> +</span><span style=\"color: #0011aa; text-decoration-color: #0011aa; background-color: #ffffff\"> name</span><span style=\"color: #783114; text-decoration-color: #783114; background-color: #ffffff\"> +</span><span style=\"color: #8b008b; text-decoration-color: #8b008b; background-color: #ffffff\"> 'Good morning!'</span><span style=\"color: #ffffff; text-decoration-color: #ffffff; background-color: #cc0000\">'</span><span style=\"color: #783114; text-decoration-color: #783114; background-color: #ffffff\">)</span>\n",
       "</pre></div>"
      ],
      "text/plain": [
       "Python could not understand the code in the code block \u001b[38;2;120;49;20;48;2;255;255;255m[\u001b[0m\u001b[38;2;16;16;16;48;2;255;255;255m11\u001b[0m\u001b[38;2;120;49;20;48;2;255;255;255m]\u001b[0m? at the location indicated.             \n",
       "\n",
       "\u001b[38;2;128;128;128;48;2;255;255;255m       2|\u001b[0m\u001b[38;2;0;85;0;48;2;255;255;255m print\u001b[0m\u001b[38;2;120;49;20;48;2;255;255;255m (\u001b[0m\u001b[38;2;139;0;139;48;2;255;255;255m'Hello,'\u001b[0m\u001b[38;2;120;49;20;48;2;255;255;255m +\u001b[0m\u001b[38;2;0;17;170;48;2;255;255;255m name\u001b[0m\u001b[38;2;120;49;20;48;2;255;255;255m +\u001b[0m\u001b[38;2;139;0;139;48;2;255;255;255m 'Good morning!'\u001b[0m\u001b[38;2;255;255;255;48;2;204;0;0m'\u001b[0m\u001b[38;2;120;49;20;48;2;255;255;255m)\u001b[0m\n"
      ]
     },
     "metadata": {},
     "output_type": "display_data"
    }
   ],
   "source": [
    "from friendly.jupyter import Friendly"
   ]
  },
  {
   "cell_type": "code",
   "execution_count": 16,
   "id": "e5ee9a51",
   "metadata": {},
   "outputs": [
    {
     "data": {
      "text/html": [
       "<div id='friendly-message2'><pre style='white-space:pre;overflow-x:auto;line-height:normal'><span style=\"color: #dd0000; text-decoration-color: #dd0000; background-color: #ffffff\">SyntaxError</span>: unterminated string literal (detected at line 2)         \n",
       "</pre></div>"
      ],
      "text/plain": [
       "\u001b[38;2;221;0;0;48;2;255;255;255mSyntaxError\u001b[0m: unterminated string literal (detected at line 2)         \n"
      ]
     },
     "metadata": {},
     "output_type": "display_data"
    },
    {
     "data": {
      "text/html": [
       "\n",
       "        <button\n",
       "            id='friendly-tb-btn-show2'\n",
       "            onclick='friendly_toggle_more2()'\n",
       "            style=''>\n",
       "        More ...\n",
       "        </button>\n",
       "        <script type=\"text/Javascript\"> function friendly_toggle_more2(){\n",
       "        var btn = document.getElementById('friendly-tb-btn-show2');\n",
       "        var btn_what = document.getElementById('friendly-tb-btn-show-what2');\n",
       "        var btn_where = document.getElementById('friendly-tb-btn-show-where2');\n",
       "        var btn_why = document.getElementById('friendly-tb-btn-show-why2');\n",
       "        ;\n",
       "        var message = document.getElementById('friendly-message2');\n",
       "        var friendly_tb_content = document.getElementById('friendly-tb-friendly_tb-content2');\n",
       "        var what_content = document.getElementById('friendly-tb-what-content2');\n",
       "        var why_content = document.getElementById('friendly-tb-why-content2');\n",
       "        var where_content = document.getElementById('friendly-tb-where-content2');\n",
       "        ;\n",
       "\n",
       "        if (btn_what.style.display == 'none'){\n",
       "            message.style.display = 'none';\n",
       "            btn_what.style.display = 'block';\n",
       "            btn_why.style.display = 'block';\n",
       "            btn_where.style.display = 'block';\n",
       "            friendly_tb_content.style.display = 'block';\n",
       "            ;\n",
       "            btn.textContent = \"Show message only\";\n",
       "            ;\n",
       "        } else {\n",
       "            btn_what.style.display = 'none';\n",
       "            btn_what.textContent = 'what()';\n",
       "            btn_why.style.display = 'none';\n",
       "            btn_why.textContent = 'why()';\n",
       "            btn_where.style.display = 'none';\n",
       "            btn_where.textContent = 'where()';\n",
       "            what_content.style.display = 'none';\n",
       "            why_content.style.display = 'none';\n",
       "            where_content.style.display = 'none';\n",
       "            ;\n",
       "            friendly_tb_content.style.display = 'none';\n",
       "            message.style.display = 'block';\n",
       "            btn.textContent = \"More ...\";\n",
       "            ;\n",
       "        }\n",
       "        };\n",
       "        </script>\n",
       "        "
      ]
     },
     "metadata": {},
     "output_type": "display_data"
    },
    {
     "data": {
      "text/html": [
       "<div id='friendly-tb-friendly_tb-content2' style='display:none'><pre style='white-space:pre;overflow-x:auto;line-height:normal'><span style=\"color: #101010; text-decoration-color: #101010; background-color: #ffffff\">  Code block </span><span style=\"color: #783114; text-decoration-color: #783114; background-color: #ffffff\">[</span><span style=\"color: #101010; text-decoration-color: #101010; background-color: #ffffff\">16</span><span style=\"color: #783114; text-decoration-color: #783114; background-color: #ffffff\">]</span><span style=\"color: #101010; text-decoration-color: #101010; background-color: #ffffff\">, line 2</span><span style=\"background-color: #ffffff\">                                                                           </span>\n",
       "<span style=\"color: #101010; text-decoration-color: #101010; background-color: #ffffff\">    </span><span style=\"color: #005500; text-decoration-color: #005500; background-color: #ffffff\">print</span><span style=\"color: #101010; text-decoration-color: #101010; background-color: #ffffff\"> </span><span style=\"color: #783114; text-decoration-color: #783114; background-color: #ffffff\">(</span><span style=\"color: #8b008b; text-decoration-color: #8b008b; background-color: #ffffff\">'Hello,'</span><span style=\"color: #101010; text-decoration-color: #101010; background-color: #ffffff\"> </span><span style=\"color: #783114; text-decoration-color: #783114; background-color: #ffffff\">+</span><span style=\"color: #101010; text-decoration-color: #101010; background-color: #ffffff\"> </span><span style=\"color: #0011aa; text-decoration-color: #0011aa; background-color: #ffffff\">name</span><span style=\"color: #101010; text-decoration-color: #101010; background-color: #ffffff\"> </span><span style=\"color: #783114; text-decoration-color: #783114; background-color: #ffffff\">+</span><span style=\"color: #101010; text-decoration-color: #101010; background-color: #ffffff\"> </span><span style=\"color: #8b008b; text-decoration-color: #8b008b; background-color: #ffffff\">' Good Morning)</span><span style=\"background-color: #ffffff\">                                                        </span>\n",
       "<span style=\"color: #101010; text-decoration-color: #101010; background-color: #ffffff\">                             </span><span style=\"color: #783114; text-decoration-color: #783114; background-color: #ffffff\">^</span><span style=\"background-color: #ffffff\">                                                                      </span>\n",
       "<span style=\"color: #dd0000; text-decoration-color: #dd0000; background-color: #ffffff\">SyntaxError</span><span style=\"color: #101010; text-decoration-color: #101010; background-color: #ffffff\">: </span><span style=\"color: #0011aa; text-decoration-color: #0011aa; background-color: #ffffff\">unterminated string literal (detected at line 2)</span><span style=\"background-color: #ffffff\">                                       </span>\n",
       "\n",
       "Did you forget a closing quote?                                                                     \n",
       "</pre></div>"
      ],
      "text/plain": [
       "\u001b[38;2;16;16;16;48;2;255;255;255m  Code block \u001b[0m\u001b[38;2;120;49;20;48;2;255;255;255m[\u001b[0m\u001b[38;2;16;16;16;48;2;255;255;255m16\u001b[0m\u001b[38;2;120;49;20;48;2;255;255;255m]\u001b[0m\u001b[38;2;16;16;16;48;2;255;255;255m, line \u001b[0m\u001b[38;2;16;16;16;48;2;255;255;255m2\u001b[0m\u001b[48;2;255;255;255m                                                                           \u001b[0m\n",
       "\u001b[38;2;16;16;16;48;2;255;255;255m    \u001b[0m\u001b[38;2;0;85;0;48;2;255;255;255mprint\u001b[0m\u001b[38;2;16;16;16;48;2;255;255;255m \u001b[0m\u001b[38;2;120;49;20;48;2;255;255;255m(\u001b[0m\u001b[38;2;139;0;139;48;2;255;255;255m'\u001b[0m\u001b[38;2;139;0;139;48;2;255;255;255mHello,\u001b[0m\u001b[38;2;139;0;139;48;2;255;255;255m'\u001b[0m\u001b[38;2;16;16;16;48;2;255;255;255m \u001b[0m\u001b[38;2;120;49;20;48;2;255;255;255m+\u001b[0m\u001b[38;2;16;16;16;48;2;255;255;255m \u001b[0m\u001b[38;2;0;17;170;48;2;255;255;255mname\u001b[0m\u001b[38;2;16;16;16;48;2;255;255;255m \u001b[0m\u001b[38;2;120;49;20;48;2;255;255;255m+\u001b[0m\u001b[38;2;16;16;16;48;2;255;255;255m \u001b[0m\u001b[38;2;139;0;139;48;2;255;255;255m'\u001b[0m\u001b[38;2;139;0;139;48;2;255;255;255m Good Morning)\u001b[0m\u001b[48;2;255;255;255m                                                        \u001b[0m\n",
       "\u001b[38;2;16;16;16;48;2;255;255;255m                             \u001b[0m\u001b[38;2;120;49;20;48;2;255;255;255m^\u001b[0m\u001b[48;2;255;255;255m                                                                      \u001b[0m\n",
       "\u001b[38;2;221;0;0;48;2;255;255;255mSyntaxError\u001b[0m\u001b[38;2;16;16;16;48;2;255;255;255m: \u001b[0m\u001b[38;2;0;17;170;48;2;255;255;255munterminated string literal (detected at line 2)\u001b[0m\u001b[48;2;255;255;255m                                       \u001b[0m\n",
       "\n",
       "Did you forget a closing quote?                                                                     \n"
      ]
     },
     "metadata": {},
     "output_type": "display_data"
    },
    {
     "data": {
      "text/html": [
       "<script type=\"text/Javascript\"> function toggle_what2(){\n",
       "     var content = document.getElementById('friendly-tb-what-content2');\n",
       "     var btn = document.getElementById('friendly-tb-btn-show-what2');\n",
       "        if (content.style.display === 'none') {\n",
       "            content.style.display = 'block';\n",
       "            btn.textContent = \"Hide what()\";\n",
       "        } else {\n",
       "            content.style.display = 'none';\n",
       "            btn.textContent = \"what()\";\n",
       "       }\n",
       "    }\n",
       "     </script>\n",
       "     <button\n",
       "         id='friendly-tb-btn-show-what2'\n",
       "         onclick='toggle_what2()'\n",
       "         style='display:none '>\n",
       "     what()\n",
       "     </button>\n",
       "    "
      ]
     },
     "metadata": {},
     "output_type": "display_data"
    },
    {
     "data": {
      "text/html": [
       "<div id='friendly-tb-what-content2' style='display:none'><pre style='white-space:pre;overflow-x:auto;line-height:normal'>A <span style=\"color: #dd0000; text-decoration-color: #dd0000; background-color: #ffffff\">SyntaxError</span> occurs when Python cannot understand your code.         \n",
       "</pre></div>"
      ],
      "text/plain": [
       "A \u001b[38;2;221;0;0;48;2;255;255;255mSyntaxError\u001b[0m occurs when Python cannot understand your code.         \n"
      ]
     },
     "metadata": {},
     "output_type": "display_data"
    },
    {
     "data": {
      "text/html": [
       "<script type=\"text/Javascript\"> function toggle_why2(){\n",
       "     var content = document.getElementById('friendly-tb-why-content2');\n",
       "     var btn = document.getElementById('friendly-tb-btn-show-why2');\n",
       "        if (content.style.display === 'none') {\n",
       "            content.style.display = 'block';\n",
       "            btn.textContent = \"Hide why()\";\n",
       "        } else {\n",
       "            content.style.display = 'none';\n",
       "            btn.textContent = \"why()\";\n",
       "       }\n",
       "    }\n",
       "     </script>\n",
       "     <button\n",
       "         id='friendly-tb-btn-show-why2'\n",
       "         onclick='toggle_why2()'\n",
       "         style='display:none '>\n",
       "     why()\n",
       "     </button>\n",
       "    "
      ]
     },
     "metadata": {},
     "output_type": "display_data"
    },
    {
     "data": {
      "text/html": [
       "<div id='friendly-tb-why-content2' style='display:none'><pre style='white-space:pre;overflow-x:auto;line-height:normal'>You started writing a string with a single or double quote but never  \n",
       "ended the string with another quote on that line.                     \n",
       "</pre></div>"
      ],
      "text/plain": [
       "You started writing a string with a single or double quote but never  \n",
       "ended the string with another quote on that line.                     \n"
      ]
     },
     "metadata": {},
     "output_type": "display_data"
    },
    {
     "data": {
      "text/html": [
       "<script type=\"text/Javascript\"> function toggle_where2(){\n",
       "     var content = document.getElementById('friendly-tb-where-content2');\n",
       "     var btn = document.getElementById('friendly-tb-btn-show-where2');\n",
       "        if (content.style.display === 'none') {\n",
       "            content.style.display = 'block';\n",
       "            btn.textContent = \"Hide where()\";\n",
       "        } else {\n",
       "            content.style.display = 'none';\n",
       "            btn.textContent = \"where()\";\n",
       "       }\n",
       "    }\n",
       "     </script>\n",
       "     <button\n",
       "         id='friendly-tb-btn-show-where2'\n",
       "         onclick='toggle_where2()'\n",
       "         style='display:none '>\n",
       "     where()\n",
       "     </button>\n",
       "    "
      ]
     },
     "metadata": {},
     "output_type": "display_data"
    },
    {
     "data": {
      "text/html": [
       "<div id='friendly-tb-where-content2' style='display:none'><pre style='white-space:pre;overflow-x:auto;line-height:normal'>Python could not understand the code in the code block <span style=\"color: #783114; text-decoration-color: #783114; background-color: #ffffff\">[</span><span style=\"color: #101010; text-decoration-color: #101010; background-color: #ffffff\">16</span><span style=\"color: #783114; text-decoration-color: #783114; background-color: #ffffff\">]</span> at the location indicated.              \n",
       "\n",
       "<span style=\"color: #808080; text-decoration-color: #808080; background-color: #ffffff\">       2|</span><span style=\"color: #005500; text-decoration-color: #005500; background-color: #ffffff\"> print</span><span style=\"color: #783114; text-decoration-color: #783114; background-color: #ffffff\"> (</span><span style=\"color: #8b008b; text-decoration-color: #8b008b; background-color: #ffffff\">'Hello,'</span><span style=\"color: #783114; text-decoration-color: #783114; background-color: #ffffff\"> +</span><span style=\"color: #0011aa; text-decoration-color: #0011aa; background-color: #ffffff\"> name</span><span style=\"color: #783114; text-decoration-color: #783114; background-color: #ffffff\"> +</span><span style=\"color: #808080; text-decoration-color: #808080; background-color: #ffffff\"> </span><span style=\"color: #ffffff; text-decoration-color: #ffffff; background-color: #cc0000\">'</span><span style=\"color: #0011aa; text-decoration-color: #0011aa; background-color: #ffffff\"> Good Morning</span><span style=\"color: #783114; text-decoration-color: #783114; background-color: #ffffff\">)</span>\n",
       "</pre></div>"
      ],
      "text/plain": [
       "Python could not understand the code in the code block \u001b[38;2;120;49;20;48;2;255;255;255m[\u001b[0m\u001b[38;2;16;16;16;48;2;255;255;255m16\u001b[0m\u001b[38;2;120;49;20;48;2;255;255;255m]\u001b[0m at the location indicated.              \n",
       "\n",
       "\u001b[38;2;128;128;128;48;2;255;255;255m       2|\u001b[0m\u001b[38;2;0;85;0;48;2;255;255;255m print\u001b[0m\u001b[38;2;120;49;20;48;2;255;255;255m (\u001b[0m\u001b[38;2;139;0;139;48;2;255;255;255m'Hello,'\u001b[0m\u001b[38;2;120;49;20;48;2;255;255;255m +\u001b[0m\u001b[38;2;0;17;170;48;2;255;255;255m name\u001b[0m\u001b[38;2;120;49;20;48;2;255;255;255m +\u001b[0m\u001b[38;2;128;128;128;48;2;255;255;255m \u001b[0m\u001b[38;2;255;255;255;48;2;204;0;0m'\u001b[0m\u001b[38;2;0;17;170;48;2;255;255;255m Good\u001b[0m\u001b[38;2;0;17;170;48;2;255;255;255m Morning\u001b[0m\u001b[38;2;120;49;20;48;2;255;255;255m)\u001b[0m\n"
      ]
     },
     "metadata": {},
     "output_type": "display_data"
    }
   ],
   "source": [
    "name = input('What is your name?: ')\n",
    "print ('Hello,' + name + ' Good Morning)"
   ]
  },
  {
   "cell_type": "code",
   "execution_count": 17,
   "id": "ccdd388e",
   "metadata": {},
   "outputs": [
    {
     "data": {
      "text/html": [
       "<pre style='white-space:pre;overflow-x:auto;line-height:normal'><span style=\"color: #266290; text-decoration-color: #266290\">True</span>\n",
       "</pre>"
      ],
      "text/plain": [
       "\u001b[38;2;38;98;144mTrue\u001b[0m\n"
      ]
     },
     "metadata": {},
     "output_type": "display_data"
    }
   ],
   "source": [
    "y = 20\n",
    "x = 20\n",
    "x == y"
   ]
  },
  {
   "cell_type": "code",
   "execution_count": 18,
   "id": "f435e915",
   "metadata": {},
   "outputs": [
    {
     "data": {
      "text/html": [
       "<pre style='white-space:pre;overflow-x:auto;line-height:normal'><span style=\"color: #266290; text-decoration-color: #266290\">False</span>\n",
       "</pre>"
      ],
      "text/plain": [
       "\u001b[38;2;38;98;144mFalse\u001b[0m\n"
      ]
     },
     "metadata": {},
     "output_type": "display_data"
    }
   ],
   "source": [
    "y = 4\n",
    "y = 5\n",
    "x == y"
   ]
  },
  {
   "cell_type": "code",
   "execution_count": 21,
   "id": "50076f7f",
   "metadata": {},
   "outputs": [
    {
     "data": {
      "text/html": [
       "<pre style='white-space:pre;overflow-x:auto;line-height:normal'><span style=\"color: #266290; text-decoration-color: #266290\">True</span>\n",
       "</pre>"
      ],
      "text/plain": [
       "\u001b[38;2;38;98;144mTrue\u001b[0m\n"
      ]
     },
     "metadata": {},
     "output_type": "display_data"
    }
   ],
   "source": [
    "name = 'Robert'\n",
    "name == 'Robert'\n"
   ]
  },
  {
   "cell_type": "code",
   "execution_count": 29,
   "id": "cdacd88c",
   "metadata": {},
   "outputs": [
    {
     "name": "stdout",
     "output_type": "stream",
     "text": [
      "Enter your name:Robert\n",
      "Hi, boss!\n",
      "So good to see you again!\n"
     ]
    }
   ],
   "source": [
    "name = input('Enter your name:')\n",
    "if name == 'Robert':\n",
    "    print('Hi, boss!')\n",
    "    print('So good to see you again!')\n",
    "else:\n",
    "    print('Hello, ' + name + '!')\n",
    "    "
   ]
  },
  {
   "cell_type": "code",
   "execution_count": 28,
   "id": "a4ce3a34",
   "metadata": {},
   "outputs": [
    {
     "name": "stdout",
     "output_type": "stream",
     "text": [
      "Enter your name:Reuven\n",
      "Hello, Reuven!\n"
     ]
    }
   ],
   "source": [
    "name = input('Enter your name:')\n",
    "if name == 'Robert':\n",
    "    print('Hi, boss!')\n",
    "    print('So good to see you again!')\n",
    "else:\n",
    "    print('Hello, ' + name + '!')"
   ]
  },
  {
   "cell_type": "code",
   "execution_count": null,
   "id": "3da59a2c",
   "metadata": {},
   "outputs": [],
   "source": [
    "name = input('Enter your name:')\n",
    "if name == 'Robert':\n",
    "    print ('Hi Robert!')\n",
    "    print ('So good to see you today!')\n",
    "else:\n",
    "    print('Hi imposter, go away')"
   ]
  }
 ],
 "metadata": {
  "kernelspec": {
   "display_name": "Python 3 (ipykernel)",
   "language": "python",
   "name": "python3"
  },
  "language_info": {
   "codemirror_mode": {
    "name": "ipython",
    "version": 3
   },
   "file_extension": ".py",
   "mimetype": "text/x-python",
   "name": "python",
   "nbconvert_exporter": "python",
   "pygments_lexer": "ipython3",
   "version": "3.10.4"
  }
 },
 "nbformat": 4,
 "nbformat_minor": 5
}
