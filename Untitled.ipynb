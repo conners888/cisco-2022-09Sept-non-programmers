{
 "cells": [
  {
   "cell_type": "markdown",
   "id": "1411a904",
   "metadata": {},
   "source": [
    "# Agenda\n",
    "\n",
    "1. Fundamentals (Today, first 1/2)\n",
    "    - What is a programming language?\n",
    "    - What is Python?\n",
    "    - Jupyter\n",
    "    - Values\n",
    "    - Variables and assignment\n",
    "    - Comparisons\n",
    "    - `if` and conditions\n",
    "2. Numbers (Monday)\n",
    "3. Text (\"strings\") (Monday + Tuesday)\n",
    "4. Looping (`for` and `while`) (Tuesday)\n",
    "5. Lists (and a little bit about tuples) (Tuesday)\n",
    "6. Turning strings into lists, and back (Tuesday)\n",
    "7. Dictionaries (Wednesday)\n",
    "8. Files (reading from them, and writing to them) (Wednesday)\n",
    "9. Installing Python on your own computer (end of Wednesday)\n",
    "10. Functions (Thursday)\n",
    "11. Modules (Thursday) -- ending with a demo of API retrieval using JSON into Python data structures"
   ]
  },
  {
   "cell_type": "code",
   "execution_count": null,
   "id": "31532a89",
   "metadata": {},
   "outputs": [],
   "source": []
  }
 ],
 "metadata": {
  "kernelspec": {
   "display_name": "Python 3 (ipykernel)",
   "language": "python",
   "name": "python3"
  },
  "language_info": {
   "codemirror_mode": {
    "name": "ipython",
    "version": 3
   },
   "file_extension": ".py",
   "mimetype": "text/x-python",
   "name": "python",
   "nbconvert_exporter": "python",
   "pygments_lexer": "ipython3",
   "version": "3.10.4"
  }
 },
 "nbformat": 4,
 "nbformat_minor": 5
}
