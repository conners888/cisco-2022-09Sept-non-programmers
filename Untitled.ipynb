{
 "cells": [
  {
   "cell_type": "code",
   "execution_count": null,
   "id": "fb1fcb5b",
   "metadata": {},
   "outputs": [],
   "source": [
    "Robert McLean 09/16/22\n",
    "\n"
   ]
  },
  {
   "cell_type": "code",
   "execution_count": 2,
   "id": "691e639b",
   "metadata": {},
   "outputs": [
    {
     "name": "stdout",
     "output_type": "stream",
     "text": [
      "Robert\n"
     ]
    }
   ],
   "source": [
    "print(\"Robert\")"
   ]
  },
  {
   "cell_type": "code",
   "execution_count": null,
   "id": "102259e1",
   "metadata": {},
   "outputs": [],
   "source": [
    "name = input(What is your name?: )\n",
    "print ('Hello,' Good morning )"
   ]
  }
 ],
 "metadata": {
  "kernelspec": {
   "display_name": "Python 3 (ipykernel)",
   "language": "python",
   "name": "python3"
  },
  "language_info": {
   "codemirror_mode": {
    "name": "ipython",
    "version": 3
   },
   "file_extension": ".py",
   "mimetype": "text/x-python",
   "name": "python",
   "nbconvert_exporter": "python",
   "pygments_lexer": "ipython3",
   "version": "3.10.4"
  }
 },
 "nbformat": 4,
 "nbformat_minor": 5
}
