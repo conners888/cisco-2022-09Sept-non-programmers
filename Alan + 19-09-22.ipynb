{
 "cells": [
  {
   "cell_type": "code",
   "execution_count": 1,
   "id": "f5bb06b5",
   "metadata": {},
   "outputs": [
    {
     "name": "stdout",
     "output_type": "stream",
     "text": [
      "Alan\n"
     ]
    }
   ],
   "source": [
    "print('Alan') #TEST "
   ]
  },
  {
   "cell_type": "code",
   "execution_count": 3,
   "id": "fe2563a8",
   "metadata": {},
   "outputs": [],
   "source": [
    "name='alan'"
   ]
  },
  {
   "cell_type": "code",
   "execution_count": 4,
   "id": "b5990851",
   "metadata": {},
   "outputs": [
    {
     "name": "stdout",
     "output_type": "stream",
     "text": [
      "alan\n"
     ]
    }
   ],
   "source": [
    "print (name)"
   ]
  },
  {
   "cell_type": "code",
   "execution_count": 14,
   "id": "d44a6a92",
   "metadata": {},
   "outputs": [],
   "source": [
    "x='10'\n",
    "y='20'"
   ]
  },
  {
   "cell_type": "code",
   "execution_count": 15,
   "id": "5c8c1e98",
   "metadata": {},
   "outputs": [
    {
     "name": "stdout",
     "output_type": "stream",
     "text": [
      "1020\n"
     ]
    }
   ],
   "source": [
    "print (x + y)"
   ]
  },
  {
   "cell_type": "code",
   "execution_count": null,
   "id": "4c96ad6e",
   "metadata": {},
   "outputs": [],
   "source": [
    "from friendly.jupyter import Friendly\n",
    "name=input('Hello! Please enter your name:')\n",
    "age=int(input('Enter your age:'))\n",
    "print ('Hi ' + name + ' Nice to meet you!')\n",
    "if age<10:\n",
    "    print('You are under 10')\n",
    "elif age>10:\n",
    "    print ('You are 10 and older')\n",
    "    \n",
    "else age=25:\n",
    "    print('You are 25 ')"
   ]
  },
  {
   "cell_type": "code",
   "execution_count": null,
   "id": "c9ef63ce",
   "metadata": {},
   "outputs": [],
   "source": []
  },
  {
   "cell_type": "code",
   "execution_count": null,
   "id": "fe26a801",
   "metadata": {},
   "outputs": [],
   "source": []
  },
  {
   "cell_type": "code",
   "execution_count": 5,
   "id": "1ecb7309",
   "metadata": {},
   "outputs": [
    {
     "name": "stdout",
     "output_type": "stream",
     "text": [
      "Hello! Please enter your name:alan\n",
      "Enter your age:25\n",
      "Hi alan Nice to meet you!\n",
      "You are 10 and older\n"
     ]
    }
   ],
   "source": [
    "from friendly.jupyter import Friendly\n",
    "name=input('Hello! Please enter your name:')\n",
    "age=int(input('Enter your age:'))\n",
    "print ('Hi ' + name + ' Nice to meet you!')\n",
    "if age<10:\n",
    "    print('You are under 10')\n",
    "elif age>10:\n",
    "    print ('You are 10 and older')\n",
    "else\n",
    "    "
   ]
  },
  {
   "cell_type": "code",
   "execution_count": 11,
   "id": "e7f29aef",
   "metadata": {},
   "outputs": [
    {
     "name": "stdout",
     "output_type": "stream",
     "text": [
      "Your random number is:1\n"
     ]
    }
   ],
   "source": [
    "import random\n",
    "number = random.randint(0,10)\n",
    "number = str(number)\n",
    "print ('Your random number is:' + number)\n"
   ]
  },
  {
   "cell_type": "code",
   "execution_count": 18,
   "id": "7334ce90",
   "metadata": {},
   "outputs": [
    {
     "name": "stdout",
     "output_type": "stream",
     "text": [
      "Select the miminum value for your random number: 100\n",
      "Select the maximum value for your random number: 200\n",
      "Your random number is: 195\n"
     ]
    }
   ],
   "source": [
    "import random\n",
    "min=int(input('Select the miminum value for your random number: '))\n",
    "max=int(input('Select the maximum value for your random number: '))\n",
    "\n",
    "number = random.randint(min,max)\n",
    "number = str(number)\n",
    "print ('Your random number is: ' + number)"
   ]
  },
  {
   "cell_type": "code",
   "execution_count": 21,
   "id": "8bcaa9d0",
   "metadata": {},
   "outputs": [
    {
     "data": {
      "text/plain": [
       "4"
      ]
     },
     "execution_count": 21,
     "metadata": {},
     "output_type": "execute_result"
    }
   ],
   "source": [
    "s='alan'\n",
    "len(s)"
   ]
  },
  {
   "cell_type": "code",
   "execution_count": 22,
   "id": "6e52f122",
   "metadata": {},
   "outputs": [
    {
     "name": "stdout",
     "output_type": "stream",
     "text": [
      "alan\n"
     ]
    }
   ],
   "source": [
    "print(s)"
   ]
  },
  {
   "cell_type": "code",
   "execution_count": 25,
   "id": "cbe1b37a",
   "metadata": {},
   "outputs": [
    {
     "data": {
      "text/plain": [
       "'n'"
      ]
     },
     "execution_count": 25,
     "metadata": {},
     "output_type": "execute_result"
    }
   ],
   "source": [
    "s[3]"
   ]
  },
  {
   "cell_type": "code",
   "execution_count": 70,
   "id": "ae7c6be6",
   "metadata": {},
   "outputs": [
    {
     "name": "stdout",
     "output_type": "stream",
     "text": [
      "Type any word from the english language: love\n",
      "Enter an index:6\n",
      "The input value is bigger than the maximum index\n"
     ]
    }
   ],
   "source": [
    "word=input('Type any word from the english language: ')\n",
    "x=len(word)\n",
    "index=int(input('Enter an index:' ))\n",
    "\n",
    "if index>x:\n",
    "    print('The input value is bigger than the maximum index')\n",
    "else:    \n",
    "    print('The letter in \"' + (word) +  '\" is: ' + word[index] )\n"
   ]
  },
  {
   "cell_type": "code",
   "execution_count": 63,
   "id": "5c44199c",
   "metadata": {},
   "outputs": [
    {
     "name": "stdout",
     "output_type": "stream",
     "text": [
      "Type any word from the english language: bigword\n",
      "Enter the minimum index:0\n",
      "Enter the maximum index:4\n",
      "bigw\n"
     ]
    }
   ],
   "source": [
    "word=input('Type any word from the english language: ')\n",
    "x=len(word)\n",
    "index=int(input('Enter the minimum index:' ))\n",
    "index2=int(input('Enter the maximum index:' ))\n",
    "print (word[index:index2])"
   ]
  },
  {
   "cell_type": "code",
   "execution_count": 3,
   "id": "81c825f8",
   "metadata": {},
   "outputs": [
    {
     "name": "stdout",
     "output_type": "stream",
     "text": [
      "Type any word from the english language: alan\n",
      "Type any letter: e\n",
      "['e', 'l', 'a', 'n']\n"
     ]
    }
   ],
   "source": [
    "\n",
    "\n",
    "word=input('Type any word from the english language: ')\n",
    "lword=list(word)\n",
    "\n",
    "r=input('Type any letter: ')\n",
    "lword[0]=r\n",
    "\n",
    "print(lword)"
   ]
  },
  {
   "cell_type": "markdown",
   "id": "2e56057c",
   "metadata": {},
   "source": [
    "## word=input('Type any word from the english language: ')\n",
    "list=list(word)\n",
    "\n",
    "r=input('Type any letter: ')\n",
    "word[0]=r"
   ]
  },
  {
   "cell_type": "code",
   "execution_count": 10,
   "id": "42e9f5c9",
   "metadata": {},
   "outputs": [
    {
     "name": "stdout",
     "output_type": "stream",
     "text": [
      "Type any word from the english language: homputer\n",
      "Type any letter: c\n",
      "The new word is: computerish\n"
     ]
    }
   ],
   "source": [
    "\n",
    "\n",
    "word=input('Type any word from the english language: ')\n",
    "lword=list(word)\n",
    "i=len(word)\n",
    "r=input('Type any letter: ')\n",
    "\n",
    "\n",
    "lword[0]=r\n",
    "new_word = ''.join(lword)\n",
    "\n",
    "print('The new word is: ' + new_word + 'ish')"
   ]
  },
  {
   "cell_type": "code",
   "execution_count": null,
   "id": "2d4f88ea",
   "metadata": {},
   "outputs": [],
   "source": [
    "\n",
    "word=input('Type any word from the english language: ')\n",
    "lword=list(word)\n",
    "i=len(word)\n",
    "r=input('Type any letter: ')\n",
    "\n",
    "\n",
    "lword[0]=r\n",
    "new_word = ''.join(lword)\n",
    "\n",
    "print('The new word is: ' + new_word + 'ish')"
   ]
  }
 ],
 "metadata": {
  "kernelspec": {
   "display_name": "Python 3 (ipykernel)",
   "language": "python",
   "name": "python3"
  },
  "language_info": {
   "codemirror_mode": {
    "name": "ipython",
    "version": 3
   },
   "file_extension": ".py",
   "mimetype": "text/x-python",
   "name": "python",
   "nbconvert_exporter": "python",
   "pygments_lexer": "ipython3",
   "version": "3.10.4"
  }
 },
 "nbformat": 4,
 "nbformat_minor": 5
}
