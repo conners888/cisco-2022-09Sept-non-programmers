{
 "cells": [
  {
   "cell_type": "code",
   "execution_count": 1,
   "id": "56189805",
   "metadata": {},
   "outputs": [
    {
     "name": "stdout",
     "output_type": "stream",
     "text": [
      "Alan\n"
     ]
    }
   ],
   "source": [
    "print('Alan') #TEST "
   ]
  },
  {
   "cell_type": "code",
   "execution_count": 3,
   "id": "ae6b2fdf",
   "metadata": {},
   "outputs": [],
   "source": [
    "name='alan'"
   ]
  },
  {
   "cell_type": "code",
   "execution_count": 4,
   "id": "b3be3e6a",
   "metadata": {},
   "outputs": [
    {
     "name": "stdout",
     "output_type": "stream",
     "text": [
      "alan\n"
     ]
    }
   ],
   "source": [
    "print (name)"
   ]
  },
  {
   "cell_type": "code",
   "execution_count": 14,
   "id": "a22eb36f",
   "metadata": {},
   "outputs": [],
   "source": [
    "x='10'\n",
    "y='20'"
   ]
  },
  {
   "cell_type": "code",
   "execution_count": 15,
   "id": "0ca44840",
   "metadata": {},
   "outputs": [
    {
     "name": "stdout",
     "output_type": "stream",
     "text": [
      "1020\n"
     ]
    }
   ],
   "source": [
    "print (x + y)"
   ]
  },
  {
   "cell_type": "code",
   "execution_count": null,
   "id": "0f3f301a",
   "metadata": {},
   "outputs": [],
   "source": [
    "from friendly.jupyter import Friendly\n",
    "name=input('Hello! Please enter your name:')\n",
    "age=int(input('Enter your age:'))\n",
    "print ('Hi ' + name + ' Nice to meet you!')\n",
    "if age<10:\n",
    "    print('You are under 10')\n",
    "elif age>10:\n",
    "    print ('You are 10 and older')\n",
    "    \n",
    "else age=25:\n",
    "    print('You are 25 ')"
   ]
  },
  {
   "cell_type": "code",
   "execution_count": null,
   "id": "e807f355",
   "metadata": {},
   "outputs": [],
   "source": []
  },
  {
   "cell_type": "code",
   "execution_count": null,
   "id": "85afa0f3",
   "metadata": {},
   "outputs": [],
   "source": []
  },
  {
   "cell_type": "code",
   "execution_count": 5,
   "id": "e9ab4368",
   "metadata": {},
   "outputs": [
    {
     "name": "stdout",
     "output_type": "stream",
     "text": [
      "Hello! Please enter your name:alan\n",
      "Enter your age:25\n",
      "Hi alan Nice to meet you!\n",
      "You are 10 and older\n"
     ]
    }
   ],
   "source": [
    "from friendly.jupyter import Friendly\n",
    "name=input('Hello! Please enter your name:')\n",
    "age=int(input('Enter your age:'))\n",
    "print ('Hi ' + name + ' Nice to meet you!')\n",
    "if age<10:\n",
    "    print('You are under 10')\n",
    "elif age>10:\n",
    "    print ('You are 10 and older')\n",
    "else\n",
    "    "
   ]
  },
  {
   "cell_type": "code",
   "execution_count": 11,
   "id": "cb042224",
   "metadata": {},
   "outputs": [
    {
     "name": "stdout",
     "output_type": "stream",
     "text": [
      "Your random number is:1\n"
     ]
    }
   ],
   "source": [
    "import random\n",
    "number = random.randint(0,10)\n",
    "number = str(number)\n",
    "print ('Your random number is:' + number)\n"
   ]
  },
  {
   "cell_type": "code",
   "execution_count": 18,
   "id": "3f1c1fe2",
   "metadata": {},
   "outputs": [
    {
     "name": "stdout",
     "output_type": "stream",
     "text": [
      "Select the miminum value for your random number: 100\n",
      "Select the maximum value for your random number: 200\n",
      "Your random number is: 195\n"
     ]
    }
   ],
   "source": [
    "import random\n",
    "min=int(input('Select the miminum value for your random number: '))\n",
    "max=int(input('Select the maximum value for your random number: '))\n",
    "\n",
    "number = random.randint(min,max)\n",
    "number = str(number)\n",
    "print ('Your random number is: ' + number)"
   ]
  },
  {
   "cell_type": "code",
   "execution_count": 21,
   "id": "20270cbc",
   "metadata": {},
   "outputs": [
    {
     "data": {
      "text/plain": [
       "4"
      ]
     },
     "execution_count": 21,
     "metadata": {},
     "output_type": "execute_result"
    }
   ],
   "source": [
    "s='alan'\n",
    "len(s)"
   ]
  },
  {
   "cell_type": "code",
   "execution_count": 22,
   "id": "38139ab6",
   "metadata": {},
   "outputs": [
    {
     "name": "stdout",
     "output_type": "stream",
     "text": [
      "alan\n"
     ]
    }
   ],
   "source": [
    "print(s)"
   ]
  },
  {
   "cell_type": "code",
   "execution_count": 25,
   "id": "7ac9a3ba",
   "metadata": {},
   "outputs": [
    {
     "data": {
      "text/plain": [
       "'n'"
      ]
     },
     "execution_count": 25,
     "metadata": {},
     "output_type": "execute_result"
    }
   ],
   "source": [
    "s[3]"
   ]
  },
  {
   "cell_type": "code",
   "execution_count": 70,
   "id": "bbff6514",
   "metadata": {},
   "outputs": [
    {
     "name": "stdout",
     "output_type": "stream",
     "text": [
      "Type any word from the english language: love\n",
      "Enter an index:6\n",
      "The input value is bigger than the maximum index\n"
     ]
    }
   ],
   "source": [
    "word=input('Type any word from the english language: ')\n",
    "x=len(word)\n",
    "index=int(input('Enter an index:' ))\n",
    "\n",
    "if index>x:\n",
    "    print('The input value is bigger than the maximum index')\n",
    "else:    \n",
    "    print('The letter in \"' + (word) +  '\" is: ' + word[index] )\n"
   ]
  },
  {
   "cell_type": "code",
   "execution_count": 63,
   "id": "bf1a8f7a",
   "metadata": {},
   "outputs": [
    {
     "name": "stdout",
     "output_type": "stream",
     "text": [
      "Type any word from the english language: bigword\n",
      "Enter the minimum index:0\n",
      "Enter the maximum index:4\n",
      "bigw\n"
     ]
    }
   ],
   "source": [
    "word=input('Type any word from the english language: ')\n",
    "x=len(word)\n",
    "index=int(input('Enter the minimum index:' ))\n",
    "index2=int(input('Enter the maximum index:' ))\n",
    "print (word[index:index2])"
   ]
  },
  {
   "cell_type": "code",
   "execution_count": 1,
   "id": "d7ba5aa3",
   "metadata": {},
   "outputs": [
    {
     "name": "stdout",
     "output_type": "stream",
     "text": [
      "Type any word from the english language: alan\n",
      "Type any letter: 2\n"
     ]
    },
    {
     "ename": "TypeError",
     "evalue": "'str' object does not support item assignment",
     "output_type": "error",
     "traceback": [
      "\u001b[0;31m---------------------------------------------------------------------------\u001b[0m",
      "\u001b[0;31mTypeError\u001b[0m                                 Traceback (most recent call last)",
      "Cell \u001b[0;32mIn [1], line 5\u001b[0m\n\u001b[1;32m      2\u001b[0m lword\u001b[38;5;241m=\u001b[39m\u001b[38;5;28mlist\u001b[39m(word)\n\u001b[1;32m      4\u001b[0m r\u001b[38;5;241m=\u001b[39m\u001b[38;5;28minput\u001b[39m(\u001b[38;5;124m'\u001b[39m\u001b[38;5;124mType any letter: \u001b[39m\u001b[38;5;124m'\u001b[39m)\n\u001b[0;32m----> 5\u001b[0m \u001b[43mword\u001b[49m\u001b[43m[\u001b[49m\u001b[38;5;241;43m0\u001b[39;49m\u001b[43m]\u001b[49m\u001b[38;5;241m=\u001b[39mr\n",
      "\u001b[0;31mTypeError\u001b[0m: 'str' object does not support item assignment"
     ]
    }
   ],
   "source": [
    "\n",
    "\n",
    "word=input('Type any word from the english language: ')\n",
    "lword=list(word)\n",
    "\n",
    "r=input('Type any letter: ')\n",
    "word[0]=r\n"
   ]
  },
  {
   "cell_type": "markdown",
   "id": "5840c6f8",
   "metadata": {},
   "source": [
    "## word=input('Type any word from the english language: ')\n",
    "list=list(word)\n",
    "\n",
    "r=input('Type any letter: ')\n",
    "word[0]=r"
   ]
  },
  {
   "cell_type": "code",
   "execution_count": null,
   "id": "8cc38da5",
   "metadata": {},
   "outputs": [],
   "source": []
  }
 ],
 "metadata": {
  "kernelspec": {
   "display_name": "Python 3 (ipykernel)",
   "language": "python",
   "name": "python3"
  },
  "language_info": {
   "codemirror_mode": {
    "name": "ipython",
    "version": 3
   },
   "file_extension": ".py",
   "mimetype": "text/x-python",
   "name": "python",
   "nbconvert_exporter": "python",
   "pygments_lexer": "ipython3",
   "version": "3.10.4"
  }
 },
 "nbformat": 4,
 "nbformat_minor": 5
}
