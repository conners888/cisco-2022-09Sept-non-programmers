{
 "cells": [
  {
   "cell_type": "code",
   "execution_count": 1,
   "id": "7454e471",
   "metadata": {},
   "outputs": [
    {
     "name": "stdout",
     "output_type": "stream",
     "text": [
      "Alan\n"
     ]
    }
   ],
   "source": [
    "print('Alan') #TEST "
   ]
  },
  {
   "cell_type": "code",
   "execution_count": 3,
   "id": "a5c261a1",
   "metadata": {},
   "outputs": [],
   "source": [
    "name='alan'"
   ]
  },
  {
   "cell_type": "code",
   "execution_count": 4,
   "id": "571cdaa8",
   "metadata": {},
   "outputs": [
    {
     "name": "stdout",
     "output_type": "stream",
     "text": [
      "alan\n"
     ]
    }
   ],
   "source": [
    "print (name)"
   ]
  },
  {
   "cell_type": "code",
   "execution_count": 14,
   "id": "53800484",
   "metadata": {},
   "outputs": [],
   "source": [
    "x='10'\n",
    "y='20'"
   ]
  },
  {
   "cell_type": "code",
   "execution_count": 15,
   "id": "cf4319fe",
   "metadata": {},
   "outputs": [
    {
     "name": "stdout",
     "output_type": "stream",
     "text": [
      "1020\n"
     ]
    }
   ],
   "source": [
    "print (x + y)"
   ]
  },
  {
   "cell_type": "code",
   "execution_count": null,
   "id": "7e038c9d",
   "metadata": {},
   "outputs": [],
   "source": [
    "from friendly.jupyter import Friendly\n",
    "name=input('Hello! Please enter your name:')\n",
    "age=int(input('Enter your age:'))\n",
    "print ('Hi ' + name + ' Nice to meet you!')\n",
    "if age<10:\n",
    "    print('You are under 10')\n",
    "elif age>10:\n",
    "    print ('You are 10 and older')\n",
    "    \n",
    "else age=25:\n",
    "    print('You are 25 ')"
   ]
  },
  {
   "cell_type": "code",
   "execution_count": null,
   "id": "bb910f17",
   "metadata": {},
   "outputs": [],
   "source": []
  },
  {
   "cell_type": "code",
   "execution_count": null,
   "id": "552e64c1",
   "metadata": {},
   "outputs": [],
   "source": []
  },
  {
   "cell_type": "code",
   "execution_count": 5,
   "id": "da49012c",
   "metadata": {},
   "outputs": [
    {
     "name": "stdout",
     "output_type": "stream",
     "text": [
      "Hello! Please enter your name:alan\n",
      "Enter your age:25\n",
      "Hi alan Nice to meet you!\n",
      "You are 10 and older\n"
     ]
    }
   ],
   "source": [
    "from friendly.jupyter import Friendly\n",
    "name=input('Hello! Please enter your name:')\n",
    "age=int(input('Enter your age:'))\n",
    "print ('Hi ' + name + ' Nice to meet you!')\n",
    "if age<10:\n",
    "    print('You are under 10')\n",
    "elif age>10:\n",
    "    print ('You are 10 and older')\n",
    "else\n",
    "    "
   ]
  },
  {
   "cell_type": "code",
   "execution_count": 11,
   "id": "85185692",
   "metadata": {},
   "outputs": [
    {
     "name": "stdout",
     "output_type": "stream",
     "text": [
      "Your random number is:1\n"
     ]
    }
   ],
   "source": [
    "import random\n",
    "number = random.randint(0,10)\n",
    "number = str(number)\n",
    "print ('Your random number is:' + number)\n"
   ]
  },
  {
   "cell_type": "code",
   "execution_count": 18,
   "id": "5de6f24c",
   "metadata": {},
   "outputs": [
    {
     "name": "stdout",
     "output_type": "stream",
     "text": [
      "Select the miminum value for your random number: 100\n",
      "Select the maximum value for your random number: 200\n",
      "Your random number is: 195\n"
     ]
    }
   ],
   "source": [
    "import random\n",
    "min=int(input('Select the miminum value for your random number: '))\n",
    "max=int(input('Select the maximum value for your random number: '))\n",
    "\n",
    "number = random.randint(min,max)\n",
    "number = str(number)\n",
    "print ('Your random number is: ' + number)"
   ]
  },
  {
   "cell_type": "code",
   "execution_count": 21,
   "id": "7e64226e",
   "metadata": {},
   "outputs": [
    {
     "data": {
      "text/plain": [
       "4"
      ]
     },
     "execution_count": 21,
     "metadata": {},
     "output_type": "execute_result"
    }
   ],
   "source": [
    "s='alan'\n",
    "len(s)"
   ]
  },
  {
   "cell_type": "code",
   "execution_count": 22,
   "id": "76b17fae",
   "metadata": {},
   "outputs": [
    {
     "name": "stdout",
     "output_type": "stream",
     "text": [
      "alan\n"
     ]
    }
   ],
   "source": [
    "print(s)"
   ]
  },
  {
   "cell_type": "code",
   "execution_count": 25,
   "id": "e5848928",
   "metadata": {},
   "outputs": [
    {
     "data": {
      "text/plain": [
       "'n'"
      ]
     },
     "execution_count": 25,
     "metadata": {},
     "output_type": "execute_result"
    }
   ],
   "source": [
    "s[3]"
   ]
  },
  {
   "cell_type": "code",
   "execution_count": 70,
   "id": "9de3623a",
   "metadata": {},
   "outputs": [
    {
     "name": "stdout",
     "output_type": "stream",
     "text": [
      "Type any word from the english language: love\n",
      "Enter an index:6\n",
      "The input value is bigger than the maximum index\n"
     ]
    }
   ],
   "source": [
    "word=input('Type any word from the english language: ')\n",
    "x=len(word)\n",
    "index=int(input('Enter an index:' ))\n",
    "\n",
    "if index>x:\n",
    "    print('The input value is bigger than the maximum index')\n",
    "else:    \n",
    "    print('The letter in \"' + (word) +  '\" is: ' + word[index] )\n"
   ]
  },
  {
   "cell_type": "code",
   "execution_count": 63,
   "id": "6754cf43",
   "metadata": {},
   "outputs": [
    {
     "name": "stdout",
     "output_type": "stream",
     "text": [
      "Type any word from the english language: bigword\n",
      "Enter the minimum index:0\n",
      "Enter the maximum index:4\n",
      "bigw\n"
     ]
    }
   ],
   "source": [
    "word=input('Type any word from the english language: ')\n",
    "x=len(word)\n",
    "index=int(input('Enter the minimum index:' ))\n",
    "index2=int(input('Enter the maximum index:' ))\n",
    "print (word[index:index2])"
   ]
  },
  {
   "cell_type": "code",
   "execution_count": 3,
   "id": "4be25390",
   "metadata": {},
   "outputs": [
    {
     "name": "stdout",
     "output_type": "stream",
     "text": [
      "Type any word from the english language: alan\n",
      "Type any letter: e\n",
      "['e', 'l', 'a', 'n']\n"
     ]
    }
   ],
   "source": [
    "\n",
    "\n",
    "word=input('Type any word from the english language: ')\n",
    "lword=list(word)\n",
    "\n",
    "r=input('Type any letter: ')\n",
    "lword[0]=r\n",
    "\n",
    "print(lword)"
   ]
  },
  {
   "cell_type": "markdown",
   "id": "7035f42a",
   "metadata": {},
   "source": [
    "## word=input('Type any word from the english language: ')\n",
    "list=list(word)\n",
    "\n",
    "r=input('Type any letter: ')\n",
    "word[0]=r"
   ]
  },
  {
   "cell_type": "code",
   "execution_count": 10,
   "id": "f5115dbb",
   "metadata": {},
   "outputs": [
    {
     "name": "stdout",
     "output_type": "stream",
     "text": [
      "Type any word from the english language: homputer\n",
      "Type any letter: c\n",
      "The new word is: computerish\n"
     ]
    }
   ],
   "source": [
    "\n",
    "\n",
    "word=input('Type any word from the english language: ')\n",
    "lword=list(word)\n",
    "i=len(word)\n",
    "r=input('Type any letter: ')\n",
    "\n",
    "\n",
    "lword[0]=r\n",
    "new_word = ''.join(lword)\n",
    "\n",
    "print('The new word is: ' + new_word + 'ish')"
   ]
  },
  {
   "cell_type": "code",
   "execution_count": 113,
   "id": "dd0f4054",
   "metadata": {},
   "outputs": [
    {
     "name": "stdout",
     "output_type": "stream",
     "text": [
      "Enter a word alan omar garcia marchan\n",
      "Enter a letter e\n",
      "All vocals will be replaced with: e\n",
      "elen emer gercee merchen\n"
     ]
    }
   ],
   "source": [
    "word = input(\"Enter a word \")\n",
    "letter = input(\"Enter a letter \")\n",
    "print ('All vocals will be replaced with: '+ letter)\n",
    "lword = list(word)\n",
    "i=0\n",
    "vowels = 'aeiou'\n",
    "for element in lword:\n",
    "    if lword[i] in vowels:\n",
    "        lword[i]=letter\n",
    "\n",
    "\n",
    "    else:\n",
    "            pass\n",
    "    i=i+1\n",
    "print(\"\".join(lword))\n"
   ]
  },
  {
   "cell_type": "code",
   "execution_count": null,
   "id": "e3d2baae",
   "metadata": {},
   "outputs": [],
   "source": []
  },
  {
   "cell_type": "code",
   "execution_count": null,
   "id": "23592c3b",
   "metadata": {},
   "outputs": [],
   "source": []
  },
  {
   "cell_type": "code",
   "execution_count": null,
   "id": "77cedd7d",
   "metadata": {},
   "outputs": [],
   "source": []
  },
  {
   "cell_type": "code",
   "execution_count": null,
   "id": "2e96f4b7",
   "metadata": {},
   "outputs": [],
   "source": []
  },
  {
   "cell_type": "code",
   "execution_count": null,
   "id": "65d4732a",
   "metadata": {},
   "outputs": [],
   "source": []
  },
  {
   "cell_type": "code",
   "execution_count": null,
   "id": "c28dfb34",
   "metadata": {},
   "outputs": [],
   "source": []
  }
 ],
 "metadata": {
  "kernelspec": {
   "display_name": "Python 3 (ipykernel)",
   "language": "python",
   "name": "python3"
  },
  "language_info": {
   "codemirror_mode": {
    "name": "ipython",
    "version": 3
   },
   "file_extension": ".py",
   "mimetype": "text/x-python",
   "name": "python",
   "nbconvert_exporter": "python",
   "pygments_lexer": "ipython3",
   "version": "3.10.4"
  }
 },
 "nbformat": 4,
 "nbformat_minor": 5
}
