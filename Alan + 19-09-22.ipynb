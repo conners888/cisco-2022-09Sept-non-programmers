{
 "cells": [
  {
   "cell_type": "code",
   "execution_count": 1,
   "id": "cd1632d2",
   "metadata": {},
   "outputs": [
    {
     "name": "stdout",
     "output_type": "stream",
     "text": [
      "Alan\n"
     ]
    }
   ],
   "source": [
    "print('Alan') #TEST "
   ]
  },
  {
   "cell_type": "code",
   "execution_count": 3,
   "id": "d14c1df6",
   "metadata": {},
   "outputs": [],
   "source": [
    "name='alan'"
   ]
  },
  {
   "cell_type": "code",
   "execution_count": 4,
   "id": "bf3cb6dd",
   "metadata": {},
   "outputs": [
    {
     "name": "stdout",
     "output_type": "stream",
     "text": [
      "alan\n"
     ]
    }
   ],
   "source": [
    "print (name)"
   ]
  },
  {
   "cell_type": "code",
   "execution_count": 14,
   "id": "d98147a6",
   "metadata": {},
   "outputs": [],
   "source": [
    "x='10'\n",
    "y='20'"
   ]
  },
  {
   "cell_type": "code",
   "execution_count": 15,
   "id": "2a33b552",
   "metadata": {},
   "outputs": [
    {
     "name": "stdout",
     "output_type": "stream",
     "text": [
      "1020\n"
     ]
    }
   ],
   "source": [
    "print (x + y)"
   ]
  },
  {
   "cell_type": "code",
   "execution_count": null,
   "id": "cbfcaaa9",
   "metadata": {},
   "outputs": [],
   "source": [
    "from friendly.jupyter import Friendly\n",
    "name=input('Hello! Please enter your name:')\n",
    "age=int(input('Enter your age:'))\n",
    "print ('Hi ' + name + ' Nice to meet you!')\n",
    "if age<10:\n",
    "    print('You are under 10')\n",
    "elif age>10:\n",
    "    print ('You are 10 and older')\n",
    "    \n",
    "else age=25:\n",
    "    print('You are 25 ')"
   ]
  },
  {
   "cell_type": "code",
   "execution_count": null,
   "id": "e98c32c8",
   "metadata": {},
   "outputs": [],
   "source": []
  },
  {
   "cell_type": "code",
   "execution_count": null,
   "id": "e9d2029c",
   "metadata": {},
   "outputs": [],
   "source": []
  },
  {
   "cell_type": "code",
   "execution_count": 5,
   "id": "bc7154b7",
   "metadata": {},
   "outputs": [
    {
     "name": "stdout",
     "output_type": "stream",
     "text": [
      "Hello! Please enter your name:alan\n",
      "Enter your age:25\n",
      "Hi alan Nice to meet you!\n",
      "You are 10 and older\n"
     ]
    }
   ],
   "source": [
    "from friendly.jupyter import Friendly\n",
    "name=input('Hello! Please enter your name:')\n",
    "age=int(input('Enter your age:'))\n",
    "print ('Hi ' + name + ' Nice to meet you!')\n",
    "if age<10:\n",
    "    print('You are under 10')\n",
    "elif age>10:\n",
    "    print ('You are 10 and older')\n",
    "else\n",
    "    "
   ]
  },
  {
   "cell_type": "code",
   "execution_count": 11,
   "id": "77f8231f",
   "metadata": {},
   "outputs": [
    {
     "name": "stdout",
     "output_type": "stream",
     "text": [
      "Your random number is:1\n"
     ]
    }
   ],
   "source": [
    "import random\n",
    "number = random.randint(0,10)\n",
    "number = str(number)\n",
    "print ('Your random number is:' + number)\n"
   ]
  },
  {
   "cell_type": "code",
   "execution_count": 18,
   "id": "62561d41",
   "metadata": {},
   "outputs": [
    {
     "name": "stdout",
     "output_type": "stream",
     "text": [
      "Select the miminum value for your random number: 100\n",
      "Select the maximum value for your random number: 200\n",
      "Your random number is: 195\n"
     ]
    }
   ],
   "source": [
    "import random\n",
    "min=int(input('Select the miminum value for your random number: '))\n",
    "max=int(input('Select the maximum value for your random number: '))\n",
    "\n",
    "number = random.randint(min,max)\n",
    "number = str(number)\n",
    "print ('Your random number is: ' + number)"
   ]
  },
  {
   "cell_type": "code",
   "execution_count": 21,
   "id": "43056a87",
   "metadata": {},
   "outputs": [
    {
     "data": {
      "text/plain": [
       "4"
      ]
     },
     "execution_count": 21,
     "metadata": {},
     "output_type": "execute_result"
    }
   ],
   "source": [
    "s='alan'\n",
    "len(s)"
   ]
  },
  {
   "cell_type": "code",
   "execution_count": 22,
   "id": "1bac6a4b",
   "metadata": {},
   "outputs": [
    {
     "name": "stdout",
     "output_type": "stream",
     "text": [
      "alan\n"
     ]
    }
   ],
   "source": [
    "print(s)"
   ]
  },
  {
   "cell_type": "code",
   "execution_count": 25,
   "id": "d96c1c30",
   "metadata": {},
   "outputs": [
    {
     "data": {
      "text/plain": [
       "'n'"
      ]
     },
     "execution_count": 25,
     "metadata": {},
     "output_type": "execute_result"
    }
   ],
   "source": [
    "s[3]"
   ]
  },
  {
   "cell_type": "code",
   "execution_count": 31,
   "id": "3e2167fa",
   "metadata": {},
   "outputs": [
    {
     "ename": "SyntaxError",
     "evalue": "Missing parentheses in call to 'print'. Did you mean print(...)? (1949197876.py, line 4)",
     "output_type": "error",
     "traceback": [
      "\u001b[0;36m  Cell \u001b[0;32mIn [31], line 4\u001b[0;36m\u001b[0m\n\u001b[0;31m    print word[x]\u001b[0m\n\u001b[0m    ^\u001b[0m\n\u001b[0;31mSyntaxError\u001b[0m\u001b[0;31m:\u001b[0m Missing parentheses in call to 'print'. Did you mean print(...)?\n"
     ]
    }
   ],
   "source": [
    "word=input('Type any word from the english language: ')\n",
    "x=len(word)\n",
    "index=int(input('Enter an index:' ))\n",
    "print word[x]\n",
    "\n",
    "\n"
   ]
  },
  {
   "cell_type": "code",
   "execution_count": null,
   "id": "d655a2bc",
   "metadata": {},
   "outputs": [],
   "source": []
  },
  {
   "cell_type": "code",
   "execution_count": null,
   "id": "29bf4788",
   "metadata": {},
   "outputs": [],
   "source": []
  }
 ],
 "metadata": {
  "kernelspec": {
   "display_name": "Python 3 (ipykernel)",
   "language": "python",
   "name": "python3"
  },
  "language_info": {
   "codemirror_mode": {
    "name": "ipython",
    "version": 3
   },
   "file_extension": ".py",
   "mimetype": "text/x-python",
   "name": "python",
   "nbconvert_exporter": "python",
   "pygments_lexer": "ipython3",
   "version": "3.10.4"
  }
 },
 "nbformat": 4,
 "nbformat_minor": 5
}
