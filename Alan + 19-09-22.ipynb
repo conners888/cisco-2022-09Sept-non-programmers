{
 "cells": [
  {
   "cell_type": "code",
   "execution_count": 1,
   "id": "88e2b936",
   "metadata": {},
   "outputs": [
    {
     "name": "stdout",
     "output_type": "stream",
     "text": [
      "Alan\n"
     ]
    }
   ],
   "source": [
    "print('Alan') #TEST "
   ]
  },
  {
   "cell_type": "code",
   "execution_count": 3,
   "id": "9b290394",
   "metadata": {},
   "outputs": [],
   "source": [
    "name='alan'"
   ]
  },
  {
   "cell_type": "code",
   "execution_count": 4,
   "id": "8884fa9d",
   "metadata": {},
   "outputs": [
    {
     "name": "stdout",
     "output_type": "stream",
     "text": [
      "alan\n"
     ]
    }
   ],
   "source": [
    "print (name)"
   ]
  },
  {
   "cell_type": "code",
   "execution_count": 14,
   "id": "0d16596f",
   "metadata": {},
   "outputs": [],
   "source": [
    "x='10'\n",
    "y='20'"
   ]
  },
  {
   "cell_type": "code",
   "execution_count": 15,
   "id": "5453f7ba",
   "metadata": {},
   "outputs": [
    {
     "name": "stdout",
     "output_type": "stream",
     "text": [
      "1020\n"
     ]
    }
   ],
   "source": [
    "print (x + y)"
   ]
  },
  {
   "cell_type": "code",
   "execution_count": null,
   "id": "d5190acb",
   "metadata": {},
   "outputs": [],
   "source": [
    "from friendly.jupyter import Friendly\n",
    "name=input('Hello! Please enter your name:')\n",
    "age=int(input('Enter your age:'))\n",
    "print ('Hi ' + name + ' Nice to meet you!')\n",
    "if age<10:\n",
    "    print('You are under 10')\n",
    "elif age>10:\n",
    "    print ('You are 10 and older')\n",
    "    \n",
    "else age=25:\n",
    "    print('You are 25 ')"
   ]
  },
  {
   "cell_type": "code",
   "execution_count": null,
   "id": "cfaa2d4e",
   "metadata": {},
   "outputs": [],
   "source": []
  },
  {
   "cell_type": "code",
   "execution_count": null,
   "id": "ed57faa8",
   "metadata": {},
   "outputs": [],
   "source": []
  },
  {
   "cell_type": "code",
   "execution_count": 5,
   "id": "3681d788",
   "metadata": {},
   "outputs": [
    {
     "name": "stdout",
     "output_type": "stream",
     "text": [
      "Hello! Please enter your name:alan\n",
      "Enter your age:25\n",
      "Hi alan Nice to meet you!\n",
      "You are 10 and older\n"
     ]
    }
   ],
   "source": [
    "from friendly.jupyter import Friendly\n",
    "name=input('Hello! Please enter your name:')\n",
    "age=int(input('Enter your age:'))\n",
    "print ('Hi ' + name + ' Nice to meet you!')\n",
    "if age<10:\n",
    "    print('You are under 10')\n",
    "elif age>10:\n",
    "    print ('You are 10 and older')\n",
    "else\n",
    "    "
   ]
  },
  {
   "cell_type": "code",
   "execution_count": 11,
   "id": "48513346",
   "metadata": {},
   "outputs": [
    {
     "name": "stdout",
     "output_type": "stream",
     "text": [
      "Your random number is:1\n"
     ]
    }
   ],
   "source": [
    "import random\n",
    "number = random.randint(0,10)\n",
    "number = str(number)\n",
    "print ('Your random number is:' + number)\n"
   ]
  },
  {
   "cell_type": "code",
   "execution_count": 18,
   "id": "abfbe3a7",
   "metadata": {},
   "outputs": [
    {
     "name": "stdout",
     "output_type": "stream",
     "text": [
      "Select the miminum value for your random number: 100\n",
      "Select the maximum value for your random number: 200\n",
      "Your random number is: 195\n"
     ]
    }
   ],
   "source": [
    "import random\n",
    "min=int(input('Select the miminum value for your random number: '))\n",
    "max=int(input('Select the maximum value for your random number: '))\n",
    "\n",
    "number = random.randint(min,max)\n",
    "number = str(number)\n",
    "print ('Your random number is: ' + number)"
   ]
  },
  {
   "cell_type": "code",
   "execution_count": 21,
   "id": "e6fc5048",
   "metadata": {},
   "outputs": [
    {
     "data": {
      "text/plain": [
       "4"
      ]
     },
     "execution_count": 21,
     "metadata": {},
     "output_type": "execute_result"
    }
   ],
   "source": [
    "s='alan'\n",
    "len(s)"
   ]
  },
  {
   "cell_type": "code",
   "execution_count": 22,
   "id": "a2dcf449",
   "metadata": {},
   "outputs": [
    {
     "name": "stdout",
     "output_type": "stream",
     "text": [
      "alan\n"
     ]
    }
   ],
   "source": [
    "print(s)"
   ]
  },
  {
   "cell_type": "code",
   "execution_count": 25,
   "id": "f0d106de",
   "metadata": {},
   "outputs": [
    {
     "data": {
      "text/plain": [
       "'n'"
      ]
     },
     "execution_count": 25,
     "metadata": {},
     "output_type": "execute_result"
    }
   ],
   "source": [
    "s[3]"
   ]
  },
  {
   "cell_type": "code",
   "execution_count": 70,
   "id": "1383253f",
   "metadata": {},
   "outputs": [
    {
     "name": "stdout",
     "output_type": "stream",
     "text": [
      "Type any word from the english language: love\n",
      "Enter an index:6\n",
      "The input value is bigger than the maximum index\n"
     ]
    }
   ],
   "source": [
    "word=input('Type any word from the english language: ')\n",
    "x=len(word)\n",
    "index=int(input('Enter an index:' ))\n",
    "\n",
    "if index>x:\n",
    "    print('The input value is bigger than the maximum index')\n",
    "else:    \n",
    "    print('The letter in \"' + (word) +  '\" is: ' + word[index] )\n"
   ]
  },
  {
   "cell_type": "code",
   "execution_count": 63,
   "id": "849e2e34",
   "metadata": {},
   "outputs": [
    {
     "name": "stdout",
     "output_type": "stream",
     "text": [
      "Type any word from the english language: bigword\n",
      "Enter the minimum index:0\n",
      "Enter the maximum index:4\n",
      "bigw\n"
     ]
    }
   ],
   "source": [
    "word=input('Type any word from the english language: ')\n",
    "x=len(word)\n",
    "index=int(input('Enter the minimum index:' ))\n",
    "index2=int(input('Enter the maximum index:' ))\n",
    "print (word[index:index2])"
   ]
  },
  {
   "cell_type": "code",
   "execution_count": null,
   "id": "c62a540d",
   "metadata": {},
   "outputs": [],
   "source": [
    "\n",
    "\n",
    "word=input('Type any word from the english language: ')\n",
    "'alan' in word\n",
    "\n",
    "\n"
   ]
  },
  {
   "cell_type": "code",
   "execution_count": null,
   "id": "77a6e408",
   "metadata": {},
   "outputs": [],
   "source": []
  }
 ],
 "metadata": {
  "kernelspec": {
   "display_name": "Python 3 (ipykernel)",
   "language": "python",
   "name": "python3"
  },
  "language_info": {
   "codemirror_mode": {
    "name": "ipython",
    "version": 3
   },
   "file_extension": ".py",
   "mimetype": "text/x-python",
   "name": "python",
   "nbconvert_exporter": "python",
   "pygments_lexer": "ipython3",
   "version": "3.10.4"
  }
 },
 "nbformat": 4,
 "nbformat_minor": 5
}
