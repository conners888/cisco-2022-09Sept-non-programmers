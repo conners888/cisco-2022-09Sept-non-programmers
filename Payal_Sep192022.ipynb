{
 "cells": [
  {
   "cell_type": "code",
   "execution_count": 2,
   "id": "83a13ff1",
   "metadata": {},
   "outputs": [
    {
     "name": "stdout",
     "output_type": "stream",
     "text": [
      "Hi, whats your name ? Payal\n",
      "Hi Payal!. This is the time now 2022-09-19 13:53:04.685061\n"
     ]
    }
   ],
   "source": [
    "import datetime\n",
    "name = input (\"Hi, whats your name ? \")\n",
    "ct = str(datetime.datetime.now())\n",
    "print ('Hi '+ name+ '!. This is the time now ' + ct)"
   ]
  },
  {
   "cell_type": "code",
   "execution_count": 3,
   "id": "ef150923",
   "metadata": {},
   "outputs": [
    {
     "ename": "SyntaxError",
     "evalue": "unterminated string literal (detected at line 5) (664622357.py, line 5)",
     "output_type": "error",
     "traceback": [
      "\u001b[0;36m  Cell \u001b[0;32mIn [3], line 5\u001b[0;36m\u001b[0m\n\u001b[0;31m    print ('Hi '+ name+ '!. This is the time now  + ct)\u001b[0m\n\u001b[0m                        ^\u001b[0m\n\u001b[0;31mSyntaxError\u001b[0m\u001b[0;31m:\u001b[0m unterminated string literal (detected at line 5)\n"
     ]
    }
   ],
   "source": [
    "from friendly.jupyter import Friendly\n",
    "import datetime\n",
    "name = input (\"Hi, whats your name ? \")\n",
    "ct = datetime.datetime.now()\n",
    "print ('Hi '+ name+ '!. This is the time now  + ct)"
   ]
  },
  {
   "cell_type": "code",
   "execution_count": 4,
   "id": "9afb73de",
   "metadata": {},
   "outputs": [
    {
     "data": {
      "text/plain": [
       "True"
      ]
     },
     "execution_count": 4,
     "metadata": {},
     "output_type": "execute_result"
    }
   ],
   "source": [
    "x = 'porridge' \n",
    "y= 'recipe'\n",
    "x < y"
   ]
  },
  {
   "cell_type": "code",
   "execution_count": 11,
   "id": "72cb0d1f",
   "metadata": {},
   "outputs": [
    {
     "name": "stdout",
     "output_type": "stream",
     "text": [
      "friendly_traceback 0.6.0; friendly 0.6.0.\n",
      "Type 'Friendly' for basic help.\n",
      "An exception occurred before friendly-traceback was imported.\n",
      "Some information is available.\n"
     ]
    },
    {
     "data": {
      "text/html": [
       "<div id='friendly-message1'><pre style='white-space:pre;overflow-x:auto;line-height:normal'><span style=\"color: #dd0000; text-decoration-color: #dd0000; background-color: #ffffff\">SyntaxError</span>: unterminated string literal (detected at line 3)         \n",
       "</pre></div>"
      ],
      "text/plain": [
       "\u001b[38;2;221;0;0;48;2;255;255;255mSyntaxError\u001b[0m: unterminated string literal (detected at line 3)         \n"
      ]
     },
     "metadata": {},
     "output_type": "display_data"
    },
    {
     "data": {
      "text/html": [
       "\n",
       "        <button\n",
       "            id='friendly-tb-btn-show1'\n",
       "            onclick='friendly_toggle_more1()'\n",
       "            style=''>\n",
       "        More ...\n",
       "        </button>\n",
       "        <script type=\"text/Javascript\"> function friendly_toggle_more1(){\n",
       "        var btn = document.getElementById('friendly-tb-btn-show1');\n",
       "        var btn_what = document.getElementById('friendly-tb-btn-show-what1');\n",
       "        var btn_where = document.getElementById('friendly-tb-btn-show-where1');\n",
       "        var btn_why = document.getElementById('friendly-tb-btn-show-why1');\n",
       "        ;\n",
       "        var message = document.getElementById('friendly-message1');\n",
       "        var friendly_tb_content = document.getElementById('friendly-tb-friendly_tb-content1');\n",
       "        var what_content = document.getElementById('friendly-tb-what-content1');\n",
       "        var why_content = document.getElementById('friendly-tb-why-content1');\n",
       "        var where_content = document.getElementById('friendly-tb-where-content1');\n",
       "        ;\n",
       "\n",
       "        if (btn_what.style.display == 'none'){\n",
       "            message.style.display = 'none';\n",
       "            btn_what.style.display = 'block';\n",
       "            btn_why.style.display = 'block';\n",
       "            btn_where.style.display = 'block';\n",
       "            friendly_tb_content.style.display = 'block';\n",
       "            ;\n",
       "            btn.textContent = \"Show message only\";\n",
       "            ;\n",
       "        } else {\n",
       "            btn_what.style.display = 'none';\n",
       "            btn_what.textContent = 'what()';\n",
       "            btn_why.style.display = 'none';\n",
       "            btn_why.textContent = 'why()';\n",
       "            btn_where.style.display = 'none';\n",
       "            btn_where.textContent = 'where()';\n",
       "            what_content.style.display = 'none';\n",
       "            why_content.style.display = 'none';\n",
       "            where_content.style.display = 'none';\n",
       "            ;\n",
       "            friendly_tb_content.style.display = 'none';\n",
       "            message.style.display = 'block';\n",
       "            btn.textContent = \"More ...\";\n",
       "            ;\n",
       "        }\n",
       "        };\n",
       "        </script>\n",
       "        "
      ]
     },
     "metadata": {},
     "output_type": "display_data"
    },
    {
     "data": {
      "text/html": [
       "<div id='friendly-tb-friendly_tb-content1' style='display:none'><pre style='white-space:pre;overflow-x:auto;line-height:normal'><span style=\"color: #101010; text-decoration-color: #101010; background-color: #ffffff\">  Code block </span><span style=\"color: #783114; text-decoration-color: #783114; background-color: #ffffff\">[</span><span style=\"color: #101010; text-decoration-color: #101010; background-color: #ffffff\">10</span><span style=\"color: #783114; text-decoration-color: #783114; background-color: #ffffff\">]</span><span style=\"color: #101010; text-decoration-color: #101010; background-color: #ffffff\">, line 3</span><span style=\"background-color: #ffffff\">                                                                           </span>\n",
       "<span style=\"color: #101010; text-decoration-color: #101010; background-color: #ffffff\">    </span><span style=\"color: #005500; text-decoration-color: #005500; background-color: #ffffff\">print</span><span style=\"color: #101010; text-decoration-color: #101010; background-color: #ffffff\"> </span><span style=\"color: #783114; text-decoration-color: #783114; background-color: #ffffff\">(</span><span style=\"color: #8b008b; text-decoration-color: #8b008b; background-color: #ffffff\">'Hi '</span><span style=\"color: #783114; text-decoration-color: #783114; background-color: #ffffff\">+</span><span style=\"color: #101010; text-decoration-color: #101010; background-color: #ffffff\"> </span><span style=\"color: #0011aa; text-decoration-color: #0011aa; background-color: #ffffff\">name</span><span style=\"color: #783114; text-decoration-color: #783114; background-color: #ffffff\">+</span><span style=\"color: #101010; text-decoration-color: #101010; background-color: #ffffff\"> </span><span style=\"color: #8b008b; text-decoration-color: #8b008b; background-color: #ffffff\">'!. This is the time now  + ct)</span><span style=\"background-color: #ffffff\">                                             </span>\n",
       "<span style=\"color: #101010; text-decoration-color: #101010; background-color: #ffffff\">                        </span><span style=\"color: #783114; text-decoration-color: #783114; background-color: #ffffff\">^</span><span style=\"background-color: #ffffff\">                                                                           </span>\n",
       "<span style=\"color: #dd0000; text-decoration-color: #dd0000; background-color: #ffffff\">SyntaxError</span><span style=\"color: #101010; text-decoration-color: #101010; background-color: #ffffff\">: </span><span style=\"color: #0011aa; text-decoration-color: #0011aa; background-color: #ffffff\">unterminated string literal (detected at line 3)</span><span style=\"background-color: #ffffff\">                                       </span>\n",
       "\n",
       "Did you forget a closing quote?                                                                     \n",
       "</pre></div>"
      ],
      "text/plain": [
       "\u001b[38;2;16;16;16;48;2;255;255;255m  Code block \u001b[0m\u001b[38;2;120;49;20;48;2;255;255;255m[\u001b[0m\u001b[38;2;16;16;16;48;2;255;255;255m10\u001b[0m\u001b[38;2;120;49;20;48;2;255;255;255m]\u001b[0m\u001b[38;2;16;16;16;48;2;255;255;255m, line \u001b[0m\u001b[38;2;16;16;16;48;2;255;255;255m3\u001b[0m\u001b[48;2;255;255;255m                                                                           \u001b[0m\n",
       "\u001b[38;2;16;16;16;48;2;255;255;255m    \u001b[0m\u001b[38;2;0;85;0;48;2;255;255;255mprint\u001b[0m\u001b[38;2;16;16;16;48;2;255;255;255m \u001b[0m\u001b[38;2;120;49;20;48;2;255;255;255m(\u001b[0m\u001b[38;2;139;0;139;48;2;255;255;255m'\u001b[0m\u001b[38;2;139;0;139;48;2;255;255;255mHi \u001b[0m\u001b[38;2;139;0;139;48;2;255;255;255m'\u001b[0m\u001b[38;2;120;49;20;48;2;255;255;255m+\u001b[0m\u001b[38;2;16;16;16;48;2;255;255;255m \u001b[0m\u001b[38;2;0;17;170;48;2;255;255;255mname\u001b[0m\u001b[38;2;120;49;20;48;2;255;255;255m+\u001b[0m\u001b[38;2;16;16;16;48;2;255;255;255m \u001b[0m\u001b[38;2;139;0;139;48;2;255;255;255m'\u001b[0m\u001b[38;2;139;0;139;48;2;255;255;255m!. This is the time now  + ct)\u001b[0m\u001b[48;2;255;255;255m                                             \u001b[0m\n",
       "\u001b[38;2;16;16;16;48;2;255;255;255m                        \u001b[0m\u001b[38;2;120;49;20;48;2;255;255;255m^\u001b[0m\u001b[48;2;255;255;255m                                                                           \u001b[0m\n",
       "\u001b[38;2;221;0;0;48;2;255;255;255mSyntaxError\u001b[0m\u001b[38;2;16;16;16;48;2;255;255;255m: \u001b[0m\u001b[38;2;0;17;170;48;2;255;255;255munterminated string literal (detected at line 3)\u001b[0m\u001b[48;2;255;255;255m                                       \u001b[0m\n",
       "\n",
       "Did you forget a closing quote?                                                                     \n"
      ]
     },
     "metadata": {},
     "output_type": "display_data"
    },
    {
     "data": {
      "text/html": [
       "<script type=\"text/Javascript\"> function toggle_what1(){\n",
       "     var content = document.getElementById('friendly-tb-what-content1');\n",
       "     var btn = document.getElementById('friendly-tb-btn-show-what1');\n",
       "        if (content.style.display === 'none') {\n",
       "            content.style.display = 'block';\n",
       "            btn.textContent = \"Hide what()\";\n",
       "        } else {\n",
       "            content.style.display = 'none';\n",
       "            btn.textContent = \"what()\";\n",
       "       }\n",
       "    }\n",
       "     </script>\n",
       "     <button\n",
       "         id='friendly-tb-btn-show-what1'\n",
       "         onclick='toggle_what1()'\n",
       "         style='display:none '>\n",
       "     what()\n",
       "     </button>\n",
       "    "
      ]
     },
     "metadata": {},
     "output_type": "display_data"
    },
    {
     "data": {
      "text/html": [
       "<div id='friendly-tb-what-content1' style='display:none'><pre style='white-space:pre;overflow-x:auto;line-height:normal'>A <span style=\"color: #dd0000; text-decoration-color: #dd0000; background-color: #ffffff\">SyntaxError</span> occurs when Python cannot understand your code.         \n",
       "</pre></div>"
      ],
      "text/plain": [
       "A \u001b[38;2;221;0;0;48;2;255;255;255mSyntaxError\u001b[0m occurs when Python cannot understand your code.         \n"
      ]
     },
     "metadata": {},
     "output_type": "display_data"
    },
    {
     "data": {
      "text/html": [
       "<script type=\"text/Javascript\"> function toggle_why1(){\n",
       "     var content = document.getElementById('friendly-tb-why-content1');\n",
       "     var btn = document.getElementById('friendly-tb-btn-show-why1');\n",
       "        if (content.style.display === 'none') {\n",
       "            content.style.display = 'block';\n",
       "            btn.textContent = \"Hide why()\";\n",
       "        } else {\n",
       "            content.style.display = 'none';\n",
       "            btn.textContent = \"why()\";\n",
       "       }\n",
       "    }\n",
       "     </script>\n",
       "     <button\n",
       "         id='friendly-tb-btn-show-why1'\n",
       "         onclick='toggle_why1()'\n",
       "         style='display:none '>\n",
       "     why()\n",
       "     </button>\n",
       "    "
      ]
     },
     "metadata": {},
     "output_type": "display_data"
    },
    {
     "data": {
      "text/html": [
       "<div id='friendly-tb-why-content1' style='display:none'><pre style='white-space:pre;overflow-x:auto;line-height:normal'>You started writing a string with a single or double quote but never  \n",
       "ended the string with another quote on that line.                     \n",
       "</pre></div>"
      ],
      "text/plain": [
       "You started writing a string with a single or double quote but never  \n",
       "ended the string with another quote on that line.                     \n"
      ]
     },
     "metadata": {},
     "output_type": "display_data"
    },
    {
     "data": {
      "text/html": [
       "<script type=\"text/Javascript\"> function toggle_where1(){\n",
       "     var content = document.getElementById('friendly-tb-where-content1');\n",
       "     var btn = document.getElementById('friendly-tb-btn-show-where1');\n",
       "        if (content.style.display === 'none') {\n",
       "            content.style.display = 'block';\n",
       "            btn.textContent = \"Hide where()\";\n",
       "        } else {\n",
       "            content.style.display = 'none';\n",
       "            btn.textContent = \"where()\";\n",
       "       }\n",
       "    }\n",
       "     </script>\n",
       "     <button\n",
       "         id='friendly-tb-btn-show-where1'\n",
       "         onclick='toggle_where1()'\n",
       "         style='display:none '>\n",
       "     where()\n",
       "     </button>\n",
       "    "
      ]
     },
     "metadata": {},
     "output_type": "display_data"
    },
    {
     "data": {
      "text/html": [
       "<div id='friendly-tb-where-content1' style='display:none'><pre style='white-space:pre;overflow-x:auto;line-height:normal'>Python could not understand the code in the code block <span style=\"color: #783114; text-decoration-color: #783114; background-color: #ffffff\">[</span><span style=\"color: #101010; text-decoration-color: #101010; background-color: #ffffff\">10</span><span style=\"color: #783114; text-decoration-color: #783114; background-color: #ffffff\">]</span> at the location indicated.              \n",
       "\n",
       "<span style=\"color: #808080; text-decoration-color: #808080; background-color: #ffffff\">       3|</span><span style=\"color: #005500; text-decoration-color: #005500; background-color: #ffffff\"> print</span><span style=\"color: #783114; text-decoration-color: #783114; background-color: #ffffff\"> (</span><span style=\"color: #8b008b; text-decoration-color: #8b008b; background-color: #ffffff\">'Hi '</span><span style=\"color: #783114; text-decoration-color: #783114; background-color: #ffffff\">+</span><span style=\"color: #0011aa; text-decoration-color: #0011aa; background-color: #ffffff\"> name</span><span style=\"color: #783114; text-decoration-color: #783114; background-color: #ffffff\">+</span><span style=\"color: #808080; text-decoration-color: #808080; background-color: #ffffff\"> </span><span style=\"color: #ffffff; text-decoration-color: #ffffff; background-color: #cc0000\">'</span><span style=\"color: #0011aa; text-decoration-color: #0011aa; background-color: #ffffff\">!</span><span style=\"color: #783114; text-decoration-color: #783114; background-color: #ffffff\">.</span><span style=\"color: #0011aa; text-decoration-color: #0011aa; background-color: #ffffff\"> This</span><span style=\"color: #005500; text-decoration-color: #005500; background-color: #ffffff\"> is</span><span style=\"color: #0011aa; text-decoration-color: #0011aa; background-color: #ffffff\"> the time now</span><span style=\"color: #783114; text-decoration-color: #783114; background-color: #ffffff\">  +</span><span style=\"color: #0011aa; text-decoration-color: #0011aa; background-color: #ffffff\"> ct</span><span style=\"color: #783114; text-decoration-color: #783114; background-color: #ffffff\">)</span>\n",
       "</pre></div>"
      ],
      "text/plain": [
       "Python could not understand the code in the code block \u001b[38;2;120;49;20;48;2;255;255;255m[\u001b[0m\u001b[38;2;16;16;16;48;2;255;255;255m10\u001b[0m\u001b[38;2;120;49;20;48;2;255;255;255m]\u001b[0m at the location indicated.              \n",
       "\n",
       "\u001b[38;2;128;128;128;48;2;255;255;255m       3|\u001b[0m\u001b[38;2;0;85;0;48;2;255;255;255m print\u001b[0m\u001b[38;2;120;49;20;48;2;255;255;255m (\u001b[0m\u001b[38;2;139;0;139;48;2;255;255;255m'Hi '\u001b[0m\u001b[38;2;120;49;20;48;2;255;255;255m+\u001b[0m\u001b[38;2;0;17;170;48;2;255;255;255m name\u001b[0m\u001b[38;2;120;49;20;48;2;255;255;255m+\u001b[0m\u001b[38;2;128;128;128;48;2;255;255;255m \u001b[0m\u001b[38;2;255;255;255;48;2;204;0;0m'\u001b[0m\u001b[38;2;0;17;170;48;2;255;255;255m!\u001b[0m\u001b[38;2;120;49;20;48;2;255;255;255m.\u001b[0m\u001b[38;2;0;17;170;48;2;255;255;255m This\u001b[0m\u001b[38;2;0;85;0;48;2;255;255;255m is\u001b[0m\u001b[38;2;0;17;170;48;2;255;255;255m the\u001b[0m\u001b[38;2;0;17;170;48;2;255;255;255m time\u001b[0m\u001b[38;2;0;17;170;48;2;255;255;255m now\u001b[0m\u001b[38;2;120;49;20;48;2;255;255;255m  +\u001b[0m\u001b[38;2;0;17;170;48;2;255;255;255m ct\u001b[0m\u001b[38;2;120;49;20;48;2;255;255;255m)\u001b[0m\n"
      ]
     },
     "metadata": {},
     "output_type": "display_data"
    }
   ],
   "source": [
    "from friendly.jupyter import Friendly"
   ]
  },
  {
   "cell_type": "code",
   "execution_count": 10,
   "id": "a0e34938",
   "metadata": {
    "scrolled": true
   },
   "outputs": [
    {
     "ename": "SyntaxError",
     "evalue": "unterminated string literal (detected at line 3) (3090461661.py, line 3)",
     "output_type": "error",
     "traceback": [
      "\u001b[0;36m  Cell \u001b[0;32mIn [10], line 3\u001b[0;36m\u001b[0m\n\u001b[0;31m    print ('Hi '+ name+ '!. This is the time now  + ct)\u001b[0m\n\u001b[0m                        ^\u001b[0m\n\u001b[0;31mSyntaxError\u001b[0m\u001b[0;31m:\u001b[0m unterminated string literal (detected at line 3)\n"
     ]
    }
   ],
   "source": [
    "name = input (\"Hi, whats your name ? \")\n",
    "ct = datetime.datetime.now()\n",
    "print ('Hi '+ name+ '!. This is the time now  + ct)"
   ]
  },
  {
   "cell_type": "code",
   "execution_count": 2,
   "id": "fd218aeb",
   "metadata": {},
   "outputs": [
    {
     "name": "stdout",
     "output_type": "stream",
     "text": [
      "Hi, Whats your name ?Bob\n",
      "Hello Bob\n"
     ]
    }
   ],
   "source": [
    "name = input (\"Hi, Whats your name ?\")\n",
    "if name in ('Bob','Alex', 'Caty', 'Pam'):\n",
    "    print ('Hello '+ name)\n",
    "    \n",
    "else:\n",
    "    print ('What are you doing here? Get off my lawn, ', name)"
   ]
  },
  {
   "cell_type": "code",
   "execution_count": 11,
   "id": "8dbaa98a",
   "metadata": {},
   "outputs": [
    {
     "name": "stdout",
     "output_type": "stream",
     "text": [
      "Enter your guess number: 9\n",
      "Oops too high. The number was : 67\n"
     ]
    }
   ],
   "source": [
    "import random\n",
    "number = str(random.randint(0,100))\n",
    "userinput = input('Enter your guess number: ')\n",
    "if number > userinput:\n",
    "    print ('Oops too low. The number was :'+ number)\n",
    "elif number < userinput:\n",
    "    print ('Oops too high. The number was : '+ number)\n",
    "else:\n",
    "    print ('Whoa!')"
   ]
  },
  {
   "cell_type": "code",
   "execution_count": 5,
   "id": "1686f392",
   "metadata": {},
   "outputs": [
    {
     "name": "stdout",
     "output_type": "stream",
     "text": [
      "friendly_traceback 0.6.0; friendly 0.6.0.\n",
      "Type 'Friendly' for basic help.\n",
      "An exception occurred before friendly-traceback was imported.\n",
      "Some information is available.\n"
     ]
    },
    {
     "data": {
      "text/html": [
       "<div id='friendly-message1'><pre style='white-space:pre;overflow-x:auto;line-height:normal'><span style=\"color: #dd0000; text-decoration-color: #dd0000; background-color: #ffffff\">TypeError</span>: can only concatenate str (not \"int\") to str                \n",
       "</pre></div>"
      ],
      "text/plain": [
       "\u001b[38;2;221;0;0;48;2;255;255;255mTypeError\u001b[0m: can only concatenate str (not \"int\") to str                \n"
      ]
     },
     "metadata": {},
     "output_type": "display_data"
    },
    {
     "data": {
      "text/html": [
       "\n",
       "        <button\n",
       "            id='friendly-tb-btn-show1'\n",
       "            onclick='friendly_toggle_more1()'\n",
       "            style=''>\n",
       "        More ...\n",
       "        </button>\n",
       "        <script type=\"text/Javascript\"> function friendly_toggle_more1(){\n",
       "        var btn = document.getElementById('friendly-tb-btn-show1');\n",
       "        var btn_what = document.getElementById('friendly-tb-btn-show-what1');\n",
       "        var btn_where = document.getElementById('friendly-tb-btn-show-where1');\n",
       "        var btn_why = document.getElementById('friendly-tb-btn-show-why1');\n",
       "        ;\n",
       "        var message = document.getElementById('friendly-message1');\n",
       "        var friendly_tb_content = document.getElementById('friendly-tb-friendly_tb-content1');\n",
       "        var what_content = document.getElementById('friendly-tb-what-content1');\n",
       "        var why_content = document.getElementById('friendly-tb-why-content1');\n",
       "        var where_content = document.getElementById('friendly-tb-where-content1');\n",
       "        ;\n",
       "\n",
       "        if (btn_what.style.display == 'none'){\n",
       "            message.style.display = 'none';\n",
       "            btn_what.style.display = 'block';\n",
       "            btn_why.style.display = 'block';\n",
       "            btn_where.style.display = 'block';\n",
       "            friendly_tb_content.style.display = 'block';\n",
       "            ;\n",
       "            btn.textContent = \"Show message only\";\n",
       "            ;\n",
       "        } else {\n",
       "            btn_what.style.display = 'none';\n",
       "            btn_what.textContent = 'what()';\n",
       "            btn_why.style.display = 'none';\n",
       "            btn_why.textContent = 'why()';\n",
       "            btn_where.style.display = 'none';\n",
       "            btn_where.textContent = 'where()';\n",
       "            what_content.style.display = 'none';\n",
       "            why_content.style.display = 'none';\n",
       "            where_content.style.display = 'none';\n",
       "            ;\n",
       "            friendly_tb_content.style.display = 'none';\n",
       "            message.style.display = 'block';\n",
       "            btn.textContent = \"More ...\";\n",
       "            ;\n",
       "        }\n",
       "        };\n",
       "        </script>\n",
       "        "
      ]
     },
     "metadata": {},
     "output_type": "display_data"
    },
    {
     "data": {
      "text/html": [
       "<div id='friendly-tb-friendly_tb-content1' style='display:none'><pre style='white-space:pre;overflow-x:auto;line-height:normal'><span style=\"color: #dd0000; text-decoration-color: #dd0000; background-color: #ffffff\">Traceback (most recent call last):</span><span style=\"background-color: #ffffff\">                                                                  </span>\n",
       "<span style=\"color: #101010; text-decoration-color: #101010; background-color: #ffffff\">  Code block </span><span style=\"color: #783114; text-decoration-color: #783114; background-color: #ffffff\">[</span><span style=\"color: #101010; text-decoration-color: #101010; background-color: #ffffff\">4</span><span style=\"color: #783114; text-decoration-color: #783114; background-color: #ffffff\">]</span><span style=\"color: #101010; text-decoration-color: #101010; background-color: #ffffff\">, line 7</span><span style=\"background-color: #ffffff\">                                                                            </span>\n",
       "<span style=\"color: #101010; text-decoration-color: #101010; background-color: #ffffff\">    </span><span style=\"color: #005500; text-decoration-color: #005500; background-color: #ffffff\">print</span><span style=\"color: #101010; text-decoration-color: #101010; background-color: #ffffff\"> </span><span style=\"color: #783114; text-decoration-color: #783114; background-color: #ffffff\">(</span><span style=\"color: #8b008b; text-decoration-color: #8b008b; background-color: #ffffff\">'Oops too high. The number was : '</span><span style=\"color: #783114; text-decoration-color: #783114; background-color: #ffffff\">+</span><span style=\"color: #101010; text-decoration-color: #101010; background-color: #ffffff\"> </span><span style=\"color: #0011aa; text-decoration-color: #0011aa; background-color: #ffffff\">number</span><span style=\"color: #783114; text-decoration-color: #783114; background-color: #ffffff\">)</span><span style=\"background-color: #ffffff\">                                              </span>\n",
       "<span style=\"color: #dd0000; text-decoration-color: #dd0000; background-color: #ffffff\">TypeError</span><span style=\"color: #101010; text-decoration-color: #101010; background-color: #ffffff\">: </span><span style=\"color: #0011aa; text-decoration-color: #0011aa; background-color: #ffffff\">can only concatenate str (not \"int\") to str</span><span style=\"background-color: #ffffff\">                                              </span>\n",
       "</pre></div>"
      ],
      "text/plain": [
       "\u001b[38;2;221;0;0;48;2;255;255;255mTraceback (most recent call last):\u001b[0m\u001b[48;2;255;255;255m                                                                  \u001b[0m\n",
       "\u001b[38;2;16;16;16;48;2;255;255;255m  Code block \u001b[0m\u001b[38;2;120;49;20;48;2;255;255;255m[\u001b[0m\u001b[38;2;16;16;16;48;2;255;255;255m4\u001b[0m\u001b[38;2;120;49;20;48;2;255;255;255m]\u001b[0m\u001b[38;2;16;16;16;48;2;255;255;255m, line \u001b[0m\u001b[38;2;16;16;16;48;2;255;255;255m7\u001b[0m\u001b[48;2;255;255;255m                                                                            \u001b[0m\n",
       "\u001b[38;2;16;16;16;48;2;255;255;255m    \u001b[0m\u001b[38;2;0;85;0;48;2;255;255;255mprint\u001b[0m\u001b[38;2;16;16;16;48;2;255;255;255m \u001b[0m\u001b[38;2;120;49;20;48;2;255;255;255m(\u001b[0m\u001b[38;2;139;0;139;48;2;255;255;255m'\u001b[0m\u001b[38;2;139;0;139;48;2;255;255;255mOops too high. The number was : \u001b[0m\u001b[38;2;139;0;139;48;2;255;255;255m'\u001b[0m\u001b[38;2;120;49;20;48;2;255;255;255m+\u001b[0m\u001b[38;2;16;16;16;48;2;255;255;255m \u001b[0m\u001b[38;2;0;17;170;48;2;255;255;255mnumber\u001b[0m\u001b[38;2;120;49;20;48;2;255;255;255m)\u001b[0m\u001b[48;2;255;255;255m                                              \u001b[0m\n",
       "\u001b[38;2;221;0;0;48;2;255;255;255mTypeError\u001b[0m\u001b[38;2;16;16;16;48;2;255;255;255m: \u001b[0m\u001b[38;2;0;17;170;48;2;255;255;255mcan only concatenate str (not \"int\") to str\u001b[0m\u001b[48;2;255;255;255m                                              \u001b[0m\n"
      ]
     },
     "metadata": {},
     "output_type": "display_data"
    },
    {
     "data": {
      "text/html": [
       "<script type=\"text/Javascript\"> function toggle_what1(){\n",
       "     var content = document.getElementById('friendly-tb-what-content1');\n",
       "     var btn = document.getElementById('friendly-tb-btn-show-what1');\n",
       "        if (content.style.display === 'none') {\n",
       "            content.style.display = 'block';\n",
       "            btn.textContent = \"Hide what()\";\n",
       "        } else {\n",
       "            content.style.display = 'none';\n",
       "            btn.textContent = \"what()\";\n",
       "       }\n",
       "    }\n",
       "     </script>\n",
       "     <button\n",
       "         id='friendly-tb-btn-show-what1'\n",
       "         onclick='toggle_what1()'\n",
       "         style='display:none '>\n",
       "     what()\n",
       "     </button>\n",
       "    "
      ]
     },
     "metadata": {},
     "output_type": "display_data"
    },
    {
     "data": {
      "text/html": [
       "<div id='friendly-tb-what-content1' style='display:none'><pre style='white-space:pre;overflow-x:auto;line-height:normal'>A <span style=\"color: #dd0000; text-decoration-color: #dd0000; background-color: #ffffff\">TypeError</span> is usually caused by trying to combine two incompatible   \n",
       "types of objects, by calling a function with the wrong type of object,\n",
       "or by trying to do an operation not allowed on a given type of object.\n",
       "</pre></div>"
      ],
      "text/plain": [
       "A \u001b[38;2;221;0;0;48;2;255;255;255mTypeError\u001b[0m is usually caused by trying to combine two incompatible   \n",
       "types of objects, by calling a function with the wrong type of object,\n",
       "or by trying to do an operation not allowed on a given type of object.\n"
      ]
     },
     "metadata": {},
     "output_type": "display_data"
    },
    {
     "data": {
      "text/html": [
       "<script type=\"text/Javascript\"> function toggle_why1(){\n",
       "     var content = document.getElementById('friendly-tb-why-content1');\n",
       "     var btn = document.getElementById('friendly-tb-btn-show-why1');\n",
       "        if (content.style.display === 'none') {\n",
       "            content.style.display = 'block';\n",
       "            btn.textContent = \"Hide why()\";\n",
       "        } else {\n",
       "            content.style.display = 'none';\n",
       "            btn.textContent = \"why()\";\n",
       "       }\n",
       "    }\n",
       "     </script>\n",
       "     <button\n",
       "         id='friendly-tb-btn-show-why1'\n",
       "         onclick='toggle_why1()'\n",
       "         style='display:none '>\n",
       "     why()\n",
       "     </button>\n",
       "    "
      ]
     },
     "metadata": {},
     "output_type": "display_data"
    },
    {
     "data": {
      "text/html": [
       "<div id='friendly-tb-why-content1' style='display:none'><pre style='white-space:pre;overflow-x:auto;line-height:normal'>You tried to concatenate (add) two different types of objects: a      \n",
       "string (<span style=\"color: #005500; text-decoration-color: #005500; background-color: #ffffff\">str</span>) and an integer (<span style=\"color: #005500; text-decoration-color: #005500; background-color: #ffffff\">int</span>).                                    \n",
       "</pre></div>"
      ],
      "text/plain": [
       "You tried to concatenate (add) two different types of objects: a      \n",
       "string (\u001b[38;2;0;85;0;48;2;255;255;255mstr\u001b[0m) and an integer (\u001b[38;2;0;85;0;48;2;255;255;255mint\u001b[0m).                                    \n"
      ]
     },
     "metadata": {},
     "output_type": "display_data"
    },
    {
     "data": {
      "text/html": [
       "<script type=\"text/Javascript\"> function toggle_where1(){\n",
       "     var content = document.getElementById('friendly-tb-where-content1');\n",
       "     var btn = document.getElementById('friendly-tb-btn-show-where1');\n",
       "        if (content.style.display === 'none') {\n",
       "            content.style.display = 'block';\n",
       "            btn.textContent = \"Hide where()\";\n",
       "        } else {\n",
       "            content.style.display = 'none';\n",
       "            btn.textContent = \"where()\";\n",
       "       }\n",
       "    }\n",
       "     </script>\n",
       "     <button\n",
       "         id='friendly-tb-btn-show-where1'\n",
       "         onclick='toggle_where1()'\n",
       "         style='display:none '>\n",
       "     where()\n",
       "     </button>\n",
       "    "
      ]
     },
     "metadata": {},
     "output_type": "display_data"
    },
    {
     "data": {
      "text/html": [
       "<div id='friendly-tb-where-content1' style='display:none'><pre style='white-space:pre;overflow-x:auto;line-height:normal'><span style=\"color: #dd0000; text-decoration-color: #dd0000\">Exception raised on line 7 of code block </span><span style=\"color: #783114; text-decoration-color: #783114; background-color: #ffffff\">[</span><span style=\"color: #101010; text-decoration-color: #101010; background-color: #ffffff\">4</span><span style=\"color: #783114; text-decoration-color: #783114; background-color: #ffffff\">]</span><span style=\"color: #dd0000; text-decoration-color: #dd0000\">.</span>                                                       \n",
       "\n",
       "<span style=\"color: #808080; text-decoration-color: #808080; background-color: #ffffff\">       4|</span><span style=\"color: #0011aa; text-decoration-color: #0011aa; background-color: #ffffff\"> </span><span style=\"color: #005500; text-decoration-color: #005500; background-color: #ffffff\">if</span><span style=\"color: #0011aa; text-decoration-color: #0011aa; background-color: #ffffff\"> number</span><span style=\"color: #783114; text-decoration-color: #783114; background-color: #ffffff\"> &gt;</span><span style=\"color: #0011aa; text-decoration-color: #0011aa; background-color: #ffffff\"> userinput</span><span style=\"color: #783114; text-decoration-color: #783114; background-color: #ffffff\">:</span>\n",
       "<span style=\"color: #808080; text-decoration-color: #808080; background-color: #ffffff\">       5|</span><span style=\"color: #0011aa; text-decoration-color: #0011aa; background-color: #ffffff\">     </span><span style=\"color: #005500; text-decoration-color: #005500; background-color: #ffffff\">print</span><span style=\"color: #783114; text-decoration-color: #783114; background-color: #ffffff\"> (</span><span style=\"color: #8b008b; text-decoration-color: #8b008b; background-color: #ffffff\">'Oops too low. The number was :'</span><span style=\"color: #783114; text-decoration-color: #783114; background-color: #ffffff\">+</span><span style=\"color: #0011aa; text-decoration-color: #0011aa; background-color: #ffffff\"> number</span><span style=\"color: #783114; text-decoration-color: #783114; background-color: #ffffff\">)</span>\n",
       "<span style=\"color: #808080; text-decoration-color: #808080; background-color: #ffffff\">       6|</span><span style=\"color: #0011aa; text-decoration-color: #0011aa; background-color: #ffffff\"> </span><span style=\"color: #005500; text-decoration-color: #005500; background-color: #ffffff\">elif</span><span style=\"color: #0011aa; text-decoration-color: #0011aa; background-color: #ffffff\"> number</span><span style=\"color: #783114; text-decoration-color: #783114; background-color: #ffffff\"> &lt;</span><span style=\"color: #0011aa; text-decoration-color: #0011aa; background-color: #ffffff\"> userinput</span><span style=\"color: #783114; text-decoration-color: #783114; background-color: #ffffff\">:</span>\n",
       "<span style=\"color: #783114; text-decoration-color: #783114; background-color: #ffffff\">     &gt; </span><span style=\"color: #101010; text-decoration-color: #101010; background-color: #ffffff\">7|</span><span style=\"color: #005500; text-decoration-color: #005500; background-color: #ffffff\">     print</span><span style=\"color: #783114; text-decoration-color: #783114; background-color: #ffffff\"> (</span><span style=\"color: #ffffff; text-decoration-color: #ffffff; background-color: #cc0000\">'Oops too high. The number was : '+ number</span><span style=\"color: #783114; text-decoration-color: #783114; background-color: #ffffff\">)</span>\n",
       "<span style=\"color: #808080; text-decoration-color: #808080; background-color: #ffffff\">       8|</span><span style=\"color: #0011aa; text-decoration-color: #0011aa; background-color: #ffffff\"> </span><span style=\"color: #005500; text-decoration-color: #005500; background-color: #ffffff\">else</span><span style=\"color: #783114; text-decoration-color: #783114; background-color: #ffffff\">:</span>\n",
       "\n",
       "<span style=\"color: #101010; text-decoration-color: #101010; background-color: #ffffff\">    </span><span style=\"color: #0011aa; text-decoration-color: #0011aa; background-color: #ffffff\">number</span><span style=\"color: #783114; text-decoration-color: #783114; background-color: #ffffff\">:</span><span style=\"color: #101010; text-decoration-color: #101010; background-color: #ffffff\">  22</span><span style=\"background-color: #ffffff\">                                                                                     </span>\n",
       "</pre></div>"
      ],
      "text/plain": [
       "\u001b[38;2;221;0;0mException raised on line 7 of code block \u001b[0m\u001b[38;2;120;49;20;48;2;255;255;255m[\u001b[0m\u001b[38;2;16;16;16;48;2;255;255;255m4\u001b[0m\u001b[38;2;120;49;20;48;2;255;255;255m]\u001b[0m\u001b[38;2;221;0;0m.\u001b[0m                                                       \n",
       "\n",
       "\u001b[38;2;128;128;128;48;2;255;255;255m       4|\u001b[0m\u001b[38;2;0;17;170;48;2;255;255;255m \u001b[0m\u001b[38;2;0;85;0;48;2;255;255;255mif\u001b[0m\u001b[38;2;0;17;170;48;2;255;255;255m number\u001b[0m\u001b[38;2;120;49;20;48;2;255;255;255m >\u001b[0m\u001b[38;2;0;17;170;48;2;255;255;255m userinput\u001b[0m\u001b[38;2;120;49;20;48;2;255;255;255m:\u001b[0m\n",
       "\u001b[38;2;128;128;128;48;2;255;255;255m       5|\u001b[0m\u001b[38;2;0;17;170;48;2;255;255;255m     \u001b[0m\u001b[38;2;0;85;0;48;2;255;255;255mprint\u001b[0m\u001b[38;2;120;49;20;48;2;255;255;255m (\u001b[0m\u001b[38;2;139;0;139;48;2;255;255;255m'Oops too low. The number was :'\u001b[0m\u001b[38;2;120;49;20;48;2;255;255;255m+\u001b[0m\u001b[38;2;0;17;170;48;2;255;255;255m number\u001b[0m\u001b[38;2;120;49;20;48;2;255;255;255m)\u001b[0m\n",
       "\u001b[38;2;128;128;128;48;2;255;255;255m       6|\u001b[0m\u001b[38;2;0;17;170;48;2;255;255;255m \u001b[0m\u001b[38;2;0;85;0;48;2;255;255;255melif\u001b[0m\u001b[38;2;0;17;170;48;2;255;255;255m number\u001b[0m\u001b[38;2;120;49;20;48;2;255;255;255m <\u001b[0m\u001b[38;2;0;17;170;48;2;255;255;255m userinput\u001b[0m\u001b[38;2;120;49;20;48;2;255;255;255m:\u001b[0m\n",
       "\u001b[38;2;120;49;20;48;2;255;255;255m     > \u001b[0m\u001b[38;2;16;16;16;48;2;255;255;255m7|\u001b[0m\u001b[38;2;0;85;0;48;2;255;255;255m     print\u001b[0m\u001b[38;2;120;49;20;48;2;255;255;255m (\u001b[0m\u001b[38;2;255;255;255;48;2;204;0;0m'Oops too high. The number was : '\u001b[0m\u001b[38;2;255;255;255;48;2;204;0;0m+\u001b[0m\u001b[38;2;255;255;255;48;2;204;0;0m number\u001b[0m\u001b[38;2;120;49;20;48;2;255;255;255m)\u001b[0m\n",
       "\u001b[38;2;128;128;128;48;2;255;255;255m       8|\u001b[0m\u001b[38;2;0;17;170;48;2;255;255;255m \u001b[0m\u001b[38;2;0;85;0;48;2;255;255;255melse\u001b[0m\u001b[38;2;120;49;20;48;2;255;255;255m:\u001b[0m\n",
       "\n",
       "\u001b[38;2;16;16;16;48;2;255;255;255m    \u001b[0m\u001b[38;2;0;17;170;48;2;255;255;255mnumber\u001b[0m\u001b[38;2;120;49;20;48;2;255;255;255m:\u001b[0m\u001b[38;2;16;16;16;48;2;255;255;255m  \u001b[0m\u001b[38;2;16;16;16;48;2;255;255;255m22\u001b[0m\u001b[48;2;255;255;255m                                                                                     \u001b[0m\n"
      ]
     },
     "metadata": {},
     "output_type": "display_data"
    }
   ],
   "source": [
    "from friendly.jupyter import Friendly\n"
   ]
  },
  {
   "cell_type": "code",
   "execution_count": 27,
   "id": "4a543f14",
   "metadata": {},
   "outputs": [
    {
     "name": "stdout",
     "output_type": "stream",
     "text": [
      "Enter a word: together\n",
      "enter an index for this word: 3\n",
      "The 3th letter in TOGETHER is e\n"
     ]
    }
   ],
   "source": [
    "s = input('Enter a word: ')\n",
    "n = int(input ('enter an index for this word: '))\n",
    "if n>len(s):\n",
    "    print('We dont have enough letters')\n",
    "elif n<0:\n",
    "    print('No negative indexes please')\n",
    "elif n==2:\n",
    "    print ('#1 was running')\n",
    "    print ('The '+ str(n)+'nd letter in '+ s.upper() +' is '+ s[n])\n",
    "elif n==1:    \n",
    "    print('#2 was being executed')\n",
    "    print (f'The {n}st letter in {s.upper()} is {s[n]}')\n",
    "else:\n",
    "     print(f'The {n}th letter in { s.upper() } is {s[n]}')"
   ]
  },
  {
   "cell_type": "code",
   "execution_count": 17,
   "id": "7d88e88d",
   "metadata": {
    "scrolled": true
   },
   "outputs": [
    {
     "name": "stdout",
     "output_type": "stream",
     "text": [
      "enter your word tournament\n"
     ]
    },
    {
     "data": {
      "text/html": [
       "<div id='friendly-message12'><pre style='white-space:pre;overflow-x:auto;line-height:normal'><span style=\"color: #dd0000; text-decoration-color: #dd0000; background-color: #ffffff\">TypeError</span>: 'str' object does not support item assignment              \n",
       "</pre></div>"
      ],
      "text/plain": [
       "\u001b[38;2;221;0;0;48;2;255;255;255mTypeError\u001b[0m: 'str' object does not support item assignment              \n"
      ]
     },
     "metadata": {},
     "output_type": "display_data"
    },
    {
     "data": {
      "text/html": [
       "\n",
       "        <button\n",
       "            id='friendly-tb-btn-show12'\n",
       "            onclick='friendly_toggle_more12()'\n",
       "            style=''>\n",
       "        More ...\n",
       "        </button>\n",
       "        <script type=\"text/Javascript\"> function friendly_toggle_more12(){\n",
       "        var btn = document.getElementById('friendly-tb-btn-show12');\n",
       "        var btn_what = document.getElementById('friendly-tb-btn-show-what12');\n",
       "        var btn_where = document.getElementById('friendly-tb-btn-show-where12');\n",
       "        var btn_why = document.getElementById('friendly-tb-btn-show-why12');\n",
       "        ;\n",
       "        var message = document.getElementById('friendly-message12');\n",
       "        var friendly_tb_content = document.getElementById('friendly-tb-friendly_tb-content12');\n",
       "        var what_content = document.getElementById('friendly-tb-what-content12');\n",
       "        var why_content = document.getElementById('friendly-tb-why-content12');\n",
       "        var where_content = document.getElementById('friendly-tb-where-content12');\n",
       "        ;\n",
       "\n",
       "        if (btn_what.style.display == 'none'){\n",
       "            message.style.display = 'none';\n",
       "            btn_what.style.display = 'block';\n",
       "            btn_why.style.display = 'block';\n",
       "            btn_where.style.display = 'block';\n",
       "            friendly_tb_content.style.display = 'block';\n",
       "            ;\n",
       "            btn.textContent = \"Show message only\";\n",
       "            ;\n",
       "        } else {\n",
       "            btn_what.style.display = 'none';\n",
       "            btn_what.textContent = 'what()';\n",
       "            btn_why.style.display = 'none';\n",
       "            btn_why.textContent = 'why()';\n",
       "            btn_where.style.display = 'none';\n",
       "            btn_where.textContent = 'where()';\n",
       "            what_content.style.display = 'none';\n",
       "            why_content.style.display = 'none';\n",
       "            where_content.style.display = 'none';\n",
       "            ;\n",
       "            friendly_tb_content.style.display = 'none';\n",
       "            message.style.display = 'block';\n",
       "            btn.textContent = \"More ...\";\n",
       "            ;\n",
       "        }\n",
       "        };\n",
       "        </script>\n",
       "        "
      ]
     },
     "metadata": {},
     "output_type": "display_data"
    },
    {
     "data": {
      "text/html": [
       "<div id='friendly-tb-friendly_tb-content12' style='display:none'><pre style='white-space:pre;overflow-x:auto;line-height:normal'><span style=\"color: #dd0000; text-decoration-color: #dd0000; background-color: #ffffff\">Traceback (most recent call last):</span><span style=\"background-color: #ffffff\">                                                                  </span>\n",
       "<span style=\"color: #101010; text-decoration-color: #101010; background-color: #ffffff\">  Code block </span><span style=\"color: #783114; text-decoration-color: #783114; background-color: #ffffff\">[</span><span style=\"color: #101010; text-decoration-color: #101010; background-color: #ffffff\">17</span><span style=\"color: #783114; text-decoration-color: #783114; background-color: #ffffff\">]</span><span style=\"color: #101010; text-decoration-color: #101010; background-color: #ffffff\">, line 5</span><span style=\"background-color: #ffffff\">                                                                           </span>\n",
       "<span style=\"color: #101010; text-decoration-color: #101010; background-color: #ffffff\">    </span><span style=\"color: #0011aa; text-decoration-color: #0011aa; background-color: #ffffff\">new_word</span><span style=\"color: #783114; text-decoration-color: #783114; background-color: #ffffff\">[</span><span style=\"color: #005500; text-decoration-color: #005500; background-color: #ffffff\">len</span><span style=\"color: #783114; text-decoration-color: #783114; background-color: #ffffff\">(</span><span style=\"color: #0011aa; text-decoration-color: #0011aa; background-color: #ffffff\">word</span><span style=\"color: #783114; text-decoration-color: #783114; background-color: #ffffff\">)-</span><span style=\"color: #101010; text-decoration-color: #101010; background-color: #ffffff\">1</span><span style=\"color: #783114; text-decoration-color: #783114; background-color: #ffffff\">]=</span><span style=\"color: #0011aa; text-decoration-color: #0011aa; background-color: #ffffff\">word</span><span style=\"color: #783114; text-decoration-color: #783114; background-color: #ffffff\">[</span><span style=\"color: #101010; text-decoration-color: #101010; background-color: #ffffff\">0</span><span style=\"color: #783114; text-decoration-color: #783114; background-color: #ffffff\">]</span><span style=\"background-color: #ffffff\">                                                                   </span>\n",
       "<span style=\"color: #dd0000; text-decoration-color: #dd0000; background-color: #ffffff\">TypeError</span><span style=\"color: #101010; text-decoration-color: #101010; background-color: #ffffff\">: </span><span style=\"color: #0011aa; text-decoration-color: #0011aa; background-color: #ffffff\">'str' object does not support item assignment</span><span style=\"background-color: #ffffff\">                                            </span>\n",
       "</pre></div>"
      ],
      "text/plain": [
       "\u001b[38;2;221;0;0;48;2;255;255;255mTraceback (most recent call last):\u001b[0m\u001b[48;2;255;255;255m                                                                  \u001b[0m\n",
       "\u001b[38;2;16;16;16;48;2;255;255;255m  Code block \u001b[0m\u001b[38;2;120;49;20;48;2;255;255;255m[\u001b[0m\u001b[38;2;16;16;16;48;2;255;255;255m17\u001b[0m\u001b[38;2;120;49;20;48;2;255;255;255m]\u001b[0m\u001b[38;2;16;16;16;48;2;255;255;255m, line \u001b[0m\u001b[38;2;16;16;16;48;2;255;255;255m5\u001b[0m\u001b[48;2;255;255;255m                                                                           \u001b[0m\n",
       "\u001b[38;2;16;16;16;48;2;255;255;255m    \u001b[0m\u001b[38;2;0;17;170;48;2;255;255;255mnew_word\u001b[0m\u001b[38;2;120;49;20;48;2;255;255;255m[\u001b[0m\u001b[38;2;0;85;0;48;2;255;255;255mlen\u001b[0m\u001b[38;2;120;49;20;48;2;255;255;255m(\u001b[0m\u001b[38;2;0;17;170;48;2;255;255;255mword\u001b[0m\u001b[38;2;120;49;20;48;2;255;255;255m)\u001b[0m\u001b[38;2;120;49;20;48;2;255;255;255m-\u001b[0m\u001b[38;2;16;16;16;48;2;255;255;255m1\u001b[0m\u001b[38;2;120;49;20;48;2;255;255;255m]\u001b[0m\u001b[38;2;120;49;20;48;2;255;255;255m=\u001b[0m\u001b[38;2;0;17;170;48;2;255;255;255mword\u001b[0m\u001b[38;2;120;49;20;48;2;255;255;255m[\u001b[0m\u001b[38;2;16;16;16;48;2;255;255;255m0\u001b[0m\u001b[38;2;120;49;20;48;2;255;255;255m]\u001b[0m\u001b[48;2;255;255;255m                                                                   \u001b[0m\n",
       "\u001b[38;2;221;0;0;48;2;255;255;255mTypeError\u001b[0m\u001b[38;2;16;16;16;48;2;255;255;255m: \u001b[0m\u001b[38;2;0;17;170;48;2;255;255;255m'str' object does not support item assignment\u001b[0m\u001b[48;2;255;255;255m                                            \u001b[0m\n"
      ]
     },
     "metadata": {},
     "output_type": "display_data"
    },
    {
     "data": {
      "text/html": [
       "<script type=\"text/Javascript\"> function toggle_what12(){\n",
       "     var content = document.getElementById('friendly-tb-what-content12');\n",
       "     var btn = document.getElementById('friendly-tb-btn-show-what12');\n",
       "        if (content.style.display === 'none') {\n",
       "            content.style.display = 'block';\n",
       "            btn.textContent = \"Hide what()\";\n",
       "        } else {\n",
       "            content.style.display = 'none';\n",
       "            btn.textContent = \"what()\";\n",
       "       }\n",
       "    }\n",
       "     </script>\n",
       "     <button\n",
       "         id='friendly-tb-btn-show-what12'\n",
       "         onclick='toggle_what12()'\n",
       "         style='display:none '>\n",
       "     what()\n",
       "     </button>\n",
       "    "
      ]
     },
     "metadata": {},
     "output_type": "display_data"
    },
    {
     "data": {
      "text/html": [
       "<div id='friendly-tb-what-content12' style='display:none'><pre style='white-space:pre;overflow-x:auto;line-height:normal'>A <span style=\"color: #dd0000; text-decoration-color: #dd0000; background-color: #ffffff\">TypeError</span> is usually caused by trying to combine two incompatible   \n",
       "types of objects, by calling a function with the wrong type of object,\n",
       "or by trying to do an operation not allowed on a given type of object.\n",
       "</pre></div>"
      ],
      "text/plain": [
       "A \u001b[38;2;221;0;0;48;2;255;255;255mTypeError\u001b[0m is usually caused by trying to combine two incompatible   \n",
       "types of objects, by calling a function with the wrong type of object,\n",
       "or by trying to do an operation not allowed on a given type of object.\n"
      ]
     },
     "metadata": {},
     "output_type": "display_data"
    },
    {
     "data": {
      "text/html": [
       "<script type=\"text/Javascript\"> function toggle_why12(){\n",
       "     var content = document.getElementById('friendly-tb-why-content12');\n",
       "     var btn = document.getElementById('friendly-tb-btn-show-why12');\n",
       "        if (content.style.display === 'none') {\n",
       "            content.style.display = 'block';\n",
       "            btn.textContent = \"Hide why()\";\n",
       "        } else {\n",
       "            content.style.display = 'none';\n",
       "            btn.textContent = \"why()\";\n",
       "       }\n",
       "    }\n",
       "     </script>\n",
       "     <button\n",
       "         id='friendly-tb-btn-show-why12'\n",
       "         onclick='toggle_why12()'\n",
       "         style='display:none '>\n",
       "     why()\n",
       "     </button>\n",
       "    "
      ]
     },
     "metadata": {},
     "output_type": "display_data"
    },
    {
     "data": {
      "text/html": [
       "<div id='friendly-tb-why-content12' style='display:none'><pre style='white-space:pre;overflow-x:auto;line-height:normal'>In Python, some objects are known as immutable: once defined, their   \n",
       "value cannot be changed. You tried change part of such an immutable   \n",
       "object: a string (<span style=\"color: #005500; text-decoration-color: #005500; background-color: #ffffff\">str</span>), most likely by using an indexing operation.   \n",
       "</pre></div>"
      ],
      "text/plain": [
       "In Python, some objects are known as immutable: once defined, their   \n",
       "value cannot be changed. You tried change part of such an immutable   \n",
       "object: a string (\u001b[38;2;0;85;0;48;2;255;255;255mstr\u001b[0m), most likely by using an indexing operation.   \n"
      ]
     },
     "metadata": {},
     "output_type": "display_data"
    },
    {
     "data": {
      "text/html": [
       "<script type=\"text/Javascript\"> function toggle_where12(){\n",
       "     var content = document.getElementById('friendly-tb-where-content12');\n",
       "     var btn = document.getElementById('friendly-tb-btn-show-where12');\n",
       "        if (content.style.display === 'none') {\n",
       "            content.style.display = 'block';\n",
       "            btn.textContent = \"Hide where()\";\n",
       "        } else {\n",
       "            content.style.display = 'none';\n",
       "            btn.textContent = \"where()\";\n",
       "       }\n",
       "    }\n",
       "     </script>\n",
       "     <button\n",
       "         id='friendly-tb-btn-show-where12'\n",
       "         onclick='toggle_where12()'\n",
       "         style='display:none '>\n",
       "     where()\n",
       "     </button>\n",
       "    "
      ]
     },
     "metadata": {},
     "output_type": "display_data"
    },
    {
     "data": {
      "text/html": [
       "<div id='friendly-tb-where-content12' style='display:none'><pre style='white-space:pre;overflow-x:auto;line-height:normal'><span style=\"color: #dd0000; text-decoration-color: #dd0000\">Exception raised on line 5 of code block </span><span style=\"color: #783114; text-decoration-color: #783114; background-color: #ffffff\">[</span><span style=\"color: #101010; text-decoration-color: #101010; background-color: #ffffff\">17</span><span style=\"color: #783114; text-decoration-color: #783114; background-color: #ffffff\">]</span><span style=\"color: #dd0000; text-decoration-color: #dd0000\">.</span>                                                      \n",
       "\n",
       "<span style=\"color: #808080; text-decoration-color: #808080; background-color: #ffffff\">       2|</span><span style=\"color: #0011aa; text-decoration-color: #0011aa; background-color: #ffffff\"> </span><span style=\"color: #005500; text-decoration-color: #005500; background-color: #ffffff\">if</span><span style=\"color: #0011aa; text-decoration-color: #0011aa; background-color: #ffffff\"> word</span><span style=\"color: #783114; text-decoration-color: #783114; background-color: #ffffff\">[</span><span style=\"color: #101010; text-decoration-color: #101010; background-color: #ffffff\">0</span><span style=\"color: #783114; text-decoration-color: #783114; background-color: #ffffff\">]</span><span style=\"color: #005500; text-decoration-color: #005500; background-color: #ffffff\"> in</span><span style=\"color: #783114; text-decoration-color: #783114; background-color: #ffffff\"> {</span><span style=\"color: #8b008b; text-decoration-color: #8b008b; background-color: #ffffff\">'aeiou'</span><span style=\"color: #783114; text-decoration-color: #783114; background-color: #ffffff\">}:</span>\n",
       "<span style=\"color: #808080; text-decoration-color: #808080; background-color: #ffffff\">       3|</span><span style=\"color: #0011aa; text-decoration-color: #0011aa; background-color: #ffffff\">     </span><span style=\"color: #005500; text-decoration-color: #005500; background-color: #ffffff\">print</span><span style=\"color: #783114; text-decoration-color: #783114; background-color: #ffffff\">(</span><span style=\"color: #8b008b; text-decoration-color: #8b008b; background-color: #ffffff\">f'Translated form is {word}way'</span><span style=\"color: #783114; text-decoration-color: #783114; background-color: #ffffff\">)</span>\n",
       "<span style=\"color: #808080; text-decoration-color: #808080; background-color: #ffffff\">       4|</span><span style=\"color: #0011aa; text-decoration-color: #0011aa; background-color: #ffffff\"> </span><span style=\"color: #005500; text-decoration-color: #005500; background-color: #ffffff\">else</span><span style=\"color: #783114; text-decoration-color: #783114; background-color: #ffffff\">:</span>\n",
       "<span style=\"color: #783114; text-decoration-color: #783114; background-color: #ffffff\">     &gt; </span><span style=\"color: #101010; text-decoration-color: #101010; background-color: #ffffff\">5|</span><span style=\"color: #783114; text-decoration-color: #783114; background-color: #ffffff\">     </span><span style=\"color: #ffffff; text-decoration-color: #ffffff; background-color: #cc0000\">new_word[len(word)-1]</span><span style=\"color: #783114; text-decoration-color: #783114; background-color: #ffffff\">=</span><span style=\"color: #0011aa; text-decoration-color: #0011aa; background-color: #ffffff\">word</span><span style=\"color: #783114; text-decoration-color: #783114; background-color: #ffffff\">[</span><span style=\"color: #101010; text-decoration-color: #101010; background-color: #ffffff\">0</span><span style=\"color: #783114; text-decoration-color: #783114; background-color: #ffffff\">]</span>\n",
       "<span style=\"color: #808080; text-decoration-color: #808080; background-color: #ffffff\">       6|</span><span style=\"color: #0011aa; text-decoration-color: #0011aa; background-color: #ffffff\">     </span><span style=\"color: #005500; text-decoration-color: #005500; background-color: #ffffff\">for</span><span style=\"color: #0011aa; text-decoration-color: #0011aa; background-color: #ffffff\"> i</span><span style=\"color: #005500; text-decoration-color: #005500; background-color: #ffffff\"> in</span><span style=\"color: #0011aa; text-decoration-color: #0011aa; background-color: #ffffff\"> range</span><span style=\"color: #783114; text-decoration-color: #783114; background-color: #ffffff\">(</span><span style=\"color: #005500; text-decoration-color: #005500; background-color: #ffffff\">len</span><span style=\"color: #783114; text-decoration-color: #783114; background-color: #ffffff\">(</span><span style=\"color: #0011aa; text-decoration-color: #0011aa; background-color: #ffffff\">word</span><span style=\"color: #783114; text-decoration-color: #783114; background-color: #ffffff\">)):</span>\n",
       "\n",
       "<span style=\"color: #101010; text-decoration-color: #101010; background-color: #ffffff\">    </span><span style=\"color: #0011aa; text-decoration-color: #0011aa; background-color: #ffffff\">new_word</span><span style=\"color: #783114; text-decoration-color: #783114; background-color: #ffffff\">:</span><span style=\"color: #101010; text-decoration-color: #101010; background-color: #ffffff\">  </span><span style=\"color: #8b008b; text-decoration-color: #8b008b; background-color: #ffffff\">''</span><span style=\"background-color: #ffffff\">                                                                                   </span>\n",
       "<span style=\"color: #101010; text-decoration-color: #101010; background-color: #ffffff\">    </span><span style=\"color: #0011aa; text-decoration-color: #0011aa; background-color: #ffffff\">word</span><span style=\"color: #783114; text-decoration-color: #783114; background-color: #ffffff\">:</span><span style=\"color: #101010; text-decoration-color: #101010; background-color: #ffffff\">  </span><span style=\"color: #8b008b; text-decoration-color: #8b008b; background-color: #ffffff\">'tournament'</span><span style=\"background-color: #ffffff\">                                                                             </span>\n",
       "<span style=\"color: #101010; text-decoration-color: #101010; background-color: #ffffff\">    </span><span style=\"color: #005500; text-decoration-color: #005500; background-color: #ffffff\">len</span><span style=\"color: #783114; text-decoration-color: #783114; background-color: #ffffff\">:</span><span style=\"color: #101010; text-decoration-color: #101010; background-color: #ffffff\">  </span><span style=\"color: #783114; text-decoration-color: #783114; background-color: #ffffff\">&lt;</span><span style=\"color: #0011aa; text-decoration-color: #0011aa; background-color: #ffffff\">builtin</span><span style=\"color: #101010; text-decoration-color: #101010; background-color: #ffffff\"> </span><span style=\"color: #0011aa; text-decoration-color: #0011aa; background-color: #ffffff\">function</span><span style=\"color: #101010; text-decoration-color: #101010; background-color: #ffffff\"> </span><span style=\"color: #005500; text-decoration-color: #005500; background-color: #ffffff\">len</span><span style=\"color: #783114; text-decoration-color: #783114; background-color: #ffffff\">&gt;</span><span style=\"background-color: #ffffff\">                                                                    </span>\n",
       "<span style=\"color: #101010; text-decoration-color: #101010; background-color: #ffffff\">    </span><span style=\"color: #005500; text-decoration-color: #005500; background-color: #ffffff\">len</span><span style=\"color: #783114; text-decoration-color: #783114; background-color: #ffffff\">(</span><span style=\"color: #0011aa; text-decoration-color: #0011aa; background-color: #ffffff\">word</span><span style=\"color: #783114; text-decoration-color: #783114; background-color: #ffffff\">):</span><span style=\"color: #101010; text-decoration-color: #101010; background-color: #ffffff\">  10</span><span style=\"background-color: #ffffff\">                                                                                  </span>\n",
       "<span style=\"color: #101010; text-decoration-color: #101010; background-color: #ffffff\">    </span><span style=\"color: #005500; text-decoration-color: #005500; background-color: #ffffff\">len</span><span style=\"color: #783114; text-decoration-color: #783114; background-color: #ffffff\">(</span><span style=\"color: #0011aa; text-decoration-color: #0011aa; background-color: #ffffff\">word</span><span style=\"color: #783114; text-decoration-color: #783114; background-color: #ffffff\">)-</span><span style=\"color: #101010; text-decoration-color: #101010; background-color: #ffffff\">1</span><span style=\"color: #783114; text-decoration-color: #783114; background-color: #ffffff\">:</span><span style=\"color: #101010; text-decoration-color: #101010; background-color: #ffffff\">  9</span><span style=\"background-color: #ffffff\">                                                                                 </span>\n",
       "</pre></div>"
      ],
      "text/plain": [
       "\u001b[38;2;221;0;0mException raised on line 5 of code block \u001b[0m\u001b[38;2;120;49;20;48;2;255;255;255m[\u001b[0m\u001b[38;2;16;16;16;48;2;255;255;255m17\u001b[0m\u001b[38;2;120;49;20;48;2;255;255;255m]\u001b[0m\u001b[38;2;221;0;0m.\u001b[0m                                                      \n",
       "\n",
       "\u001b[38;2;128;128;128;48;2;255;255;255m       2|\u001b[0m\u001b[38;2;0;17;170;48;2;255;255;255m \u001b[0m\u001b[38;2;0;85;0;48;2;255;255;255mif\u001b[0m\u001b[38;2;0;17;170;48;2;255;255;255m word\u001b[0m\u001b[38;2;120;49;20;48;2;255;255;255m[\u001b[0m\u001b[38;2;16;16;16;48;2;255;255;255m0\u001b[0m\u001b[38;2;120;49;20;48;2;255;255;255m]\u001b[0m\u001b[38;2;0;85;0;48;2;255;255;255m in\u001b[0m\u001b[38;2;120;49;20;48;2;255;255;255m {\u001b[0m\u001b[38;2;139;0;139;48;2;255;255;255m'aeiou'\u001b[0m\u001b[38;2;120;49;20;48;2;255;255;255m}\u001b[0m\u001b[38;2;120;49;20;48;2;255;255;255m:\u001b[0m\n",
       "\u001b[38;2;128;128;128;48;2;255;255;255m       3|\u001b[0m\u001b[38;2;0;17;170;48;2;255;255;255m     \u001b[0m\u001b[38;2;0;85;0;48;2;255;255;255mprint\u001b[0m\u001b[38;2;120;49;20;48;2;255;255;255m(\u001b[0m\u001b[38;2;139;0;139;48;2;255;255;255mf'Translated form is {word}way'\u001b[0m\u001b[38;2;120;49;20;48;2;255;255;255m)\u001b[0m\n",
       "\u001b[38;2;128;128;128;48;2;255;255;255m       4|\u001b[0m\u001b[38;2;0;17;170;48;2;255;255;255m \u001b[0m\u001b[38;2;0;85;0;48;2;255;255;255melse\u001b[0m\u001b[38;2;120;49;20;48;2;255;255;255m:\u001b[0m\n",
       "\u001b[38;2;120;49;20;48;2;255;255;255m     > \u001b[0m\u001b[38;2;16;16;16;48;2;255;255;255m5|\u001b[0m\u001b[38;2;120;49;20;48;2;255;255;255m     \u001b[0m\u001b[38;2;255;255;255;48;2;204;0;0mnew_word\u001b[0m\u001b[38;2;255;255;255;48;2;204;0;0m[\u001b[0m\u001b[38;2;255;255;255;48;2;204;0;0mlen\u001b[0m\u001b[38;2;255;255;255;48;2;204;0;0m(\u001b[0m\u001b[38;2;255;255;255;48;2;204;0;0mword\u001b[0m\u001b[38;2;255;255;255;48;2;204;0;0m)\u001b[0m\u001b[38;2;255;255;255;48;2;204;0;0m-\u001b[0m\u001b[38;2;255;255;255;48;2;204;0;0m1\u001b[0m\u001b[38;2;255;255;255;48;2;204;0;0m]\u001b[0m\u001b[38;2;120;49;20;48;2;255;255;255m=\u001b[0m\u001b[38;2;0;17;170;48;2;255;255;255mword\u001b[0m\u001b[38;2;120;49;20;48;2;255;255;255m[\u001b[0m\u001b[38;2;16;16;16;48;2;255;255;255m0\u001b[0m\u001b[38;2;120;49;20;48;2;255;255;255m]\u001b[0m\n",
       "\u001b[38;2;128;128;128;48;2;255;255;255m       6|\u001b[0m\u001b[38;2;0;17;170;48;2;255;255;255m     \u001b[0m\u001b[38;2;0;85;0;48;2;255;255;255mfor\u001b[0m\u001b[38;2;0;17;170;48;2;255;255;255m i\u001b[0m\u001b[38;2;0;85;0;48;2;255;255;255m in\u001b[0m\u001b[38;2;0;17;170;48;2;255;255;255m range\u001b[0m\u001b[38;2;120;49;20;48;2;255;255;255m(\u001b[0m\u001b[38;2;0;85;0;48;2;255;255;255mlen\u001b[0m\u001b[38;2;120;49;20;48;2;255;255;255m(\u001b[0m\u001b[38;2;0;17;170;48;2;255;255;255mword\u001b[0m\u001b[38;2;120;49;20;48;2;255;255;255m)\u001b[0m\u001b[38;2;120;49;20;48;2;255;255;255m)\u001b[0m\u001b[38;2;120;49;20;48;2;255;255;255m:\u001b[0m\n",
       "\n",
       "\u001b[38;2;16;16;16;48;2;255;255;255m    \u001b[0m\u001b[38;2;0;17;170;48;2;255;255;255mnew_word\u001b[0m\u001b[38;2;120;49;20;48;2;255;255;255m:\u001b[0m\u001b[38;2;16;16;16;48;2;255;255;255m  \u001b[0m\u001b[38;2;139;0;139;48;2;255;255;255m'\u001b[0m\u001b[38;2;139;0;139;48;2;255;255;255m'\u001b[0m\u001b[48;2;255;255;255m                                                                                   \u001b[0m\n",
       "\u001b[38;2;16;16;16;48;2;255;255;255m    \u001b[0m\u001b[38;2;0;17;170;48;2;255;255;255mword\u001b[0m\u001b[38;2;120;49;20;48;2;255;255;255m:\u001b[0m\u001b[38;2;16;16;16;48;2;255;255;255m  \u001b[0m\u001b[38;2;139;0;139;48;2;255;255;255m'\u001b[0m\u001b[38;2;139;0;139;48;2;255;255;255mtournament\u001b[0m\u001b[38;2;139;0;139;48;2;255;255;255m'\u001b[0m\u001b[48;2;255;255;255m                                                                             \u001b[0m\n",
       "\u001b[38;2;16;16;16;48;2;255;255;255m    \u001b[0m\u001b[38;2;0;85;0;48;2;255;255;255mlen\u001b[0m\u001b[38;2;120;49;20;48;2;255;255;255m:\u001b[0m\u001b[38;2;16;16;16;48;2;255;255;255m  \u001b[0m\u001b[38;2;120;49;20;48;2;255;255;255m<\u001b[0m\u001b[38;2;0;17;170;48;2;255;255;255mbuiltin\u001b[0m\u001b[38;2;16;16;16;48;2;255;255;255m \u001b[0m\u001b[38;2;0;17;170;48;2;255;255;255mfunction\u001b[0m\u001b[38;2;16;16;16;48;2;255;255;255m \u001b[0m\u001b[38;2;0;85;0;48;2;255;255;255mlen\u001b[0m\u001b[38;2;120;49;20;48;2;255;255;255m>\u001b[0m\u001b[48;2;255;255;255m                                                                    \u001b[0m\n",
       "\u001b[38;2;16;16;16;48;2;255;255;255m    \u001b[0m\u001b[38;2;0;85;0;48;2;255;255;255mlen\u001b[0m\u001b[38;2;120;49;20;48;2;255;255;255m(\u001b[0m\u001b[38;2;0;17;170;48;2;255;255;255mword\u001b[0m\u001b[38;2;120;49;20;48;2;255;255;255m)\u001b[0m\u001b[38;2;120;49;20;48;2;255;255;255m:\u001b[0m\u001b[38;2;16;16;16;48;2;255;255;255m  \u001b[0m\u001b[38;2;16;16;16;48;2;255;255;255m10\u001b[0m\u001b[48;2;255;255;255m                                                                                  \u001b[0m\n",
       "\u001b[38;2;16;16;16;48;2;255;255;255m    \u001b[0m\u001b[38;2;0;85;0;48;2;255;255;255mlen\u001b[0m\u001b[38;2;120;49;20;48;2;255;255;255m(\u001b[0m\u001b[38;2;0;17;170;48;2;255;255;255mword\u001b[0m\u001b[38;2;120;49;20;48;2;255;255;255m)\u001b[0m\u001b[38;2;120;49;20;48;2;255;255;255m-\u001b[0m\u001b[38;2;16;16;16;48;2;255;255;255m1\u001b[0m\u001b[38;2;120;49;20;48;2;255;255;255m:\u001b[0m\u001b[38;2;16;16;16;48;2;255;255;255m  \u001b[0m\u001b[38;2;16;16;16;48;2;255;255;255m9\u001b[0m\u001b[48;2;255;255;255m                                                                                 \u001b[0m\n"
      ]
     },
     "metadata": {},
     "output_type": "display_data"
    }
   ],
   "source": [
    "word =input('enter your word ')\n",
    "if word[0] in {'aeiou'}:\n",
    "    print(f'Translated form is {word}way')\n",
    "else:\n",
    "    \n",
    "    new_word[len(word)-1]=word[0]\n",
    "    for i in range(len(word)):\n",
    "        if i==(len(word)-1):\n",
    "            break\n",
    "        new_word[i]=word[i+1]\n",
    "        \n",
    "    print(f'Translated form is {new_word}ay')\n",
    "\n",
    "    "
   ]
  },
  {
   "cell_type": "code",
   "execution_count": 1,
   "id": "daa4c637",
   "metadata": {},
   "outputs": [
    {
     "name": "stdout",
     "output_type": "stream",
     "text": [
      "friendly_traceback 0.6.0; friendly 0.6.0.\n",
      "Type 'Friendly' for basic help.\n"
     ]
    }
   ],
   "source": [
    "from friendly.jupyter import Friendly"
   ]
  },
  {
   "cell_type": "code",
   "execution_count": null,
   "id": "4d707327",
   "metadata": {},
   "outputs": [],
   "source": []
  }
 ],
 "metadata": {
  "kernelspec": {
   "display_name": "Python 3 (ipykernel)",
   "language": "python",
   "name": "python3"
  },
  "language_info": {
   "codemirror_mode": {
    "name": "ipython",
    "version": 3
   },
   "file_extension": ".py",
   "mimetype": "text/x-python",
   "name": "python",
   "nbconvert_exporter": "python",
   "pygments_lexer": "ipython3",
   "version": "3.10.4"
  }
 },
 "nbformat": 4,
 "nbformat_minor": 5
}
