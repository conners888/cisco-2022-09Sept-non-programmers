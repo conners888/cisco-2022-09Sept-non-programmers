{
 "cells": [
  {
   "cell_type": "code",
   "execution_count": 2,
   "id": "83a13ff1",
   "metadata": {},
   "outputs": [
    {
     "name": "stdout",
     "output_type": "stream",
     "text": [
      "Hi, whats your name ? Payal\n",
      "Hi Payal!. This is the time now 2022-09-19 13:53:04.685061\n"
     ]
    }
   ],
   "source": [
    "import datetime\n",
    "name = input (\"Hi, whats your name ? \")\n",
    "ct = str(datetime.datetime.now())\n",
    "print ('Hi '+ name+ '!. This is the time now ' + ct)"
   ]
  },
  {
   "cell_type": "code",
   "execution_count": 3,
   "id": "ef150923",
   "metadata": {},
   "outputs": [
    {
     "ename": "SyntaxError",
     "evalue": "unterminated string literal (detected at line 5) (664622357.py, line 5)",
     "output_type": "error",
     "traceback": [
      "\u001b[0;36m  Cell \u001b[0;32mIn [3], line 5\u001b[0;36m\u001b[0m\n\u001b[0;31m    print ('Hi '+ name+ '!. This is the time now  + ct)\u001b[0m\n\u001b[0m                        ^\u001b[0m\n\u001b[0;31mSyntaxError\u001b[0m\u001b[0;31m:\u001b[0m unterminated string literal (detected at line 5)\n"
     ]
    }
   ],
   "source": [
    "from friendly.jupyter import Friendly\n",
    "import datetime\n",
    "name = input (\"Hi, whats your name ? \")\n",
    "ct = datetime.datetime.now()\n",
    "print ('Hi '+ name+ '!. This is the time now  + ct)"
   ]
  },
  {
   "cell_type": "code",
   "execution_count": 4,
   "id": "9afb73de",
   "metadata": {},
   "outputs": [
    {
     "data": {
      "text/plain": [
       "True"
      ]
     },
     "execution_count": 4,
     "metadata": {},
     "output_type": "execute_result"
    }
   ],
   "source": [
    "x = 'porridge' \n",
    "y= 'recipe'\n",
    "x < y"
   ]
  },
  {
   "cell_type": "code",
   "execution_count": null,
   "id": "14e46fa9",
   "metadata": {},
   "outputs": [],
   "source": []
  }
 ],
 "metadata": {
  "kernelspec": {
   "display_name": "Python 3 (ipykernel)",
   "language": "python",
   "name": "python3"
  },
  "language_info": {
   "codemirror_mode": {
    "name": "ipython",
    "version": 3
   },
   "file_extension": ".py",
   "mimetype": "text/x-python",
   "name": "python",
   "nbconvert_exporter": "python",
   "pygments_lexer": "ipython3",
   "version": "3.10.4"
  }
 },
 "nbformat": 4,
 "nbformat_minor": 5
}
