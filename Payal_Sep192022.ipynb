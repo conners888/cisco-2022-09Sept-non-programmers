{
 "cells": [
  {
   "cell_type": "code",
   "execution_count": 2,
   "id": "710d0a02",
   "metadata": {},
   "outputs": [
    {
     "name": "stdout",
     "output_type": "stream",
     "text": [
      "Hi, whats your name ? Payal\n",
      "Hi Payal!. This is the time now 2022-09-19 13:53:04.685061\n"
     ]
    }
   ],
   "source": [
    "import datetime\n",
    "name = input (\"Hi, whats your name ? \")\n",
    "ct = str(datetime.datetime.now())\n",
    "print ('Hi '+ name+ '!. This is the time now ' + ct)"
   ]
  },
  {
   "cell_type": "code",
   "execution_count": null,
   "id": "b200190a",
   "metadata": {},
   "outputs": [],
   "source": []
  }
 ],
 "metadata": {
  "kernelspec": {
   "display_name": "Python 3 (ipykernel)",
   "language": "python",
   "name": "python3"
  },
  "language_info": {
   "codemirror_mode": {
    "name": "ipython",
    "version": 3
   },
   "file_extension": ".py",
   "mimetype": "text/x-python",
   "name": "python",
   "nbconvert_exporter": "python",
   "pygments_lexer": "ipython3",
   "version": "3.10.4"
  }
 },
 "nbformat": 4,
 "nbformat_minor": 5
}
