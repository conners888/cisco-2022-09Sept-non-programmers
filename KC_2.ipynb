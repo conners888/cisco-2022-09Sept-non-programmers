{
 "cells": [
  {
   "cell_type": "code",
   "execution_count": 1,
   "id": "0f2acd7d",
   "metadata": {},
   "outputs": [
    {
     "name": "stdout",
     "output_type": "stream",
     "text": [
      "Katie\n"
     ]
    }
   ],
   "source": [
    "print ('Katie')"
   ]
  },
  {
   "cell_type": "code",
   "execution_count": 2,
   "id": "61166070",
   "metadata": {},
   "outputs": [
    {
     "name": "stdout",
     "output_type": "stream",
     "text": [
      "Katie\n"
     ]
    }
   ],
   "source": [
    "name = 'Katie'\n",
    "print (name)"
   ]
  },
  {
   "cell_type": "code",
   "execution_count": 3,
   "id": "e0cfd405",
   "metadata": {},
   "outputs": [
    {
     "data": {
      "text/plain": [
       "str"
      ]
     },
     "execution_count": 3,
     "metadata": {},
     "output_type": "execute_result"
    }
   ],
   "source": [
    "type(name)"
   ]
  },
  {
   "cell_type": "code",
   "execution_count": 4,
   "id": "85ac47de",
   "metadata": {},
   "outputs": [
    {
     "name": "stdout",
     "output_type": "stream",
     "text": [
      "30\n"
     ]
    }
   ],
   "source": [
    "x = 10   #Assigning the value of. 10 to y\n",
    "y = 20   #Assigning the value 20 to y\n",
    "print(x+y)"
   ]
  },
  {
   "cell_type": "code",
   "execution_count": 7,
   "id": "27867690",
   "metadata": {},
   "outputs": [
    {
     "name": "stdout",
     "output_type": "stream",
     "text": [
      "Hello Katie!\n"
     ]
    }
   ],
   "source": [
    "name = 'Katie'\n",
    "print('Hello ' +name+ '!')"
   ]
  },
  {
   "cell_type": "code",
   "execution_count": 8,
   "id": "611e99a1",
   "metadata": {},
   "outputs": [
    {
     "name": "stdout",
     "output_type": "stream",
     "text": [
      "Please enter your name: Katie\n",
      "Hello Katie!\n"
     ]
    }
   ],
   "source": [
    "name = input('Please enter your name: ')\n",
    "print('Hello ' +name+ '!')"
   ]
  },
  {
   "cell_type": "code",
   "execution_count": 9,
   "id": "2e580202",
   "metadata": {},
   "outputs": [
    {
     "name": "stdout",
     "output_type": "stream",
     "text": [
      "Katie\n"
     ]
    }
   ],
   "source": [
    "print(name)"
   ]
  },
  {
   "cell_type": "code",
   "execution_count": 10,
   "id": "173f5924",
   "metadata": {},
   "outputs": [
    {
     "data": {
      "text/plain": [
       "str"
      ]
     },
     "execution_count": 10,
     "metadata": {},
     "output_type": "execute_result"
    }
   ],
   "source": [
    "type(name)"
   ]
  },
  {
   "cell_type": "code",
   "execution_count": 11,
   "id": "3eb74755",
   "metadata": {},
   "outputs": [
    {
     "data": {
      "text/plain": [
       "True"
      ]
     },
     "execution_count": 11,
     "metadata": {},
     "output_type": "execute_result"
    }
   ],
   "source": [
    "x = 10\n",
    "y = 10\n",
    "y == x"
   ]
  },
  {
   "cell_type": "code",
   "execution_count": 12,
   "id": "aa1a6be9",
   "metadata": {},
   "outputs": [
    {
     "data": {
      "text/plain": [
       "False"
      ]
     },
     "execution_count": 12,
     "metadata": {},
     "output_type": "execute_result"
    }
   ],
   "source": [
    "x = 20\n",
    "y = 10\n",
    "x == y"
   ]
  },
  {
   "cell_type": "code",
   "execution_count": 13,
   "id": "67b290ea",
   "metadata": {},
   "outputs": [
    {
     "data": {
      "text/plain": [
       "20"
      ]
     },
     "execution_count": 13,
     "metadata": {},
     "output_type": "execute_result"
    }
   ],
   "source": [
    "x"
   ]
  },
  {
   "cell_type": "code",
   "execution_count": 14,
   "id": "9c65ff8a",
   "metadata": {},
   "outputs": [
    {
     "data": {
      "text/plain": [
       "10"
      ]
     },
     "execution_count": 14,
     "metadata": {},
     "output_type": "execute_result"
    }
   ],
   "source": [
    "y"
   ]
  },
  {
   "cell_type": "code",
   "execution_count": 18,
   "id": "384b25e4",
   "metadata": {},
   "outputs": [
    {
     "name": "stdout",
     "output_type": "stream",
     "text": [
      "Please enter your name: Katie\n",
      "Hi Boss!\n",
      "So good to see you!\n"
     ]
    }
   ],
   "source": [
    "name = input('Please enter your name: ')\n",
    "if name == 'Katie':\n",
    "    print('Hi Boss!')\n",
    "    print('So good to see you!')\n",
    "else:\n",
    "    print('Hello ' +name+ '!')"
   ]
  },
  {
   "cell_type": "code",
   "execution_count": 20,
   "id": "52ea615a",
   "metadata": {},
   "outputs": [
    {
     "name": "stdout",
     "output_type": "stream",
     "text": [
      "Please enter your name: Katie\n",
      "Nice to see you!\n"
     ]
    }
   ],
   "source": [
    "name = input('Please enter your name: ')\n",
    "if name == 'Katie':\n",
    "    print('Nice to see you!')\n",
    "else:\n",
    "    print('Not nice to see you')"
   ]
  },
  {
   "cell_type": "code",
   "execution_count": null,
   "id": "f6c899be",
   "metadata": {},
   "outputs": [],
   "source": [
    "name = input('Please enter your name: ')\n",
    "if name =="
   ]
  }
 ],
 "metadata": {
  "kernelspec": {
   "display_name": "Python 3 (ipykernel)",
   "language": "python",
   "name": "python3"
  },
  "language_info": {
   "codemirror_mode": {
    "name": "ipython",
    "version": 3
   },
   "file_extension": ".py",
   "mimetype": "text/x-python",
   "name": "python",
   "nbconvert_exporter": "python",
   "pygments_lexer": "ipython3",
   "version": "3.10.4"
  }
 },
 "nbformat": 4,
 "nbformat_minor": 5
}
