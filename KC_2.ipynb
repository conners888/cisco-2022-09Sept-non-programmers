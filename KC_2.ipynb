{
 "cells": [
  {
   "cell_type": "code",
   "execution_count": 1,
   "id": "073f7a44",
   "metadata": {},
   "outputs": [
    {
     "name": "stdout",
     "output_type": "stream",
     "text": [
      "Katie\n"
     ]
    }
   ],
   "source": [
    "print ('Katie')"
   ]
  },
  {
   "cell_type": "code",
   "execution_count": 2,
   "id": "343e2f2d",
   "metadata": {},
   "outputs": [
    {
     "name": "stdout",
     "output_type": "stream",
     "text": [
      "Katie\n"
     ]
    }
   ],
   "source": [
    "name = 'Katie'\n",
    "print (name)"
   ]
  },
  {
   "cell_type": "code",
   "execution_count": 3,
   "id": "849fd439",
   "metadata": {},
   "outputs": [
    {
     "data": {
      "text/plain": [
       "str"
      ]
     },
     "execution_count": 3,
     "metadata": {},
     "output_type": "execute_result"
    }
   ],
   "source": [
    "type(name)"
   ]
  },
  {
   "cell_type": "code",
   "execution_count": 4,
   "id": "347a6a14",
   "metadata": {},
   "outputs": [
    {
     "name": "stdout",
     "output_type": "stream",
     "text": [
      "30\n"
     ]
    }
   ],
   "source": [
    "x = 10   #Assigning the value of. 10 to y\n",
    "y = 20   #Assigning the value 20 to y\n",
    "print(x+y)"
   ]
  },
  {
   "cell_type": "code",
   "execution_count": 7,
   "id": "0dd58ffc",
   "metadata": {},
   "outputs": [
    {
     "name": "stdout",
     "output_type": "stream",
     "text": [
      "Hello Katie!\n"
     ]
    }
   ],
   "source": [
    "name = 'Katie'\n",
    "print('Hello ' +name+ '!')"
   ]
  },
  {
   "cell_type": "code",
   "execution_count": 8,
   "id": "f0d8a99b",
   "metadata": {},
   "outputs": [
    {
     "name": "stdout",
     "output_type": "stream",
     "text": [
      "Please enter your name: Katie\n",
      "Hello Katie!\n"
     ]
    }
   ],
   "source": [
    "name = input('Please enter your name: ')\n",
    "print('Hello ' +name+ '!')"
   ]
  },
  {
   "cell_type": "code",
   "execution_count": 9,
   "id": "5d200ba1",
   "metadata": {},
   "outputs": [
    {
     "name": "stdout",
     "output_type": "stream",
     "text": [
      "Katie\n"
     ]
    }
   ],
   "source": [
    "print(name)"
   ]
  },
  {
   "cell_type": "code",
   "execution_count": 10,
   "id": "025e47c8",
   "metadata": {},
   "outputs": [
    {
     "data": {
      "text/plain": [
       "str"
      ]
     },
     "execution_count": 10,
     "metadata": {},
     "output_type": "execute_result"
    }
   ],
   "source": [
    "type(name)"
   ]
  },
  {
   "cell_type": "code",
   "execution_count": 11,
   "id": "3ca06436",
   "metadata": {},
   "outputs": [
    {
     "data": {
      "text/plain": [
       "True"
      ]
     },
     "execution_count": 11,
     "metadata": {},
     "output_type": "execute_result"
    }
   ],
   "source": [
    "x = 10\n",
    "y = 10\n",
    "y == x"
   ]
  },
  {
   "cell_type": "code",
   "execution_count": 12,
   "id": "2638e7a5",
   "metadata": {},
   "outputs": [
    {
     "data": {
      "text/plain": [
       "False"
      ]
     },
     "execution_count": 12,
     "metadata": {},
     "output_type": "execute_result"
    }
   ],
   "source": [
    "x = 20\n",
    "y = 10\n",
    "x == y"
   ]
  },
  {
   "cell_type": "code",
   "execution_count": 13,
   "id": "16e601d0",
   "metadata": {},
   "outputs": [
    {
     "data": {
      "text/plain": [
       "20"
      ]
     },
     "execution_count": 13,
     "metadata": {},
     "output_type": "execute_result"
    }
   ],
   "source": [
    "x"
   ]
  },
  {
   "cell_type": "code",
   "execution_count": 14,
   "id": "73cd1526",
   "metadata": {},
   "outputs": [
    {
     "data": {
      "text/plain": [
       "10"
      ]
     },
     "execution_count": 14,
     "metadata": {},
     "output_type": "execute_result"
    }
   ],
   "source": [
    "y"
   ]
  },
  {
   "cell_type": "code",
   "execution_count": 18,
   "id": "7bbbbc98",
   "metadata": {},
   "outputs": [
    {
     "name": "stdout",
     "output_type": "stream",
     "text": [
      "Please enter your name: Katie\n",
      "Hi Boss!\n",
      "So good to see you!\n"
     ]
    }
   ],
   "source": [
    "name = input('Please enter your name: ')\n",
    "if name == 'Katie':\n",
    "    print('Hi Boss!')\n",
    "    print('So good to see you!')\n",
    "else:\n",
    "    print('Hello ' +name+ '!')"
   ]
  },
  {
   "cell_type": "code",
   "execution_count": 20,
   "id": "9886e758",
   "metadata": {},
   "outputs": [
    {
     "name": "stdout",
     "output_type": "stream",
     "text": [
      "Please enter your name: Katie\n",
      "Nice to see you!\n"
     ]
    }
   ],
   "source": [
    "name = input('Please enter your name: ')\n",
    "if name == 'Katie':\n",
    "    print('Nice to see you!')\n",
    "else:\n",
    "    print('Not nice to see you')"
   ]
  },
  {
   "cell_type": "code",
   "execution_count": 23,
   "id": "4c38a2b4",
   "metadata": {},
   "outputs": [
    {
     "name": "stdout",
     "output_type": "stream",
     "text": [
      "Please enter your name: Grayson\n",
      "Hello, Grayson.\n"
     ]
    }
   ],
   "source": [
    "name = input('Please enter your name: ')\n",
    "if name == 'Katie':\n",
    "    print('Hello Boss!')\n",
    "elif name == 'whatever':\n",
    "    print('Are you sure that is your name?')\n",
    "else:\n",
    "    print('Hello, ' + name + '.')"
   ]
  },
  {
   "cell_type": "code",
   "execution_count": 26,
   "id": "110c3e4b",
   "metadata": {},
   "outputs": [
    {
     "name": "stdout",
     "output_type": "stream",
     "text": [
      "I do not know\n"
     ]
    }
   ],
   "source": [
    "n = 20\n",
    "if n > 30:\n",
    "    print('Yes, greater than 30')\n",
    "elif n > 40:\n",
    "    print('Yes, greater than 40')\n",
    "else:\n",
    "    print('I do not know')"
   ]
  },
  {
   "cell_type": "code",
   "execution_count": 27,
   "id": "da8f1a92",
   "metadata": {},
   "outputs": [
    {
     "data": {
      "text/plain": [
       "int"
      ]
     },
     "execution_count": 27,
     "metadata": {},
     "output_type": "execute_result"
    }
   ],
   "source": [
    "x = 10\n",
    "type(x)"
   ]
  },
  {
   "cell_type": "code",
   "execution_count": 28,
   "id": "d05d67d3",
   "metadata": {},
   "outputs": [
    {
     "data": {
      "text/plain": [
       "13"
      ]
     },
     "execution_count": 28,
     "metadata": {},
     "output_type": "execute_result"
    }
   ],
   "source": [
    "y = 3\n",
    "x + y"
   ]
  },
  {
   "cell_type": "code",
   "execution_count": 29,
   "id": "a594e64b",
   "metadata": {},
   "outputs": [
    {
     "data": {
      "text/plain": [
       "7"
      ]
     },
     "execution_count": 29,
     "metadata": {},
     "output_type": "execute_result"
    }
   ],
   "source": [
    "x-y"
   ]
  },
  {
   "cell_type": "code",
   "execution_count": 30,
   "id": "4fe91277",
   "metadata": {},
   "outputs": [
    {
     "data": {
      "text/plain": [
       "30"
      ]
     },
     "execution_count": 30,
     "metadata": {},
     "output_type": "execute_result"
    }
   ],
   "source": [
    "x*y"
   ]
  },
  {
   "cell_type": "code",
   "execution_count": 31,
   "id": "4b4c74d0",
   "metadata": {},
   "outputs": [
    {
     "data": {
      "text/plain": [
       "3.3333333333333335"
      ]
     },
     "execution_count": 31,
     "metadata": {},
     "output_type": "execute_result"
    }
   ],
   "source": [
    "x/y"
   ]
  },
  {
   "cell_type": "code",
   "execution_count": 32,
   "id": "9be64279",
   "metadata": {},
   "outputs": [
    {
     "data": {
      "text/plain": [
       "1.0"
      ]
     },
     "execution_count": 32,
     "metadata": {},
     "output_type": "execute_result"
    }
   ],
   "source": [
    "x/x"
   ]
  },
  {
   "cell_type": "code",
   "execution_count": 33,
   "id": "339422de",
   "metadata": {},
   "outputs": [
    {
     "data": {
      "text/plain": [
       "3"
      ]
     },
     "execution_count": 33,
     "metadata": {},
     "output_type": "execute_result"
    }
   ],
   "source": [
    "x//y"
   ]
  },
  {
   "cell_type": "code",
   "execution_count": 34,
   "id": "1de5ba43",
   "metadata": {},
   "outputs": [
    {
     "data": {
      "text/plain": [
       "1000"
      ]
     },
     "execution_count": 34,
     "metadata": {},
     "output_type": "execute_result"
    }
   ],
   "source": [
    "x**y"
   ]
  },
  {
   "cell_type": "code",
   "execution_count": 39,
   "id": "c58a141a",
   "metadata": {},
   "outputs": [
    {
     "data": {
      "text/plain": [
       "11"
      ]
     },
     "execution_count": 39,
     "metadata": {},
     "output_type": "execute_result"
    }
   ],
   "source": [
    "x = 10\n",
    "x = x + 1\n",
    "x"
   ]
  },
  {
   "cell_type": "code",
   "execution_count": 42,
   "id": "270bc86a",
   "metadata": {},
   "outputs": [
    {
     "data": {
      "text/plain": [
       "14"
      ]
     },
     "execution_count": 42,
     "metadata": {},
     "output_type": "execute_result"
    }
   ],
   "source": [
    "x += 1\n",
    "x"
   ]
  },
  {
   "cell_type": "code",
   "execution_count": 43,
   "id": "14007187",
   "metadata": {},
   "outputs": [
    {
     "data": {
      "text/plain": [
       "14"
      ]
     },
     "execution_count": 43,
     "metadata": {},
     "output_type": "execute_result"
    }
   ],
   "source": [
    "x"
   ]
  },
  {
   "cell_type": "code",
   "execution_count": 44,
   "id": "52e4af4a",
   "metadata": {},
   "outputs": [],
   "source": [
    "x *= 5"
   ]
  },
  {
   "cell_type": "code",
   "execution_count": 45,
   "id": "ac228c66",
   "metadata": {},
   "outputs": [
    {
     "data": {
      "text/plain": [
       "70"
      ]
     },
     "execution_count": 45,
     "metadata": {},
     "output_type": "execute_result"
    }
   ],
   "source": [
    "x"
   ]
  },
  {
   "cell_type": "code",
   "execution_count": 46,
   "id": "3567c712",
   "metadata": {},
   "outputs": [
    {
     "data": {
      "text/plain": [
       "70"
      ]
     },
     "execution_count": 46,
     "metadata": {},
     "output_type": "execute_result"
    }
   ],
   "source": [
    "x -+ 1\n",
    "x"
   ]
  },
  {
   "cell_type": "code",
   "execution_count": 47,
   "id": "5963872c",
   "metadata": {},
   "outputs": [
    {
     "data": {
      "text/plain": [
       "69"
      ]
     },
     "execution_count": 47,
     "metadata": {},
     "output_type": "execute_result"
    }
   ],
   "source": [
    "x -= 1\n",
    "x"
   ]
  },
  {
   "cell_type": "code",
   "execution_count": 48,
   "id": "7c16c437",
   "metadata": {},
   "outputs": [
    {
     "ename": "TypeError",
     "evalue": "unsupported operand type(s) for +: 'int' and 'str'",
     "output_type": "error",
     "traceback": [
      "\u001b[0;31m---------------------------------------------------------------------------\u001b[0m",
      "\u001b[0;31mTypeError\u001b[0m                                 Traceback (most recent call last)",
      "Cell \u001b[0;32mIn [48], line 4\u001b[0m\n\u001b[1;32m      1\u001b[0m x \u001b[38;5;241m=\u001b[39m \u001b[38;5;241m10\u001b[39m\n\u001b[1;32m      2\u001b[0m y \u001b[38;5;241m=\u001b[39m \u001b[38;5;124m'\u001b[39m\u001b[38;5;124m20\u001b[39m\u001b[38;5;124m'\u001b[39m\n\u001b[0;32m----> 4\u001b[0m \u001b[43mx\u001b[49m\u001b[38;5;241;43m+\u001b[39;49m\u001b[43my\u001b[49m\n",
      "\u001b[0;31mTypeError\u001b[0m: unsupported operand type(s) for +: 'int' and 'str'"
     ]
    }
   ],
   "source": [
    "x = 10\n",
    "y = '20'\n",
    "\n",
    "x+y"
   ]
  },
  {
   "cell_type": "code",
   "execution_count": 49,
   "id": "48f242c9",
   "metadata": {},
   "outputs": [
    {
     "data": {
      "text/plain": [
       "20"
      ]
     },
     "execution_count": 49,
     "metadata": {},
     "output_type": "execute_result"
    }
   ],
   "source": [
    "int(y)"
   ]
  },
  {
   "cell_type": "code",
   "execution_count": 50,
   "id": "5ef7f635",
   "metadata": {},
   "outputs": [
    {
     "ename": "TypeError",
     "evalue": "unsupported operand type(s) for +: 'int' and 'str'",
     "output_type": "error",
     "traceback": [
      "\u001b[0;31m---------------------------------------------------------------------------\u001b[0m",
      "\u001b[0;31mTypeError\u001b[0m                                 Traceback (most recent call last)",
      "Cell \u001b[0;32mIn [50], line 1\u001b[0m\n\u001b[0;32m----> 1\u001b[0m \u001b[43mx\u001b[49m\u001b[38;5;241;43m+\u001b[39;49m\u001b[43my\u001b[49m\n",
      "\u001b[0;31mTypeError\u001b[0m: unsupported operand type(s) for +: 'int' and 'str'"
     ]
    }
   ],
   "source": [
    "x+y"
   ]
  },
  {
   "cell_type": "code",
   "execution_count": 51,
   "id": "70077154",
   "metadata": {},
   "outputs": [
    {
     "data": {
      "text/plain": [
       "30"
      ]
     },
     "execution_count": 51,
     "metadata": {},
     "output_type": "execute_result"
    }
   ],
   "source": [
    "x + int(y)"
   ]
  },
  {
   "cell_type": "code",
   "execution_count": 57,
   "id": "7c05af33",
   "metadata": {},
   "outputs": [
    {
     "name": "stdout",
     "output_type": "stream",
     "text": [
      "Enter your favorite number: 72\n",
      "That is also my favorite number!\n"
     ]
    }
   ],
   "source": [
    "n = input('Enter your favorite number: ')\n",
    "n = int(n)\n",
    "if n == 72:\n",
    "    print('That is also my favorite number!')\n",
    "else:\n",
    "    print('You have a terrible taste in numbers! ')"
   ]
  },
  {
   "cell_type": "code",
   "execution_count": 3,
   "id": "dce5a2fe",
   "metadata": {},
   "outputs": [
    {
     "name": "stdout",
     "output_type": "stream",
     "text": [
      "82\n",
      "Please guess the random number! 100\n",
      "To High!\n"
     ]
    }
   ],
   "source": [
    "import random\n",
    "number = random.randint(0, 100)\n",
    "print(number)\n",
    "guess = input('Please guess the random number! ')\n",
    "guess = int(guess)\n",
    "if guess == number:\n",
    "    print('You got it!!')\n",
    "elif guess > number:\n",
    "    print('To High!')\n",
    "else:\n",
    "    print('To Low!')\n"
   ]
  },
  {
   "cell_type": "code",
   "execution_count": 4,
   "id": "5b6683cf",
   "metadata": {},
   "outputs": [
    {
     "data": {
      "text/plain": [
       "float"
      ]
     },
     "execution_count": 4,
     "metadata": {},
     "output_type": "execute_result"
    }
   ],
   "source": [
    "n = 10.5\n",
    "type(n)"
   ]
  },
  {
   "cell_type": "code",
   "execution_count": 5,
   "id": "cc35a933",
   "metadata": {},
   "outputs": [
    {
     "data": {
      "text/plain": [
       "str"
      ]
     },
     "execution_count": 5,
     "metadata": {},
     "output_type": "execute_result"
    }
   ],
   "source": [
    "s = 'abcdefghijklmnopqrstuvwxyz'\n",
    "type(s)"
   ]
  },
  {
   "cell_type": "code",
   "execution_count": 6,
   "id": "dd6d3327",
   "metadata": {},
   "outputs": [
    {
     "data": {
      "text/plain": [
       "26"
      ]
     },
     "execution_count": 6,
     "metadata": {},
     "output_type": "execute_result"
    }
   ],
   "source": [
    "len(s)"
   ]
  },
  {
   "cell_type": "code",
   "execution_count": 8,
   "id": "5d8819ac",
   "metadata": {},
   "outputs": [
    {
     "data": {
      "text/plain": [
       "\"He's very nice\""
      ]
     },
     "execution_count": 8,
     "metadata": {},
     "output_type": "execute_result"
    }
   ],
   "source": [
    "s = 'He\\'s very nice'\n",
    "s"
   ]
  },
  {
   "cell_type": "code",
   "execution_count": 9,
   "id": "0e2490bf",
   "metadata": {},
   "outputs": [
    {
     "name": "stdout",
     "output_type": "stream",
     "text": [
      "He's very nice\n"
     ]
    }
   ],
   "source": [
    "print(s)"
   ]
  },
  {
   "cell_type": "code",
   "execution_count": 10,
   "id": "5f8b1d32",
   "metadata": {},
   "outputs": [
    {
     "data": {
      "text/plain": [
       "\"He's very nice\""
      ]
     },
     "execution_count": 10,
     "metadata": {},
     "output_type": "execute_result"
    }
   ],
   "source": [
    "s"
   ]
  },
  {
   "cell_type": "code",
   "execution_count": 13,
   "id": "14374196",
   "metadata": {},
   "outputs": [
    {
     "data": {
      "text/plain": [
       "'abcde\\nfghij'"
      ]
     },
     "execution_count": 13,
     "metadata": {},
     "output_type": "execute_result"
    }
   ],
   "source": [
    "s = 'abcde\\nfghij'\n",
    "s"
   ]
  },
  {
   "cell_type": "code",
   "execution_count": 14,
   "id": "1f7a65c6",
   "metadata": {},
   "outputs": [
    {
     "name": "stdout",
     "output_type": "stream",
     "text": [
      "abcde\n",
      "fghij\n"
     ]
    }
   ],
   "source": [
    "print(s)"
   ]
  },
  {
   "cell_type": "code",
   "execution_count": 15,
   "id": "f5fabc23",
   "metadata": {},
   "outputs": [
    {
     "data": {
      "text/plain": [
       "11"
      ]
     },
     "execution_count": 15,
     "metadata": {},
     "output_type": "execute_result"
    }
   ],
   "source": [
    "len(s)"
   ]
  },
  {
   "cell_type": "code",
   "execution_count": 16,
   "id": "ceaf9c8d",
   "metadata": {},
   "outputs": [
    {
     "data": {
      "text/plain": [
       "'abcde\\nfghij'"
      ]
     },
     "execution_count": 16,
     "metadata": {},
     "output_type": "execute_result"
    }
   ],
   "source": [
    "s"
   ]
  },
  {
   "cell_type": "code",
   "execution_count": 18,
   "id": "ddf4e54e",
   "metadata": {},
   "outputs": [
    {
     "name": "stdout",
     "output_type": "stream",
     "text": [
      "In my program, x is 10 and y is 20.\n"
     ]
    }
   ],
   "source": [
    "x = 10\n",
    "y = 20\n",
    "\n",
    "print('In my program, x is ' + str(x) + ' and y is ' + str(y) + '.')"
   ]
  },
  {
   "cell_type": "code",
   "execution_count": 19,
   "id": "204ddf45",
   "metadata": {},
   "outputs": [
    {
     "name": "stdout",
     "output_type": "stream",
     "text": [
      "10 + 20 = 30\n"
     ]
    }
   ],
   "source": [
    "print(f'{x} + {y} = {x+y}')"
   ]
  },
  {
   "cell_type": "code",
   "execution_count": 20,
   "id": "c0f0ecce",
   "metadata": {},
   "outputs": [
    {
     "data": {
      "text/plain": [
       "26"
      ]
     },
     "execution_count": 20,
     "metadata": {},
     "output_type": "execute_result"
    }
   ],
   "source": [
    "s = 'abcdefghijklmnopqrstuvwxyz'\n",
    "len(s)"
   ]
  },
  {
   "cell_type": "code",
   "execution_count": 21,
   "id": "b831f505",
   "metadata": {},
   "outputs": [
    {
     "data": {
      "text/plain": [
       "'a'"
      ]
     },
     "execution_count": 21,
     "metadata": {},
     "output_type": "execute_result"
    }
   ],
   "source": [
    "s[0]"
   ]
  },
  {
   "cell_type": "code",
   "execution_count": 22,
   "id": "c207a6a9",
   "metadata": {},
   "outputs": [
    {
     "data": {
      "text/plain": [
       "'b'"
      ]
     },
     "execution_count": 22,
     "metadata": {},
     "output_type": "execute_result"
    }
   ],
   "source": [
    "s[1]"
   ]
  },
  {
   "cell_type": "code",
   "execution_count": 23,
   "id": "d6fdcad1",
   "metadata": {},
   "outputs": [
    {
     "data": {
      "text/plain": [
       "'d'"
      ]
     },
     "execution_count": 23,
     "metadata": {},
     "output_type": "execute_result"
    }
   ],
   "source": [
    "i = 3\n",
    "s[i]"
   ]
  },
  {
   "cell_type": "code",
   "execution_count": 24,
   "id": "95279c2e",
   "metadata": {},
   "outputs": [
    {
     "ename": "IndexError",
     "evalue": "string index out of range",
     "output_type": "error",
     "traceback": [
      "\u001b[0;31m---------------------------------------------------------------------------\u001b[0m",
      "\u001b[0;31mIndexError\u001b[0m                                Traceback (most recent call last)",
      "Cell \u001b[0;32mIn [24], line 1\u001b[0m\n\u001b[0;32m----> 1\u001b[0m \u001b[43ms\u001b[49m\u001b[43m[\u001b[49m\u001b[38;5;241;43m100\u001b[39;49m\u001b[43m]\u001b[49m\n",
      "\u001b[0;31mIndexError\u001b[0m: string index out of range"
     ]
    }
   ],
   "source": [
    "s[100]"
   ]
  },
  {
   "cell_type": "code",
   "execution_count": 25,
   "id": "f70056d6",
   "metadata": {},
   "outputs": [
    {
     "data": {
      "text/plain": [
       "'z'"
      ]
     },
     "execution_count": 25,
     "metadata": {},
     "output_type": "execute_result"
    }
   ],
   "source": [
    "s[26-1]"
   ]
  },
  {
   "cell_type": "code",
   "execution_count": 26,
   "id": "2e883c66",
   "metadata": {},
   "outputs": [
    {
     "data": {
      "text/plain": [
       "'z'"
      ]
     },
     "execution_count": 26,
     "metadata": {},
     "output_type": "execute_result"
    }
   ],
   "source": [
    "s[len(s)-1]"
   ]
  },
  {
   "cell_type": "code",
   "execution_count": 27,
   "id": "d83354da",
   "metadata": {},
   "outputs": [
    {
     "data": {
      "text/plain": [
       "'z'"
      ]
     },
     "execution_count": 27,
     "metadata": {},
     "output_type": "execute_result"
    }
   ],
   "source": [
    "s[-1]"
   ]
  },
  {
   "cell_type": "code",
   "execution_count": 28,
   "id": "8f1199a8",
   "metadata": {},
   "outputs": [
    {
     "data": {
      "text/plain": [
       "'q'"
      ]
     },
     "execution_count": 28,
     "metadata": {},
     "output_type": "execute_result"
    }
   ],
   "source": [
    "s[-10]"
   ]
  },
  {
   "cell_type": "code",
   "execution_count": 30,
   "id": "60735266",
   "metadata": {},
   "outputs": [
    {
     "name": "stdout",
     "output_type": "stream",
     "text": [
      "Please enter a string: Computer\n",
      "Please enter an index: 6\n",
      "Index 6 in Computer is e\n"
     ]
    }
   ],
   "source": [
    "s = input('Please enter a string: ')\n",
    "i = input('Please enter an index: ')\n",
    "i = int(i)\n",
    "if i < 0:\n",
    "    print('The index cannot be less than 0')\n",
    "elif(i >= len(s)):\n",
    "    print(f'Index is to high: Maximum index is {len(s)-1}')\n",
    "else:\n",
    "    print(f'Index {i} in {s} is {s[i]}')"
   ]
  },
  {
   "cell_type": "code",
   "execution_count": 31,
   "id": "50b50cc1",
   "metadata": {},
   "outputs": [
    {
     "data": {
      "text/plain": [
       "'abcdefghijklmnopqrstuvwxyz'"
      ]
     },
     "execution_count": 31,
     "metadata": {},
     "output_type": "execute_result"
    }
   ],
   "source": [
    "s = 'abcdefghijklmnopqrstuvwxyz'\n",
    "s"
   ]
  },
  {
   "cell_type": "code",
   "execution_count": 32,
   "id": "e98c9b0f",
   "metadata": {},
   "outputs": [
    {
     "data": {
      "text/plain": [
       "'k'"
      ]
     },
     "execution_count": 32,
     "metadata": {},
     "output_type": "execute_result"
    }
   ],
   "source": [
    "s[10]"
   ]
  },
  {
   "cell_type": "code",
   "execution_count": 33,
   "id": "add611a9",
   "metadata": {},
   "outputs": [
    {
     "data": {
      "text/plain": [
       "'klmnopqrst'"
      ]
     },
     "execution_count": 33,
     "metadata": {},
     "output_type": "execute_result"
    }
   ],
   "source": [
    "s[10:20]"
   ]
  },
  {
   "cell_type": "code",
   "execution_count": 34,
   "id": "bc2bbf7a",
   "metadata": {},
   "outputs": [
    {
     "data": {
      "text/plain": [
       "'fghijklmno'"
      ]
     },
     "execution_count": 34,
     "metadata": {},
     "output_type": "execute_result"
    }
   ],
   "source": [
    "s[5:15]"
   ]
  },
  {
   "cell_type": "code",
   "execution_count": 35,
   "id": "07d14709",
   "metadata": {},
   "outputs": [
    {
     "data": {
      "text/plain": [
       "True"
      ]
     },
     "execution_count": 35,
     "metadata": {},
     "output_type": "execute_result"
    }
   ],
   "source": [
    "'c' in s"
   ]
  },
  {
   "cell_type": "code",
   "execution_count": 36,
   "id": "1b4c72d5",
   "metadata": {},
   "outputs": [
    {
     "data": {
      "text/plain": [
       "False"
      ]
     },
     "execution_count": 36,
     "metadata": {},
     "output_type": "execute_result"
    }
   ],
   "source": [
    "'!' in s"
   ]
  },
  {
   "cell_type": "code",
   "execution_count": 37,
   "id": "19c9895e",
   "metadata": {},
   "outputs": [
    {
     "data": {
      "text/plain": [
       "True"
      ]
     },
     "execution_count": 37,
     "metadata": {},
     "output_type": "execute_result"
    }
   ],
   "source": [
    "'cdef' in s"
   ]
  },
  {
   "cell_type": "code",
   "execution_count": 40,
   "id": "d5e110d1",
   "metadata": {},
   "outputs": [
    {
     "data": {
      "text/plain": [
       "False"
      ]
     },
     "execution_count": 40,
     "metadata": {},
     "output_type": "execute_result"
    }
   ],
   "source": [
    "'cdf' in s"
   ]
  },
  {
   "cell_type": "code",
   "execution_count": 46,
   "id": "4772211d",
   "metadata": {},
   "outputs": [
    {
     "name": "stdout",
     "output_type": "stream",
     "text": [
      "Enter a word:hayden\n",
      "aydenhay\n"
     ]
    }
   ],
   "source": [
    "word = input('Enter a word:')\n",
    "if word[0] in 'aeiou':\n",
    "    print(word + 'way')\n",
    "else:\n",
    "    print(word[1:] + word[0] + 'ay')"
   ]
  },
  {
   "cell_type": "code",
   "execution_count": 47,
   "id": "b28d30c9",
   "metadata": {},
   "outputs": [
    {
     "name": "stdout",
     "output_type": "stream",
     "text": [
      "Enter your name: Katie\n",
      "Hello, Katie.\n"
     ]
    }
   ],
   "source": [
    "name = input('Enter your name: ')\n",
    "print(f'Hello, {name}.')"
   ]
  },
  {
   "cell_type": "code",
   "execution_count": null,
   "id": "60918d38",
   "metadata": {},
   "outputs": [],
   "source": []
  }
 ],
 "metadata": {
  "kernelspec": {
   "display_name": "Python 3 (ipykernel)",
   "language": "python",
   "name": "python3"
  },
  "language_info": {
   "codemirror_mode": {
    "name": "ipython",
    "version": 3
   },
   "file_extension": ".py",
   "mimetype": "text/x-python",
   "name": "python",
   "nbconvert_exporter": "python",
   "pygments_lexer": "ipython3",
   "version": "3.10.4"
  }
 },
 "nbformat": 4,
 "nbformat_minor": 5
}
