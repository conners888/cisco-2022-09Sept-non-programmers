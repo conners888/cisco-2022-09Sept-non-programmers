{
 "cells": [
  {
   "cell_type": "code",
   "execution_count": 1,
   "id": "89b2756f",
   "metadata": {},
   "outputs": [
    {
     "name": "stdout",
     "output_type": "stream",
     "text": [
      "Christopher Vidal\n"
     ]
    }
   ],
   "source": [
    "print('Christopher Vidal')"
   ]
  },
  {
   "cell_type": "code",
   "execution_count": 2,
   "id": "7426cc4a",
   "metadata": {},
   "outputs": [
    {
     "ename": "SyntaxError",
     "evalue": "invalid syntax (1261635411.py, line 2)",
     "output_type": "error",
     "traceback": [
      "\u001b[0;36m  Cell \u001b[0;32mIn [2], line 2\u001b[0;36m\u001b[0m\n\u001b[0;31m    print($name)\u001b[0m\n\u001b[0m          ^\u001b[0m\n\u001b[0;31mSyntaxError\u001b[0m\u001b[0;31m:\u001b[0m invalid syntax\n"
     ]
    }
   ],
   "source": [
    "name = 'Chris'\n",
    "print($name)"
   ]
  },
  {
   "cell_type": "code",
   "execution_count": 3,
   "id": "0098f78b",
   "metadata": {},
   "outputs": [
    {
     "ename": "NameError",
     "evalue": "name 'name' is not defined",
     "output_type": "error",
     "traceback": [
      "\u001b[0;31m---------------------------------------------------------------------------\u001b[0m",
      "\u001b[0;31mNameError\u001b[0m                                 Traceback (most recent call last)",
      "Cell \u001b[0;32mIn [3], line 1\u001b[0m\n\u001b[0;32m----> 1\u001b[0m \u001b[38;5;28mprint\u001b[39m(\u001b[43mname\u001b[49m)\n",
      "\u001b[0;31mNameError\u001b[0m: name 'name' is not defined"
     ]
    }
   ],
   "source": [
    "print(name)\n",
    "    "
   ]
  },
  {
   "cell_type": "code",
   "execution_count": 4,
   "id": "94a08731",
   "metadata": {},
   "outputs": [
    {
     "name": "stdout",
     "output_type": "stream",
     "text": [
      "name\n"
     ]
    }
   ],
   "source": [
    "print('name')"
   ]
  },
  {
   "cell_type": "code",
   "execution_count": null,
   "id": "7c8296db",
   "metadata": {
    "scrolled": true
   },
   "outputs": [],
   "source": [
    "name = input('Enter your name: ')\n",
    "print('Sup,' + name + '!')"
   ]
  },
  {
   "cell_type": "code",
   "execution_count": null,
   "id": "54f81b2f",
   "metadata": {},
   "outputs": [],
   "source": [
    "name = input('Enter your name: ')\n",
    "print('Sup, ' + name + '!')"
   ]
  },
  {
   "cell_type": "code",
   "execution_count": null,
   "id": "b4734a2f",
   "metadata": {},
   "outputs": [],
   "source": [
    "name = input('Enter your name: ')\n",
    "print('Sup,' + name + ' !')"
   ]
  },
  {
   "cell_type": "code",
   "execution_count": null,
   "id": "5b68c305",
   "metadata": {},
   "outputs": [],
   "source": [
    "name = input('Enter your name: ')\n",
    "print('Sup, ' + name + '!')"
   ]
  },
  {
   "cell_type": "code",
   "execution_count": null,
   "id": "7e15a7a8",
   "metadata": {},
   "outputs": [],
   "source": [
    "print(name)"
   ]
  },
  {
   "cell_type": "code",
   "execution_count": 7,
   "id": "aab9883b",
   "metadata": {},
   "outputs": [
    {
     "name": "stdout",
     "output_type": "stream",
     "text": [
      "Babe magnet\n"
     ]
    }
   ],
   "source": [
    "print(name)"
   ]
  },
  {
   "cell_type": "code",
   "execution_count": 8,
   "id": "dd40f96f",
   "metadata": {},
   "outputs": [
    {
     "name": "stdout",
     "output_type": "stream",
     "text": [
      "Enter your name: lulu luinski\n",
      "Sup, lulu luinski!\n"
     ]
    }
   ],
   "source": [
    "name = input('Enter your name: ')\n",
    "print('Sup, ' + name + '!')"
   ]
  },
  {
   "cell_type": "code",
   "execution_count": 9,
   "id": "eb1f3d86",
   "metadata": {},
   "outputs": [
    {
     "name": "stdout",
     "output_type": "stream",
     "text": [
      "Enter your name: Bugs Bunny\n",
      "Sup, Bugs Bunny !\n"
     ]
    }
   ],
   "source": [
    "name = input('Enter your name: ')\n",
    "print('Sup, ' + name + ' !')"
   ]
  },
  {
   "cell_type": "code",
   "execution_count": null,
   "id": "9f1996c4",
   "metadata": {},
   "outputs": [],
   "source": []
  }
 ],
 "metadata": {
  "kernelspec": {
   "display_name": "Python 3 (ipykernel)",
   "language": "python",
   "name": "python3"
  },
  "language_info": {
   "codemirror_mode": {
    "name": "ipython",
    "version": 3
   },
   "file_extension": ".py",
   "mimetype": "text/x-python",
   "name": "python",
   "nbconvert_exporter": "python",
   "pygments_lexer": "ipython3",
   "version": "3.10.4"
  }
 },
 "nbformat": 4,
 "nbformat_minor": 5
}
